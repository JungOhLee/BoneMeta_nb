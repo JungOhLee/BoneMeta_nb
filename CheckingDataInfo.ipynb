{
 "cells": [
  {
   "cell_type": "code",
   "execution_count": 30,
   "id": "00c1b706",
   "metadata": {},
   "outputs": [],
   "source": [
    "import numpy as np\n",
    "import pandas as pd\n"
   ]
  },
  {
   "cell_type": "code",
   "execution_count": 31,
   "id": "2fa177cf",
   "metadata": {},
   "outputs": [],
   "source": [
    "V_INFO_PATH = '/workspace/DataInfo/data_info_V_2022_04_23.csv'\n",
    "VI_INFO_PATH = '/workspace/DataInfo/data_info_VI_2022_04_21.csv'"
   ]
  },
  {
   "cell_type": "code",
   "execution_count": 32,
   "id": "e6339a8c",
   "metadata": {},
   "outputs": [],
   "source": [
    "df_v = pd.read_csv(V_INFO_PATH)\n",
    "df_vi = pd.read_csv(VI_INFO_PATH)"
   ]
  },
  {
   "cell_type": "code",
   "execution_count": 33,
   "id": "0db71e28",
   "metadata": {},
   "outputs": [
    {
     "data": {
      "text/plain": [
       "Index(['Data', 'Case', 'Lesion Type', 'Lesion Location', 'Probability', 'I/V',\n",
       "       'File Name', 'Lesion Size', 'Background Size', 'Original Shape',\n",
       "       '1mm Resized Shape', 'Original Center', '1mm Resized Center',\n",
       "       'Pixel Size', 'Spine Shape', 'Spine Resized Shape', 'Spine Center',\n",
       "       'Spine Resized Shape.1', 'X Spacing', 'Y Spacing', 'Slice Interval'],\n",
       "      dtype='object')"
      ]
     },
     "execution_count": 33,
     "metadata": {},
     "output_type": "execute_result"
    }
   ],
   "source": [
    "df_v.columns"
   ]
  },
  {
   "cell_type": "code",
   "execution_count": null,
   "id": "518e1bb9",
   "metadata": {},
   "outputs": [],
   "source": [
    "df_v['Volume'] = df_v['Pixel Size'] * df_v['X Spacing'] * df_v['Y Spacing'] * df_v['Slice Interval'].apply(abs)\n",
    "small_lesion_idx = df_v['Volume'] < 66"
   ]
  },
  {
   "cell_type": "code",
   "execution_count": 56,
   "id": "d034524e",
   "metadata": {},
   "outputs": [],
   "source": [
    "new_df_v = df_v.loc[~small_lesion_idx,:].drop('Data', axis=1).drop_duplicates().reset_index(drop=True)"
   ]
  },
  {
   "cell_type": "code",
   "execution_count": 57,
   "id": "4ef83348",
   "metadata": {},
   "outputs": [],
   "source": [
    "new_df_v.to_csv('/workspace/DataInfo/data_info_V_2022_04_27.csv')"
   ]
  },
  {
   "cell_type": "code",
   "execution_count": 61,
   "id": "347524fd",
   "metadata": {},
   "outputs": [],
   "source": [
    "lytic_idx = new_df_v['Lesion Type'] == 'L'\n",
    "sclerotic_idx = new_df_v['Lesion Type'] == 'S'\n",
    "mixed_idx = new_df_v['Lesion Type'] == 'M'"
   ]
  },
  {
   "cell_type": "code",
   "execution_count": 64,
   "id": "9050fb73",
   "metadata": {},
   "outputs": [],
   "source": [
    "new_df_v.loc[lytic_idx,:].to_csv('/workspace/DataInfo/data_info_V_2022_04_27_lytic.csv')\n",
    "new_df_v.loc[sclerotic_idx,:].to_csv('/workspace/DataInfo/data_info_V_2022_04_27_sclerotic.csv')\n",
    "new_df_v.loc[mixed_idx,:].to_csv('/workspace/DataInfo/data_info_V_2022_04_27_mixed.csv')"
   ]
  },
  {
   "cell_type": "code",
   "execution_count": null,
   "id": "605a71bd",
   "metadata": {},
   "outputs": [],
   "source": []
  },
  {
   "cell_type": "code",
   "execution_count": null,
   "id": "9b17f30d",
   "metadata": {},
   "outputs": [],
   "source": []
  },
  {
   "cell_type": "code",
   "execution_count": 8,
   "id": "fd1447eb",
   "metadata": {},
   "outputs": [],
   "source": [
    "import os\n",
    "import pandas as pd\n",
    "import numpy as np\n",
    "import matplotlib.pyplot as plt\n",
    "\n",
    "%matplotlib inline\n",
    "df = pd.read_csv('/workspace/DataInfo/Tumor_vs_other 20220427_3.csv', header=0)"
   ]
  },
  {
   "cell_type": "code",
   "execution_count": 11,
   "id": "25ecd42a",
   "metadata": {},
   "outputs": [
    {
     "data": {
      "text/html": [
       "<div>\n",
       "<style scoped>\n",
       "    .dataframe tbody tr th:only-of-type {\n",
       "        vertical-align: middle;\n",
       "    }\n",
       "\n",
       "    .dataframe tbody tr th {\n",
       "        vertical-align: top;\n",
       "    }\n",
       "\n",
       "    .dataframe thead th {\n",
       "        text-align: right;\n",
       "    }\n",
       "</style>\n",
       "<table border=\"1\" class=\"dataframe\">\n",
       "  <thead>\n",
       "    <tr style=\"text-align: right;\">\n",
       "      <th></th>\n",
       "      <th>Visible</th>\n",
       "      <th>Type</th>\n",
       "      <th>Tumor</th>\n",
       "      <th>Bone</th>\n",
       "      <th>Diff</th>\n",
       "    </tr>\n",
       "  </thead>\n",
       "  <tbody>\n",
       "    <tr>\n",
       "      <th>0</th>\n",
       "      <td>V</td>\n",
       "      <td>S</td>\n",
       "      <td>488.36</td>\n",
       "      <td>127.99</td>\n",
       "      <td>360.37</td>\n",
       "    </tr>\n",
       "    <tr>\n",
       "      <th>1</th>\n",
       "      <td>V</td>\n",
       "      <td>S</td>\n",
       "      <td>636.52</td>\n",
       "      <td>223.79</td>\n",
       "      <td>412.73</td>\n",
       "    </tr>\n",
       "    <tr>\n",
       "      <th>2</th>\n",
       "      <td>V</td>\n",
       "      <td>S</td>\n",
       "      <td>981.13</td>\n",
       "      <td>207.34</td>\n",
       "      <td>773.79</td>\n",
       "    </tr>\n",
       "    <tr>\n",
       "      <th>3</th>\n",
       "      <td>V</td>\n",
       "      <td>S</td>\n",
       "      <td>563.30</td>\n",
       "      <td>206.18</td>\n",
       "      <td>357.12</td>\n",
       "    </tr>\n",
       "    <tr>\n",
       "      <th>4</th>\n",
       "      <td>V</td>\n",
       "      <td>S</td>\n",
       "      <td>485.49</td>\n",
       "      <td>110.48</td>\n",
       "      <td>375.01</td>\n",
       "    </tr>\n",
       "  </tbody>\n",
       "</table>\n",
       "</div>"
      ],
      "text/plain": [
       "  Visible Type   Tumor    Bone    Diff\n",
       "0       V    S  488.36  127.99  360.37\n",
       "1       V    S  636.52  223.79  412.73\n",
       "2       V    S  981.13  207.34  773.79\n",
       "3       V    S  563.30  206.18  357.12\n",
       "4       V    S  485.49  110.48  375.01"
      ]
     },
     "execution_count": 11,
     "metadata": {},
     "output_type": "execute_result"
    }
   ],
   "source": [
    "df.head()"
   ]
  },
  {
   "cell_type": "code",
   "execution_count": 29,
   "id": "1d979b70",
   "metadata": {},
   "outputs": [
    {
     "data": {
      "text/plain": [
       "Visible\n",
       "I    AxesSubplot(0.125,0.125;0.775x0.755)\n",
       "V    AxesSubplot(0.125,0.125;0.775x0.755)\n",
       "Name: Diff, dtype: object"
      ]
     },
     "execution_count": 29,
     "metadata": {},
     "output_type": "execute_result"
    },
    {
     "data": {
      "image/png": "[encoded data removed]",
      "text/plain": [
       "<Figure size 432x288 with 1 Axes>"
      ]
     },
     "metadata": {
      "needs_background": "light"
     },
     "output_type": "display_data"
    }
   ],
   "source": [
    "df.loc[df.Type=='L'].groupby(['Visible']).Diff.hist(bins=20, alpha=0.5)"
   ]
  },
  {
   "cell_type": "code",
   "execution_count": null,
   "id": "3c1a6e7e",
   "metadata": {},
   "outputs": [],
   "source": []
  }
 ],
 "metadata": {
  "kernelspec": {
   "display_name": "Python 3",
   "language": "python",
   "name": "python3"
  },
  "language_info": {
   "codemirror_mode": {
    "name": "ipython",
    "version": 3
   },
   "file_extension": ".py",
   "mimetype": "text/x-python",
   "name": "python",
   "nbconvert_exporter": "python",
   "pygments_lexer": "ipython3",
   "version": "3.6.9"
  }
 },
 "nbformat": 4,
 "nbformat_minor": 5
}
