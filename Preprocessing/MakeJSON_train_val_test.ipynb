{
 "cells": [
  {
   "cell_type": "code",
   "execution_count": 1,
   "id": "ba6b9bd5",
   "metadata": {},
   "outputs": [
    {
     "name": "stdout",
     "output_type": "stream",
     "text": [
      "images\timages_nii  labels  labels_nii\tlogs  models  preds  swinunetr\r\n"
     ]
    }
   ],
   "source": [
    "!ls /workspace/BoneMeta_all_1mm/"
   ]
  },
  {
   "cell_type": "code",
   "execution_count": 2,
   "id": "f47a3f5d",
   "metadata": {},
   "outputs": [],
   "source": [
    "import os\n",
    "import json"
   ]
  },
  {
   "cell_type": "code",
   "execution_count": 3,
   "id": "c93a41db",
   "metadata": {
    "scrolled": true
   },
   "outputs": [],
   "source": [
    "IMG_DIR = '/workspace/BoneMeta_all_1mm/images_nii'\n",
    "LABEL_DIR = '/workspace/BoneMeta_all_1mm/labels_nii'\n",
    "IMG_FILES = os.listdir('/workspace/BoneMeta_all_1mm/images')"
   ]
  },
  {
   "cell_type": "code",
   "execution_count": 4,
   "id": "102c2542",
   "metadata": {},
   "outputs": [],
   "source": [
    "TRAIN_FILES = ['KH027_20210801_Chest(+).npy', 'SN005_20191101_CT_Chest_+_3D_(contr.npy', 'BH091_20200104_Chest_CT_(contrast)_+_3D_(Chest_with_other_CT).npy', '000311_20190902_Chest_CT_(contrast).npy', 'BH023_20191101_Abdomen_&_pelvis_CT_(3D).npy', 'BH076_20180605_Chest_CT_(contrast)_+_3D_(Chest_with_other_CT).npy', 'BH121_20200301_Chest_CT_(contrast)_+_3D_(Chest_with_other_CT).npy', '000506_20201113_Chest_CT_(contrast).npy', 'BH069_20200505_Chest_CT_(contrast)_+_3D.npy', 'KH039_20210301_Chest_(-)_Routine.npy', 'KH042_20210501_Chest(+).npy', 'BH016_20151001_Abdomen_&_pelvis_CT_(3D).npy', 'BH104_20161219_Chest_CT_(contrast)_+_3D_(Chest_with_other_CT).npy', '000362_20191201_CT_Abdomen+Pelvis_Dynamic_(contrast).npy', 'BH035_20191101_GU_Kidney_&_bladder_CT_(3D).npy', '000423_20200401_CT_Abdomen+Pelvis_Dynamic_(contrast).npy', 'SN036_20190601_CT_Chest_+_3D_(contr.npy', 'BH101_20201109_Chest_CT_(Contrast)_+_3D(TS).npy', 'SN025_20200401_CT_Chest_+_3D_(contr.npy', '000364_20191217_Chest_CT_(contrast).npy', 'BH085_20200801_Abdomen_&_pelvis_CT.npy', 'KH023_20210901_Chest(+).npy', 'BH063_20200519_Chest_CT_(Non_contrast)_+_3D(Breast).npy', '000224_20190228_Chest_CT_(contrast).npy', 'BH116_20180606_GU_Abdomen_&_pelvis_CT_(3D).npy', 'BH023_20191101_Chest_CT_(contrast)_+_3D_(Chest_with_other_CT).npy', 'BH055_20200328_Chest_CT_(contrast)_+_3D_(Chest_with_other_CT).npy', 'KH002_20210301_Abdomen^00_AbdomenRoutine_(Adult).npy', '000370_20200101_CT_Abdomen+Pelvis_Post_(contrast).npy', '000363_20191222_Chest_3DCT_(contrast).npy', 'BH020_20191201_Chest_CT_(Non_contrast)_+_3D.npy', 'BH015_20190101_Chest_CT_(contrast)_+_3D_(Breast_with_other_CT).npy', 'KH016_20191101_Chest(+).npy', '000262_20190501_CT_Abdomen+Pelvis_Post_(contrast).npy', 'BH081_20190322_Chest_CT_(contrast)_+_3D_(Chest_with_other_CT).npy', '000282_20190701_CT_Abdomen+Pelvis_Post_(contrast).npy', 'SN042_20170901_CT_Chest_+_3D_(contr.npy', 'BH071_20160826_Chest_CT_(contrast)_+_3D.npy', '000356_20191024_Chest_CT_(contrast).npy', '000162_20180131_Chest_CT_(contrast).npy', '000269_20190601_CT_Abdomen+Pelvis_Dynamic_(contrast).npy', 'BH119_20200303_Abdomen_&_pelvis_CT_(3D).npy', 'BH043_20191001_Abdomen_&_pelvis_CT_(3D).npy', 'SN031_20160501_2-CT_Chest_Lung_cancer.npy', '000530_20210428_Chest_CT_(contrast).npy', 'BH005_20170707_Chest_CT_(contrast)_+_3D_(Breast_with_other_CT).npy', '000363_20191201_CT_Abdomen+Pelvis_Pre-Post_(contrast).npy', 'KH001_20210501_Chest(+).npy', 'KH031_20210801_Chest(+).npy', 'KH010_20201201_Chest(+).npy', '000370_20200117_Chest_CT_(contrast).npy', 'BH037_20171125_Abdomen_&_pelvis_CT_(3D).npy', '000080_20180911_Chest_CT_(contrast).npy', '000262_20190318_Chest_CT_(contrast).npy', 'BH117_20180506_Chest_CT_(contrast)_+_3D_(Chest_with_other_CT).npy', 'BH034_20190923_GU_OBGY,Abd-pelvis_CT(pre&post)_(3D).npy', 'BH123_20201023_Abdomen_&_pelvis_CT.npy', 'BH061_20190315_Abdomen_&_pelvis_CT_(3D).npy', 'KH007_20200601_Chest(+)_+_Abdomen_&_Pelvis_(+).npy', 'BH028_20190801_Chest_CT_(contrast)_+_3D.npy', '000085_20180829_Chest_CT_(contrast).npy', '000010_20181214_CT_Abdomen+Pelvis_Dynamic_(contrast).npy', '000435_20200401_CT_Abdomen+Pelvis_Dynamic_(contrast).npy', 'BH019_20191101_Thorax^02_Chest_CON_(Adult).npy', '000386_20200204_Chest_CT_(contrast).npy', '000466_20210128_CT_Abdomen+Pelvis_Post_(contrast).npy', 'BH098_20200626_Chest_CT_(contrast)_+_3D_(Chest_with_other_CT).npy', '000325_20190919_Chest_CT_(contrast).npy', '000481_20210305_Thorax^Lung_Pre_(Adult).npy', 'BH108_20180228_Chest_CT_(contrast)_+_3D.npy', 'KH014_20190701_Chest(+).npy', 'SN051_20170401_CT_Chest_+_3D_(contrast_NO_CM).npy', 'BH056_20200721_Chest_CT_(contrast)_+_3D.npy', 'KH014_20190701_IM_Chest(+)_+_Abdomen_&_Pelvis_(+).npy', 'BH091_20200104_GU_Kidney_&_bladder_CT_(3D).npy', 'BH064_20200605_Chest_CT_(contrast)_+_3D_(Chest_with_other_CT).npy', 'BH070_20160823_Abdomen_&_pelvis_CT_(3D).npy', 'BH089_20200811_Abdomen_&_pelvis_CT.npy', 'KH043_20210601_Thorax^00_Fl_Chest_Routine_(Adult).npy', 'BH002_20190701_Chest_CT_(Non_contrast)_+_3D.npy', '000279_20190614_Chest_3DCT_(contrast).npy', 'BH031_20160301_CT_Angio_+_3D_Pulmonary_artery_(Embolism).npy', 'BH080_20181210_Abdomen_&_pelvis_CT_(3D).npy', 'BH036_20180301_GU_Kidney_&_bladder_CT_(3D).npy', '000272_20190601_CT_Abdomen+Pelvis_Dynamic_(contrast).npy', '000079_20180911_Pulmonary_artery_CT_Angio+3D_(contrast).npy', '000022_20180830_Chest_CT_(contrast).npy', 'KH026_20210801_Chest(+).npy', 'BH120_20200406_Chest_CT_(contrast)_+_3D_(Chest_with_other_CT).npy', 'BH073_20201223_Chest_CT_(contrast)_+_3D_(Chest_with_other_CT).npy', 'BH100_20201007_Thorax^02_Chest_CON_(Adult).npy', 'BH086_20190812_Chest_CT_(Contrast)_+_3D(TS).npy', '000322_20190913_Chest_CT_(contrast).npy', 'BH095_20200727_Abdomen_&_pelvis_CT_(3D).npy', 'BH114_20180920_Chest_CT_(contrast)_+_3D_(Chest_with_other_CT).npy', 'KH016_20191101_Chest(+)_+_Abdomen_&_Pelvis(+).npy', 'SN028_20160801_CT_Abdomen+Pelvis_3D_(contrast).npy', 'SN055_20170301_CT_Chest_Low_Dose_+.npy', 'KH037_20210401_Chest(+).npy', '000309_20190823_Chest_CT_(contrast).npy', 'SN019_20190801_CT_Abdomen+Pelvis_Ar.npy', '000404_20200201_CT_Abdomen+Pelvis_Dynamic_(contrast).npy', '000528_20210514_Chest_CT_(contrast).npy', '000301_20190827_Chest_CT_(contrast).npy', '000424_20200218_Chest_CT_(contrast).npy', 'BH061_20190315_Chest_CT_(contrast)_+_3D_(Chest_with_other_CT).npy', 'BH120_20200304_Chest_CT_(contrast)_+_3D.npy', 'BH105_20160820_Chest_CT_(contrast)_+_3D.npy', 'BH123_20201023_Chest_CT_(contrast)_+_3D_(Chest_with_other_CT).npy', 'BH005_20170701_Abdomen_&_pelvis_CT_(3D).npy', 'BH118_20200617_Liver_CT_(LC_or_CLD,_3D).npy', '000262_20190529_Chest_CT_(contrast).npy', 'BH013_20191001_Chest_CT_(contrast)_+_3D_(Chest_with_other_CT).npy', '000481_20200722_Chest_CT_(noncontrast).npy', 'BH012_20180401_Chest_CT_(contrast)_+_3D_(Chest_with_other_CT).npy', 'BH054_20191122_Abdomen^00_Liver_CT_(Adult).npy', '000011_20181207_CT_Abdomen+Pelvis_Post_(contrast).npy', 'BH059_20201013_Abdomen_&_pelvis_CT.npy', 'BH082_20200416_Chest_CT_(contrast)_+_3D.npy', 'BH010_20161101_Chest_CT_(contrast)_+_3D_(Breast_with_other_CT).npy', 'BH121_20200301_Abdomen_&_pelvis_CT_(3D).npy', 'SN007_20190701_Thorax^05_Chest_Lung_Cancer_3D_(Adult).npy', '000409_20200310_Chest_CT_(contrast).npy', 'BH111_20161020_CT_Angio_+_3D_Coronary,_Chest.npy', 'SN031_20160501_CT_Abdomen+Pelvis_Ar.npy', 'BH118_20200702_Chest_CT_(contrast)_+_3D.npy', '000560_20210706_Chest_CT_(contrast).npy', '000322_20190901_CT_Abdomen+Pelvis_Dynamic_(contrast).npy', '000048_20190501_CT_Abdomen+Pelvis_Uro_(contrast).npy', 'SN019_20190801_CT_Chest_+_3D_(contr.npy', '000506_20201110_CT_Urography_(contrast).npy', '000423_20200407_Chest_CT_(contrast).npy', 'BH032_20180701_Chest_CT_(contrast)_+_3D_(Breast_with_other_CT).npy', 'KH033_20210701_Chest(+).npy', 'BH106_20200613_Abdomen_&_pelvis_CT_(3D).npy', 'BH114_20180920_GU_Kidney_&_bladder_CT_(3D).npy', 'BH008_20190701_Abdomen_&_pelvis_CT_(3D).npy', 'BH067_20191017_Chest_CT_(contrast)_+_3D_(Chest_with_other_CT).npy', '000475_20210210_Chest_CT_(contrast).npy', '000417_20200331_Chest_CT_(contrast).npy', 'BH026_20190601_Abdomen_&_pelvis_CT_(3D).npy', '000262_20190319_CT_Abdomen+Pelvis_Dynamic_(contrast).npy', 'BH008_20190701_Chest_CT_(contrast)_+_3D_(Chest_with_other_CT).npy', 'BH015_20190101_Abdomen_&_pelvis_CT_(3D).npy', 'BH090_20200924_Abdomen_&_pelvis_CT.npy', 'BH089_20200803_Chest_CT_(Contrast)_+_3D(TS).npy', '000305_20190801_CT_Acute_Abdomen_(contrast).npy', 'BH106_20200613_Chest_CT_(contrast)_+_3D_(Breast_with_other_CT).npy', 'BH120_20200406_Abdomen_&_pelvis_CT_(3D).npy', '000278_20190620_Chest_CT_(contrast).npy', 'BH012_20180401_Abdomen_&_pelvis_CT_(3D).npy', 'SN002_20190801_CT_Chest_+_3D_(contr.npy', 'BH016_20151001_Chest_CT_(contrast)_+_3D_(Chest_with_other_CT).npy', '000560_20210706_CT_Abdomen+Pelvis_Dynamic_(contrast).npy', 'KH032_20210701_Chest(+).npy', 'BH064_20200605_Abdomen_&_pelvis_CT_(3D).npy', '000352_20191001_CT_Abdomen+Pelvis_Dynamic_(contrast).npy', '000424_20200312_Chest_CT_(noncontrast).npy', '000269_20190325_CT_Abdomen+Pelvis_Dynamic_(contrast).npy', 'BH107_20200510_Chest_CT_(Contrast)_+_3D(TS).npy', 'SN005_20191001_Abdomen^03_LIVER_(Adult).npy', '000242_20190409_Chest_CT_(contrast).npy', 'BH010_20161101_Abdomen_&_pelvis_CT_(3D).npy', '000291_20190718_Chest_CT_(contrast).npy', '000296_20190726_Chest_CT_(contrast).npy', 'BH081_20190322_Abdomen_&_pelvis_CT_(3D).npy', 'KH030_20210901_Chest_Low-Dose_Screeni.npy', 'KH036_20210401_Chest(+).npy', '000330_20190926_Chest_CT_(contrast).npy', 'KH010_20201201_Chest(+)_+_Abdomen_&_P.npy', '000362_20191214_Chest_CT_(contrast).npy', 'KH028_20210401_Thorax^00_Fl_Chest_Routine_(Adult).npy', 'KH040_20210301_Chest(+).npy', 'SN051_20170401_CT_Abdomen+Pelvis_Arterial+Portal_(contrast).npy', '000400_20200201_CT_Biliary_(contrast).npy', '000368_20200101_CT_Abdomen+Pelvis_Dynamic_(contrast).npy', '000302_20190726_Chest_CT_(contrast).npy', 'BH048_20190501_Chest_CT_(contrast)_+_3D_(Breast_with_other_CT).npy', 'BH078_20200522_Abdomen_&_pelvis_CT_(3D).npy', '000269_20181016_CT_Abdomen+Pelvis_Dynamic_(contrast).npy', '000352_20191017_Chest_CT_(contrast).npy', '000356_20190901_CT_Abdomen+Pelvis_Dynamic_(contrast).npy', 'BH104_20161219_Abdomen_&_pelvis_CT_(3D).npy', 'BH075_20200721_Chest_CT_(Contrast)_+_3D(Breast).npy', 'BH029_20200101_Chest_HRCT_(lung_cancer).npy', '000069_20180319_Chest_CT_(contrast).npy', '000025_20180808_Chest_CT_(contrast).npy', '000270_20190608_Chest_CT_(contrast).npy', '000409_20200301_CT_Biliary_(contrast).npy', 'BH073_20201223_Abdomen_&_pelvis_CT.npy', 'BH113_20170914_Liver_CT_(LC_or_CLD,_3D).npy', '000212_20190324_Chest_CT_(noncontrast).npy', '000494_20210405_Chest_CT_(contrast).npy', 'BH108_20180223_Liver_CT_(LC_or_CLD,_3D).npy', 'SN042_20170901_CT_Abdomen+Pelvis_3D.npy', '000492_20210401_CT_Abdomen+Pelvis_Pre-Post_(contrast).npy', 'KH025_20211001_Chest(+).npy', '000021_20181227_Chest_CT_(contrast).npy', '000332_20191001_CT_Abdomen+Pelvis_Dynamic_(contrast).npy', '000391_20200216_Thoracic_Aorta_CT_Angio+3D_(contrast).npy', '000372_20200101_CT_Abdomen+Pelvis_Dynamic_(contrast).npy', 'SN012_20150801_Abdomen^01_Abdomen_Pelvis_Chest_(Adult).npy', 'SN054_20170201_CT_Chest_Lung_cancer+3D(contrast).npy', '000011_20181207_Chest_CT_(contrast).npy', 'BH070_20160823_Chest_CT_(contrast)_+_3D_(Chest_with_other_CT).npy', 'KH024_20211001_Chest(+).npy', 'BH074_20201113_Abdomen^00_Abd_CT_(Adult).npy', '000291_20190701_CT_Abdomen+Pelvis_Dynamic_(contrast).npy', 'BH109_20181210_Chest_CT_(contrast)_+_3D_(Breast_with_other_CT).npy', '000376_20200101_CT_Abdomen+Pelvis_Dynamic_(contrast).npy', 'BH117_20180506_Abdomen_&_pelvis_CT_(3D).npy', 'BH043_20191001_Chest_CT_(contrast)_+_3D_(Chest_with_other_CT).npy', 'KH009_20200801_Chest(+).npy', '000376_20200114_Chest_CT_(contrast).npy', '000400_20200210_Chest_CT_(contrast).npy', '000269_20181214_CT_Abdomen+Pelvis_Dynamic_(contrast).npy', 'BH037_20171125_Chest_CT_(contrast)_+_3D_(Chest_with_other_CT).npy', 'KH007_20200601_Chest(+).npy', '000025_20180808_CT_Abdomen+Pelvis_Dynamic_(contrast).npy', '000301_20190801_CT_Acute_Abdomen_(contrast).npy', '000309_20190801_CT_Abdomen+Pelvis_Dynamic_(contrast).npy', 'BH076_20180605_GU_Abdomen_&_pelvis_CT_(3D).npy', 'BH007_20190801_Chest_CT_(contrast)_+_3D_(Chest_with_other_CT).npy', '000557_20210621_CT_Abdomen+Pelvis_Post_(contrast).npy', 'BH079_20200921_Low_dose_Chest_CT_+_3D(insured).npy', 'BH119_20200227_Chest_CT_(contrast)_+_3D.npy', 'BH066_20190525_Chest_CT_(contrast)_+_3D_(Chest_with_other_CT).npy', 'BH045_20181001_Chest_CT_(contrast)_+_3D_(Chest_with_other_CT).npy', '000282_20190410_CT_Abdomen+Pelvis_Dynamic_(contrast).npy', 'BH051_20190301_GU_Kidney_&_bladder_CT_(3D).npy', '000557_20210621_Chest_CT_(contrast).npy', 'BH098_20200626_GU_Kidney_&_bladder_CT_(3D).npy', '000304_20190124_CT_Liver_(contrast).npy', '000466_20210125_Chest_CT_(contrast).npy', '000272_20190614_Chest_CT_(contrast).npy', 'KH009_20200801_Chest(+)_+_Abdomen_&_Pelvis_(+).npy', '000541_20210520_Chest_CT_(contrast).npy', '000435_20200420_Chest_CT_(contrast).npy', '000481_20210409_CT_Liver_(contrast).npy', 'BH087_20190314_Abdomen_&_pelvis_CT_(3D).npy', '000533_20210507_CT_Liver_(contrast).npy', '000404_20200305_Chest_CT_(contrast).npy', 'BH007_20190801_Abdomen_&_pelvis_CT_(3D).npy', '000308_20190826_Chest_CT_(contrast).npy', 'KH038_20210401_Chest(+).npy', 'BH034_20190901_Chest_CT_(contrast)_+_3D_(Chest_with_other_CT).npy', '000344_20191125_Chest_CT_(contrast).npy', 'BH116_20180606_Chest_CT_(contrast)_+_3D_(Breast_with_other_CT).npy', 'KH002_20210301_Thorax^00_Fl_Chest_Routine_(Adult).npy']\n",
    "VAL_FILES = ['BH099_20200806_Abdomen_&_pelvis_CT.npy', '000019_20181018_Chest_CT_(contrast).npy', 'SN017_20190701_Thorax^05_Chest_Lung_Cancer_3D_(Adult).npy', '000251_20190429_Chest_CT_(contrast).npy', 'SN035_20180101_CT_Stomach+Pelvis_Arterial+Portal(contrast).npy', '000232_20190423_Chest_CT_(contrast).npy', 'BH027_20191001_Chest_CT_(Contrast)_+_3D(TS).npy', 'BH040_20200101_CT_Angio_+_3D_Pulmonary_artery_(Embolism).npy', 'BH024_20190501_Chest_CT_(contrast)_+_3D_(Breast_with_other_CT).npy', 'BH027_20191001_L-spine_CT_(3D).npy', '000286_20190710_[외부_CT_19-07-10]Chest_CT_contrast.npy', '000232_20190401_CT_Abdomen+Pelvis_Dynamic_(contrast).npy', '000251_20190701_CT_Abdomen+Pelvis_Dynamic_(contrast).npy', 'BH099_20200806_Chest_CT_(contrast)_+_3D_(Chest_with_other_CT).npy', '000285_20190807_Chest_CT_(contrast).npy', 'BH024_20190501_Abdomen_&_pelvis_CT_(3D).npy', 'BH021_20181001_Abdomen_&_pelvis_CT_(3D).npy', '000316_20190715_Spine^L_SPINE_(Adult).npy', '000193_20190114_Chest_CT_(contrast).npy', 'SN056_20170601_Thorax^01_Lung_Cancer_3D_(Adult).npy', '000316_20190627_Chest_CT_(contrast).npy', '000251_20190703_Chest_CT_(contrast).npy', 'BH110_20200616_Chest_CT_(contrast)_+_3D_(Chest_with_other_CT).npy', 'BH006_20170801_Chest_CT_(Contrast)_+_3D(Breast).npy', '000450_20200528_CT_Abdomen+Pelvis_Post_(contrast).npy', 'BH021_20181001_Chest_CT_(contrast)_+_3D_(Chest_with_other_CT).npy', 'BH065_20201013_Low_dose_Chest_CT_+_3D(insured).npy', '000019_20190601_CT_Abdomen+Pelvis_Dynamic_(contrast).npy', 'BH060_20200413_Chest_CT_(contrast)_+_3D.npy', 'SN016_20190901_CT_Abdomen+Pelvis_Ar.npy', '000450_20200512_Chest_CT_(contrast).npy', '000285_20190801_CT_Abdomen+Pelvis_Pre-Post_(contrast).npy', 'BH062_20201104_Chest_CT_(contrast)_+_3D_(Chest_with_other_CT).npy', '000251_20190429_CT_Abdomen+Pelvis_Dynamic_(contrast).npy', '000019_20190613_Chest_CT_(contrast).npy', 'SN004_20190901_CT_Chest_+_3D_(contrast).npy', '000286_20190701_CT_Abdomen+Pelvis_Dynamic_(contrast).npy']\n",
    "TEST_FILES = ['000214_20190325_Chest_CT_(contrast).npy', '000234_20190401_CT_Abdomen+Pelvis_Dynamic_(contrast).npy', '000234_20190419_Chest_CT_(contrast).npy', '000236_20190401_CT_Abdomen+Pelvis_Post_(contrast).npy', '000244_20190501_CT_Abdomen+Pelvis_Post_(contrast).npy', '000255_20190418_Chest_CT_(contrast).npy', '000260_20190501_CT_Liver_(contrast).npy', '000260_20190522_Chest_CT_(contrast).npy', '000276_20190604_Chest_CT_(contrast).npy', '000281_20190701_Chest_CT_(contrast).npy', '000288_20190701_CT_Abdomen+Pelvis_Dynamic_(contrast).npy', '000298_20190726_Chest_CT_(contrast).npy', '000314_20190827_Chest_CT_(contrast).npy', '000314_20190901_CT_Acute_Abdomen_(contrast).npy', '000354_20191001_CT_Abdomen+Pelvis_Post_(contrast).npy', '000354_20191022_Chest_CT_(contrast).npy', '000355_20190901_CT_Abdomen+Pelvis_Dynamic_(contrast).npy', '000355_20191023_Chest_CT_(contrast).npy', '000383_20200121_Chest_CT_(contrast).npy', 'BH001_20190401_Chest_CT_(Non_contrast)_+_3D.npy', 'BH001_20190501_Abdomen_&_pelvis_CT_(3D).npy', 'BH009_20180301_Abdomen_&_pelvis_CT_(3D).npy', 'BH009_20180301_Chest_CT_(contrast)_+_3D_(TS_with_other_CT).npy', 'BH014_20181201_Abdomen_&_pelvis_CT_(3D).npy', 'BH014_20181201_Chest_CT_(contrast)_+_3D_(Chest_with_other_CT).npy', 'BH017_20191201_Abdomen_&_pelvis_CT_(3D).npy', 'BH017_20191201_Chest_CT_(contrast)_+_3D_(Chest_with_other_CT).npy', 'BH022_20190101_Thorax^03_Chest_NON_(Adult).npy', 'BH047_20180901_Abdomen_&_pelvis_CT_(3D).npy', 'BH047_20180901_Chest_CT_(contrast)_+_3D_(Chest_with_other_CT).npy', 'BH052_20190901_Abdomen_&_pelvis_CT_(3D).npy', 'BH052_20190901_Chest_CT_(contrast)_+_3D_(Chest_with_other_CT).npy', 'BH057_20191227_Abdomen_&_pelvis_CT_(3D).npy', 'BH057_20191227_Chest_CT_(contrast)_+_3D_(Chest_with_other_CT).npy', 'BH058_20180918_Chest_CT_(contrast)_+_3D.npy', 'BH112_20190201_Abdomen_&_pelvis_CT_(3D).npy', 'BH112_20190201_Chest_CT_(contrast)_+_3D_(Chest_with_other_CT).npy', 'SN016_20190901_CT_Chest_+_3D_(contr.npy', 'SN028_20160801_CT_Chest_+_3D_(contrast).npy']\n",
    "\n",
    "# EXCEPTIONS = ['BH040_20200101_CT Angio + 3D Pulmonary artery (Embolism).npy', 'BH040_20200101_CT Angio + 3D Pulmonary artery (Embolism) (2).npy'] # 모델에서 data info 만들때 가끔 오류남.\n",
    "EXCEPTIONS = '''000273_20190531_Chest_CT_(contrast).npy\n",
    "000439_20200624_Chest_CT_(contrast).npy\n",
    "000557_20210621_Chest_CT_(contrast).npy\n",
    "BH002_20190701_Chest_CT_(Non_contrast)_+_3D.npy\n",
    "BH091_20200104_Chest_CT_(contrast)_+_3D_(Chest_with_other_CT).npy\n",
    "BH091_20200104_Chest_CT_(contrast)_+_3D_(Chest_with_other_CT).npy\n",
    "000350_20191001_CT_Abdomen+Pelvis_Dynamic_(contrast).npy\n",
    "000352_20191017_Chest_CT_(contrast).npy\n",
    "000354_20191022_Chest_CT_(contrast).npy\n",
    "000391_20200216_Thoracic_Aorta_CT_Angio+3D_(contrast).npy\n",
    "BH027_20191001_L-spine_CT_(3D).npy\n",
    "000270_20190601_CT_Abdomen+Pelvis_Dynamic_(contrast).npy\n",
    "000270_20190608_Chest_CT_(contrast).npy\n",
    "BH040_20200101_CT_Angio_+_3D_Pulmonary_artery_(Embolism).npy\n",
    "BH118_20200617_Liver_CT_(LC_or_CLD,_3D).npy\n",
    "000424_20200312_Chest_CT_(noncontrast).npy\n",
    "000424_20200218_Chest_CT_(contrast).npy\n",
    "000325_20190919_Chest_CT_(contrast).npy\n",
    "BH069_20200505_Chest_CT_(contrast)_+_3D.npy'''.split('\\n')\n",
    "\n",
    "TRAIN_FILES = list(set(TRAIN_FILES).intersection(set(IMG_FILES)) - set(EXCEPTIONS))\n",
    "VAL_FILES = list(set(VAL_FILES).intersection(set(IMG_FILES)) - set(EXCEPTIONS))\n",
    "TEST_FILES = list(set(TEST_FILES).intersection(set(IMG_FILES)) - set(EXCEPTIONS))\n",
    "\n",
    "TRAIN_FILES = list(set(TRAIN_FILES) - set(VAL_FILES) - set(TEST_FILES))\n",
    "VAL_FILES = list(set(VAL_FILES))\n",
    "TEST_FILES = list(set(TEST_FILES))"
   ]
  },
  {
   "cell_type": "code",
   "execution_count": 5,
   "id": "c11589f8",
   "metadata": {},
   "outputs": [
    {
     "name": "stdout",
     "output_type": "stream",
     "text": [
      "\n",
      "train: 238\n",
      "val: 35\n",
      "test: 30\n",
      "total: 303\n",
      "\n"
     ]
    }
   ],
   "source": [
    "print(f'''\n",
    "train: {len(TRAIN_FILES)}\n",
    "val: {len(VAL_FILES)}\n",
    "test: {len(TEST_FILES)}\n",
    "total: {len(TRAIN_FILES + VAL_FILES + TEST_FILES)}\n",
    "''')"
   ]
  },
  {
   "cell_type": "code",
   "execution_count": 7,
   "id": "fae28872",
   "metadata": {},
   "outputs": [],
   "source": [
    "data_json =  {\n",
    "\"description\": \"bone metastasis detection\",\n",
    "\"labels\": {\n",
    "    \"0\": \"background\",\n",
    "    \"1\": \"metastasis\"\n",
    "},\n",
    "\"licence\": \"yt\",\n",
    "\"modality\": {\n",
    "    \"0\": \"CT\"\n",
    "},\n",
    "\"name\": \"bonemeta\",\n",
    "\"numTest\": 30,\n",
    "\"numTraining\": 238,\n",
    "\"reference\": \"SNUH\",\n",
    "\"release\": \"beta 06/24/2022\",\n",
    "\"tensorImageSize\": \"3D\",\n",
    "\"test\": [],\n",
    "\"training\": [],\n",
    "\"validation\": []\n",
    "}"
   ]
  },
  {
   "cell_type": "code",
   "execution_count": 8,
   "id": "52c6c5d6",
   "metadata": {},
   "outputs": [],
   "source": [
    "def to_nifti_name(file_name):\n",
    "    nifti_name = file_name.split('.')[0] + '.nii.gz'\n",
    "    return nifti_name\n",
    "\n",
    "def make_image_label_dict(file):\n",
    "    nifti_file = to_nifti_name(file)\n",
    "    image_path = os.path.join(IMG_DIR, nifti_file)\n",
    "    label_path = os.path.join(LABEL_DIR, nifti_file)\n",
    "    image_label_dict = {\"image\": image_path, \"label\": label_path}\n",
    "    return image_label_dict"
   ]
  },
  {
   "cell_type": "code",
   "execution_count": 9,
   "id": "8f2ccb6c",
   "metadata": {},
   "outputs": [],
   "source": [
    "for file in TRAIN_FILES:\n",
    "    image_label_dict = make_image_label_dict(file)\n",
    "    data_json[\"training\"].append(image_label_dict)\n",
    "    \n",
    "for file in VAL_FILES: \n",
    "    image_label_dict = make_image_label_dict(file)\n",
    "    data_json[\"validation\"].append(image_label_dict)\n",
    "\n",
    "for file in TEST_FILES: \n",
    "    image_label_dict = make_image_label_dict(file)\n",
    "    data_json[\"test\"].append(image_label_dict)"
   ]
  },
  {
   "cell_type": "code",
   "execution_count": 10,
   "id": "0998e164",
   "metadata": {},
   "outputs": [
    {
     "data": {
      "text/plain": [
       "{'description': 'bone metastasis detection',\n",
       " 'labels': {'0': 'background', '1': 'metastasis'},\n",
       " 'licence': 'yt',\n",
       " 'modality': {'0': 'CT'},\n",
       " 'name': 'bonemeta',\n",
       " 'numTest': 4,\n",
       " 'numTraining': 16,\n",
       " 'reference': 'SNUH',\n",
       " 'release': 'beta 06/24/2022',\n",
       " 'tensorImageSize': '3D',\n",
       " 'test': [{'image': '/workspace/BoneMeta_all_1mm/images_nii/000260_20190522_Chest_CT_(contrast).nii.gz',\n",
       "   'label': '/workspace/BoneMeta_all_1mm/labels_nii/000260_20190522_Chest_CT_(contrast).nii.gz'},\n",
       "  {'image': '/workspace/BoneMeta_all_1mm/images_nii/BH001_20190501_Abdomen_&_pelvis_CT_(3D).nii.gz',\n",
       "   'label': '/workspace/BoneMeta_all_1mm/labels_nii/BH001_20190501_Abdomen_&_pelvis_CT_(3D).nii.gz'},\n",
       "  {'image': '/workspace/BoneMeta_all_1mm/images_nii/000281_20190701_Chest_CT_(contrast).nii.gz',\n",
       "   'label': '/workspace/BoneMeta_all_1mm/labels_nii/000281_20190701_Chest_CT_(contrast).nii.gz'},\n",
       "  {'image': '/workspace/BoneMeta_all_1mm/images_nii/000255_20190418_Chest_CT_(contrast).nii.gz',\n",
       "   'label': '/workspace/BoneMeta_all_1mm/labels_nii/000255_20190418_Chest_CT_(contrast).nii.gz'}],\n",
       " 'training': [{'image': '/workspace/BoneMeta_all_1mm/images_nii/SN019_20190801_CT_Abdomen+Pelvis_Ar.nii.gz',\n",
       "   'label': '/workspace/BoneMeta_all_1mm/labels_nii/SN019_20190801_CT_Abdomen+Pelvis_Ar.nii.gz'},\n",
       "  {'image': '/workspace/BoneMeta_all_1mm/images_nii/BH086_20190812_Chest_CT_(Contrast)_+_3D(TS).nii.gz',\n",
       "   'label': '/workspace/BoneMeta_all_1mm/labels_nii/BH086_20190812_Chest_CT_(Contrast)_+_3D(TS).nii.gz'},\n",
       "  {'image': '/workspace/BoneMeta_all_1mm/images_nii/000404_20200305_Chest_CT_(contrast).nii.gz',\n",
       "   'label': '/workspace/BoneMeta_all_1mm/labels_nii/000404_20200305_Chest_CT_(contrast).nii.gz'},\n",
       "  {'image': '/workspace/BoneMeta_all_1mm/images_nii/BH064_20200605_Abdomen_&_pelvis_CT_(3D).nii.gz',\n",
       "   'label': '/workspace/BoneMeta_all_1mm/labels_nii/BH064_20200605_Abdomen_&_pelvis_CT_(3D).nii.gz'},\n",
       "  {'image': '/workspace/BoneMeta_all_1mm/images_nii/BH048_20190501_Chest_CT_(contrast)_+_3D_(Breast_with_other_CT).nii.gz',\n",
       "   'label': '/workspace/BoneMeta_all_1mm/labels_nii/BH048_20190501_Chest_CT_(contrast)_+_3D_(Breast_with_other_CT).nii.gz'},\n",
       "  {'image': '/workspace/BoneMeta_all_1mm/images_nii/000272_20190614_Chest_CT_(contrast).nii.gz',\n",
       "   'label': '/workspace/BoneMeta_all_1mm/labels_nii/000272_20190614_Chest_CT_(contrast).nii.gz'},\n",
       "  {'image': '/workspace/BoneMeta_all_1mm/images_nii/BH121_20200301_Chest_CT_(contrast)_+_3D_(Chest_with_other_CT).nii.gz',\n",
       "   'label': '/workspace/BoneMeta_all_1mm/labels_nii/BH121_20200301_Chest_CT_(contrast)_+_3D_(Chest_with_other_CT).nii.gz'},\n",
       "  {'image': '/workspace/BoneMeta_all_1mm/images_nii/BH076_20180605_GU_Abdomen_&_pelvis_CT_(3D).nii.gz',\n",
       "   'label': '/workspace/BoneMeta_all_1mm/labels_nii/BH076_20180605_GU_Abdomen_&_pelvis_CT_(3D).nii.gz'},\n",
       "  {'image': '/workspace/BoneMeta_all_1mm/images_nii/KH007_20200601_Chest(+).nii.gz',\n",
       "   'label': '/workspace/BoneMeta_all_1mm/labels_nii/KH007_20200601_Chest(+).nii.gz'},\n",
       "  {'image': '/workspace/BoneMeta_all_1mm/images_nii/000356_20190901_CT_Abdomen+Pelvis_Dynamic_(contrast).nii.gz',\n",
       "   'label': '/workspace/BoneMeta_all_1mm/labels_nii/000356_20190901_CT_Abdomen+Pelvis_Dynamic_(contrast).nii.gz'},\n",
       "  {'image': '/workspace/BoneMeta_all_1mm/images_nii/000330_20190926_Chest_CT_(contrast).nii.gz',\n",
       "   'label': '/workspace/BoneMeta_all_1mm/labels_nii/000330_20190926_Chest_CT_(contrast).nii.gz'},\n",
       "  {'image': '/workspace/BoneMeta_all_1mm/images_nii/000262_20190319_CT_Abdomen+Pelvis_Dynamic_(contrast).nii.gz',\n",
       "   'label': '/workspace/BoneMeta_all_1mm/labels_nii/000262_20190319_CT_Abdomen+Pelvis_Dynamic_(contrast).nii.gz'},\n",
       "  {'image': '/workspace/BoneMeta_all_1mm/images_nii/000021_20181227_Chest_CT_(contrast).nii.gz',\n",
       "   'label': '/workspace/BoneMeta_all_1mm/labels_nii/000021_20181227_Chest_CT_(contrast).nii.gz'},\n",
       "  {'image': '/workspace/BoneMeta_all_1mm/images_nii/SN031_20160501_CT_Abdomen+Pelvis_Ar.nii.gz',\n",
       "   'label': '/workspace/BoneMeta_all_1mm/labels_nii/SN031_20160501_CT_Abdomen+Pelvis_Ar.nii.gz'},\n",
       "  {'image': '/workspace/BoneMeta_all_1mm/images_nii/BH078_20200522_Abdomen_&_pelvis_CT_(3D).nii.gz',\n",
       "   'label': '/workspace/BoneMeta_all_1mm/labels_nii/BH078_20200522_Abdomen_&_pelvis_CT_(3D).nii.gz'},\n",
       "  {'image': '/workspace/BoneMeta_all_1mm/images_nii/000262_20190501_CT_Abdomen+Pelvis_Post_(contrast).nii.gz',\n",
       "   'label': '/workspace/BoneMeta_all_1mm/labels_nii/000262_20190501_CT_Abdomen+Pelvis_Post_(contrast).nii.gz'}],\n",
       " 'validation': [{'image': '/workspace/BoneMeta_all_1mm/images_nii/000450_20200512_Chest_CT_(contrast).nii.gz',\n",
       "   'label': '/workspace/BoneMeta_all_1mm/labels_nii/000450_20200512_Chest_CT_(contrast).nii.gz'},\n",
       "  {'image': '/workspace/BoneMeta_all_1mm/images_nii/000286_20190701_CT_Abdomen+Pelvis_Dynamic_(contrast).nii.gz',\n",
       "   'label': '/workspace/BoneMeta_all_1mm/labels_nii/000286_20190701_CT_Abdomen+Pelvis_Dynamic_(contrast).nii.gz'},\n",
       "  {'image': '/workspace/BoneMeta_all_1mm/images_nii/000232_20190401_CT_Abdomen+Pelvis_Dynamic_(contrast).nii.gz',\n",
       "   'label': '/workspace/BoneMeta_all_1mm/labels_nii/000232_20190401_CT_Abdomen+Pelvis_Dynamic_(contrast).nii.gz'},\n",
       "  {'image': '/workspace/BoneMeta_all_1mm/images_nii/BH006_20170801_Chest_CT_(Contrast)_+_3D(Breast).nii.gz',\n",
       "   'label': '/workspace/BoneMeta_all_1mm/labels_nii/BH006_20170801_Chest_CT_(Contrast)_+_3D(Breast).nii.gz'}]}"
      ]
     },
     "execution_count": 10,
     "metadata": {},
     "output_type": "execute_result"
    }
   ],
   "source": [
    "data_json"
   ]
  },
  {
   "cell_type": "code",
   "execution_count": 11,
   "id": "c5a520ae",
   "metadata": {},
   "outputs": [],
   "source": [
    "with open(\"/workspace/jo_nb/dataset_split.json\", \"w\") as json_file:\n",
    "    json.dump(data_json, json_file)"
   ]
  },
  {
   "cell_type": "code",
   "execution_count": null,
   "id": "4d72dac9",
   "metadata": {},
   "outputs": [],
   "source": []
  }
 ],
 "metadata": {
  "kernelspec": {
   "display_name": "Python 3 (ipykernel)",
   "language": "python",
   "name": "python3"
  },
  "language_info": {
   "codemirror_mode": {
    "name": "ipython",
    "version": 3
   },
   "file_extension": ".py",
   "mimetype": "text/x-python",
   "name": "python",
   "nbconvert_exporter": "python",
   "pygments_lexer": "ipython3",
   "version": "3.9.5"
  }
 },
 "nbformat": 4,
 "nbformat_minor": 5
}
