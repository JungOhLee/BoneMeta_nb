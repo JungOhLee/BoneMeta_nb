{
 "cells": [
  {
   "cell_type": "code",
   "execution_count": 15,
   "metadata": {
    "colab": {
     "base_uri": "https://localhost:8080/"
    },
    "executionInfo": {
     "elapsed": 10281,
     "status": "ok",
     "timestamp": 1627946100742,
     "user": {
      "displayName": "이정오",
      "photoUrl": "",
      "userId": "04886549528950007370"
     },
     "user_tz": -540
    },
    "id": "o5cCOuc-AZ06",
    "outputId": "ae22fec6-b357-4e02-ad6d-ec2d5e9e849b",
    "scrolled": false
   },
   "outputs": [
    {
     "name": "stdout",
     "output_type": "stream",
     "text": [
      "Collecting monai\n",
      "  Downloading monai-0.7.0-202109240007-py3-none-any.whl (650 kB)\n",
      "\u001b[K     |████████████████████████████████| 650 kB 12.1 MB/s eta 0:00:01\n",
      "\u001b[?25hRequirement already satisfied: numpy>=1.17 in /usr/local/lib/python3.6/dist-packages (from monai) (1.19.5)\n",
      "Requirement already satisfied: torch>=1.5 in /usr/local/lib/python3.6/dist-packages (from monai) (1.9.0+cu111)\n",
      "Requirement already satisfied: dataclasses in /usr/local/lib/python3.6/dist-packages (from torch>=1.5->monai) (0.8)\n",
      "Requirement already satisfied: typing-extensions in /usr/local/lib/python3.6/dist-packages (from torch>=1.5->monai) (3.10.0.0)\n",
      "Installing collected packages: monai\n",
      "Successfully installed monai-0.7.0\n",
      "\u001b[33mWARNING: Running pip as the 'root' user can result in broken permissions and conflicting behaviour with the system package manager. It is recommended to use a virtual environment instead: https://pip.pypa.io/warnings/venv\u001b[0m\n",
      "\u001b[33mWARNING: You are using pip version 21.2.3; however, version 21.3.1 is available.\n",
      "You should consider upgrading via the '/usr/bin/python -m pip install --upgrade pip' command.\u001b[0m\n"
     ]
    }
   ],
   "source": [
    "# !pip install monai\n",
    "# !pip install nibabel"
   ]
  },
  {
   "cell_type": "code",
   "execution_count": 1,
   "metadata": {
    "executionInfo": {
     "elapsed": 8,
     "status": "ok",
     "timestamp": 1627946100743,
     "user": {
      "displayName": "이정오",
      "photoUrl": "",
      "userId": "04886549528950007370"
     },
     "user_tz": -540
    },
    "id": "3bueKckSvS9t"
   },
   "outputs": [],
   "source": [
    "import os\n",
    "import SimpleITK as sitk\n",
    "import numpy as np\n",
    "import glob\n",
    "import matplotlib.pyplot as plt\n",
    "import pandas as pd\n",
    "\n",
    "import nibabel\n",
    "from monai.transforms import Spacing\n",
    "from monai.transforms import SpatialPad\n",
    "from monai.transforms import Resize\n",
    "from monai.transforms import CropForeground\n",
    "\n",
    "import time\n",
    "import torch"
   ]
  },
  {
   "cell_type": "code",
   "execution_count": 2,
   "metadata": {},
   "outputs": [
    {
     "name": "stdout",
     "output_type": "stream",
     "text": [
      "/workspace/JO_nb/Preprocessing\r\n"
     ]
    }
   ],
   "source": [
    "!pwd"
   ]
  },
  {
   "cell_type": "code",
   "execution_count": 3,
   "metadata": {},
   "outputs": [],
   "source": [
    "import sys\n",
    "sys.path.insert(1, '/workspace')\n",
    "from utils.utils import *"
   ]
  },
  {
   "cell_type": "code",
   "execution_count": 4,
   "metadata": {
    "colab": {
     "base_uri": "https://localhost:8080/"
    },
    "executionInfo": {
     "elapsed": 7,
     "status": "ok",
     "timestamp": 1627946100743,
     "user": {
      "displayName": "이정오",
      "photoUrl": "",
      "userId": "04886549528950007370"
     },
     "user_tz": -540
    },
    "id": "bpDy7SMqq2n2",
    "outputId": "e69bf870-d20f-4afa-bcdb-bc2ebdefc77b"
   },
   "outputs": [
    {
     "data": {
      "text/plain": [
       "48"
      ]
     },
     "execution_count": 4,
     "metadata": {},
     "output_type": "execute_result"
    }
   ],
   "source": [
    "os.cpu_count()"
   ]
  },
  {
   "cell_type": "markdown",
   "metadata": {},
   "source": [
    "# Load Image and Label"
   ]
  },
  {
   "cell_type": "code",
   "execution_count": 7,
   "metadata": {},
   "outputs": [],
   "source": [
    "raw_data_dir = '/workspace/BoneMeta_raw'\n",
    "\n",
    "image_data_dir = '/workspace/BoneMeta_new/images'\n",
    "label_data_dir = '/workspace/BoneMeta_new/labels'\n",
    "\n",
    "all_1mm_image_dir = '/workspace/BoneMeta_all_1mm/images'\n",
    "all_1mm_label_dir = '/workspace/BoneMeta_all_1mm/labels'\n",
    "\n",
    "z_1mm_image_dir = '/workspace/BoneMeta_z_1mm/images'\n",
    "z_1mm_label_dir = '/workspace/BoneMeta_z_1mm/labels'\n",
    "\n",
    "data_info_path = '/workspace/DataInfo/data_info_V_2022_04_27.csv'\n",
    "\n",
    "\n",
    "def get_label_path(file):\n",
    "    return os.path.join(label_data_dir, file)\n",
    "\n",
    "def get_image_path(file):\n",
    "    return os.path.join(image_data_dir, file)"
   ]
  },
  {
   "cell_type": "code",
   "execution_count": 8,
   "metadata": {},
   "outputs": [],
   "source": [
    "data_info = pd.read_csv(data_info_path, index_col=0)"
   ]
  },
  {
   "cell_type": "code",
   "execution_count": 10,
   "metadata": {},
   "outputs": [
    {
     "data": {
      "text/html": [
       "<div>\n",
       "<style scoped>\n",
       "    .dataframe tbody tr th:only-of-type {\n",
       "        vertical-align: middle;\n",
       "    }\n",
       "\n",
       "    .dataframe tbody tr th {\n",
       "        vertical-align: top;\n",
       "    }\n",
       "\n",
       "    .dataframe thead th {\n",
       "        text-align: right;\n",
       "    }\n",
       "</style>\n",
       "<table border=\"1\" class=\"dataframe\">\n",
       "  <thead>\n",
       "    <tr style=\"text-align: right;\">\n",
       "      <th></th>\n",
       "      <th>Case</th>\n",
       "      <th>Lesion Type</th>\n",
       "      <th>Lesion Location</th>\n",
       "      <th>Probability</th>\n",
       "      <th>I/V</th>\n",
       "      <th>File Name</th>\n",
       "      <th>Lesion Size</th>\n",
       "      <th>Background Size</th>\n",
       "      <th>Original Shape</th>\n",
       "      <th>1mm Resized Shape</th>\n",
       "      <th>...</th>\n",
       "      <th>1mm Resized Center</th>\n",
       "      <th>Pixel Size</th>\n",
       "      <th>Spine Shape</th>\n",
       "      <th>Spine Resized Shape</th>\n",
       "      <th>Spine Center</th>\n",
       "      <th>Spine Resized Shape.1</th>\n",
       "      <th>X Spacing</th>\n",
       "      <th>Y Spacing</th>\n",
       "      <th>Slice Interval</th>\n",
       "      <th>Volume</th>\n",
       "    </tr>\n",
       "  </thead>\n",
       "  <tbody>\n",
       "    <tr>\n",
       "      <th>2093</th>\n",
       "      <td>KH039_20210301_Chest_(-)_Routine</td>\n",
       "      <td>L</td>\n",
       "      <td>T8</td>\n",
       "      <td>100</td>\n",
       "      <td>V</td>\n",
       "      <td>lesionAnnot3D-011.nii.gz</td>\n",
       "      <td>11.2</td>\n",
       "      <td>48036.8</td>\n",
       "      <td>[512, 512, 327]</td>\n",
       "      <td>[372, 372, 409]</td>\n",
       "      <td>...</td>\n",
       "      <td>[191, 227, 214]</td>\n",
       "      <td>16965</td>\n",
       "      <td>[256, 256, 327]</td>\n",
       "      <td>[45, 134, 214]</td>\n",
       "      <td>[63, 185, 171]</td>\n",
       "      <td>[45, 134, 214]</td>\n",
       "      <td>0.7266</td>\n",
       "      <td>0.7266</td>\n",
       "      <td>-1.25</td>\n",
       "      <td>11195.787944</td>\n",
       "    </tr>\n",
       "    <tr>\n",
       "      <th>2094</th>\n",
       "      <td>KH040_20210301_Chest(+)</td>\n",
       "      <td>L</td>\n",
       "      <td>C7</td>\n",
       "      <td>100</td>\n",
       "      <td>V</td>\n",
       "      <td>lesionAnnot3D-000.nii.gz</td>\n",
       "      <td>2602.3</td>\n",
       "      <td>31483.7</td>\n",
       "      <td>[512, 512, 349]</td>\n",
       "      <td>[320, 320, 349]</td>\n",
       "      <td>...</td>\n",
       "      <td>[172, 163, 11]</td>\n",
       "      <td>6662</td>\n",
       "      <td>[256, 256, 349]</td>\n",
       "      <td>[47, 83, 11]</td>\n",
       "      <td>[75, 133, 11]</td>\n",
       "      <td>[47, 83, 11]</td>\n",
       "      <td>0.6250</td>\n",
       "      <td>0.6250</td>\n",
       "      <td>-1.00</td>\n",
       "      <td>2602.343750</td>\n",
       "    </tr>\n",
       "    <tr>\n",
       "      <th>2095</th>\n",
       "      <td>KH042_20210501_Chest(+)</td>\n",
       "      <td>L</td>\n",
       "      <td>T4,5</td>\n",
       "      <td>100</td>\n",
       "      <td>V</td>\n",
       "      <td>lesionAnnot3D-001.nii.gz</td>\n",
       "      <td>35.4</td>\n",
       "      <td>448412.6</td>\n",
       "      <td>[512, 512, 343]</td>\n",
       "      <td>[308, 308, 343]</td>\n",
       "      <td>...</td>\n",
       "      <td>[171, 219, 94]</td>\n",
       "      <td>97946</td>\n",
       "      <td>[256, 256, 343]</td>\n",
       "      <td>[51, 142, 94]</td>\n",
       "      <td>[85, 237, 94]</td>\n",
       "      <td>[51, 142, 94]</td>\n",
       "      <td>0.6016</td>\n",
       "      <td>0.6016</td>\n",
       "      <td>-1.00</td>\n",
       "      <td>35448.867062</td>\n",
       "    </tr>\n",
       "    <tr>\n",
       "      <th>2096</th>\n",
       "      <td>KH043_20210601_Thorax^00_Fl_Chest_Routine_(Adult)</td>\n",
       "      <td>L</td>\n",
       "      <td>T3</td>\n",
       "      <td>100</td>\n",
       "      <td>V</td>\n",
       "      <td>lesionAnnot3D-001.nii.gz</td>\n",
       "      <td>13.1</td>\n",
       "      <td>98644.9</td>\n",
       "      <td>[512, 512, 331]</td>\n",
       "      <td>[367, 367, 331]</td>\n",
       "      <td>...</td>\n",
       "      <td>[185, 203, 56]</td>\n",
       "      <td>25516</td>\n",
       "      <td>[256, 256, 331]</td>\n",
       "      <td>[42, 112, 56]</td>\n",
       "      <td>[59, 156, 56]</td>\n",
       "      <td>[42, 112, 56]</td>\n",
       "      <td>0.7168</td>\n",
       "      <td>0.7168</td>\n",
       "      <td>-1.00</td>\n",
       "      <td>13110.177956</td>\n",
       "    </tr>\n",
       "    <tr>\n",
       "      <th>2097</th>\n",
       "      <td>KH043_20210601_Thorax^00_Fl_Chest_Routine_(Adult)</td>\n",
       "      <td>L</td>\n",
       "      <td>Rt 6th rib</td>\n",
       "      <td>100</td>\n",
       "      <td>V</td>\n",
       "      <td>lesionAnnot3D-002.nii.gz</td>\n",
       "      <td>99.7</td>\n",
       "      <td>1186700.3</td>\n",
       "      <td>[512, 512, 331]</td>\n",
       "      <td>[367, 367, 331]</td>\n",
       "      <td>...</td>\n",
       "      <td>[53, 178, 183]</td>\n",
       "      <td>194109</td>\n",
       "      <td>[256, 256, 331]</td>\n",
       "      <td>[-90, 86, 183]</td>\n",
       "      <td>[-126, 121, 183]</td>\n",
       "      <td>[-90, 86, 183]</td>\n",
       "      <td>0.7168</td>\n",
       "      <td>0.7168</td>\n",
       "      <td>-1.00</td>\n",
       "      <td>99733.639004</td>\n",
       "    </tr>\n",
       "  </tbody>\n",
       "</table>\n",
       "<p>5 rows × 21 columns</p>\n",
       "</div>"
      ],
      "text/plain": [
       "                                                   Case Lesion Type  \\\n",
       "2093                   KH039_20210301_Chest_(-)_Routine           L   \n",
       "2094                            KH040_20210301_Chest(+)           L   \n",
       "2095                            KH042_20210501_Chest(+)           L   \n",
       "2096  KH043_20210601_Thorax^00_Fl_Chest_Routine_(Adult)           L   \n",
       "2097  KH043_20210601_Thorax^00_Fl_Chest_Routine_(Adult)           L   \n",
       "\n",
       "     Lesion Location Probability I/V                 File Name  Lesion Size  \\\n",
       "2093              T8         100   V  lesionAnnot3D-011.nii.gz         11.2   \n",
       "2094              C7         100   V  lesionAnnot3D-000.nii.gz       2602.3   \n",
       "2095            T4,5         100   V  lesionAnnot3D-001.nii.gz         35.4   \n",
       "2096              T3         100   V  lesionAnnot3D-001.nii.gz         13.1   \n",
       "2097      Rt 6th rib         100   V  lesionAnnot3D-002.nii.gz         99.7   \n",
       "\n",
       "      Background Size   Original Shape 1mm Resized Shape  ...  \\\n",
       "2093          48036.8  [512, 512, 327]   [372, 372, 409]  ...   \n",
       "2094          31483.7  [512, 512, 349]   [320, 320, 349]  ...   \n",
       "2095         448412.6  [512, 512, 343]   [308, 308, 343]  ...   \n",
       "2096          98644.9  [512, 512, 331]   [367, 367, 331]  ...   \n",
       "2097        1186700.3  [512, 512, 331]   [367, 367, 331]  ...   \n",
       "\n",
       "     1mm Resized Center Pixel Size      Spine Shape Spine Resized Shape  \\\n",
       "2093    [191, 227, 214]      16965  [256, 256, 327]      [45, 134, 214]   \n",
       "2094     [172, 163, 11]       6662  [256, 256, 349]        [47, 83, 11]   \n",
       "2095     [171, 219, 94]      97946  [256, 256, 343]       [51, 142, 94]   \n",
       "2096     [185, 203, 56]      25516  [256, 256, 331]       [42, 112, 56]   \n",
       "2097     [53, 178, 183]     194109  [256, 256, 331]      [-90, 86, 183]   \n",
       "\n",
       "          Spine Center Spine Resized Shape.1 X Spacing  Y Spacing  \\\n",
       "2093    [63, 185, 171]        [45, 134, 214]    0.7266     0.7266   \n",
       "2094     [75, 133, 11]          [47, 83, 11]    0.6250     0.6250   \n",
       "2095     [85, 237, 94]         [51, 142, 94]    0.6016     0.6016   \n",
       "2096     [59, 156, 56]         [42, 112, 56]    0.7168     0.7168   \n",
       "2097  [-126, 121, 183]        [-90, 86, 183]    0.7168     0.7168   \n",
       "\n",
       "      Slice Interval        Volume  \n",
       "2093           -1.25  11195.787944  \n",
       "2094           -1.00   2602.343750  \n",
       "2095           -1.00  35448.867062  \n",
       "2096           -1.00  13110.177956  \n",
       "2097           -1.00  99733.639004  \n",
       "\n",
       "[5 rows x 21 columns]"
      ]
     },
     "execution_count": 10,
     "metadata": {},
     "output_type": "execute_result"
    }
   ],
   "source": [
    "pd.read_csv(data_info_path,index_col=0).tail()"
   ]
  },
  {
   "cell_type": "code",
   "execution_count": 11,
   "metadata": {},
   "outputs": [
    {
     "data": {
      "text/html": [
       "<div>\n",
       "<style scoped>\n",
       "    .dataframe tbody tr th:only-of-type {\n",
       "        vertical-align: middle;\n",
       "    }\n",
       "\n",
       "    .dataframe tbody tr th {\n",
       "        vertical-align: top;\n",
       "    }\n",
       "\n",
       "    .dataframe thead th {\n",
       "        text-align: right;\n",
       "    }\n",
       "</style>\n",
       "<table border=\"1\" class=\"dataframe\">\n",
       "  <thead>\n",
       "    <tr style=\"text-align: right;\">\n",
       "      <th></th>\n",
       "      <th>Case</th>\n",
       "      <th>Lesion Type</th>\n",
       "      <th>Lesion Location</th>\n",
       "      <th>Probability</th>\n",
       "      <th>I/V</th>\n",
       "      <th>File Name</th>\n",
       "      <th>Lesion Size</th>\n",
       "      <th>Background Size</th>\n",
       "      <th>Original Shape</th>\n",
       "      <th>1mm Resized Shape</th>\n",
       "      <th>...</th>\n",
       "      <th>1mm Resized Center</th>\n",
       "      <th>Pixel Size</th>\n",
       "      <th>Spine Shape</th>\n",
       "      <th>Spine Resized Shape</th>\n",
       "      <th>Spine Center</th>\n",
       "      <th>Spine Resized Shape.1</th>\n",
       "      <th>X Spacing</th>\n",
       "      <th>Y Spacing</th>\n",
       "      <th>Slice Interval</th>\n",
       "      <th>Volume</th>\n",
       "    </tr>\n",
       "  </thead>\n",
       "  <tbody>\n",
       "    <tr>\n",
       "      <th>0</th>\n",
       "      <td>000232_20190401_CT_Abdomen+Pelvis_Dynamic_(con...</td>\n",
       "      <td>S</td>\n",
       "      <td>T10-1</td>\n",
       "      <td>metastasis</td>\n",
       "      <td>V</td>\n",
       "      <td>lesionAnnot3D-000.nii.gz</td>\n",
       "      <td>731.0</td>\n",
       "      <td>7589.0</td>\n",
       "      <td>[512, 512, 435]</td>\n",
       "      <td>[271, 271, 435]</td>\n",
       "      <td>...</td>\n",
       "      <td>[118, 158, 42]</td>\n",
       "      <td>2590</td>\n",
       "      <td>[256, 256, 435]</td>\n",
       "      <td>[12, 90, 42]</td>\n",
       "      <td>[24, 170, 42]</td>\n",
       "      <td>[12, 90, 42]</td>\n",
       "      <td>0.5312</td>\n",
       "      <td>0.5312</td>\n",
       "      <td>-1.0</td>\n",
       "      <td>730.829210</td>\n",
       "    </tr>\n",
       "    <tr>\n",
       "      <th>1</th>\n",
       "      <td>000232_20190401_CT_Abdomen+Pelvis_Dynamic_(con...</td>\n",
       "      <td>S</td>\n",
       "      <td>T11</td>\n",
       "      <td>metastasis</td>\n",
       "      <td>V</td>\n",
       "      <td>lesionAnnot3D-002.nii.gz</td>\n",
       "      <td>1635.2</td>\n",
       "      <td>12690.8</td>\n",
       "      <td>[512, 512, 435]</td>\n",
       "      <td>[271, 271, 435]</td>\n",
       "      <td>...</td>\n",
       "      <td>[129, 181, 65]</td>\n",
       "      <td>5794</td>\n",
       "      <td>[256, 256, 435]</td>\n",
       "      <td>[23, 113, 65]</td>\n",
       "      <td>[44, 213, 65]</td>\n",
       "      <td>[23, 113, 65]</td>\n",
       "      <td>0.5312</td>\n",
       "      <td>0.5312</td>\n",
       "      <td>-1.0</td>\n",
       "      <td>1634.912911</td>\n",
       "    </tr>\n",
       "    <tr>\n",
       "      <th>2</th>\n",
       "      <td>000232_20190401_CT_Abdomen+Pelvis_Dynamic_(con...</td>\n",
       "      <td>S</td>\n",
       "      <td>T12</td>\n",
       "      <td>metastasis</td>\n",
       "      <td>V</td>\n",
       "      <td>lesionAnnot3D-003.nii.gz</td>\n",
       "      <td>570.1</td>\n",
       "      <td>8361.9</td>\n",
       "      <td>[512, 512, 435]</td>\n",
       "      <td>[271, 271, 435]</td>\n",
       "      <td>...</td>\n",
       "      <td>[122, 155, 83]</td>\n",
       "      <td>2020</td>\n",
       "      <td>[256, 256, 435]</td>\n",
       "      <td>[16, 87, 83]</td>\n",
       "      <td>[30, 165, 83]</td>\n",
       "      <td>[16, 87, 83]</td>\n",
       "      <td>0.5312</td>\n",
       "      <td>0.5312</td>\n",
       "      <td>-1.0</td>\n",
       "      <td>569.990349</td>\n",
       "    </tr>\n",
       "    <tr>\n",
       "      <th>3</th>\n",
       "      <td>000232_20190401_CT_Abdomen+Pelvis_Dynamic_(con...</td>\n",
       "      <td>S</td>\n",
       "      <td>L1-1</td>\n",
       "      <td>metastasis</td>\n",
       "      <td>V</td>\n",
       "      <td>lesionAnnot3D-004.nii.gz</td>\n",
       "      <td>3222.2</td>\n",
       "      <td>54917.8</td>\n",
       "      <td>[512, 512, 435]</td>\n",
       "      <td>[271, 271, 435]</td>\n",
       "      <td>...</td>\n",
       "      <td>[139, 149, 117]</td>\n",
       "      <td>11417</td>\n",
       "      <td>[256, 256, 435]</td>\n",
       "      <td>[33, 81, 117]</td>\n",
       "      <td>[62, 154, 117]</td>\n",
       "      <td>[33, 81, 117]</td>\n",
       "      <td>0.5312</td>\n",
       "      <td>0.5312</td>\n",
       "      <td>-1.0</td>\n",
       "      <td>3221.574164</td>\n",
       "    </tr>\n",
       "    <tr>\n",
       "      <th>4</th>\n",
       "      <td>000232_20190401_CT_Abdomen+Pelvis_Dynamic_(con...</td>\n",
       "      <td>S</td>\n",
       "      <td>L1-2</td>\n",
       "      <td>metastasis</td>\n",
       "      <td>V</td>\n",
       "      <td>lesionAnnot3D-005.nii.gz</td>\n",
       "      <td>921.8</td>\n",
       "      <td>10446.2</td>\n",
       "      <td>[512, 512, 435]</td>\n",
       "      <td>[271, 271, 435]</td>\n",
       "      <td>...</td>\n",
       "      <td>[145, 145, 128]</td>\n",
       "      <td>3266</td>\n",
       "      <td>[256, 256, 435]</td>\n",
       "      <td>[39, 77, 128]</td>\n",
       "      <td>[73, 145, 128]</td>\n",
       "      <td>[39, 77, 128]</td>\n",
       "      <td>0.5312</td>\n",
       "      <td>0.5312</td>\n",
       "      <td>-1.0</td>\n",
       "      <td>921.578455</td>\n",
       "    </tr>\n",
       "  </tbody>\n",
       "</table>\n",
       "<p>5 rows × 21 columns</p>\n",
       "</div>"
      ],
      "text/plain": [
       "                                                Case Lesion Type  \\\n",
       "0  000232_20190401_CT_Abdomen+Pelvis_Dynamic_(con...           S   \n",
       "1  000232_20190401_CT_Abdomen+Pelvis_Dynamic_(con...           S   \n",
       "2  000232_20190401_CT_Abdomen+Pelvis_Dynamic_(con...           S   \n",
       "3  000232_20190401_CT_Abdomen+Pelvis_Dynamic_(con...           S   \n",
       "4  000232_20190401_CT_Abdomen+Pelvis_Dynamic_(con...           S   \n",
       "\n",
       "  Lesion Location Probability I/V                 File Name  Lesion Size  \\\n",
       "0           T10-1  metastasis   V  lesionAnnot3D-000.nii.gz        731.0   \n",
       "1             T11  metastasis   V  lesionAnnot3D-002.nii.gz       1635.2   \n",
       "2             T12  metastasis   V  lesionAnnot3D-003.nii.gz        570.1   \n",
       "3            L1-1  metastasis   V  lesionAnnot3D-004.nii.gz       3222.2   \n",
       "4            L1-2  metastasis   V  lesionAnnot3D-005.nii.gz        921.8   \n",
       "\n",
       "   Background Size   Original Shape 1mm Resized Shape  ... 1mm Resized Center  \\\n",
       "0           7589.0  [512, 512, 435]   [271, 271, 435]  ...     [118, 158, 42]   \n",
       "1          12690.8  [512, 512, 435]   [271, 271, 435]  ...     [129, 181, 65]   \n",
       "2           8361.9  [512, 512, 435]   [271, 271, 435]  ...     [122, 155, 83]   \n",
       "3          54917.8  [512, 512, 435]   [271, 271, 435]  ...    [139, 149, 117]   \n",
       "4          10446.2  [512, 512, 435]   [271, 271, 435]  ...    [145, 145, 128]   \n",
       "\n",
       "  Pixel Size      Spine Shape Spine Resized Shape    Spine Center  \\\n",
       "0       2590  [256, 256, 435]        [12, 90, 42]   [24, 170, 42]   \n",
       "1       5794  [256, 256, 435]       [23, 113, 65]   [44, 213, 65]   \n",
       "2       2020  [256, 256, 435]        [16, 87, 83]   [30, 165, 83]   \n",
       "3      11417  [256, 256, 435]       [33, 81, 117]  [62, 154, 117]   \n",
       "4       3266  [256, 256, 435]       [39, 77, 128]  [73, 145, 128]   \n",
       "\n",
       "  Spine Resized Shape.1 X Spacing  Y Spacing  Slice Interval       Volume  \n",
       "0          [12, 90, 42]    0.5312     0.5312            -1.0   730.829210  \n",
       "1         [23, 113, 65]    0.5312     0.5312            -1.0  1634.912911  \n",
       "2          [16, 87, 83]    0.5312     0.5312            -1.0   569.990349  \n",
       "3         [33, 81, 117]    0.5312     0.5312            -1.0  3221.574164  \n",
       "4         [39, 77, 128]    0.5312     0.5312            -1.0   921.578455  \n",
       "\n",
       "[5 rows x 21 columns]"
      ]
     },
     "execution_count": 11,
     "metadata": {},
     "output_type": "execute_result"
    }
   ],
   "source": [
    "data_info.head()"
   ]
  },
  {
   "cell_type": "code",
   "execution_count": 14,
   "metadata": {
    "scrolled": false
   },
   "outputs": [
    {
     "name": "stdout",
     "output_type": "stream",
     "text": [
      "(318, 5)\n"
     ]
    },
    {
     "data": {
      "text/html": [
       "<div>\n",
       "<style scoped>\n",
       "    .dataframe tbody tr th:only-of-type {\n",
       "        vertical-align: middle;\n",
       "    }\n",
       "\n",
       "    .dataframe tbody tr th {\n",
       "        vertical-align: top;\n",
       "    }\n",
       "\n",
       "    .dataframe thead th {\n",
       "        text-align: right;\n",
       "    }\n",
       "</style>\n",
       "<table border=\"1\" class=\"dataframe\">\n",
       "  <thead>\n",
       "    <tr style=\"text-align: right;\">\n",
       "      <th></th>\n",
       "      <th>1mm Resized Shape</th>\n",
       "      <th>Original Shape</th>\n",
       "      <th>X Spacing</th>\n",
       "      <th>Y Spacing</th>\n",
       "      <th>Slice Interval</th>\n",
       "    </tr>\n",
       "    <tr>\n",
       "      <th>Case</th>\n",
       "      <th></th>\n",
       "      <th></th>\n",
       "      <th></th>\n",
       "      <th></th>\n",
       "      <th></th>\n",
       "    </tr>\n",
       "  </thead>\n",
       "  <tbody>\n",
       "    <tr>\n",
       "      <th>000232_20190401_CT_Abdomen+Pelvis_Dynamic_(contrast)</th>\n",
       "      <td>[271, 271, 435]</td>\n",
       "      <td>[512, 512, 435]</td>\n",
       "      <td>0.5312</td>\n",
       "      <td>0.5312</td>\n",
       "      <td>-1.0</td>\n",
       "    </tr>\n",
       "    <tr>\n",
       "      <th>000232_20190423_Chest_CT_(contrast)</th>\n",
       "      <td>[348, 348, 315]</td>\n",
       "      <td>[512, 512, 315]</td>\n",
       "      <td>0.6816</td>\n",
       "      <td>0.6816</td>\n",
       "      <td>-1.0</td>\n",
       "    </tr>\n",
       "    <tr>\n",
       "      <th>000285_20190801_CT_Abdomen+Pelvis_Pre-Post_(contrast)</th>\n",
       "      <td>[350, 350, 528]</td>\n",
       "      <td>[512, 512, 528]</td>\n",
       "      <td>0.6836</td>\n",
       "      <td>0.6836</td>\n",
       "      <td>-0.8</td>\n",
       "    </tr>\n",
       "    <tr>\n",
       "      <th>000285_20190807_Chest_CT_(contrast)</th>\n",
       "      <td>[306, 306, 238]</td>\n",
       "      <td>[512, 512, 238]</td>\n",
       "      <td>0.5977</td>\n",
       "      <td>0.5977</td>\n",
       "      <td>-1.0</td>\n",
       "    </tr>\n",
       "    <tr>\n",
       "      <th>000316_20190627_Chest_CT_(contrast)</th>\n",
       "      <td>[293, 293, 283]</td>\n",
       "      <td>[512, 512, 283]</td>\n",
       "      <td>0.5742</td>\n",
       "      <td>0.5742</td>\n",
       "      <td>-1.0</td>\n",
       "    </tr>\n",
       "  </tbody>\n",
       "</table>\n",
       "</div>"
      ],
      "text/plain": [
       "                                                   1mm Resized Shape  \\\n",
       "Case                                                                   \n",
       "000232_20190401_CT_Abdomen+Pelvis_Dynamic_(cont...   [271, 271, 435]   \n",
       "000232_20190423_Chest_CT_(contrast)                  [348, 348, 315]   \n",
       "000285_20190801_CT_Abdomen+Pelvis_Pre-Post_(con...   [350, 350, 528]   \n",
       "000285_20190807_Chest_CT_(contrast)                  [306, 306, 238]   \n",
       "000316_20190627_Chest_CT_(contrast)                  [293, 293, 283]   \n",
       "\n",
       "                                                     Original Shape  \\\n",
       "Case                                                                  \n",
       "000232_20190401_CT_Abdomen+Pelvis_Dynamic_(cont...  [512, 512, 435]   \n",
       "000232_20190423_Chest_CT_(contrast)                 [512, 512, 315]   \n",
       "000285_20190801_CT_Abdomen+Pelvis_Pre-Post_(con...  [512, 512, 528]   \n",
       "000285_20190807_Chest_CT_(contrast)                 [512, 512, 238]   \n",
       "000316_20190627_Chest_CT_(contrast)                 [512, 512, 283]   \n",
       "\n",
       "                                                    X Spacing  Y Spacing  \\\n",
       "Case                                                                       \n",
       "000232_20190401_CT_Abdomen+Pelvis_Dynamic_(cont...     0.5312     0.5312   \n",
       "000232_20190423_Chest_CT_(contrast)                    0.6816     0.6816   \n",
       "000285_20190801_CT_Abdomen+Pelvis_Pre-Post_(con...     0.6836     0.6836   \n",
       "000285_20190807_Chest_CT_(contrast)                    0.5977     0.5977   \n",
       "000316_20190627_Chest_CT_(contrast)                    0.5742     0.5742   \n",
       "\n",
       "                                                    Slice Interval  \n",
       "Case                                                                \n",
       "000232_20190401_CT_Abdomen+Pelvis_Dynamic_(cont...            -1.0  \n",
       "000232_20190423_Chest_CT_(contrast)                           -1.0  \n",
       "000285_20190801_CT_Abdomen+Pelvis_Pre-Post_(con...            -0.8  \n",
       "000285_20190807_Chest_CT_(contrast)                           -1.0  \n",
       "000316_20190627_Chest_CT_(contrast)                           -1.0  "
      ]
     },
     "execution_count": 14,
     "metadata": {},
     "output_type": "execute_result"
    }
   ],
   "source": [
    "ct_info = data_info.loc[:,['Case', '1mm Resized Shape', 'Original Shape', 'X Spacing', 'Y Spacing', 'Slice Interval']]\n",
    "ct_info.drop_duplicates(inplace=True)\n",
    "ct_info.set_index('Case',inplace=True)\n",
    "print(ct_info.shape)\n",
    "ct_info.head()"
   ]
  },
  {
   "cell_type": "code",
   "execution_count": 35,
   "metadata": {},
   "outputs": [
    {
     "data": {
      "text/plain": [
       "count    318.000000\n",
       "mean       0.643018\n",
       "std        0.072318\n",
       "min        0.365200\n",
       "25%        0.603500\n",
       "50%        0.630900\n",
       "75%        0.677700\n",
       "max        1.269500\n",
       "Name: X Spacing, dtype: float64"
      ]
     },
     "execution_count": 35,
     "metadata": {},
     "output_type": "execute_result"
    }
   ],
   "source": [
    "# 50% info \n",
    "# X Spacing: 0.63\n",
    "# 1mm size: 323, 323, 402 "
   ]
  },
  {
   "cell_type": "code",
   "execution_count": 10,
   "metadata": {},
   "outputs": [
    {
     "data": {
      "text/plain": [
       "'[0.589844, 0.589844, 1.0]'"
      ]
     },
     "execution_count": 10,
     "metadata": {},
     "output_type": "execute_result"
    }
   ],
   "source": [
    "ct_info.loc['000350_20190927_chest'].resolution"
   ]
  },
  {
   "cell_type": "code",
   "execution_count": 30,
   "metadata": {
    "scrolled": true
   },
   "outputs": [
    {
     "data": {
      "text/plain": [
       "'[512, 512, 327]'"
      ]
     },
     "execution_count": 30,
     "metadata": {},
     "output_type": "execute_result"
    }
   ],
   "source": [
    "ct_info.loc['000350_20190927_chest'].dimension"
   ]
  },
  {
   "cell_type": "code",
   "execution_count": 21,
   "metadata": {},
   "outputs": [],
   "source": [
    "def resolution_to_crz_float(resolution):\n",
    "    crz = resolution.strip('[]').split(', ')\n",
    "    return [float(value) for value in crz]\n",
    "\n",
    "def resample_all_1mm(np_image, resolution):\n",
    "    crz = resolution_to_crz_float(resolution)\n",
    "    pixdim = [1/crz[2], 1/crz[1], 1/crz[0]] # crz to zrc\n",
    "    spacer = Spacing(pixdim, dtype=np.float64)\n",
    "    spaced_image = spacer(np_image[np.newaxis,:]) # with channel\n",
    "    return spaced_image[0][0] #in tuple, without channel\n",
    "\n",
    "\n",
    "def resample_z_1mm(np_image, resolution):\n",
    "    crz = resolution_to_crz_float(resolution)\n",
    "    pixdim = [1/crz[2], 1, 1] # crz to zrc\n",
    "    spacer = Spacing(pixdim, dtype=np.float64)\n",
    "    spaced_image = spacer(np_image[np.newaxis,:]) # with channel\n",
    "    return spaced_image[0][0] #in tuple, without channel"
   ]
  },
  {
   "cell_type": "code",
   "execution_count": 21,
   "metadata": {},
   "outputs": [],
   "source": [
    "def save_image(np_image, target_dir, file_name):\n",
    "    np_image = np_image.astype(np.int16)\n",
    "    np.save(os.path.join(target_dir, file_name), np_image)\n",
    "    \n",
    "def save_label(np_image, target_dir, file_name):\n",
    "    np_image = (np_image>0.5).astype(np.uint8)\n",
    "    np.save(os.path.join(target_dir, file_name), np_image)"
   ]
  },
  {
   "cell_type": "code",
   "execution_count": 9,
   "metadata": {},
   "outputs": [],
   "source": [
    "def resample_all_files(file_dir, target_dir, resample_func, save_func):\n",
    "    file_list = os.listdir(file_dir)\n",
    "    for file in file_list:\n",
    "        np_file = np.load(os.path.join(file_dir, file))\n",
    "        resolution = ct_info.loc[file_to_case(file)].resolution        \n",
    "        resampled_image = resample_func(np_file, resolution)\n",
    "        save_func(resampled_image, target_dir, file)"
   ]
  },
  {
   "cell_type": "code",
   "execution_count": 99,
   "metadata": {},
   "outputs": [],
   "source": [
    "os.makedirs(all_1mm_image_dir, exist_ok=True)\n",
    "os.makedirs(all_1mm_label_dir, exist_ok=True)\n",
    "os.makedirs(z_1mm_image_dir, exist_ok=True)\n",
    "os.makedirs(z_1mm_label_dir, exist_ok=True)"
   ]
  },
  {
   "cell_type": "code",
   "execution_count": 100,
   "metadata": {},
   "outputs": [
    {
     "name": "stdout",
     "output_type": "stream",
     "text": [
      "\n",
      "consumed_time: 939.9781629740028s\n",
      "\n"
     ]
    }
   ],
   "source": [
    "t = time.perf_counter()\n",
    "\n",
    "resample_all_files(image_data_dir, all_1mm_image_dir, resample_all_1mm, save_image)\n",
    "\n",
    "elapsed_time = time.perf_counter() - t\n",
    "\n",
    "print(f'''\n",
    "consumed_time: {elapsed_time}s\n",
    "''')"
   ]
  },
  {
   "cell_type": "code",
   "execution_count": 102,
   "metadata": {},
   "outputs": [
    {
     "data": {
      "text/plain": [
       "(328, 424, 424)"
      ]
     },
     "execution_count": 102,
     "metadata": {},
     "output_type": "execute_result"
    }
   ],
   "source": [
    "np.load(os.path.join(all_1mm_image_dir,'SN059_20170501_chest.npy')).shape"
   ]
  },
  {
   "cell_type": "code",
   "execution_count": 112,
   "metadata": {},
   "outputs": [],
   "source": [
    "resample_all_files(label_data_dir, all_1mm_label_dir, resample_all_1mm, save_label)"
   ]
  },
  {
   "cell_type": "code",
   "execution_count": 104,
   "metadata": {},
   "outputs": [
    {
     "data": {
      "text/plain": [
       "(328, 424, 424)"
      ]
     },
     "execution_count": 104,
     "metadata": {},
     "output_type": "execute_result"
    }
   ],
   "source": [
    "np.load(os.path.join(all_1mm_label_dir,'SN059_20170501_chest.npy')).shape"
   ]
  },
  {
   "cell_type": "code",
   "execution_count": 105,
   "metadata": {},
   "outputs": [],
   "source": [
    "resample_all_files(image_data_dir, z_1mm_image_dir, resample_z_1mm, save_image)"
   ]
  },
  {
   "cell_type": "code",
   "execution_count": 113,
   "metadata": {},
   "outputs": [],
   "source": [
    "resample_all_files(label_data_dir, z_1mm_label_dir, resample_z_1mm, save_label)"
   ]
  },
  {
   "cell_type": "code",
   "execution_count": null,
   "metadata": {},
   "outputs": [],
   "source": []
  },
  {
   "cell_type": "code",
   "execution_count": null,
   "metadata": {},
   "outputs": [],
   "source": []
  },
  {
   "cell_type": "code",
   "execution_count": null,
   "metadata": {},
   "outputs": [],
   "source": []
  },
  {
   "cell_type": "code",
   "execution_count": null,
   "metadata": {},
   "outputs": [],
   "source": []
  },
  {
   "cell_type": "markdown",
   "metadata": {},
   "source": [
    "## Resample all same size"
   ]
  },
  {
   "cell_type": "code",
   "execution_count": 36,
   "metadata": {
    "scrolled": true
   },
   "outputs": [
    {
     "name": "stdout",
     "output_type": "stream",
     "text": [
      "3dunet\t\t     BoneMeta_all_1mm  BoneSeg_CropSpine  JS_nb   utils\r\n",
      "BoneMeta_all_128     BoneMeta_new      BoneSeg_all_128\t  MONAI\r\n",
      "BoneMeta_all_192     BoneMeta_raw      DataInfo\t\t  jeune\r\n",
      "BoneMeta_all_192_VI  BoneSeg\t       JO_nb\t\t  jungoh\r\n"
     ]
    }
   ],
   "source": [
    "!ls /workspace"
   ]
  },
  {
   "cell_type": "code",
   "execution_count": 37,
   "metadata": {},
   "outputs": [],
   "source": [
    "from multiprocessing import Pool\n",
    "\n",
    "class Resampler:\n",
    "    def __init__(self, origin_dir, target_dir, resample_size, is_label=False):\n",
    "        self.origin_dir, self.target_dir, self.resample_size, self.is_label = origin_dir, target_dir, resample_size, is_label\n",
    "\n",
    "    def save_np(self, np_image, target_dir, file_name):\n",
    "        if self.is_label:\n",
    "            np_image = (np_image>0.5).astype(np.uint8)            \n",
    "        else:\n",
    "            np_image = np_image.astype(np.int16)\n",
    "        np.save(os.path.join(target_dir, file_name), np_image)\n",
    "\n",
    "    def resize(self, np_image): \n",
    "        if self.is_label:\n",
    "            np_image = np_image > 0.5\n",
    "        resizer = Resize(self.resample_size)\n",
    "        resized_image = resizer(np_image[np.newaxis,:]) # with channel\n",
    "        return resized_image[0] # without channel\n",
    "\n",
    "    def resample(self, file, origin_dir, target_dir, resample_func, save_func):\n",
    "        np_file = np.load(os.path.join(origin_dir, file))\n",
    "        resampled_image = resample_func(np_file)\n",
    "        save_func(resampled_image, target_dir, file)\n",
    "\n",
    "    def wrapper(self, args):\n",
    "        return self.resample(*args)\n",
    "\n",
    "    def resample_all(self):\n",
    "        os.makedirs(self.target_dir, exist_ok=True)\n",
    "\n",
    "        t = time.perf_counter()\n",
    "\n",
    "        file_list = os.listdir(self.origin_dir)\n",
    "        arg_list = [(file, self.origin_dir, self.target_dir, self.resize, self.save_np) for file in file_list]\n",
    "        pool = Pool(processes=32)\n",
    "        pool.map(self.wrapper, arg_list)\n",
    "        pool.close()\n",
    "        pool.join()\n",
    "\n",
    "        elapsed_time = time.perf_counter() - t\n",
    "\n",
    "        print(f'''\n",
    "        consumed_time: {elapsed_time}s\n",
    "        ''')\n",
    "\n",
    "class MultiChResampler:\n",
    "    def __init__(self, origin_dir, target_dir, resample_size, is_label=False):\n",
    "        self.origin_dir, self.target_dir, self.resample_size, self.is_label = origin_dir, target_dir, resample_size, is_label\n",
    "\n",
    "    def save_np(self, np_image, target_dir, file_name):\n",
    "        if self.is_label:\n",
    "            np_image = np_image.astype(np.uint8)            \n",
    "        else:\n",
    "            np_image = np_image.astype(np.int16)\n",
    "        np.save(os.path.join(target_dir, file_name), np_image)\n",
    "\n",
    "    def resize(self, np_image): \n",
    "        if self.is_label:\n",
    "            resizer = Resize(self.resample_size, mode='nearest')\n",
    "        else: \n",
    "            resizer = Resize(self.resample_size)\n",
    "        resized_image = resizer(np_image[np.newaxis,:]) # with channel\n",
    "        return resized_image[0] # without channel\n",
    "\n",
    "    def resample(self, file, origin_dir, target_dir, resample_func, save_func):\n",
    "        np_file = np.load(os.path.join(origin_dir, file))\n",
    "        resampled_image = resample_func(np_file)\n",
    "        save_func(resampled_image, target_dir, file)\n",
    "\n",
    "    def wrapper(self, args):\n",
    "        return self.resample(*args)\n",
    "\n",
    "    def resample_all(self):\n",
    "        os.makedirs(self.target_dir, exist_ok=True)\n",
    "\n",
    "        t = time.perf_counter()\n",
    "\n",
    "        file_list = os.listdir(self.origin_dir)\n",
    "        arg_list = [(file, self.origin_dir, self.target_dir, self.resize, self.save_np) for file in file_list]\n",
    "        pool = Pool(processes=32)\n",
    "        pool.map(self.wrapper, arg_list)\n",
    "        pool.close()\n",
    "        pool.join()\n",
    "\n",
    "        elapsed_time = time.perf_counter() - t\n",
    "\n",
    "        print(f'''\n",
    "        consumed_time: {elapsed_time}s\n",
    "        ''')"
   ]
  },
  {
   "cell_type": "code",
   "execution_count": 39,
   "metadata": {},
   "outputs": [
    {
     "name": "stdout",
     "output_type": "stream",
     "text": [
      "'000010_20181214_CT_Abdomen+Pelvis_Dynamic_(contrast).npy'\r\n",
      "'000011_20181207_CT_Abdomen+Pelvis_Post_(contrast).npy'\r\n",
      "'000011_20181207_Chest_CT_(contrast).npy'\r\n",
      "'000019_20181018_Chest_CT_(contrast).npy'\r\n",
      "'000019_20190601_CT_Abdomen+Pelvis_Dynamic_(contrast).npy'\r\n",
      "'000019_20190613_Chest_CT_(contrast).npy'\r\n",
      "'000021_20181227_Chest_CT_(contrast).npy'\r\n",
      "'000022_20180830_Chest_CT_(contrast).npy'\r\n",
      "'000025_20180808_CT_Abdomen+Pelvis_Dynamic_(contrast).npy'\r\n",
      "'000025_20180808_Chest_CT_(contrast).npy'\r\n",
      "'000048_20190501_CT_Abdomen+Pelvis_Uro_(contrast).npy'\r\n",
      "'000069_20180319_Chest_CT_(contrast).npy'\r\n",
      "'000079_20180911_Pulmonary_artery_CT_Angio+3D_(contrast).npy'\r\n",
      "'000080_20180911_Chest_CT_(contrast).npy'\r\n",
      "'000085_20180829_Chest_CT_(contrast).npy'\r\n",
      "'000162_20180131_Chest_CT_(contrast).npy'\r\n",
      "'000193_20190114_Chest_CT_(contrast).npy'\r\n",
      "'000212_20190324_Chest_CT_(noncontrast).npy'\r\n",
      "'000224_20190228_Chest_CT_(contrast).npy'\r\n",
      "'000232_20190401_CT_Abdomen+Pelvis_Dynamic_(contrast).npy'\r\n",
      "'000232_20190423_Chest_CT_(contrast).npy'\r\n",
      "'000234_20190401_CT_Abdomen+Pelvis_Dynamic_(contrast).npy'\r\n",
      "'000234_20190419_Chest_CT_(contrast).npy'\r\n",
      "'000242_20190409_Chest_CT_(contrast).npy'\r\n",
      "'000251_20190429_CT_Abdomen+Pelvis_Dynamic_(contrast).npy'\r\n",
      "'000251_20190429_Chest_CT_(contrast).npy'\r\n",
      "'000251_20190701_CT_Abdomen+Pelvis_Dynamic_(contrast).npy'\r\n",
      "'000251_20190703_Chest_CT_(contrast).npy'\r\n",
      "'000255_20190418_Chest_CT_(contrast).npy'\r\n",
      "'000260_20190501_CT_Liver_(contrast).npy'\r\n",
      "'000260_20190522_Chest_CT_(contrast).npy'\r\n",
      "'000262_20190318_Chest_CT_(contrast).npy'\r\n",
      "'000262_20190319_CT_Abdomen+Pelvis_Dynamic_(contrast).npy'\r\n",
      "'000262_20190501_CT_Abdomen+Pelvis_Post_(contrast).npy'\r\n",
      "'000262_20190529_Chest_CT_(contrast).npy'\r\n",
      "'000269_20181016_CT_Abdomen+Pelvis_Dynamic_(contrast).npy'\r\n",
      "'000269_20181214_CT_Abdomen+Pelvis_Dynamic_(contrast).npy'\r\n",
      "'000269_20190325_CT_Abdomen+Pelvis_Dynamic_(contrast).npy'\r\n",
      "'000269_20190601_CT_Abdomen+Pelvis_Dynamic_(contrast).npy'\r\n",
      "'000270_20190608_Chest_CT_(contrast).npy'\r\n",
      "'000272_20190601_CT_Abdomen+Pelvis_Dynamic_(contrast).npy'\r\n",
      "'000272_20190614_Chest_CT_(contrast).npy'\r\n",
      "'000276_20190604_Chest_CT_(contrast).npy'\r\n",
      "'000278_20190620_Chest_CT_(contrast).npy'\r\n",
      "'000279_20190614_Chest_3DCT_(contrast).npy'\r\n",
      "'000281_20190701_Chest_CT_(contrast).npy'\r\n",
      "'000282_20190410_CT_Abdomen+Pelvis_Dynamic_(contrast).npy'\r\n",
      "'000282_20190701_CT_Abdomen+Pelvis_Post_(contrast).npy'\r\n",
      "'000285_20190801_CT_Abdomen+Pelvis_Pre-Post_(contrast).npy'\r\n",
      "'000285_20190807_Chest_CT_(contrast).npy'\r\n",
      "'000286_20190701_CT_Abdomen+Pelvis_Dynamic_(contrast).npy'\r\n",
      "'000286_20190710_[외부_CT_19-07-10]Chest_CT_contrast.npy'\r\n",
      "'000288_20190701_CT_Abdomen+Pelvis_Dynamic_(contrast).npy'\r\n",
      "'000291_20190701_CT_Abdomen+Pelvis_Dynamic_(contrast).npy'\r\n",
      "'000291_20190718_Chest_CT_(contrast).npy'\r\n",
      "'000296_20190726_Chest_CT_(contrast).npy'\r\n",
      "'000298_20190726_Chest_CT_(contrast).npy'\r\n",
      "'000301_20190801_CT_Acute_Abdomen_(contrast).npy'\r\n",
      "'000301_20190827_Chest_CT_(contrast).npy'\r\n",
      "'000302_20190726_Chest_CT_(contrast).npy'\r\n",
      "'000304_20190124_CT_Liver_(contrast).npy'\r\n",
      "'000305_20190801_CT_Acute_Abdomen_(contrast).npy'\r\n",
      "'000308_20190826_Chest_CT_(contrast).npy'\r\n",
      "'000309_20190801_CT_Abdomen+Pelvis_Dynamic_(contrast).npy'\r\n",
      "'000309_20190823_Chest_CT_(contrast).npy'\r\n",
      "'000311_20190902_Chest_CT_(contrast).npy'\r\n",
      "'000316_20190627_Chest_CT_(contrast).npy'\r\n",
      "'000316_20190715_Spine^L_SPINE_(Adult).npy'\r\n",
      "'000322_20190901_CT_Abdomen+Pelvis_Dynamic_(contrast).npy'\r\n",
      "'000322_20190913_Chest_CT_(contrast).npy'\r\n",
      "'000325_20190919_Chest_CT_(contrast).npy'\r\n",
      "'000330_20190926_Chest_CT_(contrast).npy'\r\n",
      "'000332_20191001_CT_Abdomen+Pelvis_Dynamic_(contrast).npy'\r\n",
      "'000344_20191125_Chest_CT_(contrast).npy'\r\n",
      "'000352_20191001_CT_Abdomen+Pelvis_Dynamic_(contrast).npy'\r\n",
      "'000352_20191017_Chest_CT_(contrast).npy'\r\n",
      "'000354_20191001_CT_Abdomen+Pelvis_Post_(contrast).npy'\r\n",
      "'000354_20191022_Chest_CT_(contrast).npy'\r\n",
      "'000355_20190901_CT_Abdomen+Pelvis_Dynamic_(contrast).npy'\r\n",
      "'000355_20191023_Chest_CT_(contrast).npy'\r\n",
      "'000356_20190901_CT_Abdomen+Pelvis_Dynamic_(contrast).npy'\r\n",
      "'000356_20191024_Chest_CT_(contrast).npy'\r\n",
      "'000362_20191201_CT_Abdomen+Pelvis_Dynamic_(contrast).npy'\r\n",
      "'000362_20191214_Chest_CT_(contrast).npy'\r\n",
      "'000363_20191201_CT_Abdomen+Pelvis_Pre-Post_(contrast).npy'\r\n",
      "'000363_20191222_Chest_3DCT_(contrast).npy'\r\n",
      "'000364_20191217_Chest_CT_(contrast).npy'\r\n",
      "'000368_20200101_CT_Abdomen+Pelvis_Dynamic_(contrast).npy'\r\n",
      "'000370_20200101_CT_Abdomen+Pelvis_Post_(contrast).npy'\r\n",
      "'000370_20200117_Chest_CT_(contrast).npy'\r\n",
      "'000372_20200101_CT_Abdomen+Pelvis_Dynamic_(contrast).npy'\r\n",
      "'000376_20200101_CT_Abdomen+Pelvis_Dynamic_(contrast).npy'\r\n",
      "'000376_20200114_Chest_CT_(contrast).npy'\r\n",
      "'000386_20200204_Chest_CT_(contrast).npy'\r\n",
      "'000391_20200216_Thoracic_Aorta_CT_Angio+3D_(contrast).npy'\r\n",
      "'000400_20200201_CT_Biliary_(contrast).npy'\r\n",
      "'000400_20200210_Chest_CT_(contrast).npy'\r\n",
      "'000404_20200201_CT_Abdomen+Pelvis_Dynamic_(contrast).npy'\r\n",
      "'000404_20200305_Chest_CT_(contrast).npy'\r\n",
      "'000409_20200301_CT_Biliary_(contrast).npy'\r\n",
      "'000409_20200310_Chest_CT_(contrast).npy'\r\n",
      "'000417_20200331_Chest_CT_(contrast).npy'\r\n",
      "'000423_20200401_CT_Abdomen+Pelvis_Dynamic_(contrast).npy'\r\n",
      "'000423_20200407_Chest_CT_(contrast).npy'\r\n",
      "'000424_20200218_Chest_CT_(contrast).npy'\r\n",
      "'000424_20200312_Chest_CT_(noncontrast).npy'\r\n",
      "'000435_20200401_CT_Abdomen+Pelvis_Dynamic_(contrast).npy'\r\n",
      "'000435_20200420_Chest_CT_(contrast).npy'\r\n",
      "'000450_20200512_Chest_CT_(contrast).npy'\r\n",
      "'000450_20200528_CT_Abdomen+Pelvis_Post_(contrast).npy'\r\n",
      "'000466_20210125_Chest_CT_(contrast).npy'\r\n",
      "'000466_20210128_CT_Abdomen+Pelvis_Post_(contrast).npy'\r\n",
      "'000475_20210210_Chest_CT_(contrast).npy'\r\n",
      "'000481_20200722_Chest_CT_(noncontrast).npy'\r\n",
      "'000481_20210305_Thorax^Lung_Pre_(Adult).npy'\r\n",
      "'000481_20210409_CT_Liver_(contrast).npy'\r\n",
      "'000492_20210401_CT_Abdomen+Pelvis_Pre-Post_(contrast).npy'\r\n",
      "'000494_20210405_Chest_CT_(contrast).npy'\r\n",
      "'000506_20201110_CT_Urography_(contrast).npy'\r\n",
      "'000506_20201113_Chest_CT_(contrast).npy'\r\n",
      "'000528_20210514_Chest_CT_(contrast).npy'\r\n",
      "'000530_20210428_Chest_CT_(contrast).npy'\r\n",
      "'000533_20210507_CT_Liver_(contrast).npy'\r\n",
      "'000541_20210520_Chest_CT_(contrast).npy'\r\n",
      "'000557_20210621_CT_Abdomen+Pelvis_Post_(contrast).npy'\r\n",
      "'000557_20210621_Chest_CT_(contrast).npy'\r\n",
      "'000560_20210706_CT_Abdomen+Pelvis_Dynamic_(contrast).npy'\r\n",
      "'000560_20210706_Chest_CT_(contrast).npy'\r\n",
      "'BH001_20190501_Abdomen_&_pelvis_CT_(3D).npy'\r\n",
      "'BH002_20190701_Chest_CT_(Non_contrast)_+_3D.npy'\r\n",
      "'BH005_20170701_Abdomen_&_pelvis_CT_(3D).npy'\r\n",
      "'BH005_20170707_Chest_CT_(contrast)_+_3D_(Breast_with_other_CT).npy'\r\n",
      "'BH006_20170801_Chest_CT_(Contrast)_+_3D(Breast).npy'\r\n",
      "'BH007_20190801_Abdomen_&_pelvis_CT_(3D).npy'\r\n",
      "'BH007_20190801_Chest_CT_(contrast)_+_3D_(Chest_with_other_CT).npy'\r\n",
      "'BH008_20190701_Abdomen_&_pelvis_CT_(3D).npy'\r\n",
      "'BH008_20190701_Chest_CT_(contrast)_+_3D_(Chest_with_other_CT).npy'\r\n",
      "'BH009_20180301_Abdomen_&_pelvis_CT_(3D).npy'\r\n",
      "'BH009_20180301_Chest_CT_(contrast)_+_3D_(TS_with_other_CT).npy'\r\n",
      "'BH010_20161101_Abdomen_&_pelvis_CT_(3D).npy'\r\n",
      "'BH010_20161101_Chest_CT_(contrast)_+_3D_(Breast_with_other_CT).npy'\r\n",
      "'BH012_20180401_Abdomen_&_pelvis_CT_(3D).npy'\r\n",
      "'BH012_20180401_Chest_CT_(contrast)_+_3D_(Chest_with_other_CT).npy'\r\n",
      "'BH013_20191001_Chest_CT_(contrast)_+_3D_(Chest_with_other_CT).npy'\r\n",
      "'BH014_20181201_Abdomen_&_pelvis_CT_(3D).npy'\r\n",
      "'BH014_20181201_Chest_CT_(contrast)_+_3D_(Chest_with_other_CT).npy'\r\n",
      "'BH015_20190101_Abdomen_&_pelvis_CT_(3D).npy'\r\n",
      "'BH015_20190101_Chest_CT_(contrast)_+_3D_(Breast_with_other_CT).npy'\r\n",
      "'BH016_20151001_Abdomen_&_pelvis_CT_(3D).npy'\r\n",
      "'BH016_20151001_Chest_CT_(contrast)_+_3D_(Chest_with_other_CT).npy'\r\n",
      "'BH017_20191201_Abdomen_&_pelvis_CT_(3D).npy'\r\n",
      "'BH017_20191201_Chest_CT_(contrast)_+_3D_(Chest_with_other_CT).npy'\r\n",
      "'BH019_20191101_Thorax^02_Chest_CON_(Adult).npy'\r\n",
      "'BH020_20191201_Chest_CT_(Non_contrast)_+_3D.npy'\r\n",
      "'BH021_20181001_Abdomen_&_pelvis_CT_(3D).npy'\r\n",
      "'BH021_20181001_Chest_CT_(contrast)_+_3D_(Chest_with_other_CT).npy'\r\n",
      "'BH022_20190101_Thorax^03_Chest_NON_(Adult).npy'\r\n",
      "'BH023_20191101_Abdomen_&_pelvis_CT_(3D).npy'\r\n",
      "'BH023_20191101_Chest_CT_(contrast)_+_3D_(Chest_with_other_CT).npy'\r\n",
      "'BH024_20190501_Abdomen_&_pelvis_CT_(3D).npy'\r\n",
      "'BH024_20190501_Chest_CT_(contrast)_+_3D_(Breast_with_other_CT).npy'\r\n",
      "'BH026_20190601_Abdomen_&_pelvis_CT_(3D).npy'\r\n",
      "'BH027_20191001_Chest_CT_(Contrast)_+_3D(TS).npy'\r\n",
      "'BH027_20191001_L-spine_CT_(3D).npy'\r\n",
      "'BH028_20190801_Chest_CT_(contrast)_+_3D.npy'\r\n",
      "'BH029_20200101_Chest_HRCT_(lung_cancer).npy'\r\n",
      "'BH031_20160301_CT_Angio_+_3D_Pulmonary_artery_(Embolism).npy'\r\n",
      "'BH032_20180701_Chest_CT_(contrast)_+_3D_(Breast_with_other_CT).npy'\r\n",
      "'BH034_20190901_Chest_CT_(contrast)_+_3D_(Chest_with_other_CT).npy'\r\n",
      "'BH034_20190923_GU_OBGY,Abd-pelvis_CT(pre&post)_(3D).npy'\r\n",
      "'BH035_20191101_GU_Kidney_&_bladder_CT_(3D).npy'\r\n",
      "'BH036_20180301_GU_Kidney_&_bladder_CT_(3D).npy'\r\n",
      "'BH037_20171125_Abdomen_&_pelvis_CT_(3D).npy'\r\n",
      "'BH037_20171125_Chest_CT_(contrast)_+_3D_(Chest_with_other_CT).npy'\r\n",
      "'BH040_20200101_CT_Angio_+_3D_Pulmonary_artery_(Embolism).npy'\r\n",
      "'BH043_20191001_Abdomen_&_pelvis_CT_(3D).npy'\r\n",
      "'BH043_20191001_Chest_CT_(contrast)_+_3D_(Chest_with_other_CT).npy'\r\n",
      "'BH045_20181001_Chest_CT_(contrast)_+_3D_(Chest_with_other_CT).npy'\r\n",
      "'BH047_20180901_Abdomen_&_pelvis_CT_(3D).npy'\r\n",
      "'BH048_20190501_Chest_CT_(contrast)_+_3D_(Breast_with_other_CT).npy'\r\n",
      "'BH051_20190301_GU_Kidney_&_bladder_CT_(3D).npy'\r\n",
      "'BH052_20190901_Abdomen_&_pelvis_CT_(3D).npy'\r\n",
      "'BH052_20190901_Chest_CT_(contrast)_+_3D_(Chest_with_other_CT).npy'\r\n",
      "'BH054_20191122_Abdomen^00_Liver_CT_(Adult).npy'\r\n",
      "'BH055_20200328_Chest_CT_(contrast)_+_3D_(Chest_with_other_CT).npy'\r\n",
      "'BH056_20200721_Chest_CT_(contrast)_+_3D.npy'\r\n",
      "'BH057_20191227_Abdomen_&_pelvis_CT_(3D).npy'\r\n",
      "'BH057_20191227_Chest_CT_(contrast)_+_3D_(Chest_with_other_CT).npy'\r\n",
      "'BH058_20180918_Chest_CT_(contrast)_+_3D.npy'\r\n",
      "'BH059_20201013_Abdomen_&_pelvis_CT.npy'\r\n",
      "'BH060_20200413_Chest_CT_(contrast)_+_3D.npy'\r\n",
      "'BH061_20190315_Abdomen_&_pelvis_CT_(3D).npy'\r\n",
      "'BH061_20190315_Chest_CT_(contrast)_+_3D_(Chest_with_other_CT).npy'\r\n",
      "'BH062_20201104_Chest_CT_(contrast)_+_3D_(Chest_with_other_CT).npy'\r\n",
      "'BH063_20200519_Chest_CT_(Non_contrast)_+_3D(Breast).npy'\r\n",
      "'BH064_20200605_Abdomen_&_pelvis_CT_(3D).npy'\r\n",
      "'BH064_20200605_Chest_CT_(contrast)_+_3D_(Chest_with_other_CT).npy'\r\n",
      "'BH065_20201013_Low_dose_Chest_CT_+_3D(insured).npy'\r\n",
      "'BH066_20190525_Chest_CT_(contrast)_+_3D_(Chest_with_other_CT).npy'\r\n",
      "'BH067_20191017_Chest_CT_(contrast)_+_3D_(Chest_with_other_CT).npy'\r\n",
      "'BH069_20200505_Chest_CT_(contrast)_+_3D.npy'\r\n",
      "'BH070_20160823_Abdomen_&_pelvis_CT_(3D).npy'\r\n",
      "'BH070_20160823_Chest_CT_(contrast)_+_3D_(Chest_with_other_CT).npy'\r\n",
      "'BH071_20160826_Chest_CT_(contrast)_+_3D.npy'\r\n",
      "'BH073_20201223_Abdomen_&_pelvis_CT.npy'\r\n",
      "'BH073_20201223_Chest_CT_(contrast)_+_3D_(Chest_with_other_CT).npy'\r\n",
      "'BH074_20201113_Abdomen^00_Abd_CT_(Adult).npy'\r\n",
      "'BH075_20200721_Chest_CT_(Contrast)_+_3D(Breast).npy'\r\n",
      "'BH076_20180605_Chest_CT_(contrast)_+_3D_(Chest_with_other_CT).npy'\r\n",
      "'BH076_20180605_GU_Abdomen_&_pelvis_CT_(3D).npy'\r\n",
      "'BH078_20200522_Abdomen_&_pelvis_CT_(3D).npy'\r\n",
      "'BH079_20200921_Low_dose_Chest_CT_+_3D(insured).npy'\r\n",
      "'BH080_20181210_Abdomen_&_pelvis_CT_(3D).npy'\r\n",
      "'BH081_20190322_Abdomen_&_pelvis_CT_(3D).npy'\r\n",
      "'BH081_20190322_Chest_CT_(contrast)_+_3D_(Chest_with_other_CT).npy'\r\n",
      "'BH082_20200416_Chest_CT_(contrast)_+_3D.npy'\r\n",
      "'BH085_20200801_Abdomen_&_pelvis_CT.npy'\r\n",
      "'BH086_20190812_Chest_CT_(Contrast)_+_3D(TS).npy'\r\n",
      "'BH087_20190314_Abdomen_&_pelvis_CT_(3D).npy'\r\n",
      "'BH089_20200803_Chest_CT_(Contrast)_+_3D(TS).npy'\r\n",
      "'BH089_20200811_Abdomen_&_pelvis_CT.npy'\r\n",
      "'BH090_20200924_Abdomen_&_pelvis_CT.npy'\r\n",
      "'BH091_20200104_Chest_CT_(contrast)_+_3D_(Chest_with_other_CT).npy'\r\n",
      "'BH091_20200104_GU_Kidney_&_bladder_CT_(3D).npy'\r\n",
      "'BH095_20200727_Abdomen_&_pelvis_CT_(3D).npy'\r\n",
      "'BH098_20200626_Chest_CT_(contrast)_+_3D_(Chest_with_other_CT).npy'\r\n",
      "'BH098_20200626_GU_Kidney_&_bladder_CT_(3D).npy'\r\n",
      "'BH099_20200806_Abdomen_&_pelvis_CT.npy'\r\n",
      "'BH099_20200806_Chest_CT_(contrast)_+_3D_(Chest_with_other_CT).npy'\r\n",
      "'BH100_20201007_Thorax^02_Chest_CON_(Adult).npy'\r\n",
      "'BH101_20201109_Chest_CT_(Contrast)_+_3D(TS).npy'\r\n",
      "'BH104_20161219_Abdomen_&_pelvis_CT_(3D).npy'\r\n",
      "'BH104_20161219_Chest_CT_(contrast)_+_3D_(Chest_with_other_CT).npy'\r\n",
      "'BH105_20160820_Chest_CT_(contrast)_+_3D.npy'\r\n",
      "'BH106_20200613_Abdomen_&_pelvis_CT_(3D).npy'\r\n",
      "'BH106_20200613_Chest_CT_(contrast)_+_3D_(Breast_with_other_CT).npy'\r\n",
      "'BH107_20200510_Chest_CT_(Contrast)_+_3D(TS).npy'\r\n",
      "'BH108_20180223_Liver_CT_(LC_or_CLD,_3D).npy'\r\n",
      "'BH108_20180228_Chest_CT_(contrast)_+_3D.npy'\r\n",
      "'BH109_20181210_Chest_CT_(contrast)_+_3D_(Breast_with_other_CT).npy'\r\n",
      "'BH110_20200616_Chest_CT_(contrast)_+_3D_(Chest_with_other_CT).npy'\r\n",
      " BH111_20161020_CT_Angio_+_3D_Coronary,_Chest.npy\r\n",
      "'BH112_20190201_Abdomen_&_pelvis_CT_(3D).npy'\r\n",
      "'BH112_20190201_Chest_CT_(contrast)_+_3D_(Chest_with_other_CT).npy'\r\n",
      "'BH113_20170914_Liver_CT_(LC_or_CLD,_3D).npy'\r\n",
      "'BH114_20180920_Chest_CT_(contrast)_+_3D_(Chest_with_other_CT).npy'\r\n",
      "'BH114_20180920_GU_Kidney_&_bladder_CT_(3D).npy'\r\n",
      "'BH116_20180606_Chest_CT_(contrast)_+_3D_(Breast_with_other_CT).npy'\r\n",
      "'BH116_20180606_GU_Abdomen_&_pelvis_CT_(3D).npy'\r\n",
      "'BH117_20180506_Abdomen_&_pelvis_CT_(3D).npy'\r\n",
      "'BH117_20180506_Chest_CT_(contrast)_+_3D_(Chest_with_other_CT).npy'\r\n",
      "'BH118_20200617_Liver_CT_(LC_or_CLD,_3D).npy'\r\n",
      "'BH118_20200702_Chest_CT_(contrast)_+_3D.npy'\r\n",
      "'BH119_20200227_Chest_CT_(contrast)_+_3D.npy'\r\n",
      "'BH119_20200303_Abdomen_&_pelvis_CT_(3D).npy'\r\n",
      "'BH120_20200304_Chest_CT_(contrast)_+_3D.npy'\r\n",
      "'BH120_20200406_Abdomen_&_pelvis_CT_(3D).npy'\r\n",
      "'BH120_20200406_Chest_CT_(contrast)_+_3D_(Chest_with_other_CT).npy'\r\n",
      "'BH121_20200301_Abdomen_&_pelvis_CT_(3D).npy'\r\n",
      "'BH121_20200301_Chest_CT_(contrast)_+_3D_(Chest_with_other_CT).npy'\r\n",
      "'BH123_20201023_Abdomen_&_pelvis_CT.npy'\r\n",
      "'BH123_20201023_Chest_CT_(contrast)_+_3D_(Chest_with_other_CT).npy'\r\n",
      "'KH001_20210501_Chest(+).npy'\r\n",
      "'KH002_20210301_Abdomen^00_AbdomenRoutine_(Adult).npy'\r\n",
      "'KH002_20210301_Thorax^00_Fl_Chest_Routine_(Adult).npy'\r\n",
      "'KH007_20200601_Chest(+).npy'\r\n",
      "'KH007_20200601_Chest(+)_+_Abdomen_&_Pelvis_(+).npy'\r\n",
      "'KH009_20200801_Chest(+).npy'\r\n",
      "'KH009_20200801_Chest(+)_+_Abdomen_&_Pelvis_(+).npy'\r\n",
      "'KH010_20201201_Chest(+).npy'\r\n",
      "'KH010_20201201_Chest(+)_+_Abdomen_&_P.npy'\r\n",
      "'KH014_20190701_Chest(+).npy'\r\n",
      "'KH014_20190701_IM_Chest(+)_+_Abdomen_&_Pelvis_(+).npy'\r\n",
      "'KH016_20191101_Chest(+).npy'\r\n",
      "'KH016_20191101_Chest(+)_+_Abdomen_&_Pelvis(+).npy'\r\n",
      "'KH023_20210901_Chest(+).npy'\r\n",
      "'KH024_20211001_Chest(+).npy'\r\n",
      "'KH025_20211001_Chest(+).npy'\r\n",
      "'KH026_20210801_Chest(+).npy'\r\n",
      "'KH027_20210801_Chest(+).npy'\r\n",
      "'KH028_20210401_Thorax^00_Fl_Chest_Routine_(Adult).npy'\r\n",
      " KH030_20210901_Chest_Low-Dose_Screeni.npy\r\n",
      "'KH031_20210801_Chest(+).npy'\r\n",
      "'KH032_20210701_Chest(+).npy'\r\n",
      "'KH033_20210701_Chest(+).npy'\r\n",
      "'KH036_20210401_Chest(+).npy'\r\n",
      "'KH037_20210401_Chest(+).npy'\r\n",
      "'KH038_20210401_Chest(+).npy'\r\n",
      "'KH039_20210301_Chest_(-)_Routine.npy'\r\n",
      "'KH040_20210301_Chest(+).npy'\r\n",
      "'KH042_20210501_Chest(+).npy'\r\n",
      "'KH043_20210601_Thorax^00_Fl_Chest_Routine_(Adult).npy'\r\n",
      "'SN002_20190801_CT_Chest_+_3D_(contr.npy'\r\n",
      "'SN004_20190901_CT_Chest_+_3D_(contrast).npy'\r\n",
      "'SN005_20191001_Abdomen^03_LIVER_(Adult).npy'\r\n",
      "'SN005_20191101_CT_Chest_+_3D_(contr.npy'\r\n",
      "'SN007_20190701_Thorax^05_Chest_Lung_Cancer_3D_(Adult).npy'\r\n",
      "'SN012_20150801_Abdomen^01_Abdomen_Pelvis_Chest_(Adult).npy'\r\n",
      " SN016_20190901_CT_Abdomen+Pelvis_Ar.npy\r\n",
      "'SN016_20190901_CT_Chest_+_3D_(contr.npy'\r\n",
      "'SN017_20190701_Thorax^05_Chest_Lung_Cancer_3D_(Adult).npy'\r\n",
      " SN019_20190801_CT_Abdomen+Pelvis_Ar.npy\r\n",
      "'SN019_20190801_CT_Chest_+_3D_(contr.npy'\r\n",
      "'SN025_20200401_CT_Chest_+_3D_(contr.npy'\r\n",
      "'SN028_20160801_CT_Abdomen+Pelvis_3D_(contrast).npy'\r\n",
      "'SN028_20160801_CT_Chest_+_3D_(contrast).npy'\r\n",
      " SN031_20160501_2-CT_Chest_Lung_cancer.npy\r\n",
      " SN031_20160501_CT_Abdomen+Pelvis_Ar.npy\r\n",
      "'SN035_20180101_CT_Stomach+Pelvis_Arterial+Portal(contrast).npy'\r\n",
      "'SN036_20190601_CT_Chest_+_3D_(contr.npy'\r\n",
      " SN042_20170901_CT_Abdomen+Pelvis_3D.npy\r\n",
      "'SN042_20170901_CT_Chest_+_3D_(contr.npy'\r\n",
      "'SN051_20170401_CT_Abdomen+Pelvis_Arterial+Portal_(contrast).npy'\r\n",
      "'SN051_20170401_CT_Chest_+_3D_(contrast_NO_CM).npy'\r\n",
      "'SN054_20170201_CT_Chest_Lung_cancer+3D(contrast).npy'\r\n",
      " SN055_20170301_CT_Chest_Low_Dose_+.npy\r\n",
      "'SN056_20170601_Thorax^01_Lung_Cancer_3D_(Adult).npy'\r\n"
     ]
    }
   ],
   "source": [
    "!ls /workspace/BoneMeta_new/images"
   ]
  },
  {
   "cell_type": "code",
   "execution_count": 41,
   "metadata": {},
   "outputs": [
    {
     "name": "stdout",
     "output_type": "stream",
     "text": [
      "\n",
      "        consumed_time: 96.9624547273852s\n",
      "        \n",
      "\n",
      "        consumed_time: 22.2795384619385s\n",
      "        \n"
     ]
    }
   ],
   "source": [
    "source_dir = '/workspace/BoneMeta_new/images'\n",
    "target_dir = '/workspace/BoneMeta_all_256/images'\n",
    "\n",
    "source_dir_lb = '/workspace/BoneMeta_new/labels'\n",
    "target_dir_lb = '/workspace/BoneMeta_all_256/labels'\n",
    "\n",
    "image_resampler = Resampler(source_dir, target_dir, [256,256,256])\n",
    "label_resampler_1 = Resampler(source_dir_lb, target_dir_lb, [256,256,256], True)\n",
    "# label_resampler_2 = Resampler('/workspace/BoneMeta_new/labels_mixed', '/workspace/BoneMeta_all_192/labels_mixed', [192,192,192], True)\n",
    "# label_resampler_3 = Resampler('/workspace/BoneMeta_new/labels_sclerotic', '/workspace/BoneMeta_all_192/labels_sclerotic', [192,192,192], True)\n",
    "\n",
    "image_resampler.resample_all()\n",
    "label_resampler_1.resample_all()\n",
    "# label_resampler_2.resample_all()\n",
    "# label_resampler_3.resample_all()\n"
   ]
  },
  {
   "cell_type": "code",
   "execution_count": 95,
   "metadata": {},
   "outputs": [
    {
     "data": {
      "text/plain": [
       "(128, 128, 128)"
      ]
     },
     "execution_count": 95,
     "metadata": {},
     "output_type": "execute_result"
    }
   ],
   "source": [
    "np.load('/workspace/BoneMeta_all_128/images/BH008_20190701_abdomen.npy').shape"
   ]
  },
  {
   "cell_type": "code",
   "execution_count": 10,
   "metadata": {},
   "outputs": [],
   "source": [
    "file_names = os.listdir(all_128_image_dir)\n",
    "image_sizes = [np.load(os.path.join(all_128_image_dir, file)).shape for file in file_names]\n",
    "label_sizes = [np.load(os.path.join(all_128_label_dir, file)).shape for file in file_names]"
   ]
  },
  {
   "cell_type": "code",
   "execution_count": 11,
   "metadata": {},
   "outputs": [
    {
     "data": {
      "text/plain": [
       "[(128, 128, 128),\n",
       " (128, 128, 128),\n",
       " (128, 128, 128),\n",
       " (128, 128, 128),\n",
       " (128, 128, 128),\n",
       " (128, 128, 128),\n",
       " (128, 128, 128),\n",
       " (128, 128, 128),\n",
       " (128, 128, 128),\n",
       " (128, 128, 128),\n",
       " (128, 128, 128),\n",
       " (128, 128, 128),\n",
       " (128, 128, 128),\n",
       " (128, 128, 128),\n",
       " (128, 128, 128),\n",
       " (128, 128, 128),\n",
       " (128, 128, 128),\n",
       " (128, 128, 128),\n",
       " (128, 128, 128),\n",
       " (128, 128, 128),\n",
       " (128, 128, 128),\n",
       " (128, 128, 128),\n",
       " (128, 128, 128),\n",
       " (128, 128, 128),\n",
       " (128, 128, 128),\n",
       " (128, 128, 128),\n",
       " (128, 128, 128),\n",
       " (128, 128, 128),\n",
       " (128, 128, 128),\n",
       " (128, 128, 128),\n",
       " (128, 128, 128),\n",
       " (128, 128, 128),\n",
       " (128, 128, 128),\n",
       " (128, 128, 128),\n",
       " (128, 128, 128),\n",
       " (128, 128, 128),\n",
       " (128, 128, 128),\n",
       " (128, 128, 128),\n",
       " (128, 128, 128),\n",
       " (128, 128, 128),\n",
       " (128, 128, 128),\n",
       " (128, 128, 128),\n",
       " (128, 128, 128),\n",
       " (128, 128, 128),\n",
       " (128, 128, 128),\n",
       " (128, 128, 128),\n",
       " (128, 128, 128),\n",
       " (128, 128, 128),\n",
       " (128, 128, 128),\n",
       " (128, 128, 128),\n",
       " (128, 128, 128),\n",
       " (128, 128, 128),\n",
       " (128, 128, 128),\n",
       " (128, 128, 128),\n",
       " (128, 128, 128),\n",
       " (128, 128, 128),\n",
       " (128, 128, 128),\n",
       " (128, 128, 128),\n",
       " (128, 128, 128),\n",
       " (128, 128, 128),\n",
       " (128, 128, 128),\n",
       " (128, 128, 128),\n",
       " (128, 128, 128),\n",
       " (128, 128, 128),\n",
       " (128, 128, 128),\n",
       " (128, 128, 128),\n",
       " (128, 128, 128),\n",
       " (128, 128, 128),\n",
       " (128, 128, 128),\n",
       " (128, 128, 128),\n",
       " (128, 128, 128),\n",
       " (128, 128, 128),\n",
       " (128, 128, 128),\n",
       " (128, 128, 128),\n",
       " (128, 128, 128),\n",
       " (128, 128, 128),\n",
       " (128, 128, 128),\n",
       " (128, 128, 128),\n",
       " (128, 128, 128),\n",
       " (128, 128, 128),\n",
       " (128, 128, 128),\n",
       " (128, 128, 128),\n",
       " (128, 128, 128),\n",
       " (128, 128, 128),\n",
       " (128, 128, 128),\n",
       " (128, 128, 128),\n",
       " (128, 128, 128),\n",
       " (128, 128, 128),\n",
       " (128, 128, 128),\n",
       " (128, 128, 128),\n",
       " (128, 128, 128),\n",
       " (128, 128, 128),\n",
       " (128, 128, 128),\n",
       " (128, 128, 128),\n",
       " (128, 128, 128),\n",
       " (128, 128, 128),\n",
       " (128, 128, 128),\n",
       " (128, 128, 128),\n",
       " (128, 128, 128),\n",
       " (128, 128, 128),\n",
       " (128, 128, 128),\n",
       " (128, 128, 128),\n",
       " (128, 128, 128),\n",
       " (128, 128, 128),\n",
       " (128, 128, 128),\n",
       " (128, 128, 128),\n",
       " (128, 128, 128),\n",
       " (128, 128, 128),\n",
       " (128, 128, 128),\n",
       " (128, 128, 128),\n",
       " (128, 128, 128),\n",
       " (128, 128, 128),\n",
       " (128, 128, 128),\n",
       " (128, 128, 128),\n",
       " (128, 128, 128),\n",
       " (128, 128, 128),\n",
       " (128, 128, 128),\n",
       " (128, 128, 128),\n",
       " (128, 128, 128),\n",
       " (128, 128, 128),\n",
       " (128, 128, 128),\n",
       " (128, 128, 128),\n",
       " (128, 128, 128),\n",
       " (128, 128, 128),\n",
       " (128, 128, 128),\n",
       " (128, 128, 128),\n",
       " (128, 128, 128),\n",
       " (128, 128, 128),\n",
       " (128, 128, 128),\n",
       " (128, 128, 128),\n",
       " (128, 128, 128),\n",
       " (128, 128, 128),\n",
       " (128, 128, 128),\n",
       " (128, 128, 128),\n",
       " (128, 128, 128),\n",
       " (128, 128, 128),\n",
       " (128, 128, 128),\n",
       " (128, 128, 128),\n",
       " (128, 128, 128),\n",
       " (128, 128, 128),\n",
       " (128, 128, 128),\n",
       " (128, 128, 128),\n",
       " (128, 128, 128),\n",
       " (128, 128, 128),\n",
       " (128, 128, 128),\n",
       " (128, 128, 128),\n",
       " (128, 128, 128),\n",
       " (128, 128, 128),\n",
       " (128, 128, 128),\n",
       " (128, 128, 128),\n",
       " (128, 128, 128),\n",
       " (128, 128, 128),\n",
       " (128, 128, 128),\n",
       " (128, 128, 128),\n",
       " (128, 128, 128),\n",
       " (128, 128, 128),\n",
       " (128, 128, 128),\n",
       " (128, 128, 128),\n",
       " (128, 128, 128),\n",
       " (128, 128, 128),\n",
       " (128, 128, 128),\n",
       " (128, 128, 128),\n",
       " (128, 128, 128),\n",
       " (128, 128, 128),\n",
       " (128, 128, 128),\n",
       " (128, 128, 128),\n",
       " (128, 128, 128),\n",
       " (128, 128, 128),\n",
       " (128, 128, 128),\n",
       " (128, 128, 128),\n",
       " (128, 128, 128),\n",
       " (128, 128, 128),\n",
       " (128, 128, 128),\n",
       " (128, 128, 128),\n",
       " (128, 128, 128),\n",
       " (128, 128, 128),\n",
       " (128, 128, 128),\n",
       " (128, 128, 128),\n",
       " (128, 128, 128),\n",
       " (128, 128, 128),\n",
       " (128, 128, 128),\n",
       " (128, 128, 128),\n",
       " (128, 128, 128),\n",
       " (128, 128, 128),\n",
       " (128, 128, 128),\n",
       " (128, 128, 128),\n",
       " (128, 128, 128),\n",
       " (128, 128, 128),\n",
       " (128, 128, 128),\n",
       " (128, 128, 128),\n",
       " (128, 128, 128),\n",
       " (128, 128, 128),\n",
       " (128, 128, 128),\n",
       " (128, 128, 128),\n",
       " (128, 128, 128),\n",
       " (128, 128, 128),\n",
       " (128, 128, 128),\n",
       " (128, 128, 128),\n",
       " (128, 128, 128),\n",
       " (128, 128, 128),\n",
       " (128, 128, 128),\n",
       " (128, 128, 128),\n",
       " (128, 128, 128),\n",
       " (128, 128, 128),\n",
       " (128, 128, 128),\n",
       " (128, 128, 128),\n",
       " (128, 128, 128),\n",
       " (128, 128, 128),\n",
       " (128, 128, 128),\n",
       " (128, 128, 128),\n",
       " (128, 128, 128),\n",
       " (128, 128, 128),\n",
       " (128, 128, 128),\n",
       " (128, 128, 128),\n",
       " (128, 128, 128),\n",
       " (128, 128, 128),\n",
       " (128, 128, 128),\n",
       " (128, 128, 128),\n",
       " (128, 128, 128),\n",
       " (128, 128, 128),\n",
       " (128, 128, 128),\n",
       " (128, 128, 128),\n",
       " (128, 128, 128),\n",
       " (128, 128, 128),\n",
       " (128, 128, 128),\n",
       " (128, 128, 128),\n",
       " (128, 128, 128),\n",
       " (128, 128, 128),\n",
       " (128, 128, 128),\n",
       " (128, 128, 128),\n",
       " (128, 128, 128),\n",
       " (128, 128, 128),\n",
       " (128, 128, 128),\n",
       " (128, 128, 128),\n",
       " (128, 128, 128),\n",
       " (128, 128, 128),\n",
       " (128, 128, 128),\n",
       " (128, 128, 128),\n",
       " (128, 128, 128),\n",
       " (128, 128, 128),\n",
       " (128, 128, 128),\n",
       " (128, 128, 128),\n",
       " (128, 128, 128),\n",
       " (128, 128, 128),\n",
       " (128, 128, 128),\n",
       " (128, 128, 128),\n",
       " (128, 128, 128),\n",
       " (128, 128, 128),\n",
       " (128, 128, 128),\n",
       " (128, 128, 128),\n",
       " (128, 128, 128),\n",
       " (128, 128, 128),\n",
       " (128, 128, 128),\n",
       " (128, 128, 128),\n",
       " (128, 128, 128),\n",
       " (128, 128, 128),\n",
       " (128, 128, 128),\n",
       " (128, 128, 128),\n",
       " (128, 128, 128),\n",
       " (128, 128, 128),\n",
       " (128, 128, 128),\n",
       " (128, 128, 128),\n",
       " (128, 128, 128),\n",
       " (128, 128, 128),\n",
       " (128, 128, 128),\n",
       " (128, 128, 128),\n",
       " (128, 128, 128),\n",
       " (128, 128, 128),\n",
       " (128, 128, 128),\n",
       " (128, 128, 128),\n",
       " (128, 128, 128),\n",
       " (128, 128, 128),\n",
       " (128, 128, 128),\n",
       " (128, 128, 128),\n",
       " (128, 128, 128),\n",
       " (128, 128, 128),\n",
       " (128, 128, 128),\n",
       " (128, 128, 128),\n",
       " (128, 128, 128),\n",
       " (128, 128, 128),\n",
       " (128, 128, 128),\n",
       " (128, 128, 128),\n",
       " (128, 128, 128),\n",
       " (128, 128, 128),\n",
       " (128, 128, 128),\n",
       " (128, 128, 128),\n",
       " (128, 128, 128),\n",
       " (128, 128, 128),\n",
       " (128, 128, 128),\n",
       " (128, 128, 128),\n",
       " (128, 128, 128),\n",
       " (128, 128, 128),\n",
       " (128, 128, 128),\n",
       " (128, 128, 128),\n",
       " (128, 128, 128),\n",
       " (128, 128, 128),\n",
       " (128, 128, 128),\n",
       " (128, 128, 128),\n",
       " (128, 128, 128),\n",
       " (128, 128, 128),\n",
       " (128, 128, 128),\n",
       " (128, 128, 128),\n",
       " (128, 128, 128),\n",
       " (128, 128, 128),\n",
       " (128, 128, 128),\n",
       " (128, 128, 128),\n",
       " (128, 128, 128),\n",
       " (128, 128, 128),\n",
       " (128, 128, 128),\n",
       " (128, 128, 128)]"
      ]
     },
     "execution_count": 11,
     "metadata": {},
     "output_type": "execute_result"
    }
   ],
   "source": [
    "label_sizes"
   ]
  },
  {
   "cell_type": "markdown",
   "metadata": {},
   "source": [
    "# Test Codes\n",
    "\n",
    "## Testing One Case"
   ]
  },
  {
   "cell_type": "code",
   "execution_count": 64,
   "metadata": {},
   "outputs": [],
   "source": [
    "img = np.load(get_image_path('000251_20190703_chest.npy'))"
   ]
  },
  {
   "cell_type": "code",
   "execution_count": 73,
   "metadata": {},
   "outputs": [],
   "source": [
    "cropper = CropForeground()"
   ]
  },
  {
   "cell_type": "code",
   "execution_count": 78,
   "metadata": {},
   "outputs": [
    {
     "data": {
      "text/plain": [
       "(array([ 0, 58,  0]), array([297, 512, 512]))"
      ]
     },
     "execution_count": 78,
     "metadata": {},
     "output_type": "execute_result"
    }
   ],
   "source": [
    "cropper.compute_bounding_box(img[np.newaxis,:])"
   ]
  },
  {
   "cell_type": "code",
   "execution_count": 79,
   "metadata": {},
   "outputs": [
    {
     "data": {
      "text/plain": [
       "(297, 454, 512)"
      ]
     },
     "execution_count": 79,
     "metadata": {},
     "output_type": "execute_result"
    }
   ],
   "source": [
    "cropper(img).shape"
   ]
  },
  {
   "cell_type": "code",
   "execution_count": 89,
   "metadata": {},
   "outputs": [],
   "source": [
    "import time"
   ]
  },
  {
   "cell_type": "code",
   "execution_count": 90,
   "metadata": {},
   "outputs": [
    {
     "name": "stdout",
     "output_type": "stream",
     "text": [
      "\n",
      "consumed_time: 1.6059333749872167s\n",
      "\n"
     ]
    }
   ],
   "source": [
    "t = time.perf_counter()\n",
    "\n",
    "resampled_image = resample_all_1mm(img, ct_info.resolution[0])\n",
    "\n",
    "elapsed_time = time.perf_counter() - t\n",
    "\n",
    "print(f'''\n",
    "consumed_time: {elapsed_time}s\n",
    "''')"
   ]
  },
  {
   "cell_type": "code",
   "execution_count": 53,
   "metadata": {},
   "outputs": [
    {
     "data": {
      "text/plain": [
       "(297, 512, 512)"
      ]
     },
     "execution_count": 53,
     "metadata": {},
     "output_type": "execute_result"
    }
   ],
   "source": [
    "img.shape"
   ]
  },
  {
   "cell_type": "code",
   "execution_count": 54,
   "metadata": {},
   "outputs": [
    {
     "data": {
      "text/plain": [
       "(297, 287, 287)"
      ]
     },
     "execution_count": 54,
     "metadata": {},
     "output_type": "execute_result"
    }
   ],
   "source": [
    "resampled_image.shape"
   ]
  },
  {
   "cell_type": "code",
   "execution_count": 56,
   "metadata": {},
   "outputs": [],
   "source": [
    "label = np.load(get_label_path('000251_20190703_chest.npy'))"
   ]
  },
  {
   "cell_type": "code",
   "execution_count": 57,
   "metadata": {},
   "outputs": [],
   "source": [
    "resampled_label = resample_all_1mm(label, ct_info.resolution[0])"
   ]
  },
  {
   "cell_type": "code",
   "execution_count": 77,
   "metadata": {},
   "outputs": [
    {
     "data": {
      "text/plain": [
       "0"
      ]
     },
     "execution_count": 77,
     "metadata": {},
     "output_type": "execute_result"
    }
   ],
   "source": [
    "adjust_window(resampled_image, [700,100]).astype(np.int32).min()"
   ]
  },
  {
   "cell_type": "code",
   "execution_count": null,
   "metadata": {
    "scrolled": false
   },
   "outputs": [],
   "source": [
    "plot_image_and_label(adjust_window(resampled_image, [700,100]).astype(np.int32), (resampled_label>0).astype(np.uint8))"
   ]
  },
  {
   "cell_type": "code",
   "execution_count": 29,
   "metadata": {},
   "outputs": [],
   "source": [
    "from monai.transforms import Rand3DElastic\n",
    "sample_np_image = dcm_to_numpy(cases[0], dcm_base_dir) # npy 로 변환한 3D 이미지 하나 입니다\n",
    "sample_label = np.load('/workspace/BoneMeta_new/labels/{}.npy'.format(cases[0]))\n",
    "elastic_deform = Rand3DElastic(sigma_range=(35,35), magnitude_range=(10,10), prob=1.0, rotate_range=0, shear_range=0)\n",
    "deformed_image = elastic_deform(sample_np_image)\n"
   ]
  },
  {
   "cell_type": "markdown",
   "metadata": {},
   "source": [
    "## Testing All Sizes"
   ]
  },
  {
   "cell_type": "code",
   "execution_count": 114,
   "metadata": {},
   "outputs": [],
   "source": [
    "file_names = os.listdir(all_1mm_image_dir)"
   ]
  },
  {
   "cell_type": "code",
   "execution_count": 115,
   "metadata": {},
   "outputs": [],
   "source": [
    "image_sizes = [np.load(os.path.join(all_1mm_image_dir, file)).shape for file in file_names]\n",
    "label_sizes = [np.load(os.path.join(all_1mm_label_dir, file)).shape for file in file_names]"
   ]
  },
  {
   "cell_type": "code",
   "execution_count": 116,
   "metadata": {},
   "outputs": [
    {
     "data": {
      "text/plain": [
       "True"
      ]
     },
     "execution_count": 116,
     "metadata": {},
     "output_type": "execute_result"
    }
   ],
   "source": [
    "image_sizes == label_sizes"
   ]
  },
  {
   "cell_type": "code",
   "execution_count": null,
   "metadata": {},
   "outputs": [],
   "source": [
    "plot_image_and_label(np.load(os.path.join(all_1mm_image_dir, file_names[5])), np.load(os.path.join(all_1mm_label_dir, file_names[5])))"
   ]
  },
  {
   "cell_type": "code",
   "execution_count": null,
   "metadata": {},
   "outputs": [],
   "source": []
  }
 ],
 "metadata": {
  "colab": {
   "collapsed_sections": [
    "TzNPrUS4_fm0",
    "cTCM0A09AzDn",
    "yNWBAqePCwZ0"
   ],
   "name": "CropAndPaste.ipynb",
   "version": ""
  },
  "kernelspec": {
   "display_name": "Python 3 (ipykernel)",
   "language": "python",
   "name": "python3"
  },
  "language_info": {
   "codemirror_mode": {
    "name": "ipython",
    "version": 3
   },
   "file_extension": ".py",
   "mimetype": "text/x-python",
   "name": "python",
   "nbconvert_exporter": "python",
   "pygments_lexer": "ipython3",
   "version": "3.9.5"
  }
 },
 "nbformat": 4,
 "nbformat_minor": 1
}
