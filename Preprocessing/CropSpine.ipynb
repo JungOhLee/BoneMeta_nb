{
 "cells": [
  {
   "cell_type": "code",
   "execution_count": 1,
   "id": "33b4f56d",
   "metadata": {},
   "outputs": [],
   "source": [
    "import os\n",
    "import SimpleITK as sitk\n",
    "import numpy as np\n",
    "import glob\n",
    "import matplotlib.pyplot as plt\n",
    "import pandas as pd\n",
    "\n",
    "import time"
   ]
  },
  {
   "cell_type": "code",
   "execution_count": 2,
   "id": "d95d95bc",
   "metadata": {},
   "outputs": [],
   "source": [
    "import sys\n",
    "sys.path.insert(1, '/workspace')\n",
    "from utils.utils import *"
   ]
  },
  {
   "cell_type": "code",
   "execution_count": 3,
   "id": "b397af38",
   "metadata": {},
   "outputs": [],
   "source": [
    "# from_dir = '/workspace/BoneMeta_new/images'\n",
    "# to_dir = '/workspace/BoneMeta_CropSpine/images'\n",
    "from_dir = '/workspace/BoneSeg/images'\n",
    "to_dir = '/workspace/BoneSeg_CropSpine/images'\n",
    "\n",
    "os.makedirs(to_dir, exist_ok=True)\n",
    "\n",
    "def get_from_path(file):\n",
    "    return os.path.join(from_dir, file)\n",
    "\n",
    "def get_to_path(file):\n",
    "    return os.path.join(to_dir, file)\n",
    "\n",
    "def crop_spine(np_image):\n",
    "    return np_image[:,200:456,128:384]\n",
    "\n",
    "def crop_and_save_all(from_dir):\n",
    "    from_files = os.listdir(from_dir)\n",
    "    for file in from_files: \n",
    "        np_image = np.load(get_from_path(file))\n",
    "        cropped_image = crop_spine(np_image)\n",
    "        np.save(get_to_path(file), cropped_image)"
   ]
  },
  {
   "cell_type": "code",
   "execution_count": 4,
   "id": "3c48800b",
   "metadata": {},
   "outputs": [],
   "source": [
    "crop_and_save_all(from_dir)"
   ]
  },
  {
   "cell_type": "code",
   "execution_count": 6,
   "id": "541b3d17",
   "metadata": {},
   "outputs": [],
   "source": [
    "# For labels\n",
    "from_dir = '/workspace/BoneSeg/labels'\n",
    "to_dir = '/workspace/BoneSeg_CropSpine/labels'\n",
    "os.makedirs(to_dir, exist_ok=True)\n",
    "crop_and_save_all(from_dir)"
   ]
  },
  {
   "cell_type": "code",
   "execution_count": null,
   "id": "c90ea5c3",
   "metadata": {},
   "outputs": [],
   "source": []
  },
  {
   "cell_type": "code",
   "execution_count": null,
   "id": "a1324a38",
   "metadata": {},
   "outputs": [],
   "source": []
  }
 ],
 "metadata": {
  "kernelspec": {
   "display_name": "Python 3",
   "language": "python",
   "name": "python3"
  },
  "language_info": {
   "codemirror_mode": {
    "name": "ipython",
    "version": 3
   },
   "file_extension": ".py",
   "mimetype": "text/x-python",
   "name": "python",
   "nbconvert_exporter": "python",
   "pygments_lexer": "ipython3",
   "version": "3.6.9"
  }
 },
 "nbformat": 4,
 "nbformat_minor": 5
}
