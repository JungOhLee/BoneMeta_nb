{
 "cells": [
  {
   "cell_type": "code",
   "execution_count": 15,
   "metadata": {
    "colab": {
     "base_uri": "https://localhost:8080/"
    },
    "executionInfo": {
     "elapsed": 10281,
     "status": "ok",
     "timestamp": 1627946100742,
     "user": {
      "displayName": "이정오",
      "photoUrl": "",
      "userId": "04886549528950007370"
     },
     "user_tz": -540
    },
    "id": "o5cCOuc-AZ06",
    "outputId": "ae22fec6-b357-4e02-ad6d-ec2d5e9e849b",
    "scrolled": true
   },
   "outputs": [
    {
     "name": "stdout",
     "output_type": "stream",
     "text": [
      "Collecting monai\n",
      "  Downloading monai-0.7.0-202109240007-py3-none-any.whl (650 kB)\n",
      "\u001b[K     |████████████████████████████████| 650 kB 12.1 MB/s eta 0:00:01\n",
      "\u001b[?25hRequirement already satisfied: numpy>=1.17 in /usr/local/lib/python3.6/dist-packages (from monai) (1.19.5)\n",
      "Requirement already satisfied: torch>=1.5 in /usr/local/lib/python3.6/dist-packages (from monai) (1.9.0+cu111)\n",
      "Requirement already satisfied: dataclasses in /usr/local/lib/python3.6/dist-packages (from torch>=1.5->monai) (0.8)\n",
      "Requirement already satisfied: typing-extensions in /usr/local/lib/python3.6/dist-packages (from torch>=1.5->monai) (3.10.0.0)\n",
      "Installing collected packages: monai\n",
      "Successfully installed monai-0.7.0\n",
      "\u001b[33mWARNING: Running pip as the 'root' user can result in broken permissions and conflicting behaviour with the system package manager. It is recommended to use a virtual environment instead: https://pip.pypa.io/warnings/venv\u001b[0m\n",
      "\u001b[33mWARNING: You are using pip version 21.2.3; however, version 21.3.1 is available.\n",
      "You should consider upgrading via the '/usr/bin/python -m pip install --upgrade pip' command.\u001b[0m\n"
     ]
    }
   ],
   "source": [
    "# !pip install monai\n",
    "# !pip install nibabel"
   ]
  },
  {
   "cell_type": "code",
   "execution_count": null,
   "metadata": {},
   "outputs": [],
   "source": []
  },
  {
   "cell_type": "code",
   "execution_count": null,
   "metadata": {},
   "outputs": [],
   "source": []
  },
  {
   "cell_type": "code",
   "execution_count": 3,
   "metadata": {
    "executionInfo": {
     "elapsed": 8,
     "status": "ok",
     "timestamp": 1627946100743,
     "user": {
      "displayName": "이정오",
      "photoUrl": "",
      "userId": "04886549528950007370"
     },
     "user_tz": -540
    },
    "id": "3bueKckSvS9t"
   },
   "outputs": [],
   "source": [
    "import os\n",
    "import SimpleITK as sitk\n",
    "import numpy as np\n",
    "import glob\n",
    "import matplotlib.pyplot as plt\n",
    "import pandas as pd\n",
    "\n",
    "import nibabel\n",
    "from monai.transforms import Spacing\n",
    "from monai.transforms import SpatialPad\n",
    "from monai.transforms import Resize\n",
    "from monai.transforms import CropForeground\n",
    "\n",
    "import time"
   ]
  },
  {
   "cell_type": "code",
   "execution_count": 4,
   "metadata": {},
   "outputs": [
    {
     "name": "stdout",
     "output_type": "stream",
     "text": [
      "/workspace/JO_nb/Preprocessing\r\n"
     ]
    }
   ],
   "source": [
    "!pwd"
   ]
  },
  {
   "cell_type": "code",
   "execution_count": 5,
   "metadata": {},
   "outputs": [],
   "source": [
    "import sys\n",
    "sys.path.insert(1, '/workspace')\n",
    "from utils.utils import *"
   ]
  },
  {
   "cell_type": "code",
   "execution_count": 4,
   "metadata": {
    "colab": {
     "base_uri": "https://localhost:8080/"
    },
    "executionInfo": {
     "elapsed": 7,
     "status": "ok",
     "timestamp": 1627946100743,
     "user": {
      "displayName": "이정오",
      "photoUrl": "",
      "userId": "04886549528950007370"
     },
     "user_tz": -540
    },
    "id": "bpDy7SMqq2n2",
    "outputId": "e69bf870-d20f-4afa-bcdb-bc2ebdefc77b"
   },
   "outputs": [
    {
     "data": {
      "text/plain": [
       "48"
      ]
     },
     "execution_count": 4,
     "metadata": {},
     "output_type": "execute_result"
    }
   ],
   "source": [
    "os.cpu_count()"
   ]
  },
  {
   "cell_type": "markdown",
   "metadata": {},
   "source": [
    "# Load Image and Label"
   ]
  },
  {
   "cell_type": "code",
   "execution_count": 6,
   "metadata": {},
   "outputs": [],
   "source": [
    "raw_data_dir = '/workspace/BoneMeta_raw'\n",
    "\n",
    "image_data_dir = '/workspace/BoneMeta_new/images'\n",
    "label_data_dir = '/workspace/BoneMeta_new/labels'\n",
    "\n",
    "all_1mm_image_dir = '/workspace/BoneMeta_all_1mm/images'\n",
    "all_1mm_label_dir = '/workspace/BoneMeta_all_1mm/labels'\n",
    "\n",
    "z_1mm_image_dir = '/workspace/BoneMeta_z_1mm/images'\n",
    "z_1mm_label_dir = '/workspace/BoneMeta_z_1mm/labels'\n",
    "\n",
    "data_info_path = '/workspace/DataInfo/data_info.csv'\n",
    "\n",
    "\n",
    "def get_label_path(file):\n",
    "    return os.path.join(label_data_dir, file)\n",
    "\n",
    "def get_image_path(file):\n",
    "    return os.path.join(image_data_dir, file)"
   ]
  },
  {
   "cell_type": "code",
   "execution_count": 6,
   "metadata": {},
   "outputs": [],
   "source": [
    "data_info = pd.read_csv(data_info_path, index_col=0)"
   ]
  },
  {
   "cell_type": "code",
   "execution_count": 7,
   "metadata": {},
   "outputs": [
    {
     "data": {
      "text/html": [
       "<div>\n",
       "<style scoped>\n",
       "    .dataframe tbody tr th:only-of-type {\n",
       "        vertical-align: middle;\n",
       "    }\n",
       "\n",
       "    .dataframe tbody tr th {\n",
       "        vertical-align: top;\n",
       "    }\n",
       "\n",
       "    .dataframe thead th {\n",
       "        text-align: right;\n",
       "    }\n",
       "</style>\n",
       "<table border=\"1\" class=\"dataframe\">\n",
       "  <thead>\n",
       "    <tr style=\"text-align: right;\">\n",
       "      <th></th>\n",
       "      <th>Lesion Type</th>\n",
       "      <th>Lesion Location</th>\n",
       "      <th>I/V</th>\n",
       "      <th>File Name</th>\n",
       "      <th>Lesion Size</th>\n",
       "      <th>Background Size</th>\n",
       "      <th>Original Shape</th>\n",
       "      <th>1mm Resized Shape</th>\n",
       "      <th>1 Resized Shape</th>\n",
       "      <th>Original Center</th>\n",
       "      <th>1mm Resized Center</th>\n",
       "      <th>1 Resized Center</th>\n",
       "    </tr>\n",
       "    <tr>\n",
       "      <th>Case</th>\n",
       "      <th></th>\n",
       "      <th></th>\n",
       "      <th></th>\n",
       "      <th></th>\n",
       "      <th></th>\n",
       "      <th></th>\n",
       "      <th></th>\n",
       "      <th></th>\n",
       "      <th></th>\n",
       "      <th></th>\n",
       "      <th></th>\n",
       "      <th></th>\n",
       "    </tr>\n",
       "  </thead>\n",
       "  <tbody>\n",
       "    <tr>\n",
       "      <th>SN056_20170601_Thorax^01_Lung_Cancer_3D (Adult)</th>\n",
       "      <td>L</td>\n",
       "      <td>T10</td>\n",
       "      <td>V</td>\n",
       "      <td>lesionAnnot3D-005</td>\n",
       "      <td>53971</td>\n",
       "      <td>92482861</td>\n",
       "      <td>[512, 512, 353]</td>\n",
       "      <td>[318, 318, 353]</td>\n",
       "      <td>(512, 512, 568)</td>\n",
       "      <td>[242, 358, 242]</td>\n",
       "      <td>[150, 223, 242]</td>\n",
       "      <td>[242, 358, 390]</td>\n",
       "    </tr>\n",
       "    <tr>\n",
       "      <th>SN056_20170601_Thorax^01_Lung_Cancer_3D (Adult)</th>\n",
       "      <td>L</td>\n",
       "      <td>T12</td>\n",
       "      <td>V</td>\n",
       "      <td>lesionAnnot3D-006</td>\n",
       "      <td>41072</td>\n",
       "      <td>92495760</td>\n",
       "      <td>[512, 512, 353]</td>\n",
       "      <td>[318, 318, 353]</td>\n",
       "      <td>(512, 512, 568)</td>\n",
       "      <td>[257, 338, 300]</td>\n",
       "      <td>[160, 210, 300]</td>\n",
       "      <td>[257, 338, 483]</td>\n",
       "    </tr>\n",
       "    <tr>\n",
       "      <th>SN056_20170601_Thorax^01_Lung_Cancer_3D (Adult)</th>\n",
       "      <td>S</td>\n",
       "      <td>Stenum</td>\n",
       "      <td>I</td>\n",
       "      <td>lesionAnnot3D-007</td>\n",
       "      <td>918</td>\n",
       "      <td>92535914</td>\n",
       "      <td>[512, 512, 353]</td>\n",
       "      <td>[318, 318, 353]</td>\n",
       "      <td>(512, 512, 568)</td>\n",
       "      <td>[234, 170, 80]</td>\n",
       "      <td>[145, 106, 80]</td>\n",
       "      <td>[234, 170, 129]</td>\n",
       "    </tr>\n",
       "    <tr>\n",
       "      <th>SN056_20170601_Thorax^01_Lung_Cancer_3D (Adult)</th>\n",
       "      <td>S</td>\n",
       "      <td>Lt. clavicle</td>\n",
       "      <td>I</td>\n",
       "      <td>lesionAnnot3D-008</td>\n",
       "      <td>3394</td>\n",
       "      <td>92533438</td>\n",
       "      <td>[512, 512, 353]</td>\n",
       "      <td>[318, 318, 353]</td>\n",
       "      <td>(512, 512, 568)</td>\n",
       "      <td>[294, 182, 63]</td>\n",
       "      <td>[183, 113, 63]</td>\n",
       "      <td>[294, 182, 101]</td>\n",
       "    </tr>\n",
       "    <tr>\n",
       "      <th>SN059_20170501_chest</th>\n",
       "      <td>S</td>\n",
       "      <td>C6</td>\n",
       "      <td>V</td>\n",
       "      <td>lesionAnnot3D-001</td>\n",
       "      <td>969</td>\n",
       "      <td>28834871</td>\n",
       "      <td>[512, 512, 110]</td>\n",
       "      <td>[423, 423, 330]</td>\n",
       "      <td>(512, 512, 133)</td>\n",
       "      <td>[258, 256, 11]</td>\n",
       "      <td>[213, 212, 33]</td>\n",
       "      <td>[258, 256, 13]</td>\n",
       "    </tr>\n",
       "  </tbody>\n",
       "</table>\n",
       "</div>"
      ],
      "text/plain": [
       "                                                Lesion Type Lesion Location  \\\n",
       "Case                                                                          \n",
       "SN056_20170601_Thorax^01_Lung_Cancer_3D (Adult)           L             T10   \n",
       "SN056_20170601_Thorax^01_Lung_Cancer_3D (Adult)           L             T12   \n",
       "SN056_20170601_Thorax^01_Lung_Cancer_3D (Adult)           S          Stenum   \n",
       "SN056_20170601_Thorax^01_Lung_Cancer_3D (Adult)           S    Lt. clavicle   \n",
       "SN059_20170501_chest                                      S              C6   \n",
       "\n",
       "                                                I/V          File Name  \\\n",
       "Case                                                                     \n",
       "SN056_20170601_Thorax^01_Lung_Cancer_3D (Adult)   V  lesionAnnot3D-005   \n",
       "SN056_20170601_Thorax^01_Lung_Cancer_3D (Adult)   V  lesionAnnot3D-006   \n",
       "SN056_20170601_Thorax^01_Lung_Cancer_3D (Adult)   I  lesionAnnot3D-007   \n",
       "SN056_20170601_Thorax^01_Lung_Cancer_3D (Adult)   I  lesionAnnot3D-008   \n",
       "SN059_20170501_chest                              V  lesionAnnot3D-001   \n",
       "\n",
       "                                                 Lesion Size  Background Size  \\\n",
       "Case                                                                            \n",
       "SN056_20170601_Thorax^01_Lung_Cancer_3D (Adult)        53971         92482861   \n",
       "SN056_20170601_Thorax^01_Lung_Cancer_3D (Adult)        41072         92495760   \n",
       "SN056_20170601_Thorax^01_Lung_Cancer_3D (Adult)          918         92535914   \n",
       "SN056_20170601_Thorax^01_Lung_Cancer_3D (Adult)         3394         92533438   \n",
       "SN059_20170501_chest                                     969         28834871   \n",
       "\n",
       "                                                  Original Shape  \\\n",
       "Case                                                               \n",
       "SN056_20170601_Thorax^01_Lung_Cancer_3D (Adult)  [512, 512, 353]   \n",
       "SN056_20170601_Thorax^01_Lung_Cancer_3D (Adult)  [512, 512, 353]   \n",
       "SN056_20170601_Thorax^01_Lung_Cancer_3D (Adult)  [512, 512, 353]   \n",
       "SN056_20170601_Thorax^01_Lung_Cancer_3D (Adult)  [512, 512, 353]   \n",
       "SN059_20170501_chest                             [512, 512, 110]   \n",
       "\n",
       "                                                1mm Resized Shape  \\\n",
       "Case                                                                \n",
       "SN056_20170601_Thorax^01_Lung_Cancer_3D (Adult)   [318, 318, 353]   \n",
       "SN056_20170601_Thorax^01_Lung_Cancer_3D (Adult)   [318, 318, 353]   \n",
       "SN056_20170601_Thorax^01_Lung_Cancer_3D (Adult)   [318, 318, 353]   \n",
       "SN056_20170601_Thorax^01_Lung_Cancer_3D (Adult)   [318, 318, 353]   \n",
       "SN059_20170501_chest                              [423, 423, 330]   \n",
       "\n",
       "                                                 1 Resized Shape  \\\n",
       "Case                                                               \n",
       "SN056_20170601_Thorax^01_Lung_Cancer_3D (Adult)  (512, 512, 568)   \n",
       "SN056_20170601_Thorax^01_Lung_Cancer_3D (Adult)  (512, 512, 568)   \n",
       "SN056_20170601_Thorax^01_Lung_Cancer_3D (Adult)  (512, 512, 568)   \n",
       "SN056_20170601_Thorax^01_Lung_Cancer_3D (Adult)  (512, 512, 568)   \n",
       "SN059_20170501_chest                             (512, 512, 133)   \n",
       "\n",
       "                                                 Original Center  \\\n",
       "Case                                                               \n",
       "SN056_20170601_Thorax^01_Lung_Cancer_3D (Adult)  [242, 358, 242]   \n",
       "SN056_20170601_Thorax^01_Lung_Cancer_3D (Adult)  [257, 338, 300]   \n",
       "SN056_20170601_Thorax^01_Lung_Cancer_3D (Adult)   [234, 170, 80]   \n",
       "SN056_20170601_Thorax^01_Lung_Cancer_3D (Adult)   [294, 182, 63]   \n",
       "SN059_20170501_chest                              [258, 256, 11]   \n",
       "\n",
       "                                                1mm Resized Center  \\\n",
       "Case                                                                 \n",
       "SN056_20170601_Thorax^01_Lung_Cancer_3D (Adult)    [150, 223, 242]   \n",
       "SN056_20170601_Thorax^01_Lung_Cancer_3D (Adult)    [160, 210, 300]   \n",
       "SN056_20170601_Thorax^01_Lung_Cancer_3D (Adult)     [145, 106, 80]   \n",
       "SN056_20170601_Thorax^01_Lung_Cancer_3D (Adult)     [183, 113, 63]   \n",
       "SN059_20170501_chest                                [213, 212, 33]   \n",
       "\n",
       "                                                1 Resized Center  \n",
       "Case                                                              \n",
       "SN056_20170601_Thorax^01_Lung_Cancer_3D (Adult)  [242, 358, 390]  \n",
       "SN056_20170601_Thorax^01_Lung_Cancer_3D (Adult)  [257, 338, 483]  \n",
       "SN056_20170601_Thorax^01_Lung_Cancer_3D (Adult)  [234, 170, 129]  \n",
       "SN056_20170601_Thorax^01_Lung_Cancer_3D (Adult)  [294, 182, 101]  \n",
       "SN059_20170501_chest                              [258, 256, 13]  "
      ]
     },
     "execution_count": 7,
     "metadata": {},
     "output_type": "execute_result"
    }
   ],
   "source": [
    "pd.read_csv('/workspace/BoneMeta_new/data_info.csv',index_col=0).tail()"
   ]
  },
  {
   "cell_type": "code",
   "execution_count": 8,
   "metadata": {},
   "outputs": [
    {
     "data": {
      "text/html": [
       "<div>\n",
       "<style scoped>\n",
       "    .dataframe tbody tr th:only-of-type {\n",
       "        vertical-align: middle;\n",
       "    }\n",
       "\n",
       "    .dataframe tbody tr th {\n",
       "        vertical-align: top;\n",
       "    }\n",
       "\n",
       "    .dataframe thead th {\n",
       "        text-align: right;\n",
       "    }\n",
       "</style>\n",
       "<table border=\"1\" class=\"dataframe\">\n",
       "  <thead>\n",
       "    <tr style=\"text-align: right;\">\n",
       "      <th></th>\n",
       "      <th>case_id</th>\n",
       "      <th>resolution</th>\n",
       "      <th>size[mm]</th>\n",
       "      <th>volumeInfo_volumeOriginCoord</th>\n",
       "      <th>dimension</th>\n",
       "      <th>calculatedFeatures</th>\n",
       "      <th>center</th>\n",
       "      <th>resampled_center</th>\n",
       "      <th>hasPixelMask</th>\n",
       "      <th>maskFileNameNifti</th>\n",
       "      <th>maskFileNameSegmask</th>\n",
       "      <th>maskPos</th>\n",
       "      <th>maskVOI</th>\n",
       "      <th>measureValue</th>\n",
       "      <th>type</th>\n",
       "      <th>annotation</th>\n",
       "    </tr>\n",
       "  </thead>\n",
       "  <tbody>\n",
       "    <tr>\n",
       "      <th>0</th>\n",
       "      <td>000251_20190703_chest</td>\n",
       "      <td>[0.560547, 0.560547, 1.0]</td>\n",
       "      <td>[287, 287, 297]</td>\n",
       "      <td>(-155.55,8.61,914.24)</td>\n",
       "      <td>[512, 512, 297]</td>\n",
       "      <td>{'FractalFeatureParameters': {'BoxCountingSlid...</td>\n",
       "      <td>[247, 302, 46]</td>\n",
       "      <td>[138, 169, 46]</td>\n",
       "      <td>True</td>\n",
       "      <td>lesionAnnot3D-001.nii.gz</td>\n",
       "      <td>lesionAnnot3D-001.512x512x297.psegmaskz</td>\n",
       "      <td>(241,297,248)-(253,306,254)</td>\n",
       "      <td>(-20.4622,175.091,1162.24)-(-13.7356,180.136,1...</td>\n",
       "      <td>78.6 [mm³]</td>\n",
       "      <td>ELesionAnnotType_ROI_3D</td>\n",
       "      <td>T2/metastasis/I/S</td>\n",
       "    </tr>\n",
       "    <tr>\n",
       "      <th>1</th>\n",
       "      <td>000251_20190703_chest</td>\n",
       "      <td>[0.560547, 0.560547, 1.0]</td>\n",
       "      <td>[287, 287, 297]</td>\n",
       "      <td>(-155.55,8.61,914.24)</td>\n",
       "      <td>[512, 512, 297]</td>\n",
       "      <td>{'FractalFeatureParameters': {'BoxCountingSlid...</td>\n",
       "      <td>[226, 304, 70]</td>\n",
       "      <td>[127, 170, 70]</td>\n",
       "      <td>True</td>\n",
       "      <td>lesionAnnot3D-002.nii.gz</td>\n",
       "      <td>lesionAnnot3D-002.512x512x297.psegmaskz</td>\n",
       "      <td>(212,289,222)-(241,319,233)</td>\n",
       "      <td>(-36.7181,170.607,1136.24)-(-20.4622,187.423,1...</td>\n",
       "      <td>1197.2 [mm³]</td>\n",
       "      <td>ELesionAnnotType_ROI_3D</td>\n",
       "      <td>T3-1/metastasis/V/S</td>\n",
       "    </tr>\n",
       "    <tr>\n",
       "      <th>2</th>\n",
       "      <td>000251_20190703_chest</td>\n",
       "      <td>[0.560547, 0.560547, 1.0]</td>\n",
       "      <td>[287, 287, 297]</td>\n",
       "      <td>(-155.55,8.61,914.24)</td>\n",
       "      <td>[512, 512, 297]</td>\n",
       "      <td>{'TextureFeatureParameters': {'GLCMBins': 64, ...</td>\n",
       "      <td>[226, 355, 66]</td>\n",
       "      <td>[127, 199, 66]</td>\n",
       "      <td>False</td>\n",
       "      <td>NaN</td>\n",
       "      <td>NaN</td>\n",
       "      <td>(221,350,228)-(231,360,234)</td>\n",
       "      <td>(-31.6731,204.8,1142.24)-(-26.0677,210.406,114...</td>\n",
       "      <td>5.6 x 5.6 x 6 [mm³]</td>\n",
       "      <td>ELesionAnnotType_ROI_3D</td>\n",
       "      <td>T3-2/25</td>\n",
       "    </tr>\n",
       "    <tr>\n",
       "      <th>3</th>\n",
       "      <td>000251_20190703_chest</td>\n",
       "      <td>[0.560547, 0.560547, 1.0]</td>\n",
       "      <td>[287, 287, 297]</td>\n",
       "      <td>(-155.55,8.61,914.24)</td>\n",
       "      <td>[512, 512, 297]</td>\n",
       "      <td>{'FractalFeatureParameters': {'BoxCountingSlid...</td>\n",
       "      <td>[210, 326, 76]</td>\n",
       "      <td>[118, 183, 76]</td>\n",
       "      <td>True</td>\n",
       "      <td>lesionAnnot3D-004.nii.gz</td>\n",
       "      <td>lesionAnnot3D-004.512x512x297.psegmaskz</td>\n",
       "      <td>(206,318,218)-(214,334,224)</td>\n",
       "      <td>(-40.0813,186.863,1132.24)-(-35.597,195.832,11...</td>\n",
       "      <td>88.0 [mm³]</td>\n",
       "      <td>ELesionAnnotType_ROI_3D</td>\n",
       "      <td>T4-1/metastasis/I/S</td>\n",
       "    </tr>\n",
       "    <tr>\n",
       "      <th>4</th>\n",
       "      <td>000251_20190703_chest</td>\n",
       "      <td>[0.560547, 0.560547, 1.0]</td>\n",
       "      <td>[287, 287, 297]</td>\n",
       "      <td>(-155.55,8.61,914.24)</td>\n",
       "      <td>[512, 512, 297]</td>\n",
       "      <td>{'FractalFeatureParameters': {'BoxCountingSlid...</td>\n",
       "      <td>[217, 366, 90]</td>\n",
       "      <td>[122, 205, 90]</td>\n",
       "      <td>True</td>\n",
       "      <td>lesionAnnot3D-005.nii.gz</td>\n",
       "      <td>lesionAnnot3D-005.512x512x297.psegmaskz</td>\n",
       "      <td>(211,362,204)-(223,370,211)</td>\n",
       "      <td>(-37.2786,211.527,1118.24)-(-30.552,216.011,11...</td>\n",
       "      <td>57.5 [mm³]</td>\n",
       "      <td>ELesionAnnotType_ROI_3D</td>\n",
       "      <td>T4-2/metastasis/I/S</td>\n",
       "    </tr>\n",
       "  </tbody>\n",
       "</table>\n",
       "</div>"
      ],
      "text/plain": [
       "                 case_id                 resolution         size[mm]  \\\n",
       "0  000251_20190703_chest  [0.560547, 0.560547, 1.0]  [287, 287, 297]   \n",
       "1  000251_20190703_chest  [0.560547, 0.560547, 1.0]  [287, 287, 297]   \n",
       "2  000251_20190703_chest  [0.560547, 0.560547, 1.0]  [287, 287, 297]   \n",
       "3  000251_20190703_chest  [0.560547, 0.560547, 1.0]  [287, 287, 297]   \n",
       "4  000251_20190703_chest  [0.560547, 0.560547, 1.0]  [287, 287, 297]   \n",
       "\n",
       "  volumeInfo_volumeOriginCoord        dimension  \\\n",
       "0        (-155.55,8.61,914.24)  [512, 512, 297]   \n",
       "1        (-155.55,8.61,914.24)  [512, 512, 297]   \n",
       "2        (-155.55,8.61,914.24)  [512, 512, 297]   \n",
       "3        (-155.55,8.61,914.24)  [512, 512, 297]   \n",
       "4        (-155.55,8.61,914.24)  [512, 512, 297]   \n",
       "\n",
       "                                  calculatedFeatures          center  \\\n",
       "0  {'FractalFeatureParameters': {'BoxCountingSlid...  [247, 302, 46]   \n",
       "1  {'FractalFeatureParameters': {'BoxCountingSlid...  [226, 304, 70]   \n",
       "2  {'TextureFeatureParameters': {'GLCMBins': 64, ...  [226, 355, 66]   \n",
       "3  {'FractalFeatureParameters': {'BoxCountingSlid...  [210, 326, 76]   \n",
       "4  {'FractalFeatureParameters': {'BoxCountingSlid...  [217, 366, 90]   \n",
       "\n",
       "  resampled_center  hasPixelMask         maskFileNameNifti  \\\n",
       "0   [138, 169, 46]          True  lesionAnnot3D-001.nii.gz   \n",
       "1   [127, 170, 70]          True  lesionAnnot3D-002.nii.gz   \n",
       "2   [127, 199, 66]         False                       NaN   \n",
       "3   [118, 183, 76]          True  lesionAnnot3D-004.nii.gz   \n",
       "4   [122, 205, 90]          True  lesionAnnot3D-005.nii.gz   \n",
       "\n",
       "                       maskFileNameSegmask                      maskPos  \\\n",
       "0  lesionAnnot3D-001.512x512x297.psegmaskz  (241,297,248)-(253,306,254)   \n",
       "1  lesionAnnot3D-002.512x512x297.psegmaskz  (212,289,222)-(241,319,233)   \n",
       "2                                      NaN  (221,350,228)-(231,360,234)   \n",
       "3  lesionAnnot3D-004.512x512x297.psegmaskz  (206,318,218)-(214,334,224)   \n",
       "4  lesionAnnot3D-005.512x512x297.psegmaskz  (211,362,204)-(223,370,211)   \n",
       "\n",
       "                                             maskVOI         measureValue  \\\n",
       "0  (-20.4622,175.091,1162.24)-(-13.7356,180.136,1...           78.6 [mm³]   \n",
       "1  (-36.7181,170.607,1136.24)-(-20.4622,187.423,1...         1197.2 [mm³]   \n",
       "2  (-31.6731,204.8,1142.24)-(-26.0677,210.406,114...  5.6 x 5.6 x 6 [mm³]   \n",
       "3  (-40.0813,186.863,1132.24)-(-35.597,195.832,11...           88.0 [mm³]   \n",
       "4  (-37.2786,211.527,1118.24)-(-30.552,216.011,11...           57.5 [mm³]   \n",
       "\n",
       "                      type           annotation  \n",
       "0  ELesionAnnotType_ROI_3D    T2/metastasis/I/S  \n",
       "1  ELesionAnnotType_ROI_3D  T3-1/metastasis/V/S  \n",
       "2  ELesionAnnotType_ROI_3D              T3-2/25  \n",
       "3  ELesionAnnotType_ROI_3D  T4-1/metastasis/I/S  \n",
       "4  ELesionAnnotType_ROI_3D  T4-2/metastasis/I/S  "
      ]
     },
     "execution_count": 8,
     "metadata": {},
     "output_type": "execute_result"
    }
   ],
   "source": [
    "data_info.head()"
   ]
  },
  {
   "cell_type": "code",
   "execution_count": 9,
   "metadata": {
    "scrolled": true
   },
   "outputs": [
    {
     "name": "stdout",
     "output_type": "stream",
     "text": [
      "(310, 3)\n"
     ]
    },
    {
     "data": {
      "text/html": [
       "<div>\n",
       "<style scoped>\n",
       "    .dataframe tbody tr th:only-of-type {\n",
       "        vertical-align: middle;\n",
       "    }\n",
       "\n",
       "    .dataframe tbody tr th {\n",
       "        vertical-align: top;\n",
       "    }\n",
       "\n",
       "    .dataframe thead th {\n",
       "        text-align: right;\n",
       "    }\n",
       "</style>\n",
       "<table border=\"1\" class=\"dataframe\">\n",
       "  <thead>\n",
       "    <tr style=\"text-align: right;\">\n",
       "      <th></th>\n",
       "      <th>resolution</th>\n",
       "      <th>size[mm]</th>\n",
       "      <th>dimension</th>\n",
       "    </tr>\n",
       "    <tr>\n",
       "      <th>case_id</th>\n",
       "      <th></th>\n",
       "      <th></th>\n",
       "      <th></th>\n",
       "    </tr>\n",
       "  </thead>\n",
       "  <tbody>\n",
       "    <tr>\n",
       "      <th>000251_20190703_chest</th>\n",
       "      <td>[0.560547, 0.560547, 1.0]</td>\n",
       "      <td>[287, 287, 297]</td>\n",
       "      <td>[512, 512, 297]</td>\n",
       "    </tr>\n",
       "    <tr>\n",
       "      <th>000356_20191024_chest</th>\n",
       "      <td>[0.621094, 0.621094, 1.0]</td>\n",
       "      <td>[318, 318, 322]</td>\n",
       "      <td>[512, 512, 322]</td>\n",
       "    </tr>\n",
       "    <tr>\n",
       "      <th>000350_20190927_chest</th>\n",
       "      <td>[0.589844, 0.589844, 1.0]</td>\n",
       "      <td>[302, 302, 327]</td>\n",
       "      <td>[512, 512, 327]</td>\n",
       "    </tr>\n",
       "    <tr>\n",
       "      <th>000397_20200214_chest</th>\n",
       "      <td>[0.613281, 0.613281, 1.0]</td>\n",
       "      <td>[314, 314, 348]</td>\n",
       "      <td>[512, 512, 348]</td>\n",
       "    </tr>\n",
       "    <tr>\n",
       "      <th>BH005_20170701_abdomen</th>\n",
       "      <td>[0.646484, 0.646484, 1.0]</td>\n",
       "      <td>[331, 331, 471]</td>\n",
       "      <td>[512, 512, 471]</td>\n",
       "    </tr>\n",
       "  </tbody>\n",
       "</table>\n",
       "</div>"
      ],
      "text/plain": [
       "                                       resolution         size[mm]  \\\n",
       "case_id                                                              \n",
       "000251_20190703_chest   [0.560547, 0.560547, 1.0]  [287, 287, 297]   \n",
       "000356_20191024_chest   [0.621094, 0.621094, 1.0]  [318, 318, 322]   \n",
       "000350_20190927_chest   [0.589844, 0.589844, 1.0]  [302, 302, 327]   \n",
       "000397_20200214_chest   [0.613281, 0.613281, 1.0]  [314, 314, 348]   \n",
       "BH005_20170701_abdomen  [0.646484, 0.646484, 1.0]  [331, 331, 471]   \n",
       "\n",
       "                              dimension  \n",
       "case_id                                  \n",
       "000251_20190703_chest   [512, 512, 297]  \n",
       "000356_20191024_chest   [512, 512, 322]  \n",
       "000350_20190927_chest   [512, 512, 327]  \n",
       "000397_20200214_chest   [512, 512, 348]  \n",
       "BH005_20170701_abdomen  [512, 512, 471]  "
      ]
     },
     "execution_count": 9,
     "metadata": {},
     "output_type": "execute_result"
    }
   ],
   "source": [
    "ct_info = data_info.loc[:,['case_id', 'resolution', 'size[mm]', 'dimension']]\n",
    "ct_info.drop_duplicates(inplace=True)\n",
    "ct_info.set_index('case_id',inplace=True)\n",
    "print(ct_info.shape)\n",
    "ct_info.head()"
   ]
  },
  {
   "cell_type": "code",
   "execution_count": 10,
   "metadata": {},
   "outputs": [
    {
     "data": {
      "text/plain": [
       "'[0.589844, 0.589844, 1.0]'"
      ]
     },
     "execution_count": 10,
     "metadata": {},
     "output_type": "execute_result"
    }
   ],
   "source": [
    "ct_info.loc['000350_20190927_chest'].resolution"
   ]
  },
  {
   "cell_type": "code",
   "execution_count": 30,
   "metadata": {
    "scrolled": true
   },
   "outputs": [
    {
     "data": {
      "text/plain": [
       "'[512, 512, 327]'"
      ]
     },
     "execution_count": 30,
     "metadata": {},
     "output_type": "execute_result"
    }
   ],
   "source": [
    "ct_info.loc['000350_20190927_chest'].dimension"
   ]
  },
  {
   "cell_type": "code",
   "execution_count": 7,
   "metadata": {},
   "outputs": [],
   "source": [
    "def resolution_to_crz_float(resolution):\n",
    "    crz = resolution.strip('[]').split(', ')\n",
    "    return [float(value) for value in crz]\n",
    "\n",
    "def resample_all_1mm(np_image, resolution):\n",
    "    crz = resolution_to_crz_float(resolution)\n",
    "    pixdim = [1/crz[2], 1/crz[1], 1/crz[0]] # crz to zrc\n",
    "    spacer = Spacing(pixdim, dtype=np.float64)\n",
    "    spaced_image = spacer(np_image[np.newaxis,:]) # with channel\n",
    "    return spaced_image[0][0] #in tuple, without channel\n",
    "\n",
    "\n",
    "def resample_z_1mm(np_image, resolution):\n",
    "    crz = resolution_to_crz_float(resolution)\n",
    "    pixdim = [1/crz[2], 1, 1] # crz to zrc\n",
    "    spacer = Spacing(pixdim, dtype=np.float64)\n",
    "    spaced_image = spacer(np_image[np.newaxis,:]) # with channel\n",
    "    return spaced_image[0][0] #in tuple, without channel"
   ]
  },
  {
   "cell_type": "code",
   "execution_count": 11,
   "metadata": {},
   "outputs": [],
   "source": [
    "def save_image(np_image, target_dir, file_name):\n",
    "    np_image = np_image.astype(np.int16)\n",
    "    np.save(os.path.join(target_dir, file_name), np_image)\n",
    "    \n",
    "def save_label(np_image, target_dir, file_name):\n",
    "    np_image = (np_image>0.5).astype(np.uint8)\n",
    "    np.save(os.path.join(target_dir, file_name), np_image)"
   ]
  },
  {
   "cell_type": "code",
   "execution_count": 9,
   "metadata": {},
   "outputs": [],
   "source": [
    "def resample_all_files(file_dir, target_dir, resample_func, save_func):\n",
    "    file_list = os.listdir(file_dir)\n",
    "    for file in file_list:\n",
    "        np_file = np.load(os.path.join(file_dir, file))\n",
    "        resolution = ct_info.loc[file_to_case(file)].resolution        \n",
    "        resampled_image = resample_func(np_file, resolution)\n",
    "        save_func(resampled_image, target_dir, file)"
   ]
  },
  {
   "cell_type": "code",
   "execution_count": 99,
   "metadata": {},
   "outputs": [],
   "source": [
    "os.makedirs(all_1mm_image_dir, exist_ok=True)\n",
    "os.makedirs(all_1mm_label_dir, exist_ok=True)\n",
    "os.makedirs(z_1mm_image_dir, exist_ok=True)\n",
    "os.makedirs(z_1mm_label_dir, exist_ok=True)"
   ]
  },
  {
   "cell_type": "code",
   "execution_count": 100,
   "metadata": {},
   "outputs": [
    {
     "name": "stdout",
     "output_type": "stream",
     "text": [
      "\n",
      "consumed_time: 939.9781629740028s\n",
      "\n"
     ]
    }
   ],
   "source": [
    "t = time.perf_counter()\n",
    "\n",
    "resample_all_files(image_data_dir, all_1mm_image_dir, resample_all_1mm, save_image)\n",
    "\n",
    "elapsed_time = time.perf_counter() - t\n",
    "\n",
    "print(f'''\n",
    "consumed_time: {elapsed_time}s\n",
    "''')"
   ]
  },
  {
   "cell_type": "code",
   "execution_count": 102,
   "metadata": {},
   "outputs": [
    {
     "data": {
      "text/plain": [
       "(328, 424, 424)"
      ]
     },
     "execution_count": 102,
     "metadata": {},
     "output_type": "execute_result"
    }
   ],
   "source": [
    "np.load(os.path.join(all_1mm_image_dir,'SN059_20170501_chest.npy')).shape"
   ]
  },
  {
   "cell_type": "code",
   "execution_count": 112,
   "metadata": {},
   "outputs": [],
   "source": [
    "resample_all_files(label_data_dir, all_1mm_label_dir, resample_all_1mm, save_label)"
   ]
  },
  {
   "cell_type": "code",
   "execution_count": 104,
   "metadata": {},
   "outputs": [
    {
     "data": {
      "text/plain": [
       "(328, 424, 424)"
      ]
     },
     "execution_count": 104,
     "metadata": {},
     "output_type": "execute_result"
    }
   ],
   "source": [
    "np.load(os.path.join(all_1mm_label_dir,'SN059_20170501_chest.npy')).shape"
   ]
  },
  {
   "cell_type": "code",
   "execution_count": 105,
   "metadata": {},
   "outputs": [],
   "source": [
    "resample_all_files(image_data_dir, z_1mm_image_dir, resample_z_1mm, save_image)"
   ]
  },
  {
   "cell_type": "code",
   "execution_count": 113,
   "metadata": {},
   "outputs": [],
   "source": [
    "resample_all_files(label_data_dir, z_1mm_label_dir, resample_z_1mm, save_label)"
   ]
  },
  {
   "cell_type": "markdown",
   "metadata": {},
   "source": [
    "## Resample all 128"
   ]
  },
  {
   "cell_type": "code",
   "execution_count": 18,
   "metadata": {},
   "outputs": [],
   "source": [
    "image_data_dir = '/workspace/BoneMeta_new/images'\n",
    "label_data_dir = '/workspace/BoneMeta_new/labels'\n",
    "all_128_image_dir = '/workspace/BoneMeta_all_128/images'\n",
    "all_128_label_dir = '/workspace/BoneMeta_all_128/labels'\n",
    "os.makedirs(all_128_image_dir, exist_ok=True)\n",
    "os.makedirs(all_128_label_dir, exist_ok=True)"
   ]
  },
  {
   "cell_type": "code",
   "execution_count": 23,
   "metadata": {},
   "outputs": [],
   "source": [
    "def resample_all_128(np_image): \n",
    "    resizer = Resize([128,128,128])\n",
    "    resized_image = resizer(np_image[np.newaxis,:]) # with channel\n",
    "    return resized_image[0] # without channel\n",
    "\n",
    "def resample_all_128_label(np_label):\n",
    "    np_label = np_label > 0.5\n",
    "    resizer = Resize([128,128,128])\n",
    "    resized_image = resizer(np_label[np.newaxis,:]) # with channel\n",
    "    return resized_image[0] # without channel\n",
    "\n",
    "def resample_all_files_with_dim(file_dir, target_dir, resample_func, save_func):\n",
    "    file_list = os.listdir(file_dir)\n",
    "    for file in file_list:\n",
    "        np_file = np.load(os.path.join(file_dir, file))\n",
    "        dimension = 1      \n",
    "        resampled_image = resample_func(np_file)\n",
    "        save_func(resampled_image, target_dir, file)"
   ]
  },
  {
   "cell_type": "code",
   "execution_count": 20,
   "metadata": {},
   "outputs": [],
   "source": [
    "resample_all_files_with_dim(image_data_dir, all_128_image_dir, resample_all_128, save_image)"
   ]
  },
  {
   "cell_type": "code",
   "execution_count": 21,
   "metadata": {},
   "outputs": [],
   "source": [
    "resample_all_files_with_dim(label_data_dir, all_128_label_dir, resample_all_128, save_label)"
   ]
  },
  {
   "cell_type": "code",
   "execution_count": 24,
   "metadata": {},
   "outputs": [],
   "source": [
    "all_128_image_dir = '/workspace/BoneMeta_all_128/labels_lytic'\n",
    "os.makedirs(all_128_image_dir, exist_ok=True)\n",
    "\n",
    "def resample_all_128(np_image): \n",
    "    resizer = Resize([128,128,128])\n",
    "    resized_image = resizer(np_image[np.newaxis,:]) # with channel\n",
    "    return resized_image[0] # without channel\n",
    "\n",
    "def resample_all_files_with_dim(file_dir, target_dir, resample_func, save_func):\n",
    "    file_list = os.listdir(file_dir)\n",
    "    for file in file_list:\n",
    "        np_file = np.load(os.path.join(file_dir, file))\n",
    "        resampled_image = resample_func(np_file==2)\n",
    "        save_func(resampled_image, target_dir, file)\n",
    "\n",
    "image_data_dir = '/workspace/BoneMeta_new/labels'\n",
    "resample_all_files_with_dim(image_data_dir, all_128_image_dir, resample_all_128_label, save_label)\n",
    "\n",
    "\n"
   ]
  },
  {
   "cell_type": "code",
   "execution_count": null,
   "metadata": {},
   "outputs": [],
   "source": [
    "all_128_image_dir = '/workspace/BoneSeg_all_128/images_1300300'\n",
    "os.makedirs(all_128_image_dir, exist_ok=True)\n",
    "\n",
    "def resample_all_128(np_image): \n",
    "    resizer = Resize([128,128,128])\n",
    "    resized_image = resizer(np_image[np.newaxis,:]) # with channel\n",
    "    return resized_image[0] # without channel\n",
    "\n",
    "def resample_all_files_with_dim(file_dir, target_dir, resample_func, save_func):\n",
    "    file_list = os.listdir(file_dir)\n",
    "    for file in file_list:\n",
    "        np_file = np.load(os.path.join(file_dir, file))\n",
    "        resampled_image = resample_func(np_file)\n",
    "        save_func(resampled_image, target_dir, file)\n",
    "\n",
    "image_data_dir = '/workspace/BoneSeg/images_1300300'\n",
    "resample_all_files_with_dim(image_data_dir, all_128_image_dir, resample_all_128, save_image)\n",
    "\n",
    "\n"
   ]
  },
  {
   "cell_type": "code",
   "execution_count": 95,
   "metadata": {},
   "outputs": [
    {
     "data": {
      "text/plain": [
       "(128, 128, 128)"
      ]
     },
     "execution_count": 95,
     "metadata": {},
     "output_type": "execute_result"
    }
   ],
   "source": [
    "np.load('/workspace/BoneMeta_all_128/images/BH008_20190701_abdomen.npy').shape"
   ]
  },
  {
   "cell_type": "code",
   "execution_count": 96,
   "metadata": {},
   "outputs": [],
   "source": [
    "file_names = os.listdir(all_128_image_dir)\n",
    "image_sizes = [np.load(os.path.join(all_128_image_dir, file)).shape for file in file_names]\n",
    "label_sizes = [np.load(os.path.join(all_128_label_dir, file)).shape for file in file_names]"
   ]
  },
  {
   "cell_type": "code",
   "execution_count": 97,
   "metadata": {},
   "outputs": [
    {
     "data": {
      "text/plain": [
       "[(128, 128, 128),\n",
       " (128, 128, 128),\n",
       " (128, 128, 128),\n",
       " (128, 128, 128),\n",
       " (128, 128, 128),\n",
       " (128, 128, 128),\n",
       " (128, 128, 128),\n",
       " (128, 128, 128),\n",
       " (128, 128, 128),\n",
       " (128, 128, 128),\n",
       " (128, 128, 128),\n",
       " (128, 128, 128),\n",
       " (128, 128, 128),\n",
       " (128, 128, 128),\n",
       " (128, 128, 128),\n",
       " (128, 128, 128),\n",
       " (128, 128, 128),\n",
       " (128, 128, 128),\n",
       " (128, 128, 128),\n",
       " (128, 128, 128),\n",
       " (128, 128, 128),\n",
       " (128, 128, 128),\n",
       " (128, 128, 128),\n",
       " (128, 128, 128),\n",
       " (128, 128, 128),\n",
       " (128, 128, 128),\n",
       " (128, 128, 128),\n",
       " (128, 128, 128),\n",
       " (128, 128, 128),\n",
       " (128, 128, 128),\n",
       " (128, 128, 128),\n",
       " (128, 128, 128),\n",
       " (128, 128, 128),\n",
       " (128, 128, 128),\n",
       " (128, 128, 128),\n",
       " (128, 128, 128),\n",
       " (128, 128, 128),\n",
       " (128, 128, 128),\n",
       " (128, 128, 128),\n",
       " (128, 128, 128),\n",
       " (128, 128, 128),\n",
       " (128, 128, 128),\n",
       " (128, 128, 128),\n",
       " (128, 128, 128),\n",
       " (128, 128, 128),\n",
       " (128, 128, 128),\n",
       " (128, 128, 128),\n",
       " (128, 128, 128),\n",
       " (128, 128, 128),\n",
       " (128, 128, 128),\n",
       " (128, 128, 128),\n",
       " (128, 128, 128),\n",
       " (128, 128, 128),\n",
       " (128, 128, 128),\n",
       " (128, 128, 128),\n",
       " (128, 128, 128),\n",
       " (128, 128, 128),\n",
       " (128, 128, 128),\n",
       " (128, 128, 128),\n",
       " (128, 128, 128),\n",
       " (128, 128, 128),\n",
       " (128, 128, 128),\n",
       " (128, 128, 128),\n",
       " (128, 128, 128),\n",
       " (128, 128, 128),\n",
       " (128, 128, 128),\n",
       " (128, 128, 128),\n",
       " (128, 128, 128),\n",
       " (128, 128, 128),\n",
       " (128, 128, 128),\n",
       " (128, 128, 128),\n",
       " (128, 128, 128),\n",
       " (128, 128, 128),\n",
       " (128, 128, 128),\n",
       " (128, 128, 128),\n",
       " (128, 128, 128),\n",
       " (128, 128, 128),\n",
       " (128, 128, 128),\n",
       " (128, 128, 128),\n",
       " (128, 128, 128),\n",
       " (128, 128, 128),\n",
       " (128, 128, 128),\n",
       " (128, 128, 128),\n",
       " (128, 128, 128),\n",
       " (128, 128, 128),\n",
       " (128, 128, 128),\n",
       " (128, 128, 128),\n",
       " (128, 128, 128),\n",
       " (128, 128, 128),\n",
       " (128, 128, 128),\n",
       " (128, 128, 128),\n",
       " (128, 128, 128),\n",
       " (128, 128, 128),\n",
       " (128, 128, 128),\n",
       " (128, 128, 128),\n",
       " (128, 128, 128),\n",
       " (128, 128, 128),\n",
       " (128, 128, 128),\n",
       " (128, 128, 128),\n",
       " (128, 128, 128),\n",
       " (128, 128, 128),\n",
       " (128, 128, 128),\n",
       " (128, 128, 128),\n",
       " (128, 128, 128),\n",
       " (128, 128, 128),\n",
       " (128, 128, 128),\n",
       " (128, 128, 128),\n",
       " (128, 128, 128),\n",
       " (128, 128, 128),\n",
       " (128, 128, 128),\n",
       " (128, 128, 128),\n",
       " (128, 128, 128),\n",
       " (128, 128, 128),\n",
       " (128, 128, 128),\n",
       " (128, 128, 128),\n",
       " (128, 128, 128),\n",
       " (128, 128, 128),\n",
       " (128, 128, 128),\n",
       " (128, 128, 128),\n",
       " (128, 128, 128),\n",
       " (128, 128, 128),\n",
       " (128, 128, 128),\n",
       " (128, 128, 128),\n",
       " (128, 128, 128),\n",
       " (128, 128, 128),\n",
       " (128, 128, 128),\n",
       " (128, 128, 128),\n",
       " (128, 128, 128),\n",
       " (128, 128, 128),\n",
       " (128, 128, 128),\n",
       " (128, 128, 128),\n",
       " (128, 128, 128),\n",
       " (128, 128, 128),\n",
       " (128, 128, 128),\n",
       " (128, 128, 128),\n",
       " (128, 128, 128),\n",
       " (128, 128, 128),\n",
       " (128, 128, 128),\n",
       " (128, 128, 128),\n",
       " (128, 128, 128),\n",
       " (128, 128, 128),\n",
       " (128, 128, 128),\n",
       " (128, 128, 128),\n",
       " (128, 128, 128),\n",
       " (128, 128, 128),\n",
       " (128, 128, 128),\n",
       " (128, 128, 128),\n",
       " (128, 128, 128),\n",
       " (128, 128, 128),\n",
       " (128, 128, 128),\n",
       " (128, 128, 128),\n",
       " (128, 128, 128),\n",
       " (128, 128, 128),\n",
       " (128, 128, 128),\n",
       " (128, 128, 128),\n",
       " (128, 128, 128),\n",
       " (128, 128, 128),\n",
       " (128, 128, 128),\n",
       " (128, 128, 128),\n",
       " (128, 128, 128),\n",
       " (128, 128, 128),\n",
       " (128, 128, 128),\n",
       " (128, 128, 128),\n",
       " (128, 128, 128),\n",
       " (128, 128, 128),\n",
       " (128, 128, 128),\n",
       " (128, 128, 128),\n",
       " (128, 128, 128),\n",
       " (128, 128, 128),\n",
       " (128, 128, 128),\n",
       " (128, 128, 128),\n",
       " (128, 128, 128),\n",
       " (128, 128, 128),\n",
       " (128, 128, 128),\n",
       " (128, 128, 128),\n",
       " (128, 128, 128),\n",
       " (128, 128, 128),\n",
       " (128, 128, 128),\n",
       " (128, 128, 128),\n",
       " (128, 128, 128),\n",
       " (128, 128, 128),\n",
       " (128, 128, 128),\n",
       " (128, 128, 128),\n",
       " (128, 128, 128),\n",
       " (128, 128, 128),\n",
       " (128, 128, 128),\n",
       " (128, 128, 128),\n",
       " (128, 128, 128),\n",
       " (128, 128, 128),\n",
       " (128, 128, 128),\n",
       " (128, 128, 128),\n",
       " (128, 128, 128),\n",
       " (128, 128, 128),\n",
       " (128, 128, 128),\n",
       " (128, 128, 128),\n",
       " (128, 128, 128),\n",
       " (128, 128, 128),\n",
       " (128, 128, 128),\n",
       " (128, 128, 128),\n",
       " (128, 128, 128),\n",
       " (128, 128, 128),\n",
       " (128, 128, 128),\n",
       " (128, 128, 128),\n",
       " (128, 128, 128),\n",
       " (128, 128, 128),\n",
       " (128, 128, 128),\n",
       " (128, 128, 128),\n",
       " (128, 128, 128),\n",
       " (128, 128, 128),\n",
       " (128, 128, 128),\n",
       " (128, 128, 128),\n",
       " (128, 128, 128),\n",
       " (128, 128, 128),\n",
       " (128, 128, 128),\n",
       " (128, 128, 128),\n",
       " (128, 128, 128),\n",
       " (128, 128, 128),\n",
       " (128, 128, 128),\n",
       " (128, 128, 128),\n",
       " (128, 128, 128),\n",
       " (128, 128, 128),\n",
       " (128, 128, 128),\n",
       " (128, 128, 128),\n",
       " (128, 128, 128),\n",
       " (128, 128, 128),\n",
       " (128, 128, 128),\n",
       " (128, 128, 128),\n",
       " (128, 128, 128),\n",
       " (128, 128, 128),\n",
       " (128, 128, 128),\n",
       " (128, 128, 128),\n",
       " (128, 128, 128),\n",
       " (128, 128, 128),\n",
       " (128, 128, 128),\n",
       " (128, 128, 128),\n",
       " (128, 128, 128),\n",
       " (128, 128, 128),\n",
       " (128, 128, 128),\n",
       " (128, 128, 128),\n",
       " (128, 128, 128),\n",
       " (128, 128, 128),\n",
       " (128, 128, 128),\n",
       " (128, 128, 128),\n",
       " (128, 128, 128),\n",
       " (128, 128, 128),\n",
       " (128, 128, 128),\n",
       " (128, 128, 128),\n",
       " (128, 128, 128),\n",
       " (128, 128, 128),\n",
       " (128, 128, 128),\n",
       " (128, 128, 128),\n",
       " (128, 128, 128),\n",
       " (128, 128, 128),\n",
       " (128, 128, 128),\n",
       " (128, 128, 128),\n",
       " (128, 128, 128),\n",
       " (128, 128, 128),\n",
       " (128, 128, 128),\n",
       " (128, 128, 128),\n",
       " (128, 128, 128),\n",
       " (128, 128, 128),\n",
       " (128, 128, 128),\n",
       " (128, 128, 128),\n",
       " (128, 128, 128),\n",
       " (128, 128, 128),\n",
       " (128, 128, 128),\n",
       " (128, 128, 128),\n",
       " (128, 128, 128),\n",
       " (128, 128, 128),\n",
       " (128, 128, 128),\n",
       " (128, 128, 128),\n",
       " (128, 128, 128),\n",
       " (128, 128, 128),\n",
       " (128, 128, 128),\n",
       " (128, 128, 128),\n",
       " (128, 128, 128),\n",
       " (128, 128, 128),\n",
       " (128, 128, 128),\n",
       " (128, 128, 128),\n",
       " (128, 128, 128),\n",
       " (128, 128, 128),\n",
       " (128, 128, 128),\n",
       " (128, 128, 128),\n",
       " (128, 128, 128),\n",
       " (128, 128, 128),\n",
       " (128, 128, 128),\n",
       " (128, 128, 128),\n",
       " (128, 128, 128),\n",
       " (128, 128, 128),\n",
       " (128, 128, 128),\n",
       " (128, 128, 128),\n",
       " (128, 128, 128),\n",
       " (128, 128, 128),\n",
       " (128, 128, 128),\n",
       " (128, 128, 128),\n",
       " (128, 128, 128),\n",
       " (128, 128, 128),\n",
       " (128, 128, 128),\n",
       " (128, 128, 128),\n",
       " (128, 128, 128),\n",
       " (128, 128, 128),\n",
       " (128, 128, 128),\n",
       " (128, 128, 128),\n",
       " (128, 128, 128),\n",
       " (128, 128, 128),\n",
       " (128, 128, 128),\n",
       " (128, 128, 128),\n",
       " (128, 128, 128),\n",
       " (128, 128, 128),\n",
       " (128, 128, 128)]"
      ]
     },
     "execution_count": 97,
     "metadata": {},
     "output_type": "execute_result"
    }
   ],
   "source": [
    "image_sizes"
   ]
  },
  {
   "cell_type": "code",
   "execution_count": null,
   "metadata": {},
   "outputs": [],
   "source": []
  },
  {
   "cell_type": "markdown",
   "metadata": {},
   "source": [
    "## Resample all 256 x 128 x 128"
   ]
  },
  {
   "cell_type": "code",
   "execution_count": 1,
   "metadata": {},
   "outputs": [],
   "source": [
    "image_data_dir = '/workspace/BoneMeta_CropSpine/images'\n",
    "label_data_dir = '/workspace/BoneMeta_CropSpine/labels'"
   ]
  },
  {
   "cell_type": "code",
   "execution_count": 5,
   "metadata": {},
   "outputs": [],
   "source": [
    "all_128_image_dir = '/workspace/BoneMeta_CropSpine_all_128/images'\n",
    "all_128_label_dir = '/workspace/BoneMeta_CropSpine_all_128/labels'\n",
    "os.makedirs(all_128_image_dir, exist_ok=True)\n",
    "os.makedirs(all_128_label_dir, exist_ok=True)"
   ]
  },
  {
   "cell_type": "code",
   "execution_count": 11,
   "metadata": {},
   "outputs": [],
   "source": [
    "def resample_all_128(np_image): \n",
    "    resizer = Resize([256,128,128])\n",
    "    resized_image = resizer(np_image[np.newaxis,:]) # with channel\n",
    "    return resized_image[0] # without channel\n",
    "\n",
    "def resample_all_files_with_dim(file_dir, target_dir, resample_func, save_func):\n",
    "    file_list = os.listdir(file_dir)\n",
    "    for file in file_list:\n",
    "        np_file = np.load(os.path.join(file_dir, file))     \n",
    "        resampled_image = resample_func(np_file)\n",
    "        save_func(resampled_image, target_dir, file)"
   ]
  },
  {
   "cell_type": "code",
   "execution_count": 12,
   "metadata": {},
   "outputs": [],
   "source": [
    "resample_all_files_with_dim(image_data_dir, all_128_image_dir, resample_all_128, save_image)"
   ]
  },
  {
   "cell_type": "code",
   "execution_count": 13,
   "metadata": {},
   "outputs": [],
   "source": [
    "resample_all_files_with_dim(label_data_dir, all_128_label_dir, resample_all_128, save_label)"
   ]
  },
  {
   "cell_type": "code",
   "execution_count": 14,
   "metadata": {},
   "outputs": [
    {
     "data": {
      "text/plain": [
       "(256, 128, 128)"
      ]
     },
     "execution_count": 14,
     "metadata": {},
     "output_type": "execute_result"
    }
   ],
   "source": [
    "np.load('/workspace/BoneMeta_CropSpine_all_128/images/BH008_20190701_abdomen.npy').shape"
   ]
  },
  {
   "cell_type": "code",
   "execution_count": 15,
   "metadata": {},
   "outputs": [],
   "source": [
    "file_names = os.listdir(all_128_image_dir)\n",
    "image_sizes = [np.load(os.path.join(all_128_image_dir, file)).shape for file in file_names]\n",
    "label_sizes = [np.load(os.path.join(all_128_label_dir, file)).shape for file in file_names]"
   ]
  },
  {
   "cell_type": "markdown",
   "metadata": {},
   "source": [
    "# Test Codes\n",
    "\n",
    "## Testing One Case"
   ]
  },
  {
   "cell_type": "code",
   "execution_count": 64,
   "metadata": {},
   "outputs": [],
   "source": [
    "img = np.load(get_image_path('000251_20190703_chest.npy'))"
   ]
  },
  {
   "cell_type": "code",
   "execution_count": 73,
   "metadata": {},
   "outputs": [],
   "source": [
    "cropper = CropForeground()"
   ]
  },
  {
   "cell_type": "code",
   "execution_count": 78,
   "metadata": {},
   "outputs": [
    {
     "data": {
      "text/plain": [
       "(array([ 0, 58,  0]), array([297, 512, 512]))"
      ]
     },
     "execution_count": 78,
     "metadata": {},
     "output_type": "execute_result"
    }
   ],
   "source": [
    "cropper.compute_bounding_box(img[np.newaxis,:])"
   ]
  },
  {
   "cell_type": "code",
   "execution_count": 79,
   "metadata": {},
   "outputs": [
    {
     "data": {
      "text/plain": [
       "(297, 454, 512)"
      ]
     },
     "execution_count": 79,
     "metadata": {},
     "output_type": "execute_result"
    }
   ],
   "source": [
    "cropper(img).shape"
   ]
  },
  {
   "cell_type": "code",
   "execution_count": 89,
   "metadata": {},
   "outputs": [],
   "source": [
    "import time"
   ]
  },
  {
   "cell_type": "code",
   "execution_count": 90,
   "metadata": {},
   "outputs": [
    {
     "name": "stdout",
     "output_type": "stream",
     "text": [
      "\n",
      "consumed_time: 1.6059333749872167s\n",
      "\n"
     ]
    }
   ],
   "source": [
    "t = time.perf_counter()\n",
    "\n",
    "resampled_image = resample_all_1mm(img, ct_info.resolution[0])\n",
    "\n",
    "elapsed_time = time.perf_counter() - t\n",
    "\n",
    "print(f'''\n",
    "consumed_time: {elapsed_time}s\n",
    "''')"
   ]
  },
  {
   "cell_type": "code",
   "execution_count": 53,
   "metadata": {},
   "outputs": [
    {
     "data": {
      "text/plain": [
       "(297, 512, 512)"
      ]
     },
     "execution_count": 53,
     "metadata": {},
     "output_type": "execute_result"
    }
   ],
   "source": [
    "img.shape"
   ]
  },
  {
   "cell_type": "code",
   "execution_count": 54,
   "metadata": {},
   "outputs": [
    {
     "data": {
      "text/plain": [
       "(297, 287, 287)"
      ]
     },
     "execution_count": 54,
     "metadata": {},
     "output_type": "execute_result"
    }
   ],
   "source": [
    "resampled_image.shape"
   ]
  },
  {
   "cell_type": "code",
   "execution_count": 56,
   "metadata": {},
   "outputs": [],
   "source": [
    "label = np.load(get_label_path('000251_20190703_chest.npy'))"
   ]
  },
  {
   "cell_type": "code",
   "execution_count": 57,
   "metadata": {},
   "outputs": [],
   "source": [
    "resampled_label = resample_all_1mm(label, ct_info.resolution[0])"
   ]
  },
  {
   "cell_type": "code",
   "execution_count": 77,
   "metadata": {},
   "outputs": [
    {
     "data": {
      "text/plain": [
       "0"
      ]
     },
     "execution_count": 77,
     "metadata": {},
     "output_type": "execute_result"
    }
   ],
   "source": [
    "adjust_window(resampled_image, [700,100]).astype(np.int32).min()"
   ]
  },
  {
   "cell_type": "code",
   "execution_count": null,
   "metadata": {
    "scrolled": false
   },
   "outputs": [],
   "source": [
    "plot_image_and_label(adjust_window(resampled_image, [700,100]).astype(np.int32), (resampled_label>0).astype(np.uint8))"
   ]
  },
  {
   "cell_type": "code",
   "execution_count": 29,
   "metadata": {},
   "outputs": [],
   "source": [
    "from monai.transforms import Rand3DElastic\n",
    "sample_np_image = dcm_to_numpy(cases[0], dcm_base_dir) # npy 로 변환한 3D 이미지 하나 입니다\n",
    "sample_label = np.load('/workspace/BoneMeta_new/labels/{}.npy'.format(cases[0]))\n",
    "elastic_deform = Rand3DElastic(sigma_range=(35,35), magnitude_range=(10,10), prob=1.0, rotate_range=0, shear_range=0)\n",
    "deformed_image = elastic_deform(sample_np_image)\n"
   ]
  },
  {
   "cell_type": "markdown",
   "metadata": {},
   "source": [
    "## Testing All Sizes"
   ]
  },
  {
   "cell_type": "code",
   "execution_count": 114,
   "metadata": {},
   "outputs": [],
   "source": [
    "file_names = os.listdir(all_1mm_image_dir)"
   ]
  },
  {
   "cell_type": "code",
   "execution_count": 115,
   "metadata": {},
   "outputs": [],
   "source": [
    "image_sizes = [np.load(os.path.join(all_1mm_image_dir, file)).shape for file in file_names]\n",
    "label_sizes = [np.load(os.path.join(all_1mm_label_dir, file)).shape for file in file_names]"
   ]
  },
  {
   "cell_type": "code",
   "execution_count": 116,
   "metadata": {},
   "outputs": [
    {
     "data": {
      "text/plain": [
       "True"
      ]
     },
     "execution_count": 116,
     "metadata": {},
     "output_type": "execute_result"
    }
   ],
   "source": [
    "image_sizes == label_sizes"
   ]
  },
  {
   "cell_type": "code",
   "execution_count": null,
   "metadata": {},
   "outputs": [],
   "source": [
    "plot_image_and_label(np.load(os.path.join(all_1mm_image_dir, file_names[5])), np.load(os.path.join(all_1mm_label_dir, file_names[5])))"
   ]
  },
  {
   "cell_type": "code",
   "execution_count": null,
   "metadata": {},
   "outputs": [],
   "source": []
  }
 ],
 "metadata": {
  "colab": {
   "collapsed_sections": [
    "TzNPrUS4_fm0",
    "cTCM0A09AzDn",
    "yNWBAqePCwZ0"
   ],
   "name": "CropAndPaste.ipynb",
   "version": ""
  },
  "kernelspec": {
   "display_name": "Python 3",
   "language": "python",
   "name": "python3"
  },
  "language_info": {
   "codemirror_mode": {
    "name": "ipython",
    "version": 3
   },
   "file_extension": ".py",
   "mimetype": "text/x-python",
   "name": "python",
   "nbconvert_exporter": "python",
   "pygments_lexer": "ipython3",
   "version": "3.6.9"
  }
 },
 "nbformat": 4,
 "nbformat_minor": 1
}
