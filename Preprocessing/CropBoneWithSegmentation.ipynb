{
 "cells": [
  {
   "cell_type": "code",
   "execution_count": 2,
   "id": "33b4f56d",
   "metadata": {},
   "outputs": [],
   "source": [
    "import os\n",
    "import SimpleITK as sitk\n",
    "import numpy as np\n",
    "import glob\n",
    "import matplotlib.pyplot as plt\n",
    "import pandas as pd\n",
    "\n",
    "import time"
   ]
  },
  {
   "cell_type": "code",
   "execution_count": 3,
   "id": "d95d95bc",
   "metadata": {},
   "outputs": [],
   "source": [
    "import sys\n",
    "sys.path.insert(1, '/workspace')"
   ]
  },
  {
   "cell_type": "code",
   "execution_count": 4,
   "id": "b397af38",
   "metadata": {},
   "outputs": [],
   "source": [
    "from_dir = '/workspace/BoneMeta_all_192/images'\n",
    "to_dir = '/workspace/BoneMeta_all_192/images_bone'\n",
    "seg_dir = '/workspace/BoneMeta_all_192/preds_seg'"
   ]
  },
  {
   "cell_type": "code",
   "execution_count": 13,
   "id": "b71f2e25",
   "metadata": {},
   "outputs": [],
   "source": [
    "from multiprocessing import Pool"
   ]
  },
  {
   "cell_type": "code",
   "execution_count": 16,
   "id": "0d9706fc",
   "metadata": {},
   "outputs": [],
   "source": [
    "class BoneSegmentor:\n",
    "    def __init__(self, args):\n",
    "        self.from_dir, self.to_dir, self.seg_dir = args\n",
    "    \n",
    "    def save_np(self, np_image, file_name):\n",
    "        np_image = np_image.astype(np.int16)\n",
    "        np.save(os.path.join(self.to_dir, file_name), np_image)\n",
    "        \n",
    "    def segment_bone(self, file_name):\n",
    "        image = np.load(os.path.join(from_dir, file_name))\n",
    "        bone_seg = np.load(os.path.join(seg_dir, file_name))\n",
    "        bone_image = image * bone_seg - 1024 * (1-bone_seg)\n",
    "        return bone_image\n",
    "    \n",
    "    def segment_and_save(self, file_name):\n",
    "        bone_image = self.segment_bone(file_name)\n",
    "        self.save_np(bone_image, file_name)\n",
    "        \n",
    "    def segment_all(self):\n",
    "        os.makedirs(self.to_dir, exist_ok=True)\n",
    "\n",
    "        t = time.perf_counter()\n",
    "\n",
    "        file_list = os.listdir(self.from_dir)\n",
    "        pool = Pool(processes=32)\n",
    "        pool.map(self.segment_and_save, file_list)\n",
    "        pool.close()\n",
    "        pool.join()\n",
    "\n",
    "        elapsed_time = time.perf_counter() - t\n",
    "\n",
    "        print(f'''\n",
    "        consumed_time: {elapsed_time}s\n",
    "        ''')"
   ]
  },
  {
   "cell_type": "code",
   "execution_count": 17,
   "id": "7da8d5fa",
   "metadata": {},
   "outputs": [],
   "source": [
    "segmentor = BoneSegmentor((from_dir, to_dir, seg_dir))"
   ]
  },
  {
   "cell_type": "code",
   "execution_count": 18,
   "id": "6e9879e6",
   "metadata": {},
   "outputs": [
    {
     "name": "stdout",
     "output_type": "stream",
     "text": [
      "\n",
      "        consumed_time: 5.78821772900119s\n",
      "        \n"
     ]
    }
   ],
   "source": [
    "segmentor.segment_all()"
   ]
  }
 ],
 "metadata": {
  "kernelspec": {
   "display_name": "Python 3",
   "language": "python",
   "name": "python3"
  },
  "language_info": {
   "codemirror_mode": {
    "name": "ipython",
    "version": 3
   },
   "file_extension": ".py",
   "mimetype": "text/x-python",
   "name": "python",
   "nbconvert_exporter": "python",
   "pygments_lexer": "ipython3",
   "version": "3.6.9"
  }
 },
 "nbformat": 4,
 "nbformat_minor": 5
}
