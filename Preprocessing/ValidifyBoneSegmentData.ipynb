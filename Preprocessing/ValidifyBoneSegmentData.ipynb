{
 "cells": [
  {
   "cell_type": "code",
   "execution_count": 1,
   "id": "5f8281bd",
   "metadata": {},
   "outputs": [
    {
     "name": "stdout",
     "output_type": "stream",
     "text": [
      "3dunet\t\t\t    BoneMeta_new       JO_nb\t\t  jungoh\r\n",
      "BoneMeta_CropSpine\t    BoneMeta_raw       JS_nb\t\t  utils\r\n",
      "BoneMeta_CropSpine_all_128  BoneSeg_CropSpine  bone_segmentation\r\n",
      "BoneMeta_all_128\t    DataInfo\t       jeune\r\n"
     ]
    }
   ],
   "source": [
    "!ls /workspace/"
   ]
  },
  {
   "cell_type": "code",
   "execution_count": 5,
   "id": "a4f8069d",
   "metadata": {},
   "outputs": [],
   "source": [
    "import os"
   ]
  },
  {
   "cell_type": "code",
   "execution_count": 7,
   "id": "d8f9d3d7",
   "metadata": {},
   "outputs": [],
   "source": [
    "whole_data_list = os.listdir('/workspace/BoneMeta_raw/data')"
   ]
  },
  {
   "cell_type": "code",
   "execution_count": 8,
   "id": "14868859",
   "metadata": {},
   "outputs": [
    {
     "data": {
      "text/plain": [
       "310"
      ]
     },
     "execution_count": 8,
     "metadata": {},
     "output_type": "execute_result"
    }
   ],
   "source": [
    "len(whole_data_list)"
   ]
  },
  {
   "cell_type": "code",
   "execution_count": 9,
   "id": "dd89688e",
   "metadata": {},
   "outputs": [
    {
     "name": "stdout",
     "output_type": "stream",
     "text": [
      "images\timages4  images_1300300  labels  logs  models  predict\r\n"
     ]
    }
   ],
   "source": [
    "!ls /workspace/bone_segmentation"
   ]
  },
  {
   "cell_type": "code",
   "execution_count": 28,
   "id": "858c4702",
   "metadata": {},
   "outputs": [],
   "source": [
    "seg_image_list = os.listdir('/workspace/bone_segmentation/labels')"
   ]
  },
  {
   "cell_type": "code",
   "execution_count": 29,
   "id": "fc16642b",
   "metadata": {},
   "outputs": [
    {
     "data": {
      "text/plain": [
       "100"
      ]
     },
     "execution_count": 29,
     "metadata": {},
     "output_type": "execute_result"
    }
   ],
   "source": [
    "len(seg_image_list)"
   ]
  },
  {
   "cell_type": "code",
   "execution_count": 37,
   "id": "20340cfd",
   "metadata": {},
   "outputs": [],
   "source": [
    "seg_data_list = [imagefilename[:-4] for imagefilename in seg_image_list]"
   ]
  },
  {
   "cell_type": "code",
   "execution_count": 38,
   "id": "8e4bfd88",
   "metadata": {},
   "outputs": [
    {
     "data": {
      "text/plain": [
       "False"
      ]
     },
     "execution_count": 38,
     "metadata": {},
     "output_type": "execute_result"
    }
   ],
   "source": [
    "seg_data_list in whole_data_list"
   ]
  },
  {
   "cell_type": "code",
   "execution_count": 39,
   "id": "c374f440",
   "metadata": {},
   "outputs": [
    {
     "data": {
      "text/plain": [
       "88"
      ]
     },
     "execution_count": 39,
     "metadata": {},
     "output_type": "execute_result"
    }
   ],
   "source": [
    "diff = set(seg_data_list) - set(whole_data_list)\n",
    "using_segment_data_list = list(set(seg_data_list) - diff)\n",
    "len(using_segment_data_list)"
   ]
  },
  {
   "cell_type": "code",
   "execution_count": 45,
   "id": "36fcf1ec",
   "metadata": {},
   "outputs": [],
   "source": [
    "import random\n",
    "random.shuffle(using_segment_data_list)\n",
    "train_data = using_segment_data_list[:72]\n",
    "val_data = using_segment_data_list[72:]"
   ]
  },
  {
   "cell_type": "code",
   "execution_count": 67,
   "id": "0611e4bb",
   "metadata": {},
   "outputs": [
    {
     "name": "stdout",
     "output_type": "stream",
     "text": [
      "TRAIN_CASES = ['BH026_20190601_abdomen', '000224_20190228_chest', '000232_20190401_abdomen', '000298_20190726_chest', 'BH025_20191101_abdomen', 'BH021_20181001_abdomen', 'BH004_20191101_chest', 'BH008_20190701_abdomen', '000332_20191025_chest', 'BH012_20180401_chest', 'SN054_20170201_chest', '000002_20180829_chest', 'BH010_20161101_abdomen', 'BH010_20161101_chest', '000069_20180319_chest', '000325_20190919_chest', 'BH022_20190101_chest', '000162_20180131_chest', '000232_20190423_chest', 'BH018_20190801_chest', '000301_20190827_chest', '000272_20190614_chest', '000021_20181227_chest', 'BH030_20160101_T-L spine (3D)', '000193_20190114_chest', 'BH021_20181001_chest', '000363_20191222_chest', '000310_20190801_abdomen', '000352_20191001_abdomen', 'BH032_20180701_chest', 'BH020_20191201_chest', '000025_20180808_chest', 'BH013_20191001_chest', '000324_20190910_chest', '000080_20180911_chest', 'BH035_20191101_GU Kidney & bladder CT (3D)', 'BH024_20190501_abdomen', 'BH017_20191201_chest', '000242_20190409_chest', 'SN028_20160801_chest', '000022_20180830_chest', '000354_20191001_abdomen', '000269_20190601_abdomen', '000355_20190901_abdomen', '000262_20190501_abdomen', 'BH014_20181201_chest', 'BH019_20191101_chest', '000048_20190501_abdomen', 'BH028_20190801_chest', '000309_20190801_abdomen', '000300_20190801_abdomen', 'SN005_20191101_chest', '000350_20191001_abdomen', '000236_20190401_abdomen', 'BH029_20200101_chest', 'BH023_20191101_abdomen', 'SN036_20190601_chest', 'SN013_20190401_chest', '000212_20190324_chest', '000314_20190901_abdomen', '000091_20180504_chest', '000376_20200114_chest', '000288_20190701_abdomen', '000234_20190401_abdomen', 'BH036_20180301_GU Kidney & bladder CT (3D)', 'SN016_20190901_chest', '000260_20190522_chest', '000282_20190701_abdomen', '000085_20180829_chest', 'BH023_20191101_chest', '000376_20200101_abdomen', '000011_20181207_chest']\n",
      "\n",
      "VAL_CASES = ['BH015_20190101_chest', 'SN015_20190901_chest', '000244_20190501_abdomen', '000019_20190613_chest', 'BH012_20180401_abdomen', '000332_20191001_abdomen', '000305_20190801_abdomen', 'SN025_20200401_chest', '000019_20181018_chest', 'BH008_20190701_chest', 'BH032_20180701_abdomen', '000331_20190901_abdomen', 'BH024_20190501_chest', 'BH009_20180301_chest', 'BH009_20180301_abdomen', '000363_20191201_abdomen']\n"
     ]
    }
   ],
   "source": [
    "print(f\"\"\"TRAIN_CASES = {train_data}\n",
    "\n",
    "VAL_CASES = {val_data}\"\"\"\n",
    ")"
   ]
  },
  {
   "cell_type": "markdown",
   "id": "9e61b4bb",
   "metadata": {},
   "source": [
    "TRAIN_CASES = ['BH026_20190601_abdomen', '000224_20190228_chest', '000232_20190401_abdomen', '000298_20190726_chest', 'BH025_20191101_abdomen', 'BH021_20181001_abdomen', 'BH004_20191101_chest', 'BH008_20190701_abdomen', '000332_20191025_chest', 'BH012_20180401_chest', 'SN054_20170201_chest', '000002_20180829_chest', 'BH010_20161101_abdomen', 'BH010_20161101_chest', '000069_20180319_chest', '000325_20190919_chest', 'BH022_20190101_chest', '000162_20180131_chest', '000232_20190423_chest', 'BH018_20190801_chest', '000301_20190827_chest', '000272_20190614_chest', '000021_20181227_chest', 'BH030_20160101_T-L spine (3D)', '000193_20190114_chest', 'BH021_20181001_chest', '000363_20191222_chest', '000310_20190801_abdomen', '000352_20191001_abdomen', 'BH032_20180701_chest', 'BH020_20191201_chest', '000025_20180808_chest', 'BH013_20191001_chest', '000324_20190910_chest', '000080_20180911_chest', 'BH035_20191101_GU Kidney & bladder CT (3D)', 'BH024_20190501_abdomen', 'BH017_20191201_chest', '000242_20190409_chest', 'SN028_20160801_chest', '000022_20180830_chest', '000354_20191001_abdomen', '000269_20190601_abdomen', '000355_20190901_abdomen', '000262_20190501_abdomen', 'BH014_20181201_chest', 'BH019_20191101_chest', '000048_20190501_abdomen', 'BH028_20190801_chest', '000309_20190801_abdomen', '000300_20190801_abdomen', 'SN005_20191101_chest', '000350_20191001_abdomen', '000236_20190401_abdomen', 'BH029_20200101_chest', 'BH023_20191101_abdomen', 'SN036_20190601_chest', 'SN013_20190401_chest', '000212_20190324_chest', '000314_20190901_abdomen', '000091_20180504_chest', '000376_20200114_chest', '000288_20190701_abdomen', '000234_20190401_abdomen', 'BH036_20180301_GU Kidney & bladder CT (3D)', 'SN016_20190901_chest', '000260_20190522_chest', '000282_20190701_abdomen', '000085_20180829_chest', 'BH023_20191101_chest', '000376_20200101_abdomen', '000011_20181207_chest']\n",
    "\n",
    "VAL_CASES = ['BH015_20190101_chest', 'SN015_20190901_chest', '000244_20190501_abdomen', '000019_20190613_chest', 'BH012_20180401_abdomen', '000332_20191001_abdomen', '000305_20190801_abdomen', 'SN025_20200401_chest', '000019_20181018_chest', 'BH008_20190701_chest', 'BH032_20180701_abdomen', '000331_20190901_abdomen', 'BH024_20190501_chest', 'BH009_20180301_chest', 'BH009_20180301_abdomen', '000363_20191201_abdomen']"
   ]
  },
  {
   "cell_type": "code",
   "execution_count": 74,
   "id": "11015fb0",
   "metadata": {},
   "outputs": [],
   "source": [
    "TRAIN_CASES = ['BH026_20190601_abdomen', '000224_20190228_chest', '000232_20190401_abdomen', '000298_20190726_chest', 'BH025_20191101_abdomen', 'BH021_20181001_abdomen', 'BH004_20191101_chest', 'BH008_20190701_abdomen', '000332_20191025_chest', 'BH012_20180401_chest', 'SN054_20170201_chest', '000002_20180829_chest', 'BH010_20161101_abdomen', 'BH010_20161101_chest', '000069_20180319_chest', '000325_20190919_chest', 'BH022_20190101_chest', '000162_20180131_chest', '000232_20190423_chest', 'BH018_20190801_chest', '000301_20190827_chest', '000272_20190614_chest', '000021_20181227_chest', 'BH030_20160101_T-L spine (3D)', '000193_20190114_chest', 'BH021_20181001_chest', '000363_20191222_chest', '000310_20190801_abdomen', '000352_20191001_abdomen', 'BH032_20180701_chest', 'BH020_20191201_chest', '000025_20180808_chest', 'BH013_20191001_chest', '000324_20190910_chest', '000080_20180911_chest', 'BH035_20191101_GU Kidney & bladder CT (3D)', 'BH024_20190501_abdomen', 'BH017_20191201_chest', '000242_20190409_chest', 'SN028_20160801_chest', '000022_20180830_chest', '000354_20191001_abdomen', '000269_20190601_abdomen', '000355_20190901_abdomen', '000262_20190501_abdomen', 'BH014_20181201_chest', 'BH019_20191101_chest', '000048_20190501_abdomen', 'BH028_20190801_chest', '000309_20190801_abdomen', '000300_20190801_abdomen', 'SN005_20191101_chest', '000350_20191001_abdomen', '000236_20190401_abdomen', 'BH029_20200101_chest', 'BH023_20191101_abdomen', 'SN036_20190601_chest', 'SN013_20190401_chest', '000212_20190324_chest', '000314_20190901_abdomen', '000091_20180504_chest', '000376_20200114_chest', '000288_20190701_abdomen', '000234_20190401_abdomen', 'BH036_20180301_GU Kidney & bladder CT (3D)', 'SN016_20190901_chest', '000260_20190522_chest', '000282_20190701_abdomen', '000085_20180829_chest', 'BH023_20191101_chest', '000376_20200101_abdomen', '000011_20181207_chest']\n",
    "\n",
    "VAL_CASES = ['BH015_20190101_chest', 'SN015_20190901_chest', '000244_20190501_abdomen', '000019_20190613_chest', 'BH012_20180401_abdomen', '000332_20191001_abdomen', '000305_20190801_abdomen', 'SN025_20200401_chest', '000019_20181018_chest', 'BH008_20190701_chest', 'BH032_20180701_abdomen', '000331_20190901_abdomen', 'BH024_20190501_chest', 'BH009_20180301_chest', 'BH009_20180301_abdomen', '000363_20191201_abdomen']"
   ]
  },
  {
   "cell_type": "code",
   "execution_count": 75,
   "id": "cf7d5124",
   "metadata": {},
   "outputs": [
    {
     "name": "stdout",
     "output_type": "stream",
     "text": [
      "72 16\n"
     ]
    }
   ],
   "source": [
    "print(len(TRAIN_CASES), len(VAL_CASES))"
   ]
  },
  {
   "cell_type": "code",
   "execution_count": 80,
   "id": "28796dc1",
   "metadata": {},
   "outputs": [],
   "source": [
    "using_files = [data + '.npy' for data in using_segment_data_list]"
   ]
  },
  {
   "cell_type": "code",
   "execution_count": 81,
   "id": "b8e0393d",
   "metadata": {},
   "outputs": [],
   "source": [
    "import shutil\n",
    "from_dir = '/workspace/bone_segmentation/labels/'\n",
    "to_dir = '/workspace/BoneSeg/labels/'\n",
    "for file in using_files:\n",
    "    shutil.copyfile(from_dir + file, to_dir + file)"
   ]
  },
  {
   "cell_type": "code",
   "execution_count": 86,
   "id": "65dbf4d2",
   "metadata": {},
   "outputs": [],
   "source": [
    "from_dir = '/workspace/bone_segmentation/images/'\n",
    "to_dir = '/workspace/BoneSeg/images/'\n",
    "for file in using_files:\n",
    "    shutil.copyfile(from_dir + file, to_dir + file)"
   ]
  },
  {
   "cell_type": "code",
   "execution_count": 87,
   "id": "9455d49f",
   "metadata": {},
   "outputs": [],
   "source": [
    "from_dir = '/workspace/bone_segmentation/images_1300300/'\n",
    "to_dir = '/workspace/BoneSeg/images_1300300/'\n",
    "os.makedirs(to_dir, exist_ok=True)\n",
    "\n",
    "for file in using_files:\n",
    "    shutil.copyfile(from_dir + file, to_dir + file)"
   ]
  },
  {
   "cell_type": "code",
   "execution_count": 89,
   "id": "9096059d",
   "metadata": {},
   "outputs": [],
   "source": [
    "from_dir = '/workspace/BoneSeg_CropSpine/labels/'\n",
    "source_files = os.listdir(from_dir)\n",
    "for source_file in source_files:\n",
    "    if source_file in using_files:\n",
    "        continue;\n",
    "    else:\n",
    "        os.remove(from_dir + source_file)"
   ]
  },
  {
   "cell_type": "code",
   "execution_count": null,
   "id": "6249b6a9",
   "metadata": {},
   "outputs": [],
   "source": []
  }
 ],
 "metadata": {
  "kernelspec": {
   "display_name": "Python 3",
   "language": "python",
   "name": "python3"
  },
  "language_info": {
   "codemirror_mode": {
    "name": "ipython",
    "version": 3
   },
   "file_extension": ".py",
   "mimetype": "text/x-python",
   "name": "python",
   "nbconvert_exporter": "python",
   "pygments_lexer": "ipython3",
   "version": "3.6.9"
  }
 },
 "nbformat": 4,
 "nbformat_minor": 5
}
