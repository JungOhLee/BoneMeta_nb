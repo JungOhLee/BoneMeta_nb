{
 "cells": [
  {
   "cell_type": "markdown",
   "metadata": {
    "id": "lkQzLHipM8Vv"
   },
   "source": [
    "#### Update for v1.1\n",
    "- v1.0 was valid to work\n",
    "- v1.1 added doPrediction for predict whole CT scan as in test setting. \n",
    "\n",
    "# Configuration"
   ]
  },
  {
   "cell_type": "code",
   "execution_count": 1,
   "metadata": {},
   "outputs": [],
   "source": [
    "# !pip install monai\n",
    "# !pip install nibabel\n",
    "# !pip install SimpleITK\n",
    "# !pip install tensorboard"
   ]
  },
  {
   "cell_type": "code",
   "execution_count": 2,
   "metadata": {
    "id": "244xQcIJg0RL"
   },
   "outputs": [],
   "source": [
    "MODEL_TO_LOAD = ''\n",
    "FN_LOSS = 0\n",
    "LEVELS = 6\n",
    "TRAINING_NAME = f'3D_Unet_DropRes_lv{LEVELS}_All192'\n",
    "TB_PREFIX = 'bonemeta_fn_{}'.format(FN_LOSS) + '_{}'.format(TRAINING_NAME)\n",
    "\n",
    "PATCH_SIZE = 128\n",
    "\n",
    "# BATCH_SIZE = 120\n",
    "BATCH_SIZE = 3\n",
    "EPOCHS = 1500\n",
    "\n",
    "BASE_DIR = '/workspace/BoneMeta_all_128'\n",
    "IMG_FOLDER_NAME = 'images'\n",
    "LABEL_FOLDER_NAME = 'labels'"
   ]
  },
  {
   "cell_type": "code",
   "execution_count": 3,
   "metadata": {},
   "outputs": [],
   "source": [
    "import os\n",
    "import sys\n",
    "import hashlib\n",
    "import numpy as np\n",
    "import pandas as pd\n",
    "import matplotlib.pyplot as plt\n",
    "import SimpleITK as sitk\n",
    "import random"
   ]
  },
  {
   "cell_type": "markdown",
   "metadata": {
    "id": "Nr6YOqFNyy3v"
   },
   "source": [
    "# Set dataset"
   ]
  },
  {
   "cell_type": "code",
   "execution_count": 4,
   "metadata": {
    "colab": {
     "base_uri": "https://localhost:8080/"
    },
    "executionInfo": {
     "elapsed": 2097,
     "status": "ok",
     "timestamp": 1626888627596,
     "user": {
      "displayName": "이정오",
      "photoUrl": "",
      "userId": "04886549528950007370"
     },
     "user_tz": -540
    },
    "id": "kT6WRrXoI2fe",
    "outputId": "64071a62-3a8c-4633-89f9-e6586f678c73"
   },
   "outputs": [],
   "source": [
    "# !git clone https://github.com/JungOhLee/bonemeta_model.git ./git_clone\n",
    "# !mv  -v ./git_clone/* ."
   ]
  },
  {
   "cell_type": "code",
   "execution_count": 5,
   "metadata": {
    "colab": {
     "base_uri": "https://localhost:8080/"
    },
    "executionInfo": {
     "elapsed": 587,
     "status": "ok",
     "timestamp": 1626890250549,
     "user": {
      "displayName": "이정오",
      "photoUrl": "",
      "userId": "04886549528950007370"
     },
     "user_tz": -540
    },
    "id": "EmV2m6-yFWDt",
    "outputId": "11802772-72ea-43c3-9334-124985c66b79"
   },
   "outputs": [
    {
     "data": {
      "text/plain": [
       "True"
      ]
     },
     "execution_count": 5,
     "metadata": {},
     "output_type": "execute_result"
    }
   ],
   "source": [
    "IMG_DIR = os.path.join(BASE_DIR, IMG_FOLDER_NAME)\n",
    "LABEL_DIR = os.path.join(BASE_DIR, LABEL_FOLDER_NAME)\n",
    "\n",
    "IMG_FILES = os.listdir(IMG_DIR)\n",
    "LABEL_FILES = os.listdir(LABEL_DIR)\n",
    "\n",
    "def get_img_path(file): \n",
    "    return os.path.join(IMG_DIR, file)\n",
    "\n",
    "def get_label_path(file):\n",
    "    return os.path.join(LABEL_DIR, file)\n",
    "\n",
    "def case_to_file(case):\n",
    "    return case+'.npy'\n",
    "\n",
    "def file_to_case(file_name):\n",
    "    return file_name.split('.')[0]\n",
    "\n",
    "set(IMG_FILES).issubset(LABEL_FILES)"
   ]
  },
  {
   "cell_type": "code",
   "execution_count": 6,
   "metadata": {},
   "outputs": [
    {
     "name": "stdout",
     "output_type": "stream",
     "text": [
      "/workspace/BoneMeta_all_128/images 317\n",
      "/workspace/BoneMeta_all_128/labels 317\n"
     ]
    }
   ],
   "source": [
    "print(IMG_DIR, len(IMG_FILES))\n",
    "print(LABEL_DIR, len(LABEL_FILES))"
   ]
  },
  {
   "cell_type": "code",
   "execution_count": 7,
   "metadata": {},
   "outputs": [
    {
     "data": {
      "text/plain": [
       "0"
      ]
     },
     "execution_count": 7,
     "metadata": {},
     "output_type": "execute_result"
    }
   ],
   "source": [
    "len(set(IMG_FILES)-set(LABEL_FILES))"
   ]
  },
  {
   "cell_type": "code",
   "execution_count": 8,
   "metadata": {},
   "outputs": [],
   "source": [
    "# # z축 작은 녀석들만 남기기 \n",
    "# SMALL_Z_CASES = ['000251_20190703_chest', '000356_20191024_chest', '000350_20190927_chest', '000397_20200214_chest', 'BH005_20170701_abdomen', 'BH041_20190201_C-T-L Spine (3D)', 'BH005_20170701_chest', '000355_20190901_abdomen', '000022_20180830_chest', '000244_20190501_abdomen', '000332_20191025_chest', '000019_20181018_chest', 'BH011_20190301_Spine^00_C_Spine_Pre_OP (Adult)', '000019_20190613_chest', 'BH017_20191201_abdomen', '000273_20190531_chest', '000404_20200305_chest', '000286_20190701_abdomen', 'SN015_20190901_chest', '000391_20200216_Thoracic Aorta CT Angio+3D (contrast)', '000262_20190501_abdomen', 'SN013_20190401_chest', '000285_20190807_chest', '000362_20191201_abdomen', '000322_20190913_chest', 'BH057_20191227_chest', '000400_20200210_chest', 'BH064_20200605_abdomen', 'BH034_20190901_chest', '000298_20190726_chest', '000311_20190902_chest', '000396_20200201_abdomen', '000223_20190319_chest', 'BH032_20180701_abdomen', '000291_20190701_abdomen', 'BH045_20181001_abdomen', '000296_20190726_chest', 'BH066_20190525_chest', 'BH010_20161101_chest', '000251_20190701_abdomen', 'SN007_20190701_chest', '000193_20190114_chest', '000262_20190529_chest', '000251_20190429_chest', 'BH060_20200413_chest', '000234_20190419_chest', 'BH040_20200101_CT Angio + 3D Pulmonary artery (Embolism) (2)', 'BH070_20160823_chest', '000316_20190627_chest', '000356_20190901_abdomen', '000383_20200121_chest', 'BH052_20190901_chest', '000450_20200512_chest', '000276_20190604_chest', '000364_20191217_chest', 'BH025_20191101_abdomen', 'BH035_20191101_GU Kidney & bladder CT (3D)', 'BH018_20190801_chest', '000269_20190601_abdomen', 'BH008_20190701_chest', '000332_20191001_abdomen', 'BH043_20191001_abdomen', '000260_20190522_chest', 'BH007_20190801_chest', 'BH067_20191017_chest', '000279_20190614_chest', 'SN004_20190901_chest', 'BH042_20180801_C-T-L Spine (3D)', 'BH099_20200806_abdomen', 'BH055_20200328_chest', 'BH001_20190401_chest', '000162_20180131_chest', 'BH054_20191122_abdomen', '000450_20200501_abdomen', 'BH030_20160101_T-L spine (3D)', '000372_20200107_chest', 'BH069_20200505_chest', 'BH012_20180401_abdomen', 'BH058_20180918_chest', '000404_20200201_abdomen', 'BH048_20190501_chest', '000348_20191201_CT Liver (contrast)', 'BH002_20190701_chest', '000376_20200101_abdomen', '000309_20190801_abdomen', 'SN017_20190701_chest', 'BH029_20200101_chest', 'BH059_20201013_abdomen', '000310_20190801_abdomen', '000272_20190614_chest', 'BH027_20191001_L-spine CT (3D)', 'BH064_20200605_chest', '000350_20191001_abdomen', '000232_20190423_chest', 'BH001_20190501_abdomen', 'BH039_20190601_chest', 'SN008_20190901_chest', '000270_20190608_chest', 'BH091_20200104_chest', '000269_20190604_chest', '000331_20190916_chest', '000325_20190919_chest', '000363_20191222_chest', '000260_20190501_CT Liver (contrast)', '000330_20190926_chest', 'BH072_20200219_abdomen', '000324_20190910_chest', 'BH009_20180301_chest', 'BH028_20190801_chest', 'SN029_20200301_chest', 'BH110_20200616_chest', '000401_20200201_T-Spine+3D CT (noncontrast)', 'SN031_20160501_chest', 'SN005_20191101_chest', '000452_20200513_chest', '000021_20181227_chest', '000236_20190401_abdomen', 'SN002_20190801_chest', '000382_20200129_chest', '000301_20190801_Pulmonary artery CT Angio+3D (contrast)', 'BH015_20190101_chest', 'BH043_20191001_chest', 'BH063_20200519_chest', '000363_20191201_abdomen', '000354_20191001_abdomen', 'BH047_20180901_abdomen', '000079_20180911_Pulmonary artery CT Angio+3D (contrast)', 'BH016_20151001_chest', 'BH061_20190315_abdomen', 'BH014_20181201_chest', '000362_20191214_chest', '000354_20191022_chest', 'SN051_20170401_chest', 'SN036_20190601_chest', 'BH017_20191201_chest', '000282_20190701_abdomen', 'BH023_20191101_chest', '000085_20180829_chest', 'SN019_20190801_chest', '000212_20190324_chest', '000302_20190726_chest', 'BH009_20180301_abdomen', 'BH008_20190701_abdomen', '000301_20190801_abdomen', 'BH015_20190101_abdomen', 'SN028_20160801_chest', '000344_20191125_chest', 'BH014_20181201_abdomen', '000214_20190325_chest', '000386_20200204_chest', '000372_20200101_abdomen', 'BH091_20200104_GU Kidney & bladder CT (3D)', 'SN025_20200401_chest', '000400_20200201_CT Biliary (contrast)', '000255_20190418_chest', 'BH081_20190322_abdomen', '000315_20190820_chest', '000288_20190701_abdomen', '000272_20190601_abdomen', '000322_20190901_abdomen', '000331_20190901_abdomen', 'SN055_20170301_chest', 'BH052_20190901_abdomen', '000310_20190812_chest', '000069_20180319_chest', 'BH024_20190501_abdomen', 'BH021_20181001_abdomen', '000009_20180417_chest', 'BH037_20171101_abdomen', '000002_20180829_chest', '000234_20190401_abdomen', '000262_20190318_chest', 'SN016_20190901_chest', '000232_20190401_abdomen', 'SN056_20170601_Thorax^01_Lung_Cancer_3D (Adult)', '000300_20190801_abdomen', 'BH006_20170801_chest', '000278_20190620_chest', 'BH036_20180301_GU Kidney & bladder CT (3D)', 'BH019_20191101_chest', 'BH004_20191101_chest', '000382_20200101_abdomen', '000242_20190409_chest', 'BH061_20190315_chest', '000080_20180911_chest', '000355_20191023_chest', '000364_20191201_abdomen', 'BH018_20190801_abdomen', '000291_20190718_chest', '000279_20190601_abdomen', '000308_20190826_chest', '000305_20190801_abdomen', 'BH010_20161101_abdomen', 'BH007_20190801_abdomen', 'BH021_20181001_chest', '000396_20200218_chest', '000091_20180504_chest', 'SN042_20170901_chest', '000314_20190827_chest', 'BH031_20160301_CT Angio + 3D Pulmonary artery (Embolism)', 'BH023_20191101_abdomen', '000301_20190827_chest', 'BH062_20201104_chest', 'BH020_20191201_chest', 'BH059_20201019_chest', '000246_20190629_chest', 'BH026_20190601_abdomen', 'BH040_20200101_CT Angio + 3D Pulmonary artery (Embolism)', 'BH034_20190901_abdomen', 'BH099_20200806_chest', 'BH051_20190301_GU Kidney & bladder CT (3D)', '000368_20200101_abdomen', 'BH057_20191227_abdomen', 'BH112_20190201_chest', 'BH024_20190501_chest', 'BH013_20191001_chest', '000309_20190823_chest', '000011_20181207_chest', 'BH020_20191201_abdomen', 'BH027_20191001_chest', '000316_20190715_Spine^L_SPINE (Adult)', '000012_20181214_chest', 'BH032_20180701_chest', 'BH037_20171101_chest', '000285_20190801_abdomen', 'BH038_20160901_CT angio + 3D C-spine(vertebral artery, C1-2)', 'BH072_20200219_chest', 'SN054_20170201_chest', '000048_20190501_abdomen', '000304_20190124_chest', 'BH045_20181001_chest', '000352_20191001_abdomen', 'BH016_20151001_abdomen', 'BH022_20190101_chest', 'BH047_20180901_chest', '000314_20190901_abdomen', 'BH065_20201013_chest', 'BH056_20200721_chest', '000281_20190701_chest', '000025_20180808_chest', '000352_20191017_chest', 'BH012_20180401_chest', '000224_20190228_chest', '000308_20190801_abdomen', '000376_20200114_chest']\n",
    "# SMALL_Z_FILES = [case_to_file(case) for case in SMALL_Z_CASES]\n",
    "# IMG_FILES = list(set(IMG_FILES).intersection(SMALL_Z_FILES))\n",
    "# len(IMG_FILES)"
   ]
  },
  {
   "cell_type": "code",
   "execution_count": 9,
   "metadata": {},
   "outputs": [],
   "source": [
    "TRAIN_FILES = ['KH027_20210801_Chest(+).npy', 'SN005_20191101_CT_Chest_+_3D_(contr.npy', 'BH091_20200104_Chest_CT_(contrast)_+_3D_(Chest_with_other_CT).npy', '000311_20190902_Chest_CT_(contrast).npy', 'BH023_20191101_Abdomen_&_pelvis_CT_(3D).npy', 'BH076_20180605_Chest_CT_(contrast)_+_3D_(Chest_with_other_CT).npy', 'BH121_20200301_Chest_CT_(contrast)_+_3D_(Chest_with_other_CT).npy', '000506_20201113_Chest_CT_(contrast).npy', 'BH069_20200505_Chest_CT_(contrast)_+_3D.npy', 'KH039_20210301_Chest_(-)_Routine.npy', 'KH042_20210501_Chest(+).npy', 'BH016_20151001_Abdomen_&_pelvis_CT_(3D).npy', 'BH104_20161219_Chest_CT_(contrast)_+_3D_(Chest_with_other_CT).npy', '000362_20191201_CT_Abdomen+Pelvis_Dynamic_(contrast).npy', 'BH035_20191101_GU_Kidney_&_bladder_CT_(3D).npy', '000423_20200401_CT_Abdomen+Pelvis_Dynamic_(contrast).npy', 'SN036_20190601_CT_Chest_+_3D_(contr.npy', 'BH101_20201109_Chest_CT_(Contrast)_+_3D(TS).npy', 'SN025_20200401_CT_Chest_+_3D_(contr.npy', '000364_20191217_Chest_CT_(contrast).npy', 'BH085_20200801_Abdomen_&_pelvis_CT.npy', 'KH023_20210901_Chest(+).npy', 'BH063_20200519_Chest_CT_(Non_contrast)_+_3D(Breast).npy', '000224_20190228_Chest_CT_(contrast).npy', 'BH116_20180606_GU_Abdomen_&_pelvis_CT_(3D).npy', 'BH023_20191101_Chest_CT_(contrast)_+_3D_(Chest_with_other_CT).npy', 'BH055_20200328_Chest_CT_(contrast)_+_3D_(Chest_with_other_CT).npy', 'KH002_20210301_Abdomen^00_AbdomenRoutine_(Adult).npy', '000370_20200101_CT_Abdomen+Pelvis_Post_(contrast).npy', '000363_20191222_Chest_3DCT_(contrast).npy', 'BH020_20191201_Chest_CT_(Non_contrast)_+_3D.npy', 'BH015_20190101_Chest_CT_(contrast)_+_3D_(Breast_with_other_CT).npy', 'KH016_20191101_Chest(+).npy', '000262_20190501_CT_Abdomen+Pelvis_Post_(contrast).npy', 'BH081_20190322_Chest_CT_(contrast)_+_3D_(Chest_with_other_CT).npy', '000282_20190701_CT_Abdomen+Pelvis_Post_(contrast).npy', 'SN042_20170901_CT_Chest_+_3D_(contr.npy', 'BH071_20160826_Chest_CT_(contrast)_+_3D.npy', '000356_20191024_Chest_CT_(contrast).npy', '000162_20180131_Chest_CT_(contrast).npy', '000269_20190601_CT_Abdomen+Pelvis_Dynamic_(contrast).npy', 'BH119_20200303_Abdomen_&_pelvis_CT_(3D).npy', 'BH043_20191001_Abdomen_&_pelvis_CT_(3D).npy', 'SN031_20160501_2-CT_Chest_Lung_cancer.npy', '000530_20210428_Chest_CT_(contrast).npy', 'BH005_20170707_Chest_CT_(contrast)_+_3D_(Breast_with_other_CT).npy', '000363_20191201_CT_Abdomen+Pelvis_Pre-Post_(contrast).npy', 'KH001_20210501_Chest(+).npy', 'KH031_20210801_Chest(+).npy', 'KH010_20201201_Chest(+).npy', '000370_20200117_Chest_CT_(contrast).npy', 'BH037_20171125_Abdomen_&_pelvis_CT_(3D).npy', '000080_20180911_Chest_CT_(contrast).npy', '000262_20190318_Chest_CT_(contrast).npy', 'BH117_20180506_Chest_CT_(contrast)_+_3D_(Chest_with_other_CT).npy', 'BH034_20190923_GU_OBGY,Abd-pelvis_CT(pre&post)_(3D).npy', 'BH123_20201023_Abdomen_&_pelvis_CT.npy', 'BH061_20190315_Abdomen_&_pelvis_CT_(3D).npy', 'KH007_20200601_Chest(+)_+_Abdomen_&_Pelvis_(+).npy', 'BH028_20190801_Chest_CT_(contrast)_+_3D.npy', '000085_20180829_Chest_CT_(contrast).npy', '000010_20181214_CT_Abdomen+Pelvis_Dynamic_(contrast).npy', '000435_20200401_CT_Abdomen+Pelvis_Dynamic_(contrast).npy', 'BH019_20191101_Thorax^02_Chest_CON_(Adult).npy', '000386_20200204_Chest_CT_(contrast).npy', '000466_20210128_CT_Abdomen+Pelvis_Post_(contrast).npy', 'BH098_20200626_Chest_CT_(contrast)_+_3D_(Chest_with_other_CT).npy', '000325_20190919_Chest_CT_(contrast).npy', '000481_20210305_Thorax^Lung_Pre_(Adult).npy', 'BH108_20180228_Chest_CT_(contrast)_+_3D.npy', 'KH014_20190701_Chest(+).npy', 'SN051_20170401_CT_Chest_+_3D_(contrast_NO_CM).npy', 'BH056_20200721_Chest_CT_(contrast)_+_3D.npy', 'KH014_20190701_IM_Chest(+)_+_Abdomen_&_Pelvis_(+).npy', 'BH091_20200104_GU_Kidney_&_bladder_CT_(3D).npy', 'BH064_20200605_Chest_CT_(contrast)_+_3D_(Chest_with_other_CT).npy', 'BH070_20160823_Abdomen_&_pelvis_CT_(3D).npy', 'BH089_20200811_Abdomen_&_pelvis_CT.npy', 'KH043_20210601_Thorax^00_Fl_Chest_Routine_(Adult).npy', 'BH002_20190701_Chest_CT_(Non_contrast)_+_3D.npy', '000279_20190614_Chest_3DCT_(contrast).npy', 'BH031_20160301_CT_Angio_+_3D_Pulmonary_artery_(Embolism).npy', 'BH080_20181210_Abdomen_&_pelvis_CT_(3D).npy', 'BH036_20180301_GU_Kidney_&_bladder_CT_(3D).npy', '000272_20190601_CT_Abdomen+Pelvis_Dynamic_(contrast).npy', '000079_20180911_Pulmonary_artery_CT_Angio+3D_(contrast).npy', '000022_20180830_Chest_CT_(contrast).npy', 'KH026_20210801_Chest(+).npy', 'BH120_20200406_Chest_CT_(contrast)_+_3D_(Chest_with_other_CT).npy', 'BH073_20201223_Chest_CT_(contrast)_+_3D_(Chest_with_other_CT).npy', 'BH100_20201007_Thorax^02_Chest_CON_(Adult).npy', 'BH086_20190812_Chest_CT_(Contrast)_+_3D(TS).npy', '000322_20190913_Chest_CT_(contrast).npy', 'BH095_20200727_Abdomen_&_pelvis_CT_(3D).npy', 'BH114_20180920_Chest_CT_(contrast)_+_3D_(Chest_with_other_CT).npy', 'KH016_20191101_Chest(+)_+_Abdomen_&_Pelvis(+).npy', 'SN028_20160801_CT_Abdomen+Pelvis_3D_(contrast).npy', 'SN055_20170301_CT_Chest_Low_Dose_+.npy', 'KH037_20210401_Chest(+).npy', '000309_20190823_Chest_CT_(contrast).npy', 'SN019_20190801_CT_Abdomen+Pelvis_Ar.npy', '000404_20200201_CT_Abdomen+Pelvis_Dynamic_(contrast).npy', '000528_20210514_Chest_CT_(contrast).npy', '000301_20190827_Chest_CT_(contrast).npy', '000424_20200218_Chest_CT_(contrast).npy', 'BH061_20190315_Chest_CT_(contrast)_+_3D_(Chest_with_other_CT).npy', 'BH120_20200304_Chest_CT_(contrast)_+_3D.npy', 'BH105_20160820_Chest_CT_(contrast)_+_3D.npy', 'BH123_20201023_Chest_CT_(contrast)_+_3D_(Chest_with_other_CT).npy', 'BH005_20170701_Abdomen_&_pelvis_CT_(3D).npy', 'BH118_20200617_Liver_CT_(LC_or_CLD,_3D).npy', '000262_20190529_Chest_CT_(contrast).npy', 'BH013_20191001_Chest_CT_(contrast)_+_3D_(Chest_with_other_CT).npy', '000481_20200722_Chest_CT_(noncontrast).npy', 'BH012_20180401_Chest_CT_(contrast)_+_3D_(Chest_with_other_CT).npy', 'BH054_20191122_Abdomen^00_Liver_CT_(Adult).npy', '000011_20181207_CT_Abdomen+Pelvis_Post_(contrast).npy', 'BH059_20201013_Abdomen_&_pelvis_CT.npy', 'BH082_20200416_Chest_CT_(contrast)_+_3D.npy', 'BH010_20161101_Chest_CT_(contrast)_+_3D_(Breast_with_other_CT).npy', 'BH121_20200301_Abdomen_&_pelvis_CT_(3D).npy', 'SN007_20190701_Thorax^05_Chest_Lung_Cancer_3D_(Adult).npy', '000409_20200310_Chest_CT_(contrast).npy', 'BH111_20161020_CT_Angio_+_3D_Coronary,_Chest.npy', 'SN031_20160501_CT_Abdomen+Pelvis_Ar.npy', 'BH118_20200702_Chest_CT_(contrast)_+_3D.npy', '000560_20210706_Chest_CT_(contrast).npy', '000322_20190901_CT_Abdomen+Pelvis_Dynamic_(contrast).npy', '000048_20190501_CT_Abdomen+Pelvis_Uro_(contrast).npy', 'SN019_20190801_CT_Chest_+_3D_(contr.npy', '000506_20201110_CT_Urography_(contrast).npy', '000423_20200407_Chest_CT_(contrast).npy', 'BH032_20180701_Chest_CT_(contrast)_+_3D_(Breast_with_other_CT).npy', 'KH033_20210701_Chest(+).npy', 'BH106_20200613_Abdomen_&_pelvis_CT_(3D).npy', 'BH114_20180920_GU_Kidney_&_bladder_CT_(3D).npy', 'BH008_20190701_Abdomen_&_pelvis_CT_(3D).npy', 'BH067_20191017_Chest_CT_(contrast)_+_3D_(Chest_with_other_CT).npy', '000475_20210210_Chest_CT_(contrast).npy', '000417_20200331_Chest_CT_(contrast).npy', 'BH026_20190601_Abdomen_&_pelvis_CT_(3D).npy', '000262_20190319_CT_Abdomen+Pelvis_Dynamic_(contrast).npy', 'BH008_20190701_Chest_CT_(contrast)_+_3D_(Chest_with_other_CT).npy', 'BH015_20190101_Abdomen_&_pelvis_CT_(3D).npy', 'BH090_20200924_Abdomen_&_pelvis_CT.npy', 'BH089_20200803_Chest_CT_(Contrast)_+_3D(TS).npy', '000305_20190801_CT_Acute_Abdomen_(contrast).npy', 'BH106_20200613_Chest_CT_(contrast)_+_3D_(Breast_with_other_CT).npy', 'BH120_20200406_Abdomen_&_pelvis_CT_(3D).npy', '000278_20190620_Chest_CT_(contrast).npy', 'BH012_20180401_Abdomen_&_pelvis_CT_(3D).npy', 'SN002_20190801_CT_Chest_+_3D_(contr.npy', 'BH016_20151001_Chest_CT_(contrast)_+_3D_(Chest_with_other_CT).npy', '000560_20210706_CT_Abdomen+Pelvis_Dynamic_(contrast).npy', 'KH032_20210701_Chest(+).npy', 'BH064_20200605_Abdomen_&_pelvis_CT_(3D).npy', '000352_20191001_CT_Abdomen+Pelvis_Dynamic_(contrast).npy', '000424_20200312_Chest_CT_(noncontrast).npy', '000269_20190325_CT_Abdomen+Pelvis_Dynamic_(contrast).npy', 'BH107_20200510_Chest_CT_(Contrast)_+_3D(TS).npy', 'SN005_20191001_Abdomen^03_LIVER_(Adult).npy', '000242_20190409_Chest_CT_(contrast).npy', 'BH010_20161101_Abdomen_&_pelvis_CT_(3D).npy', '000291_20190718_Chest_CT_(contrast).npy', '000296_20190726_Chest_CT_(contrast).npy', 'BH081_20190322_Abdomen_&_pelvis_CT_(3D).npy', 'KH030_20210901_Chest_Low-Dose_Screeni.npy', 'KH036_20210401_Chest(+).npy', '000330_20190926_Chest_CT_(contrast).npy', 'KH010_20201201_Chest(+)_+_Abdomen_&_P.npy', '000362_20191214_Chest_CT_(contrast).npy', 'KH028_20210401_Thorax^00_Fl_Chest_Routine_(Adult).npy', 'KH040_20210301_Chest(+).npy', 'SN051_20170401_CT_Abdomen+Pelvis_Arterial+Portal_(contrast).npy', '000400_20200201_CT_Biliary_(contrast).npy', '000368_20200101_CT_Abdomen+Pelvis_Dynamic_(contrast).npy', '000302_20190726_Chest_CT_(contrast).npy', 'BH048_20190501_Chest_CT_(contrast)_+_3D_(Breast_with_other_CT).npy', 'BH078_20200522_Abdomen_&_pelvis_CT_(3D).npy', '000269_20181016_CT_Abdomen+Pelvis_Dynamic_(contrast).npy', '000352_20191017_Chest_CT_(contrast).npy', '000356_20190901_CT_Abdomen+Pelvis_Dynamic_(contrast).npy', 'BH104_20161219_Abdomen_&_pelvis_CT_(3D).npy', 'BH075_20200721_Chest_CT_(Contrast)_+_3D(Breast).npy', 'BH029_20200101_Chest_HRCT_(lung_cancer).npy', '000069_20180319_Chest_CT_(contrast).npy', '000025_20180808_Chest_CT_(contrast).npy', '000270_20190608_Chest_CT_(contrast).npy', '000409_20200301_CT_Biliary_(contrast).npy', 'BH073_20201223_Abdomen_&_pelvis_CT.npy', 'BH113_20170914_Liver_CT_(LC_or_CLD,_3D).npy', '000212_20190324_Chest_CT_(noncontrast).npy', '000494_20210405_Chest_CT_(contrast).npy', 'BH108_20180223_Liver_CT_(LC_or_CLD,_3D).npy', 'SN042_20170901_CT_Abdomen+Pelvis_3D.npy', '000492_20210401_CT_Abdomen+Pelvis_Pre-Post_(contrast).npy', 'KH025_20211001_Chest(+).npy', '000021_20181227_Chest_CT_(contrast).npy', '000332_20191001_CT_Abdomen+Pelvis_Dynamic_(contrast).npy', '000391_20200216_Thoracic_Aorta_CT_Angio+3D_(contrast).npy', '000372_20200101_CT_Abdomen+Pelvis_Dynamic_(contrast).npy', 'SN012_20150801_Abdomen^01_Abdomen_Pelvis_Chest_(Adult).npy', 'SN054_20170201_CT_Chest_Lung_cancer+3D(contrast).npy', '000011_20181207_Chest_CT_(contrast).npy', 'BH070_20160823_Chest_CT_(contrast)_+_3D_(Chest_with_other_CT).npy', 'KH024_20211001_Chest(+).npy', 'BH074_20201113_Abdomen^00_Abd_CT_(Adult).npy', '000291_20190701_CT_Abdomen+Pelvis_Dynamic_(contrast).npy', 'BH109_20181210_Chest_CT_(contrast)_+_3D_(Breast_with_other_CT).npy', '000376_20200101_CT_Abdomen+Pelvis_Dynamic_(contrast).npy', 'BH117_20180506_Abdomen_&_pelvis_CT_(3D).npy', 'BH043_20191001_Chest_CT_(contrast)_+_3D_(Chest_with_other_CT).npy', 'KH009_20200801_Chest(+).npy', '000376_20200114_Chest_CT_(contrast).npy', '000400_20200210_Chest_CT_(contrast).npy', '000269_20181214_CT_Abdomen+Pelvis_Dynamic_(contrast).npy', 'BH037_20171125_Chest_CT_(contrast)_+_3D_(Chest_with_other_CT).npy', 'KH007_20200601_Chest(+).npy', '000025_20180808_CT_Abdomen+Pelvis_Dynamic_(contrast).npy', '000301_20190801_CT_Acute_Abdomen_(contrast).npy', '000309_20190801_CT_Abdomen+Pelvis_Dynamic_(contrast).npy', 'BH076_20180605_GU_Abdomen_&_pelvis_CT_(3D).npy', 'BH007_20190801_Chest_CT_(contrast)_+_3D_(Chest_with_other_CT).npy', '000557_20210621_CT_Abdomen+Pelvis_Post_(contrast).npy', 'BH079_20200921_Low_dose_Chest_CT_+_3D(insured).npy', 'BH119_20200227_Chest_CT_(contrast)_+_3D.npy', 'BH066_20190525_Chest_CT_(contrast)_+_3D_(Chest_with_other_CT).npy', 'BH045_20181001_Chest_CT_(contrast)_+_3D_(Chest_with_other_CT).npy', '000282_20190410_CT_Abdomen+Pelvis_Dynamic_(contrast).npy', 'BH051_20190301_GU_Kidney_&_bladder_CT_(3D).npy', '000557_20210621_Chest_CT_(contrast).npy', 'BH098_20200626_GU_Kidney_&_bladder_CT_(3D).npy', '000304_20190124_CT_Liver_(contrast).npy', '000466_20210125_Chest_CT_(contrast).npy', '000272_20190614_Chest_CT_(contrast).npy', 'KH009_20200801_Chest(+)_+_Abdomen_&_Pelvis_(+).npy', '000541_20210520_Chest_CT_(contrast).npy', '000435_20200420_Chest_CT_(contrast).npy', '000481_20210409_CT_Liver_(contrast).npy', 'BH087_20190314_Abdomen_&_pelvis_CT_(3D).npy', '000533_20210507_CT_Liver_(contrast).npy', '000404_20200305_Chest_CT_(contrast).npy', 'BH007_20190801_Abdomen_&_pelvis_CT_(3D).npy', '000308_20190826_Chest_CT_(contrast).npy', 'KH038_20210401_Chest(+).npy', 'BH034_20190901_Chest_CT_(contrast)_+_3D_(Chest_with_other_CT).npy', '000344_20191125_Chest_CT_(contrast).npy', 'BH116_20180606_Chest_CT_(contrast)_+_3D_(Breast_with_other_CT).npy', 'KH002_20210301_Thorax^00_Fl_Chest_Routine_(Adult).npy']\n",
    "VAL_FILES = ['BH099_20200806_Abdomen_&_pelvis_CT.npy', '000019_20181018_Chest_CT_(contrast).npy', 'SN017_20190701_Thorax^05_Chest_Lung_Cancer_3D_(Adult).npy', '000251_20190429_Chest_CT_(contrast).npy', 'SN035_20180101_CT_Stomach+Pelvis_Arterial+Portal(contrast).npy', '000232_20190423_Chest_CT_(contrast).npy', 'BH027_20191001_Chest_CT_(Contrast)_+_3D(TS).npy', 'BH040_20200101_CT_Angio_+_3D_Pulmonary_artery_(Embolism).npy', 'BH024_20190501_Chest_CT_(contrast)_+_3D_(Breast_with_other_CT).npy', 'BH027_20191001_L-spine_CT_(3D).npy', '000286_20190710_[외부_CT_19-07-10]Chest_CT_contrast.npy', '000232_20190401_CT_Abdomen+Pelvis_Dynamic_(contrast).npy', '000251_20190701_CT_Abdomen+Pelvis_Dynamic_(contrast).npy', 'BH099_20200806_Chest_CT_(contrast)_+_3D_(Chest_with_other_CT).npy', '000285_20190807_Chest_CT_(contrast).npy', 'BH024_20190501_Abdomen_&_pelvis_CT_(3D).npy', 'BH021_20181001_Abdomen_&_pelvis_CT_(3D).npy', '000316_20190715_Spine^L_SPINE_(Adult).npy', '000193_20190114_Chest_CT_(contrast).npy', 'SN056_20170601_Thorax^01_Lung_Cancer_3D_(Adult).npy', '000316_20190627_Chest_CT_(contrast).npy', '000251_20190703_Chest_CT_(contrast).npy', 'BH110_20200616_Chest_CT_(contrast)_+_3D_(Chest_with_other_CT).npy', 'BH006_20170801_Chest_CT_(Contrast)_+_3D(Breast).npy', '000450_20200528_CT_Abdomen+Pelvis_Post_(contrast).npy', 'BH021_20181001_Chest_CT_(contrast)_+_3D_(Chest_with_other_CT).npy', 'BH065_20201013_Low_dose_Chest_CT_+_3D(insured).npy', '000019_20190601_CT_Abdomen+Pelvis_Dynamic_(contrast).npy', 'BH060_20200413_Chest_CT_(contrast)_+_3D.npy', 'SN016_20190901_CT_Abdomen+Pelvis_Ar.npy', '000450_20200512_Chest_CT_(contrast).npy', '000285_20190801_CT_Abdomen+Pelvis_Pre-Post_(contrast).npy', 'BH062_20201104_Chest_CT_(contrast)_+_3D_(Chest_with_other_CT).npy', '000251_20190429_CT_Abdomen+Pelvis_Dynamic_(contrast).npy', '000019_20190613_Chest_CT_(contrast).npy', 'SN004_20190901_CT_Chest_+_3D_(contrast).npy', '000286_20190701_CT_Abdomen+Pelvis_Dynamic_(contrast).npy']\n",
    "TEST_FILES = ['000214_20190325_Chest_CT_(contrast).npy', '000234_20190401_CT_Abdomen+Pelvis_Dynamic_(contrast).npy', '000234_20190419_Chest_CT_(contrast).npy', '000236_20190401_CT_Abdomen+Pelvis_Post_(contrast).npy', '000244_20190501_CT_Abdomen+Pelvis_Post_(contrast).npy', '000255_20190418_Chest_CT_(contrast).npy', '000260_20190501_CT_Liver_(contrast).npy', '000260_20190522_Chest_CT_(contrast).npy', '000276_20190604_Chest_CT_(contrast).npy', '000281_20190701_Chest_CT_(contrast).npy', '000288_20190701_CT_Abdomen+Pelvis_Dynamic_(contrast).npy', '000298_20190726_Chest_CT_(contrast).npy', '000314_20190827_Chest_CT_(contrast).npy', '000314_20190901_CT_Acute_Abdomen_(contrast).npy', '000354_20191001_CT_Abdomen+Pelvis_Post_(contrast).npy', '000354_20191022_Chest_CT_(contrast).npy', '000355_20190901_CT_Abdomen+Pelvis_Dynamic_(contrast).npy', '000355_20191023_Chest_CT_(contrast).npy', '000383_20200121_Chest_CT_(contrast).npy', 'BH001_20190401_Chest_CT_(Non_contrast)_+_3D.npy', 'BH001_20190501_Abdomen_&_pelvis_CT_(3D).npy', 'BH009_20180301_Abdomen_&_pelvis_CT_(3D).npy', 'BH009_20180301_Chest_CT_(contrast)_+_3D_(TS_with_other_CT).npy', 'BH014_20181201_Abdomen_&_pelvis_CT_(3D).npy', 'BH014_20181201_Chest_CT_(contrast)_+_3D_(Chest_with_other_CT).npy', 'BH017_20191201_Abdomen_&_pelvis_CT_(3D).npy', 'BH017_20191201_Chest_CT_(contrast)_+_3D_(Chest_with_other_CT).npy', 'BH022_20190101_Thorax^03_Chest_NON_(Adult).npy', 'BH047_20180901_Abdomen_&_pelvis_CT_(3D).npy', 'BH047_20180901_Chest_CT_(contrast)_+_3D_(Chest_with_other_CT).npy', 'BH052_20190901_Abdomen_&_pelvis_CT_(3D).npy', 'BH052_20190901_Chest_CT_(contrast)_+_3D_(Chest_with_other_CT).npy', 'BH057_20191227_Abdomen_&_pelvis_CT_(3D).npy', 'BH057_20191227_Chest_CT_(contrast)_+_3D_(Chest_with_other_CT).npy', 'BH058_20180918_Chest_CT_(contrast)_+_3D.npy', 'BH112_20190201_Abdomen_&_pelvis_CT_(3D).npy', 'BH112_20190201_Chest_CT_(contrast)_+_3D_(Chest_with_other_CT).npy', 'SN016_20190901_CT_Chest_+_3D_(contr.npy', 'SN028_20160801_CT_Chest_+_3D_(contrast).npy']\n",
    "\n",
    "# EXCEPTIONS = ['BH040_20200101_CT Angio + 3D Pulmonary artery (Embolism).npy', 'BH040_20200101_CT Angio + 3D Pulmonary artery (Embolism) (2).npy'] # 모델에서 data info 만들때 가끔 오류남.\n",
    "EXCEPTIONS = '''000273_20190531_Chest_CT_(contrast).npy\n",
    "000439_20200624_Chest_CT_(contrast).npy\n",
    "000557_20210621_Chest_CT_(contrast).npy\n",
    "BH002_20190701_Chest_CT_(Non_contrast)_+_3D.npy\n",
    "BH091_20200104_Chest_CT_(contrast)_+_3D_(Chest_with_other_CT).npy\n",
    "BH091_20200104_Chest_CT_(contrast)_+_3D_(Chest_with_other_CT).npy\n",
    "000350_20191001_CT_Abdomen+Pelvis_Dynamic_(contrast).npy\n",
    "000352_20191017_Chest_CT_(contrast).npy\n",
    "000354_20191022_Chest_CT_(contrast).npy\n",
    "000391_20200216_Thoracic_Aorta_CT_Angio+3D_(contrast).npy\n",
    "BH027_20191001_L-spine_CT_(3D).npy\n",
    "000270_20190601_CT_Abdomen+Pelvis_Dynamic_(contrast).npy\n",
    "000270_20190608_Chest_CT_(contrast).npy\n",
    "BH040_20200101_CT_Angio_+_3D_Pulmonary_artery_(Embolism).npy\n",
    "BH118_20200617_Liver_CT_(LC_or_CLD,_3D).npy\n",
    "000424_20200312_Chest_CT_(noncontrast).npy\n",
    "000424_20200218_Chest_CT_(contrast).npy\n",
    "000325_20190919_Chest_CT_(contrast).npy\n",
    "BH069_20200505_Chest_CT_(contrast)_+_3D.npy'''.split('\\n')\n",
    "\n",
    "TRAIN_FILES = list(set(TRAIN_FILES).intersection(set(IMG_FILES)) - set(EXCEPTIONS))\n",
    "VAL_FILES = list(set(VAL_FILES).intersection(set(IMG_FILES)) - set(EXCEPTIONS))\n",
    "TEST_FILES = list(set(TEST_FILES).intersection(set(IMG_FILES)) - set(EXCEPTIONS))\n",
    "\n",
    "# TRAIN_FILES = TRAIN_FILES[:50]\n",
    "# VAL_FILES = VAL_FILES[:15]"
   ]
  },
  {
   "cell_type": "code",
   "execution_count": 10,
   "metadata": {},
   "outputs": [],
   "source": [
    "TRAIN_FILES = list(set(TRAIN_FILES) - set(VAL_FILES) - set(TEST_FILES))\n",
    "VAL_FILES = list(set(VAL_FILES))\n",
    "TEST_FILES = list(set(TEST_FILES))"
   ]
  },
  {
   "cell_type": "code",
   "execution_count": 11,
   "metadata": {},
   "outputs": [
    {
     "name": "stdout",
     "output_type": "stream",
     "text": [
      "\n",
      "train: 238\n",
      "val: 35\n",
      "test: 30\n",
      "total: 303\n",
      "\n"
     ]
    }
   ],
   "source": [
    "print(f'''\n",
    "train: {len(TRAIN_FILES)}\n",
    "val: {len(VAL_FILES)}\n",
    "test: {len(TEST_FILES)}\n",
    "total: {len(TRAIN_FILES + VAL_FILES + TEST_FILES)}\n",
    "''')"
   ]
  },
  {
   "cell_type": "code",
   "execution_count": 12,
   "metadata": {
    "id": "UNDBJinfPD2q"
   },
   "outputs": [],
   "source": [
    "def adjust_window(image, window):\n",
    "    width = window[0]\n",
    "    level = window[1]\n",
    "    upper = level+width/2\n",
    "    lower = level-width/2\n",
    "    copied_image = image.clip(lower, upper)\n",
    "    copied_image = copied_image-lower\n",
    "    return (copied_image/(upper-lower))"
   ]
  },
  {
   "cell_type": "markdown",
   "metadata": {
    "id": "ghAI2GSKIofO"
   },
   "source": [
    "# Set dataloader"
   ]
  },
  {
   "cell_type": "code",
   "execution_count": 13,
   "metadata": {},
   "outputs": [],
   "source": [
    "import torch \n",
    "import numpy as np\n",
    "import time\n",
    "import os, glob\n",
    "import pandas as pd\n",
    "from torch.utils.data import Dataset, DataLoader\n",
    "from augmentation import get_transform\n",
    "\n",
    "\n",
    "class TrainDataset(Dataset):\n",
    "    def __init__(self, case_files=None):\n",
    "        \"\"\"\n",
    "        Args:\n",
    "            csv_file (string): Path to the csv file with annotations.\n",
    "            root_dir (string): Directory with all the images.\n",
    "            transform (callable, optional): Optional transform to be applied\n",
    "                on a sample.\n",
    "        \"\"\"\n",
    "        self.case_files = case_files\n",
    "        self.images = [np.load(get_img_path(file)) for file in case_files]\n",
    "        self.labels = [np.load(get_label_path(file)) for file in case_files]\n",
    "        self.windows = [(500,200), (700,400), (1200,400)]\n",
    "\n",
    "    def get_data_info(self):\n",
    "        all_data_info = pd.read_csv(f'{BASE_DIR}/data_info_V_2022_04_20.csv')\n",
    "        case_tuple = tuple([file_to_case(file) for file in self.case_files])\n",
    "        include_idx = all_data_info.Case.str.startswith(case_tuple)\n",
    "        return all_data_info.loc[include_idx]\n",
    "        \n",
    "    def __len__(self):\n",
    "        return len(self.case_files)\n",
    "    \n",
    "    def __getitem__(self, idx):\n",
    "        return self.get_case(idx)\n",
    "    \n",
    "    def get_case(self, idx):\n",
    "        patch_image = self.images[idx]\n",
    "        patch_label = self.labels[idx]\n",
    "        return self.process_patch(patch_image, patch_label)\n",
    "\n",
    "    def process_patch(self, patch_image, patch_label):\n",
    "#         patch_image, patch_label = torch.tensor(patch_image, dtype=torch.float32), torch.tensor(patch_label, dtype=torch.bool)\n",
    "#         return self.convert_to_multi_channel_img(patch_image, self.windows), patch_label\n",
    "        augmentation_dict={'flip': True, 'scale':0.2, 'rotate':False,'offset': 0.1, 'noise': 0.1}\n",
    "        transformed_image, transformed_label = get_transform(patch_image, patch_label, augmentation_dict)\n",
    "        return self.convert_to_multi_channel_img(transformed_image, self.windows), transformed_label   \n",
    "    \n",
    "    def convert_to_multi_channel_img(self, image, windows):\n",
    "        adjusted_images = [adjust_window(image, window) for window in windows]\n",
    "        return torch.stack(adjusted_images)"
   ]
  },
  {
   "cell_type": "code",
   "execution_count": 14,
   "metadata": {},
   "outputs": [],
   "source": [
    "class ValDataset(Dataset):\n",
    "    def __init__(self, case_files=None, ):\n",
    "        \"\"\"\n",
    "        Args:\n",
    "            case_files (string): case filenames\n",
    "        Return:\n",
    "            one whole case\n",
    "\n",
    "        \"\"\"\n",
    "        self.case_files = case_files\n",
    "        self.images = [np.load(get_img_path(file)) for file in case_files]\n",
    "        self.labels = [np.load(get_label_path(file)) for file in case_files]\n",
    "        self.windows = [(500,200), (700,400), (1200,400)]\n",
    "\n",
    "        \n",
    "    def __len__(self):\n",
    "        return len(self.case_files)\n",
    "    \n",
    "    def __getitem__(self, idx):\n",
    "        image, label = self.images[idx], self.labels[idx]\n",
    "        image_tensor = torch.tensor(image, dtype = torch.float32)\n",
    "        multi_channel_image = self.convert_to_multi_channel_img(image_tensor, self.windows)\n",
    "        return multi_channel_image, torch.tensor(label, dtype = torch.bool)\n",
    "    \n",
    "    def change_to_pytorch_coord(self, coord):\n",
    "        # 현재 데이터 저장이 col, row, z 로 되어있음. -> z, row, col로 변경\n",
    "        return [coord[2],coord[1],coord[0]]\n",
    "\n",
    "    def convert_to_multi_channel_img(self, image, windows):\n",
    "        adjusted_images = [adjust_window(image, window) for window in windows]\n",
    "        return torch.stack(adjusted_images)"
   ]
  },
  {
   "cell_type": "code",
   "execution_count": 15,
   "metadata": {
    "scrolled": true
   },
   "outputs": [],
   "source": [
    "# len(train_dataset)"
   ]
  },
  {
   "cell_type": "code",
   "execution_count": 16,
   "metadata": {},
   "outputs": [],
   "source": [
    "def slice_img(img, offset, end, interval):\n",
    "  if end is None:\n",
    "    end = len(img)\n",
    "  else: \n",
    "    if end > len(img): \n",
    "      end = len(img)\n",
    "    if end <= offset:\n",
    "      end = offset + 1\n",
    "  return img[offset:end:interval]\n",
    "\n",
    "def show_numpy_img(np_img, offset=0, end=None, interval=5, title=''): \n",
    "  sliced_img = slice_img(np_img, offset, end, interval)\n",
    "\n",
    "  figsize_per_img = 3\n",
    "  num_col = 5\n",
    "  num_row = int(np.ceil(sliced_img.shape[0] / num_col))\n",
    "  # fig, axs = plt.subplots(num_row, num_col, figsize = (figsize_per_img*num_col, figsize_per_img*num_row))\n",
    "  plt.figure(figsize=(figsize_per_img*num_col, figsize_per_img*num_row))\n",
    "  for i, img in enumerate(sliced_img):\n",
    "    if i >= num_col*num_row:\n",
    "      continue\n",
    "    # axs[i].imshow(img)\n",
    "    plt.subplot(num_row, num_col, i+1)\n",
    "    plt.imshow(img, 'gray')\n",
    "    # plt.title()\n",
    "  plt.suptitle(title)\n",
    "  plt.tight_layout()\n",
    "  plt.show()\n",
    "\n",
    "#npy image 정보 보여주기 \n",
    "def show_img_info(np_img):\n",
    "  print('Shape:', np_img.shape)\n",
    "  print('DType:', np_img.dtype)\n",
    "  print('Max:', np_img.max())\n",
    "  print('Min:', np_img.min())\n",
    "  print(np_img)\n",
    "\n",
    "def plot_img_and_label(np_img, label, interval = 5, offset = 0, end=None, figsize_per_image = 5):\n",
    "  sliced_img = slice_img(np_img, offset, end, interval)\n",
    "  sliced_label = slice_img(label, offset, end, interval)\n",
    "  \n",
    "  num_row = len(sliced_img)\n",
    "  num_col = 2\n",
    "\n",
    "  plt.figure(figsize=(figsize_per_image*num_col, figsize_per_image*num_row))\n",
    "\n",
    "  for i in range(0, num_row):\n",
    "    plt.subplot(num_row, num_col, i*num_col+1)\n",
    "    tissue_image = sliced_img[i]\n",
    "    plt.imshow(tissue_image, 'gray')\n",
    "\n",
    "    plt.subplot(num_row, num_col, i*num_col+2)\n",
    "    mask = sliced_label[i]\n",
    "    label_on_tissue = sitk.LabelMapContourOverlay(sitk.Cast(sitk.GetImageFromArray(mask), sitk.sitkLabelUInt8), sitk.GetImageFromArray(tissue_image), opacity=0.7, contourThickness=[2,2], colormap=(0,255,0))\n",
    "    plt.imshow(sitk.GetArrayFromImage(label_on_tissue), 'gray')\n",
    "\n",
    "  plt.tight_layout()\n",
    "  plt.show()"
   ]
  },
  {
   "cell_type": "code",
   "execution_count": 17,
   "metadata": {},
   "outputs": [],
   "source": [
    "# img, label = train_dataset[0]\n",
    "# plot_img_and_label(img[0].type(torch.int16).numpy(), label.type(torch.uint8).numpy())\n",
    "\n",
    "# # plot_img_and_label(*train_dataset[0])"
   ]
  },
  {
   "cell_type": "code",
   "execution_count": 18,
   "metadata": {
    "id": "ozUJqsdu6gGe"
   },
   "outputs": [
    {
     "name": "stdout",
     "output_type": "stream",
     "text": [
      "\n",
      "consumed_time: 1.0386191040743142s\n",
      "train: 238\n",
      "val: 35\n",
      "\n"
     ]
    }
   ],
   "source": [
    "t = time.perf_counter()\n",
    "\n",
    "train_dataset = TrainDataset(TRAIN_FILES)\n",
    "val_dataset = ValDataset(VAL_FILES)\n",
    "\n",
    "elapsed_time = time.perf_counter() - t\n",
    "\n",
    "print(f'''\n",
    "consumed_time: {elapsed_time}s\n",
    "train: {len(train_dataset)}\n",
    "val: {len(val_dataset)}\n",
    "''')\n"
   ]
  },
  {
   "cell_type": "code",
   "execution_count": 19,
   "metadata": {
    "colab": {
     "base_uri": "https://localhost:8080/",
     "height": 285
    },
    "executionInfo": {
     "elapsed": 697,
     "status": "ok",
     "timestamp": 1626890464593,
     "user": {
      "displayName": "이정오",
      "photoUrl": "",
      "userId": "04886549528950007370"
     },
     "user_tz": -540
    },
    "id": "cGOP-nkobJN_",
    "outputId": "73519980-277b-4851-81e4-6fe74bccfe2a"
   },
   "outputs": [
    {
     "data": {
      "text/plain": [
       "<matplotlib.image.AxesImage at 0x7f7588b08d68>"
      ]
     },
     "execution_count": 19,
     "metadata": {},
     "output_type": "execute_result"
    },
    {
     "data": {
      "image/png": "[encoded data removed]",
      "text/plain": [
       "<Figure size 432x288 with 1 Axes>"
      ]
     },
     "metadata": {
      "needs_background": "light"
     },
     "output_type": "display_data"
    }
   ],
   "source": [
    "import matplotlib.pyplot as plt\n",
    "\n",
    "sample_train = train_dataset[9]\n",
    "plt.imshow(sample_train[0][2][PATCH_SIZE//2])"
   ]
  },
  {
   "cell_type": "code",
   "execution_count": 20,
   "metadata": {
    "colab": {
     "base_uri": "https://localhost:8080/",
     "height": 285
    },
    "executionInfo": {
     "elapsed": 492,
     "status": "ok",
     "timestamp": 1626890465081,
     "user": {
      "displayName": "이정오",
      "photoUrl": "",
      "userId": "04886549528950007370"
     },
     "user_tz": -540
    },
    "id": "BhG5M7KJfyx9",
    "outputId": "44e95dda-ebf3-44e2-d662-ab065e2228bc",
    "scrolled": true
   },
   "outputs": [
    {
     "data": {
      "text/plain": [
       "<matplotlib.image.AxesImage at 0x7f7588a00588>"
      ]
     },
     "execution_count": 20,
     "metadata": {},
     "output_type": "execute_result"
    },
    {
     "data": {
      "image/png": "[encoded data removed]",
      "text/plain": [
       "<Figure size 432x288 with 1 Axes>"
      ]
     },
     "metadata": {
      "needs_background": "light"
     },
     "output_type": "display_data"
    }
   ],
   "source": [
    "plt.imshow(sample_train[1][PATCH_SIZE//2])"
   ]
  },
  {
   "cell_type": "markdown",
   "metadata": {
    "id": "IE6jDD9rgy4S"
   },
   "source": [
    "# Dataloader "
   ]
  },
  {
   "cell_type": "code",
   "execution_count": 21,
   "metadata": {
    "colab": {
     "base_uri": "https://localhost:8080/"
    },
    "executionInfo": {
     "elapsed": 41,
     "status": "ok",
     "timestamp": 1626890465082,
     "user": {
      "displayName": "이정오",
      "photoUrl": "",
      "userId": "04886549528950007370"
     },
     "user_tz": -540
    },
    "id": "szCOieSb6tj3",
    "outputId": "06608c71-88c8-4c2b-cadb-e8e46f91c749"
   },
   "outputs": [
    {
     "data": {
      "text/plain": [
       "48"
      ]
     },
     "execution_count": 21,
     "metadata": {},
     "output_type": "execute_result"
    }
   ],
   "source": [
    "import multiprocessing\n",
    "multiprocessing.cpu_count()"
   ]
  },
  {
   "cell_type": "code",
   "execution_count": 22,
   "metadata": {
    "id": "faTuO1ZW2eN4"
   },
   "outputs": [],
   "source": [
    "from torch.utils.data import DataLoader\n",
    "\n",
    "USE_CUDA = torch.cuda.is_available()\n",
    "DEVICE = torch.device(\"cuda\" if USE_CUDA else \"cpu\")\n",
    "# NUM_WORKERS = multiprocessing.cpu_count()\n",
    "NUM_WORKERS = 8\n",
    "\n",
    "def initTrainDl(train_ds, batch_size = BATCH_SIZE):\n",
    "    if USE_CUDA:\n",
    "        batch_size *= torch.cuda.device_count()\n",
    "\n",
    "    train_dl = DataLoader(\n",
    "        train_ds,\n",
    "        batch_size=batch_size,\n",
    "        num_workers=NUM_WORKERS,\n",
    "        pin_memory=USE_CUDA,\n",
    "        shuffle=True,\n",
    "        drop_last=False # to prevent gradient exploding\n",
    "    )\n",
    "    return train_dl\n",
    "\n",
    "def initValDl(val_ds, batch_size = BATCH_SIZE):\n",
    "    val_dl = DataLoader(\n",
    "        val_ds,\n",
    "        batch_size=batch_size,\n",
    "        num_workers=NUM_WORKERS,\n",
    "        pin_memory=USE_CUDA,\n",
    "    )\n",
    "    return val_dl"
   ]
  },
  {
   "cell_type": "markdown",
   "metadata": {
    "id": "E26saJkd_CSC"
   },
   "source": [
    "# Set for training"
   ]
  },
  {
   "cell_type": "code",
   "execution_count": 23,
   "metadata": {
    "id": "XFCCB0Vs_tU-"
   },
   "outputs": [],
   "source": [
    "import logging\n",
    "log = logging.getLogger(\"3DUnet\")\n",
    "# log.setLevel(logging.WARN)\n",
    "# log.setLevel(logging.INFO)\n",
    "log.setLevel(logging.DEBUG)"
   ]
  },
  {
   "cell_type": "code",
   "execution_count": 24,
   "metadata": {
    "id": "6M8rm4z0EB9P"
   },
   "outputs": [],
   "source": [
    "import datetime\n",
    "# For logging \n",
    "trn_writer = None\n",
    "val_writer = None\n",
    "# TB_PREFIX = img_type + \"_fn0\"\n",
    "time_str = datetime.datetime.now().strftime('%Y-%m-%d_%H.%M.%S')"
   ]
  },
  {
   "cell_type": "code",
   "execution_count": 25,
   "metadata": {
    "id": "lWgh1Szb-obt"
   },
   "outputs": [],
   "source": [
    "# Used for computeClassificationLoss and logMetrics to index into metrics_t/metrics_a\n",
    "# METRICS_LABEL_NDX = 0\n",
    "METRICS_LOSS_NDX = 1\n",
    "# METRICS_FN_LOSS_NDX = 2\n",
    "# METRICS_ALL_LOSS_NDX = 3\n",
    "\n",
    "# METRICS_PTP_NDX = 4\n",
    "# METRICS_PFN_NDX = 5\n",
    "# METRICS_MFP_NDX = 6\n",
    "METRICS_TP_NDX = 7\n",
    "METRICS_FN_NDX = 8\n",
    "METRICS_FP_NDX = 9\n",
    "\n",
    "METRICS_SIZE = 10"
   ]
  },
  {
   "cell_type": "code",
   "execution_count": 26,
   "metadata": {
    "colab": {
     "base_uri": "https://localhost:8080/"
    },
    "executionInfo": {
     "elapsed": 7752,
     "status": "ok",
     "timestamp": 1626890472808,
     "user": {
      "displayName": "이정오",
      "photoUrl": "",
      "userId": "04886549528950007370"
     },
     "user_tz": -540
    },
    "id": "dZA_s68FvDKY",
    "outputId": "a2e787c2-21a9-4760-abbb-c48237c57876"
   },
   "outputs": [],
   "source": [
    "from torch.optim import SGD, AdamW, RMSprop\n",
    "from torch import nn\n",
    "from pytorch3dunet.unet3d.model import ResidualUNet3D, DropResidualUNet3D\n",
    "\n",
    "def initModel():    \n",
    "    segmentation_model = DropResidualUNet3D(in_channels=3, out_channels=1, num_groups=32, f_maps=32, final_sigmoid=True, testing=True, num_levels=LEVELS)\n",
    "\n",
    "    # augmentation_model = SegmentationAugmentation(**self.augmentation_dict)\n",
    "\n",
    "    if USE_CUDA:\n",
    "        log.info(\"Using CUDA; {} devices.\".format(torch.cuda.device_count()))\n",
    "        if torch.cuda.device_count() > 1:\n",
    "            segmentation_model = nn.DataParallel(segmentation_model)\n",
    "            # augmentation_model = nn.DataParallel(augmentation_model)\n",
    "        segmentation_model = segmentation_model.to(DEVICE)\n",
    "        # augmentation_model = augmentation_model.to(DEVICE)\n",
    "\n",
    "    return segmentation_model #, augmentation_model\n",
    "\n",
    "def initOptimizer():\n",
    "    return AdamW(segmentation_model.parameters(), lr=0.001, weight_decay=0.0001)\n",
    "    # return SGD(segmentation_model.parameters(), lr=0.001, momentum=0.99)\n",
    "\n",
    "segmentation_model = initModel()\n",
    "optimizer = initOptimizer()\n",
    "\n",
    "# Load model\n",
    "if MODEL_TO_LOAD :\n",
    "  model_folder = os.path.join(BASE_DIR, 'models')\n",
    "  model_path = os.path.join(model_folder, MODEL_TO_LOAD)\n",
    "  seg_dict = torch.load(model_path, map_location='cpu')\n",
    "  if torch.cuda.device_count() > 1:\n",
    "    segmentation_model.module.load_state_dict(seg_dict['model_state'])\n",
    "  else:\n",
    "    segmentation_model.load_state_dict(seg_dict['model_state'])\n",
    "    "
   ]
  },
  {
   "cell_type": "code",
   "execution_count": 27,
   "metadata": {
    "scrolled": true
   },
   "outputs": [
    {
     "data": {
      "text/plain": [
       "DataParallel(\n",
       "  (module): DropResidualUNet3D(\n",
       "    (encoders): ModuleList(\n",
       "      (0): Encoder(\n",
       "        (basic_module): DropResNetBlock(\n",
       "          (conv1): SingleConv(\n",
       "            (groupnorm): GroupNorm(1, 3, eps=1e-05, affine=True)\n",
       "            (conv): Conv3d(3, 32, kernel_size=(3, 3, 3), stride=(1, 1, 1), padding=(1, 1, 1), bias=False)\n",
       "            (ReLU): ReLU(inplace=True)\n",
       "          )\n",
       "          (conv2): SingleConv(\n",
       "            (groupnorm): GroupNorm(32, 32, eps=1e-05, affine=True)\n",
       "            (conv): Conv3d(32, 32, kernel_size=(3, 3, 3), stride=(1, 1, 1), padding=(1, 1, 1), bias=False)\n",
       "            (ReLU): ReLU(inplace=True)\n",
       "          )\n",
       "          (conv3): SingleConv(\n",
       "            (groupnorm): GroupNorm(32, 32, eps=1e-05, affine=True)\n",
       "            (conv): Conv3d(32, 32, kernel_size=(3, 3, 3), stride=(1, 1, 1), padding=(1, 1, 1), bias=False)\n",
       "          )\n",
       "          (dropout): Dropout(p=0.5, inplace=False)\n",
       "          (non_linearity): ReLU(inplace=True)\n",
       "        )\n",
       "      )\n",
       "      (1): Encoder(\n",
       "        (pooling): MaxPool3d(kernel_size=2, stride=2, padding=0, dilation=1, ceil_mode=False)\n",
       "        (basic_module): DropResNetBlock(\n",
       "          (conv1): SingleConv(\n",
       "            (groupnorm): GroupNorm(32, 32, eps=1e-05, affine=True)\n",
       "            (conv): Conv3d(32, 64, kernel_size=(3, 3, 3), stride=(1, 1, 1), padding=(1, 1, 1), bias=False)\n",
       "            (ReLU): ReLU(inplace=True)\n",
       "          )\n",
       "          (conv2): SingleConv(\n",
       "            (groupnorm): GroupNorm(32, 64, eps=1e-05, affine=True)\n",
       "            (conv): Conv3d(64, 64, kernel_size=(3, 3, 3), stride=(1, 1, 1), padding=(1, 1, 1), bias=False)\n",
       "            (ReLU): ReLU(inplace=True)\n",
       "          )\n",
       "          (conv3): SingleConv(\n",
       "            (groupnorm): GroupNorm(32, 64, eps=1e-05, affine=True)\n",
       "            (conv): Conv3d(64, 64, kernel_size=(3, 3, 3), stride=(1, 1, 1), padding=(1, 1, 1), bias=False)\n",
       "          )\n",
       "          (dropout): Dropout(p=0.5, inplace=False)\n",
       "          (non_linearity): ReLU(inplace=True)\n",
       "        )\n",
       "      )\n",
       "      (2): Encoder(\n",
       "        (pooling): MaxPool3d(kernel_size=2, stride=2, padding=0, dilation=1, ceil_mode=False)\n",
       "        (basic_module): DropResNetBlock(\n",
       "          (conv1): SingleConv(\n",
       "            (groupnorm): GroupNorm(32, 64, eps=1e-05, affine=True)\n",
       "            (conv): Conv3d(64, 128, kernel_size=(3, 3, 3), stride=(1, 1, 1), padding=(1, 1, 1), bias=False)\n",
       "            (ReLU): ReLU(inplace=True)\n",
       "          )\n",
       "          (conv2): SingleConv(\n",
       "            (groupnorm): GroupNorm(32, 128, eps=1e-05, affine=True)\n",
       "            (conv): Conv3d(128, 128, kernel_size=(3, 3, 3), stride=(1, 1, 1), padding=(1, 1, 1), bias=False)\n",
       "            (ReLU): ReLU(inplace=True)\n",
       "          )\n",
       "          (conv3): SingleConv(\n",
       "            (groupnorm): GroupNorm(32, 128, eps=1e-05, affine=True)\n",
       "            (conv): Conv3d(128, 128, kernel_size=(3, 3, 3), stride=(1, 1, 1), padding=(1, 1, 1), bias=False)\n",
       "          )\n",
       "          (dropout): Dropout(p=0.5, inplace=False)\n",
       "          (non_linearity): ReLU(inplace=True)\n",
       "        )\n",
       "      )\n",
       "      (3): Encoder(\n",
       "        (pooling): MaxPool3d(kernel_size=2, stride=2, padding=0, dilation=1, ceil_mode=False)\n",
       "        (basic_module): DropResNetBlock(\n",
       "          (conv1): SingleConv(\n",
       "            (groupnorm): GroupNorm(32, 128, eps=1e-05, affine=True)\n",
       "            (conv): Conv3d(128, 256, kernel_size=(3, 3, 3), stride=(1, 1, 1), padding=(1, 1, 1), bias=False)\n",
       "            (ReLU): ReLU(inplace=True)\n",
       "          )\n",
       "          (conv2): SingleConv(\n",
       "            (groupnorm): GroupNorm(32, 256, eps=1e-05, affine=True)\n",
       "            (conv): Conv3d(256, 256, kernel_size=(3, 3, 3), stride=(1, 1, 1), padding=(1, 1, 1), bias=False)\n",
       "            (ReLU): ReLU(inplace=True)\n",
       "          )\n",
       "          (conv3): SingleConv(\n",
       "            (groupnorm): GroupNorm(32, 256, eps=1e-05, affine=True)\n",
       "            (conv): Conv3d(256, 256, kernel_size=(3, 3, 3), stride=(1, 1, 1), padding=(1, 1, 1), bias=False)\n",
       "          )\n",
       "          (dropout): Dropout(p=0.5, inplace=False)\n",
       "          (non_linearity): ReLU(inplace=True)\n",
       "        )\n",
       "      )\n",
       "      (4): Encoder(\n",
       "        (pooling): MaxPool3d(kernel_size=2, stride=2, padding=0, dilation=1, ceil_mode=False)\n",
       "        (basic_module): DropResNetBlock(\n",
       "          (conv1): SingleConv(\n",
       "            (groupnorm): GroupNorm(32, 256, eps=1e-05, affine=True)\n",
       "            (conv): Conv3d(256, 512, kernel_size=(3, 3, 3), stride=(1, 1, 1), padding=(1, 1, 1), bias=False)\n",
       "            (ReLU): ReLU(inplace=True)\n",
       "          )\n",
       "          (conv2): SingleConv(\n",
       "            (groupnorm): GroupNorm(32, 512, eps=1e-05, affine=True)\n",
       "            (conv): Conv3d(512, 512, kernel_size=(3, 3, 3), stride=(1, 1, 1), padding=(1, 1, 1), bias=False)\n",
       "            (ReLU): ReLU(inplace=True)\n",
       "          )\n",
       "          (conv3): SingleConv(\n",
       "            (groupnorm): GroupNorm(32, 512, eps=1e-05, affine=True)\n",
       "            (conv): Conv3d(512, 512, kernel_size=(3, 3, 3), stride=(1, 1, 1), padding=(1, 1, 1), bias=False)\n",
       "          )\n",
       "          (dropout): Dropout(p=0.5, inplace=False)\n",
       "          (non_linearity): ReLU(inplace=True)\n",
       "        )\n",
       "      )\n",
       "      (5): Encoder(\n",
       "        (pooling): MaxPool3d(kernel_size=2, stride=2, padding=0, dilation=1, ceil_mode=False)\n",
       "        (basic_module): DropResNetBlock(\n",
       "          (conv1): SingleConv(\n",
       "            (groupnorm): GroupNorm(32, 512, eps=1e-05, affine=True)\n",
       "            (conv): Conv3d(512, 1024, kernel_size=(3, 3, 3), stride=(1, 1, 1), padding=(1, 1, 1), bias=False)\n",
       "            (ReLU): ReLU(inplace=True)\n",
       "          )\n",
       "          (conv2): SingleConv(\n",
       "            (groupnorm): GroupNorm(32, 1024, eps=1e-05, affine=True)\n",
       "            (conv): Conv3d(1024, 1024, kernel_size=(3, 3, 3), stride=(1, 1, 1), padding=(1, 1, 1), bias=False)\n",
       "            (ReLU): ReLU(inplace=True)\n",
       "          )\n",
       "          (conv3): SingleConv(\n",
       "            (groupnorm): GroupNorm(32, 1024, eps=1e-05, affine=True)\n",
       "            (conv): Conv3d(1024, 1024, kernel_size=(3, 3, 3), stride=(1, 1, 1), padding=(1, 1, 1), bias=False)\n",
       "          )\n",
       "          (dropout): Dropout(p=0.5, inplace=False)\n",
       "          (non_linearity): ReLU(inplace=True)\n",
       "        )\n",
       "      )\n",
       "    )\n",
       "    (decoders): ModuleList(\n",
       "      (0): Decoder(\n",
       "        (upsampling): TransposeConvUpsampling(\n",
       "          (upsample): ConvTranspose3d(1024, 512, kernel_size=(3, 3, 3), stride=(2, 2, 2), padding=(1, 1, 1))\n",
       "        )\n",
       "        (basic_module): DropResNetBlock(\n",
       "          (conv1): SingleConv(\n",
       "            (groupnorm): GroupNorm(32, 512, eps=1e-05, affine=True)\n",
       "            (conv): Conv3d(512, 512, kernel_size=(3, 3, 3), stride=(1, 1, 1), padding=(1, 1, 1), bias=False)\n",
       "            (ReLU): ReLU(inplace=True)\n",
       "          )\n",
       "          (conv2): SingleConv(\n",
       "            (groupnorm): GroupNorm(32, 512, eps=1e-05, affine=True)\n",
       "            (conv): Conv3d(512, 512, kernel_size=(3, 3, 3), stride=(1, 1, 1), padding=(1, 1, 1), bias=False)\n",
       "            (ReLU): ReLU(inplace=True)\n",
       "          )\n",
       "          (conv3): SingleConv(\n",
       "            (groupnorm): GroupNorm(32, 512, eps=1e-05, affine=True)\n",
       "            (conv): Conv3d(512, 512, kernel_size=(3, 3, 3), stride=(1, 1, 1), padding=(1, 1, 1), bias=False)\n",
       "          )\n",
       "          (dropout): Dropout(p=0.5, inplace=False)\n",
       "          (non_linearity): ReLU(inplace=True)\n",
       "        )\n",
       "      )\n",
       "      (1): Decoder(\n",
       "        (upsampling): TransposeConvUpsampling(\n",
       "          (upsample): ConvTranspose3d(512, 256, kernel_size=(3, 3, 3), stride=(2, 2, 2), padding=(1, 1, 1))\n",
       "        )\n",
       "        (basic_module): DropResNetBlock(\n",
       "          (conv1): SingleConv(\n",
       "            (groupnorm): GroupNorm(32, 256, eps=1e-05, affine=True)\n",
       "            (conv): Conv3d(256, 256, kernel_size=(3, 3, 3), stride=(1, 1, 1), padding=(1, 1, 1), bias=False)\n",
       "            (ReLU): ReLU(inplace=True)\n",
       "          )\n",
       "          (conv2): SingleConv(\n",
       "            (groupnorm): GroupNorm(32, 256, eps=1e-05, affine=True)\n",
       "            (conv): Conv3d(256, 256, kernel_size=(3, 3, 3), stride=(1, 1, 1), padding=(1, 1, 1), bias=False)\n",
       "            (ReLU): ReLU(inplace=True)\n",
       "          )\n",
       "          (conv3): SingleConv(\n",
       "            (groupnorm): GroupNorm(32, 256, eps=1e-05, affine=True)\n",
       "            (conv): Conv3d(256, 256, kernel_size=(3, 3, 3), stride=(1, 1, 1), padding=(1, 1, 1), bias=False)\n",
       "          )\n",
       "          (dropout): Dropout(p=0.5, inplace=False)\n",
       "          (non_linearity): ReLU(inplace=True)\n",
       "        )\n",
       "      )\n",
       "      (2): Decoder(\n",
       "        (upsampling): TransposeConvUpsampling(\n",
       "          (upsample): ConvTranspose3d(256, 128, kernel_size=(3, 3, 3), stride=(2, 2, 2), padding=(1, 1, 1))\n",
       "        )\n",
       "        (basic_module): DropResNetBlock(\n",
       "          (conv1): SingleConv(\n",
       "            (groupnorm): GroupNorm(32, 128, eps=1e-05, affine=True)\n",
       "            (conv): Conv3d(128, 128, kernel_size=(3, 3, 3), stride=(1, 1, 1), padding=(1, 1, 1), bias=False)\n",
       "            (ReLU): ReLU(inplace=True)\n",
       "          )\n",
       "          (conv2): SingleConv(\n",
       "            (groupnorm): GroupNorm(32, 128, eps=1e-05, affine=True)\n",
       "            (conv): Conv3d(128, 128, kernel_size=(3, 3, 3), stride=(1, 1, 1), padding=(1, 1, 1), bias=False)\n",
       "            (ReLU): ReLU(inplace=True)\n",
       "          )\n",
       "          (conv3): SingleConv(\n",
       "            (groupnorm): GroupNorm(32, 128, eps=1e-05, affine=True)\n",
       "            (conv): Conv3d(128, 128, kernel_size=(3, 3, 3), stride=(1, 1, 1), padding=(1, 1, 1), bias=False)\n",
       "          )\n",
       "          (dropout): Dropout(p=0.5, inplace=False)\n",
       "          (non_linearity): ReLU(inplace=True)\n",
       "        )\n",
       "      )\n",
       "      (3): Decoder(\n",
       "        (upsampling): TransposeConvUpsampling(\n",
       "          (upsample): ConvTranspose3d(128, 64, kernel_size=(3, 3, 3), stride=(2, 2, 2), padding=(1, 1, 1))\n",
       "        )\n",
       "        (basic_module): DropResNetBlock(\n",
       "          (conv1): SingleConv(\n",
       "            (groupnorm): GroupNorm(32, 64, eps=1e-05, affine=True)\n",
       "            (conv): Conv3d(64, 64, kernel_size=(3, 3, 3), stride=(1, 1, 1), padding=(1, 1, 1), bias=False)\n",
       "            (ReLU): ReLU(inplace=True)\n",
       "          )\n",
       "          (conv2): SingleConv(\n",
       "            (groupnorm): GroupNorm(32, 64, eps=1e-05, affine=True)\n",
       "            (conv): Conv3d(64, 64, kernel_size=(3, 3, 3), stride=(1, 1, 1), padding=(1, 1, 1), bias=False)\n",
       "            (ReLU): ReLU(inplace=True)\n",
       "          )\n",
       "          (conv3): SingleConv(\n",
       "            (groupnorm): GroupNorm(32, 64, eps=1e-05, affine=True)\n",
       "            (conv): Conv3d(64, 64, kernel_size=(3, 3, 3), stride=(1, 1, 1), padding=(1, 1, 1), bias=False)\n",
       "          )\n",
       "          (dropout): Dropout(p=0.5, inplace=False)\n",
       "          (non_linearity): ReLU(inplace=True)\n",
       "        )\n",
       "      )\n",
       "      (4): Decoder(\n",
       "        (upsampling): TransposeConvUpsampling(\n",
       "          (upsample): ConvTranspose3d(64, 32, kernel_size=(3, 3, 3), stride=(2, 2, 2), padding=(1, 1, 1))\n",
       "        )\n",
       "        (basic_module): DropResNetBlock(\n",
       "          (conv1): SingleConv(\n",
       "            (groupnorm): GroupNorm(32, 32, eps=1e-05, affine=True)\n",
       "            (conv): Conv3d(32, 32, kernel_size=(3, 3, 3), stride=(1, 1, 1), padding=(1, 1, 1), bias=False)\n",
       "            (ReLU): ReLU(inplace=True)\n",
       "          )\n",
       "          (conv2): SingleConv(\n",
       "            (groupnorm): GroupNorm(32, 32, eps=1e-05, affine=True)\n",
       "            (conv): Conv3d(32, 32, kernel_size=(3, 3, 3), stride=(1, 1, 1), padding=(1, 1, 1), bias=False)\n",
       "            (ReLU): ReLU(inplace=True)\n",
       "          )\n",
       "          (conv3): SingleConv(\n",
       "            (groupnorm): GroupNorm(32, 32, eps=1e-05, affine=True)\n",
       "            (conv): Conv3d(32, 32, kernel_size=(3, 3, 3), stride=(1, 1, 1), padding=(1, 1, 1), bias=False)\n",
       "          )\n",
       "          (dropout): Dropout(p=0.5, inplace=False)\n",
       "          (non_linearity): ReLU(inplace=True)\n",
       "        )\n",
       "      )\n",
       "    )\n",
       "    (final_conv): Conv3d(32, 1, kernel_size=(1, 1, 1), stride=(1, 1, 1))\n",
       "    (final_activation): Sigmoid()\n",
       "  )\n",
       ")"
      ]
     },
     "execution_count": 27,
     "metadata": {},
     "output_type": "execute_result"
    }
   ],
   "source": [
    "segmentation_model"
   ]
  },
  {
   "cell_type": "code",
   "execution_count": 28,
   "metadata": {},
   "outputs": [
    {
     "data": {
      "text/plain": [
       "141494439"
      ]
     },
     "execution_count": 28,
     "metadata": {},
     "output_type": "execute_result"
    }
   ],
   "source": [
    "def count_parameters(model):\n",
    "    return sum(p.numel() for p in model.parameters() if p.requires_grad)\n",
    "count_parameters(segmentation_model)"
   ]
  },
  {
   "cell_type": "code",
   "execution_count": 29,
   "metadata": {
    "id": "TeQVaciD_4zd"
   },
   "outputs": [],
   "source": [
    "from util.util import enumerateWithEstimate\n",
    "\n",
    "def doTraining(epoch_ndx, train_dl):\n",
    "    trnMetrics_g = torch.zeros(METRICS_SIZE, len(train_dl.dataset), device=DEVICE)\n",
    "    segmentation_model.train()\n",
    "    # train_dl.dataset.shuffleSamples() - 정의에서 처리했음\n",
    "\n",
    "    batch_iter = enumerateWithEstimate(\n",
    "        train_dl,\n",
    "        \"E{} Training\".format(epoch_ndx),\n",
    "        start_ndx=train_dl.num_workers,\n",
    "    )\n",
    "    for batch_ndx, batch_tup in batch_iter:\n",
    "        optimizer.zero_grad()\n",
    "\n",
    "        loss_var = computeBatchLoss(batch_ndx, batch_tup, train_dl.batch_size, trnMetrics_g)\n",
    "        loss_var.backward()\n",
    "        \n",
    "        # Gradient clipping \n",
    "        max_norm = 5\n",
    "        torch.nn.utils.clip_grad_norm_(segmentation_model.parameters(), max_norm)\n",
    "        optimizer.step()\n",
    "    global totalTrainingSamples_count\n",
    "    totalTrainingSamples_count += trnMetrics_g.size(1)\n",
    "\n",
    "    return trnMetrics_g.to('cpu')\n",
    "\n",
    "def doValidation(epoch_ndx, val_dl):\n",
    "    with torch.no_grad():\n",
    "        valMetrics_g = torch.zeros(METRICS_SIZE, len(val_dl.dataset), device=DEVICE)\n",
    "        segmentation_model.eval()\n",
    "\n",
    "        batch_iter = enumerateWithEstimate(\n",
    "            val_dl,\n",
    "            \"E{} Validation \".format(epoch_ndx),\n",
    "            start_ndx=val_dl.num_workers,\n",
    "        )\n",
    "        for batch_ndx, batch_tup in batch_iter:\n",
    "            computeBatchLossVal(batch_ndx, batch_tup, val_dl.batch_size, valMetrics_g)\n",
    "\n",
    "    return valMetrics_g.to('cpu')\n",
    "\n",
    "def computeBatchLoss(batch_ndx, batch_tup, batch_size, metrics_g,\n",
    "                      classificationThreshold=0.5):\n",
    "    input_t, label_t= batch_tup\n",
    "    \n",
    "    input_g = input_t.to(DEVICE, non_blocking=True)\n",
    "    label_g = label_t.to(DEVICE, non_blocking=True)\n",
    "\n",
    "    # if segmentation_model.training and augmentation_dict:\n",
    "    #     input_g, label_g = augmentation_model(input_g, label_g)\n",
    "\n",
    "    prediction_g_multi_ch = segmentation_model(input_g)\n",
    "    prediction_g = prediction_g_multi_ch[:,0] # B, C, D, H, W -> B, D, H, W\n",
    "    diceLoss_g = diceLoss(prediction_g, label_g)\n",
    "    fnLoss_g = diceLoss(prediction_g * label_g, label_g)\n",
    "    ceLoss = nn.BCELoss()\n",
    "    ceLoss_g = ceLoss(prediction_g, label_g.float())\n",
    "    start_ndx = batch_ndx * batch_size\n",
    "    end_ndx = start_ndx + input_t.size(0)\n",
    "\n",
    "    with torch.no_grad():\n",
    "        predictionBool_g = (prediction_g > classificationThreshold).to(torch.float32)\n",
    "\n",
    "        tp = (     predictionBool_g *  label_g).sum(dim=[1,2,3])\n",
    "        fn = ((1 - predictionBool_g) *  label_g).sum(dim=[1,2,3])\n",
    "        fp = (     predictionBool_g * (~label_g)).sum(dim=[1,2,3])\n",
    "\n",
    "        metrics_g[METRICS_LOSS_NDX, start_ndx:end_ndx] = diceLoss_g\n",
    "        metrics_g[METRICS_TP_NDX, start_ndx:end_ndx] = tp\n",
    "        metrics_g[METRICS_FN_NDX, start_ndx:end_ndx] = fn\n",
    "        metrics_g[METRICS_FP_NDX, start_ndx:end_ndx] = fp\n",
    "\n",
    "    return diceLoss_g.mean() + ceLoss_g + fnLoss_g.mean() * FN_LOSS \n",
    "\n",
    "def computeBatchLossVal(batch_ndx, batch_tup, batch_size, metrics_g,\n",
    "                      classificationThreshold=0.5):\n",
    "    input_t, label_t= batch_tup\n",
    "    \n",
    "    input_g = input_t.to(DEVICE, non_blocking=True)\n",
    "    label_g = label_t.to(DEVICE, non_blocking=True)\n",
    "\n",
    "    prediction_g_multi_ch = segmentation_model(input_g)\n",
    "    prediction_g = prediction_g_multi_ch[:,0] # B, C, D, H, W -> B, D, H, W\n",
    "    diceLoss_g = diceLoss(prediction_g, label_g)\n",
    "    start_ndx = batch_ndx * batch_size\n",
    "    end_ndx = start_ndx + input_t.size(0)\n",
    "\n",
    "    with torch.no_grad():\n",
    "        predictionBool_g = (prediction_g > classificationThreshold).to(torch.float32)\n",
    "\n",
    "        tp = (     predictionBool_g *  label_g).sum(dim=[1,2,3])\n",
    "        fn = ((1 - predictionBool_g) *  label_g).sum(dim=[1,2,3])\n",
    "        fp = (     predictionBool_g * (~label_g)).sum(dim=[1,2,3])\n",
    "\n",
    "        metrics_g[METRICS_LOSS_NDX, start_ndx:end_ndx] = diceLoss_g\n",
    "        metrics_g[METRICS_TP_NDX, start_ndx:end_ndx] = tp\n",
    "        metrics_g[METRICS_FN_NDX, start_ndx:end_ndx] = fn\n",
    "        metrics_g[METRICS_FP_NDX, start_ndx:end_ndx] = fp\n",
    "\n",
    "    return diceLoss_g.mean()\n",
    "\n",
    "def diceLoss(prediction_g, label_g, epsilon=0.00001):\n",
    "    diceLabel_g = label_g.sum(dim=[1,2,3])\n",
    "    dicePrediction_g = prediction_g.sum(dim=[1,2,3])\n",
    "    diceCorrect_g = (prediction_g * label_g).sum(dim=[1,2,3])\n",
    "\n",
    "    diceRatio_g = (2 * diceCorrect_g + epsilon) \\\n",
    "        / (dicePrediction_g + diceLabel_g + epsilon)\n",
    "\n",
    "    return 1 - diceRatio_g"
   ]
  },
  {
   "cell_type": "code",
   "execution_count": 30,
   "metadata": {
    "id": "UKwQWwI-xoGl",
    "scrolled": true
   },
   "outputs": [],
   "source": [
    "from torch.utils.tensorboard import SummaryWriter\n",
    "\n",
    "def logMetrics(epoch_ndx, mode_str, metrics_t, tb_type = TB_PREFIX):\n",
    "    log.info(\"E{} {} {}\".format(\n",
    "        epoch_ndx,\n",
    "        \"Unet\",\n",
    "        tb_type\n",
    "    ))\n",
    "\n",
    "    metrics_a = metrics_t.detach().numpy()\n",
    "    sum_a = metrics_a.sum(axis=1)\n",
    "    assert np.isfinite(metrics_a).all()\n",
    "\n",
    "    allLabel_count = sum_a[METRICS_TP_NDX] + sum_a[METRICS_FN_NDX]\n",
    "\n",
    "    metrics_dict = {}\n",
    "    metrics_dict['loss/all'] = metrics_a[METRICS_LOSS_NDX].mean()\n",
    "\n",
    "    metrics_dict['percent_all/tp'] = \\\n",
    "        sum_a[METRICS_TP_NDX] / (allLabel_count or 1) * 100 \n",
    "    metrics_dict['percent_all/fn'] = \\\n",
    "        sum_a[METRICS_FN_NDX] / (allLabel_count or 1) * 100\n",
    "    metrics_dict['percent_all/fp'] = \\\n",
    "        sum_a[METRICS_FP_NDX] / (allLabel_count or 1) * 100\n",
    "\n",
    "\n",
    "    precision = metrics_dict['pr/precision'] = sum_a[METRICS_TP_NDX] \\\n",
    "        / ((sum_a[METRICS_TP_NDX] + sum_a[METRICS_FP_NDX]) or 1)\n",
    "    recall    = metrics_dict['pr/recall']    = sum_a[METRICS_TP_NDX] \\\n",
    "        / ((sum_a[METRICS_TP_NDX] + sum_a[METRICS_FN_NDX]) or 1)\n",
    "\n",
    "    metrics_dict['pr/f1_score'] = 2 * (precision * recall) \\\n",
    "        / ((precision + recall) or 1)\n",
    "\n",
    "    log.info((\"E{} {:8} \"\n",
    "              + \"{loss/all:.4f} loss, \"\n",
    "              + \"{pr/precision:.4f} precision, \"\n",
    "              + \"{pr/recall:.4f} recall, \"\n",
    "              + \"{pr/f1_score:.4f} f1 score\"\n",
    "              ).format(\n",
    "        epoch_ndx,\n",
    "        mode_str,\n",
    "        **metrics_dict,\n",
    "    ))\n",
    "    log.info((\"E{} {:8} \"\n",
    "              + \"{loss/all:.4f} loss, \"\n",
    "              + \"{percent_all/tp:-5.1f}% tp, {percent_all/fn:-5.1f}% fn, {percent_all/fp:-9.1f}% fp\"\n",
    "    ).format(\n",
    "        epoch_ndx,\n",
    "        mode_str + '_all',\n",
    "        **metrics_dict,\n",
    "    ))\n",
    "    global trn_writer\n",
    "    global val_writer\n",
    "    initTensorboardWriters()\n",
    "    if mode_str == 'trn':\n",
    "      writer = trn_writer\n",
    "    elif mode_str == 'pred':\n",
    "      writer = pred_writer\n",
    "    else:\n",
    "      writer = val_writer\n",
    "\n",
    "    prefix_str = 'seg_'\n",
    "\n",
    "    global totalTrainingSamples_count\n",
    "    for key, value in metrics_dict.items():\n",
    "        writer.add_scalar(prefix_str + key, value, totalTrainingSamples_count)\n",
    "\n",
    "    writer.flush()\n",
    "\n",
    "    score = metrics_dict['pr/recall']\n",
    "\n",
    "    return score\n",
    "\n",
    "import os\n",
    "\n",
    "LOG_DIR = os.path.join(BASE_DIR, 'logs')\n",
    "if not os.path.exists(LOG_DIR):\n",
    "  os.mkdir(LOG_DIR)\n",
    "  \n",
    "def initTensorboardWriters():\n",
    "    global trn_writer\n",
    "    global val_writer\n",
    "    global pred_writer\n",
    "    if trn_writer is None:\n",
    "        trn_writer = SummaryWriter(\n",
    "            log_dir= os.path.join(LOG_DIR, '{}_trn_seg_{}').format(TB_PREFIX, time_str) )\n",
    "        val_writer = SummaryWriter(\n",
    "            log_dir= os.path.join(LOG_DIR, '{}_val_seg_{}').format(TB_PREFIX, time_str) )\n",
    "#         pred_writer = SummaryWriter(\n",
    "#             log_dir= os.path.join(LOG_DIR, '{}_pred_seg_{}').format(TB_PREFIX, time_str) )"
   ]
  },
  {
   "cell_type": "code",
   "execution_count": 31,
   "metadata": {
    "id": "vH1XOnNUHGJn"
   },
   "outputs": [],
   "source": [
    "def saveModel(type_str, epoch_ndx, tb_pre = TB_PREFIX):\n",
    "    model_name = '{}_model_epoch{}'.format(tb_pre, epoch_ndx)\n",
    "    file_path = os.path.join(\n",
    "        BASE_DIR,\n",
    "        'models',\n",
    "        model_name\n",
    "        )\n",
    "\n",
    "    os.makedirs(os.path.dirname(file_path), mode=0o755, exist_ok=True)\n",
    "\n",
    "    model = segmentation_model\n",
    "    if isinstance(model, torch.nn.DataParallel):\n",
    "        model = model.module\n",
    "\n",
    "    state = {\n",
    "        'sys_argv': sys.argv,\n",
    "        'time': str(datetime.datetime.now()),\n",
    "        'model_state': model.state_dict(),\n",
    "        'model_name': type(model).__name__,\n",
    "        'optimizer_state' : optimizer.state_dict(),\n",
    "        'optimizer_name': type(optimizer).__name__,\n",
    "        'epoch': epoch_ndx,\n",
    "        'totalTrainingSamples_count': totalTrainingSamples_count,\n",
    "    }\n",
    "    torch.save(state, file_path)\n",
    "    log.info(f\"Model was saved to {file_path}\")\n",
    "#     remote_location = 's3://{0}'.format(os.path.join(s3bucket, 'result/models', model_name))\n",
    "#     S3FS.put(file_path, remote_location)\n",
    "#     log.info(\"Saved model params to {} and remote S3 bucket\".format(file_path))\n",
    "\n",
    "    with open(file_path, 'rb') as f:\n",
    "        log.info(\"SHA1: \" + hashlib.sha1(f.read()).hexdigest())"
   ]
  },
  {
   "cell_type": "code",
   "execution_count": 32,
   "metadata": {},
   "outputs": [],
   "source": [
    "import torch.nn.functional as F\n",
    "\n",
    "# Pytorch 3D image tensor = Depth, Height, Weight\n",
    "#w(l-> r), h(t->b), d(u->d) 순서로군\n",
    "\n",
    "def pad_for_division(image, patch_size):\n",
    "    patch_d, patch_h, patch_w = patch_size \n",
    "    assert patch_d % 32 == 0 & patch_h % 32 == 0 & patch_w % 32 == 0, \"Patch size should be divided by 32\"\n",
    "    padding_d = patch_d - image.size(0)%patch_d\n",
    "    padding_h = patch_h - image.size(1)%patch_h\n",
    "    padding_w = patch_w - image.size(2)%patch_w\n",
    "    padded_image = F.pad(image, (0, padding_w, 0, padding_h, 0, padding_d))\n",
    "    return padded_image \n",
    "\n",
    "def pad_for_half(image, patch_size):\n",
    "    patch_d, patch_h, patch_w = patch_size \n",
    "    padded_image = F.pad(image, (patch_w//2, patch_w//2, patch_h//2, patch_h//2, patch_d//2, patch_d//2))\n",
    "    return padded_image \n",
    "\n",
    "    \n",
    "def adjust_window(image, window):\n",
    "    width = window[0]\n",
    "    level = window[1]\n",
    "    upper = level+width/2\n",
    "    lower = level-width/2\n",
    "    copied_image = image.clip(lower, upper)\n",
    "    copied_image = copied_image-lower\n",
    "    return (copied_image/(upper-lower))\n",
    "\n",
    "def convert_to_multi_channel_img(image, windows):\n",
    "    adjusted_images = [adjust_window(image, window) for window in windows]\n",
    "    return torch.stack(adjusted_images)\n",
    "\n",
    "# Process : padding -> adjust windows -> unfold -> neural network -> fold -> crop\n",
    "#           another padding -> adjust windows -> unfold -> neural network -> fold -> crop \n",
    "#           average all by 2 -> compare with the label. \n",
    "# 원래는 8개로 해야되는데, 간이 버전이라고 생각해볼 수 있겠음. \n",
    "\n",
    "def pred_image_with_model(padded_image, model, batch_size, patch_size):\n",
    "    '''\n",
    "    padded_image : image tensor with size of [D, H, W]\n",
    "    patch_size : tuple with size of 3\n",
    "    return pred_label : tensor with size of [D, H, W]\n",
    "    '''\n",
    "    windows = [(500,200), (700,400), (1200,400)]\n",
    "    input_channel = padded_image.size(0)\n",
    "    output_channel = 1\n",
    "    patch_d, patch_h, patch_w = patch_size \n",
    "    total_batch_size = batch_size * torch.cuda.device_count()\n",
    "\n",
    "    patches = padded_image.unfold(0, patch_d, patch_d).unfold(1, patch_h, patch_h).unfold(2, patch_w, patch_w)\n",
    "    unfold_shape = patches.size()\n",
    "    patches = patches.reshape(-1, patch_d, patch_h, patch_w)\n",
    "    \n",
    "    processed_patches = torch.zeros_like(patches)\n",
    "    iter_num = int(np.ceil(patches.size(0)/total_batch_size))\n",
    "    for i in range(iter_num):\n",
    "        start = i * total_batch_size\n",
    "        end = (i+1) * total_batch_size\n",
    "        batch = patches[start:end]\n",
    "        batch = convert_to_multi_channel_img(batch, windows)\n",
    "        batch = batch.permute(1,0,2,3,4)\n",
    "        proccessed_batch = model(batch).squeeze(1)\n",
    "        processed_patches[start:end] = proccessed_batch\n",
    "    \n",
    "    pred_patches = processed_patches.view(unfold_shape)\n",
    "    output_d = unfold_shape[0] * unfold_shape[3]\n",
    "    output_h = unfold_shape[1] * unfold_shape[4]\n",
    "    output_w = unfold_shape[2] * unfold_shape[5]\n",
    "    pred_patches = pred_patches.permute(0, 3, 1, 4, 2, 5)\n",
    "    pred_label = pred_patches.reshape(output_d, output_h, output_w)\n",
    "    return pred_label\n",
    "\n",
    "def predict_one_case(image_t, batch_size ,patch_size):\n",
    "    pad_image = pad_for_division(image_t, patch_size)\n",
    "    half_pad_image = pad_for_half(pad_image, patch_size)\n",
    "    d,h,w = image_t.shape\n",
    "    half_pad_d, half_pad_h, half_pad_w = [size//2 for size in patch_size]\n",
    "    \n",
    "    with torch.no_grad():\n",
    "        segmentation_model.eval()\n",
    "        pred_label = pred_image_with_model(pad_image, segmentation_model, batch_size, patch_size)\n",
    "        pred_half_pad_label = pred_image_with_model(half_pad_image, segmentation_model, batch_size, patch_size)\n",
    "        \n",
    "    cropped_pred = pred_label[:d, :h, :w]\n",
    "    cropped_pred_2 = pred_half_pad_label[half_pad_d:half_pad_d+d, half_pad_h:half_pad_h+h, half_pad_w:half_pad_w+w]\n",
    "    mean_pred = (cropped_pred + cropped_pred_2) / 2\n",
    "    return mean_pred\n",
    "\n",
    "\n",
    "def doPrediction(epoch_ndx, files, batch_size, patch_size):\n",
    "    log.info(\"E{} Prediction {}\".format(epoch_ndx, TB_PREFIX))\n",
    "    predMetrics_g = torch.zeros(METRICS_SIZE, len(files), device=DEVICE)\n",
    "    segmentation_model.eval()\n",
    "    \n",
    "    for i, file in enumerate(files):\n",
    "        image = np.load(get_img_path(file))\n",
    "        image_t = torch.tensor(image)\n",
    "        label = np.load(get_label_path(file))\n",
    "        \n",
    "        pred = predict_one_case(image_t, batch_size, patch_size)\n",
    "        pred_t = pred > 0.5 # classificationThreshold = 0.5\n",
    "        label_t = torch.tensor(label)\n",
    "        \n",
    "        predictionBool_g = pred_t.unsqueeze(0).to(torch.float32)\n",
    "        label_g = label_t.unsqueeze(0)\n",
    "        \n",
    "        diceLoss_g = diceLoss(predictionBool_g, label_g, epsilon=0.01)\n",
    "        fnLoss_g = diceLoss(predictionBool_g * label_g, label_g)\n",
    "\n",
    "        tp = (     predictionBool_g *  label_g).sum(dim=[1,2,3])\n",
    "        fn = ((1 - predictionBool_g) *  label_g).sum(dim=[1,2,3])\n",
    "        fp = (     predictionBool_g * (~label_g)).sum(dim=[1,2,3])\n",
    "        \n",
    "        predMetrics_g[METRICS_LOSS_NDX, i] = diceLoss_g # 차원 에러날듯 - i로 골라버리면 차원이 하나 줄기 때문.. 확인해봐야함. \n",
    "        predMetrics_g[METRICS_TP_NDX, i] = tp\n",
    "        predMetrics_g[METRICS_FN_NDX, i] = fn\n",
    "        predMetrics_g[METRICS_FP_NDX, i] = fp\n",
    "        \n",
    "    return predMetrics_g.to('cpu')"
   ]
  },
  {
   "cell_type": "markdown",
   "metadata": {
    "id": "xamjgc4JFgtg"
   },
   "source": [
    "# Train"
   ]
  },
  {
   "cell_type": "code",
   "execution_count": 33,
   "metadata": {},
   "outputs": [
    {
     "name": "stderr",
     "output_type": "stream",
     "text": [
      "2022-05-04 04:13:38,567 INFO     pid:1827895 3DUnet:001:<module> Starting traning...\n"
     ]
    }
   ],
   "source": [
    "log.info(\"Starting traning...\")\n",
    "\n",
    "train_dl = initTrainDl(train_dataset)\n",
    "val_dl = initValDl(val_dataset)\n",
    "\n",
    "best_score = 0.0\n",
    "validation_cadence = 10\n",
    "pred_cadence = 20\n",
    "\n",
    "totalTrainingSamples_count = 0 "
   ]
  },
  {
   "cell_type": "code",
   "execution_count": 34,
   "metadata": {},
   "outputs": [
    {
     "name": "stderr",
     "output_type": "stream",
     "text": [
      "2022-05-04 04:13:38,577 INFO     pid:1827895 3DUnet:008:<module> Epoch 1 of 1500, 20/12 batches of size 3*4\n",
      "2022-05-04 04:13:38,580 WARNING  pid:1827895 util.util:221:enumerateWithEstimate E1 Training ----/20, starting\n",
      "2022-05-04 04:14:36,971 INFO     pid:1827895 util.util:241:enumerateWithEstimate E1 Training   16/20, done at 2022-05-04 04:14:43, 0:00:27\n",
      "2022-05-04 04:14:44,105 WARNING  pid:1827895 util.util:252:enumerateWithEstimate E1 Training ----/20, done at 2022-05-04 04:14:44\n",
      "2022-05-04 04:14:44,107 INFO     pid:1827895 3DUnet:007:logMetrics E1 Unet bonemeta_fn_0_3D_Unet_DropRes_lv6_All128\n",
      "2022-05-04 04:14:44,109 INFO     pid:1827895 3DUnet:043:logMetrics E1 trn      0.8118 loss, 0.1471 precision, 0.2786 recall, 0.1925 f1 score\n",
      "2022-05-04 04:14:44,109 INFO     pid:1827895 3DUnet:051:logMetrics E1 trn_all  0.8118 loss,  27.9% tp,  72.1% fn,     161.5% fp\n",
      "2022-05-04 04:14:44,119 WARNING  pid:1827895 util.util:221:enumerateWithEstimate E1 Validation  ----/12, starting\n",
      "2022-05-04 04:14:50,432 WARNING  pid:1827895 util.util:252:enumerateWithEstimate E1 Validation  ----/12, done at 2022-05-04 04:14:50\n",
      "2022-05-04 04:14:50,474 INFO     pid:1827895 3DUnet:007:logMetrics E1 Unet bonemeta_fn_0_3D_Unet_DropRes_lv6_All128\n",
      "2022-05-04 04:14:50,475 INFO     pid:1827895 3DUnet:043:logMetrics E1 val      0.7258 loss, 0.3387 precision, 0.2651 recall, 0.2974 f1 score\n",
      "2022-05-04 04:14:50,476 INFO     pid:1827895 3DUnet:051:logMetrics E1 val_all  0.7258 loss,  26.5% tp,  73.5% fn,      51.8% fp\n",
      "2022-05-04 04:14:56,925 INFO     pid:1827895 3DUnet:026:saveModel Model was saved to /workspace/BoneMeta_all_128/models/bonemeta_fn_0_3D_Unet_DropRes_lv6_All128_model_epoch1\n",
      "2022-05-04 04:14:59,785 INFO     pid:1827895 3DUnet:032:saveModel SHA1: b34345f2a949c7e8c9b3cc948ecd25489d75581b\n",
      "2022-05-04 04:14:59,786 INFO     pid:1827895 3DUnet:008:<module> Epoch 2 of 1500, 20/12 batches of size 3*4\n",
      "2022-05-04 04:14:59,789 WARNING  pid:1827895 util.util:221:enumerateWithEstimate E2 Training ----/20, starting\n"
     ]
    },
    {
     "ename": "KeyboardInterrupt",
     "evalue": "",
     "output_type": "error",
     "traceback": [
      "\u001b[0;31m---------------------------------------------------------------------------\u001b[0m",
      "\u001b[0;31mKeyboardInterrupt\u001b[0m                         Traceback (most recent call last)",
      "\u001b[0;32m<ipython-input-34-d54358c24f65>\u001b[0m in \u001b[0;36m<module>\u001b[0;34m\u001b[0m\n\u001b[1;32m      9\u001b[0m     ))\n\u001b[1;32m     10\u001b[0m \u001b[0;34m\u001b[0m\u001b[0m\n\u001b[0;32m---> 11\u001b[0;31m     \u001b[0mtrnMetrics_t\u001b[0m \u001b[0;34m=\u001b[0m \u001b[0mdoTraining\u001b[0m\u001b[0;34m(\u001b[0m\u001b[0mepoch_ndx\u001b[0m\u001b[0;34m,\u001b[0m \u001b[0mtrain_dl\u001b[0m\u001b[0;34m)\u001b[0m\u001b[0;34m\u001b[0m\u001b[0;34m\u001b[0m\u001b[0m\n\u001b[0m\u001b[1;32m     12\u001b[0m \u001b[0;34m\u001b[0m\u001b[0m\n\u001b[1;32m     13\u001b[0m     \u001b[0mlogMetrics\u001b[0m\u001b[0;34m(\u001b[0m\u001b[0mepoch_ndx\u001b[0m\u001b[0;34m,\u001b[0m \u001b[0;34m'trn'\u001b[0m\u001b[0;34m,\u001b[0m \u001b[0mtrnMetrics_t\u001b[0m\u001b[0;34m)\u001b[0m\u001b[0;34m\u001b[0m\u001b[0;34m\u001b[0m\u001b[0m\n",
      "\u001b[0;32m<ipython-input-29-721557a32493>\u001b[0m in \u001b[0;36mdoTraining\u001b[0;34m(epoch_ndx, train_dl)\u001b[0m\n\u001b[1;32m     19\u001b[0m         \u001b[0;31m# Gradient clipping\u001b[0m\u001b[0;34m\u001b[0m\u001b[0;34m\u001b[0m\u001b[0;34m\u001b[0m\u001b[0m\n\u001b[1;32m     20\u001b[0m         \u001b[0mmax_norm\u001b[0m \u001b[0;34m=\u001b[0m \u001b[0;36m5\u001b[0m\u001b[0;34m\u001b[0m\u001b[0;34m\u001b[0m\u001b[0m\n\u001b[0;32m---> 21\u001b[0;31m         \u001b[0mtorch\u001b[0m\u001b[0;34m.\u001b[0m\u001b[0mnn\u001b[0m\u001b[0;34m.\u001b[0m\u001b[0mutils\u001b[0m\u001b[0;34m.\u001b[0m\u001b[0mclip_grad_norm_\u001b[0m\u001b[0;34m(\u001b[0m\u001b[0msegmentation_model\u001b[0m\u001b[0;34m.\u001b[0m\u001b[0mparameters\u001b[0m\u001b[0;34m(\u001b[0m\u001b[0;34m)\u001b[0m\u001b[0;34m,\u001b[0m \u001b[0mmax_norm\u001b[0m\u001b[0;34m)\u001b[0m\u001b[0;34m\u001b[0m\u001b[0;34m\u001b[0m\u001b[0m\n\u001b[0m\u001b[1;32m     22\u001b[0m         \u001b[0moptimizer\u001b[0m\u001b[0;34m.\u001b[0m\u001b[0mstep\u001b[0m\u001b[0;34m(\u001b[0m\u001b[0;34m)\u001b[0m\u001b[0;34m\u001b[0m\u001b[0;34m\u001b[0m\u001b[0m\n\u001b[1;32m     23\u001b[0m     \u001b[0;32mglobal\u001b[0m \u001b[0mtotalTrainingSamples_count\u001b[0m\u001b[0;34m\u001b[0m\u001b[0;34m\u001b[0m\u001b[0m\n",
      "\u001b[0;32m/usr/local/lib/python3.6/dist-packages/torch/nn/utils/clip_grad.py\u001b[0m in \u001b[0;36mclip_grad_norm_\u001b[0;34m(parameters, max_norm, norm_type, error_if_nonfinite)\u001b[0m\n\u001b[1;32m     41\u001b[0m     \u001b[0;32melse\u001b[0m\u001b[0;34m:\u001b[0m\u001b[0;34m\u001b[0m\u001b[0;34m\u001b[0m\u001b[0m\n\u001b[1;32m     42\u001b[0m         \u001b[0mtotal_norm\u001b[0m \u001b[0;34m=\u001b[0m \u001b[0mtorch\u001b[0m\u001b[0;34m.\u001b[0m\u001b[0mnorm\u001b[0m\u001b[0;34m(\u001b[0m\u001b[0mtorch\u001b[0m\u001b[0;34m.\u001b[0m\u001b[0mstack\u001b[0m\u001b[0;34m(\u001b[0m\u001b[0;34m[\u001b[0m\u001b[0mtorch\u001b[0m\u001b[0;34m.\u001b[0m\u001b[0mnorm\u001b[0m\u001b[0;34m(\u001b[0m\u001b[0mp\u001b[0m\u001b[0;34m.\u001b[0m\u001b[0mgrad\u001b[0m\u001b[0;34m.\u001b[0m\u001b[0mdetach\u001b[0m\u001b[0;34m(\u001b[0m\u001b[0;34m)\u001b[0m\u001b[0;34m,\u001b[0m \u001b[0mnorm_type\u001b[0m\u001b[0;34m)\u001b[0m\u001b[0;34m.\u001b[0m\u001b[0mto\u001b[0m\u001b[0;34m(\u001b[0m\u001b[0mdevice\u001b[0m\u001b[0;34m)\u001b[0m \u001b[0;32mfor\u001b[0m \u001b[0mp\u001b[0m \u001b[0;32min\u001b[0m \u001b[0mparameters\u001b[0m\u001b[0;34m]\u001b[0m\u001b[0;34m)\u001b[0m\u001b[0;34m,\u001b[0m \u001b[0mnorm_type\u001b[0m\u001b[0;34m)\u001b[0m\u001b[0;34m\u001b[0m\u001b[0;34m\u001b[0m\u001b[0m\n\u001b[0;32m---> 43\u001b[0;31m     \u001b[0;32mif\u001b[0m \u001b[0mtotal_norm\u001b[0m\u001b[0;34m.\u001b[0m\u001b[0misnan\u001b[0m\u001b[0;34m(\u001b[0m\u001b[0;34m)\u001b[0m \u001b[0;32mor\u001b[0m \u001b[0mtotal_norm\u001b[0m\u001b[0;34m.\u001b[0m\u001b[0misinf\u001b[0m\u001b[0;34m(\u001b[0m\u001b[0;34m)\u001b[0m\u001b[0;34m:\u001b[0m\u001b[0;34m\u001b[0m\u001b[0;34m\u001b[0m\u001b[0m\n\u001b[0m\u001b[1;32m     44\u001b[0m         \u001b[0;32mif\u001b[0m \u001b[0merror_if_nonfinite\u001b[0m\u001b[0;34m:\u001b[0m\u001b[0;34m\u001b[0m\u001b[0;34m\u001b[0m\u001b[0m\n\u001b[1;32m     45\u001b[0m             raise RuntimeError(\n",
      "\u001b[0;31mKeyboardInterrupt\u001b[0m: "
     ]
    }
   ],
   "source": [
    "for epoch_ndx in range(1, 51):\n",
    "    log.info(\"Epoch {} of {}, {}/{} batches of size {}*{}\".format(\n",
    "        epoch_ndx,\n",
    "        EPOCHS,\n",
    "        len(train_dl),\n",
    "        len(val_dl),\n",
    "        BATCH_SIZE,\n",
    "        (torch.cuda.device_count() if USE_CUDA else 1),\n",
    "    ))\n",
    "\n",
    "    trnMetrics_t = doTraining(epoch_ndx, train_dl)\n",
    "\n",
    "    logMetrics(epoch_ndx, 'trn', trnMetrics_t)\n",
    "\n",
    "    if epoch_ndx == 1 or epoch_ndx % validation_cadence == 0:\n",
    "        # if validation is wanted\n",
    "        valMetrics_t = doValidation(epoch_ndx, val_dl)\n",
    "        score = logMetrics(epoch_ndx, 'val', valMetrics_t)\n",
    "        best_score = max(score, best_score)\n",
    "\n",
    "        # self.saveModel('seg', epoch_ndx, score == best_score)\n",
    "        saveModel('seg', epoch_ndx)\n",
    "        # self.logImages(epoch_ndx, 'trn', train_dl)\n",
    "        # self.logImages(epoch_ndx, 'val', val_dl)\n",
    "\n",
    "#     if epoch_ndx % pred_cadence ==0:\n",
    "#         predMetrics_t = doPrediction(epoch_ndx, VAL_FILES, batch_size=1, patch_size=(128,256,256))\n",
    "#         score = logMetrics(epoch_ndx, 'pred', predMetrics_t)\n",
    "        \n",
    "trn_writer.close()\n",
    "val_writer.close()"
   ]
  },
  {
   "cell_type": "code",
   "execution_count": null,
   "metadata": {},
   "outputs": [],
   "source": [
    "for g in optimizer.param_groups:\n",
    "    g['lr'] = 0.0001\n",
    "    g['weight_decay'] = 0.00002"
   ]
  },
  {
   "cell_type": "code",
   "execution_count": null,
   "metadata": {},
   "outputs": [],
   "source": [
    "for epoch_ndx in range(51, 201):\n",
    "    log.info(\"Epoch {} of {}, {}/{} batches of size {}*{}\".format(\n",
    "        epoch_ndx,\n",
    "        EPOCHS,\n",
    "        len(train_dl),\n",
    "        len(val_dl),\n",
    "        BATCH_SIZE,\n",
    "        (torch.cuda.device_count() if USE_CUDA else 1),\n",
    "    ))\n",
    "\n",
    "    trnMetrics_t = doTraining(epoch_ndx, train_dl)\n",
    "\n",
    "    logMetrics(epoch_ndx, 'trn', trnMetrics_t)\n",
    "\n",
    "    if epoch_ndx == 1 or epoch_ndx % validation_cadence == 0:\n",
    "        # if validation is wanted\n",
    "        valMetrics_t = doValidation(epoch_ndx, val_dl)\n",
    "        score = logMetrics(epoch_ndx, 'val', valMetrics_t)\n",
    "        best_score = max(score, best_score)\n",
    "\n",
    "        # self.saveModel('seg', epoch_ndx, score == best_score)\n",
    "        saveModel('seg', epoch_ndx)\n",
    "        # self.logImages(epoch_ndx, 'trn', train_dl)\n",
    "        # self.logImages(epoch_ndx, 'val', val_dl)\n",
    "\n",
    "#     if epoch_ndx % pred_cadence ==0:\n",
    "#         predMetrics_t = doPrediction(epoch_ndx, VAL_FILES, batch_size=1, patch_size=(128,256,256))\n",
    "#         score = logMetrics(epoch_ndx, 'pred', predMetrics_t)\n",
    "        \n",
    "trn_writer.close()\n",
    "val_writer.close()"
   ]
  },
  {
   "cell_type": "code",
   "execution_count": null,
   "metadata": {},
   "outputs": [],
   "source": [
    "# EPOCHS = 1000"
   ]
  },
  {
   "cell_type": "code",
   "execution_count": null,
   "metadata": {},
   "outputs": [],
   "source": [
    "for g in optimizer.param_groups:\n",
    "    g['lr'] = 0.00005\n",
    "    g['weight_decay'] = 0.00002"
   ]
  },
  {
   "cell_type": "code",
   "execution_count": null,
   "metadata": {},
   "outputs": [],
   "source": [
    "for epoch_ndx in range(201, 701):\n",
    "    log.info(\"Epoch {} of {}, {}/{} batches of size {}*{}\".format(\n",
    "        epoch_ndx,\n",
    "        EPOCHS,\n",
    "        len(train_dl),\n",
    "        len(val_dl),\n",
    "        BATCH_SIZE,\n",
    "        (torch.cuda.device_count() if USE_CUDA else 1),\n",
    "    ))\n",
    "\n",
    "    trnMetrics_t = doTraining(epoch_ndx, train_dl)\n",
    "\n",
    "    logMetrics(epoch_ndx, 'trn', trnMetrics_t)\n",
    "\n",
    "    if epoch_ndx == 1 or epoch_ndx % validation_cadence == 0:\n",
    "        # if validation is wanted\n",
    "        valMetrics_t = doValidation(epoch_ndx, val_dl)\n",
    "        score = logMetrics(epoch_ndx, 'val', valMetrics_t)\n",
    "        best_score = max(score, best_score)\n",
    "\n",
    "        # self.saveModel('seg', epoch_ndx, score == best_score)\n",
    "        saveModel('seg', epoch_ndx)\n",
    "        # self.logImages(epoch_ndx, 'trn', train_dl)\n",
    "        # self.logImages(epoch_ndx, 'val', val_dl)\n",
    "\n",
    "#     if epoch_ndx % pred_cadence ==0:\n",
    "#         predMetrics_t = doPrediction(epoch_ndx, VAL_FILES, batch_size=1, patch_size=(128,256,256))\n",
    "#         score = logMetrics(epoch_ndx, 'pred', predMetrics_t)\n",
    "        \n",
    "trn_writer.close()\n",
    "val_writer.close()"
   ]
  },
  {
   "cell_type": "code",
   "execution_count": null,
   "metadata": {},
   "outputs": [],
   "source": [
    "for g in optimizer.param_groups:\n",
    "    g['lr'] = 0.00001\n",
    "    g['weight_decay'] = 0.000005"
   ]
  },
  {
   "cell_type": "code",
   "execution_count": null,
   "metadata": {},
   "outputs": [],
   "source": [
    "for epoch_ndx in range(701, EPOCHS + 1):\n",
    "    log.info(\"Epoch {} of {}, {}/{} batches of size {}*{}\".format(\n",
    "        epoch_ndx,\n",
    "        EPOCHS,\n",
    "        len(train_dl),\n",
    "        len(val_dl),\n",
    "        BATCH_SIZE,\n",
    "        (torch.cuda.device_count() if USE_CUDA else 1),\n",
    "    ))\n",
    "\n",
    "    trnMetrics_t = doTraining(epoch_ndx, train_dl)\n",
    "\n",
    "    logMetrics(epoch_ndx, 'trn', trnMetrics_t)\n",
    "\n",
    "    if epoch_ndx == 1 or epoch_ndx % validation_cadence == 0:\n",
    "        # if validation is wanted\n",
    "        valMetrics_t = doValidation(epoch_ndx, val_dl)\n",
    "        score = logMetrics(epoch_ndx, 'val', valMetrics_t)\n",
    "        best_score = max(score, best_score)\n",
    "\n",
    "        # self.saveModel('seg', epoch_ndx, score == best_score)\n",
    "        saveModel('seg', epoch_ndx)\n",
    "        # self.logImages(epoch_ndx, 'trn', train_dl)\n",
    "        # self.logImages(epoch_ndx, 'val', val_dl)\n",
    "\n",
    "#     if epoch_ndx % pred_cadence ==0:\n",
    "#         predMetrics_t = doPrediction(epoch_ndx, VAL_FILES, batch_size=1, patch_size=(128,256,256))\n",
    "#         score = logMetrics(epoch_ndx, 'pred', predMetrics_t)\n",
    "        \n",
    "trn_writer.close()\n",
    "val_writer.close()"
   ]
  },
  {
   "cell_type": "code",
   "execution_count": null,
   "metadata": {
    "colab": {
     "base_uri": "https://localhost:8080/"
    },
    "executionInfo": {
     "elapsed": 424,
     "status": "ok",
     "timestamp": 1626940740398,
     "user": {
      "displayName": "이정오",
      "photoUrl": "",
      "userId": "04886549528950007370"
     },
     "user_tz": -540
    },
    "id": "gB5Zd_kn8bes",
    "outputId": "ef387e03-fc9d-4803-ec21-91aa4b6f33ec",
    "scrolled": true
   },
   "outputs": [],
   "source": [
    "!ls $BASE_DIR/logs"
   ]
  },
  {
   "cell_type": "code",
   "execution_count": null,
   "metadata": {},
   "outputs": [],
   "source": []
  }
 ],
 "metadata": {
  "accelerator": "GPU",
  "colab": {
   "authorship_tag": "ABX9TyMGTa8s3ioYzkVicewqKqGu",
   "collapsed_sections": [],
   "machine_shape": "hm",
   "name": "BoneSegmentation_window_1300300_FN0.ipynb",
   "provenance": []
  },
  "kernelspec": {
   "display_name": "Python 3 (ipykernel)",
   "language": "python",
   "name": "python3"
  },
  "language_info": {
   "codemirror_mode": {
    "name": "ipython",
    "version": 3
   },
   "file_extension": ".py",
   "mimetype": "text/x-python",
   "name": "python",
   "nbconvert_exporter": "python",
   "pygments_lexer": "ipython3",
   "version": "3.9.5"
  }
 },
 "nbformat": 4,
 "nbformat_minor": 4
}
