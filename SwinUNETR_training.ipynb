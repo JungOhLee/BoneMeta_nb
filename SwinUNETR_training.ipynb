{
 "cells": [
  {
   "cell_type": "code",
   "execution_count": 1,
   "id": "61c0766f-8ca9-4268-ae87-b1051a13a800",
   "metadata": {},
   "outputs": [],
   "source": [
    "%matplotlib inline"
   ]
  },
  {
   "cell_type": "code",
   "execution_count": 2,
   "id": "5a2b197a-d0a0-4920-8700-02c146a86cec",
   "metadata": {},
   "outputs": [
    {
     "name": "stdout",
     "output_type": "stream",
     "text": [
      "MONAI version: 0.9.1\n",
      "Numpy version: 1.23.1\n",
      "Pytorch version: 1.9.1+cu111\n",
      "MONAI flags: HAS_EXT = False, USE_COMPILED = False, USE_META_DICT = False\n",
      "MONAI rev id: 356d2d2f41b473f588899d705bbc682308cee52c\n",
      "MONAI __file__: /usr/local/lib/python3.9/dist-packages/monai/__init__.py\n",
      "\n",
      "Optional dependencies:\n",
      "Pytorch Ignite version: NOT INSTALLED or UNKNOWN VERSION.\n",
      "Nibabel version: 4.0.1\n",
      "scikit-image version: 0.19.3\n",
      "Pillow version: 9.2.0\n",
      "Tensorboard version: 2.9.1\n",
      "gdown version: NOT INSTALLED or UNKNOWN VERSION.\n",
      "TorchVision version: 0.10.1+cu111\n",
      "tqdm version: 4.64.0\n",
      "lmdb version: NOT INSTALLED or UNKNOWN VERSION.\n",
      "psutil version: 5.9.1\n",
      "pandas version: 1.4.3\n",
      "einops version: 0.4.1\n",
      "transformers version: NOT INSTALLED or UNKNOWN VERSION.\n",
      "mlflow version: NOT INSTALLED or UNKNOWN VERSION.\n",
      "pynrrd version: NOT INSTALLED or UNKNOWN VERSION.\n",
      "\n",
      "For details about installing the optional dependencies, please visit:\n",
      "    https://docs.monai.io/en/latest/installation.html#installing-the-recommended-dependencies\n",
      "\n"
     ]
    }
   ],
   "source": [
    "import os\n",
    "import shutil\n",
    "import tempfile\n",
    "\n",
    "import matplotlib.pyplot as plt\n",
    "import numpy as np\n",
    "# from tqdm import tqdm\n",
    "from tqdm.notebook import tqdm\n",
    "\n",
    "from monai.losses import DiceCELoss, DiceLoss\n",
    "from monai.inferers import sliding_window_inference\n",
    "from monai.transforms import (\n",
    "    AsDiscrete,\n",
    "    Compose,\n",
    "    CropForegroundd,\n",
    "    LoadImaged,\n",
    "    Orientationd,\n",
    "    RandFlipd,\n",
    "    RandCropByPosNegLabeld,\n",
    "    RandShiftIntensityd,\n",
    "    ScaleIntensityRanged,\n",
    "    Spacingd,\n",
    "    RandRotate90d,\n",
    ")\n",
    "\n",
    "from monai.config import print_config\n",
    "from monai.metrics import DiceMetric\n",
    "from monai.networks.nets import SwinUNETR\n",
    "\n",
    "from monai.data import (\n",
    "    DataLoader,\n",
    "    CacheDataset,\n",
    "    load_decathlon_datalist,\n",
    "    decollate_batch,\n",
    ")\n",
    "\n",
    "\n",
    "import torch\n",
    "\n",
    "print_config()"
   ]
  },
  {
   "cell_type": "code",
   "execution_count": 3,
   "id": "2ddc6713",
   "metadata": {},
   "outputs": [
    {
     "name": "stdout",
     "output_type": "stream",
     "text": [
      "/workspace/BoneMeta_all_1mm/swinunetr\n"
     ]
    }
   ],
   "source": [
    "root_dir = '/workspace/BoneMeta_all_1mm/swinunetr'\n",
    "print(root_dir)"
   ]
  },
  {
   "cell_type": "code",
   "execution_count": 4,
   "id": "d75ac9eb-e865-466a-b330-2ed1eb418218",
   "metadata": {},
   "outputs": [],
   "source": [
    "num_samples = 4\n",
    "\n",
    "train_transforms = Compose(\n",
    "    [\n",
    "        LoadImaged(keys=[\"image\", \"label\"], ensure_channel_first=True),\n",
    "        Orientationd(keys=[\"image\", \"label\"], axcodes=\"RAS\"),\n",
    "        Spacingd(\n",
    "            keys=[\"image\", \"label\"],\n",
    "            pixdim=(1.5, 1.5, 2.0),\n",
    "            mode=(\"bilinear\", \"nearest\"),\n",
    "        ),\n",
    "        ScaleIntensityRanged(\n",
    "            keys=[\"image\"],\n",
    "            a_min=-1000,\n",
    "            a_max=1000,\n",
    "            b_min=0.0,\n",
    "            b_max=1.0,\n",
    "            clip=True,\n",
    "        ),\n",
    "        CropForegroundd(keys=[\"image\", \"label\"], source_key=\"image\"),\n",
    "        RandCropByPosNegLabeld(\n",
    "            keys=[\"image\", \"label\"],\n",
    "            label_key=\"label\",\n",
    "            spatial_size=(96, 96, 96),\n",
    "            pos=1,\n",
    "            neg=1,\n",
    "            num_samples=num_samples,\n",
    "            image_key=\"image\",\n",
    "            image_threshold=0,\n",
    "        ),\n",
    "        RandFlipd(\n",
    "            keys=[\"image\", \"label\"],\n",
    "            spatial_axis=[0],\n",
    "            prob=0.10,\n",
    "        ),\n",
    "        RandFlipd(\n",
    "            keys=[\"image\", \"label\"],\n",
    "            spatial_axis=[1],\n",
    "            prob=0.10,\n",
    "        ),\n",
    "        RandFlipd(\n",
    "            keys=[\"image\", \"label\"],\n",
    "            spatial_axis=[2],\n",
    "            prob=0.10,\n",
    "        ),\n",
    "        RandRotate90d(\n",
    "            keys=[\"image\", \"label\"],\n",
    "            prob=0.10,\n",
    "            max_k=3,\n",
    "        ),\n",
    "        RandShiftIntensityd(\n",
    "            keys=[\"image\"],\n",
    "            offsets=0.10,\n",
    "            prob=0.50,\n",
    "        ),\n",
    "    ]\n",
    ")\n",
    "val_transforms = Compose(\n",
    "    [\n",
    "        LoadImaged(keys=[\"image\", \"label\"], ensure_channel_first=True),\n",
    "        Orientationd(keys=[\"image\", \"label\"], axcodes=\"RAS\"),\n",
    "        Spacingd(\n",
    "            keys=[\"image\", \"label\"],\n",
    "            pixdim=(1.5, 1.5, 2.0),\n",
    "            mode=(\"bilinear\", \"nearest\"),\n",
    "        ),\n",
    "        ScaleIntensityRanged(\n",
    "            keys=[\"image\"], a_min=-1000, a_max=1000, b_min=0.0, b_max=1.0, clip=True\n",
    "        ),\n",
    "        CropForegroundd(keys=[\"image\", \"label\"], source_key=\"image\"),\n",
    "    ]\n",
    ")"
   ]
  },
  {
   "cell_type": "code",
   "execution_count": 5,
   "id": "29bbd8c3",
   "metadata": {
    "scrolled": false
   },
   "outputs": [
    {
     "name": "stderr",
     "output_type": "stream",
     "text": [
      "Loading dataset: 100%|██████████████████████████████████████████████████████████████████████████| 8/8 [00:11<00:00,  1.48s/it]\n",
      "Loading dataset: 100%|██████████████████████████████████████████████████████████████████████████| 4/4 [00:05<00:00,  1.48s/it]\n"
     ]
    }
   ],
   "source": [
    "datasets = \"/workspace/JO_nb/dataset_split.json\"\n",
    "# datasets = \"/workspace/JO_nb/mock_dataset_split.json\"\n",
    "datalist = load_decathlon_datalist(datasets, True, \"training\")\n",
    "val_files = load_decathlon_datalist(datasets, True, \"validation\")\n",
    "train_ds = CacheDataset(\n",
    "    data=datalist,\n",
    "    transform=train_transforms,\n",
    "    cache_num=8,\n",
    "    cache_rate=1.0,\n",
    "    num_workers=8,\n",
    ")\n",
    "train_loader = DataLoader(\n",
    "    train_ds, batch_size=4, shuffle=True, num_workers=8, pin_memory=True\n",
    ")\n",
    "val_ds = CacheDataset(\n",
    "    data=val_files, transform=val_transforms, cache_num=4, cache_rate=1.0, num_workers=4\n",
    ")\n",
    "val_loader = DataLoader(\n",
    "    val_ds, batch_size=1, shuffle=False, num_workers=4, pin_memory=True\n",
    ")"
   ]
  },
  {
   "cell_type": "code",
   "execution_count": 6,
   "id": "87c19766",
   "metadata": {},
   "outputs": [
    {
     "name": "stdout",
     "output_type": "stream",
     "text": [
      "Using CUDA; 4 devices.\n"
     ]
    }
   ],
   "source": [
    "os.environ[\"CUDA_DEVICE_ORDER\"] = \"PCI_BUS_ID\"\n",
    "device = torch.device(\"cuda\" if torch.cuda.is_available() else \"cpu\")\n",
    "\n",
    "model = SwinUNETR(\n",
    "    img_size=(96, 96, 96),\n",
    "    in_channels=1,\n",
    "    out_channels=1,\n",
    "    feature_size=48,\n",
    "    use_checkpoint=True,\n",
    "    drop_rate=0.5,\n",
    "    dropout_path_rate=0.2\n",
    ").to(device)\n",
    "\n",
    "USE_CUDA = torch.cuda.is_available()\n",
    "DEVICE = torch.device(\"cuda\" if USE_CUDA else \"cpu\")\n",
    "GPU_NUM = 1\n",
    "\n",
    "if USE_CUDA:\n",
    "    print(\"Using CUDA; {} devices.\".format(torch.cuda.device_count()))\n",
    "    GPU_NUM = torch.cuda.device_count()\n",
    "    if torch.cuda.device_count() > 1:\n",
    "        model = torch.nn.DataParallel(model)\n",
    "        # augmentation_model = nn.DataParallel(augmentation_model)\n",
    "    model = model.to(DEVICE)\n",
    "    # augmentation_model = augmentation_model.to(DEVICE)\n"
   ]
  },
  {
   "cell_type": "code",
   "execution_count": 7,
   "id": "60d704fa",
   "metadata": {
    "scrolled": true
   },
   "outputs": [
    {
     "data": {
      "text/plain": [
       "DataParallel(\n",
       "  (module): SwinUNETR(\n",
       "    (swinViT): SwinTransformer(\n",
       "      (patch_embed): PatchEmbed(\n",
       "        (proj): Conv3d(1, 48, kernel_size=(2, 2, 2), stride=(2, 2, 2))\n",
       "      )\n",
       "      (pos_drop): Dropout(p=0.5, inplace=False)\n",
       "      (layers1): ModuleList(\n",
       "        (0): BasicLayer(\n",
       "          (blocks): ModuleList(\n",
       "            (0): SwinTransformerBlock(\n",
       "              (norm1): LayerNorm((48,), eps=1e-05, elementwise_affine=True)\n",
       "              (attn): WindowAttention(\n",
       "                (qkv): Linear(in_features=48, out_features=144, bias=True)\n",
       "                (attn_drop): Dropout(p=0.0, inplace=False)\n",
       "                (proj): Linear(in_features=48, out_features=48, bias=True)\n",
       "                (proj_drop): Dropout(p=0.5, inplace=False)\n",
       "                (softmax): Softmax(dim=-1)\n",
       "              )\n",
       "              (drop_path): Identity()\n",
       "              (norm2): LayerNorm((48,), eps=1e-05, elementwise_affine=True)\n",
       "              (mlp): MLPBlock(\n",
       "                (linear1): Linear(in_features=48, out_features=192, bias=True)\n",
       "                (linear2): Linear(in_features=192, out_features=48, bias=True)\n",
       "                (fn): GELU()\n",
       "                (drop1): Dropout(p=0.5, inplace=False)\n",
       "                (drop2): Dropout(p=0.5, inplace=False)\n",
       "              )\n",
       "            )\n",
       "            (1): SwinTransformerBlock(\n",
       "              (norm1): LayerNorm((48,), eps=1e-05, elementwise_affine=True)\n",
       "              (attn): WindowAttention(\n",
       "                (qkv): Linear(in_features=48, out_features=144, bias=True)\n",
       "                (attn_drop): Dropout(p=0.0, inplace=False)\n",
       "                (proj): Linear(in_features=48, out_features=48, bias=True)\n",
       "                (proj_drop): Dropout(p=0.5, inplace=False)\n",
       "                (softmax): Softmax(dim=-1)\n",
       "              )\n",
       "              (drop_path): DropPath()\n",
       "              (norm2): LayerNorm((48,), eps=1e-05, elementwise_affine=True)\n",
       "              (mlp): MLPBlock(\n",
       "                (linear1): Linear(in_features=48, out_features=192, bias=True)\n",
       "                (linear2): Linear(in_features=192, out_features=48, bias=True)\n",
       "                (fn): GELU()\n",
       "                (drop1): Dropout(p=0.5, inplace=False)\n",
       "                (drop2): Dropout(p=0.5, inplace=False)\n",
       "              )\n",
       "            )\n",
       "          )\n",
       "          (downsample): PatchMerging(\n",
       "            (reduction): Linear(in_features=384, out_features=96, bias=False)\n",
       "            (norm): LayerNorm((384,), eps=1e-05, elementwise_affine=True)\n",
       "          )\n",
       "        )\n",
       "      )\n",
       "      (layers2): ModuleList(\n",
       "        (0): BasicLayer(\n",
       "          (blocks): ModuleList(\n",
       "            (0): SwinTransformerBlock(\n",
       "              (norm1): LayerNorm((96,), eps=1e-05, elementwise_affine=True)\n",
       "              (attn): WindowAttention(\n",
       "                (qkv): Linear(in_features=96, out_features=288, bias=True)\n",
       "                (attn_drop): Dropout(p=0.0, inplace=False)\n",
       "                (proj): Linear(in_features=96, out_features=96, bias=True)\n",
       "                (proj_drop): Dropout(p=0.5, inplace=False)\n",
       "                (softmax): Softmax(dim=-1)\n",
       "              )\n",
       "              (drop_path): DropPath()\n",
       "              (norm2): LayerNorm((96,), eps=1e-05, elementwise_affine=True)\n",
       "              (mlp): MLPBlock(\n",
       "                (linear1): Linear(in_features=96, out_features=384, bias=True)\n",
       "                (linear2): Linear(in_features=384, out_features=96, bias=True)\n",
       "                (fn): GELU()\n",
       "                (drop1): Dropout(p=0.5, inplace=False)\n",
       "                (drop2): Dropout(p=0.5, inplace=False)\n",
       "              )\n",
       "            )\n",
       "            (1): SwinTransformerBlock(\n",
       "              (norm1): LayerNorm((96,), eps=1e-05, elementwise_affine=True)\n",
       "              (attn): WindowAttention(\n",
       "                (qkv): Linear(in_features=96, out_features=288, bias=True)\n",
       "                (attn_drop): Dropout(p=0.0, inplace=False)\n",
       "                (proj): Linear(in_features=96, out_features=96, bias=True)\n",
       "                (proj_drop): Dropout(p=0.5, inplace=False)\n",
       "                (softmax): Softmax(dim=-1)\n",
       "              )\n",
       "              (drop_path): DropPath()\n",
       "              (norm2): LayerNorm((96,), eps=1e-05, elementwise_affine=True)\n",
       "              (mlp): MLPBlock(\n",
       "                (linear1): Linear(in_features=96, out_features=384, bias=True)\n",
       "                (linear2): Linear(in_features=384, out_features=96, bias=True)\n",
       "                (fn): GELU()\n",
       "                (drop1): Dropout(p=0.5, inplace=False)\n",
       "                (drop2): Dropout(p=0.5, inplace=False)\n",
       "              )\n",
       "            )\n",
       "          )\n",
       "          (downsample): PatchMerging(\n",
       "            (reduction): Linear(in_features=768, out_features=192, bias=False)\n",
       "            (norm): LayerNorm((768,), eps=1e-05, elementwise_affine=True)\n",
       "          )\n",
       "        )\n",
       "      )\n",
       "      (layers3): ModuleList(\n",
       "        (0): BasicLayer(\n",
       "          (blocks): ModuleList(\n",
       "            (0): SwinTransformerBlock(\n",
       "              (norm1): LayerNorm((192,), eps=1e-05, elementwise_affine=True)\n",
       "              (attn): WindowAttention(\n",
       "                (qkv): Linear(in_features=192, out_features=576, bias=True)\n",
       "                (attn_drop): Dropout(p=0.0, inplace=False)\n",
       "                (proj): Linear(in_features=192, out_features=192, bias=True)\n",
       "                (proj_drop): Dropout(p=0.5, inplace=False)\n",
       "                (softmax): Softmax(dim=-1)\n",
       "              )\n",
       "              (drop_path): DropPath()\n",
       "              (norm2): LayerNorm((192,), eps=1e-05, elementwise_affine=True)\n",
       "              (mlp): MLPBlock(\n",
       "                (linear1): Linear(in_features=192, out_features=768, bias=True)\n",
       "                (linear2): Linear(in_features=768, out_features=192, bias=True)\n",
       "                (fn): GELU()\n",
       "                (drop1): Dropout(p=0.5, inplace=False)\n",
       "                (drop2): Dropout(p=0.5, inplace=False)\n",
       "              )\n",
       "            )\n",
       "            (1): SwinTransformerBlock(\n",
       "              (norm1): LayerNorm((192,), eps=1e-05, elementwise_affine=True)\n",
       "              (attn): WindowAttention(\n",
       "                (qkv): Linear(in_features=192, out_features=576, bias=True)\n",
       "                (attn_drop): Dropout(p=0.0, inplace=False)\n",
       "                (proj): Linear(in_features=192, out_features=192, bias=True)\n",
       "                (proj_drop): Dropout(p=0.5, inplace=False)\n",
       "                (softmax): Softmax(dim=-1)\n",
       "              )\n",
       "              (drop_path): DropPath()\n",
       "              (norm2): LayerNorm((192,), eps=1e-05, elementwise_affine=True)\n",
       "              (mlp): MLPBlock(\n",
       "                (linear1): Linear(in_features=192, out_features=768, bias=True)\n",
       "                (linear2): Linear(in_features=768, out_features=192, bias=True)\n",
       "                (fn): GELU()\n",
       "                (drop1): Dropout(p=0.5, inplace=False)\n",
       "                (drop2): Dropout(p=0.5, inplace=False)\n",
       "              )\n",
       "            )\n",
       "          )\n",
       "          (downsample): PatchMerging(\n",
       "            (reduction): Linear(in_features=1536, out_features=384, bias=False)\n",
       "            (norm): LayerNorm((1536,), eps=1e-05, elementwise_affine=True)\n",
       "          )\n",
       "        )\n",
       "      )\n",
       "      (layers4): ModuleList(\n",
       "        (0): BasicLayer(\n",
       "          (blocks): ModuleList(\n",
       "            (0): SwinTransformerBlock(\n",
       "              (norm1): LayerNorm((384,), eps=1e-05, elementwise_affine=True)\n",
       "              (attn): WindowAttention(\n",
       "                (qkv): Linear(in_features=384, out_features=1152, bias=True)\n",
       "                (attn_drop): Dropout(p=0.0, inplace=False)\n",
       "                (proj): Linear(in_features=384, out_features=384, bias=True)\n",
       "                (proj_drop): Dropout(p=0.5, inplace=False)\n",
       "                (softmax): Softmax(dim=-1)\n",
       "              )\n",
       "              (drop_path): DropPath()\n",
       "              (norm2): LayerNorm((384,), eps=1e-05, elementwise_affine=True)\n",
       "              (mlp): MLPBlock(\n",
       "                (linear1): Linear(in_features=384, out_features=1536, bias=True)\n",
       "                (linear2): Linear(in_features=1536, out_features=384, bias=True)\n",
       "                (fn): GELU()\n",
       "                (drop1): Dropout(p=0.5, inplace=False)\n",
       "                (drop2): Dropout(p=0.5, inplace=False)\n",
       "              )\n",
       "            )\n",
       "            (1): SwinTransformerBlock(\n",
       "              (norm1): LayerNorm((384,), eps=1e-05, elementwise_affine=True)\n",
       "              (attn): WindowAttention(\n",
       "                (qkv): Linear(in_features=384, out_features=1152, bias=True)\n",
       "                (attn_drop): Dropout(p=0.0, inplace=False)\n",
       "                (proj): Linear(in_features=384, out_features=384, bias=True)\n",
       "                (proj_drop): Dropout(p=0.5, inplace=False)\n",
       "                (softmax): Softmax(dim=-1)\n",
       "              )\n",
       "              (drop_path): DropPath()\n",
       "              (norm2): LayerNorm((384,), eps=1e-05, elementwise_affine=True)\n",
       "              (mlp): MLPBlock(\n",
       "                (linear1): Linear(in_features=384, out_features=1536, bias=True)\n",
       "                (linear2): Linear(in_features=1536, out_features=384, bias=True)\n",
       "                (fn): GELU()\n",
       "                (drop1): Dropout(p=0.5, inplace=False)\n",
       "                (drop2): Dropout(p=0.5, inplace=False)\n",
       "              )\n",
       "            )\n",
       "          )\n",
       "          (downsample): PatchMerging(\n",
       "            (reduction): Linear(in_features=3072, out_features=768, bias=False)\n",
       "            (norm): LayerNorm((3072,), eps=1e-05, elementwise_affine=True)\n",
       "          )\n",
       "        )\n",
       "      )\n",
       "    )\n",
       "    (encoder1): UnetrBasicBlock(\n",
       "      (layer): UnetResBlock(\n",
       "        (conv1): Convolution(\n",
       "          (conv): Conv3d(1, 48, kernel_size=(3, 3, 3), stride=(1, 1, 1), padding=(1, 1, 1), bias=False)\n",
       "        )\n",
       "        (conv2): Convolution(\n",
       "          (conv): Conv3d(48, 48, kernel_size=(3, 3, 3), stride=(1, 1, 1), padding=(1, 1, 1), bias=False)\n",
       "        )\n",
       "        (lrelu): LeakyReLU(negative_slope=0.01, inplace=True)\n",
       "        (norm1): InstanceNorm3d(48, eps=1e-05, momentum=0.1, affine=False, track_running_stats=False)\n",
       "        (norm2): InstanceNorm3d(48, eps=1e-05, momentum=0.1, affine=False, track_running_stats=False)\n",
       "        (conv3): Convolution(\n",
       "          (conv): Conv3d(1, 48, kernel_size=(1, 1, 1), stride=(1, 1, 1), bias=False)\n",
       "        )\n",
       "        (norm3): InstanceNorm3d(48, eps=1e-05, momentum=0.1, affine=False, track_running_stats=False)\n",
       "      )\n",
       "    )\n",
       "    (encoder2): UnetrBasicBlock(\n",
       "      (layer): UnetResBlock(\n",
       "        (conv1): Convolution(\n",
       "          (conv): Conv3d(48, 48, kernel_size=(3, 3, 3), stride=(1, 1, 1), padding=(1, 1, 1), bias=False)\n",
       "        )\n",
       "        (conv2): Convolution(\n",
       "          (conv): Conv3d(48, 48, kernel_size=(3, 3, 3), stride=(1, 1, 1), padding=(1, 1, 1), bias=False)\n",
       "        )\n",
       "        (lrelu): LeakyReLU(negative_slope=0.01, inplace=True)\n",
       "        (norm1): InstanceNorm3d(48, eps=1e-05, momentum=0.1, affine=False, track_running_stats=False)\n",
       "        (norm2): InstanceNorm3d(48, eps=1e-05, momentum=0.1, affine=False, track_running_stats=False)\n",
       "      )\n",
       "    )\n",
       "    (encoder3): UnetrBasicBlock(\n",
       "      (layer): UnetResBlock(\n",
       "        (conv1): Convolution(\n",
       "          (conv): Conv3d(96, 96, kernel_size=(3, 3, 3), stride=(1, 1, 1), padding=(1, 1, 1), bias=False)\n",
       "        )\n",
       "        (conv2): Convolution(\n",
       "          (conv): Conv3d(96, 96, kernel_size=(3, 3, 3), stride=(1, 1, 1), padding=(1, 1, 1), bias=False)\n",
       "        )\n",
       "        (lrelu): LeakyReLU(negative_slope=0.01, inplace=True)\n",
       "        (norm1): InstanceNorm3d(96, eps=1e-05, momentum=0.1, affine=False, track_running_stats=False)\n",
       "        (norm2): InstanceNorm3d(96, eps=1e-05, momentum=0.1, affine=False, track_running_stats=False)\n",
       "      )\n",
       "    )\n",
       "    (encoder4): UnetrBasicBlock(\n",
       "      (layer): UnetResBlock(\n",
       "        (conv1): Convolution(\n",
       "          (conv): Conv3d(192, 192, kernel_size=(3, 3, 3), stride=(1, 1, 1), padding=(1, 1, 1), bias=False)\n",
       "        )\n",
       "        (conv2): Convolution(\n",
       "          (conv): Conv3d(192, 192, kernel_size=(3, 3, 3), stride=(1, 1, 1), padding=(1, 1, 1), bias=False)\n",
       "        )\n",
       "        (lrelu): LeakyReLU(negative_slope=0.01, inplace=True)\n",
       "        (norm1): InstanceNorm3d(192, eps=1e-05, momentum=0.1, affine=False, track_running_stats=False)\n",
       "        (norm2): InstanceNorm3d(192, eps=1e-05, momentum=0.1, affine=False, track_running_stats=False)\n",
       "      )\n",
       "    )\n",
       "    (encoder10): UnetrBasicBlock(\n",
       "      (layer): UnetResBlock(\n",
       "        (conv1): Convolution(\n",
       "          (conv): Conv3d(768, 768, kernel_size=(3, 3, 3), stride=(1, 1, 1), padding=(1, 1, 1), bias=False)\n",
       "        )\n",
       "        (conv2): Convolution(\n",
       "          (conv): Conv3d(768, 768, kernel_size=(3, 3, 3), stride=(1, 1, 1), padding=(1, 1, 1), bias=False)\n",
       "        )\n",
       "        (lrelu): LeakyReLU(negative_slope=0.01, inplace=True)\n",
       "        (norm1): InstanceNorm3d(768, eps=1e-05, momentum=0.1, affine=False, track_running_stats=False)\n",
       "        (norm2): InstanceNorm3d(768, eps=1e-05, momentum=0.1, affine=False, track_running_stats=False)\n",
       "      )\n",
       "    )\n",
       "    (decoder5): UnetrUpBlock(\n",
       "      (transp_conv): Convolution(\n",
       "        (conv): ConvTranspose3d(768, 384, kernel_size=(2, 2, 2), stride=(2, 2, 2), bias=False)\n",
       "      )\n",
       "      (conv_block): UnetResBlock(\n",
       "        (conv1): Convolution(\n",
       "          (conv): Conv3d(768, 384, kernel_size=(3, 3, 3), stride=(1, 1, 1), padding=(1, 1, 1), bias=False)\n",
       "        )\n",
       "        (conv2): Convolution(\n",
       "          (conv): Conv3d(384, 384, kernel_size=(3, 3, 3), stride=(1, 1, 1), padding=(1, 1, 1), bias=False)\n",
       "        )\n",
       "        (lrelu): LeakyReLU(negative_slope=0.01, inplace=True)\n",
       "        (norm1): InstanceNorm3d(384, eps=1e-05, momentum=0.1, affine=False, track_running_stats=False)\n",
       "        (norm2): InstanceNorm3d(384, eps=1e-05, momentum=0.1, affine=False, track_running_stats=False)\n",
       "        (conv3): Convolution(\n",
       "          (conv): Conv3d(768, 384, kernel_size=(1, 1, 1), stride=(1, 1, 1), bias=False)\n",
       "        )\n",
       "        (norm3): InstanceNorm3d(384, eps=1e-05, momentum=0.1, affine=False, track_running_stats=False)\n",
       "      )\n",
       "    )\n",
       "    (decoder4): UnetrUpBlock(\n",
       "      (transp_conv): Convolution(\n",
       "        (conv): ConvTranspose3d(384, 192, kernel_size=(2, 2, 2), stride=(2, 2, 2), bias=False)\n",
       "      )\n",
       "      (conv_block): UnetResBlock(\n",
       "        (conv1): Convolution(\n",
       "          (conv): Conv3d(384, 192, kernel_size=(3, 3, 3), stride=(1, 1, 1), padding=(1, 1, 1), bias=False)\n",
       "        )\n",
       "        (conv2): Convolution(\n",
       "          (conv): Conv3d(192, 192, kernel_size=(3, 3, 3), stride=(1, 1, 1), padding=(1, 1, 1), bias=False)\n",
       "        )\n",
       "        (lrelu): LeakyReLU(negative_slope=0.01, inplace=True)\n",
       "        (norm1): InstanceNorm3d(192, eps=1e-05, momentum=0.1, affine=False, track_running_stats=False)\n",
       "        (norm2): InstanceNorm3d(192, eps=1e-05, momentum=0.1, affine=False, track_running_stats=False)\n",
       "        (conv3): Convolution(\n",
       "          (conv): Conv3d(384, 192, kernel_size=(1, 1, 1), stride=(1, 1, 1), bias=False)\n",
       "        )\n",
       "        (norm3): InstanceNorm3d(192, eps=1e-05, momentum=0.1, affine=False, track_running_stats=False)\n",
       "      )\n",
       "    )\n",
       "    (decoder3): UnetrUpBlock(\n",
       "      (transp_conv): Convolution(\n",
       "        (conv): ConvTranspose3d(192, 96, kernel_size=(2, 2, 2), stride=(2, 2, 2), bias=False)\n",
       "      )\n",
       "      (conv_block): UnetResBlock(\n",
       "        (conv1): Convolution(\n",
       "          (conv): Conv3d(192, 96, kernel_size=(3, 3, 3), stride=(1, 1, 1), padding=(1, 1, 1), bias=False)\n",
       "        )\n",
       "        (conv2): Convolution(\n",
       "          (conv): Conv3d(96, 96, kernel_size=(3, 3, 3), stride=(1, 1, 1), padding=(1, 1, 1), bias=False)\n",
       "        )\n",
       "        (lrelu): LeakyReLU(negative_slope=0.01, inplace=True)\n",
       "        (norm1): InstanceNorm3d(96, eps=1e-05, momentum=0.1, affine=False, track_running_stats=False)\n",
       "        (norm2): InstanceNorm3d(96, eps=1e-05, momentum=0.1, affine=False, track_running_stats=False)\n",
       "        (conv3): Convolution(\n",
       "          (conv): Conv3d(192, 96, kernel_size=(1, 1, 1), stride=(1, 1, 1), bias=False)\n",
       "        )\n",
       "        (norm3): InstanceNorm3d(96, eps=1e-05, momentum=0.1, affine=False, track_running_stats=False)\n",
       "      )\n",
       "    )\n",
       "    (decoder2): UnetrUpBlock(\n",
       "      (transp_conv): Convolution(\n",
       "        (conv): ConvTranspose3d(96, 48, kernel_size=(2, 2, 2), stride=(2, 2, 2), bias=False)\n",
       "      )\n",
       "      (conv_block): UnetResBlock(\n",
       "        (conv1): Convolution(\n",
       "          (conv): Conv3d(96, 48, kernel_size=(3, 3, 3), stride=(1, 1, 1), padding=(1, 1, 1), bias=False)\n",
       "        )\n",
       "        (conv2): Convolution(\n",
       "          (conv): Conv3d(48, 48, kernel_size=(3, 3, 3), stride=(1, 1, 1), padding=(1, 1, 1), bias=False)\n",
       "        )\n",
       "        (lrelu): LeakyReLU(negative_slope=0.01, inplace=True)\n",
       "        (norm1): InstanceNorm3d(48, eps=1e-05, momentum=0.1, affine=False, track_running_stats=False)\n",
       "        (norm2): InstanceNorm3d(48, eps=1e-05, momentum=0.1, affine=False, track_running_stats=False)\n",
       "        (conv3): Convolution(\n",
       "          (conv): Conv3d(96, 48, kernel_size=(1, 1, 1), stride=(1, 1, 1), bias=False)\n",
       "        )\n",
       "        (norm3): InstanceNorm3d(48, eps=1e-05, momentum=0.1, affine=False, track_running_stats=False)\n",
       "      )\n",
       "    )\n",
       "    (decoder1): UnetrUpBlock(\n",
       "      (transp_conv): Convolution(\n",
       "        (conv): ConvTranspose3d(48, 48, kernel_size=(2, 2, 2), stride=(2, 2, 2), bias=False)\n",
       "      )\n",
       "      (conv_block): UnetResBlock(\n",
       "        (conv1): Convolution(\n",
       "          (conv): Conv3d(96, 48, kernel_size=(3, 3, 3), stride=(1, 1, 1), padding=(1, 1, 1), bias=False)\n",
       "        )\n",
       "        (conv2): Convolution(\n",
       "          (conv): Conv3d(48, 48, kernel_size=(3, 3, 3), stride=(1, 1, 1), padding=(1, 1, 1), bias=False)\n",
       "        )\n",
       "        (lrelu): LeakyReLU(negative_slope=0.01, inplace=True)\n",
       "        (norm1): InstanceNorm3d(48, eps=1e-05, momentum=0.1, affine=False, track_running_stats=False)\n",
       "        (norm2): InstanceNorm3d(48, eps=1e-05, momentum=0.1, affine=False, track_running_stats=False)\n",
       "        (conv3): Convolution(\n",
       "          (conv): Conv3d(96, 48, kernel_size=(1, 1, 1), stride=(1, 1, 1), bias=False)\n",
       "        )\n",
       "        (norm3): InstanceNorm3d(48, eps=1e-05, momentum=0.1, affine=False, track_running_stats=False)\n",
       "      )\n",
       "    )\n",
       "    (out): UnetOutBlock(\n",
       "      (conv): Convolution(\n",
       "        (conv): Conv3d(48, 1, kernel_size=(1, 1, 1), stride=(1, 1, 1))\n",
       "      )\n",
       "    )\n",
       "  )\n",
       ")"
      ]
     },
     "execution_count": 7,
     "metadata": {},
     "output_type": "execute_result"
    }
   ],
   "source": [
    "model"
   ]
  },
  {
   "cell_type": "code",
   "execution_count": 8,
   "id": "24fccc74",
   "metadata": {},
   "outputs": [
    {
     "data": {
      "text/plain": [
       "62186659"
      ]
     },
     "execution_count": 8,
     "metadata": {},
     "output_type": "execute_result"
    }
   ],
   "source": [
    "def count_parameters(model):\n",
    "    return sum(p.numel() for p in model.parameters() if p.requires_grad)\n",
    "count_parameters(model)"
   ]
  },
  {
   "cell_type": "code",
   "execution_count": 9,
   "id": "a20e613f",
   "metadata": {},
   "outputs": [
    {
     "name": "stdout",
     "output_type": "stream",
     "text": [
      "Loaded previous best model\n"
     ]
    }
   ],
   "source": [
    "model_path = \"/workspace/BoneMeta_all_1mm/swinunetr/best_metric_model.pth\"\n",
    "\n",
    "if torch.cuda.device_count() > 1:\n",
    "    model.load_state_dict(torch.load(model_path))\n",
    "else:\n",
    "    model.load_state_dict(torch.load(model_path))\n",
    "\n",
    "print(\"Loaded previous best model\")\n",
    "\n",
    "# model_path = \"./model_swinvit.pt\"\n",
    "# weight = torch.load(model_path)\n",
    "\n",
    "# if torch.cuda.device_count() > 1:\n",
    "#     model.module.load_from(weights=weight)\n",
    "# else:\n",
    "#     model.load_from(weights=weight)\n",
    "    \n",
    "# print(\"Using pretrained self-supervied Swin UNETR backbone weights !\")"
   ]
  },
  {
   "cell_type": "code",
   "execution_count": 10,
   "id": "a5b1d80b",
   "metadata": {},
   "outputs": [
    {
     "data": {
      "text/plain": [
       "SwinTransformer(\n",
       "  (patch_embed): PatchEmbed(\n",
       "    (proj): Conv3d(1, 48, kernel_size=(2, 2, 2), stride=(2, 2, 2))\n",
       "  )\n",
       "  (pos_drop): Dropout(p=0.5, inplace=False)\n",
       "  (layers1): ModuleList(\n",
       "    (0): BasicLayer(\n",
       "      (blocks): ModuleList(\n",
       "        (0): SwinTransformerBlock(\n",
       "          (norm1): LayerNorm((48,), eps=1e-05, elementwise_affine=True)\n",
       "          (attn): WindowAttention(\n",
       "            (qkv): Linear(in_features=48, out_features=144, bias=True)\n",
       "            (attn_drop): Dropout(p=0.0, inplace=False)\n",
       "            (proj): Linear(in_features=48, out_features=48, bias=True)\n",
       "            (proj_drop): Dropout(p=0.5, inplace=False)\n",
       "            (softmax): Softmax(dim=-1)\n",
       "          )\n",
       "          (drop_path): Identity()\n",
       "          (norm2): LayerNorm((48,), eps=1e-05, elementwise_affine=True)\n",
       "          (mlp): MLPBlock(\n",
       "            (linear1): Linear(in_features=48, out_features=192, bias=True)\n",
       "            (linear2): Linear(in_features=192, out_features=48, bias=True)\n",
       "            (fn): GELU()\n",
       "            (drop1): Dropout(p=0.5, inplace=False)\n",
       "            (drop2): Dropout(p=0.5, inplace=False)\n",
       "          )\n",
       "        )\n",
       "        (1): SwinTransformerBlock(\n",
       "          (norm1): LayerNorm((48,), eps=1e-05, elementwise_affine=True)\n",
       "          (attn): WindowAttention(\n",
       "            (qkv): Linear(in_features=48, out_features=144, bias=True)\n",
       "            (attn_drop): Dropout(p=0.0, inplace=False)\n",
       "            (proj): Linear(in_features=48, out_features=48, bias=True)\n",
       "            (proj_drop): Dropout(p=0.5, inplace=False)\n",
       "            (softmax): Softmax(dim=-1)\n",
       "          )\n",
       "          (drop_path): DropPath()\n",
       "          (norm2): LayerNorm((48,), eps=1e-05, elementwise_affine=True)\n",
       "          (mlp): MLPBlock(\n",
       "            (linear1): Linear(in_features=48, out_features=192, bias=True)\n",
       "            (linear2): Linear(in_features=192, out_features=48, bias=True)\n",
       "            (fn): GELU()\n",
       "            (drop1): Dropout(p=0.5, inplace=False)\n",
       "            (drop2): Dropout(p=0.5, inplace=False)\n",
       "          )\n",
       "        )\n",
       "      )\n",
       "      (downsample): PatchMerging(\n",
       "        (reduction): Linear(in_features=384, out_features=96, bias=False)\n",
       "        (norm): LayerNorm((384,), eps=1e-05, elementwise_affine=True)\n",
       "      )\n",
       "    )\n",
       "  )\n",
       "  (layers2): ModuleList(\n",
       "    (0): BasicLayer(\n",
       "      (blocks): ModuleList(\n",
       "        (0): SwinTransformerBlock(\n",
       "          (norm1): LayerNorm((96,), eps=1e-05, elementwise_affine=True)\n",
       "          (attn): WindowAttention(\n",
       "            (qkv): Linear(in_features=96, out_features=288, bias=True)\n",
       "            (attn_drop): Dropout(p=0.0, inplace=False)\n",
       "            (proj): Linear(in_features=96, out_features=96, bias=True)\n",
       "            (proj_drop): Dropout(p=0.5, inplace=False)\n",
       "            (softmax): Softmax(dim=-1)\n",
       "          )\n",
       "          (drop_path): DropPath()\n",
       "          (norm2): LayerNorm((96,), eps=1e-05, elementwise_affine=True)\n",
       "          (mlp): MLPBlock(\n",
       "            (linear1): Linear(in_features=96, out_features=384, bias=True)\n",
       "            (linear2): Linear(in_features=384, out_features=96, bias=True)\n",
       "            (fn): GELU()\n",
       "            (drop1): Dropout(p=0.5, inplace=False)\n",
       "            (drop2): Dropout(p=0.5, inplace=False)\n",
       "          )\n",
       "        )\n",
       "        (1): SwinTransformerBlock(\n",
       "          (norm1): LayerNorm((96,), eps=1e-05, elementwise_affine=True)\n",
       "          (attn): WindowAttention(\n",
       "            (qkv): Linear(in_features=96, out_features=288, bias=True)\n",
       "            (attn_drop): Dropout(p=0.0, inplace=False)\n",
       "            (proj): Linear(in_features=96, out_features=96, bias=True)\n",
       "            (proj_drop): Dropout(p=0.5, inplace=False)\n",
       "            (softmax): Softmax(dim=-1)\n",
       "          )\n",
       "          (drop_path): DropPath()\n",
       "          (norm2): LayerNorm((96,), eps=1e-05, elementwise_affine=True)\n",
       "          (mlp): MLPBlock(\n",
       "            (linear1): Linear(in_features=96, out_features=384, bias=True)\n",
       "            (linear2): Linear(in_features=384, out_features=96, bias=True)\n",
       "            (fn): GELU()\n",
       "            (drop1): Dropout(p=0.5, inplace=False)\n",
       "            (drop2): Dropout(p=0.5, inplace=False)\n",
       "          )\n",
       "        )\n",
       "      )\n",
       "      (downsample): PatchMerging(\n",
       "        (reduction): Linear(in_features=768, out_features=192, bias=False)\n",
       "        (norm): LayerNorm((768,), eps=1e-05, elementwise_affine=True)\n",
       "      )\n",
       "    )\n",
       "  )\n",
       "  (layers3): ModuleList(\n",
       "    (0): BasicLayer(\n",
       "      (blocks): ModuleList(\n",
       "        (0): SwinTransformerBlock(\n",
       "          (norm1): LayerNorm((192,), eps=1e-05, elementwise_affine=True)\n",
       "          (attn): WindowAttention(\n",
       "            (qkv): Linear(in_features=192, out_features=576, bias=True)\n",
       "            (attn_drop): Dropout(p=0.0, inplace=False)\n",
       "            (proj): Linear(in_features=192, out_features=192, bias=True)\n",
       "            (proj_drop): Dropout(p=0.5, inplace=False)\n",
       "            (softmax): Softmax(dim=-1)\n",
       "          )\n",
       "          (drop_path): DropPath()\n",
       "          (norm2): LayerNorm((192,), eps=1e-05, elementwise_affine=True)\n",
       "          (mlp): MLPBlock(\n",
       "            (linear1): Linear(in_features=192, out_features=768, bias=True)\n",
       "            (linear2): Linear(in_features=768, out_features=192, bias=True)\n",
       "            (fn): GELU()\n",
       "            (drop1): Dropout(p=0.5, inplace=False)\n",
       "            (drop2): Dropout(p=0.5, inplace=False)\n",
       "          )\n",
       "        )\n",
       "        (1): SwinTransformerBlock(\n",
       "          (norm1): LayerNorm((192,), eps=1e-05, elementwise_affine=True)\n",
       "          (attn): WindowAttention(\n",
       "            (qkv): Linear(in_features=192, out_features=576, bias=True)\n",
       "            (attn_drop): Dropout(p=0.0, inplace=False)\n",
       "            (proj): Linear(in_features=192, out_features=192, bias=True)\n",
       "            (proj_drop): Dropout(p=0.5, inplace=False)\n",
       "            (softmax): Softmax(dim=-1)\n",
       "          )\n",
       "          (drop_path): DropPath()\n",
       "          (norm2): LayerNorm((192,), eps=1e-05, elementwise_affine=True)\n",
       "          (mlp): MLPBlock(\n",
       "            (linear1): Linear(in_features=192, out_features=768, bias=True)\n",
       "            (linear2): Linear(in_features=768, out_features=192, bias=True)\n",
       "            (fn): GELU()\n",
       "            (drop1): Dropout(p=0.5, inplace=False)\n",
       "            (drop2): Dropout(p=0.5, inplace=False)\n",
       "          )\n",
       "        )\n",
       "      )\n",
       "      (downsample): PatchMerging(\n",
       "        (reduction): Linear(in_features=1536, out_features=384, bias=False)\n",
       "        (norm): LayerNorm((1536,), eps=1e-05, elementwise_affine=True)\n",
       "      )\n",
       "    )\n",
       "  )\n",
       "  (layers4): ModuleList(\n",
       "    (0): BasicLayer(\n",
       "      (blocks): ModuleList(\n",
       "        (0): SwinTransformerBlock(\n",
       "          (norm1): LayerNorm((384,), eps=1e-05, elementwise_affine=True)\n",
       "          (attn): WindowAttention(\n",
       "            (qkv): Linear(in_features=384, out_features=1152, bias=True)\n",
       "            (attn_drop): Dropout(p=0.0, inplace=False)\n",
       "            (proj): Linear(in_features=384, out_features=384, bias=True)\n",
       "            (proj_drop): Dropout(p=0.5, inplace=False)\n",
       "            (softmax): Softmax(dim=-1)\n",
       "          )\n",
       "          (drop_path): DropPath()\n",
       "          (norm2): LayerNorm((384,), eps=1e-05, elementwise_affine=True)\n",
       "          (mlp): MLPBlock(\n",
       "            (linear1): Linear(in_features=384, out_features=1536, bias=True)\n",
       "            (linear2): Linear(in_features=1536, out_features=384, bias=True)\n",
       "            (fn): GELU()\n",
       "            (drop1): Dropout(p=0.5, inplace=False)\n",
       "            (drop2): Dropout(p=0.5, inplace=False)\n",
       "          )\n",
       "        )\n",
       "        (1): SwinTransformerBlock(\n",
       "          (norm1): LayerNorm((384,), eps=1e-05, elementwise_affine=True)\n",
       "          (attn): WindowAttention(\n",
       "            (qkv): Linear(in_features=384, out_features=1152, bias=True)\n",
       "            (attn_drop): Dropout(p=0.0, inplace=False)\n",
       "            (proj): Linear(in_features=384, out_features=384, bias=True)\n",
       "            (proj_drop): Dropout(p=0.5, inplace=False)\n",
       "            (softmax): Softmax(dim=-1)\n",
       "          )\n",
       "          (drop_path): DropPath()\n",
       "          (norm2): LayerNorm((384,), eps=1e-05, elementwise_affine=True)\n",
       "          (mlp): MLPBlock(\n",
       "            (linear1): Linear(in_features=384, out_features=1536, bias=True)\n",
       "            (linear2): Linear(in_features=1536, out_features=384, bias=True)\n",
       "            (fn): GELU()\n",
       "            (drop1): Dropout(p=0.5, inplace=False)\n",
       "            (drop2): Dropout(p=0.5, inplace=False)\n",
       "          )\n",
       "        )\n",
       "      )\n",
       "      (downsample): PatchMerging(\n",
       "        (reduction): Linear(in_features=3072, out_features=768, bias=False)\n",
       "        (norm): LayerNorm((3072,), eps=1e-05, elementwise_affine=True)\n",
       "      )\n",
       "    )\n",
       "  )\n",
       ")"
      ]
     },
     "execution_count": 10,
     "metadata": {},
     "output_type": "execute_result"
    }
   ],
   "source": [
    "model.module.swinViT.requires_grad_(True)\n",
    "# model.module.swinViT.patch_embed.requires_grad_(True)"
   ]
  },
  {
   "cell_type": "code",
   "execution_count": 11,
   "id": "be33caad",
   "metadata": {},
   "outputs": [],
   "source": [
    "torch.backends.cudnn.benchmark = True\n",
    "loss_function = DiceCELoss(to_onehot_y=False, sigmoid=True)\n",
    "optimizer = torch.optim.AdamW(model.parameters(), lr=1e-4, weight_decay=1e-5)"
   ]
  },
  {
   "cell_type": "code",
   "execution_count": 12,
   "id": "1eb129af",
   "metadata": {
    "scrolled": true
   },
   "outputs": [
    {
     "data": {
      "application/vnd.jupyter.widget-view+json": {
       "model_id": "2f2beaf772554381b38f8caff5cbe6f3",
       "version_major": 2,
       "version_minor": 0
      },
      "text/plain": [
       "Training (X / X Steps) (loss=X.X):   0%|                                                               | 0/60 …"
      ]
     },
     "metadata": {},
     "output_type": "display_data"
    },
    {
     "data": {
      "application/vnd.jupyter.widget-view+json": {
       "model_id": "20503f4f9e574e57ad3b5cfa1dcf07ef",
       "version_major": 2,
       "version_minor": 0
      },
      "text/plain": [
       "Training (X / X Steps) (loss=X.X):   0%|                                                               | 0/60 …"
      ]
     },
     "metadata": {},
     "output_type": "display_data"
    },
    {
     "data": {
      "application/vnd.jupyter.widget-view+json": {
       "model_id": "09b04a80dc9b485eb16c834812061087",
       "version_major": 2,
       "version_minor": 0
      },
      "text/plain": [
       "Training (X / X Steps) (loss=X.X):   0%|                                                               | 0/60 …"
      ]
     },
     "metadata": {},
     "output_type": "display_data"
    },
    {
     "data": {
      "application/vnd.jupyter.widget-view+json": {
       "model_id": "cf7061e861b746f5a754f3ca48fa7ea0",
       "version_major": 2,
       "version_minor": 0
      },
      "text/plain": [
       "Training (X / X Steps) (loss=X.X):   0%|                                                               | 0/60 …"
      ]
     },
     "metadata": {},
     "output_type": "display_data"
    },
    {
     "data": {
      "application/vnd.jupyter.widget-view+json": {
       "model_id": "142122b3e8344caa87babef433463ced",
       "version_major": 2,
       "version_minor": 0
      },
      "text/plain": [
       "Training (X / X Steps) (loss=X.X):   0%|                                                               | 0/60 …"
      ]
     },
     "metadata": {},
     "output_type": "display_data"
    },
    {
     "data": {
      "application/vnd.jupyter.widget-view+json": {
       "model_id": "ca1fa8d1b4864b23874b1446ef3ae910",
       "version_major": 2,
       "version_minor": 0
      },
      "text/plain": [
       "Training (X / X Steps) (loss=X.X):   0%|                                                               | 0/60 …"
      ]
     },
     "metadata": {},
     "output_type": "display_data"
    },
    {
     "data": {
      "application/vnd.jupyter.widget-view+json": {
       "model_id": "ac42ea77af794297a38207395da0ee88",
       "version_major": 2,
       "version_minor": 0
      },
      "text/plain": [
       "Validate (X / X Steps) (dice=X.X):   0%|                                                               | 0/35 …"
      ]
     },
     "metadata": {},
     "output_type": "display_data"
    },
    {
     "name": "stderr",
     "output_type": "stream",
     "text": [
      "/usr/local/lib/python3.9/dist-packages/torch/utils/checkpoint.py:25: UserWarning: None of the inputs have requires_grad=True. Gradients will be None\n",
      "  warnings.warn(\"None of the inputs have requires_grad=True. Gradients will be None\")\n"
     ]
    },
    {
     "name": "stdout",
     "output_type": "stream",
     "text": [
      "Model Was Saved ! Current Best Avg. Dice: 0.4597248136997223 Current Avg. Dice: 0.4597248136997223\n"
     ]
    },
    {
     "data": {
      "application/vnd.jupyter.widget-view+json": {
       "model_id": "0fbfff2ffa4b49cca7b2770b31360d99",
       "version_major": 2,
       "version_minor": 0
      },
      "text/plain": [
       "Training (X / X Steps) (loss=X.X):   0%|                                                               | 0/60 …"
      ]
     },
     "metadata": {},
     "output_type": "display_data"
    },
    {
     "data": {
      "application/vnd.jupyter.widget-view+json": {
       "model_id": "ffd20fad57e3499db022fe38824ab18e",
       "version_major": 2,
       "version_minor": 0
      },
      "text/plain": [
       "Training (X / X Steps) (loss=X.X):   0%|                                                               | 0/60 …"
      ]
     },
     "metadata": {},
     "output_type": "display_data"
    },
    {
     "data": {
      "application/vnd.jupyter.widget-view+json": {
       "model_id": "65de948d37e149518eaddc9fab82fd0f",
       "version_major": 2,
       "version_minor": 0
      },
      "text/plain": [
       "Training (X / X Steps) (loss=X.X):   0%|                                                               | 0/60 …"
      ]
     },
     "metadata": {},
     "output_type": "display_data"
    },
    {
     "data": {
      "application/vnd.jupyter.widget-view+json": {
       "model_id": "0c6550e8332b4812bfc0d44d1de12ffa",
       "version_major": 2,
       "version_minor": 0
      },
      "text/plain": [
       "Training (X / X Steps) (loss=X.X):   0%|                                                               | 0/60 …"
      ]
     },
     "metadata": {},
     "output_type": "display_data"
    },
    {
     "data": {
      "application/vnd.jupyter.widget-view+json": {
       "model_id": "bdd6e132a26f49c0b2b878e8d45344f6",
       "version_major": 2,
       "version_minor": 0
      },
      "text/plain": [
       "Training (X / X Steps) (loss=X.X):   0%|                                                               | 0/60 …"
      ]
     },
     "metadata": {},
     "output_type": "display_data"
    },
    {
     "data": {
      "application/vnd.jupyter.widget-view+json": {
       "model_id": "d222e5dc9f2c4854939f0d190479b873",
       "version_major": 2,
       "version_minor": 0
      },
      "text/plain": [
       "Validate (X / X Steps) (dice=X.X):   0%|                                                               | 0/35 …"
      ]
     },
     "metadata": {},
     "output_type": "display_data"
    },
    {
     "name": "stdout",
     "output_type": "stream",
     "text": [
      "Model Was Not Saved ! Current Best Avg. Dice: 0.4597248136997223 Current Avg. Dice: 0.455885648727417\n"
     ]
    },
    {
     "data": {
      "application/vnd.jupyter.widget-view+json": {
       "model_id": "b0ce890586b54c459e8de4b2230cba69",
       "version_major": 2,
       "version_minor": 0
      },
      "text/plain": [
       "Training (X / X Steps) (loss=X.X):   0%|                                                               | 0/60 …"
      ]
     },
     "metadata": {},
     "output_type": "display_data"
    },
    {
     "data": {
      "application/vnd.jupyter.widget-view+json": {
       "model_id": "7cbcf32a2a194766a9e2528969ac1053",
       "version_major": 2,
       "version_minor": 0
      },
      "text/plain": [
       "Training (X / X Steps) (loss=X.X):   0%|                                                               | 0/60 …"
      ]
     },
     "metadata": {},
     "output_type": "display_data"
    },
    {
     "data": {
      "application/vnd.jupyter.widget-view+json": {
       "model_id": "5e6fad8f34834fb5941c98abb488a0dd",
       "version_major": 2,
       "version_minor": 0
      },
      "text/plain": [
       "Training (X / X Steps) (loss=X.X):   0%|                                                               | 0/60 …"
      ]
     },
     "metadata": {},
     "output_type": "display_data"
    },
    {
     "data": {
      "application/vnd.jupyter.widget-view+json": {
       "model_id": "261d1b6b97b74804845bc092c14a660e",
       "version_major": 2,
       "version_minor": 0
      },
      "text/plain": [
       "Training (X / X Steps) (loss=X.X):   0%|                                                               | 0/60 …"
      ]
     },
     "metadata": {},
     "output_type": "display_data"
    },
    {
     "data": {
      "application/vnd.jupyter.widget-view+json": {
       "model_id": "fa29c4d651994e7b94c7247374d9bf98",
       "version_major": 2,
       "version_minor": 0
      },
      "text/plain": [
       "Training (X / X Steps) (loss=X.X):   0%|                                                               | 0/60 …"
      ]
     },
     "metadata": {},
     "output_type": "display_data"
    },
    {
     "data": {
      "application/vnd.jupyter.widget-view+json": {
       "model_id": "c334ffa72a4747fb87b2216c57878cfa",
       "version_major": 2,
       "version_minor": 0
      },
      "text/plain": [
       "Validate (X / X Steps) (dice=X.X):   0%|                                                               | 0/35 …"
      ]
     },
     "metadata": {},
     "output_type": "display_data"
    },
    {
     "name": "stdout",
     "output_type": "stream",
     "text": [
      "Model Was Not Saved ! Current Best Avg. Dice: 0.4597248136997223 Current Avg. Dice: 0.45827364921569824\n"
     ]
    },
    {
     "data": {
      "application/vnd.jupyter.widget-view+json": {
       "model_id": "318fb0f80a38433c96b29fd6c6f9b25b",
       "version_major": 2,
       "version_minor": 0
      },
      "text/plain": [
       "Training (X / X Steps) (loss=X.X):   0%|                                                               | 0/60 …"
      ]
     },
     "metadata": {},
     "output_type": "display_data"
    },
    {
     "data": {
      "application/vnd.jupyter.widget-view+json": {
       "model_id": "d5b1389fa5754b148364d45d6085524c",
       "version_major": 2,
       "version_minor": 0
      },
      "text/plain": [
       "Training (X / X Steps) (loss=X.X):   0%|                                                               | 0/60 …"
      ]
     },
     "metadata": {},
     "output_type": "display_data"
    },
    {
     "data": {
      "application/vnd.jupyter.widget-view+json": {
       "model_id": "cfcd0fc55fac4892b33f0aa92f084ace",
       "version_major": 2,
       "version_minor": 0
      },
      "text/plain": [
       "Training (X / X Steps) (loss=X.X):   0%|                                                               | 0/60 …"
      ]
     },
     "metadata": {},
     "output_type": "display_data"
    },
    {
     "data": {
      "application/vnd.jupyter.widget-view+json": {
       "model_id": "a1b8ca67577448e39342932879f5b096",
       "version_major": 2,
       "version_minor": 0
      },
      "text/plain": [
       "Training (X / X Steps) (loss=X.X):   0%|                                                               | 0/60 …"
      ]
     },
     "metadata": {},
     "output_type": "display_data"
    },
    {
     "data": {
      "application/vnd.jupyter.widget-view+json": {
       "model_id": "95f2dfad956041369417bc26f0fc99e3",
       "version_major": 2,
       "version_minor": 0
      },
      "text/plain": [
       "Training (X / X Steps) (loss=X.X):   0%|                                                               | 0/60 …"
      ]
     },
     "metadata": {},
     "output_type": "display_data"
    },
    {
     "data": {
      "application/vnd.jupyter.widget-view+json": {
       "model_id": "47b5b495176e4b75adc463065caec26a",
       "version_major": 2,
       "version_minor": 0
      },
      "text/plain": [
       "Validate (X / X Steps) (dice=X.X):   0%|                                                               | 0/35 …"
      ]
     },
     "metadata": {},
     "output_type": "display_data"
    },
    {
     "name": "stdout",
     "output_type": "stream",
     "text": [
      "Model Was Not Saved ! Current Best Avg. Dice: 0.4597248136997223 Current Avg. Dice: 0.45956018567085266\n"
     ]
    },
    {
     "data": {
      "application/vnd.jupyter.widget-view+json": {
       "model_id": "03638ea79a474f76a7e4e00d815684e0",
       "version_major": 2,
       "version_minor": 0
      },
      "text/plain": [
       "Training (X / X Steps) (loss=X.X):   0%|                                                               | 0/60 …"
      ]
     },
     "metadata": {},
     "output_type": "display_data"
    },
    {
     "data": {
      "application/vnd.jupyter.widget-view+json": {
       "model_id": "1788ad7821b94026b4e9784378b7d07d",
       "version_major": 2,
       "version_minor": 0
      },
      "text/plain": [
       "Training (X / X Steps) (loss=X.X):   0%|                                                               | 0/60 …"
      ]
     },
     "metadata": {},
     "output_type": "display_data"
    },
    {
     "data": {
      "application/vnd.jupyter.widget-view+json": {
       "model_id": "78de28b9a005492ea1cd009f74f23d5b",
       "version_major": 2,
       "version_minor": 0
      },
      "text/plain": [
       "Training (X / X Steps) (loss=X.X):   0%|                                                               | 0/60 …"
      ]
     },
     "metadata": {},
     "output_type": "display_data"
    },
    {
     "data": {
      "application/vnd.jupyter.widget-view+json": {
       "model_id": "376832fac5a24aa8974bf66acb88638e",
       "version_major": 2,
       "version_minor": 0
      },
      "text/plain": [
       "Training (X / X Steps) (loss=X.X):   0%|                                                               | 0/60 …"
      ]
     },
     "metadata": {},
     "output_type": "display_data"
    },
    {
     "data": {
      "application/vnd.jupyter.widget-view+json": {
       "model_id": "1bf7c77af3744b7da1e853c986f5be82",
       "version_major": 2,
       "version_minor": 0
      },
      "text/plain": [
       "Training (X / X Steps) (loss=X.X):   0%|                                                               | 0/60 …"
      ]
     },
     "metadata": {},
     "output_type": "display_data"
    },
    {
     "data": {
      "application/vnd.jupyter.widget-view+json": {
       "model_id": "c00833c4dda44829a1073acb3d5cec0a",
       "version_major": 2,
       "version_minor": 0
      },
      "text/plain": [
       "Validate (X / X Steps) (dice=X.X):   0%|                                                               | 0/35 …"
      ]
     },
     "metadata": {},
     "output_type": "display_data"
    },
    {
     "name": "stdout",
     "output_type": "stream",
     "text": [
      "Model Was Not Saved ! Current Best Avg. Dice: 0.4597248136997223 Current Avg. Dice: 0.4558214247226715\n"
     ]
    },
    {
     "data": {
      "application/vnd.jupyter.widget-view+json": {
       "model_id": "ea893b74f54f4d099dc92998012df552",
       "version_major": 2,
       "version_minor": 0
      },
      "text/plain": [
       "Training (X / X Steps) (loss=X.X):   0%|                                                               | 0/60 …"
      ]
     },
     "metadata": {},
     "output_type": "display_data"
    },
    {
     "data": {
      "application/vnd.jupyter.widget-view+json": {
       "model_id": "2e70b837654f47339a1d1c9966c615fa",
       "version_major": 2,
       "version_minor": 0
      },
      "text/plain": [
       "Training (X / X Steps) (loss=X.X):   0%|                                                               | 0/60 …"
      ]
     },
     "metadata": {},
     "output_type": "display_data"
    },
    {
     "data": {
      "application/vnd.jupyter.widget-view+json": {
       "model_id": "ce76855c933541ea976c47cfa57c01c9",
       "version_major": 2,
       "version_minor": 0
      },
      "text/plain": [
       "Training (X / X Steps) (loss=X.X):   0%|                                                               | 0/60 …"
      ]
     },
     "metadata": {},
     "output_type": "display_data"
    },
    {
     "data": {
      "application/vnd.jupyter.widget-view+json": {
       "model_id": "46bc14ae621f49b48e4478439bc588cc",
       "version_major": 2,
       "version_minor": 0
      },
      "text/plain": [
       "Training (X / X Steps) (loss=X.X):   0%|                                                               | 0/60 …"
      ]
     },
     "metadata": {},
     "output_type": "display_data"
    },
    {
     "data": {
      "application/vnd.jupyter.widget-view+json": {
       "model_id": "0a45ddf22a3f49d1b2b9cdeddedcf8b8",
       "version_major": 2,
       "version_minor": 0
      },
      "text/plain": [
       "Training (X / X Steps) (loss=X.X):   0%|                                                               | 0/60 …"
      ]
     },
     "metadata": {},
     "output_type": "display_data"
    },
    {
     "data": {
      "application/vnd.jupyter.widget-view+json": {
       "model_id": "85eb47a50e984b969812415ec5221206",
       "version_major": 2,
       "version_minor": 0
      },
      "text/plain": [
       "Validate (X / X Steps) (dice=X.X):   0%|                                                               | 0/35 …"
      ]
     },
     "metadata": {},
     "output_type": "display_data"
    },
    {
     "name": "stdout",
     "output_type": "stream",
     "text": [
      "Model Was Not Saved ! Current Best Avg. Dice: 0.4597248136997223 Current Avg. Dice: 0.45962339639663696\n"
     ]
    },
    {
     "data": {
      "application/vnd.jupyter.widget-view+json": {
       "model_id": "8a511ba2846d4d9abadb1ef5ee465ff9",
       "version_major": 2,
       "version_minor": 0
      },
      "text/plain": [
       "Training (X / X Steps) (loss=X.X):   0%|                                                               | 0/60 …"
      ]
     },
     "metadata": {},
     "output_type": "display_data"
    },
    {
     "data": {
      "application/vnd.jupyter.widget-view+json": {
       "model_id": "d1b8c7bff90446008dd13069c5223e24",
       "version_major": 2,
       "version_minor": 0
      },
      "text/plain": [
       "Training (X / X Steps) (loss=X.X):   0%|                                                               | 0/60 …"
      ]
     },
     "metadata": {},
     "output_type": "display_data"
    },
    {
     "data": {
      "application/vnd.jupyter.widget-view+json": {
       "model_id": "1f5d73a0fdcc46af8e80facaf4af000c",
       "version_major": 2,
       "version_minor": 0
      },
      "text/plain": [
       "Training (X / X Steps) (loss=X.X):   0%|                                                               | 0/60 …"
      ]
     },
     "metadata": {},
     "output_type": "display_data"
    },
    {
     "data": {
      "application/vnd.jupyter.widget-view+json": {
       "model_id": "bb12a4eabb12429d83a752dd040d4b41",
       "version_major": 2,
       "version_minor": 0
      },
      "text/plain": [
       "Training (X / X Steps) (loss=X.X):   0%|                                                               | 0/60 …"
      ]
     },
     "metadata": {},
     "output_type": "display_data"
    },
    {
     "data": {
      "application/vnd.jupyter.widget-view+json": {
       "model_id": "1ed9806be907496391f6e2f4a5e373a9",
       "version_major": 2,
       "version_minor": 0
      },
      "text/plain": [
       "Training (X / X Steps) (loss=X.X):   0%|                                                               | 0/60 …"
      ]
     },
     "metadata": {},
     "output_type": "display_data"
    },
    {
     "data": {
      "application/vnd.jupyter.widget-view+json": {
       "model_id": "da9ce022800a4c05a22f0e387ca241e7",
       "version_major": 2,
       "version_minor": 0
      },
      "text/plain": [
       "Validate (X / X Steps) (dice=X.X):   0%|                                                               | 0/35 …"
      ]
     },
     "metadata": {},
     "output_type": "display_data"
    },
    {
     "name": "stdout",
     "output_type": "stream",
     "text": [
      "Model Was Not Saved ! Current Best Avg. Dice: 0.4597248136997223 Current Avg. Dice: 0.455715537071228\n"
     ]
    },
    {
     "data": {
      "application/vnd.jupyter.widget-view+json": {
       "model_id": "d7927a505ba64807a3664f7723b83284",
       "version_major": 2,
       "version_minor": 0
      },
      "text/plain": [
       "Training (X / X Steps) (loss=X.X):   0%|                                                               | 0/60 …"
      ]
     },
     "metadata": {},
     "output_type": "display_data"
    },
    {
     "data": {
      "application/vnd.jupyter.widget-view+json": {
       "model_id": "53f34cc72c634d44a7b98c6a904b676f",
       "version_major": 2,
       "version_minor": 0
      },
      "text/plain": [
       "Training (X / X Steps) (loss=X.X):   0%|                                                               | 0/60 …"
      ]
     },
     "metadata": {},
     "output_type": "display_data"
    },
    {
     "data": {
      "application/vnd.jupyter.widget-view+json": {
       "model_id": "aa90570d5093400ea3217da7ba880349",
       "version_major": 2,
       "version_minor": 0
      },
      "text/plain": [
       "Training (X / X Steps) (loss=X.X):   0%|                                                               | 0/60 …"
      ]
     },
     "metadata": {},
     "output_type": "display_data"
    },
    {
     "data": {
      "application/vnd.jupyter.widget-view+json": {
       "model_id": "4779dd84a3654c16affe8adb395fe1fd",
       "version_major": 2,
       "version_minor": 0
      },
      "text/plain": [
       "Training (X / X Steps) (loss=X.X):   0%|                                                               | 0/60 …"
      ]
     },
     "metadata": {},
     "output_type": "display_data"
    },
    {
     "data": {
      "application/vnd.jupyter.widget-view+json": {
       "model_id": "87710ccb70204f1f937d7ec2715bcf00",
       "version_major": 2,
       "version_minor": 0
      },
      "text/plain": [
       "Training (X / X Steps) (loss=X.X):   0%|                                                               | 0/60 …"
      ]
     },
     "metadata": {},
     "output_type": "display_data"
    },
    {
     "data": {
      "application/vnd.jupyter.widget-view+json": {
       "model_id": "459b84341a45494cb8d850960950d152",
       "version_major": 2,
       "version_minor": 0
      },
      "text/plain": [
       "Validate (X / X Steps) (dice=X.X):   0%|                                                               | 0/35 …"
      ]
     },
     "metadata": {},
     "output_type": "display_data"
    },
    {
     "name": "stdout",
     "output_type": "stream",
     "text": [
      "Model Was Saved ! Current Best Avg. Dice: 0.4645528495311737 Current Avg. Dice: 0.4645528495311737\n"
     ]
    },
    {
     "data": {
      "application/vnd.jupyter.widget-view+json": {
       "model_id": "7c5f0362c3af4c278f1f756361b15e8e",
       "version_major": 2,
       "version_minor": 0
      },
      "text/plain": [
       "Training (X / X Steps) (loss=X.X):   0%|                                                               | 0/60 …"
      ]
     },
     "metadata": {},
     "output_type": "display_data"
    },
    {
     "data": {
      "application/vnd.jupyter.widget-view+json": {
       "model_id": "9a6a8b4843384884837471b731fca798",
       "version_major": 2,
       "version_minor": 0
      },
      "text/plain": [
       "Training (X / X Steps) (loss=X.X):   0%|                                                               | 0/60 …"
      ]
     },
     "metadata": {},
     "output_type": "display_data"
    },
    {
     "data": {
      "application/vnd.jupyter.widget-view+json": {
       "model_id": "f6da8bfe362a4a36820f55df97e9abe6",
       "version_major": 2,
       "version_minor": 0
      },
      "text/plain": [
       "Training (X / X Steps) (loss=X.X):   0%|                                                               | 0/60 …"
      ]
     },
     "metadata": {},
     "output_type": "display_data"
    },
    {
     "data": {
      "application/vnd.jupyter.widget-view+json": {
       "model_id": "653bdfa74dca4cceb641acba7da0661f",
       "version_major": 2,
       "version_minor": 0
      },
      "text/plain": [
       "Training (X / X Steps) (loss=X.X):   0%|                                                               | 0/60 …"
      ]
     },
     "metadata": {},
     "output_type": "display_data"
    },
    {
     "data": {
      "application/vnd.jupyter.widget-view+json": {
       "model_id": "7a0bbf86fc854015b5b74af8a2183a13",
       "version_major": 2,
       "version_minor": 0
      },
      "text/plain": [
       "Training (X / X Steps) (loss=X.X):   0%|                                                               | 0/60 …"
      ]
     },
     "metadata": {},
     "output_type": "display_data"
    },
    {
     "data": {
      "application/vnd.jupyter.widget-view+json": {
       "model_id": "12413616f82e46b2849e9bac22ba87ad",
       "version_major": 2,
       "version_minor": 0
      },
      "text/plain": [
       "Validate (X / X Steps) (dice=X.X):   0%|                                                               | 0/35 …"
      ]
     },
     "metadata": {},
     "output_type": "display_data"
    },
    {
     "name": "stdout",
     "output_type": "stream",
     "text": [
      "Model Was Saved ! Current Best Avg. Dice: 0.4663466215133667 Current Avg. Dice: 0.4663466215133667\n"
     ]
    },
    {
     "data": {
      "application/vnd.jupyter.widget-view+json": {
       "model_id": "86a12feaf45f487c9d1a708b9d91f511",
       "version_major": 2,
       "version_minor": 0
      },
      "text/plain": [
       "Training (X / X Steps) (loss=X.X):   0%|                                                               | 0/60 …"
      ]
     },
     "metadata": {},
     "output_type": "display_data"
    },
    {
     "data": {
      "application/vnd.jupyter.widget-view+json": {
       "model_id": "b3344c8cb2304a6587ef917b0e72aa83",
       "version_major": 2,
       "version_minor": 0
      },
      "text/plain": [
       "Training (X / X Steps) (loss=X.X):   0%|                                                               | 0/60 …"
      ]
     },
     "metadata": {},
     "output_type": "display_data"
    },
    {
     "data": {
      "application/vnd.jupyter.widget-view+json": {
       "model_id": "cccf2b99494d4a7c8e901f332f96b697",
       "version_major": 2,
       "version_minor": 0
      },
      "text/plain": [
       "Training (X / X Steps) (loss=X.X):   0%|                                                               | 0/60 …"
      ]
     },
     "metadata": {},
     "output_type": "display_data"
    },
    {
     "data": {
      "application/vnd.jupyter.widget-view+json": {
       "model_id": "5560541ea3944a349dfd3d352ad026d7",
       "version_major": 2,
       "version_minor": 0
      },
      "text/plain": [
       "Training (X / X Steps) (loss=X.X):   0%|                                                               | 0/60 …"
      ]
     },
     "metadata": {},
     "output_type": "display_data"
    },
    {
     "data": {
      "application/vnd.jupyter.widget-view+json": {
       "model_id": "c293a97d94a0498a876644e0965f7e50",
       "version_major": 2,
       "version_minor": 0
      },
      "text/plain": [
       "Training (X / X Steps) (loss=X.X):   0%|                                                               | 0/60 …"
      ]
     },
     "metadata": {},
     "output_type": "display_data"
    },
    {
     "data": {
      "application/vnd.jupyter.widget-view+json": {
       "model_id": "2b4db4a566bc44c0a4f81fff46121699",
       "version_major": 2,
       "version_minor": 0
      },
      "text/plain": [
       "Validate (X / X Steps) (dice=X.X):   0%|                                                               | 0/35 …"
      ]
     },
     "metadata": {},
     "output_type": "display_data"
    },
    {
     "name": "stdout",
     "output_type": "stream",
     "text": [
      "Model Was Not Saved ! Current Best Avg. Dice: 0.4663466215133667 Current Avg. Dice: 0.45992323756217957\n"
     ]
    },
    {
     "data": {
      "application/vnd.jupyter.widget-view+json": {
       "model_id": "73a3afc1108e475d820650cc68865521",
       "version_major": 2,
       "version_minor": 0
      },
      "text/plain": [
       "Training (X / X Steps) (loss=X.X):   0%|                                                               | 0/60 …"
      ]
     },
     "metadata": {},
     "output_type": "display_data"
    },
    {
     "data": {
      "application/vnd.jupyter.widget-view+json": {
       "model_id": "d946195dbe3046b2948e876d9037a704",
       "version_major": 2,
       "version_minor": 0
      },
      "text/plain": [
       "Training (X / X Steps) (loss=X.X):   0%|                                                               | 0/60 …"
      ]
     },
     "metadata": {},
     "output_type": "display_data"
    },
    {
     "data": {
      "application/vnd.jupyter.widget-view+json": {
       "model_id": "64010f3f9b7d471eb027241326969610",
       "version_major": 2,
       "version_minor": 0
      },
      "text/plain": [
       "Training (X / X Steps) (loss=X.X):   0%|                                                               | 0/60 …"
      ]
     },
     "metadata": {},
     "output_type": "display_data"
    },
    {
     "data": {
      "application/vnd.jupyter.widget-view+json": {
       "model_id": "e1126519ba1f494081e689d93607f68b",
       "version_major": 2,
       "version_minor": 0
      },
      "text/plain": [
       "Training (X / X Steps) (loss=X.X):   0%|                                                               | 0/60 …"
      ]
     },
     "metadata": {},
     "output_type": "display_data"
    },
    {
     "data": {
      "application/vnd.jupyter.widget-view+json": {
       "model_id": "65718aa00b474051a82fe9d1f46ec91d",
       "version_major": 2,
       "version_minor": 0
      },
      "text/plain": [
       "Training (X / X Steps) (loss=X.X):   0%|                                                               | 0/60 …"
      ]
     },
     "metadata": {},
     "output_type": "display_data"
    },
    {
     "data": {
      "application/vnd.jupyter.widget-view+json": {
       "model_id": "bc992f76459041bc890fe57c5d7fffc4",
       "version_major": 2,
       "version_minor": 0
      },
      "text/plain": [
       "Validate (X / X Steps) (dice=X.X):   0%|                                                               | 0/35 …"
      ]
     },
     "metadata": {},
     "output_type": "display_data"
    },
    {
     "name": "stdout",
     "output_type": "stream",
     "text": [
      "Model Was Not Saved ! Current Best Avg. Dice: 0.4663466215133667 Current Avg. Dice: 0.45512741804122925\n"
     ]
    },
    {
     "data": {
      "application/vnd.jupyter.widget-view+json": {
       "model_id": "b8a7f98561e44a518157357e4882933c",
       "version_major": 2,
       "version_minor": 0
      },
      "text/plain": [
       "Training (X / X Steps) (loss=X.X):   0%|                                                               | 0/60 …"
      ]
     },
     "metadata": {},
     "output_type": "display_data"
    },
    {
     "data": {
      "application/vnd.jupyter.widget-view+json": {
       "model_id": "e47b7a9e971d4705877dfbcf5dd6513b",
       "version_major": 2,
       "version_minor": 0
      },
      "text/plain": [
       "Training (X / X Steps) (loss=X.X):   0%|                                                               | 0/60 …"
      ]
     },
     "metadata": {},
     "output_type": "display_data"
    },
    {
     "data": {
      "application/vnd.jupyter.widget-view+json": {
       "model_id": "c063f867dfc24c4f8f85c30668efa0ff",
       "version_major": 2,
       "version_minor": 0
      },
      "text/plain": [
       "Training (X / X Steps) (loss=X.X):   0%|                                                               | 0/60 …"
      ]
     },
     "metadata": {},
     "output_type": "display_data"
    },
    {
     "data": {
      "application/vnd.jupyter.widget-view+json": {
       "model_id": "382167baf46b41d09daa8c85a5fa46fd",
       "version_major": 2,
       "version_minor": 0
      },
      "text/plain": [
       "Training (X / X Steps) (loss=X.X):   0%|                                                               | 0/60 …"
      ]
     },
     "metadata": {},
     "output_type": "display_data"
    },
    {
     "data": {
      "application/vnd.jupyter.widget-view+json": {
       "model_id": "72c4722b84fd4502b90704d2cb55d11f",
       "version_major": 2,
       "version_minor": 0
      },
      "text/plain": [
       "Training (X / X Steps) (loss=X.X):   0%|                                                               | 0/60 …"
      ]
     },
     "metadata": {},
     "output_type": "display_data"
    },
    {
     "data": {
      "application/vnd.jupyter.widget-view+json": {
       "model_id": "9c114718138d40148c66ab75dcae7c7a",
       "version_major": 2,
       "version_minor": 0
      },
      "text/plain": [
       "Validate (X / X Steps) (dice=X.X):   0%|                                                               | 0/35 …"
      ]
     },
     "metadata": {},
     "output_type": "display_data"
    },
    {
     "name": "stdout",
     "output_type": "stream",
     "text": [
      "Model Was Not Saved ! Current Best Avg. Dice: 0.4663466215133667 Current Avg. Dice: 0.4596395790576935\n"
     ]
    },
    {
     "data": {
      "application/vnd.jupyter.widget-view+json": {
       "model_id": "26591fa52547436ab7e11c8e8aaa0823",
       "version_major": 2,
       "version_minor": 0
      },
      "text/plain": [
       "Training (X / X Steps) (loss=X.X):   0%|                                                               | 0/60 …"
      ]
     },
     "metadata": {},
     "output_type": "display_data"
    },
    {
     "data": {
      "application/vnd.jupyter.widget-view+json": {
       "model_id": "66417d6b1c8b4302a29cf0330976c3cd",
       "version_major": 2,
       "version_minor": 0
      },
      "text/plain": [
       "Training (X / X Steps) (loss=X.X):   0%|                                                               | 0/60 …"
      ]
     },
     "metadata": {},
     "output_type": "display_data"
    },
    {
     "data": {
      "application/vnd.jupyter.widget-view+json": {
       "model_id": "12739f90dbeb444da5408f6740d4f37a",
       "version_major": 2,
       "version_minor": 0
      },
      "text/plain": [
       "Training (X / X Steps) (loss=X.X):   0%|                                                               | 0/60 …"
      ]
     },
     "metadata": {},
     "output_type": "display_data"
    },
    {
     "data": {
      "application/vnd.jupyter.widget-view+json": {
       "model_id": "a5e83ddc74e84be5baa357eb26f63151",
       "version_major": 2,
       "version_minor": 0
      },
      "text/plain": [
       "Training (X / X Steps) (loss=X.X):   0%|                                                               | 0/60 …"
      ]
     },
     "metadata": {},
     "output_type": "display_data"
    },
    {
     "data": {
      "application/vnd.jupyter.widget-view+json": {
       "model_id": "4a7ddf26945e496fbc30445c38fc7d3b",
       "version_major": 2,
       "version_minor": 0
      },
      "text/plain": [
       "Training (X / X Steps) (loss=X.X):   0%|                                                               | 0/60 …"
      ]
     },
     "metadata": {},
     "output_type": "display_data"
    },
    {
     "data": {
      "application/vnd.jupyter.widget-view+json": {
       "model_id": "617b525960294d69ac1daf9f8b345c17",
       "version_major": 2,
       "version_minor": 0
      },
      "text/plain": [
       "Validate (X / X Steps) (dice=X.X):   0%|                                                               | 0/35 …"
      ]
     },
     "metadata": {},
     "output_type": "display_data"
    },
    {
     "name": "stdout",
     "output_type": "stream",
     "text": [
      "Model Was Not Saved ! Current Best Avg. Dice: 0.4663466215133667 Current Avg. Dice: 0.4574952721595764\n"
     ]
    },
    {
     "data": {
      "application/vnd.jupyter.widget-view+json": {
       "model_id": "eef45ee6bb204df5b26c9026c1209fd3",
       "version_major": 2,
       "version_minor": 0
      },
      "text/plain": [
       "Training (X / X Steps) (loss=X.X):   0%|                                                               | 0/60 …"
      ]
     },
     "metadata": {},
     "output_type": "display_data"
    },
    {
     "data": {
      "application/vnd.jupyter.widget-view+json": {
       "model_id": "5572f1f15f6143cc8633b6410701224b",
       "version_major": 2,
       "version_minor": 0
      },
      "text/plain": [
       "Training (X / X Steps) (loss=X.X):   0%|                                                               | 0/60 …"
      ]
     },
     "metadata": {},
     "output_type": "display_data"
    },
    {
     "data": {
      "application/vnd.jupyter.widget-view+json": {
       "model_id": "9ce6be70d55e4509ae0c8bfd763e3e1c",
       "version_major": 2,
       "version_minor": 0
      },
      "text/plain": [
       "Training (X / X Steps) (loss=X.X):   0%|                                                               | 0/60 …"
      ]
     },
     "metadata": {},
     "output_type": "display_data"
    },
    {
     "data": {
      "application/vnd.jupyter.widget-view+json": {
       "model_id": "276c83cbc53d46e38b6f4128b3b2cd37",
       "version_major": 2,
       "version_minor": 0
      },
      "text/plain": [
       "Training (X / X Steps) (loss=X.X):   0%|                                                               | 0/60 …"
      ]
     },
     "metadata": {},
     "output_type": "display_data"
    },
    {
     "data": {
      "application/vnd.jupyter.widget-view+json": {
       "model_id": "da858e44fd5045f38fb039c6f0d560b1",
       "version_major": 2,
       "version_minor": 0
      },
      "text/plain": [
       "Training (X / X Steps) (loss=X.X):   0%|                                                               | 0/60 …"
      ]
     },
     "metadata": {},
     "output_type": "display_data"
    },
    {
     "data": {
      "application/vnd.jupyter.widget-view+json": {
       "model_id": "d52038e3d42d4994a4122496c9d99725",
       "version_major": 2,
       "version_minor": 0
      },
      "text/plain": [
       "Validate (X / X Steps) (dice=X.X):   0%|                                                               | 0/35 …"
      ]
     },
     "metadata": {},
     "output_type": "display_data"
    },
    {
     "name": "stdout",
     "output_type": "stream",
     "text": [
      "Model Was Not Saved ! Current Best Avg. Dice: 0.4663466215133667 Current Avg. Dice: 0.4617058336734772\n"
     ]
    },
    {
     "data": {
      "application/vnd.jupyter.widget-view+json": {
       "model_id": "5d3fe1185ea041ee88768c0326ec5e27",
       "version_major": 2,
       "version_minor": 0
      },
      "text/plain": [
       "Training (X / X Steps) (loss=X.X):   0%|                                                               | 0/60 …"
      ]
     },
     "metadata": {},
     "output_type": "display_data"
    },
    {
     "data": {
      "application/vnd.jupyter.widget-view+json": {
       "model_id": "2e7505a24ce44440a510ecef293d296a",
       "version_major": 2,
       "version_minor": 0
      },
      "text/plain": [
       "Training (X / X Steps) (loss=X.X):   0%|                                                               | 0/60 …"
      ]
     },
     "metadata": {},
     "output_type": "display_data"
    },
    {
     "data": {
      "application/vnd.jupyter.widget-view+json": {
       "model_id": "6f9b6978b47f4554b18529644a9f4d83",
       "version_major": 2,
       "version_minor": 0
      },
      "text/plain": [
       "Training (X / X Steps) (loss=X.X):   0%|                                                               | 0/60 …"
      ]
     },
     "metadata": {},
     "output_type": "display_data"
    },
    {
     "data": {
      "application/vnd.jupyter.widget-view+json": {
       "model_id": "d31135b42fed48c794c88c11280633ad",
       "version_major": 2,
       "version_minor": 0
      },
      "text/plain": [
       "Training (X / X Steps) (loss=X.X):   0%|                                                               | 0/60 …"
      ]
     },
     "metadata": {},
     "output_type": "display_data"
    },
    {
     "data": {
      "application/vnd.jupyter.widget-view+json": {
       "model_id": "7560b2463cdf428fa5563cd4764611f6",
       "version_major": 2,
       "version_minor": 0
      },
      "text/plain": [
       "Training (X / X Steps) (loss=X.X):   0%|                                                               | 0/60 …"
      ]
     },
     "metadata": {},
     "output_type": "display_data"
    },
    {
     "data": {
      "application/vnd.jupyter.widget-view+json": {
       "model_id": "d5d5518951864fffaa84d1e58cffcb79",
       "version_major": 2,
       "version_minor": 0
      },
      "text/plain": [
       "Validate (X / X Steps) (dice=X.X):   0%|                                                               | 0/35 …"
      ]
     },
     "metadata": {},
     "output_type": "display_data"
    },
    {
     "name": "stdout",
     "output_type": "stream",
     "text": [
      "Model Was Not Saved ! Current Best Avg. Dice: 0.4663466215133667 Current Avg. Dice: 0.46320638060569763\n"
     ]
    },
    {
     "data": {
      "application/vnd.jupyter.widget-view+json": {
       "model_id": "1de71d28217b492db45d964cc04e46d3",
       "version_major": 2,
       "version_minor": 0
      },
      "text/plain": [
       "Training (X / X Steps) (loss=X.X):   0%|                                                               | 0/60 …"
      ]
     },
     "metadata": {},
     "output_type": "display_data"
    },
    {
     "data": {
      "application/vnd.jupyter.widget-view+json": {
       "model_id": "655365ccbe92455e9fdeea253b099351",
       "version_major": 2,
       "version_minor": 0
      },
      "text/plain": [
       "Training (X / X Steps) (loss=X.X):   0%|                                                               | 0/60 …"
      ]
     },
     "metadata": {},
     "output_type": "display_data"
    },
    {
     "data": {
      "application/vnd.jupyter.widget-view+json": {
       "model_id": "0fc9da631d8b415e96c3e546aa01fad5",
       "version_major": 2,
       "version_minor": 0
      },
      "text/plain": [
       "Training (X / X Steps) (loss=X.X):   0%|                                                               | 0/60 …"
      ]
     },
     "metadata": {},
     "output_type": "display_data"
    },
    {
     "data": {
      "application/vnd.jupyter.widget-view+json": {
       "model_id": "a006a582f4594f6da4c7310d9cfdcb5c",
       "version_major": 2,
       "version_minor": 0
      },
      "text/plain": [
       "Training (X / X Steps) (loss=X.X):   0%|                                                               | 0/60 …"
      ]
     },
     "metadata": {},
     "output_type": "display_data"
    },
    {
     "data": {
      "application/vnd.jupyter.widget-view+json": {
       "model_id": "4f48047f079d403181c5b3a530fd6057",
       "version_major": 2,
       "version_minor": 0
      },
      "text/plain": [
       "Training (X / X Steps) (loss=X.X):   0%|                                                               | 0/60 …"
      ]
     },
     "metadata": {},
     "output_type": "display_data"
    },
    {
     "data": {
      "application/vnd.jupyter.widget-view+json": {
       "model_id": "3a577fd3cc334dfaaf27936a58bc061f",
       "version_major": 2,
       "version_minor": 0
      },
      "text/plain": [
       "Validate (X / X Steps) (dice=X.X):   0%|                                                               | 0/35 …"
      ]
     },
     "metadata": {},
     "output_type": "display_data"
    },
    {
     "name": "stdout",
     "output_type": "stream",
     "text": [
      "Model Was Not Saved ! Current Best Avg. Dice: 0.4663466215133667 Current Avg. Dice: 0.46222686767578125\n"
     ]
    },
    {
     "data": {
      "application/vnd.jupyter.widget-view+json": {
       "model_id": "35406aa65ff8483994627c571ddf914b",
       "version_major": 2,
       "version_minor": 0
      },
      "text/plain": [
       "Training (X / X Steps) (loss=X.X):   0%|                                                               | 0/60 …"
      ]
     },
     "metadata": {},
     "output_type": "display_data"
    },
    {
     "data": {
      "application/vnd.jupyter.widget-view+json": {
       "model_id": "2a48872c69234cd6be29c92a2a2bae83",
       "version_major": 2,
       "version_minor": 0
      },
      "text/plain": [
       "Training (X / X Steps) (loss=X.X):   0%|                                                               | 0/60 …"
      ]
     },
     "metadata": {},
     "output_type": "display_data"
    },
    {
     "data": {
      "application/vnd.jupyter.widget-view+json": {
       "model_id": "a43c3c0161364140b737b21ce6b63639",
       "version_major": 2,
       "version_minor": 0
      },
      "text/plain": [
       "Training (X / X Steps) (loss=X.X):   0%|                                                               | 0/60 …"
      ]
     },
     "metadata": {},
     "output_type": "display_data"
    },
    {
     "data": {
      "application/vnd.jupyter.widget-view+json": {
       "model_id": "fb3c67bd41bc492db393b59f2a926f3d",
       "version_major": 2,
       "version_minor": 0
      },
      "text/plain": [
       "Training (X / X Steps) (loss=X.X):   0%|                                                               | 0/60 …"
      ]
     },
     "metadata": {},
     "output_type": "display_data"
    },
    {
     "data": {
      "application/vnd.jupyter.widget-view+json": {
       "model_id": "5bebe7237e714d91ac5fb3fcb052c507",
       "version_major": 2,
       "version_minor": 0
      },
      "text/plain": [
       "Training (X / X Steps) (loss=X.X):   0%|                                                               | 0/60 …"
      ]
     },
     "metadata": {},
     "output_type": "display_data"
    },
    {
     "data": {
      "application/vnd.jupyter.widget-view+json": {
       "model_id": "26ee830e36c140feae9a1b2f542c390d",
       "version_major": 2,
       "version_minor": 0
      },
      "text/plain": [
       "Validate (X / X Steps) (dice=X.X):   0%|                                                               | 0/35 …"
      ]
     },
     "metadata": {},
     "output_type": "display_data"
    },
    {
     "name": "stdout",
     "output_type": "stream",
     "text": [
      "Model Was Not Saved ! Current Best Avg. Dice: 0.4663466215133667 Current Avg. Dice: 0.46335095167160034\n"
     ]
    },
    {
     "data": {
      "application/vnd.jupyter.widget-view+json": {
       "model_id": "f2d167264d474ac6b4fed0f78aff1dba",
       "version_major": 2,
       "version_minor": 0
      },
      "text/plain": [
       "Training (X / X Steps) (loss=X.X):   0%|                                                               | 0/60 …"
      ]
     },
     "metadata": {},
     "output_type": "display_data"
    },
    {
     "data": {
      "application/vnd.jupyter.widget-view+json": {
       "model_id": "e3f4b2f3688143d99c5a913a0844b8da",
       "version_major": 2,
       "version_minor": 0
      },
      "text/plain": [
       "Training (X / X Steps) (loss=X.X):   0%|                                                               | 0/60 …"
      ]
     },
     "metadata": {},
     "output_type": "display_data"
    },
    {
     "data": {
      "application/vnd.jupyter.widget-view+json": {
       "model_id": "7c0959139fe1431b82702a1ab609c448",
       "version_major": 2,
       "version_minor": 0
      },
      "text/plain": [
       "Training (X / X Steps) (loss=X.X):   0%|                                                               | 0/60 …"
      ]
     },
     "metadata": {},
     "output_type": "display_data"
    },
    {
     "data": {
      "application/vnd.jupyter.widget-view+json": {
       "model_id": "9813f607e4464e699e4db74d385cafbd",
       "version_major": 2,
       "version_minor": 0
      },
      "text/plain": [
       "Training (X / X Steps) (loss=X.X):   0%|                                                               | 0/60 …"
      ]
     },
     "metadata": {},
     "output_type": "display_data"
    },
    {
     "data": {
      "application/vnd.jupyter.widget-view+json": {
       "model_id": "63fc86b1b5d24ffa93d183494754f758",
       "version_major": 2,
       "version_minor": 0
      },
      "text/plain": [
       "Training (X / X Steps) (loss=X.X):   0%|                                                               | 0/60 …"
      ]
     },
     "metadata": {},
     "output_type": "display_data"
    },
    {
     "data": {
      "application/vnd.jupyter.widget-view+json": {
       "model_id": "ecb15913b71748e49d6f6b41f37ff6b7",
       "version_major": 2,
       "version_minor": 0
      },
      "text/plain": [
       "Validate (X / X Steps) (dice=X.X):   0%|                                                               | 0/35 …"
      ]
     },
     "metadata": {},
     "output_type": "display_data"
    },
    {
     "name": "stdout",
     "output_type": "stream",
     "text": [
      "Model Was Not Saved ! Current Best Avg. Dice: 0.4663466215133667 Current Avg. Dice: 0.4632554054260254\n"
     ]
    },
    {
     "data": {
      "application/vnd.jupyter.widget-view+json": {
       "model_id": "6e31900d200f467fbf8f326b989464a4",
       "version_major": 2,
       "version_minor": 0
      },
      "text/plain": [
       "Training (X / X Steps) (loss=X.X):   0%|                                                               | 0/60 …"
      ]
     },
     "metadata": {},
     "output_type": "display_data"
    },
    {
     "data": {
      "application/vnd.jupyter.widget-view+json": {
       "model_id": "1c85adbe8be24455a898d30f7674cc20",
       "version_major": 2,
       "version_minor": 0
      },
      "text/plain": [
       "Training (X / X Steps) (loss=X.X):   0%|                                                               | 0/60 …"
      ]
     },
     "metadata": {},
     "output_type": "display_data"
    },
    {
     "data": {
      "application/vnd.jupyter.widget-view+json": {
       "model_id": "85e3f9421eb6472ab3fc007a127febc6",
       "version_major": 2,
       "version_minor": 0
      },
      "text/plain": [
       "Training (X / X Steps) (loss=X.X):   0%|                                                               | 0/60 …"
      ]
     },
     "metadata": {},
     "output_type": "display_data"
    },
    {
     "data": {
      "application/vnd.jupyter.widget-view+json": {
       "model_id": "b432b60160304331a67702d74dc926e7",
       "version_major": 2,
       "version_minor": 0
      },
      "text/plain": [
       "Training (X / X Steps) (loss=X.X):   0%|                                                               | 0/60 …"
      ]
     },
     "metadata": {},
     "output_type": "display_data"
    },
    {
     "data": {
      "application/vnd.jupyter.widget-view+json": {
       "model_id": "2c7262bbd31d4cd894a625e62f807022",
       "version_major": 2,
       "version_minor": 0
      },
      "text/plain": [
       "Training (X / X Steps) (loss=X.X):   0%|                                                               | 0/60 …"
      ]
     },
     "metadata": {},
     "output_type": "display_data"
    },
    {
     "data": {
      "application/vnd.jupyter.widget-view+json": {
       "model_id": "269b007fd9c147ce95e863549339ea2c",
       "version_major": 2,
       "version_minor": 0
      },
      "text/plain": [
       "Validate (X / X Steps) (dice=X.X):   0%|                                                               | 0/35 …"
      ]
     },
     "metadata": {},
     "output_type": "display_data"
    },
    {
     "name": "stdout",
     "output_type": "stream",
     "text": [
      "Model Was Not Saved ! Current Best Avg. Dice: 0.4663466215133667 Current Avg. Dice: 0.4576709270477295\n"
     ]
    },
    {
     "data": {
      "application/vnd.jupyter.widget-view+json": {
       "model_id": "e7e6ae57d6924686bf216ae36094560e",
       "version_major": 2,
       "version_minor": 0
      },
      "text/plain": [
       "Training (X / X Steps) (loss=X.X):   0%|                                                               | 0/60 …"
      ]
     },
     "metadata": {},
     "output_type": "display_data"
    },
    {
     "data": {
      "application/vnd.jupyter.widget-view+json": {
       "model_id": "11c5cb638c0141e883e71640ce538dec",
       "version_major": 2,
       "version_minor": 0
      },
      "text/plain": [
       "Training (X / X Steps) (loss=X.X):   0%|                                                               | 0/60 …"
      ]
     },
     "metadata": {},
     "output_type": "display_data"
    },
    {
     "data": {
      "application/vnd.jupyter.widget-view+json": {
       "model_id": "3612d01da65743a8a41ae760672ae7f6",
       "version_major": 2,
       "version_minor": 0
      },
      "text/plain": [
       "Training (X / X Steps) (loss=X.X):   0%|                                                               | 0/60 …"
      ]
     },
     "metadata": {},
     "output_type": "display_data"
    },
    {
     "data": {
      "application/vnd.jupyter.widget-view+json": {
       "model_id": "12a05f8dcbd64ba1bbac3d7e30c9106c",
       "version_major": 2,
       "version_minor": 0
      },
      "text/plain": [
       "Training (X / X Steps) (loss=X.X):   0%|                                                               | 0/60 …"
      ]
     },
     "metadata": {},
     "output_type": "display_data"
    },
    {
     "data": {
      "application/vnd.jupyter.widget-view+json": {
       "model_id": "0b2c2785e52541bea70678e54641af4e",
       "version_major": 2,
       "version_minor": 0
      },
      "text/plain": [
       "Training (X / X Steps) (loss=X.X):   0%|                                                               | 0/60 …"
      ]
     },
     "metadata": {},
     "output_type": "display_data"
    },
    {
     "data": {
      "application/vnd.jupyter.widget-view+json": {
       "model_id": "27784ca9bb714425b6efad4c859b7e5e",
       "version_major": 2,
       "version_minor": 0
      },
      "text/plain": [
       "Validate (X / X Steps) (dice=X.X):   0%|                                                               | 0/35 …"
      ]
     },
     "metadata": {},
     "output_type": "display_data"
    },
    {
     "name": "stdout",
     "output_type": "stream",
     "text": [
      "Model Was Not Saved ! Current Best Avg. Dice: 0.4663466215133667 Current Avg. Dice: 0.46365487575531006\n"
     ]
    },
    {
     "data": {
      "application/vnd.jupyter.widget-view+json": {
       "model_id": "f4a942b423b34242b3bfcfbfec93cd3c",
       "version_major": 2,
       "version_minor": 0
      },
      "text/plain": [
       "Training (X / X Steps) (loss=X.X):   0%|                                                               | 0/60 …"
      ]
     },
     "metadata": {},
     "output_type": "display_data"
    },
    {
     "data": {
      "application/vnd.jupyter.widget-view+json": {
       "model_id": "cf2af378ad774b4abadca0d6ee2c55be",
       "version_major": 2,
       "version_minor": 0
      },
      "text/plain": [
       "Training (X / X Steps) (loss=X.X):   0%|                                                               | 0/60 …"
      ]
     },
     "metadata": {},
     "output_type": "display_data"
    },
    {
     "data": {
      "application/vnd.jupyter.widget-view+json": {
       "model_id": "75922533001b45df93366305cd10f3df",
       "version_major": 2,
       "version_minor": 0
      },
      "text/plain": [
       "Training (X / X Steps) (loss=X.X):   0%|                                                               | 0/60 …"
      ]
     },
     "metadata": {},
     "output_type": "display_data"
    },
    {
     "data": {
      "application/vnd.jupyter.widget-view+json": {
       "model_id": "453746e231bd48699c38a00d66e904ed",
       "version_major": 2,
       "version_minor": 0
      },
      "text/plain": [
       "Training (X / X Steps) (loss=X.X):   0%|                                                               | 0/60 …"
      ]
     },
     "metadata": {},
     "output_type": "display_data"
    },
    {
     "data": {
      "application/vnd.jupyter.widget-view+json": {
       "model_id": "fea4f2ce6a374c0aa6666f85410d8211",
       "version_major": 2,
       "version_minor": 0
      },
      "text/plain": [
       "Training (X / X Steps) (loss=X.X):   0%|                                                               | 0/60 …"
      ]
     },
     "metadata": {},
     "output_type": "display_data"
    },
    {
     "data": {
      "application/vnd.jupyter.widget-view+json": {
       "model_id": "22489542dda24b2f90e5a946a685d9c2",
       "version_major": 2,
       "version_minor": 0
      },
      "text/plain": [
       "Validate (X / X Steps) (dice=X.X):   0%|                                                               | 0/35 …"
      ]
     },
     "metadata": {},
     "output_type": "display_data"
    },
    {
     "name": "stdout",
     "output_type": "stream",
     "text": [
      "Model Was Not Saved ! Current Best Avg. Dice: 0.4663466215133667 Current Avg. Dice: 0.46093031764030457\n"
     ]
    },
    {
     "data": {
      "application/vnd.jupyter.widget-view+json": {
       "model_id": "3d2352fdceca4bc78ad5335a6252a1b3",
       "version_major": 2,
       "version_minor": 0
      },
      "text/plain": [
       "Training (X / X Steps) (loss=X.X):   0%|                                                               | 0/60 …"
      ]
     },
     "metadata": {},
     "output_type": "display_data"
    },
    {
     "data": {
      "application/vnd.jupyter.widget-view+json": {
       "model_id": "bd7ffd74a6e848b08146b3af444be00f",
       "version_major": 2,
       "version_minor": 0
      },
      "text/plain": [
       "Training (X / X Steps) (loss=X.X):   0%|                                                               | 0/60 …"
      ]
     },
     "metadata": {},
     "output_type": "display_data"
    },
    {
     "data": {
      "application/vnd.jupyter.widget-view+json": {
       "model_id": "ed7a761b6e2f428299a6e6bf054c5690",
       "version_major": 2,
       "version_minor": 0
      },
      "text/plain": [
       "Training (X / X Steps) (loss=X.X):   0%|                                                               | 0/60 …"
      ]
     },
     "metadata": {},
     "output_type": "display_data"
    },
    {
     "data": {
      "application/vnd.jupyter.widget-view+json": {
       "model_id": "2663cdf6c97a4cffac4b98759d132c99",
       "version_major": 2,
       "version_minor": 0
      },
      "text/plain": [
       "Training (X / X Steps) (loss=X.X):   0%|                                                               | 0/60 …"
      ]
     },
     "metadata": {},
     "output_type": "display_data"
    },
    {
     "data": {
      "application/vnd.jupyter.widget-view+json": {
       "model_id": "d92733105b6e42c9b842825f01ffa9e4",
       "version_major": 2,
       "version_minor": 0
      },
      "text/plain": [
       "Training (X / X Steps) (loss=X.X):   0%|                                                               | 0/60 …"
      ]
     },
     "metadata": {},
     "output_type": "display_data"
    },
    {
     "data": {
      "application/vnd.jupyter.widget-view+json": {
       "model_id": "f34f3a3457004bdd84f9bd9e2982b701",
       "version_major": 2,
       "version_minor": 0
      },
      "text/plain": [
       "Validate (X / X Steps) (dice=X.X):   0%|                                                               | 0/35 …"
      ]
     },
     "metadata": {},
     "output_type": "display_data"
    },
    {
     "name": "stdout",
     "output_type": "stream",
     "text": [
      "Model Was Not Saved ! Current Best Avg. Dice: 0.4663466215133667 Current Avg. Dice: 0.46238255500793457\n"
     ]
    },
    {
     "data": {
      "application/vnd.jupyter.widget-view+json": {
       "model_id": "5823795ee1754e5a8b5d5a7b7214e719",
       "version_major": 2,
       "version_minor": 0
      },
      "text/plain": [
       "Training (X / X Steps) (loss=X.X):   0%|                                                               | 0/60 …"
      ]
     },
     "metadata": {},
     "output_type": "display_data"
    },
    {
     "data": {
      "application/vnd.jupyter.widget-view+json": {
       "model_id": "8df5f7746e184cf3bdf2e5c99c3ed481",
       "version_major": 2,
       "version_minor": 0
      },
      "text/plain": [
       "Training (X / X Steps) (loss=X.X):   0%|                                                               | 0/60 …"
      ]
     },
     "metadata": {},
     "output_type": "display_data"
    },
    {
     "data": {
      "application/vnd.jupyter.widget-view+json": {
       "model_id": "9716d4514aa94077b9d21ceb7bd59f8c",
       "version_major": 2,
       "version_minor": 0
      },
      "text/plain": [
       "Training (X / X Steps) (loss=X.X):   0%|                                                               | 0/60 …"
      ]
     },
     "metadata": {},
     "output_type": "display_data"
    },
    {
     "data": {
      "application/vnd.jupyter.widget-view+json": {
       "model_id": "5a4ca263bd2c40d2a8b437620bd4d5d5",
       "version_major": 2,
       "version_minor": 0
      },
      "text/plain": [
       "Training (X / X Steps) (loss=X.X):   0%|                                                               | 0/60 …"
      ]
     },
     "metadata": {},
     "output_type": "display_data"
    },
    {
     "data": {
      "application/vnd.jupyter.widget-view+json": {
       "model_id": "7206a83efe0945a18b416dd1c32984ef",
       "version_major": 2,
       "version_minor": 0
      },
      "text/plain": [
       "Training (X / X Steps) (loss=X.X):   0%|                                                               | 0/60 …"
      ]
     },
     "metadata": {},
     "output_type": "display_data"
    },
    {
     "data": {
      "application/vnd.jupyter.widget-view+json": {
       "model_id": "a2a605aed610427bab05b20f6991ee45",
       "version_major": 2,
       "version_minor": 0
      },
      "text/plain": [
       "Validate (X / X Steps) (dice=X.X):   0%|                                                               | 0/35 …"
      ]
     },
     "metadata": {},
     "output_type": "display_data"
    },
    {
     "name": "stdout",
     "output_type": "stream",
     "text": [
      "Model Was Not Saved ! Current Best Avg. Dice: 0.4663466215133667 Current Avg. Dice: 0.458578497171402\n"
     ]
    },
    {
     "data": {
      "application/vnd.jupyter.widget-view+json": {
       "model_id": "c416d31577a04112989d62ea7e64b7f9",
       "version_major": 2,
       "version_minor": 0
      },
      "text/plain": [
       "Training (X / X Steps) (loss=X.X):   0%|                                                               | 0/60 …"
      ]
     },
     "metadata": {},
     "output_type": "display_data"
    },
    {
     "name": "stderr",
     "output_type": "stream",
     "text": [
      "IOPub message rate exceeded.\n",
      "The notebook server will temporarily stop sending output\n",
      "to the client in order to avoid crashing it.\n",
      "To change this limit, set the config variable\n",
      "`--NotebookApp.iopub_msg_rate_limit`.\n",
      "\n",
      "Current values:\n",
      "NotebookApp.iopub_msg_rate_limit=1000.0 (msgs/sec)\n",
      "NotebookApp.rate_limit_window=3.0 (secs)\n",
      "\n"
     ]
    },
    {
     "data": {
      "application/vnd.jupyter.widget-view+json": {
       "model_id": "df457d5c99824e3d8a25c2be8bc9e4a7",
       "version_major": 2,
       "version_minor": 0
      },
      "text/plain": [
       "Training (X / X Steps) (loss=X.X):   0%|                                                               | 0/60 …"
      ]
     },
     "metadata": {},
     "output_type": "display_data"
    },
    {
     "data": {
      "application/vnd.jupyter.widget-view+json": {
       "model_id": "b2b4c8e6b9d244f69343779c4f5f394c",
       "version_major": 2,
       "version_minor": 0
      },
      "text/plain": [
       "Training (X / X Steps) (loss=X.X):   0%|                                                               | 0/60 …"
      ]
     },
     "metadata": {},
     "output_type": "display_data"
    },
    {
     "data": {
      "application/vnd.jupyter.widget-view+json": {
       "model_id": "f2fb05f205bc4732a25199517870881e",
       "version_major": 2,
       "version_minor": 0
      },
      "text/plain": [
       "Training (X / X Steps) (loss=X.X):   0%|                                                               | 0/60 …"
      ]
     },
     "metadata": {},
     "output_type": "display_data"
    },
    {
     "data": {
      "application/vnd.jupyter.widget-view+json": {
       "model_id": "f74c880db451468bac90f7988eea0300",
       "version_major": 2,
       "version_minor": 0
      },
      "text/plain": [
       "Training (X / X Steps) (loss=X.X):   0%|                                                               | 0/60 …"
      ]
     },
     "metadata": {},
     "output_type": "display_data"
    },
    {
     "data": {
      "application/vnd.jupyter.widget-view+json": {
       "model_id": "8c042e1bf32d426da5a57717f98c125d",
       "version_major": 2,
       "version_minor": 0
      },
      "text/plain": [
       "Validate (X / X Steps) (dice=X.X):   0%|                                                               | 0/35 …"
      ]
     },
     "metadata": {},
     "output_type": "display_data"
    },
    {
     "name": "stdout",
     "output_type": "stream",
     "text": [
      "Model Was Not Saved ! Current Best Avg. Dice: 0.4663466215133667 Current Avg. Dice: 0.4628779888153076\n"
     ]
    },
    {
     "data": {
      "application/vnd.jupyter.widget-view+json": {
       "model_id": "8d5e03c3e7b44084bc2b9ec9d23914e6",
       "version_major": 2,
       "version_minor": 0
      },
      "text/plain": [
       "Training (X / X Steps) (loss=X.X):   0%|                                                               | 0/60 …"
      ]
     },
     "metadata": {},
     "output_type": "display_data"
    },
    {
     "data": {
      "application/vnd.jupyter.widget-view+json": {
       "model_id": "099d222c0c5c45f7bae01d89716ae5e6",
       "version_major": 2,
       "version_minor": 0
      },
      "text/plain": [
       "Training (X / X Steps) (loss=X.X):   0%|                                                               | 0/60 …"
      ]
     },
     "metadata": {},
     "output_type": "display_data"
    },
    {
     "data": {
      "application/vnd.jupyter.widget-view+json": {
       "model_id": "60db434a74b14cf8a51aab6d8b867e2c",
       "version_major": 2,
       "version_minor": 0
      },
      "text/plain": [
       "Training (X / X Steps) (loss=X.X):   0%|                                                               | 0/60 …"
      ]
     },
     "metadata": {},
     "output_type": "display_data"
    },
    {
     "data": {
      "application/vnd.jupyter.widget-view+json": {
       "model_id": "e91c8add6e8d4103b50ad6c89c104366",
       "version_major": 2,
       "version_minor": 0
      },
      "text/plain": [
       "Training (X / X Steps) (loss=X.X):   0%|                                                               | 0/60 …"
      ]
     },
     "metadata": {},
     "output_type": "display_data"
    },
    {
     "data": {
      "application/vnd.jupyter.widget-view+json": {
       "model_id": "51697f2eb60f47b9b1d0a323298a77fb",
       "version_major": 2,
       "version_minor": 0
      },
      "text/plain": [
       "Training (X / X Steps) (loss=X.X):   0%|                                                               | 0/60 …"
      ]
     },
     "metadata": {},
     "output_type": "display_data"
    },
    {
     "data": {
      "application/vnd.jupyter.widget-view+json": {
       "model_id": "303d525c95e54610938635ccb3fd6705",
       "version_major": 2,
       "version_minor": 0
      },
      "text/plain": [
       "Validate (X / X Steps) (dice=X.X):   0%|                                                               | 0/35 …"
      ]
     },
     "metadata": {},
     "output_type": "display_data"
    },
    {
     "name": "stdout",
     "output_type": "stream",
     "text": [
      "Model Was Not Saved ! Current Best Avg. Dice: 0.4663466215133667 Current Avg. Dice: 0.4578474760055542\n"
     ]
    },
    {
     "data": {
      "application/vnd.jupyter.widget-view+json": {
       "model_id": "85f340bfb6ef43faa3ad4d313b495b45",
       "version_major": 2,
       "version_minor": 0
      },
      "text/plain": [
       "Training (X / X Steps) (loss=X.X):   0%|                                                               | 0/60 …"
      ]
     },
     "metadata": {},
     "output_type": "display_data"
    },
    {
     "data": {
      "application/vnd.jupyter.widget-view+json": {
       "model_id": "2015ef81f31042b682dff288817c74f0",
       "version_major": 2,
       "version_minor": 0
      },
      "text/plain": [
       "Training (X / X Steps) (loss=X.X):   0%|                                                               | 0/60 …"
      ]
     },
     "metadata": {},
     "output_type": "display_data"
    },
    {
     "data": {
      "application/vnd.jupyter.widget-view+json": {
       "model_id": "edfb7c09eb244260b44a1ee96019c6c8",
       "version_major": 2,
       "version_minor": 0
      },
      "text/plain": [
       "Training (X / X Steps) (loss=X.X):   0%|                                                               | 0/60 …"
      ]
     },
     "metadata": {},
     "output_type": "display_data"
    },
    {
     "data": {
      "application/vnd.jupyter.widget-view+json": {
       "model_id": "f533dda79969425b93bf606fbe8b991e",
       "version_major": 2,
       "version_minor": 0
      },
      "text/plain": [
       "Training (X / X Steps) (loss=X.X):   0%|                                                               | 0/60 …"
      ]
     },
     "metadata": {},
     "output_type": "display_data"
    },
    {
     "data": {
      "application/vnd.jupyter.widget-view+json": {
       "model_id": "0760902720c143e38cfef73e33ce9a9a",
       "version_major": 2,
       "version_minor": 0
      },
      "text/plain": [
       "Training (X / X Steps) (loss=X.X):   0%|                                                               | 0/60 …"
      ]
     },
     "metadata": {},
     "output_type": "display_data"
    },
    {
     "data": {
      "application/vnd.jupyter.widget-view+json": {
       "model_id": "90c6939e162145a9b9c2295d75586824",
       "version_major": 2,
       "version_minor": 0
      },
      "text/plain": [
       "Validate (X / X Steps) (dice=X.X):   0%|                                                               | 0/35 …"
      ]
     },
     "metadata": {},
     "output_type": "display_data"
    },
    {
     "name": "stdout",
     "output_type": "stream",
     "text": [
      "Model Was Not Saved ! Current Best Avg. Dice: 0.4663466215133667 Current Avg. Dice: 0.46336060762405396\n"
     ]
    },
    {
     "data": {
      "application/vnd.jupyter.widget-view+json": {
       "model_id": "511cc55fcaa447ecb04810e46cc11207",
       "version_major": 2,
       "version_minor": 0
      },
      "text/plain": [
       "Training (X / X Steps) (loss=X.X):   0%|                                                               | 0/60 …"
      ]
     },
     "metadata": {},
     "output_type": "display_data"
    },
    {
     "data": {
      "application/vnd.jupyter.widget-view+json": {
       "model_id": "ebcd0b7d6d6e443db447df037755d058",
       "version_major": 2,
       "version_minor": 0
      },
      "text/plain": [
       "Training (X / X Steps) (loss=X.X):   0%|                                                               | 0/60 …"
      ]
     },
     "metadata": {},
     "output_type": "display_data"
    },
    {
     "data": {
      "application/vnd.jupyter.widget-view+json": {
       "model_id": "b1395d96423443f78aa2053ea8bb2b3f",
       "version_major": 2,
       "version_minor": 0
      },
      "text/plain": [
       "Training (X / X Steps) (loss=X.X):   0%|                                                               | 0/60 …"
      ]
     },
     "metadata": {},
     "output_type": "display_data"
    },
    {
     "data": {
      "application/vnd.jupyter.widget-view+json": {
       "model_id": "c9acfe795c5940898553f57beb5e024d",
       "version_major": 2,
       "version_minor": 0
      },
      "text/plain": [
       "Training (X / X Steps) (loss=X.X):   0%|                                                               | 0/60 …"
      ]
     },
     "metadata": {},
     "output_type": "display_data"
    },
    {
     "data": {
      "application/vnd.jupyter.widget-view+json": {
       "model_id": "805bd29862544b0db43d0ecd629bbb64",
       "version_major": 2,
       "version_minor": 0
      },
      "text/plain": [
       "Training (X / X Steps) (loss=X.X):   0%|                                                               | 0/60 …"
      ]
     },
     "metadata": {},
     "output_type": "display_data"
    },
    {
     "data": {
      "application/vnd.jupyter.widget-view+json": {
       "model_id": "75feb7acf88f45be9dd57fc5e8f8811c",
       "version_major": 2,
       "version_minor": 0
      },
      "text/plain": [
       "Validate (X / X Steps) (dice=X.X):   0%|                                                               | 0/35 …"
      ]
     },
     "metadata": {},
     "output_type": "display_data"
    },
    {
     "name": "stdout",
     "output_type": "stream",
     "text": [
      "Model Was Not Saved ! Current Best Avg. Dice: 0.4663466215133667 Current Avg. Dice: 0.45792606472969055\n"
     ]
    },
    {
     "data": {
      "application/vnd.jupyter.widget-view+json": {
       "model_id": "050bf9a536f146ba87db9429d2883439",
       "version_major": 2,
       "version_minor": 0
      },
      "text/plain": [
       "Training (X / X Steps) (loss=X.X):   0%|                                                               | 0/60 …"
      ]
     },
     "metadata": {},
     "output_type": "display_data"
    },
    {
     "data": {
      "application/vnd.jupyter.widget-view+json": {
       "model_id": "afb706ea4d1d4e229ec137e499ffb21b",
       "version_major": 2,
       "version_minor": 0
      },
      "text/plain": [
       "Training (X / X Steps) (loss=X.X):   0%|                                                               | 0/60 …"
      ]
     },
     "metadata": {},
     "output_type": "display_data"
    },
    {
     "data": {
      "application/vnd.jupyter.widget-view+json": {
       "model_id": "a48fb615a02b43a481d7619d49fc20f3",
       "version_major": 2,
       "version_minor": 0
      },
      "text/plain": [
       "Training (X / X Steps) (loss=X.X):   0%|                                                               | 0/60 …"
      ]
     },
     "metadata": {},
     "output_type": "display_data"
    },
    {
     "data": {
      "application/vnd.jupyter.widget-view+json": {
       "model_id": "79bd9a256792487da2351f4bd2ac4c98",
       "version_major": 2,
       "version_minor": 0
      },
      "text/plain": [
       "Training (X / X Steps) (loss=X.X):   0%|                                                               | 0/60 …"
      ]
     },
     "metadata": {},
     "output_type": "display_data"
    },
    {
     "data": {
      "application/vnd.jupyter.widget-view+json": {
       "model_id": "c723ce5e9a084a5f86789818faa49af4",
       "version_major": 2,
       "version_minor": 0
      },
      "text/plain": [
       "Training (X / X Steps) (loss=X.X):   0%|                                                               | 0/60 …"
      ]
     },
     "metadata": {},
     "output_type": "display_data"
    },
    {
     "data": {
      "application/vnd.jupyter.widget-view+json": {
       "model_id": "0da0568d985a4d83bbe5d4c76030a322",
       "version_major": 2,
       "version_minor": 0
      },
      "text/plain": [
       "Validate (X / X Steps) (dice=X.X):   0%|                                                               | 0/35 …"
      ]
     },
     "metadata": {},
     "output_type": "display_data"
    },
    {
     "name": "stdout",
     "output_type": "stream",
     "text": [
      "Model Was Not Saved ! Current Best Avg. Dice: 0.4663466215133667 Current Avg. Dice: 0.456405907869339\n"
     ]
    },
    {
     "data": {
      "application/vnd.jupyter.widget-view+json": {
       "model_id": "a333355c2b4c4149b3b8769eef5ef072",
       "version_major": 2,
       "version_minor": 0
      },
      "text/plain": [
       "Training (X / X Steps) (loss=X.X):   0%|                                                               | 0/60 …"
      ]
     },
     "metadata": {},
     "output_type": "display_data"
    },
    {
     "data": {
      "application/vnd.jupyter.widget-view+json": {
       "model_id": "0397d9dc065f49f4aa9a171279910aca",
       "version_major": 2,
       "version_minor": 0
      },
      "text/plain": [
       "Training (X / X Steps) (loss=X.X):   0%|                                                               | 0/60 …"
      ]
     },
     "metadata": {},
     "output_type": "display_data"
    },
    {
     "data": {
      "application/vnd.jupyter.widget-view+json": {
       "model_id": "208ed4ea6f2e4ae5aa4571946058e213",
       "version_major": 2,
       "version_minor": 0
      },
      "text/plain": [
       "Training (X / X Steps) (loss=X.X):   0%|                                                               | 0/60 …"
      ]
     },
     "metadata": {},
     "output_type": "display_data"
    },
    {
     "data": {
      "application/vnd.jupyter.widget-view+json": {
       "model_id": "2ffff85d68914b8691d350f29cfb66dc",
       "version_major": 2,
       "version_minor": 0
      },
      "text/plain": [
       "Training (X / X Steps) (loss=X.X):   0%|                                                               | 0/60 …"
      ]
     },
     "metadata": {},
     "output_type": "display_data"
    },
    {
     "data": {
      "application/vnd.jupyter.widget-view+json": {
       "model_id": "c8a947e3d38643418435526d181b26d7",
       "version_major": 2,
       "version_minor": 0
      },
      "text/plain": [
       "Training (X / X Steps) (loss=X.X):   0%|                                                               | 0/60 …"
      ]
     },
     "metadata": {},
     "output_type": "display_data"
    },
    {
     "data": {
      "application/vnd.jupyter.widget-view+json": {
       "model_id": "0fef638958cb4748804d8379321258bc",
       "version_major": 2,
       "version_minor": 0
      },
      "text/plain": [
       "Validate (X / X Steps) (dice=X.X):   0%|                                                               | 0/35 …"
      ]
     },
     "metadata": {},
     "output_type": "display_data"
    },
    {
     "name": "stdout",
     "output_type": "stream",
     "text": [
      "Model Was Not Saved ! Current Best Avg. Dice: 0.4663466215133667 Current Avg. Dice: 0.4598550498485565\n"
     ]
    },
    {
     "data": {
      "application/vnd.jupyter.widget-view+json": {
       "model_id": "23a8208c776c456db305f940f2482178",
       "version_major": 2,
       "version_minor": 0
      },
      "text/plain": [
       "Training (X / X Steps) (loss=X.X):   0%|                                                               | 0/60 …"
      ]
     },
     "metadata": {},
     "output_type": "display_data"
    },
    {
     "data": {
      "application/vnd.jupyter.widget-view+json": {
       "model_id": "b1bf31adfc5641daa4964427efc19646",
       "version_major": 2,
       "version_minor": 0
      },
      "text/plain": [
       "Training (X / X Steps) (loss=X.X):   0%|                                                               | 0/60 …"
      ]
     },
     "metadata": {},
     "output_type": "display_data"
    },
    {
     "data": {
      "application/vnd.jupyter.widget-view+json": {
       "model_id": "33c45766112c4adf8a5dbbc39da6fc81",
       "version_major": 2,
       "version_minor": 0
      },
      "text/plain": [
       "Training (X / X Steps) (loss=X.X):   0%|                                                               | 0/60 …"
      ]
     },
     "metadata": {},
     "output_type": "display_data"
    },
    {
     "data": {
      "application/vnd.jupyter.widget-view+json": {
       "model_id": "a433a128fdc74d45939e3702b5586336",
       "version_major": 2,
       "version_minor": 0
      },
      "text/plain": [
       "Training (X / X Steps) (loss=X.X):   0%|                                                               | 0/60 …"
      ]
     },
     "metadata": {},
     "output_type": "display_data"
    },
    {
     "data": {
      "application/vnd.jupyter.widget-view+json": {
       "model_id": "c2ddd8737a0446c49d3aa6e8db46816e",
       "version_major": 2,
       "version_minor": 0
      },
      "text/plain": [
       "Training (X / X Steps) (loss=X.X):   0%|                                                               | 0/60 …"
      ]
     },
     "metadata": {},
     "output_type": "display_data"
    },
    {
     "data": {
      "application/vnd.jupyter.widget-view+json": {
       "model_id": "6b1869875e3f432ab210c7948290b074",
       "version_major": 2,
       "version_minor": 0
      },
      "text/plain": [
       "Validate (X / X Steps) (dice=X.X):   0%|                                                               | 0/35 …"
      ]
     },
     "metadata": {},
     "output_type": "display_data"
    },
    {
     "name": "stdout",
     "output_type": "stream",
     "text": [
      "Model Was Not Saved ! Current Best Avg. Dice: 0.4663466215133667 Current Avg. Dice: 0.4516385495662689\n"
     ]
    },
    {
     "data": {
      "application/vnd.jupyter.widget-view+json": {
       "model_id": "d0208bb6e0c545e789f62041d6b8b068",
       "version_major": 2,
       "version_minor": 0
      },
      "text/plain": [
       "Training (X / X Steps) (loss=X.X):   0%|                                                               | 0/60 …"
      ]
     },
     "metadata": {},
     "output_type": "display_data"
    },
    {
     "data": {
      "application/vnd.jupyter.widget-view+json": {
       "model_id": "a297663298b147ec8d2f01b5e0a6028d",
       "version_major": 2,
       "version_minor": 0
      },
      "text/plain": [
       "Training (X / X Steps) (loss=X.X):   0%|                                                               | 0/60 …"
      ]
     },
     "metadata": {},
     "output_type": "display_data"
    },
    {
     "data": {
      "application/vnd.jupyter.widget-view+json": {
       "model_id": "50217cf1ed2845b78c94b4f2ad0d3500",
       "version_major": 2,
       "version_minor": 0
      },
      "text/plain": [
       "Training (X / X Steps) (loss=X.X):   0%|                                                               | 0/60 …"
      ]
     },
     "metadata": {},
     "output_type": "display_data"
    },
    {
     "data": {
      "application/vnd.jupyter.widget-view+json": {
       "model_id": "fd7f857dcc584559b048602467990cbd",
       "version_major": 2,
       "version_minor": 0
      },
      "text/plain": [
       "Training (X / X Steps) (loss=X.X):   0%|                                                               | 0/60 …"
      ]
     },
     "metadata": {},
     "output_type": "display_data"
    },
    {
     "data": {
      "application/vnd.jupyter.widget-view+json": {
       "model_id": "13088eb302484594836aef46e5dce3c4",
       "version_major": 2,
       "version_minor": 0
      },
      "text/plain": [
       "Training (X / X Steps) (loss=X.X):   0%|                                                               | 0/60 …"
      ]
     },
     "metadata": {},
     "output_type": "display_data"
    },
    {
     "data": {
      "application/vnd.jupyter.widget-view+json": {
       "model_id": "e310f265d42a4e5aa49d2353f6401301",
       "version_major": 2,
       "version_minor": 0
      },
      "text/plain": [
       "Validate (X / X Steps) (dice=X.X):   0%|                                                               | 0/35 …"
      ]
     },
     "metadata": {},
     "output_type": "display_data"
    },
    {
     "name": "stdout",
     "output_type": "stream",
     "text": [
      "Model Was Not Saved ! Current Best Avg. Dice: 0.4663466215133667 Current Avg. Dice: 0.45945456624031067\n"
     ]
    },
    {
     "data": {
      "application/vnd.jupyter.widget-view+json": {
       "model_id": "d69b543495844d0ebaa6e398d99007a3",
       "version_major": 2,
       "version_minor": 0
      },
      "text/plain": [
       "Training (X / X Steps) (loss=X.X):   0%|                                                               | 0/60 …"
      ]
     },
     "metadata": {},
     "output_type": "display_data"
    },
    {
     "data": {
      "application/vnd.jupyter.widget-view+json": {
       "model_id": "89f3891c03ce4e709f48e4f6084c7a27",
       "version_major": 2,
       "version_minor": 0
      },
      "text/plain": [
       "Training (X / X Steps) (loss=X.X):   0%|                                                               | 0/60 …"
      ]
     },
     "metadata": {},
     "output_type": "display_data"
    },
    {
     "data": {
      "application/vnd.jupyter.widget-view+json": {
       "model_id": "f4767a44c8844c5093aa56fe495d99b0",
       "version_major": 2,
       "version_minor": 0
      },
      "text/plain": [
       "Training (X / X Steps) (loss=X.X):   0%|                                                               | 0/60 …"
      ]
     },
     "metadata": {},
     "output_type": "display_data"
    },
    {
     "data": {
      "application/vnd.jupyter.widget-view+json": {
       "model_id": "a1841bf461dc49e091482c228a2388c8",
       "version_major": 2,
       "version_minor": 0
      },
      "text/plain": [
       "Training (X / X Steps) (loss=X.X):   0%|                                                               | 0/60 …"
      ]
     },
     "metadata": {},
     "output_type": "display_data"
    },
    {
     "data": {
      "application/vnd.jupyter.widget-view+json": {
       "model_id": "76438b6208d34ae5a583ac57aefe7ef5",
       "version_major": 2,
       "version_minor": 0
      },
      "text/plain": [
       "Training (X / X Steps) (loss=X.X):   0%|                                                               | 0/60 …"
      ]
     },
     "metadata": {},
     "output_type": "display_data"
    },
    {
     "data": {
      "application/vnd.jupyter.widget-view+json": {
       "model_id": "67ed7a5c08294a27867b92fbf449aac0",
       "version_major": 2,
       "version_minor": 0
      },
      "text/plain": [
       "Validate (X / X Steps) (dice=X.X):   0%|                                                               | 0/35 …"
      ]
     },
     "metadata": {},
     "output_type": "display_data"
    },
    {
     "name": "stdout",
     "output_type": "stream",
     "text": [
      "Model Was Not Saved ! Current Best Avg. Dice: 0.4663466215133667 Current Avg. Dice: 0.45379170775413513\n"
     ]
    },
    {
     "data": {
      "application/vnd.jupyter.widget-view+json": {
       "model_id": "8fbf6b92e83843c29e00cee8c3f2665e",
       "version_major": 2,
       "version_minor": 0
      },
      "text/plain": [
       "Training (X / X Steps) (loss=X.X):   0%|                                                               | 0/60 …"
      ]
     },
     "metadata": {},
     "output_type": "display_data"
    },
    {
     "data": {
      "application/vnd.jupyter.widget-view+json": {
       "model_id": "e5b280c9dcb943809e4129130e8fbc7d",
       "version_major": 2,
       "version_minor": 0
      },
      "text/plain": [
       "Training (X / X Steps) (loss=X.X):   0%|                                                               | 0/60 …"
      ]
     },
     "metadata": {},
     "output_type": "display_data"
    },
    {
     "data": {
      "application/vnd.jupyter.widget-view+json": {
       "model_id": "deae8c4427944993ad449671ae3faa92",
       "version_major": 2,
       "version_minor": 0
      },
      "text/plain": [
       "Training (X / X Steps) (loss=X.X):   0%|                                                               | 0/60 …"
      ]
     },
     "metadata": {},
     "output_type": "display_data"
    },
    {
     "data": {
      "application/vnd.jupyter.widget-view+json": {
       "model_id": "3f05d6875e2946299d841c5d0feee4b1",
       "version_major": 2,
       "version_minor": 0
      },
      "text/plain": [
       "Training (X / X Steps) (loss=X.X):   0%|                                                               | 0/60 …"
      ]
     },
     "metadata": {},
     "output_type": "display_data"
    },
    {
     "data": {
      "application/vnd.jupyter.widget-view+json": {
       "model_id": "493ea63b4c1c4ecba269ce161e34e54e",
       "version_major": 2,
       "version_minor": 0
      },
      "text/plain": [
       "Training (X / X Steps) (loss=X.X):   0%|                                                               | 0/60 …"
      ]
     },
     "metadata": {},
     "output_type": "display_data"
    },
    {
     "data": {
      "application/vnd.jupyter.widget-view+json": {
       "model_id": "8fa7eaed6d304721875082bd22a9f484",
       "version_major": 2,
       "version_minor": 0
      },
      "text/plain": [
       "Validate (X / X Steps) (dice=X.X):   0%|                                                               | 0/35 …"
      ]
     },
     "metadata": {},
     "output_type": "display_data"
    },
    {
     "name": "stdout",
     "output_type": "stream",
     "text": [
      "Model Was Not Saved ! Current Best Avg. Dice: 0.4663466215133667 Current Avg. Dice: 0.46518653631210327\n"
     ]
    },
    {
     "data": {
      "application/vnd.jupyter.widget-view+json": {
       "model_id": "da721e591b414fe2a527b1db9b0954b5",
       "version_major": 2,
       "version_minor": 0
      },
      "text/plain": [
       "Training (X / X Steps) (loss=X.X):   0%|                                                               | 0/60 …"
      ]
     },
     "metadata": {},
     "output_type": "display_data"
    },
    {
     "data": {
      "application/vnd.jupyter.widget-view+json": {
       "model_id": "4cca0a4484ef4f63b53d50525f8cf7d9",
       "version_major": 2,
       "version_minor": 0
      },
      "text/plain": [
       "Training (X / X Steps) (loss=X.X):   0%|                                                               | 0/60 …"
      ]
     },
     "metadata": {},
     "output_type": "display_data"
    },
    {
     "data": {
      "application/vnd.jupyter.widget-view+json": {
       "model_id": "d81469f154d4492c867a63b54d562d09",
       "version_major": 2,
       "version_minor": 0
      },
      "text/plain": [
       "Training (X / X Steps) (loss=X.X):   0%|                                                               | 0/60 …"
      ]
     },
     "metadata": {},
     "output_type": "display_data"
    },
    {
     "data": {
      "application/vnd.jupyter.widget-view+json": {
       "model_id": "ad16ebd2e99840118406492d96728eea",
       "version_major": 2,
       "version_minor": 0
      },
      "text/plain": [
       "Training (X / X Steps) (loss=X.X):   0%|                                                               | 0/60 …"
      ]
     },
     "metadata": {},
     "output_type": "display_data"
    },
    {
     "data": {
      "application/vnd.jupyter.widget-view+json": {
       "model_id": "67933ad954874c709240ab8d0f51ed02",
       "version_major": 2,
       "version_minor": 0
      },
      "text/plain": [
       "Training (X / X Steps) (loss=X.X):   0%|                                                               | 0/60 …"
      ]
     },
     "metadata": {},
     "output_type": "display_data"
    },
    {
     "data": {
      "application/vnd.jupyter.widget-view+json": {
       "model_id": "d47c3c17afab4d8e9d0d479febe3ba83",
       "version_major": 2,
       "version_minor": 0
      },
      "text/plain": [
       "Validate (X / X Steps) (dice=X.X):   0%|                                                               | 0/35 …"
      ]
     },
     "metadata": {},
     "output_type": "display_data"
    },
    {
     "name": "stdout",
     "output_type": "stream",
     "text": [
      "Model Was Not Saved ! Current Best Avg. Dice: 0.4663466215133667 Current Avg. Dice: 0.46335601806640625\n"
     ]
    },
    {
     "data": {
      "application/vnd.jupyter.widget-view+json": {
       "model_id": "b14075eb557449ddad573eb63e4039f1",
       "version_major": 2,
       "version_minor": 0
      },
      "text/plain": [
       "Training (X / X Steps) (loss=X.X):   0%|                                                               | 0/60 …"
      ]
     },
     "metadata": {},
     "output_type": "display_data"
    },
    {
     "data": {
      "application/vnd.jupyter.widget-view+json": {
       "model_id": "f111cc95489d4673ac407a09462ad876",
       "version_major": 2,
       "version_minor": 0
      },
      "text/plain": [
       "Training (X / X Steps) (loss=X.X):   0%|                                                               | 0/60 …"
      ]
     },
     "metadata": {},
     "output_type": "display_data"
    },
    {
     "data": {
      "application/vnd.jupyter.widget-view+json": {
       "model_id": "fc2f0c2c41cd4a0dbb9d830e700673e2",
       "version_major": 2,
       "version_minor": 0
      },
      "text/plain": [
       "Training (X / X Steps) (loss=X.X):   0%|                                                               | 0/60 …"
      ]
     },
     "metadata": {},
     "output_type": "display_data"
    },
    {
     "data": {
      "application/vnd.jupyter.widget-view+json": {
       "model_id": "0b811a3ab4304f7eaa886af838b98d5f",
       "version_major": 2,
       "version_minor": 0
      },
      "text/plain": [
       "Training (X / X Steps) (loss=X.X):   0%|                                                               | 0/60 …"
      ]
     },
     "metadata": {},
     "output_type": "display_data"
    },
    {
     "data": {
      "application/vnd.jupyter.widget-view+json": {
       "model_id": "e5b74024862b40ceac37b03a756214db",
       "version_major": 2,
       "version_minor": 0
      },
      "text/plain": [
       "Training (X / X Steps) (loss=X.X):   0%|                                                               | 0/60 …"
      ]
     },
     "metadata": {},
     "output_type": "display_data"
    },
    {
     "data": {
      "application/vnd.jupyter.widget-view+json": {
       "model_id": "cb5f938a84e345e292d538611da78af5",
       "version_major": 2,
       "version_minor": 0
      },
      "text/plain": [
       "Validate (X / X Steps) (dice=X.X):   0%|                                                               | 0/35 …"
      ]
     },
     "metadata": {},
     "output_type": "display_data"
    },
    {
     "name": "stdout",
     "output_type": "stream",
     "text": [
      "Model Was Saved ! Current Best Avg. Dice: 0.4679453670978546 Current Avg. Dice: 0.4679453670978546\n"
     ]
    },
    {
     "data": {
      "application/vnd.jupyter.widget-view+json": {
       "model_id": "8df86d2f68e94571a3cdf0dc4151ab7e",
       "version_major": 2,
       "version_minor": 0
      },
      "text/plain": [
       "Training (X / X Steps) (loss=X.X):   0%|                                                               | 0/60 …"
      ]
     },
     "metadata": {},
     "output_type": "display_data"
    },
    {
     "data": {
      "application/vnd.jupyter.widget-view+json": {
       "model_id": "493077469c244f4c9e50ab8676922dd6",
       "version_major": 2,
       "version_minor": 0
      },
      "text/plain": [
       "Training (X / X Steps) (loss=X.X):   0%|                                                               | 0/60 …"
      ]
     },
     "metadata": {},
     "output_type": "display_data"
    },
    {
     "data": {
      "application/vnd.jupyter.widget-view+json": {
       "model_id": "d6fc2818ea2342eda12b4c54ce0941dc",
       "version_major": 2,
       "version_minor": 0
      },
      "text/plain": [
       "Training (X / X Steps) (loss=X.X):   0%|                                                               | 0/60 …"
      ]
     },
     "metadata": {},
     "output_type": "display_data"
    },
    {
     "data": {
      "application/vnd.jupyter.widget-view+json": {
       "model_id": "c04a6a3cd51c46c7b2d7f3e17954e25f",
       "version_major": 2,
       "version_minor": 0
      },
      "text/plain": [
       "Training (X / X Steps) (loss=X.X):   0%|                                                               | 0/60 …"
      ]
     },
     "metadata": {},
     "output_type": "display_data"
    },
    {
     "data": {
      "application/vnd.jupyter.widget-view+json": {
       "model_id": "b96cca0bd9254c6bb107c4ca1e34568b",
       "version_major": 2,
       "version_minor": 0
      },
      "text/plain": [
       "Training (X / X Steps) (loss=X.X):   0%|                                                               | 0/60 …"
      ]
     },
     "metadata": {},
     "output_type": "display_data"
    },
    {
     "data": {
      "application/vnd.jupyter.widget-view+json": {
       "model_id": "fef0a514a4a54e21ab7d6c452f1234b8",
       "version_major": 2,
       "version_minor": 0
      },
      "text/plain": [
       "Validate (X / X Steps) (dice=X.X):   0%|                                                               | 0/35 …"
      ]
     },
     "metadata": {},
     "output_type": "display_data"
    },
    {
     "name": "stdout",
     "output_type": "stream",
     "text": [
      "Model Was Not Saved ! Current Best Avg. Dice: 0.4679453670978546 Current Avg. Dice: 0.46473225951194763\n"
     ]
    },
    {
     "data": {
      "application/vnd.jupyter.widget-view+json": {
       "model_id": "b304d9f8cc9947aa9e4d3fe7e5ae5634",
       "version_major": 2,
       "version_minor": 0
      },
      "text/plain": [
       "Training (X / X Steps) (loss=X.X):   0%|                                                               | 0/60 …"
      ]
     },
     "metadata": {},
     "output_type": "display_data"
    },
    {
     "data": {
      "application/vnd.jupyter.widget-view+json": {
       "model_id": "0507c2f009034134bb6704b59150d85b",
       "version_major": 2,
       "version_minor": 0
      },
      "text/plain": [
       "Training (X / X Steps) (loss=X.X):   0%|                                                               | 0/60 …"
      ]
     },
     "metadata": {},
     "output_type": "display_data"
    },
    {
     "data": {
      "application/vnd.jupyter.widget-view+json": {
       "model_id": "2d1912d4529146ceb9a704a4ba824a10",
       "version_major": 2,
       "version_minor": 0
      },
      "text/plain": [
       "Training (X / X Steps) (loss=X.X):   0%|                                                               | 0/60 …"
      ]
     },
     "metadata": {},
     "output_type": "display_data"
    },
    {
     "data": {
      "application/vnd.jupyter.widget-view+json": {
       "model_id": "a551f8721d344b4e82ed3a097d9acc4f",
       "version_major": 2,
       "version_minor": 0
      },
      "text/plain": [
       "Training (X / X Steps) (loss=X.X):   0%|                                                               | 0/60 …"
      ]
     },
     "metadata": {},
     "output_type": "display_data"
    },
    {
     "data": {
      "application/vnd.jupyter.widget-view+json": {
       "model_id": "e4d625fb0cd846ce87932ea0a1147156",
       "version_major": 2,
       "version_minor": 0
      },
      "text/plain": [
       "Training (X / X Steps) (loss=X.X):   0%|                                                               | 0/60 …"
      ]
     },
     "metadata": {},
     "output_type": "display_data"
    },
    {
     "data": {
      "application/vnd.jupyter.widget-view+json": {
       "model_id": "23a47ae496a44b09972128001fc1ec9a",
       "version_major": 2,
       "version_minor": 0
      },
      "text/plain": [
       "Validate (X / X Steps) (dice=X.X):   0%|                                                               | 0/35 …"
      ]
     },
     "metadata": {},
     "output_type": "display_data"
    },
    {
     "name": "stdout",
     "output_type": "stream",
     "text": [
      "Model Was Not Saved ! Current Best Avg. Dice: 0.4679453670978546 Current Avg. Dice: 0.46114468574523926\n"
     ]
    },
    {
     "data": {
      "application/vnd.jupyter.widget-view+json": {
       "model_id": "714f3f66774849daa6dedade4660af21",
       "version_major": 2,
       "version_minor": 0
      },
      "text/plain": [
       "Training (X / X Steps) (loss=X.X):   0%|                                                               | 0/60 …"
      ]
     },
     "metadata": {},
     "output_type": "display_data"
    },
    {
     "data": {
      "application/vnd.jupyter.widget-view+json": {
       "model_id": "bb13f4fdbf5e436cb215b641274138fc",
       "version_major": 2,
       "version_minor": 0
      },
      "text/plain": [
       "Training (X / X Steps) (loss=X.X):   0%|                                                               | 0/60 …"
      ]
     },
     "metadata": {},
     "output_type": "display_data"
    },
    {
     "data": {
      "application/vnd.jupyter.widget-view+json": {
       "model_id": "c1b76bd2079145678a230b6c346da07f",
       "version_major": 2,
       "version_minor": 0
      },
      "text/plain": [
       "Training (X / X Steps) (loss=X.X):   0%|                                                               | 0/60 …"
      ]
     },
     "metadata": {},
     "output_type": "display_data"
    },
    {
     "data": {
      "application/vnd.jupyter.widget-view+json": {
       "model_id": "d8592d57d1ee4346bdf22b0de4e76138",
       "version_major": 2,
       "version_minor": 0
      },
      "text/plain": [
       "Training (X / X Steps) (loss=X.X):   0%|                                                               | 0/60 …"
      ]
     },
     "metadata": {},
     "output_type": "display_data"
    },
    {
     "data": {
      "application/vnd.jupyter.widget-view+json": {
       "model_id": "a6f73ba7332e4f78bbda6f5b49cb030f",
       "version_major": 2,
       "version_minor": 0
      },
      "text/plain": [
       "Training (X / X Steps) (loss=X.X):   0%|                                                               | 0/60 …"
      ]
     },
     "metadata": {},
     "output_type": "display_data"
    },
    {
     "data": {
      "application/vnd.jupyter.widget-view+json": {
       "model_id": "c488bb24fdce46cc9b7b87c55166f944",
       "version_major": 2,
       "version_minor": 0
      },
      "text/plain": [
       "Validate (X / X Steps) (dice=X.X):   0%|                                                               | 0/35 …"
      ]
     },
     "metadata": {},
     "output_type": "display_data"
    },
    {
     "name": "stdout",
     "output_type": "stream",
     "text": [
      "Model Was Not Saved ! Current Best Avg. Dice: 0.4679453670978546 Current Avg. Dice: 0.46102404594421387\n"
     ]
    },
    {
     "data": {
      "application/vnd.jupyter.widget-view+json": {
       "model_id": "7c969a900ca84f9bb14f6f989cc8ff82",
       "version_major": 2,
       "version_minor": 0
      },
      "text/plain": [
       "Training (X / X Steps) (loss=X.X):   0%|                                                               | 0/60 …"
      ]
     },
     "metadata": {},
     "output_type": "display_data"
    },
    {
     "data": {
      "application/vnd.jupyter.widget-view+json": {
       "model_id": "23aabe1fc733459fb1f8d2c7479098b2",
       "version_major": 2,
       "version_minor": 0
      },
      "text/plain": [
       "Training (X / X Steps) (loss=X.X):   0%|                                                               | 0/60 …"
      ]
     },
     "metadata": {},
     "output_type": "display_data"
    },
    {
     "data": {
      "application/vnd.jupyter.widget-view+json": {
       "model_id": "231b541bf1454277a4f896c50504e1e3",
       "version_major": 2,
       "version_minor": 0
      },
      "text/plain": [
       "Training (X / X Steps) (loss=X.X):   0%|                                                               | 0/60 …"
      ]
     },
     "metadata": {},
     "output_type": "display_data"
    },
    {
     "data": {
      "application/vnd.jupyter.widget-view+json": {
       "model_id": "e88381c0c9fb4b328f4cf38a1fe493bc",
       "version_major": 2,
       "version_minor": 0
      },
      "text/plain": [
       "Training (X / X Steps) (loss=X.X):   0%|                                                               | 0/60 …"
      ]
     },
     "metadata": {},
     "output_type": "display_data"
    },
    {
     "data": {
      "application/vnd.jupyter.widget-view+json": {
       "model_id": "456ff58f74bd4392891c26efdc3697b0",
       "version_major": 2,
       "version_minor": 0
      },
      "text/plain": [
       "Training (X / X Steps) (loss=X.X):   0%|                                                               | 0/60 …"
      ]
     },
     "metadata": {},
     "output_type": "display_data"
    },
    {
     "data": {
      "application/vnd.jupyter.widget-view+json": {
       "model_id": "dcec68b022d94dd3860eeac89409d440",
       "version_major": 2,
       "version_minor": 0
      },
      "text/plain": [
       "Validate (X / X Steps) (dice=X.X):   0%|                                                               | 0/35 …"
      ]
     },
     "metadata": {},
     "output_type": "display_data"
    },
    {
     "name": "stdout",
     "output_type": "stream",
     "text": [
      "Model Was Not Saved ! Current Best Avg. Dice: 0.4679453670978546 Current Avg. Dice: 0.45967385172843933\n"
     ]
    },
    {
     "data": {
      "application/vnd.jupyter.widget-view+json": {
       "model_id": "124bd86b91e64f3988840bc8dc781325",
       "version_major": 2,
       "version_minor": 0
      },
      "text/plain": [
       "Training (X / X Steps) (loss=X.X):   0%|                                                               | 0/60 …"
      ]
     },
     "metadata": {},
     "output_type": "display_data"
    },
    {
     "data": {
      "application/vnd.jupyter.widget-view+json": {
       "model_id": "1d42a8b9947940248b11c3a5be5eb583",
       "version_major": 2,
       "version_minor": 0
      },
      "text/plain": [
       "Training (X / X Steps) (loss=X.X):   0%|                                                               | 0/60 …"
      ]
     },
     "metadata": {},
     "output_type": "display_data"
    },
    {
     "data": {
      "application/vnd.jupyter.widget-view+json": {
       "model_id": "d4d426239707417d97c65fa506e55a28",
       "version_major": 2,
       "version_minor": 0
      },
      "text/plain": [
       "Training (X / X Steps) (loss=X.X):   0%|                                                               | 0/60 …"
      ]
     },
     "metadata": {},
     "output_type": "display_data"
    },
    {
     "data": {
      "application/vnd.jupyter.widget-view+json": {
       "model_id": "d82622ae54374faa8299fcdc487abfaf",
       "version_major": 2,
       "version_minor": 0
      },
      "text/plain": [
       "Training (X / X Steps) (loss=X.X):   0%|                                                               | 0/60 …"
      ]
     },
     "metadata": {},
     "output_type": "display_data"
    },
    {
     "data": {
      "application/vnd.jupyter.widget-view+json": {
       "model_id": "a86b6cd0e3644b60bd8615254a89ef71",
       "version_major": 2,
       "version_minor": 0
      },
      "text/plain": [
       "Training (X / X Steps) (loss=X.X):   0%|                                                               | 0/60 …"
      ]
     },
     "metadata": {},
     "output_type": "display_data"
    },
    {
     "data": {
      "application/vnd.jupyter.widget-view+json": {
       "model_id": "fa9c1dd618cf47109ee7f2312d7eb73a",
       "version_major": 2,
       "version_minor": 0
      },
      "text/plain": [
       "Validate (X / X Steps) (dice=X.X):   0%|                                                               | 0/35 …"
      ]
     },
     "metadata": {},
     "output_type": "display_data"
    },
    {
     "name": "stdout",
     "output_type": "stream",
     "text": [
      "Model Was Not Saved ! Current Best Avg. Dice: 0.4679453670978546 Current Avg. Dice: 0.45973771810531616\n"
     ]
    },
    {
     "data": {
      "application/vnd.jupyter.widget-view+json": {
       "model_id": "cb88d1e70df441f1b268593b53a2181d",
       "version_major": 2,
       "version_minor": 0
      },
      "text/plain": [
       "Training (X / X Steps) (loss=X.X):   0%|                                                               | 0/60 …"
      ]
     },
     "metadata": {},
     "output_type": "display_data"
    },
    {
     "data": {
      "application/vnd.jupyter.widget-view+json": {
       "model_id": "7fcfd99ef9c94753825b89ce7caf14e6",
       "version_major": 2,
       "version_minor": 0
      },
      "text/plain": [
       "Training (X / X Steps) (loss=X.X):   0%|                                                               | 0/60 …"
      ]
     },
     "metadata": {},
     "output_type": "display_data"
    },
    {
     "data": {
      "application/vnd.jupyter.widget-view+json": {
       "model_id": "ec559f7df7fd46629ee5dd22584c2786",
       "version_major": 2,
       "version_minor": 0
      },
      "text/plain": [
       "Training (X / X Steps) (loss=X.X):   0%|                                                               | 0/60 …"
      ]
     },
     "metadata": {},
     "output_type": "display_data"
    },
    {
     "data": {
      "application/vnd.jupyter.widget-view+json": {
       "model_id": "5b51ca926ec045ef9c927b6131fcfaeb",
       "version_major": 2,
       "version_minor": 0
      },
      "text/plain": [
       "Training (X / X Steps) (loss=X.X):   0%|                                                               | 0/60 …"
      ]
     },
     "metadata": {},
     "output_type": "display_data"
    },
    {
     "data": {
      "application/vnd.jupyter.widget-view+json": {
       "model_id": "01de8df4e59d477d992b162e1b2c9d36",
       "version_major": 2,
       "version_minor": 0
      },
      "text/plain": [
       "Training (X / X Steps) (loss=X.X):   0%|                                                               | 0/60 …"
      ]
     },
     "metadata": {},
     "output_type": "display_data"
    },
    {
     "data": {
      "application/vnd.jupyter.widget-view+json": {
       "model_id": "e0036d563f354042b9a1e6f5c5088d15",
       "version_major": 2,
       "version_minor": 0
      },
      "text/plain": [
       "Validate (X / X Steps) (dice=X.X):   0%|                                                               | 0/35 …"
      ]
     },
     "metadata": {},
     "output_type": "display_data"
    },
    {
     "name": "stdout",
     "output_type": "stream",
     "text": [
      "Model Was Not Saved ! Current Best Avg. Dice: 0.4679453670978546 Current Avg. Dice: 0.4607921540737152\n"
     ]
    },
    {
     "data": {
      "application/vnd.jupyter.widget-view+json": {
       "model_id": "b3f116cd3ca443bea4aa4216222672da",
       "version_major": 2,
       "version_minor": 0
      },
      "text/plain": [
       "Training (X / X Steps) (loss=X.X):   0%|                                                               | 0/60 …"
      ]
     },
     "metadata": {},
     "output_type": "display_data"
    },
    {
     "data": {
      "application/vnd.jupyter.widget-view+json": {
       "model_id": "5325e0d5ebc84bc3b57f7378997ba4c4",
       "version_major": 2,
       "version_minor": 0
      },
      "text/plain": [
       "Training (X / X Steps) (loss=X.X):   0%|                                                               | 0/60 …"
      ]
     },
     "metadata": {},
     "output_type": "display_data"
    },
    {
     "data": {
      "application/vnd.jupyter.widget-view+json": {
       "model_id": "5598f5ff0886410592a78b7329fb035f",
       "version_major": 2,
       "version_minor": 0
      },
      "text/plain": [
       "Training (X / X Steps) (loss=X.X):   0%|                                                               | 0/60 …"
      ]
     },
     "metadata": {},
     "output_type": "display_data"
    },
    {
     "data": {
      "application/vnd.jupyter.widget-view+json": {
       "model_id": "cd8cd0f5c6d445e9bef95e947a1be736",
       "version_major": 2,
       "version_minor": 0
      },
      "text/plain": [
       "Training (X / X Steps) (loss=X.X):   0%|                                                               | 0/60 …"
      ]
     },
     "metadata": {},
     "output_type": "display_data"
    },
    {
     "data": {
      "application/vnd.jupyter.widget-view+json": {
       "model_id": "ce0e8392bd124782a94e47c0c58d56dd",
       "version_major": 2,
       "version_minor": 0
      },
      "text/plain": [
       "Training (X / X Steps) (loss=X.X):   0%|                                                               | 0/60 …"
      ]
     },
     "metadata": {},
     "output_type": "display_data"
    },
    {
     "data": {
      "application/vnd.jupyter.widget-view+json": {
       "model_id": "a70ae84df4d04c53ac0d79fb12f441f1",
       "version_major": 2,
       "version_minor": 0
      },
      "text/plain": [
       "Validate (X / X Steps) (dice=X.X):   0%|                                                               | 0/35 …"
      ]
     },
     "metadata": {},
     "output_type": "display_data"
    },
    {
     "name": "stdout",
     "output_type": "stream",
     "text": [
      "Model Was Saved ! Current Best Avg. Dice: 0.4682252109050751 Current Avg. Dice: 0.4682252109050751\n"
     ]
    },
    {
     "data": {
      "application/vnd.jupyter.widget-view+json": {
       "model_id": "c3e09959af8c402cb3357287d3a58ef8",
       "version_major": 2,
       "version_minor": 0
      },
      "text/plain": [
       "Training (X / X Steps) (loss=X.X):   0%|                                                               | 0/60 …"
      ]
     },
     "metadata": {},
     "output_type": "display_data"
    },
    {
     "data": {
      "application/vnd.jupyter.widget-view+json": {
       "model_id": "fa6f90e72dc54a298bcb6b8bbf8c3178",
       "version_major": 2,
       "version_minor": 0
      },
      "text/plain": [
       "Training (X / X Steps) (loss=X.X):   0%|                                                               | 0/60 …"
      ]
     },
     "metadata": {},
     "output_type": "display_data"
    },
    {
     "data": {
      "application/vnd.jupyter.widget-view+json": {
       "model_id": "b9b960c4c8594507bc633b32704be00f",
       "version_major": 2,
       "version_minor": 0
      },
      "text/plain": [
       "Training (X / X Steps) (loss=X.X):   0%|                                                               | 0/60 …"
      ]
     },
     "metadata": {},
     "output_type": "display_data"
    },
    {
     "data": {
      "application/vnd.jupyter.widget-view+json": {
       "model_id": "90477c5df6b746f0a89eb507708b9210",
       "version_major": 2,
       "version_minor": 0
      },
      "text/plain": [
       "Training (X / X Steps) (loss=X.X):   0%|                                                               | 0/60 …"
      ]
     },
     "metadata": {},
     "output_type": "display_data"
    },
    {
     "data": {
      "application/vnd.jupyter.widget-view+json": {
       "model_id": "8128f375c1ee45cd9a449f05274adb06",
       "version_major": 2,
       "version_minor": 0
      },
      "text/plain": [
       "Training (X / X Steps) (loss=X.X):   0%|                                                               | 0/60 …"
      ]
     },
     "metadata": {},
     "output_type": "display_data"
    },
    {
     "data": {
      "application/vnd.jupyter.widget-view+json": {
       "model_id": "aa1a133654b64e9593a3775829e06e7d",
       "version_major": 2,
       "version_minor": 0
      },
      "text/plain": [
       "Validate (X / X Steps) (dice=X.X):   0%|                                                               | 0/35 …"
      ]
     },
     "metadata": {},
     "output_type": "display_data"
    },
    {
     "name": "stdout",
     "output_type": "stream",
     "text": [
      "Model Was Not Saved ! Current Best Avg. Dice: 0.4682252109050751 Current Avg. Dice: 0.4578178822994232\n"
     ]
    },
    {
     "data": {
      "application/vnd.jupyter.widget-view+json": {
       "model_id": "32c061d5db304f1c9bbf400f98b206ed",
       "version_major": 2,
       "version_minor": 0
      },
      "text/plain": [
       "Training (X / X Steps) (loss=X.X):   0%|                                                               | 0/60 …"
      ]
     },
     "metadata": {},
     "output_type": "display_data"
    },
    {
     "data": {
      "application/vnd.jupyter.widget-view+json": {
       "model_id": "eca5417b657049fdb20325cffa143a9a",
       "version_major": 2,
       "version_minor": 0
      },
      "text/plain": [
       "Training (X / X Steps) (loss=X.X):   0%|                                                               | 0/60 …"
      ]
     },
     "metadata": {},
     "output_type": "display_data"
    },
    {
     "data": {
      "application/vnd.jupyter.widget-view+json": {
       "model_id": "9b39f0fa1ce446949c3d07c4ff762c88",
       "version_major": 2,
       "version_minor": 0
      },
      "text/plain": [
       "Training (X / X Steps) (loss=X.X):   0%|                                                               | 0/60 …"
      ]
     },
     "metadata": {},
     "output_type": "display_data"
    },
    {
     "data": {
      "application/vnd.jupyter.widget-view+json": {
       "model_id": "b0504afea4be4428b20a50c3d88aa3db",
       "version_major": 2,
       "version_minor": 0
      },
      "text/plain": [
       "Training (X / X Steps) (loss=X.X):   0%|                                                               | 0/60 …"
      ]
     },
     "metadata": {},
     "output_type": "display_data"
    },
    {
     "data": {
      "application/vnd.jupyter.widget-view+json": {
       "model_id": "b06f3f2c95a74dfe9e371f75637664ce",
       "version_major": 2,
       "version_minor": 0
      },
      "text/plain": [
       "Training (X / X Steps) (loss=X.X):   0%|                                                               | 0/60 …"
      ]
     },
     "metadata": {},
     "output_type": "display_data"
    },
    {
     "data": {
      "application/vnd.jupyter.widget-view+json": {
       "model_id": "3d4da8aa245145e7bfc6dd4af36114f6",
       "version_major": 2,
       "version_minor": 0
      },
      "text/plain": [
       "Validate (X / X Steps) (dice=X.X):   0%|                                                               | 0/35 …"
      ]
     },
     "metadata": {},
     "output_type": "display_data"
    },
    {
     "name": "stdout",
     "output_type": "stream",
     "text": [
      "Model Was Not Saved ! Current Best Avg. Dice: 0.4682252109050751 Current Avg. Dice: 0.46256959438323975\n"
     ]
    },
    {
     "data": {
      "application/vnd.jupyter.widget-view+json": {
       "model_id": "141e16624bd8425092cbfaf5ce8969be",
       "version_major": 2,
       "version_minor": 0
      },
      "text/plain": [
       "Training (X / X Steps) (loss=X.X):   0%|                                                               | 0/60 …"
      ]
     },
     "metadata": {},
     "output_type": "display_data"
    },
    {
     "data": {
      "application/vnd.jupyter.widget-view+json": {
       "model_id": "14be439614c04313881b791e224567b9",
       "version_major": 2,
       "version_minor": 0
      },
      "text/plain": [
       "Training (X / X Steps) (loss=X.X):   0%|                                                               | 0/60 …"
      ]
     },
     "metadata": {},
     "output_type": "display_data"
    },
    {
     "data": {
      "application/vnd.jupyter.widget-view+json": {
       "model_id": "6f5112b9c0224f2890ce3a295587cb5e",
       "version_major": 2,
       "version_minor": 0
      },
      "text/plain": [
       "Training (X / X Steps) (loss=X.X):   0%|                                                               | 0/60 …"
      ]
     },
     "metadata": {},
     "output_type": "display_data"
    },
    {
     "data": {
      "application/vnd.jupyter.widget-view+json": {
       "model_id": "dece59e018bb413dbcba628e296f38d9",
       "version_major": 2,
       "version_minor": 0
      },
      "text/plain": [
       "Training (X / X Steps) (loss=X.X):   0%|                                                               | 0/60 …"
      ]
     },
     "metadata": {},
     "output_type": "display_data"
    },
    {
     "data": {
      "application/vnd.jupyter.widget-view+json": {
       "model_id": "b5d422b7023e495ab763abec7f7ecaad",
       "version_major": 2,
       "version_minor": 0
      },
      "text/plain": [
       "Training (X / X Steps) (loss=X.X):   0%|                                                               | 0/60 …"
      ]
     },
     "metadata": {},
     "output_type": "display_data"
    },
    {
     "data": {
      "application/vnd.jupyter.widget-view+json": {
       "model_id": "4de5d0e971534d36bd9dca5cf468fa20",
       "version_major": 2,
       "version_minor": 0
      },
      "text/plain": [
       "Validate (X / X Steps) (dice=X.X):   0%|                                                               | 0/35 …"
      ]
     },
     "metadata": {},
     "output_type": "display_data"
    },
    {
     "name": "stdout",
     "output_type": "stream",
     "text": [
      "Model Was Saved ! Current Best Avg. Dice: 0.47176387906074524 Current Avg. Dice: 0.47176387906074524\n"
     ]
    },
    {
     "data": {
      "application/vnd.jupyter.widget-view+json": {
       "model_id": "9bcf8c5f7b2b4a8b90a5f5234133f8a5",
       "version_major": 2,
       "version_minor": 0
      },
      "text/plain": [
       "Training (X / X Steps) (loss=X.X):   0%|                                                               | 0/60 …"
      ]
     },
     "metadata": {},
     "output_type": "display_data"
    },
    {
     "data": {
      "application/vnd.jupyter.widget-view+json": {
       "model_id": "204292e3bdd14c88b0aa86a4a33800eb",
       "version_major": 2,
       "version_minor": 0
      },
      "text/plain": [
       "Training (X / X Steps) (loss=X.X):   0%|                                                               | 0/60 …"
      ]
     },
     "metadata": {},
     "output_type": "display_data"
    },
    {
     "data": {
      "application/vnd.jupyter.widget-view+json": {
       "model_id": "c8254100ce44419ba5fe68a218d10e61",
       "version_major": 2,
       "version_minor": 0
      },
      "text/plain": [
       "Training (X / X Steps) (loss=X.X):   0%|                                                               | 0/60 …"
      ]
     },
     "metadata": {},
     "output_type": "display_data"
    },
    {
     "data": {
      "application/vnd.jupyter.widget-view+json": {
       "model_id": "0ca7d13199bc41c38eefde6d9f200582",
       "version_major": 2,
       "version_minor": 0
      },
      "text/plain": [
       "Training (X / X Steps) (loss=X.X):   0%|                                                               | 0/60 …"
      ]
     },
     "metadata": {},
     "output_type": "display_data"
    },
    {
     "data": {
      "application/vnd.jupyter.widget-view+json": {
       "model_id": "1d153c741faa4c138014c4dceb486d3a",
       "version_major": 2,
       "version_minor": 0
      },
      "text/plain": [
       "Training (X / X Steps) (loss=X.X):   0%|                                                               | 0/60 …"
      ]
     },
     "metadata": {},
     "output_type": "display_data"
    },
    {
     "data": {
      "application/vnd.jupyter.widget-view+json": {
       "model_id": "1bc336afa9c64253b1196e6aee78f4b9",
       "version_major": 2,
       "version_minor": 0
      },
      "text/plain": [
       "Validate (X / X Steps) (dice=X.X):   0%|                                                               | 0/35 …"
      ]
     },
     "metadata": {},
     "output_type": "display_data"
    },
    {
     "name": "stdout",
     "output_type": "stream",
     "text": [
      "Model Was Not Saved ! Current Best Avg. Dice: 0.47176387906074524 Current Avg. Dice: 0.45908594131469727\n"
     ]
    },
    {
     "data": {
      "application/vnd.jupyter.widget-view+json": {
       "model_id": "671474d7cfb941788c2f05b9b08a0be5",
       "version_major": 2,
       "version_minor": 0
      },
      "text/plain": [
       "Training (X / X Steps) (loss=X.X):   0%|                                                               | 0/60 …"
      ]
     },
     "metadata": {},
     "output_type": "display_data"
    },
    {
     "data": {
      "application/vnd.jupyter.widget-view+json": {
       "model_id": "254093142bf343c494e6b9514c6c5317",
       "version_major": 2,
       "version_minor": 0
      },
      "text/plain": [
       "Training (X / X Steps) (loss=X.X):   0%|                                                               | 0/60 …"
      ]
     },
     "metadata": {},
     "output_type": "display_data"
    },
    {
     "data": {
      "application/vnd.jupyter.widget-view+json": {
       "model_id": "ac2d9c0091394d51a4dd00034b2ce421",
       "version_major": 2,
       "version_minor": 0
      },
      "text/plain": [
       "Training (X / X Steps) (loss=X.X):   0%|                                                               | 0/60 …"
      ]
     },
     "metadata": {},
     "output_type": "display_data"
    },
    {
     "data": {
      "application/vnd.jupyter.widget-view+json": {
       "model_id": "6ed3bbf397e84746813e02cf0fe8b201",
       "version_major": 2,
       "version_minor": 0
      },
      "text/plain": [
       "Training (X / X Steps) (loss=X.X):   0%|                                                               | 0/60 …"
      ]
     },
     "metadata": {},
     "output_type": "display_data"
    },
    {
     "data": {
      "application/vnd.jupyter.widget-view+json": {
       "model_id": "1ae5c5cd46b542bc9097dc2de2ec929b",
       "version_major": 2,
       "version_minor": 0
      },
      "text/plain": [
       "Training (X / X Steps) (loss=X.X):   0%|                                                               | 0/60 …"
      ]
     },
     "metadata": {},
     "output_type": "display_data"
    },
    {
     "data": {
      "application/vnd.jupyter.widget-view+json": {
       "model_id": "04166fbfce1b4fc1a087bf11a2447cb4",
       "version_major": 2,
       "version_minor": 0
      },
      "text/plain": [
       "Validate (X / X Steps) (dice=X.X):   0%|                                                               | 0/35 …"
      ]
     },
     "metadata": {},
     "output_type": "display_data"
    },
    {
     "name": "stdout",
     "output_type": "stream",
     "text": [
      "Model Was Not Saved ! Current Best Avg. Dice: 0.47176387906074524 Current Avg. Dice: 0.4590006172657013\n"
     ]
    },
    {
     "data": {
      "application/vnd.jupyter.widget-view+json": {
       "model_id": "f515f1ab2f5c46fd8b78d4883144c2fc",
       "version_major": 2,
       "version_minor": 0
      },
      "text/plain": [
       "Training (X / X Steps) (loss=X.X):   0%|                                                               | 0/60 …"
      ]
     },
     "metadata": {},
     "output_type": "display_data"
    },
    {
     "data": {
      "application/vnd.jupyter.widget-view+json": {
       "model_id": "538bfe0ec3664ec2b090ef8c4cfae456",
       "version_major": 2,
       "version_minor": 0
      },
      "text/plain": [
       "Training (X / X Steps) (loss=X.X):   0%|                                                               | 0/60 …"
      ]
     },
     "metadata": {},
     "output_type": "display_data"
    },
    {
     "data": {
      "application/vnd.jupyter.widget-view+json": {
       "model_id": "82ec5b9a92bc4152825fa50a55e4c528",
       "version_major": 2,
       "version_minor": 0
      },
      "text/plain": [
       "Training (X / X Steps) (loss=X.X):   0%|                                                               | 0/60 …"
      ]
     },
     "metadata": {},
     "output_type": "display_data"
    },
    {
     "data": {
      "application/vnd.jupyter.widget-view+json": {
       "model_id": "64be4fe4e06047aea8d6833f67565ea9",
       "version_major": 2,
       "version_minor": 0
      },
      "text/plain": [
       "Training (X / X Steps) (loss=X.X):   0%|                                                               | 0/60 …"
      ]
     },
     "metadata": {},
     "output_type": "display_data"
    },
    {
     "data": {
      "application/vnd.jupyter.widget-view+json": {
       "model_id": "c60ef850960649e8b56977db40eb9416",
       "version_major": 2,
       "version_minor": 0
      },
      "text/plain": [
       "Training (X / X Steps) (loss=X.X):   0%|                                                               | 0/60 …"
      ]
     },
     "metadata": {},
     "output_type": "display_data"
    },
    {
     "data": {
      "application/vnd.jupyter.widget-view+json": {
       "model_id": "0f1b9fa9797247a9a1f9e7c36c609ac0",
       "version_major": 2,
       "version_minor": 0
      },
      "text/plain": [
       "Validate (X / X Steps) (dice=X.X):   0%|                                                               | 0/35 …"
      ]
     },
     "metadata": {},
     "output_type": "display_data"
    },
    {
     "name": "stdout",
     "output_type": "stream",
     "text": [
      "Model Was Not Saved ! Current Best Avg. Dice: 0.47176387906074524 Current Avg. Dice: 0.468138724565506\n"
     ]
    },
    {
     "data": {
      "application/vnd.jupyter.widget-view+json": {
       "model_id": "dd4573aef9514122bd6e20098cd2ea4d",
       "version_major": 2,
       "version_minor": 0
      },
      "text/plain": [
       "Training (X / X Steps) (loss=X.X):   0%|                                                               | 0/60 …"
      ]
     },
     "metadata": {},
     "output_type": "display_data"
    },
    {
     "data": {
      "application/vnd.jupyter.widget-view+json": {
       "model_id": "b44deff4049d40d2877570df6c8e74c1",
       "version_major": 2,
       "version_minor": 0
      },
      "text/plain": [
       "Training (X / X Steps) (loss=X.X):   0%|                                                               | 0/60 …"
      ]
     },
     "metadata": {},
     "output_type": "display_data"
    },
    {
     "data": {
      "application/vnd.jupyter.widget-view+json": {
       "model_id": "70d133ecd7014d9fa371192e11573164",
       "version_major": 2,
       "version_minor": 0
      },
      "text/plain": [
       "Training (X / X Steps) (loss=X.X):   0%|                                                               | 0/60 …"
      ]
     },
     "metadata": {},
     "output_type": "display_data"
    },
    {
     "data": {
      "application/vnd.jupyter.widget-view+json": {
       "model_id": "2899e68305604ddea857c87de934a05f",
       "version_major": 2,
       "version_minor": 0
      },
      "text/plain": [
       "Training (X / X Steps) (loss=X.X):   0%|                                                               | 0/60 …"
      ]
     },
     "metadata": {},
     "output_type": "display_data"
    },
    {
     "data": {
      "application/vnd.jupyter.widget-view+json": {
       "model_id": "0fc6365a5d8e4259bdea26a706a3a5ae",
       "version_major": 2,
       "version_minor": 0
      },
      "text/plain": [
       "Training (X / X Steps) (loss=X.X):   0%|                                                               | 0/60 …"
      ]
     },
     "metadata": {},
     "output_type": "display_data"
    },
    {
     "data": {
      "application/vnd.jupyter.widget-view+json": {
       "model_id": "9e2480e9fbdf4c9d9a4c2686ada9727b",
       "version_major": 2,
       "version_minor": 0
      },
      "text/plain": [
       "Validate (X / X Steps) (dice=X.X):   0%|                                                               | 0/35 …"
      ]
     },
     "metadata": {},
     "output_type": "display_data"
    },
    {
     "name": "stdout",
     "output_type": "stream",
     "text": [
      "Model Was Not Saved ! Current Best Avg. Dice: 0.47176387906074524 Current Avg. Dice: 0.4650260806083679\n"
     ]
    },
    {
     "data": {
      "application/vnd.jupyter.widget-view+json": {
       "model_id": "244f93c287d84186bdfc6d71f8567fa3",
       "version_major": 2,
       "version_minor": 0
      },
      "text/plain": [
       "Training (X / X Steps) (loss=X.X):   0%|                                                               | 0/60 …"
      ]
     },
     "metadata": {},
     "output_type": "display_data"
    },
    {
     "data": {
      "application/vnd.jupyter.widget-view+json": {
       "model_id": "01d50aecae954517898a0b344feb1528",
       "version_major": 2,
       "version_minor": 0
      },
      "text/plain": [
       "Training (X / X Steps) (loss=X.X):   0%|                                                               | 0/60 …"
      ]
     },
     "metadata": {},
     "output_type": "display_data"
    },
    {
     "data": {
      "application/vnd.jupyter.widget-view+json": {
       "model_id": "1883fbcbc09f4484aba45d9eb49c9201",
       "version_major": 2,
       "version_minor": 0
      },
      "text/plain": [
       "Training (X / X Steps) (loss=X.X):   0%|                                                               | 0/60 …"
      ]
     },
     "metadata": {},
     "output_type": "display_data"
    },
    {
     "data": {
      "application/vnd.jupyter.widget-view+json": {
       "model_id": "38e0c66b6d6a47269c10696f33eb7f35",
       "version_major": 2,
       "version_minor": 0
      },
      "text/plain": [
       "Training (X / X Steps) (loss=X.X):   0%|                                                               | 0/60 …"
      ]
     },
     "metadata": {},
     "output_type": "display_data"
    },
    {
     "data": {
      "application/vnd.jupyter.widget-view+json": {
       "model_id": "eae3a984404545048aa5b299ba382408",
       "version_major": 2,
       "version_minor": 0
      },
      "text/plain": [
       "Training (X / X Steps) (loss=X.X):   0%|                                                               | 0/60 …"
      ]
     },
     "metadata": {},
     "output_type": "display_data"
    },
    {
     "data": {
      "application/vnd.jupyter.widget-view+json": {
       "model_id": "dc0ecfb346bf41efac4420854b39890a",
       "version_major": 2,
       "version_minor": 0
      },
      "text/plain": [
       "Validate (X / X Steps) (dice=X.X):   0%|                                                               | 0/35 …"
      ]
     },
     "metadata": {},
     "output_type": "display_data"
    },
    {
     "name": "stdout",
     "output_type": "stream",
     "text": [
      "Model Was Not Saved ! Current Best Avg. Dice: 0.47176387906074524 Current Avg. Dice: 0.46310412883758545\n"
     ]
    },
    {
     "data": {
      "application/vnd.jupyter.widget-view+json": {
       "model_id": "5783b93216e84e2fb0db32a2422d3617",
       "version_major": 2,
       "version_minor": 0
      },
      "text/plain": [
       "Training (X / X Steps) (loss=X.X):   0%|                                                               | 0/60 …"
      ]
     },
     "metadata": {},
     "output_type": "display_data"
    },
    {
     "data": {
      "application/vnd.jupyter.widget-view+json": {
       "model_id": "cc2f6ad5094440ba81e6f972f61f6448",
       "version_major": 2,
       "version_minor": 0
      },
      "text/plain": [
       "Training (X / X Steps) (loss=X.X):   0%|                                                               | 0/60 …"
      ]
     },
     "metadata": {},
     "output_type": "display_data"
    },
    {
     "data": {
      "application/vnd.jupyter.widget-view+json": {
       "model_id": "ca89074978d24ed9bdde6b860ea1445c",
       "version_major": 2,
       "version_minor": 0
      },
      "text/plain": [
       "Training (X / X Steps) (loss=X.X):   0%|                                                               | 0/60 …"
      ]
     },
     "metadata": {},
     "output_type": "display_data"
    },
    {
     "data": {
      "application/vnd.jupyter.widget-view+json": {
       "model_id": "4302eed1f1ac439db437c71c8f542b9a",
       "version_major": 2,
       "version_minor": 0
      },
      "text/plain": [
       "Training (X / X Steps) (loss=X.X):   0%|                                                               | 0/60 …"
      ]
     },
     "metadata": {},
     "output_type": "display_data"
    },
    {
     "data": {
      "application/vnd.jupyter.widget-view+json": {
       "model_id": "9dd2fee60f7f4991877664a4b77af358",
       "version_major": 2,
       "version_minor": 0
      },
      "text/plain": [
       "Training (X / X Steps) (loss=X.X):   0%|                                                               | 0/60 …"
      ]
     },
     "metadata": {},
     "output_type": "display_data"
    },
    {
     "data": {
      "application/vnd.jupyter.widget-view+json": {
       "model_id": "f055bc7623f042378ff4a1e5f65efbf7",
       "version_major": 2,
       "version_minor": 0
      },
      "text/plain": [
       "Validate (X / X Steps) (dice=X.X):   0%|                                                               | 0/35 …"
      ]
     },
     "metadata": {},
     "output_type": "display_data"
    },
    {
     "name": "stdout",
     "output_type": "stream",
     "text": [
      "Model Was Not Saved ! Current Best Avg. Dice: 0.47176387906074524 Current Avg. Dice: 0.4696322977542877\n"
     ]
    },
    {
     "data": {
      "application/vnd.jupyter.widget-view+json": {
       "model_id": "021cd61e368c43d982a263e0517098d8",
       "version_major": 2,
       "version_minor": 0
      },
      "text/plain": [
       "Training (X / X Steps) (loss=X.X):   0%|                                                               | 0/60 …"
      ]
     },
     "metadata": {},
     "output_type": "display_data"
    },
    {
     "data": {
      "application/vnd.jupyter.widget-view+json": {
       "model_id": "a721f8b4eeb2411ba3a1693e65395d1f",
       "version_major": 2,
       "version_minor": 0
      },
      "text/plain": [
       "Training (X / X Steps) (loss=X.X):   0%|                                                               | 0/60 …"
      ]
     },
     "metadata": {},
     "output_type": "display_data"
    },
    {
     "data": {
      "application/vnd.jupyter.widget-view+json": {
       "model_id": "d84f8dc678b0499c8c7053cd945a0838",
       "version_major": 2,
       "version_minor": 0
      },
      "text/plain": [
       "Training (X / X Steps) (loss=X.X):   0%|                                                               | 0/60 …"
      ]
     },
     "metadata": {},
     "output_type": "display_data"
    },
    {
     "data": {
      "application/vnd.jupyter.widget-view+json": {
       "model_id": "9e6ae578d6c44b83af56befb907536b1",
       "version_major": 2,
       "version_minor": 0
      },
      "text/plain": [
       "Training (X / X Steps) (loss=X.X):   0%|                                                               | 0/60 …"
      ]
     },
     "metadata": {},
     "output_type": "display_data"
    },
    {
     "data": {
      "application/vnd.jupyter.widget-view+json": {
       "model_id": "f70f33cb3d0b40058f5b1d0081d643a8",
       "version_major": 2,
       "version_minor": 0
      },
      "text/plain": [
       "Training (X / X Steps) (loss=X.X):   0%|                                                               | 0/60 …"
      ]
     },
     "metadata": {},
     "output_type": "display_data"
    },
    {
     "data": {
      "application/vnd.jupyter.widget-view+json": {
       "model_id": "069dfd49d5a94192afd17df6c23467f6",
       "version_major": 2,
       "version_minor": 0
      },
      "text/plain": [
       "Validate (X / X Steps) (dice=X.X):   0%|                                                               | 0/35 …"
      ]
     },
     "metadata": {},
     "output_type": "display_data"
    },
    {
     "name": "stdout",
     "output_type": "stream",
     "text": [
      "Model Was Not Saved ! Current Best Avg. Dice: 0.47176387906074524 Current Avg. Dice: 0.46649789810180664\n"
     ]
    },
    {
     "data": {
      "application/vnd.jupyter.widget-view+json": {
       "model_id": "d7a151ff5649464d9cc8a9c5bcecc784",
       "version_major": 2,
       "version_minor": 0
      },
      "text/plain": [
       "Training (X / X Steps) (loss=X.X):   0%|                                                               | 0/60 …"
      ]
     },
     "metadata": {},
     "output_type": "display_data"
    },
    {
     "data": {
      "application/vnd.jupyter.widget-view+json": {
       "model_id": "730edc589b2e4351b385b680cda03d93",
       "version_major": 2,
       "version_minor": 0
      },
      "text/plain": [
       "Training (X / X Steps) (loss=X.X):   0%|                                                               | 0/60 …"
      ]
     },
     "metadata": {},
     "output_type": "display_data"
    },
    {
     "data": {
      "application/vnd.jupyter.widget-view+json": {
       "model_id": "a8e55f5ab9fe45a689d76a6166a42b83",
       "version_major": 2,
       "version_minor": 0
      },
      "text/plain": [
       "Training (X / X Steps) (loss=X.X):   0%|                                                               | 0/60 …"
      ]
     },
     "metadata": {},
     "output_type": "display_data"
    },
    {
     "data": {
      "application/vnd.jupyter.widget-view+json": {
       "model_id": "67c034bbf8c14d5995d1df56219ee285",
       "version_major": 2,
       "version_minor": 0
      },
      "text/plain": [
       "Training (X / X Steps) (loss=X.X):   0%|                                                               | 0/60 …"
      ]
     },
     "metadata": {},
     "output_type": "display_data"
    },
    {
     "data": {
      "application/vnd.jupyter.widget-view+json": {
       "model_id": "b729e9bdf22d48e68469c0e03c8d521a",
       "version_major": 2,
       "version_minor": 0
      },
      "text/plain": [
       "Training (X / X Steps) (loss=X.X):   0%|                                                               | 0/60 …"
      ]
     },
     "metadata": {},
     "output_type": "display_data"
    },
    {
     "data": {
      "application/vnd.jupyter.widget-view+json": {
       "model_id": "4e9aaa7f683244d9824fb333e83b0b74",
       "version_major": 2,
       "version_minor": 0
      },
      "text/plain": [
       "Validate (X / X Steps) (dice=X.X):   0%|                                                               | 0/35 …"
      ]
     },
     "metadata": {},
     "output_type": "display_data"
    },
    {
     "name": "stdout",
     "output_type": "stream",
     "text": [
      "Model Was Not Saved ! Current Best Avg. Dice: 0.47176387906074524 Current Avg. Dice: 0.46571001410484314\n"
     ]
    },
    {
     "data": {
      "application/vnd.jupyter.widget-view+json": {
       "model_id": "d984665e78384831b56dbb0e21763f19",
       "version_major": 2,
       "version_minor": 0
      },
      "text/plain": [
       "Training (X / X Steps) (loss=X.X):   0%|                                                               | 0/60 …"
      ]
     },
     "metadata": {},
     "output_type": "display_data"
    },
    {
     "data": {
      "application/vnd.jupyter.widget-view+json": {
       "model_id": "2a4e9825606546b3ae9ad43eb00fd1fb",
       "version_major": 2,
       "version_minor": 0
      },
      "text/plain": [
       "Training (X / X Steps) (loss=X.X):   0%|                                                               | 0/60 …"
      ]
     },
     "metadata": {},
     "output_type": "display_data"
    },
    {
     "data": {
      "application/vnd.jupyter.widget-view+json": {
       "model_id": "9d20b9f0fa0f465e9cbac4c38ec4ec2d",
       "version_major": 2,
       "version_minor": 0
      },
      "text/plain": [
       "Training (X / X Steps) (loss=X.X):   0%|                                                               | 0/60 …"
      ]
     },
     "metadata": {},
     "output_type": "display_data"
    },
    {
     "data": {
      "application/vnd.jupyter.widget-view+json": {
       "model_id": "335730786d57433b923dc9e0a7a5a149",
       "version_major": 2,
       "version_minor": 0
      },
      "text/plain": [
       "Training (X / X Steps) (loss=X.X):   0%|                                                               | 0/60 …"
      ]
     },
     "metadata": {},
     "output_type": "display_data"
    },
    {
     "data": {
      "application/vnd.jupyter.widget-view+json": {
       "model_id": "d354fa39d87c4d2492113f3a93a2961f",
       "version_major": 2,
       "version_minor": 0
      },
      "text/plain": [
       "Training (X / X Steps) (loss=X.X):   0%|                                                               | 0/60 …"
      ]
     },
     "metadata": {},
     "output_type": "display_data"
    },
    {
     "data": {
      "application/vnd.jupyter.widget-view+json": {
       "model_id": "1c3dd686f1b44b0eb84c2b3e81f252e1",
       "version_major": 2,
       "version_minor": 0
      },
      "text/plain": [
       "Validate (X / X Steps) (dice=X.X):   0%|                                                               | 0/35 …"
      ]
     },
     "metadata": {},
     "output_type": "display_data"
    },
    {
     "name": "stdout",
     "output_type": "stream",
     "text": [
      "Model Was Not Saved ! Current Best Avg. Dice: 0.47176387906074524 Current Avg. Dice: 0.4614063799381256\n"
     ]
    },
    {
     "data": {
      "application/vnd.jupyter.widget-view+json": {
       "model_id": "42579683b9c7431d93158721679fe3e4",
       "version_major": 2,
       "version_minor": 0
      },
      "text/plain": [
       "Training (X / X Steps) (loss=X.X):   0%|                                                               | 0/60 …"
      ]
     },
     "metadata": {},
     "output_type": "display_data"
    },
    {
     "data": {
      "application/vnd.jupyter.widget-view+json": {
       "model_id": "e74410781e6d4203bfcb5437d0f23af0",
       "version_major": 2,
       "version_minor": 0
      },
      "text/plain": [
       "Training (X / X Steps) (loss=X.X):   0%|                                                               | 0/60 …"
      ]
     },
     "metadata": {},
     "output_type": "display_data"
    },
    {
     "data": {
      "application/vnd.jupyter.widget-view+json": {
       "model_id": "717ee67790a047cb97eb17f12e4ccb6d",
       "version_major": 2,
       "version_minor": 0
      },
      "text/plain": [
       "Training (X / X Steps) (loss=X.X):   0%|                                                               | 0/60 …"
      ]
     },
     "metadata": {},
     "output_type": "display_data"
    },
    {
     "data": {
      "application/vnd.jupyter.widget-view+json": {
       "model_id": "d56111e767c547da8e50e484e0083f69",
       "version_major": 2,
       "version_minor": 0
      },
      "text/plain": [
       "Training (X / X Steps) (loss=X.X):   0%|                                                               | 0/60 …"
      ]
     },
     "metadata": {},
     "output_type": "display_data"
    },
    {
     "data": {
      "application/vnd.jupyter.widget-view+json": {
       "model_id": "09e2f13861794c18b00f1d213422d328",
       "version_major": 2,
       "version_minor": 0
      },
      "text/plain": [
       "Training (X / X Steps) (loss=X.X):   0%|                                                               | 0/60 …"
      ]
     },
     "metadata": {},
     "output_type": "display_data"
    },
    {
     "data": {
      "application/vnd.jupyter.widget-view+json": {
       "model_id": "ed819edd60454b68ba33483a41a02fa8",
       "version_major": 2,
       "version_minor": 0
      },
      "text/plain": [
       "Validate (X / X Steps) (dice=X.X):   0%|                                                               | 0/35 …"
      ]
     },
     "metadata": {},
     "output_type": "display_data"
    },
    {
     "name": "stdout",
     "output_type": "stream",
     "text": [
      "Model Was Not Saved ! Current Best Avg. Dice: 0.47176387906074524 Current Avg. Dice: 0.4590366780757904\n"
     ]
    },
    {
     "data": {
      "application/vnd.jupyter.widget-view+json": {
       "model_id": "d92b2c57bb5b4946b0256a23edf7a393",
       "version_major": 2,
       "version_minor": 0
      },
      "text/plain": [
       "Training (X / X Steps) (loss=X.X):   0%|                                                               | 0/60 …"
      ]
     },
     "metadata": {},
     "output_type": "display_data"
    },
    {
     "data": {
      "application/vnd.jupyter.widget-view+json": {
       "model_id": "87d9f36656454e2d9f1c255d0eeb2646",
       "version_major": 2,
       "version_minor": 0
      },
      "text/plain": [
       "Training (X / X Steps) (loss=X.X):   0%|                                                               | 0/60 …"
      ]
     },
     "metadata": {},
     "output_type": "display_data"
    },
    {
     "data": {
      "application/vnd.jupyter.widget-view+json": {
       "model_id": "03a78e86db7743e495f6999f18f58144",
       "version_major": 2,
       "version_minor": 0
      },
      "text/plain": [
       "Training (X / X Steps) (loss=X.X):   0%|                                                               | 0/60 …"
      ]
     },
     "metadata": {},
     "output_type": "display_data"
    },
    {
     "data": {
      "application/vnd.jupyter.widget-view+json": {
       "model_id": "d4f36832c0724adaa8eb882c49344eb5",
       "version_major": 2,
       "version_minor": 0
      },
      "text/plain": [
       "Training (X / X Steps) (loss=X.X):   0%|                                                               | 0/60 …"
      ]
     },
     "metadata": {},
     "output_type": "display_data"
    },
    {
     "data": {
      "application/vnd.jupyter.widget-view+json": {
       "model_id": "396306da05db47ee9af3870c1fc867d5",
       "version_major": 2,
       "version_minor": 0
      },
      "text/plain": [
       "Training (X / X Steps) (loss=X.X):   0%|                                                               | 0/60 …"
      ]
     },
     "metadata": {},
     "output_type": "display_data"
    },
    {
     "data": {
      "application/vnd.jupyter.widget-view+json": {
       "model_id": "62a0962907e949239e651fd8944565d6",
       "version_major": 2,
       "version_minor": 0
      },
      "text/plain": [
       "Validate (X / X Steps) (dice=X.X):   0%|                                                               | 0/35 …"
      ]
     },
     "metadata": {},
     "output_type": "display_data"
    },
    {
     "name": "stdout",
     "output_type": "stream",
     "text": [
      "Model Was Not Saved ! Current Best Avg. Dice: 0.47176387906074524 Current Avg. Dice: 0.46764102578163147\n"
     ]
    },
    {
     "data": {
      "application/vnd.jupyter.widget-view+json": {
       "model_id": "080b640c84a84c1eb0325a3b59724154",
       "version_major": 2,
       "version_minor": 0
      },
      "text/plain": [
       "Training (X / X Steps) (loss=X.X):   0%|                                                               | 0/60 …"
      ]
     },
     "metadata": {},
     "output_type": "display_data"
    },
    {
     "data": {
      "application/vnd.jupyter.widget-view+json": {
       "model_id": "0335cb2a72644be89d8a1dbcefdb7a78",
       "version_major": 2,
       "version_minor": 0
      },
      "text/plain": [
       "Training (X / X Steps) (loss=X.X):   0%|                                                               | 0/60 …"
      ]
     },
     "metadata": {},
     "output_type": "display_data"
    },
    {
     "data": {
      "application/vnd.jupyter.widget-view+json": {
       "model_id": "1f4fa4c656e7435695dad9c616d2bd6e",
       "version_major": 2,
       "version_minor": 0
      },
      "text/plain": [
       "Training (X / X Steps) (loss=X.X):   0%|                                                               | 0/60 …"
      ]
     },
     "metadata": {},
     "output_type": "display_data"
    },
    {
     "data": {
      "application/vnd.jupyter.widget-view+json": {
       "model_id": "0f8b894695744effbc523a1d2b272b15",
       "version_major": 2,
       "version_minor": 0
      },
      "text/plain": [
       "Training (X / X Steps) (loss=X.X):   0%|                                                               | 0/60 …"
      ]
     },
     "metadata": {},
     "output_type": "display_data"
    },
    {
     "data": {
      "application/vnd.jupyter.widget-view+json": {
       "model_id": "34645eb94b854cf1b5f40ee76c31d676",
       "version_major": 2,
       "version_minor": 0
      },
      "text/plain": [
       "Training (X / X Steps) (loss=X.X):   0%|                                                               | 0/60 …"
      ]
     },
     "metadata": {},
     "output_type": "display_data"
    },
    {
     "data": {
      "application/vnd.jupyter.widget-view+json": {
       "model_id": "72c2523e635c413298bebab49bc96e87",
       "version_major": 2,
       "version_minor": 0
      },
      "text/plain": [
       "Validate (X / X Steps) (dice=X.X):   0%|                                                               | 0/35 …"
      ]
     },
     "metadata": {},
     "output_type": "display_data"
    },
    {
     "name": "stdout",
     "output_type": "stream",
     "text": [
      "Model Was Not Saved ! Current Best Avg. Dice: 0.47176387906074524 Current Avg. Dice: 0.4567582905292511\n"
     ]
    },
    {
     "data": {
      "application/vnd.jupyter.widget-view+json": {
       "model_id": "f312d355448544968929aa8d2c1dd2b8",
       "version_major": 2,
       "version_minor": 0
      },
      "text/plain": [
       "Training (X / X Steps) (loss=X.X):   0%|                                                               | 0/60 …"
      ]
     },
     "metadata": {},
     "output_type": "display_data"
    },
    {
     "data": {
      "application/vnd.jupyter.widget-view+json": {
       "model_id": "f9a853859f5b41efa11748bb1e22c411",
       "version_major": 2,
       "version_minor": 0
      },
      "text/plain": [
       "Training (X / X Steps) (loss=X.X):   0%|                                                               | 0/60 …"
      ]
     },
     "metadata": {},
     "output_type": "display_data"
    },
    {
     "data": {
      "application/vnd.jupyter.widget-view+json": {
       "model_id": "1b94ccd6e4784d5db690d58faf029f4e",
       "version_major": 2,
       "version_minor": 0
      },
      "text/plain": [
       "Training (X / X Steps) (loss=X.X):   0%|                                                               | 0/60 …"
      ]
     },
     "metadata": {},
     "output_type": "display_data"
    },
    {
     "data": {
      "application/vnd.jupyter.widget-view+json": {
       "model_id": "fdafb8402d3f4e1d886c26d23157fba1",
       "version_major": 2,
       "version_minor": 0
      },
      "text/plain": [
       "Training (X / X Steps) (loss=X.X):   0%|                                                               | 0/60 …"
      ]
     },
     "metadata": {},
     "output_type": "display_data"
    },
    {
     "data": {
      "application/vnd.jupyter.widget-view+json": {
       "model_id": "34fd56f73d964233aba82f42d8846a7c",
       "version_major": 2,
       "version_minor": 0
      },
      "text/plain": [
       "Training (X / X Steps) (loss=X.X):   0%|                                                               | 0/60 …"
      ]
     },
     "metadata": {},
     "output_type": "display_data"
    },
    {
     "data": {
      "application/vnd.jupyter.widget-view+json": {
       "model_id": "e7484614b52243b69241eb65ffce33db",
       "version_major": 2,
       "version_minor": 0
      },
      "text/plain": [
       "Validate (X / X Steps) (dice=X.X):   0%|                                                               | 0/35 …"
      ]
     },
     "metadata": {},
     "output_type": "display_data"
    },
    {
     "name": "stdout",
     "output_type": "stream",
     "text": [
      "Model Was Not Saved ! Current Best Avg. Dice: 0.47176387906074524 Current Avg. Dice: 0.46289438009262085\n"
     ]
    },
    {
     "data": {
      "application/vnd.jupyter.widget-view+json": {
       "model_id": "80bb823fa43c443eaba4f693627a2b5e",
       "version_major": 2,
       "version_minor": 0
      },
      "text/plain": [
       "Training (X / X Steps) (loss=X.X):   0%|                                                               | 0/60 …"
      ]
     },
     "metadata": {},
     "output_type": "display_data"
    },
    {
     "data": {
      "application/vnd.jupyter.widget-view+json": {
       "model_id": "2cca52d2b53e4aa8b88af7255f64d1b3",
       "version_major": 2,
       "version_minor": 0
      },
      "text/plain": [
       "Training (X / X Steps) (loss=X.X):   0%|                                                               | 0/60 …"
      ]
     },
     "metadata": {},
     "output_type": "display_data"
    },
    {
     "data": {
      "application/vnd.jupyter.widget-view+json": {
       "model_id": "0ded6372e8e041558d4c06ad82f06454",
       "version_major": 2,
       "version_minor": 0
      },
      "text/plain": [
       "Training (X / X Steps) (loss=X.X):   0%|                                                               | 0/60 …"
      ]
     },
     "metadata": {},
     "output_type": "display_data"
    },
    {
     "data": {
      "application/vnd.jupyter.widget-view+json": {
       "model_id": "8008ae928791440cac5752c947fd0856",
       "version_major": 2,
       "version_minor": 0
      },
      "text/plain": [
       "Training (X / X Steps) (loss=X.X):   0%|                                                               | 0/60 …"
      ]
     },
     "metadata": {},
     "output_type": "display_data"
    },
    {
     "data": {
      "application/vnd.jupyter.widget-view+json": {
       "model_id": "db99546af8e84e5a8f7caad426e4dcfc",
       "version_major": 2,
       "version_minor": 0
      },
      "text/plain": [
       "Training (X / X Steps) (loss=X.X):   0%|                                                               | 0/60 …"
      ]
     },
     "metadata": {},
     "output_type": "display_data"
    },
    {
     "data": {
      "application/vnd.jupyter.widget-view+json": {
       "model_id": "16c22af7961b44f8abd726fc97db42b8",
       "version_major": 2,
       "version_minor": 0
      },
      "text/plain": [
       "Validate (X / X Steps) (dice=X.X):   0%|                                                               | 0/35 …"
      ]
     },
     "metadata": {},
     "output_type": "display_data"
    },
    {
     "name": "stdout",
     "output_type": "stream",
     "text": [
      "Model Was Not Saved ! Current Best Avg. Dice: 0.47176387906074524 Current Avg. Dice: 0.4612549841403961\n"
     ]
    },
    {
     "data": {
      "application/vnd.jupyter.widget-view+json": {
       "model_id": "06827140a45e464c9f428f0a2565842b",
       "version_major": 2,
       "version_minor": 0
      },
      "text/plain": [
       "Training (X / X Steps) (loss=X.X):   0%|                                                               | 0/60 …"
      ]
     },
     "metadata": {},
     "output_type": "display_data"
    },
    {
     "data": {
      "application/vnd.jupyter.widget-view+json": {
       "model_id": "4acf40fd9b9645c49796b18c1e13ec6e",
       "version_major": 2,
       "version_minor": 0
      },
      "text/plain": [
       "Training (X / X Steps) (loss=X.X):   0%|                                                               | 0/60 …"
      ]
     },
     "metadata": {},
     "output_type": "display_data"
    },
    {
     "data": {
      "application/vnd.jupyter.widget-view+json": {
       "model_id": "39430c5cca5e49d3b7de2989ae594fdd",
       "version_major": 2,
       "version_minor": 0
      },
      "text/plain": [
       "Training (X / X Steps) (loss=X.X):   0%|                                                               | 0/60 …"
      ]
     },
     "metadata": {},
     "output_type": "display_data"
    },
    {
     "data": {
      "application/vnd.jupyter.widget-view+json": {
       "model_id": "906fe2723f8d492ca1603fb16e0b8cb8",
       "version_major": 2,
       "version_minor": 0
      },
      "text/plain": [
       "Training (X / X Steps) (loss=X.X):   0%|                                                               | 0/60 …"
      ]
     },
     "metadata": {},
     "output_type": "display_data"
    },
    {
     "data": {
      "application/vnd.jupyter.widget-view+json": {
       "model_id": "c6c4e8ab7f704c1194ee39ab7ae65703",
       "version_major": 2,
       "version_minor": 0
      },
      "text/plain": [
       "Training (X / X Steps) (loss=X.X):   0%|                                                               | 0/60 …"
      ]
     },
     "metadata": {},
     "output_type": "display_data"
    },
    {
     "data": {
      "application/vnd.jupyter.widget-view+json": {
       "model_id": "9827ce52dade437ab831dcfd75605837",
       "version_major": 2,
       "version_minor": 0
      },
      "text/plain": [
       "Validate (X / X Steps) (dice=X.X):   0%|                                                               | 0/35 …"
      ]
     },
     "metadata": {},
     "output_type": "display_data"
    },
    {
     "name": "stdout",
     "output_type": "stream",
     "text": [
      "Model Was Not Saved ! Current Best Avg. Dice: 0.47176387906074524 Current Avg. Dice: 0.4578348398208618\n"
     ]
    },
    {
     "data": {
      "application/vnd.jupyter.widget-view+json": {
       "model_id": "79d2106c3796486a92e75c2fdd2aa1d3",
       "version_major": 2,
       "version_minor": 0
      },
      "text/plain": [
       "Training (X / X Steps) (loss=X.X):   0%|                                                               | 0/60 …"
      ]
     },
     "metadata": {},
     "output_type": "display_data"
    },
    {
     "data": {
      "application/vnd.jupyter.widget-view+json": {
       "model_id": "c0c970bda98541388750895899d0ebd1",
       "version_major": 2,
       "version_minor": 0
      },
      "text/plain": [
       "Training (X / X Steps) (loss=X.X):   0%|                                                               | 0/60 …"
      ]
     },
     "metadata": {},
     "output_type": "display_data"
    },
    {
     "data": {
      "application/vnd.jupyter.widget-view+json": {
       "model_id": "b99c79a1502740e69e40257eee46049f",
       "version_major": 2,
       "version_minor": 0
      },
      "text/plain": [
       "Training (X / X Steps) (loss=X.X):   0%|                                                               | 0/60 …"
      ]
     },
     "metadata": {},
     "output_type": "display_data"
    },
    {
     "data": {
      "application/vnd.jupyter.widget-view+json": {
       "model_id": "5cdf8c743b9744afa87f5040a7f9c420",
       "version_major": 2,
       "version_minor": 0
      },
      "text/plain": [
       "Training (X / X Steps) (loss=X.X):   0%|                                                               | 0/60 …"
      ]
     },
     "metadata": {},
     "output_type": "display_data"
    },
    {
     "data": {
      "application/vnd.jupyter.widget-view+json": {
       "model_id": "1dbbf060196c4dc39e041c772acbb8cb",
       "version_major": 2,
       "version_minor": 0
      },
      "text/plain": [
       "Training (X / X Steps) (loss=X.X):   0%|                                                               | 0/60 …"
      ]
     },
     "metadata": {},
     "output_type": "display_data"
    },
    {
     "data": {
      "application/vnd.jupyter.widget-view+json": {
       "model_id": "33c4edcdb8114d9287da4e6b5432d420",
       "version_major": 2,
       "version_minor": 0
      },
      "text/plain": [
       "Validate (X / X Steps) (dice=X.X):   0%|                                                               | 0/35 …"
      ]
     },
     "metadata": {},
     "output_type": "display_data"
    },
    {
     "name": "stdout",
     "output_type": "stream",
     "text": [
      "Model Was Not Saved ! Current Best Avg. Dice: 0.47176387906074524 Current Avg. Dice: 0.465195894241333\n"
     ]
    },
    {
     "data": {
      "application/vnd.jupyter.widget-view+json": {
       "model_id": "9efc2a0237a44c46b94afbb39b6155d7",
       "version_major": 2,
       "version_minor": 0
      },
      "text/plain": [
       "Training (X / X Steps) (loss=X.X):   0%|                                                               | 0/60 …"
      ]
     },
     "metadata": {},
     "output_type": "display_data"
    },
    {
     "data": {
      "application/vnd.jupyter.widget-view+json": {
       "model_id": "e3a6cc05040a4253be1ae44101e45338",
       "version_major": 2,
       "version_minor": 0
      },
      "text/plain": [
       "Training (X / X Steps) (loss=X.X):   0%|                                                               | 0/60 …"
      ]
     },
     "metadata": {},
     "output_type": "display_data"
    },
    {
     "data": {
      "application/vnd.jupyter.widget-view+json": {
       "model_id": "3050d14e06d6424fa1eeda9055bbf13a",
       "version_major": 2,
       "version_minor": 0
      },
      "text/plain": [
       "Training (X / X Steps) (loss=X.X):   0%|                                                               | 0/60 …"
      ]
     },
     "metadata": {},
     "output_type": "display_data"
    },
    {
     "data": {
      "application/vnd.jupyter.widget-view+json": {
       "model_id": "ee3c6bc975f241398a6871df829f6282",
       "version_major": 2,
       "version_minor": 0
      },
      "text/plain": [
       "Training (X / X Steps) (loss=X.X):   0%|                                                               | 0/60 …"
      ]
     },
     "metadata": {},
     "output_type": "display_data"
    },
    {
     "data": {
      "application/vnd.jupyter.widget-view+json": {
       "model_id": "c3adb7f96a394fb1b0235d6ebb90d0dc",
       "version_major": 2,
       "version_minor": 0
      },
      "text/plain": [
       "Training (X / X Steps) (loss=X.X):   0%|                                                               | 0/60 …"
      ]
     },
     "metadata": {},
     "output_type": "display_data"
    },
    {
     "data": {
      "application/vnd.jupyter.widget-view+json": {
       "model_id": "8e824feabb6a4ed690b266c70755d063",
       "version_major": 2,
       "version_minor": 0
      },
      "text/plain": [
       "Validate (X / X Steps) (dice=X.X):   0%|                                                               | 0/35 …"
      ]
     },
     "metadata": {},
     "output_type": "display_data"
    },
    {
     "name": "stdout",
     "output_type": "stream",
     "text": [
      "Model Was Not Saved ! Current Best Avg. Dice: 0.47176387906074524 Current Avg. Dice: 0.46335622668266296\n"
     ]
    },
    {
     "data": {
      "application/vnd.jupyter.widget-view+json": {
       "model_id": "a2fa28e99d9a421aa3e8cd658e346279",
       "version_major": 2,
       "version_minor": 0
      },
      "text/plain": [
       "Training (X / X Steps) (loss=X.X):   0%|                                                               | 0/60 …"
      ]
     },
     "metadata": {},
     "output_type": "display_data"
    },
    {
     "data": {
      "application/vnd.jupyter.widget-view+json": {
       "model_id": "2b92b244fe134002b2b90f8c62ac1a31",
       "version_major": 2,
       "version_minor": 0
      },
      "text/plain": [
       "Training (X / X Steps) (loss=X.X):   0%|                                                               | 0/60 …"
      ]
     },
     "metadata": {},
     "output_type": "display_data"
    },
    {
     "data": {
      "application/vnd.jupyter.widget-view+json": {
       "model_id": "8eb647170c274b959ee8edce423c2e4c",
       "version_major": 2,
       "version_minor": 0
      },
      "text/plain": [
       "Training (X / X Steps) (loss=X.X):   0%|                                                               | 0/60 …"
      ]
     },
     "metadata": {},
     "output_type": "display_data"
    },
    {
     "data": {
      "application/vnd.jupyter.widget-view+json": {
       "model_id": "35bf9ea9b6444b78b8d3d54ad4de1224",
       "version_major": 2,
       "version_minor": 0
      },
      "text/plain": [
       "Training (X / X Steps) (loss=X.X):   0%|                                                               | 0/60 …"
      ]
     },
     "metadata": {},
     "output_type": "display_data"
    },
    {
     "data": {
      "application/vnd.jupyter.widget-view+json": {
       "model_id": "ca0c6dd27ab94dc0bed84c99487bbf6d",
       "version_major": 2,
       "version_minor": 0
      },
      "text/plain": [
       "Training (X / X Steps) (loss=X.X):   0%|                                                               | 0/60 …"
      ]
     },
     "metadata": {},
     "output_type": "display_data"
    },
    {
     "data": {
      "application/vnd.jupyter.widget-view+json": {
       "model_id": "43b1817abff2442f9e37d64c4af67650",
       "version_major": 2,
       "version_minor": 0
      },
      "text/plain": [
       "Validate (X / X Steps) (dice=X.X):   0%|                                                               | 0/35 …"
      ]
     },
     "metadata": {},
     "output_type": "display_data"
    },
    {
     "name": "stdout",
     "output_type": "stream",
     "text": [
      "Model Was Not Saved ! Current Best Avg. Dice: 0.47176387906074524 Current Avg. Dice: 0.45774078369140625\n"
     ]
    },
    {
     "data": {
      "application/vnd.jupyter.widget-view+json": {
       "model_id": "e49eb33861ac4f38bdfd4de59881470f",
       "version_major": 2,
       "version_minor": 0
      },
      "text/plain": [
       "Training (X / X Steps) (loss=X.X):   0%|                                                               | 0/60 …"
      ]
     },
     "metadata": {},
     "output_type": "display_data"
    },
    {
     "data": {
      "application/vnd.jupyter.widget-view+json": {
       "model_id": "b65c9e7383e2446481539688edd0e068",
       "version_major": 2,
       "version_minor": 0
      },
      "text/plain": [
       "Training (X / X Steps) (loss=X.X):   0%|                                                               | 0/60 …"
      ]
     },
     "metadata": {},
     "output_type": "display_data"
    },
    {
     "data": {
      "application/vnd.jupyter.widget-view+json": {
       "model_id": "bb8353427f7e4fa4b6b0500db044ce09",
       "version_major": 2,
       "version_minor": 0
      },
      "text/plain": [
       "Training (X / X Steps) (loss=X.X):   0%|                                                               | 0/60 …"
      ]
     },
     "metadata": {},
     "output_type": "display_data"
    },
    {
     "data": {
      "application/vnd.jupyter.widget-view+json": {
       "model_id": "d7242ef709cc4e4fb2c97fe82521a36e",
       "version_major": 2,
       "version_minor": 0
      },
      "text/plain": [
       "Training (X / X Steps) (loss=X.X):   0%|                                                               | 0/60 …"
      ]
     },
     "metadata": {},
     "output_type": "display_data"
    },
    {
     "data": {
      "application/vnd.jupyter.widget-view+json": {
       "model_id": "30e3684bd5a542c4ad4ae2313329008a",
       "version_major": 2,
       "version_minor": 0
      },
      "text/plain": [
       "Training (X / X Steps) (loss=X.X):   0%|                                                               | 0/60 …"
      ]
     },
     "metadata": {},
     "output_type": "display_data"
    },
    {
     "data": {
      "application/vnd.jupyter.widget-view+json": {
       "model_id": "14b66941f3684a5a86f4443c743f950a",
       "version_major": 2,
       "version_minor": 0
      },
      "text/plain": [
       "Validate (X / X Steps) (dice=X.X):   0%|                                                               | 0/35 …"
      ]
     },
     "metadata": {},
     "output_type": "display_data"
    },
    {
     "name": "stdout",
     "output_type": "stream",
     "text": [
      "Model Was Not Saved ! Current Best Avg. Dice: 0.47176387906074524 Current Avg. Dice: 0.4651212990283966\n"
     ]
    },
    {
     "data": {
      "application/vnd.jupyter.widget-view+json": {
       "model_id": "00628570e0614c2f8fc8c64f4125a829",
       "version_major": 2,
       "version_minor": 0
      },
      "text/plain": [
       "Training (X / X Steps) (loss=X.X):   0%|                                                               | 0/60 …"
      ]
     },
     "metadata": {},
     "output_type": "display_data"
    },
    {
     "data": {
      "application/vnd.jupyter.widget-view+json": {
       "model_id": "8b244b9ebea346459a2e352d24c73767",
       "version_major": 2,
       "version_minor": 0
      },
      "text/plain": [
       "Training (X / X Steps) (loss=X.X):   0%|                                                               | 0/60 …"
      ]
     },
     "metadata": {},
     "output_type": "display_data"
    },
    {
     "data": {
      "application/vnd.jupyter.widget-view+json": {
       "model_id": "c15852ea640d4a4bab305d82e492f570",
       "version_major": 2,
       "version_minor": 0
      },
      "text/plain": [
       "Training (X / X Steps) (loss=X.X):   0%|                                                               | 0/60 …"
      ]
     },
     "metadata": {},
     "output_type": "display_data"
    },
    {
     "data": {
      "application/vnd.jupyter.widget-view+json": {
       "model_id": "974f955ee98547638e3dc31d0088288a",
       "version_major": 2,
       "version_minor": 0
      },
      "text/plain": [
       "Training (X / X Steps) (loss=X.X):   0%|                                                               | 0/60 …"
      ]
     },
     "metadata": {},
     "output_type": "display_data"
    },
    {
     "data": {
      "application/vnd.jupyter.widget-view+json": {
       "model_id": "6fba81e0468741c6a6ca34c50c1f2511",
       "version_major": 2,
       "version_minor": 0
      },
      "text/plain": [
       "Training (X / X Steps) (loss=X.X):   0%|                                                               | 0/60 …"
      ]
     },
     "metadata": {},
     "output_type": "display_data"
    },
    {
     "data": {
      "application/vnd.jupyter.widget-view+json": {
       "model_id": "c457886d56234c5fb657d6eb1a3c07c0",
       "version_major": 2,
       "version_minor": 0
      },
      "text/plain": [
       "Validate (X / X Steps) (dice=X.X):   0%|                                                               | 0/35 …"
      ]
     },
     "metadata": {},
     "output_type": "display_data"
    },
    {
     "name": "stdout",
     "output_type": "stream",
     "text": [
      "Model Was Not Saved ! Current Best Avg. Dice: 0.47176387906074524 Current Avg. Dice: 0.46122023463249207\n"
     ]
    },
    {
     "data": {
      "application/vnd.jupyter.widget-view+json": {
       "model_id": "89ab687c993d4d3fa538423cce4ae669",
       "version_major": 2,
       "version_minor": 0
      },
      "text/plain": [
       "Training (X / X Steps) (loss=X.X):   0%|                                                               | 0/60 …"
      ]
     },
     "metadata": {},
     "output_type": "display_data"
    },
    {
     "data": {
      "application/vnd.jupyter.widget-view+json": {
       "model_id": "204a7c8fe1914e0fb4b5cf267ef97718",
       "version_major": 2,
       "version_minor": 0
      },
      "text/plain": [
       "Training (X / X Steps) (loss=X.X):   0%|                                                               | 0/60 …"
      ]
     },
     "metadata": {},
     "output_type": "display_data"
    },
    {
     "data": {
      "application/vnd.jupyter.widget-view+json": {
       "model_id": "33b4b57be3554d2c89cd58f31b5ff8be",
       "version_major": 2,
       "version_minor": 0
      },
      "text/plain": [
       "Training (X / X Steps) (loss=X.X):   0%|                                                               | 0/60 …"
      ]
     },
     "metadata": {},
     "output_type": "display_data"
    },
    {
     "data": {
      "application/vnd.jupyter.widget-view+json": {
       "model_id": "f572dac75d8e49bd95dce53744618740",
       "version_major": 2,
       "version_minor": 0
      },
      "text/plain": [
       "Training (X / X Steps) (loss=X.X):   0%|                                                               | 0/60 …"
      ]
     },
     "metadata": {},
     "output_type": "display_data"
    },
    {
     "data": {
      "application/vnd.jupyter.widget-view+json": {
       "model_id": "e1285a99f5684e6fac25b0f5b2029078",
       "version_major": 2,
       "version_minor": 0
      },
      "text/plain": [
       "Training (X / X Steps) (loss=X.X):   0%|                                                               | 0/60 …"
      ]
     },
     "metadata": {},
     "output_type": "display_data"
    },
    {
     "data": {
      "application/vnd.jupyter.widget-view+json": {
       "model_id": "df6570e1d7a249fd85577aa785926be8",
       "version_major": 2,
       "version_minor": 0
      },
      "text/plain": [
       "Validate (X / X Steps) (dice=X.X):   0%|                                                               | 0/35 …"
      ]
     },
     "metadata": {},
     "output_type": "display_data"
    },
    {
     "name": "stdout",
     "output_type": "stream",
     "text": [
      "Model Was Not Saved ! Current Best Avg. Dice: 0.47176387906074524 Current Avg. Dice: 0.46300196647644043\n"
     ]
    },
    {
     "data": {
      "application/vnd.jupyter.widget-view+json": {
       "model_id": "88d9708c7c8e4e998f2906d87c84af20",
       "version_major": 2,
       "version_minor": 0
      },
      "text/plain": [
       "Training (X / X Steps) (loss=X.X):   0%|                                                               | 0/60 …"
      ]
     },
     "metadata": {},
     "output_type": "display_data"
    },
    {
     "data": {
      "application/vnd.jupyter.widget-view+json": {
       "model_id": "f69d0a20e56f40a9bff3ea8aac44725c",
       "version_major": 2,
       "version_minor": 0
      },
      "text/plain": [
       "Training (X / X Steps) (loss=X.X):   0%|                                                               | 0/60 …"
      ]
     },
     "metadata": {},
     "output_type": "display_data"
    },
    {
     "data": {
      "application/vnd.jupyter.widget-view+json": {
       "model_id": "f1c41753eba24d1cb0e52f1210609c0e",
       "version_major": 2,
       "version_minor": 0
      },
      "text/plain": [
       "Training (X / X Steps) (loss=X.X):   0%|                                                               | 0/60 …"
      ]
     },
     "metadata": {},
     "output_type": "display_data"
    },
    {
     "data": {
      "application/vnd.jupyter.widget-view+json": {
       "model_id": "310f68321b034d10b605f5e7dd062c6c",
       "version_major": 2,
       "version_minor": 0
      },
      "text/plain": [
       "Training (X / X Steps) (loss=X.X):   0%|                                                               | 0/60 …"
      ]
     },
     "metadata": {},
     "output_type": "display_data"
    },
    {
     "data": {
      "application/vnd.jupyter.widget-view+json": {
       "model_id": "8865fbe7c98b4e078dc542a0f3ffd891",
       "version_major": 2,
       "version_minor": 0
      },
      "text/plain": [
       "Training (X / X Steps) (loss=X.X):   0%|                                                               | 0/60 …"
      ]
     },
     "metadata": {},
     "output_type": "display_data"
    },
    {
     "data": {
      "application/vnd.jupyter.widget-view+json": {
       "model_id": "f6e6900f4107407995e56f4348b2e65d",
       "version_major": 2,
       "version_minor": 0
      },
      "text/plain": [
       "Validate (X / X Steps) (dice=X.X):   0%|                                                               | 0/35 …"
      ]
     },
     "metadata": {},
     "output_type": "display_data"
    },
    {
     "name": "stdout",
     "output_type": "stream",
     "text": [
      "Model Was Not Saved ! Current Best Avg. Dice: 0.47176387906074524 Current Avg. Dice: 0.4639706313610077\n"
     ]
    },
    {
     "data": {
      "application/vnd.jupyter.widget-view+json": {
       "model_id": "d72ffca2d17a4df99644977dcabbf583",
       "version_major": 2,
       "version_minor": 0
      },
      "text/plain": [
       "Training (X / X Steps) (loss=X.X):   0%|                                                               | 0/60 …"
      ]
     },
     "metadata": {},
     "output_type": "display_data"
    },
    {
     "data": {
      "application/vnd.jupyter.widget-view+json": {
       "model_id": "91face410eec437dbf0fe3e1fd4227fa",
       "version_major": 2,
       "version_minor": 0
      },
      "text/plain": [
       "Training (X / X Steps) (loss=X.X):   0%|                                                               | 0/60 …"
      ]
     },
     "metadata": {},
     "output_type": "display_data"
    },
    {
     "data": {
      "application/vnd.jupyter.widget-view+json": {
       "model_id": "00bac2a8501240aa8d681529db615a9a",
       "version_major": 2,
       "version_minor": 0
      },
      "text/plain": [
       "Training (X / X Steps) (loss=X.X):   0%|                                                               | 0/60 …"
      ]
     },
     "metadata": {},
     "output_type": "display_data"
    },
    {
     "data": {
      "application/vnd.jupyter.widget-view+json": {
       "model_id": "374a87e325964cf1bd87356c30af4bdc",
       "version_major": 2,
       "version_minor": 0
      },
      "text/plain": [
       "Training (X / X Steps) (loss=X.X):   0%|                                                               | 0/60 …"
      ]
     },
     "metadata": {},
     "output_type": "display_data"
    },
    {
     "data": {
      "application/vnd.jupyter.widget-view+json": {
       "model_id": "1270451785b14eddaac6339225b06a59",
       "version_major": 2,
       "version_minor": 0
      },
      "text/plain": [
       "Training (X / X Steps) (loss=X.X):   0%|                                                               | 0/60 …"
      ]
     },
     "metadata": {},
     "output_type": "display_data"
    },
    {
     "data": {
      "application/vnd.jupyter.widget-view+json": {
       "model_id": "8ed3b761b4184f4280670dbe74d758e4",
       "version_major": 2,
       "version_minor": 0
      },
      "text/plain": [
       "Validate (X / X Steps) (dice=X.X):   0%|                                                               | 0/35 …"
      ]
     },
     "metadata": {},
     "output_type": "display_data"
    },
    {
     "name": "stdout",
     "output_type": "stream",
     "text": [
      "Model Was Not Saved ! Current Best Avg. Dice: 0.47176387906074524 Current Avg. Dice: 0.471151202917099\n"
     ]
    },
    {
     "data": {
      "application/vnd.jupyter.widget-view+json": {
       "model_id": "31060882778745fbad4ca569394f1500",
       "version_major": 2,
       "version_minor": 0
      },
      "text/plain": [
       "Training (X / X Steps) (loss=X.X):   0%|                                                               | 0/60 …"
      ]
     },
     "metadata": {},
     "output_type": "display_data"
    },
    {
     "data": {
      "application/vnd.jupyter.widget-view+json": {
       "model_id": "16b5b86495534135889d4ff6a54db47f",
       "version_major": 2,
       "version_minor": 0
      },
      "text/plain": [
       "Training (X / X Steps) (loss=X.X):   0%|                                                               | 0/60 …"
      ]
     },
     "metadata": {},
     "output_type": "display_data"
    },
    {
     "data": {
      "application/vnd.jupyter.widget-view+json": {
       "model_id": "996acd62283b4ff7a05520f96d9c6077",
       "version_major": 2,
       "version_minor": 0
      },
      "text/plain": [
       "Training (X / X Steps) (loss=X.X):   0%|                                                               | 0/60 …"
      ]
     },
     "metadata": {},
     "output_type": "display_data"
    },
    {
     "data": {
      "application/vnd.jupyter.widget-view+json": {
       "model_id": "98fd2666ddfb42fca1a662a120f0d9d4",
       "version_major": 2,
       "version_minor": 0
      },
      "text/plain": [
       "Training (X / X Steps) (loss=X.X):   0%|                                                               | 0/60 …"
      ]
     },
     "metadata": {},
     "output_type": "display_data"
    },
    {
     "data": {
      "application/vnd.jupyter.widget-view+json": {
       "model_id": "cacc9b1c90e54cfba7659e82bedc25c0",
       "version_major": 2,
       "version_minor": 0
      },
      "text/plain": [
       "Training (X / X Steps) (loss=X.X):   0%|                                                               | 0/60 …"
      ]
     },
     "metadata": {},
     "output_type": "display_data"
    },
    {
     "data": {
      "application/vnd.jupyter.widget-view+json": {
       "model_id": "0773ac27989046e48aad402ab966b0aa",
       "version_major": 2,
       "version_minor": 0
      },
      "text/plain": [
       "Validate (X / X Steps) (dice=X.X):   0%|                                                               | 0/35 …"
      ]
     },
     "metadata": {},
     "output_type": "display_data"
    },
    {
     "name": "stdout",
     "output_type": "stream",
     "text": [
      "Model Was Not Saved ! Current Best Avg. Dice: 0.47176387906074524 Current Avg. Dice: 0.46465256810188293\n"
     ]
    },
    {
     "data": {
      "application/vnd.jupyter.widget-view+json": {
       "model_id": "57681a8997ce4ffeb068279066f2f152",
       "version_major": 2,
       "version_minor": 0
      },
      "text/plain": [
       "Training (X / X Steps) (loss=X.X):   0%|                                                               | 0/60 …"
      ]
     },
     "metadata": {},
     "output_type": "display_data"
    },
    {
     "data": {
      "application/vnd.jupyter.widget-view+json": {
       "model_id": "ece6d4b589d14606a0b486474e8665c8",
       "version_major": 2,
       "version_minor": 0
      },
      "text/plain": [
       "Training (X / X Steps) (loss=X.X):   0%|                                                               | 0/60 …"
      ]
     },
     "metadata": {},
     "output_type": "display_data"
    },
    {
     "data": {
      "application/vnd.jupyter.widget-view+json": {
       "model_id": "81949c8386064fb39ed35bca1bfa72e6",
       "version_major": 2,
       "version_minor": 0
      },
      "text/plain": [
       "Training (X / X Steps) (loss=X.X):   0%|                                                               | 0/60 …"
      ]
     },
     "metadata": {},
     "output_type": "display_data"
    },
    {
     "data": {
      "application/vnd.jupyter.widget-view+json": {
       "model_id": "6e27a8775ce74c51afea1d6e4c305b0e",
       "version_major": 2,
       "version_minor": 0
      },
      "text/plain": [
       "Training (X / X Steps) (loss=X.X):   0%|                                                               | 0/60 …"
      ]
     },
     "metadata": {},
     "output_type": "display_data"
    },
    {
     "data": {
      "application/vnd.jupyter.widget-view+json": {
       "model_id": "4be89d04f701431aa167fe4666c07b32",
       "version_major": 2,
       "version_minor": 0
      },
      "text/plain": [
       "Training (X / X Steps) (loss=X.X):   0%|                                                               | 0/60 …"
      ]
     },
     "metadata": {},
     "output_type": "display_data"
    },
    {
     "data": {
      "application/vnd.jupyter.widget-view+json": {
       "model_id": "a580f0e5bece4048b84fde62368727bd",
       "version_major": 2,
       "version_minor": 0
      },
      "text/plain": [
       "Validate (X / X Steps) (dice=X.X):   0%|                                                               | 0/35 …"
      ]
     },
     "metadata": {},
     "output_type": "display_data"
    },
    {
     "name": "stderr",
     "output_type": "stream",
     "text": [
      "IOPub message rate exceeded.\n",
      "The notebook server will temporarily stop sending output\n",
      "to the client in order to avoid crashing it.\n",
      "To change this limit, set the config variable\n",
      "`--NotebookApp.iopub_msg_rate_limit`.\n",
      "\n",
      "Current values:\n",
      "NotebookApp.iopub_msg_rate_limit=1000.0 (msgs/sec)\n",
      "NotebookApp.rate_limit_window=3.0 (secs)\n",
      "\n"
     ]
    },
    {
     "data": {
      "application/vnd.jupyter.widget-view+json": {
       "model_id": "61f986bd56a84a85851923b23099a59a",
       "version_major": 2,
       "version_minor": 0
      },
      "text/plain": [
       "Training (X / X Steps) (loss=X.X):   0%|                                                               | 0/60 …"
      ]
     },
     "metadata": {},
     "output_type": "display_data"
    },
    {
     "data": {
      "application/vnd.jupyter.widget-view+json": {
       "model_id": "c887af9f593e43aeb7ee0e49ae8c5d98",
       "version_major": 2,
       "version_minor": 0
      },
      "text/plain": [
       "Training (X / X Steps) (loss=X.X):   0%|                                                               | 0/60 …"
      ]
     },
     "metadata": {},
     "output_type": "display_data"
    },
    {
     "data": {
      "application/vnd.jupyter.widget-view+json": {
       "model_id": "69144fca1e734788a26dd3fbc45d8522",
       "version_major": 2,
       "version_minor": 0
      },
      "text/plain": [
       "Training (X / X Steps) (loss=X.X):   0%|                                                               | 0/60 …"
      ]
     },
     "metadata": {},
     "output_type": "display_data"
    },
    {
     "data": {
      "application/vnd.jupyter.widget-view+json": {
       "model_id": "52705b6ef7f04c2b88bc6ac9ee3c4bd1",
       "version_major": 2,
       "version_minor": 0
      },
      "text/plain": [
       "Training (X / X Steps) (loss=X.X):   0%|                                                               | 0/60 …"
      ]
     },
     "metadata": {},
     "output_type": "display_data"
    },
    {
     "data": {
      "application/vnd.jupyter.widget-view+json": {
       "model_id": "3862ce25aafa46a5bca2af31115a49f3",
       "version_major": 2,
       "version_minor": 0
      },
      "text/plain": [
       "Validate (X / X Steps) (dice=X.X):   0%|                                                               | 0/35 …"
      ]
     },
     "metadata": {},
     "output_type": "display_data"
    },
    {
     "name": "stdout",
     "output_type": "stream",
     "text": [
      "Model Was Not Saved ! Current Best Avg. Dice: 0.47176387906074524 Current Avg. Dice: 0.4618280827999115\n"
     ]
    },
    {
     "data": {
      "application/vnd.jupyter.widget-view+json": {
       "model_id": "424b3ae713a6413c95c65ade440975c6",
       "version_major": 2,
       "version_minor": 0
      },
      "text/plain": [
       "Training (X / X Steps) (loss=X.X):   0%|                                                               | 0/60 …"
      ]
     },
     "metadata": {},
     "output_type": "display_data"
    },
    {
     "data": {
      "application/vnd.jupyter.widget-view+json": {
       "model_id": "a02f96d5a5cb420880a6d74c75f04d90",
       "version_major": 2,
       "version_minor": 0
      },
      "text/plain": [
       "Training (X / X Steps) (loss=X.X):   0%|                                                               | 0/60 …"
      ]
     },
     "metadata": {},
     "output_type": "display_data"
    },
    {
     "data": {
      "application/vnd.jupyter.widget-view+json": {
       "model_id": "e16f92238393409b8ee457697f6cadc7",
       "version_major": 2,
       "version_minor": 0
      },
      "text/plain": [
       "Training (X / X Steps) (loss=X.X):   0%|                                                               | 0/60 …"
      ]
     },
     "metadata": {},
     "output_type": "display_data"
    },
    {
     "data": {
      "application/vnd.jupyter.widget-view+json": {
       "model_id": "718405b967ee4e31996646961ecdfe1e",
       "version_major": 2,
       "version_minor": 0
      },
      "text/plain": [
       "Training (X / X Steps) (loss=X.X):   0%|                                                               | 0/60 …"
      ]
     },
     "metadata": {},
     "output_type": "display_data"
    },
    {
     "data": {
      "application/vnd.jupyter.widget-view+json": {
       "model_id": "f5e0889fd7db4b95b82300654980059b",
       "version_major": 2,
       "version_minor": 0
      },
      "text/plain": [
       "Training (X / X Steps) (loss=X.X):   0%|                                                               | 0/60 …"
      ]
     },
     "metadata": {},
     "output_type": "display_data"
    },
    {
     "data": {
      "application/vnd.jupyter.widget-view+json": {
       "model_id": "44bdeddb39a04abaa64a52497202b419",
       "version_major": 2,
       "version_minor": 0
      },
      "text/plain": [
       "Validate (X / X Steps) (dice=X.X):   0%|                                                               | 0/35 …"
      ]
     },
     "metadata": {},
     "output_type": "display_data"
    },
    {
     "name": "stdout",
     "output_type": "stream",
     "text": [
      "Model Was Not Saved ! Current Best Avg. Dice: 0.47176387906074524 Current Avg. Dice: 0.4680507779121399\n"
     ]
    },
    {
     "name": "stderr",
     "output_type": "stream",
     "text": [
      "IOPub message rate exceeded.\n",
      "The notebook server will temporarily stop sending output\n",
      "to the client in order to avoid crashing it.\n",
      "To change this limit, set the config variable\n",
      "`--NotebookApp.iopub_msg_rate_limit`.\n",
      "\n",
      "Current values:\n",
      "NotebookApp.iopub_msg_rate_limit=1000.0 (msgs/sec)\n",
      "NotebookApp.rate_limit_window=3.0 (secs)\n",
      "\n"
     ]
    },
    {
     "data": {
      "application/vnd.jupyter.widget-view+json": {
       "model_id": "426d6289259145ffbbb936b32a6c4a3e",
       "version_major": 2,
       "version_minor": 0
      },
      "text/plain": [
       "Training (X / X Steps) (loss=X.X):   0%|                                                               | 0/60 …"
      ]
     },
     "metadata": {},
     "output_type": "display_data"
    },
    {
     "data": {
      "application/vnd.jupyter.widget-view+json": {
       "model_id": "b2eed71919994a04af9a1a40f6a0a5c4",
       "version_major": 2,
       "version_minor": 0
      },
      "text/plain": [
       "Validate (X / X Steps) (dice=X.X):   0%|                                                               | 0/35 …"
      ]
     },
     "metadata": {},
     "output_type": "display_data"
    },
    {
     "name": "stdout",
     "output_type": "stream",
     "text": [
      "Model Was Not Saved ! Current Best Avg. Dice: 0.4737700819969177 Current Avg. Dice: 0.4618719816207886\n"
     ]
    },
    {
     "data": {
      "application/vnd.jupyter.widget-view+json": {
       "model_id": "ead8249adb0944abbc8f6fa52f033ef3",
       "version_major": 2,
       "version_minor": 0
      },
      "text/plain": [
       "Training (X / X Steps) (loss=X.X):   0%|                                                               | 0/60 …"
      ]
     },
     "metadata": {},
     "output_type": "display_data"
    },
    {
     "data": {
      "application/vnd.jupyter.widget-view+json": {
       "model_id": "96be49a6c3384f88b82b43f40c5ada57",
       "version_major": 2,
       "version_minor": 0
      },
      "text/plain": [
       "Training (X / X Steps) (loss=X.X):   0%|                                                               | 0/60 …"
      ]
     },
     "metadata": {},
     "output_type": "display_data"
    },
    {
     "data": {
      "application/vnd.jupyter.widget-view+json": {
       "model_id": "2646cc00a7d54f32a7b39e1b81532372",
       "version_major": 2,
       "version_minor": 0
      },
      "text/plain": [
       "Training (X / X Steps) (loss=X.X):   0%|                                                               | 0/60 …"
      ]
     },
     "metadata": {},
     "output_type": "display_data"
    },
    {
     "data": {
      "application/vnd.jupyter.widget-view+json": {
       "model_id": "c3d35c88fef44926ba6f4de12fd9339d",
       "version_major": 2,
       "version_minor": 0
      },
      "text/plain": [
       "Training (X / X Steps) (loss=X.X):   0%|                                                               | 0/60 …"
      ]
     },
     "metadata": {},
     "output_type": "display_data"
    },
    {
     "data": {
      "application/vnd.jupyter.widget-view+json": {
       "model_id": "e0502b33e72340f2ac03556b48ce2512",
       "version_major": 2,
       "version_minor": 0
      },
      "text/plain": [
       "Training (X / X Steps) (loss=X.X):   0%|                                                               | 0/60 …"
      ]
     },
     "metadata": {},
     "output_type": "display_data"
    },
    {
     "data": {
      "application/vnd.jupyter.widget-view+json": {
       "model_id": "4ada0e00e21b4858adc908d0c4a82a7b",
       "version_major": 2,
       "version_minor": 0
      },
      "text/plain": [
       "Validate (X / X Steps) (dice=X.X):   0%|                                                               | 0/35 …"
      ]
     },
     "metadata": {},
     "output_type": "display_data"
    },
    {
     "name": "stdout",
     "output_type": "stream",
     "text": [
      "Model Was Not Saved ! Current Best Avg. Dice: 0.4737700819969177 Current Avg. Dice: 0.4593782126903534\n"
     ]
    },
    {
     "data": {
      "application/vnd.jupyter.widget-view+json": {
       "model_id": "3e4043170f9041859c82ba01d1cf9065",
       "version_major": 2,
       "version_minor": 0
      },
      "text/plain": [
       "Training (X / X Steps) (loss=X.X):   0%|                                                               | 0/60 …"
      ]
     },
     "metadata": {},
     "output_type": "display_data"
    },
    {
     "data": {
      "application/vnd.jupyter.widget-view+json": {
       "model_id": "2a0791b4fe0649a4a3d5bf71fd1a9050",
       "version_major": 2,
       "version_minor": 0
      },
      "text/plain": [
       "Training (X / X Steps) (loss=X.X):   0%|                                                               | 0/60 …"
      ]
     },
     "metadata": {},
     "output_type": "display_data"
    },
    {
     "data": {
      "application/vnd.jupyter.widget-view+json": {
       "model_id": "52d7c88217f8469cb3fc1e29706e8ab0",
       "version_major": 2,
       "version_minor": 0
      },
      "text/plain": [
       "Training (X / X Steps) (loss=X.X):   0%|                                                               | 0/60 …"
      ]
     },
     "metadata": {},
     "output_type": "display_data"
    },
    {
     "name": "stderr",
     "output_type": "stream",
     "text": [
      "IOPub message rate exceeded.\n",
      "The notebook server will temporarily stop sending output\n",
      "to the client in order to avoid crashing it.\n",
      "To change this limit, set the config variable\n",
      "`--NotebookApp.iopub_msg_rate_limit`.\n",
      "\n",
      "Current values:\n",
      "NotebookApp.iopub_msg_rate_limit=1000.0 (msgs/sec)\n",
      "NotebookApp.rate_limit_window=3.0 (secs)\n",
      "\n"
     ]
    },
    {
     "data": {
      "application/vnd.jupyter.widget-view+json": {
       "model_id": "0101ab4358c54d5db64ec1576e482a89",
       "version_major": 2,
       "version_minor": 0
      },
      "text/plain": [
       "Training (X / X Steps) (loss=X.X):   0%|                                                               | 0/60 …"
      ]
     },
     "metadata": {},
     "output_type": "display_data"
    },
    {
     "data": {
      "application/vnd.jupyter.widget-view+json": {
       "model_id": "35111e45c18e4702ab900323309f3a47",
       "version_major": 2,
       "version_minor": 0
      },
      "text/plain": [
       "Validate (X / X Steps) (dice=X.X):   0%|                                                               | 0/35 …"
      ]
     },
     "metadata": {},
     "output_type": "display_data"
    },
    {
     "name": "stdout",
     "output_type": "stream",
     "text": [
      "Model Was Not Saved ! Current Best Avg. Dice: 0.4737700819969177 Current Avg. Dice: 0.45658063888549805\n"
     ]
    },
    {
     "data": {
      "application/vnd.jupyter.widget-view+json": {
       "model_id": "88dcd4f7089c429a827067c532fb8706",
       "version_major": 2,
       "version_minor": 0
      },
      "text/plain": [
       "Training (X / X Steps) (loss=X.X):   0%|                                                               | 0/60 …"
      ]
     },
     "metadata": {},
     "output_type": "display_data"
    },
    {
     "data": {
      "application/vnd.jupyter.widget-view+json": {
       "model_id": "bfff94ded31e452b867895bde01f31d1",
       "version_major": 2,
       "version_minor": 0
      },
      "text/plain": [
       "Training (X / X Steps) (loss=X.X):   0%|                                                               | 0/60 …"
      ]
     },
     "metadata": {},
     "output_type": "display_data"
    },
    {
     "data": {
      "application/vnd.jupyter.widget-view+json": {
       "model_id": "9b7852f1195c4f8b8896e560c4e5abb2",
       "version_major": 2,
       "version_minor": 0
      },
      "text/plain": [
       "Training (X / X Steps) (loss=X.X):   0%|                                                               | 0/60 …"
      ]
     },
     "metadata": {},
     "output_type": "display_data"
    },
    {
     "data": {
      "application/vnd.jupyter.widget-view+json": {
       "model_id": "12548fd3280744748c5b4843f64dc042",
       "version_major": 2,
       "version_minor": 0
      },
      "text/plain": [
       "Training (X / X Steps) (loss=X.X):   0%|                                                               | 0/60 …"
      ]
     },
     "metadata": {},
     "output_type": "display_data"
    },
    {
     "data": {
      "application/vnd.jupyter.widget-view+json": {
       "model_id": "f1a2438dbf384364a2f047025e8b729c",
       "version_major": 2,
       "version_minor": 0
      },
      "text/plain": [
       "Training (X / X Steps) (loss=X.X):   0%|                                                               | 0/60 …"
      ]
     },
     "metadata": {},
     "output_type": "display_data"
    },
    {
     "data": {
      "application/vnd.jupyter.widget-view+json": {
       "model_id": "ac88565615944d479a1b127dbf9bec19",
       "version_major": 2,
       "version_minor": 0
      },
      "text/plain": [
       "Validate (X / X Steps) (dice=X.X):   0%|                                                               | 0/35 …"
      ]
     },
     "metadata": {},
     "output_type": "display_data"
    },
    {
     "name": "stdout",
     "output_type": "stream",
     "text": [
      "Model Was Not Saved ! Current Best Avg. Dice: 0.4737700819969177 Current Avg. Dice: 0.467736154794693\n"
     ]
    },
    {
     "data": {
      "application/vnd.jupyter.widget-view+json": {
       "model_id": "879d7cde0c304a6a9b926a0fd50377c7",
       "version_major": 2,
       "version_minor": 0
      },
      "text/plain": [
       "Training (X / X Steps) (loss=X.X):   0%|                                                               | 0/60 …"
      ]
     },
     "metadata": {},
     "output_type": "display_data"
    },
    {
     "data": {
      "application/vnd.jupyter.widget-view+json": {
       "model_id": "910ad3baa7f9472bb72a945658d133a5",
       "version_major": 2,
       "version_minor": 0
      },
      "text/plain": [
       "Training (X / X Steps) (loss=X.X):   0%|                                                               | 0/60 …"
      ]
     },
     "metadata": {},
     "output_type": "display_data"
    },
    {
     "name": "stderr",
     "output_type": "stream",
     "text": [
      "IOPub message rate exceeded.\n",
      "The notebook server will temporarily stop sending output\n",
      "to the client in order to avoid crashing it.\n",
      "To change this limit, set the config variable\n",
      "`--NotebookApp.iopub_msg_rate_limit`.\n",
      "\n",
      "Current values:\n",
      "NotebookApp.iopub_msg_rate_limit=1000.0 (msgs/sec)\n",
      "NotebookApp.rate_limit_window=3.0 (secs)\n",
      "\n"
     ]
    },
    {
     "data": {
      "application/vnd.jupyter.widget-view+json": {
       "model_id": "56961985cfb843c1b4a996dbcf45307d",
       "version_major": 2,
       "version_minor": 0
      },
      "text/plain": [
       "Training (X / X Steps) (loss=X.X):   0%|                                                               | 0/60 …"
      ]
     },
     "metadata": {},
     "output_type": "display_data"
    },
    {
     "data": {
      "application/vnd.jupyter.widget-view+json": {
       "model_id": "6b49ca68d54d48f8b7c84e8837c1a39b",
       "version_major": 2,
       "version_minor": 0
      },
      "text/plain": [
       "Training (X / X Steps) (loss=X.X):   0%|                                                               | 0/60 …"
      ]
     },
     "metadata": {},
     "output_type": "display_data"
    },
    {
     "data": {
      "application/vnd.jupyter.widget-view+json": {
       "model_id": "f85eaf27b44348df8adb48cf2b53478c",
       "version_major": 2,
       "version_minor": 0
      },
      "text/plain": [
       "Validate (X / X Steps) (dice=X.X):   0%|                                                               | 0/35 …"
      ]
     },
     "metadata": {},
     "output_type": "display_data"
    },
    {
     "name": "stdout",
     "output_type": "stream",
     "text": [
      "Model Was Not Saved ! Current Best Avg. Dice: 0.4737700819969177 Current Avg. Dice: 0.4671478867530823\n"
     ]
    },
    {
     "data": {
      "application/vnd.jupyter.widget-view+json": {
       "model_id": "799acab44cdb4fac9fb371e62fbf57ca",
       "version_major": 2,
       "version_minor": 0
      },
      "text/plain": [
       "Training (X / X Steps) (loss=X.X):   0%|                                                               | 0/60 …"
      ]
     },
     "metadata": {},
     "output_type": "display_data"
    },
    {
     "data": {
      "application/vnd.jupyter.widget-view+json": {
       "model_id": "39d98b02925d4da18be6c4e5d195e5ab",
       "version_major": 2,
       "version_minor": 0
      },
      "text/plain": [
       "Training (X / X Steps) (loss=X.X):   0%|                                                               | 0/60 …"
      ]
     },
     "metadata": {},
     "output_type": "display_data"
    },
    {
     "data": {
      "application/vnd.jupyter.widget-view+json": {
       "model_id": "78066dd084934db3b4095ebbaabc9dae",
       "version_major": 2,
       "version_minor": 0
      },
      "text/plain": [
       "Training (X / X Steps) (loss=X.X):   0%|                                                               | 0/60 …"
      ]
     },
     "metadata": {},
     "output_type": "display_data"
    },
    {
     "data": {
      "application/vnd.jupyter.widget-view+json": {
       "model_id": "ccc2933d9ead4ecdacfd48fdf55d93e8",
       "version_major": 2,
       "version_minor": 0
      },
      "text/plain": [
       "Training (X / X Steps) (loss=X.X):   0%|                                                               | 0/60 …"
      ]
     },
     "metadata": {},
     "output_type": "display_data"
    },
    {
     "data": {
      "application/vnd.jupyter.widget-view+json": {
       "model_id": "d0092e4f23e24f1c9d7009eabb165f4e",
       "version_major": 2,
       "version_minor": 0
      },
      "text/plain": [
       "Training (X / X Steps) (loss=X.X):   0%|                                                               | 0/60 …"
      ]
     },
     "metadata": {},
     "output_type": "display_data"
    },
    {
     "data": {
      "application/vnd.jupyter.widget-view+json": {
       "model_id": "820d31c74c914574b4a5784f53457856",
       "version_major": 2,
       "version_minor": 0
      },
      "text/plain": [
       "Validate (X / X Steps) (dice=X.X):   0%|                                                               | 0/35 …"
      ]
     },
     "metadata": {},
     "output_type": "display_data"
    },
    {
     "name": "stdout",
     "output_type": "stream",
     "text": [
      "Model Was Not Saved ! Current Best Avg. Dice: 0.4737700819969177 Current Avg. Dice: 0.45676782727241516\n"
     ]
    },
    {
     "data": {
      "application/vnd.jupyter.widget-view+json": {
       "model_id": "4a854fef6d004c02aac9a046ee110061",
       "version_major": 2,
       "version_minor": 0
      },
      "text/plain": [
       "Training (X / X Steps) (loss=X.X):   0%|                                                               | 0/60 …"
      ]
     },
     "metadata": {},
     "output_type": "display_data"
    },
    {
     "data": {
      "application/vnd.jupyter.widget-view+json": {
       "model_id": "bb3b54fab544401f97ba7eb54db9d2b8",
       "version_major": 2,
       "version_minor": 0
      },
      "text/plain": [
       "Training (X / X Steps) (loss=X.X):   0%|                                                               | 0/60 …"
      ]
     },
     "metadata": {},
     "output_type": "display_data"
    },
    {
     "name": "stderr",
     "output_type": "stream",
     "text": [
      "IOPub message rate exceeded.\n",
      "The notebook server will temporarily stop sending output\n",
      "to the client in order to avoid crashing it.\n",
      "To change this limit, set the config variable\n",
      "`--NotebookApp.iopub_msg_rate_limit`.\n",
      "\n",
      "Current values:\n",
      "NotebookApp.iopub_msg_rate_limit=1000.0 (msgs/sec)\n",
      "NotebookApp.rate_limit_window=3.0 (secs)\n",
      "\n"
     ]
    },
    {
     "data": {
      "application/vnd.jupyter.widget-view+json": {
       "model_id": "798c9d1b8ea74f1393dc73582ed4de33",
       "version_major": 2,
       "version_minor": 0
      },
      "text/plain": [
       "Training (X / X Steps) (loss=X.X):   0%|                                                               | 0/60 …"
      ]
     },
     "metadata": {},
     "output_type": "display_data"
    },
    {
     "data": {
      "application/vnd.jupyter.widget-view+json": {
       "model_id": "8e52e1bfcb7544bf9f91bbbcbc1c673c",
       "version_major": 2,
       "version_minor": 0
      },
      "text/plain": [
       "Training (X / X Steps) (loss=X.X):   0%|                                                               | 0/60 …"
      ]
     },
     "metadata": {},
     "output_type": "display_data"
    },
    {
     "data": {
      "application/vnd.jupyter.widget-view+json": {
       "model_id": "4701996689eb4bd491e73a5eb0fc13c4",
       "version_major": 2,
       "version_minor": 0
      },
      "text/plain": [
       "Training (X / X Steps) (loss=X.X):   0%|                                                               | 0/60 …"
      ]
     },
     "metadata": {},
     "output_type": "display_data"
    },
    {
     "data": {
      "application/vnd.jupyter.widget-view+json": {
       "model_id": "d43f15df1a9c417fb4d55cbea040adda",
       "version_major": 2,
       "version_minor": 0
      },
      "text/plain": [
       "Training (X / X Steps) (loss=X.X):   0%|                                                               | 0/60 …"
      ]
     },
     "metadata": {},
     "output_type": "display_data"
    },
    {
     "data": {
      "application/vnd.jupyter.widget-view+json": {
       "model_id": "fdde3bee009b41d285a3a15e9da26f6a",
       "version_major": 2,
       "version_minor": 0
      },
      "text/plain": [
       "Training (X / X Steps) (loss=X.X):   0%|                                                               | 0/60 …"
      ]
     },
     "metadata": {},
     "output_type": "display_data"
    },
    {
     "data": {
      "application/vnd.jupyter.widget-view+json": {
       "model_id": "bb213d9df45e4b79b8b34ab4abd7dc72",
       "version_major": 2,
       "version_minor": 0
      },
      "text/plain": [
       "Validate (X / X Steps) (dice=X.X):   0%|                                                               | 0/35 …"
      ]
     },
     "metadata": {},
     "output_type": "display_data"
    },
    {
     "name": "stdout",
     "output_type": "stream",
     "text": [
      "Model Was Not Saved ! Current Best Avg. Dice: 0.4737700819969177 Current Avg. Dice: 0.4643978178501129\n"
     ]
    },
    {
     "data": {
      "application/vnd.jupyter.widget-view+json": {
       "model_id": "a7c9d360c1174f55a582b01f283e63a0",
       "version_major": 2,
       "version_minor": 0
      },
      "text/plain": [
       "Training (X / X Steps) (loss=X.X):   0%|                                                               | 0/60 …"
      ]
     },
     "metadata": {},
     "output_type": "display_data"
    },
    {
     "data": {
      "application/vnd.jupyter.widget-view+json": {
       "model_id": "ae6eaa51b0c647768759422149125ba7",
       "version_major": 2,
       "version_minor": 0
      },
      "text/plain": [
       "Training (X / X Steps) (loss=X.X):   0%|                                                               | 0/60 …"
      ]
     },
     "metadata": {},
     "output_type": "display_data"
    },
    {
     "name": "stderr",
     "output_type": "stream",
     "text": [
      "IOPub message rate exceeded.\n",
      "The notebook server will temporarily stop sending output\n",
      "to the client in order to avoid crashing it.\n",
      "To change this limit, set the config variable\n",
      "`--NotebookApp.iopub_msg_rate_limit`.\n",
      "\n",
      "Current values:\n",
      "NotebookApp.iopub_msg_rate_limit=1000.0 (msgs/sec)\n",
      "NotebookApp.rate_limit_window=3.0 (secs)\n",
      "\n"
     ]
    },
    {
     "data": {
      "application/vnd.jupyter.widget-view+json": {
       "model_id": "3fd6c99f9dce4969978346a348aade0b",
       "version_major": 2,
       "version_minor": 0
      },
      "text/plain": [
       "Training (X / X Steps) (loss=X.X):   0%|                                                               | 0/60 …"
      ]
     },
     "metadata": {},
     "output_type": "display_data"
    },
    {
     "data": {
      "application/vnd.jupyter.widget-view+json": {
       "model_id": "e7f5bcc9c06646398d9ca9ae331c6792",
       "version_major": 2,
       "version_minor": 0
      },
      "text/plain": [
       "Validate (X / X Steps) (dice=X.X):   0%|                                                               | 0/35 …"
      ]
     },
     "metadata": {},
     "output_type": "display_data"
    },
    {
     "name": "stdout",
     "output_type": "stream",
     "text": [
      "Model Was Not Saved ! Current Best Avg. Dice: 0.4737700819969177 Current Avg. Dice: 0.45648112893104553\n"
     ]
    },
    {
     "data": {
      "application/vnd.jupyter.widget-view+json": {
       "model_id": "2ec82d2280494a69ac0a029434764886",
       "version_major": 2,
       "version_minor": 0
      },
      "text/plain": [
       "Training (X / X Steps) (loss=X.X):   0%|                                                               | 0/60 …"
      ]
     },
     "metadata": {},
     "output_type": "display_data"
    },
    {
     "data": {
      "application/vnd.jupyter.widget-view+json": {
       "model_id": "1235c8d8d6344823b2375f111bbed4f7",
       "version_major": 2,
       "version_minor": 0
      },
      "text/plain": [
       "Training (X / X Steps) (loss=X.X):   0%|                                                               | 0/60 …"
      ]
     },
     "metadata": {},
     "output_type": "display_data"
    },
    {
     "data": {
      "application/vnd.jupyter.widget-view+json": {
       "model_id": "ccd512d24fa94ade8658a8a3a0276df6",
       "version_major": 2,
       "version_minor": 0
      },
      "text/plain": [
       "Training (X / X Steps) (loss=X.X):   0%|                                                               | 0/60 …"
      ]
     },
     "metadata": {},
     "output_type": "display_data"
    },
    {
     "data": {
      "application/vnd.jupyter.widget-view+json": {
       "model_id": "f337cb4b519d408fafd8f29f16484a90",
       "version_major": 2,
       "version_minor": 0
      },
      "text/plain": [
       "Training (X / X Steps) (loss=X.X):   0%|                                                               | 0/60 …"
      ]
     },
     "metadata": {},
     "output_type": "display_data"
    },
    {
     "data": {
      "application/vnd.jupyter.widget-view+json": {
       "model_id": "9546574ae5de438d986be176161aa6cc",
       "version_major": 2,
       "version_minor": 0
      },
      "text/plain": [
       "Training (X / X Steps) (loss=X.X):   0%|                                                               | 0/60 …"
      ]
     },
     "metadata": {},
     "output_type": "display_data"
    },
    {
     "data": {
      "application/vnd.jupyter.widget-view+json": {
       "model_id": "580a7d2d392049fe97e1cffc3207ffb1",
       "version_major": 2,
       "version_minor": 0
      },
      "text/plain": [
       "Validate (X / X Steps) (dice=X.X):   0%|                                                               | 0/35 …"
      ]
     },
     "metadata": {},
     "output_type": "display_data"
    },
    {
     "name": "stdout",
     "output_type": "stream",
     "text": [
      "Model Was Not Saved ! Current Best Avg. Dice: 0.4737700819969177 Current Avg. Dice: 0.45631369948387146\n"
     ]
    },
    {
     "data": {
      "text/plain": [
       "<All keys matched successfully>"
      ]
     },
     "execution_count": 12,
     "metadata": {},
     "output_type": "execute_result"
    }
   ],
   "source": [
    "def validation(epoch_iterator_val):\n",
    "    model.eval()\n",
    "    with torch.no_grad():\n",
    "        for step, batch in enumerate(epoch_iterator_val):\n",
    "            val_inputs, val_labels = (batch[\"image\"].cuda(), batch[\"label\"].cuda())\n",
    "            val_outputs = sliding_window_inference(val_inputs, (96, 96, 96), 4*GPU_NUM, model)\n",
    "            val_labels_list = decollate_batch(val_labels)\n",
    "            val_labels_convert = [\n",
    "                post_label(val_label_tensor) for val_label_tensor in val_labels_list\n",
    "            ]\n",
    "            val_outputs_list = decollate_batch(val_outputs)\n",
    "            val_output_convert = [\n",
    "                post_pred(val_pred_tensor) for val_pred_tensor in val_outputs_list\n",
    "            ]\n",
    "            dice_metric(y_pred=val_output_convert, y=val_labels_convert)\n",
    "            epoch_iterator_val.set_description(\n",
    "                \"Validate (%d / %d Steps)\" % (global_step, 10.0)\n",
    "            )\n",
    "        mean_dice_val = dice_metric.aggregate().item()\n",
    "        dice_metric.reset()\n",
    "    return mean_dice_val\n",
    "\n",
    "\n",
    "def train(global_step, train_loader, dice_val_best, global_step_best):\n",
    "    model.train()\n",
    "    epoch_loss = 0\n",
    "    step = 0\n",
    "    epoch_iterator = tqdm(\n",
    "        train_loader, desc=\"Training (X / X Steps) (loss=X.X)\", dynamic_ncols=True\n",
    "    )\n",
    "    for step, batch in enumerate(epoch_iterator):\n",
    "        step += 1\n",
    "        x, y = (batch[\"image\"].cuda(), batch[\"label\"].cuda())\n",
    "        logit_map = model(x)\n",
    "        loss = loss_function(logit_map, y)\n",
    "        loss.backward()\n",
    "        epoch_loss += loss.item()\n",
    "        optimizer.step()\n",
    "        optimizer.zero_grad()\n",
    "        epoch_iterator.set_description(\n",
    "            \"Training (%d / %d Steps) (loss=%2.5f)\"\n",
    "            % (global_step, max_iterations, loss)\n",
    "        )\n",
    "        if (\n",
    "            global_step % eval_num == 0 and global_step != 0\n",
    "        ) or global_step == max_iterations:\n",
    "            epoch_iterator_val = tqdm(\n",
    "                val_loader, desc=\"Validate (X / X Steps) (dice=X.X)\", dynamic_ncols=True\n",
    "            )\n",
    "            dice_val = validation(epoch_iterator_val)\n",
    "            epoch_loss /= step\n",
    "            epoch_loss_values.append(epoch_loss)\n",
    "            metric_values.append(dice_val)\n",
    "            if dice_val > dice_val_best:\n",
    "                dice_val_best = dice_val\n",
    "                global_step_best = global_step\n",
    "                torch.save(\n",
    "                    model.state_dict(), os.path.join(root_dir, \"best_metric_model.pth\")\n",
    "                )\n",
    "                print(\n",
    "                    \"Model Was Saved ! Current Best Avg. Dice: {} Current Avg. Dice: {}\".format(\n",
    "                        dice_val_best, dice_val\n",
    "                    )\n",
    "                )\n",
    "            else:\n",
    "                print(\n",
    "                    \"Model Was Not Saved ! Current Best Avg. Dice: {} Current Avg. Dice: {}\".format(\n",
    "                        dice_val_best, dice_val\n",
    "                    )\n",
    "                )\n",
    "        global_step += 1\n",
    "    return global_step, dice_val_best, global_step_best\n",
    "\n",
    "\n",
    "max_iterations = 30000\n",
    "eval_num = 300\n",
    "post_label = AsDiscrete(threshold=0.5)\n",
    "post_pred = AsDiscrete(threshold=0.5)\n",
    "dice_metric = DiceMetric(include_background=False, reduction=\"mean\", get_not_nans=False)\n",
    "global_step = 0\n",
    "dice_val_best = 0.0\n",
    "global_step_best = 0\n",
    "epoch_loss_values = []\n",
    "metric_values = []\n",
    "while global_step < max_iterations+1:\n",
    "    global_step, dice_val_best, global_step_best = train(\n",
    "        global_step, train_loader, dice_val_best, global_step_best\n",
    "    )\n",
    "model.load_state_dict(torch.load(os.path.join(root_dir, \"best_metric_model.pth\")))"
   ]
  },
  {
   "cell_type": "code",
   "execution_count": 13,
   "id": "bd803a8e",
   "metadata": {},
   "outputs": [
    {
     "data": {
      "application/vnd.jupyter.widget-view+json": {
       "model_id": "c7a0b4d357374940b42ca7f707b24097",
       "version_major": 2,
       "version_minor": 0
      },
      "text/plain": [
       "Training (X / X Steps) (loss=X.X):   0%|                                                               | 0/60 …"
      ]
     },
     "metadata": {},
     "output_type": "display_data"
    },
    {
     "data": {
      "application/vnd.jupyter.widget-view+json": {
       "model_id": "e881a789b6134f9a94917c7f54e86c59",
       "version_major": 2,
       "version_minor": 0
      },
      "text/plain": [
       "Training (X / X Steps) (loss=X.X):   0%|                                                               | 0/60 …"
      ]
     },
     "metadata": {},
     "output_type": "display_data"
    },
    {
     "data": {
      "application/vnd.jupyter.widget-view+json": {
       "model_id": "478104eb32954f95a7584db4538fb0cc",
       "version_major": 2,
       "version_minor": 0
      },
      "text/plain": [
       "Training (X / X Steps) (loss=X.X):   0%|                                                               | 0/60 …"
      ]
     },
     "metadata": {},
     "output_type": "display_data"
    },
    {
     "data": {
      "application/vnd.jupyter.widget-view+json": {
       "model_id": "22ba0f45bba5492896d12e86e6665575",
       "version_major": 2,
       "version_minor": 0
      },
      "text/plain": [
       "Training (X / X Steps) (loss=X.X):   0%|                                                               | 0/60 …"
      ]
     },
     "metadata": {},
     "output_type": "display_data"
    },
    {
     "data": {
      "application/vnd.jupyter.widget-view+json": {
       "model_id": "634a47ed7eaa49849c52e3c5223ef0d2",
       "version_major": 2,
       "version_minor": 0
      },
      "text/plain": [
       "Training (X / X Steps) (loss=X.X):   0%|                                                               | 0/60 …"
      ]
     },
     "metadata": {},
     "output_type": "display_data"
    },
    {
     "data": {
      "application/vnd.jupyter.widget-view+json": {
       "model_id": "50d8febb4611437abbf5a7c7c887c161",
       "version_major": 2,
       "version_minor": 0
      },
      "text/plain": [
       "Validate (X / X Steps) (dice=X.X):   0%|                                                               | 0/35 …"
      ]
     },
     "metadata": {},
     "output_type": "display_data"
    },
    {
     "name": "stdout",
     "output_type": "stream",
     "text": [
      "Model Was Not Saved ! Current Best Avg. Dice: 0.4737700819969177 Current Avg. Dice: 0.46759429574012756\n"
     ]
    },
    {
     "data": {
      "application/vnd.jupyter.widget-view+json": {
       "model_id": "0cc20a8af48e425d9bae6819f1fd0180",
       "version_major": 2,
       "version_minor": 0
      },
      "text/plain": [
       "Training (X / X Steps) (loss=X.X):   0%|                                                               | 0/60 …"
      ]
     },
     "metadata": {},
     "output_type": "display_data"
    },
    {
     "data": {
      "application/vnd.jupyter.widget-view+json": {
       "model_id": "9f18a4b740334929a348ad9e2c1b6fd6",
       "version_major": 2,
       "version_minor": 0
      },
      "text/plain": [
       "Training (X / X Steps) (loss=X.X):   0%|                                                               | 0/60 …"
      ]
     },
     "metadata": {},
     "output_type": "display_data"
    },
    {
     "data": {
      "application/vnd.jupyter.widget-view+json": {
       "model_id": "e6fed907b70741c7a965bc1515979385",
       "version_major": 2,
       "version_minor": 0
      },
      "text/plain": [
       "Training (X / X Steps) (loss=X.X):   0%|                                                               | 0/60 …"
      ]
     },
     "metadata": {},
     "output_type": "display_data"
    },
    {
     "data": {
      "application/vnd.jupyter.widget-view+json": {
       "model_id": "7fef5a756ac149ce92c70899d476e7ed",
       "version_major": 2,
       "version_minor": 0
      },
      "text/plain": [
       "Training (X / X Steps) (loss=X.X):   0%|                                                               | 0/60 …"
      ]
     },
     "metadata": {},
     "output_type": "display_data"
    },
    {
     "data": {
      "application/vnd.jupyter.widget-view+json": {
       "model_id": "c673e35125da4682975b780e3fe1629f",
       "version_major": 2,
       "version_minor": 0
      },
      "text/plain": [
       "Training (X / X Steps) (loss=X.X):   0%|                                                               | 0/60 …"
      ]
     },
     "metadata": {},
     "output_type": "display_data"
    },
    {
     "data": {
      "application/vnd.jupyter.widget-view+json": {
       "model_id": "e1f6109efcc34da2846029fca0ba51a2",
       "version_major": 2,
       "version_minor": 0
      },
      "text/plain": [
       "Validate (X / X Steps) (dice=X.X):   0%|                                                               | 0/35 …"
      ]
     },
     "metadata": {},
     "output_type": "display_data"
    },
    {
     "name": "stderr",
     "output_type": "stream",
     "text": [
      "IOPub message rate exceeded.\n",
      "The notebook server will temporarily stop sending output\n",
      "to the client in order to avoid crashing it.\n",
      "To change this limit, set the config variable\n",
      "`--NotebookApp.iopub_msg_rate_limit`.\n",
      "\n",
      "Current values:\n",
      "NotebookApp.iopub_msg_rate_limit=1000.0 (msgs/sec)\n",
      "NotebookApp.rate_limit_window=3.0 (secs)\n",
      "\n"
     ]
    },
    {
     "data": {
      "application/vnd.jupyter.widget-view+json": {
       "model_id": "f3a9d2f1c0d046c8a52699f97fe982b8",
       "version_major": 2,
       "version_minor": 0
      },
      "text/plain": [
       "Training (X / X Steps) (loss=X.X):   0%|                                                               | 0/60 …"
      ]
     },
     "metadata": {},
     "output_type": "display_data"
    },
    {
     "data": {
      "application/vnd.jupyter.widget-view+json": {
       "model_id": "5f4eba30f3684c5a96a91c461b864d92",
       "version_major": 2,
       "version_minor": 0
      },
      "text/plain": [
       "Training (X / X Steps) (loss=X.X):   0%|                                                               | 0/60 …"
      ]
     },
     "metadata": {},
     "output_type": "display_data"
    },
    {
     "data": {
      "application/vnd.jupyter.widget-view+json": {
       "model_id": "3040bafd70954342be3e57e2df7263f9",
       "version_major": 2,
       "version_minor": 0
      },
      "text/plain": [
       "Training (X / X Steps) (loss=X.X):   0%|                                                               | 0/60 …"
      ]
     },
     "metadata": {},
     "output_type": "display_data"
    },
    {
     "data": {
      "application/vnd.jupyter.widget-view+json": {
       "model_id": "15634da08ba74aa6bc58fb6e01620c02",
       "version_major": 2,
       "version_minor": 0
      },
      "text/plain": [
       "Training (X / X Steps) (loss=X.X):   0%|                                                               | 0/60 …"
      ]
     },
     "metadata": {},
     "output_type": "display_data"
    },
    {
     "data": {
      "application/vnd.jupyter.widget-view+json": {
       "model_id": "25dbcff857f14b17a36a8009494cdade",
       "version_major": 2,
       "version_minor": 0
      },
      "text/plain": [
       "Training (X / X Steps) (loss=X.X):   0%|                                                               | 0/60 …"
      ]
     },
     "metadata": {},
     "output_type": "display_data"
    },
    {
     "data": {
      "application/vnd.jupyter.widget-view+json": {
       "model_id": "338a25605bb04084ab270992747cbce9",
       "version_major": 2,
       "version_minor": 0
      },
      "text/plain": [
       "Validate (X / X Steps) (dice=X.X):   0%|                                                               | 0/35 …"
      ]
     },
     "metadata": {},
     "output_type": "display_data"
    },
    {
     "name": "stdout",
     "output_type": "stream",
     "text": [
      "Model Was Not Saved ! Current Best Avg. Dice: 0.4737700819969177 Current Avg. Dice: 0.4630812406539917\n"
     ]
    },
    {
     "data": {
      "application/vnd.jupyter.widget-view+json": {
       "model_id": "b02e08cd3cdc406197ca9c2103bed463",
       "version_major": 2,
       "version_minor": 0
      },
      "text/plain": [
       "Training (X / X Steps) (loss=X.X):   0%|                                                               | 0/60 …"
      ]
     },
     "metadata": {},
     "output_type": "display_data"
    },
    {
     "data": {
      "application/vnd.jupyter.widget-view+json": {
       "model_id": "f2757ed7cc5845388e002e4936969fd4",
       "version_major": 2,
       "version_minor": 0
      },
      "text/plain": [
       "Training (X / X Steps) (loss=X.X):   0%|                                                               | 0/60 …"
      ]
     },
     "metadata": {},
     "output_type": "display_data"
    },
    {
     "data": {
      "application/vnd.jupyter.widget-view+json": {
       "model_id": "6763a3d9aa6d4496b589d41496fb3c36",
       "version_major": 2,
       "version_minor": 0
      },
      "text/plain": [
       "Training (X / X Steps) (loss=X.X):   0%|                                                               | 0/60 …"
      ]
     },
     "metadata": {},
     "output_type": "display_data"
    },
    {
     "data": {
      "application/vnd.jupyter.widget-view+json": {
       "model_id": "df321bc643ab441099eab61a55fa4005",
       "version_major": 2,
       "version_minor": 0
      },
      "text/plain": [
       "Training (X / X Steps) (loss=X.X):   0%|                                                               | 0/60 …"
      ]
     },
     "metadata": {},
     "output_type": "display_data"
    },
    {
     "name": "stderr",
     "output_type": "stream",
     "text": [
      "IOPub message rate exceeded.\n",
      "The notebook server will temporarily stop sending output\n",
      "to the client in order to avoid crashing it.\n",
      "To change this limit, set the config variable\n",
      "`--NotebookApp.iopub_msg_rate_limit`.\n",
      "\n",
      "Current values:\n",
      "NotebookApp.iopub_msg_rate_limit=1000.0 (msgs/sec)\n",
      "NotebookApp.rate_limit_window=3.0 (secs)\n",
      "\n"
     ]
    },
    {
     "data": {
      "application/vnd.jupyter.widget-view+json": {
       "model_id": "3d85cfbec17e45a796a6182618888cd6",
       "version_major": 2,
       "version_minor": 0
      },
      "text/plain": [
       "Training (X / X Steps) (loss=X.X):   0%|                                                               | 0/60 …"
      ]
     },
     "metadata": {},
     "output_type": "display_data"
    },
    {
     "data": {
      "application/vnd.jupyter.widget-view+json": {
       "model_id": "f0f29680dc1b4cf48ffba122832724fc",
       "version_major": 2,
       "version_minor": 0
      },
      "text/plain": [
       "Training (X / X Steps) (loss=X.X):   0%|                                                               | 0/60 …"
      ]
     },
     "metadata": {},
     "output_type": "display_data"
    },
    {
     "data": {
      "application/vnd.jupyter.widget-view+json": {
       "model_id": "40fddb6b888b49198158d5c80b78bd76",
       "version_major": 2,
       "version_minor": 0
      },
      "text/plain": [
       "Training (X / X Steps) (loss=X.X):   0%|                                                               | 0/60 …"
      ]
     },
     "metadata": {},
     "output_type": "display_data"
    },
    {
     "data": {
      "application/vnd.jupyter.widget-view+json": {
       "model_id": "d9609b4ea3b04915972e343ac2dfa817",
       "version_major": 2,
       "version_minor": 0
      },
      "text/plain": [
       "Training (X / X Steps) (loss=X.X):   0%|                                                               | 0/60 …"
      ]
     },
     "metadata": {},
     "output_type": "display_data"
    },
    {
     "data": {
      "application/vnd.jupyter.widget-view+json": {
       "model_id": "88e31fc23ec44e32b1ff42f2734c4892",
       "version_major": 2,
       "version_minor": 0
      },
      "text/plain": [
       "Validate (X / X Steps) (dice=X.X):   0%|                                                               | 0/35 …"
      ]
     },
     "metadata": {},
     "output_type": "display_data"
    },
    {
     "name": "stdout",
     "output_type": "stream",
     "text": [
      "Model Was Not Saved ! Current Best Avg. Dice: 0.4737700819969177 Current Avg. Dice: 0.4716251492500305\n"
     ]
    },
    {
     "data": {
      "application/vnd.jupyter.widget-view+json": {
       "model_id": "eb1a260fa12b4d308c108c058c627a06",
       "version_major": 2,
       "version_minor": 0
      },
      "text/plain": [
       "Training (X / X Steps) (loss=X.X):   0%|                                                               | 0/60 …"
      ]
     },
     "metadata": {},
     "output_type": "display_data"
    },
    {
     "data": {
      "application/vnd.jupyter.widget-view+json": {
       "model_id": "446bdf7c01a54611909840b209fa61b9",
       "version_major": 2,
       "version_minor": 0
      },
      "text/plain": [
       "Training (X / X Steps) (loss=X.X):   0%|                                                               | 0/60 …"
      ]
     },
     "metadata": {},
     "output_type": "display_data"
    },
    {
     "data": {
      "application/vnd.jupyter.widget-view+json": {
       "model_id": "19f7ef01b76741d88ab9c33882a64473",
       "version_major": 2,
       "version_minor": 0
      },
      "text/plain": [
       "Training (X / X Steps) (loss=X.X):   0%|                                                               | 0/60 …"
      ]
     },
     "metadata": {},
     "output_type": "display_data"
    },
    {
     "data": {
      "application/vnd.jupyter.widget-view+json": {
       "model_id": "7a1e176b974849aeabddb73b9e67c13d",
       "version_major": 2,
       "version_minor": 0
      },
      "text/plain": [
       "Training (X / X Steps) (loss=X.X):   0%|                                                               | 0/60 …"
      ]
     },
     "metadata": {},
     "output_type": "display_data"
    },
    {
     "data": {
      "application/vnd.jupyter.widget-view+json": {
       "model_id": "5d290a7d0eab4f68b922b99487cb861b",
       "version_major": 2,
       "version_minor": 0
      },
      "text/plain": [
       "Training (X / X Steps) (loss=X.X):   0%|                                                               | 0/60 …"
      ]
     },
     "metadata": {},
     "output_type": "display_data"
    },
    {
     "data": {
      "application/vnd.jupyter.widget-view+json": {
       "model_id": "164fdb11be20443cbd64966cb9d942aa",
       "version_major": 2,
       "version_minor": 0
      },
      "text/plain": [
       "Validate (X / X Steps) (dice=X.X):   0%|                                                               | 0/35 …"
      ]
     },
     "metadata": {},
     "output_type": "display_data"
    },
    {
     "name": "stderr",
     "output_type": "stream",
     "text": [
      "IOPub message rate exceeded.\n",
      "The notebook server will temporarily stop sending output\n",
      "to the client in order to avoid crashing it.\n",
      "To change this limit, set the config variable\n",
      "`--NotebookApp.iopub_msg_rate_limit`.\n",
      "\n",
      "Current values:\n",
      "NotebookApp.iopub_msg_rate_limit=1000.0 (msgs/sec)\n",
      "NotebookApp.rate_limit_window=3.0 (secs)\n",
      "\n"
     ]
    },
    {
     "data": {
      "application/vnd.jupyter.widget-view+json": {
       "model_id": "b99ad1681e1445e0a69529d913846f82",
       "version_major": 2,
       "version_minor": 0
      },
      "text/plain": [
       "Training (X / X Steps) (loss=X.X):   0%|                                                               | 0/60 …"
      ]
     },
     "metadata": {},
     "output_type": "display_data"
    },
    {
     "data": {
      "application/vnd.jupyter.widget-view+json": {
       "model_id": "310ee6a1d1b749a3aec0f757556709d0",
       "version_major": 2,
       "version_minor": 0
      },
      "text/plain": [
       "Training (X / X Steps) (loss=X.X):   0%|                                                               | 0/60 …"
      ]
     },
     "metadata": {},
     "output_type": "display_data"
    },
    {
     "data": {
      "application/vnd.jupyter.widget-view+json": {
       "model_id": "f2a54437e98a494bb989fd9887de66d1",
       "version_major": 2,
       "version_minor": 0
      },
      "text/plain": [
       "Training (X / X Steps) (loss=X.X):   0%|                                                               | 0/60 …"
      ]
     },
     "metadata": {},
     "output_type": "display_data"
    },
    {
     "data": {
      "application/vnd.jupyter.widget-view+json": {
       "model_id": "28f14f6864ea4c1d86a7e75986dee4d5",
       "version_major": 2,
       "version_minor": 0
      },
      "text/plain": [
       "Training (X / X Steps) (loss=X.X):   0%|                                                               | 0/60 …"
      ]
     },
     "metadata": {},
     "output_type": "display_data"
    },
    {
     "data": {
      "application/vnd.jupyter.widget-view+json": {
       "model_id": "c932eed2ec5b46939d8682797eb73fba",
       "version_major": 2,
       "version_minor": 0
      },
      "text/plain": [
       "Validate (X / X Steps) (dice=X.X):   0%|                                                               | 0/35 …"
      ]
     },
     "metadata": {},
     "output_type": "display_data"
    },
    {
     "name": "stdout",
     "output_type": "stream",
     "text": [
      "Model Was Not Saved ! Current Best Avg. Dice: 0.4737700819969177 Current Avg. Dice: 0.46376681327819824\n"
     ]
    },
    {
     "data": {
      "application/vnd.jupyter.widget-view+json": {
       "model_id": "7d486d997ef44fc687b9f8fd305467f3",
       "version_major": 2,
       "version_minor": 0
      },
      "text/plain": [
       "Training (X / X Steps) (loss=X.X):   0%|                                                               | 0/60 …"
      ]
     },
     "metadata": {},
     "output_type": "display_data"
    },
    {
     "data": {
      "application/vnd.jupyter.widget-view+json": {
       "model_id": "15ef3cba78704562b2486de25813ba34",
       "version_major": 2,
       "version_minor": 0
      },
      "text/plain": [
       "Training (X / X Steps) (loss=X.X):   0%|                                                               | 0/60 …"
      ]
     },
     "metadata": {},
     "output_type": "display_data"
    },
    {
     "data": {
      "application/vnd.jupyter.widget-view+json": {
       "model_id": "89362228da8643bfbfffebfd3a00d73e",
       "version_major": 2,
       "version_minor": 0
      },
      "text/plain": [
       "Training (X / X Steps) (loss=X.X):   0%|                                                               | 0/60 …"
      ]
     },
     "metadata": {},
     "output_type": "display_data"
    },
    {
     "data": {
      "application/vnd.jupyter.widget-view+json": {
       "model_id": "2bced82783c74ec78ca7249915271be0",
       "version_major": 2,
       "version_minor": 0
      },
      "text/plain": [
       "Training (X / X Steps) (loss=X.X):   0%|                                                               | 0/60 …"
      ]
     },
     "metadata": {},
     "output_type": "display_data"
    },
    {
     "data": {
      "application/vnd.jupyter.widget-view+json": {
       "model_id": "66cf91a4e86b4ae0a27ac219719566c3",
       "version_major": 2,
       "version_minor": 0
      },
      "text/plain": [
       "Training (X / X Steps) (loss=X.X):   0%|                                                               | 0/60 …"
      ]
     },
     "metadata": {},
     "output_type": "display_data"
    },
    {
     "data": {
      "application/vnd.jupyter.widget-view+json": {
       "model_id": "2e99a08bbc834090b2f31084f26ba191",
       "version_major": 2,
       "version_minor": 0
      },
      "text/plain": [
       "Validate (X / X Steps) (dice=X.X):   0%|                                                               | 0/35 …"
      ]
     },
     "metadata": {},
     "output_type": "display_data"
    },
    {
     "name": "stdout",
     "output_type": "stream",
     "text": [
      "Model Was Not Saved ! Current Best Avg. Dice: 0.4737700819969177 Current Avg. Dice: 0.4615817070007324\n"
     ]
    },
    {
     "name": "stderr",
     "output_type": "stream",
     "text": [
      "IOPub message rate exceeded.\n",
      "The notebook server will temporarily stop sending output\n",
      "to the client in order to avoid crashing it.\n",
      "To change this limit, set the config variable\n",
      "`--NotebookApp.iopub_msg_rate_limit`.\n",
      "\n",
      "Current values:\n",
      "NotebookApp.iopub_msg_rate_limit=1000.0 (msgs/sec)\n",
      "NotebookApp.rate_limit_window=3.0 (secs)\n",
      "\n"
     ]
    },
    {
     "data": {
      "application/vnd.jupyter.widget-view+json": {
       "model_id": "2e01528008dd435fbdc54d92994c95e6",
       "version_major": 2,
       "version_minor": 0
      },
      "text/plain": [
       "Training (X / X Steps) (loss=X.X):   0%|                                                               | 0/60 …"
      ]
     },
     "metadata": {},
     "output_type": "display_data"
    },
    {
     "data": {
      "application/vnd.jupyter.widget-view+json": {
       "model_id": "19a134bd427e44c4aad745a78ccfa86a",
       "version_major": 2,
       "version_minor": 0
      },
      "text/plain": [
       "Training (X / X Steps) (loss=X.X):   0%|                                                               | 0/60 …"
      ]
     },
     "metadata": {},
     "output_type": "display_data"
    },
    {
     "data": {
      "application/vnd.jupyter.widget-view+json": {
       "model_id": "b73aef8ba7804bb1bee683b563827c65",
       "version_major": 2,
       "version_minor": 0
      },
      "text/plain": [
       "Training (X / X Steps) (loss=X.X):   0%|                                                               | 0/60 …"
      ]
     },
     "metadata": {},
     "output_type": "display_data"
    },
    {
     "data": {
      "application/vnd.jupyter.widget-view+json": {
       "model_id": "f3871be11af542ed85710fed6c5bd275",
       "version_major": 2,
       "version_minor": 0
      },
      "text/plain": [
       "Validate (X / X Steps) (dice=X.X):   0%|                                                               | 0/35 …"
      ]
     },
     "metadata": {},
     "output_type": "display_data"
    },
    {
     "name": "stdout",
     "output_type": "stream",
     "text": [
      "Model Was Not Saved ! Current Best Avg. Dice: 0.4737700819969177 Current Avg. Dice: 0.46530967950820923\n"
     ]
    },
    {
     "data": {
      "application/vnd.jupyter.widget-view+json": {
       "model_id": "e4759a7ce114455b80f17108a831a203",
       "version_major": 2,
       "version_minor": 0
      },
      "text/plain": [
       "Training (X / X Steps) (loss=X.X):   0%|                                                               | 0/60 …"
      ]
     },
     "metadata": {},
     "output_type": "display_data"
    },
    {
     "data": {
      "application/vnd.jupyter.widget-view+json": {
       "model_id": "b11fad998be34900a87407022b5a8315",
       "version_major": 2,
       "version_minor": 0
      },
      "text/plain": [
       "Training (X / X Steps) (loss=X.X):   0%|                                                               | 0/60 …"
      ]
     },
     "metadata": {},
     "output_type": "display_data"
    },
    {
     "data": {
      "application/vnd.jupyter.widget-view+json": {
       "model_id": "047885a829a64167af947dc5e2f2e5eb",
       "version_major": 2,
       "version_minor": 0
      },
      "text/plain": [
       "Training (X / X Steps) (loss=X.X):   0%|                                                               | 0/60 …"
      ]
     },
     "metadata": {},
     "output_type": "display_data"
    },
    {
     "data": {
      "application/vnd.jupyter.widget-view+json": {
       "model_id": "74251fdf531f4cbc83c38fb7bd88eb92",
       "version_major": 2,
       "version_minor": 0
      },
      "text/plain": [
       "Training (X / X Steps) (loss=X.X):   0%|                                                               | 0/60 …"
      ]
     },
     "metadata": {},
     "output_type": "display_data"
    },
    {
     "data": {
      "application/vnd.jupyter.widget-view+json": {
       "model_id": "f9750c96227142b7a98b7a0b963a47c3",
       "version_major": 2,
       "version_minor": 0
      },
      "text/plain": [
       "Training (X / X Steps) (loss=X.X):   0%|                                                               | 0/60 …"
      ]
     },
     "metadata": {},
     "output_type": "display_data"
    },
    {
     "data": {
      "application/vnd.jupyter.widget-view+json": {
       "model_id": "ca454fb3b95a4a50b271e34f38b4f13d",
       "version_major": 2,
       "version_minor": 0
      },
      "text/plain": [
       "Validate (X / X Steps) (dice=X.X):   0%|                                                               | 0/35 …"
      ]
     },
     "metadata": {},
     "output_type": "display_data"
    },
    {
     "name": "stdout",
     "output_type": "stream",
     "text": [
      "Model Was Not Saved ! Current Best Avg. Dice: 0.4737700819969177 Current Avg. Dice: 0.46707218885421753\n"
     ]
    },
    {
     "name": "stderr",
     "output_type": "stream",
     "text": [
      "IOPub message rate exceeded.\n",
      "The notebook server will temporarily stop sending output\n",
      "to the client in order to avoid crashing it.\n",
      "To change this limit, set the config variable\n",
      "`--NotebookApp.iopub_msg_rate_limit`.\n",
      "\n",
      "Current values:\n",
      "NotebookApp.iopub_msg_rate_limit=1000.0 (msgs/sec)\n",
      "NotebookApp.rate_limit_window=3.0 (secs)\n",
      "\n"
     ]
    },
    {
     "data": {
      "application/vnd.jupyter.widget-view+json": {
       "model_id": "86720639b0364ef292c8614ffdc696be",
       "version_major": 2,
       "version_minor": 0
      },
      "text/plain": [
       "Training (X / X Steps) (loss=X.X):   0%|                                                               | 0/60 …"
      ]
     },
     "metadata": {},
     "output_type": "display_data"
    },
    {
     "data": {
      "application/vnd.jupyter.widget-view+json": {
       "model_id": "73d208b0c3bd4e9fb74037e5a811a6f5",
       "version_major": 2,
       "version_minor": 0
      },
      "text/plain": [
       "Training (X / X Steps) (loss=X.X):   0%|                                                               | 0/60 …"
      ]
     },
     "metadata": {},
     "output_type": "display_data"
    },
    {
     "data": {
      "application/vnd.jupyter.widget-view+json": {
       "model_id": "1773e2027c774d81b81dfce7a925c7fe",
       "version_major": 2,
       "version_minor": 0
      },
      "text/plain": [
       "Validate (X / X Steps) (dice=X.X):   0%|                                                               | 0/35 …"
      ]
     },
     "metadata": {},
     "output_type": "display_data"
    },
    {
     "name": "stdout",
     "output_type": "stream",
     "text": [
      "Model Was Not Saved ! Current Best Avg. Dice: 0.4737700819969177 Current Avg. Dice: 0.46221113204956055\n"
     ]
    },
    {
     "data": {
      "application/vnd.jupyter.widget-view+json": {
       "model_id": "04af2afa44444d54a5d3a8e1d4d38edc",
       "version_major": 2,
       "version_minor": 0
      },
      "text/plain": [
       "Training (X / X Steps) (loss=X.X):   0%|                                                               | 0/60 …"
      ]
     },
     "metadata": {},
     "output_type": "display_data"
    },
    {
     "data": {
      "application/vnd.jupyter.widget-view+json": {
       "model_id": "65fc7797d91c43c0aa600b40fbc3cf43",
       "version_major": 2,
       "version_minor": 0
      },
      "text/plain": [
       "Training (X / X Steps) (loss=X.X):   0%|                                                               | 0/60 …"
      ]
     },
     "metadata": {},
     "output_type": "display_data"
    },
    {
     "data": {
      "application/vnd.jupyter.widget-view+json": {
       "model_id": "f95d5a32d6b04b5c9f07d6b24abee040",
       "version_major": 2,
       "version_minor": 0
      },
      "text/plain": [
       "Training (X / X Steps) (loss=X.X):   0%|                                                               | 0/60 …"
      ]
     },
     "metadata": {},
     "output_type": "display_data"
    },
    {
     "data": {
      "application/vnd.jupyter.widget-view+json": {
       "model_id": "0d66daf209ef4c859ed2bab273937d19",
       "version_major": 2,
       "version_minor": 0
      },
      "text/plain": [
       "Training (X / X Steps) (loss=X.X):   0%|                                                               | 0/60 …"
      ]
     },
     "metadata": {},
     "output_type": "display_data"
    },
    {
     "data": {
      "application/vnd.jupyter.widget-view+json": {
       "model_id": "a1fb67e290f2459697bf27b3ba22407b",
       "version_major": 2,
       "version_minor": 0
      },
      "text/plain": [
       "Training (X / X Steps) (loss=X.X):   0%|                                                               | 0/60 …"
      ]
     },
     "metadata": {},
     "output_type": "display_data"
    },
    {
     "data": {
      "application/vnd.jupyter.widget-view+json": {
       "model_id": "4f98d7d158e3429cbe7fe4526c5198f1",
       "version_major": 2,
       "version_minor": 0
      },
      "text/plain": [
       "Validate (X / X Steps) (dice=X.X):   0%|                                                               | 0/35 …"
      ]
     },
     "metadata": {},
     "output_type": "display_data"
    },
    {
     "name": "stdout",
     "output_type": "stream",
     "text": [
      "Model Was Not Saved ! Current Best Avg. Dice: 0.4737700819969177 Current Avg. Dice: 0.4550425410270691\n"
     ]
    },
    {
     "data": {
      "application/vnd.jupyter.widget-view+json": {
       "model_id": "eab802bdfd824fdab748d1e741a7ca03",
       "version_major": 2,
       "version_minor": 0
      },
      "text/plain": [
       "Training (X / X Steps) (loss=X.X):   0%|                                                               | 0/60 …"
      ]
     },
     "metadata": {},
     "output_type": "display_data"
    },
    {
     "name": "stderr",
     "output_type": "stream",
     "text": [
      "IOPub message rate exceeded.\n",
      "The notebook server will temporarily stop sending output\n",
      "to the client in order to avoid crashing it.\n",
      "To change this limit, set the config variable\n",
      "`--NotebookApp.iopub_msg_rate_limit`.\n",
      "\n",
      "Current values:\n",
      "NotebookApp.iopub_msg_rate_limit=1000.0 (msgs/sec)\n",
      "NotebookApp.rate_limit_window=3.0 (secs)\n",
      "\n"
     ]
    },
    {
     "data": {
      "application/vnd.jupyter.widget-view+json": {
       "model_id": "17d01ea93b7a466197f5105b59d1278f",
       "version_major": 2,
       "version_minor": 0
      },
      "text/plain": [
       "Training (X / X Steps) (loss=X.X):   0%|                                                               | 0/60 …"
      ]
     },
     "metadata": {},
     "output_type": "display_data"
    },
    {
     "data": {
      "application/vnd.jupyter.widget-view+json": {
       "model_id": "11f40626063842a3a2f9dc0a60fec5e5",
       "version_major": 2,
       "version_minor": 0
      },
      "text/plain": [
       "Training (X / X Steps) (loss=X.X):   0%|                                                               | 0/60 …"
      ]
     },
     "metadata": {},
     "output_type": "display_data"
    },
    {
     "data": {
      "application/vnd.jupyter.widget-view+json": {
       "model_id": "caaf07f2388d4780874b195765f48fd2",
       "version_major": 2,
       "version_minor": 0
      },
      "text/plain": [
       "Validate (X / X Steps) (dice=X.X):   0%|                                                               | 0/35 …"
      ]
     },
     "metadata": {},
     "output_type": "display_data"
    },
    {
     "name": "stdout",
     "output_type": "stream",
     "text": [
      "Model Was Not Saved ! Current Best Avg. Dice: 0.4737700819969177 Current Avg. Dice: 0.4609402120113373\n"
     ]
    },
    {
     "data": {
      "application/vnd.jupyter.widget-view+json": {
       "model_id": "fb64dab00009496093788394ec079625",
       "version_major": 2,
       "version_minor": 0
      },
      "text/plain": [
       "Training (X / X Steps) (loss=X.X):   0%|                                                               | 0/60 …"
      ]
     },
     "metadata": {},
     "output_type": "display_data"
    },
    {
     "data": {
      "application/vnd.jupyter.widget-view+json": {
       "model_id": "12242331c3bb4963970f41e621a8a04a",
       "version_major": 2,
       "version_minor": 0
      },
      "text/plain": [
       "Training (X / X Steps) (loss=X.X):   0%|                                                               | 0/60 …"
      ]
     },
     "metadata": {},
     "output_type": "display_data"
    },
    {
     "data": {
      "application/vnd.jupyter.widget-view+json": {
       "model_id": "37a2b3ffd1044d05a5b442c1825d26d8",
       "version_major": 2,
       "version_minor": 0
      },
      "text/plain": [
       "Training (X / X Steps) (loss=X.X):   0%|                                                               | 0/60 …"
      ]
     },
     "metadata": {},
     "output_type": "display_data"
    },
    {
     "data": {
      "application/vnd.jupyter.widget-view+json": {
       "model_id": "79b560dd1b374902944a94632b575f60",
       "version_major": 2,
       "version_minor": 0
      },
      "text/plain": [
       "Training (X / X Steps) (loss=X.X):   0%|                                                               | 0/60 …"
      ]
     },
     "metadata": {},
     "output_type": "display_data"
    },
    {
     "data": {
      "application/vnd.jupyter.widget-view+json": {
       "model_id": "051256350da5460192dfbf72468da65f",
       "version_major": 2,
       "version_minor": 0
      },
      "text/plain": [
       "Training (X / X Steps) (loss=X.X):   0%|                                                               | 0/60 …"
      ]
     },
     "metadata": {},
     "output_type": "display_data"
    },
    {
     "data": {
      "application/vnd.jupyter.widget-view+json": {
       "model_id": "d97483fbf1c949719b7867442d735103",
       "version_major": 2,
       "version_minor": 0
      },
      "text/plain": [
       "Validate (X / X Steps) (dice=X.X):   0%|                                                               | 0/35 …"
      ]
     },
     "metadata": {},
     "output_type": "display_data"
    },
    {
     "name": "stdout",
     "output_type": "stream",
     "text": [
      "Model Was Not Saved ! Current Best Avg. Dice: 0.4737700819969177 Current Avg. Dice: 0.4595339000225067\n"
     ]
    },
    {
     "data": {
      "application/vnd.jupyter.widget-view+json": {
       "model_id": "721a8a082b43478d9b721e84e792498f",
       "version_major": 2,
       "version_minor": 0
      },
      "text/plain": [
       "Training (X / X Steps) (loss=X.X):   0%|                                                               | 0/60 …"
      ]
     },
     "metadata": {},
     "output_type": "display_data"
    },
    {
     "name": "stderr",
     "output_type": "stream",
     "text": [
      "IOPub message rate exceeded.\n",
      "The notebook server will temporarily stop sending output\n",
      "to the client in order to avoid crashing it.\n",
      "To change this limit, set the config variable\n",
      "`--NotebookApp.iopub_msg_rate_limit`.\n",
      "\n",
      "Current values:\n",
      "NotebookApp.iopub_msg_rate_limit=1000.0 (msgs/sec)\n",
      "NotebookApp.rate_limit_window=3.0 (secs)\n",
      "\n"
     ]
    },
    {
     "data": {
      "application/vnd.jupyter.widget-view+json": {
       "model_id": "2c1640b892754f5e8cc62e00effe5d80",
       "version_major": 2,
       "version_minor": 0
      },
      "text/plain": [
       "Training (X / X Steps) (loss=X.X):   0%|                                                               | 0/60 …"
      ]
     },
     "metadata": {},
     "output_type": "display_data"
    },
    {
     "data": {
      "application/vnd.jupyter.widget-view+json": {
       "model_id": "5577e1539cfa4075b099a790fbd046e0",
       "version_major": 2,
       "version_minor": 0
      },
      "text/plain": [
       "Validate (X / X Steps) (dice=X.X):   0%|                                                               | 0/35 …"
      ]
     },
     "metadata": {},
     "output_type": "display_data"
    },
    {
     "name": "stdout",
     "output_type": "stream",
     "text": [
      "Model Was Not Saved ! Current Best Avg. Dice: 0.4737700819969177 Current Avg. Dice: 0.4600650370121002\n"
     ]
    },
    {
     "data": {
      "application/vnd.jupyter.widget-view+json": {
       "model_id": "9eb0771d1ea9407686cb9499051d11d8",
       "version_major": 2,
       "version_minor": 0
      },
      "text/plain": [
       "Training (X / X Steps) (loss=X.X):   0%|                                                               | 0/60 …"
      ]
     },
     "metadata": {},
     "output_type": "display_data"
    },
    {
     "data": {
      "application/vnd.jupyter.widget-view+json": {
       "model_id": "c535facb71ba476094c3476c4c1b0777",
       "version_major": 2,
       "version_minor": 0
      },
      "text/plain": [
       "Training (X / X Steps) (loss=X.X):   0%|                                                               | 0/60 …"
      ]
     },
     "metadata": {},
     "output_type": "display_data"
    },
    {
     "data": {
      "application/vnd.jupyter.widget-view+json": {
       "model_id": "d178fca3add845039b3b25fdaecf226e",
       "version_major": 2,
       "version_minor": 0
      },
      "text/plain": [
       "Training (X / X Steps) (loss=X.X):   0%|                                                               | 0/60 …"
      ]
     },
     "metadata": {},
     "output_type": "display_data"
    },
    {
     "name": "stderr",
     "output_type": "stream",
     "text": [
      "IOPub message rate exceeded.\n",
      "The notebook server will temporarily stop sending output\n",
      "to the client in order to avoid crashing it.\n",
      "To change this limit, set the config variable\n",
      "`--NotebookApp.iopub_msg_rate_limit`.\n",
      "\n",
      "Current values:\n",
      "NotebookApp.iopub_msg_rate_limit=1000.0 (msgs/sec)\n",
      "NotebookApp.rate_limit_window=3.0 (secs)\n",
      "\n"
     ]
    },
    {
     "data": {
      "application/vnd.jupyter.widget-view+json": {
       "model_id": "693a020dc2cb4a2c81b50d938e3d9829",
       "version_major": 2,
       "version_minor": 0
      },
      "text/plain": [
       "Training (X / X Steps) (loss=X.X):   0%|                                                               | 0/60 …"
      ]
     },
     "metadata": {},
     "output_type": "display_data"
    },
    {
     "data": {
      "application/vnd.jupyter.widget-view+json": {
       "model_id": "d1b70e0bfa054825926a1c278cd2c820",
       "version_major": 2,
       "version_minor": 0
      },
      "text/plain": [
       "Training (X / X Steps) (loss=X.X):   0%|                                                               | 0/60 …"
      ]
     },
     "metadata": {},
     "output_type": "display_data"
    },
    {
     "data": {
      "application/vnd.jupyter.widget-view+json": {
       "model_id": "130dd5d1e6cd42a692fe6bc21cba940f",
       "version_major": 2,
       "version_minor": 0
      },
      "text/plain": [
       "Training (X / X Steps) (loss=X.X):   0%|                                                               | 0/60 …"
      ]
     },
     "metadata": {},
     "output_type": "display_data"
    },
    {
     "data": {
      "application/vnd.jupyter.widget-view+json": {
       "model_id": "df33bf7afc3a4c74aaae344d2d0ceda7",
       "version_major": 2,
       "version_minor": 0
      },
      "text/plain": [
       "Training (X / X Steps) (loss=X.X):   0%|                                                               | 0/60 …"
      ]
     },
     "metadata": {},
     "output_type": "display_data"
    },
    {
     "data": {
      "application/vnd.jupyter.widget-view+json": {
       "model_id": "ce9d26d9dfe54db8a90f37fe02a9ba84",
       "version_major": 2,
       "version_minor": 0
      },
      "text/plain": [
       "Validate (X / X Steps) (dice=X.X):   0%|                                                               | 0/35 …"
      ]
     },
     "metadata": {},
     "output_type": "display_data"
    },
    {
     "name": "stdout",
     "output_type": "stream",
     "text": [
      "Model Was Not Saved ! Current Best Avg. Dice: 0.4737700819969177 Current Avg. Dice: 0.45608288049697876\n"
     ]
    },
    {
     "name": "stderr",
     "output_type": "stream",
     "text": [
      "IOPub message rate exceeded.\n",
      "The notebook server will temporarily stop sending output\n",
      "to the client in order to avoid crashing it.\n",
      "To change this limit, set the config variable\n",
      "`--NotebookApp.iopub_msg_rate_limit`.\n",
      "\n",
      "Current values:\n",
      "NotebookApp.iopub_msg_rate_limit=1000.0 (msgs/sec)\n",
      "NotebookApp.rate_limit_window=3.0 (secs)\n",
      "\n"
     ]
    },
    {
     "data": {
      "application/vnd.jupyter.widget-view+json": {
       "model_id": "5e6fde724e534475957c46cd949a1281",
       "version_major": 2,
       "version_minor": 0
      },
      "text/plain": [
       "Training (X / X Steps) (loss=X.X):   0%|                                                               | 0/60 …"
      ]
     },
     "metadata": {},
     "output_type": "display_data"
    },
    {
     "data": {
      "application/vnd.jupyter.widget-view+json": {
       "model_id": "9381c4caf4354ff48c7f81bd3cbe5252",
       "version_major": 2,
       "version_minor": 0
      },
      "text/plain": [
       "Training (X / X Steps) (loss=X.X):   0%|                                                               | 0/60 …"
      ]
     },
     "metadata": {},
     "output_type": "display_data"
    },
    {
     "data": {
      "application/vnd.jupyter.widget-view+json": {
       "model_id": "47bd154c2e714a62b16fa86e20f604c5",
       "version_major": 2,
       "version_minor": 0
      },
      "text/plain": [
       "Validate (X / X Steps) (dice=X.X):   0%|                                                               | 0/35 …"
      ]
     },
     "metadata": {},
     "output_type": "display_data"
    },
    {
     "name": "stdout",
     "output_type": "stream",
     "text": [
      "Model Was Not Saved ! Current Best Avg. Dice: 0.4737700819969177 Current Avg. Dice: 0.4616892635822296\n"
     ]
    },
    {
     "data": {
      "application/vnd.jupyter.widget-view+json": {
       "model_id": "f537903110c44504ae962d389124dfa2",
       "version_major": 2,
       "version_minor": 0
      },
      "text/plain": [
       "Training (X / X Steps) (loss=X.X):   0%|                                                               | 0/60 …"
      ]
     },
     "metadata": {},
     "output_type": "display_data"
    },
    {
     "data": {
      "application/vnd.jupyter.widget-view+json": {
       "model_id": "75e8905b8221434dabd9b0925d6e5104",
       "version_major": 2,
       "version_minor": 0
      },
      "text/plain": [
       "Training (X / X Steps) (loss=X.X):   0%|                                                               | 0/60 …"
      ]
     },
     "metadata": {},
     "output_type": "display_data"
    },
    {
     "name": "stderr",
     "output_type": "stream",
     "text": [
      "IOPub message rate exceeded.\n",
      "The notebook server will temporarily stop sending output\n",
      "to the client in order to avoid crashing it.\n",
      "To change this limit, set the config variable\n",
      "`--NotebookApp.iopub_msg_rate_limit`.\n",
      "\n",
      "Current values:\n",
      "NotebookApp.iopub_msg_rate_limit=1000.0 (msgs/sec)\n",
      "NotebookApp.rate_limit_window=3.0 (secs)\n",
      "\n"
     ]
    },
    {
     "data": {
      "application/vnd.jupyter.widget-view+json": {
       "model_id": "1c2c7286033840c4b8ee2010a4646340",
       "version_major": 2,
       "version_minor": 0
      },
      "text/plain": [
       "Training (X / X Steps) (loss=X.X):   0%|                                                               | 0/60 …"
      ]
     },
     "metadata": {},
     "output_type": "display_data"
    },
    {
     "data": {
      "application/vnd.jupyter.widget-view+json": {
       "model_id": "e46d053339c144cda1a18633a3481300",
       "version_major": 2,
       "version_minor": 0
      },
      "text/plain": [
       "Training (X / X Steps) (loss=X.X):   0%|                                                               | 0/60 …"
      ]
     },
     "metadata": {},
     "output_type": "display_data"
    },
    {
     "data": {
      "application/vnd.jupyter.widget-view+json": {
       "model_id": "e30ce5a1f1ed4cb0a64cf165537d31b6",
       "version_major": 2,
       "version_minor": 0
      },
      "text/plain": [
       "Training (X / X Steps) (loss=X.X):   0%|                                                               | 0/60 …"
      ]
     },
     "metadata": {},
     "output_type": "display_data"
    },
    {
     "data": {
      "application/vnd.jupyter.widget-view+json": {
       "model_id": "a85e172a42ab48e7bc9c12f1c914ba37",
       "version_major": 2,
       "version_minor": 0
      },
      "text/plain": [
       "Training (X / X Steps) (loss=X.X):   0%|                                                               | 0/60 …"
      ]
     },
     "metadata": {},
     "output_type": "display_data"
    },
    {
     "data": {
      "application/vnd.jupyter.widget-view+json": {
       "model_id": "d2e7d17be6b3405d9bbaa1115cf9cabd",
       "version_major": 2,
       "version_minor": 0
      },
      "text/plain": [
       "Training (X / X Steps) (loss=X.X):   0%|                                                               | 0/60 …"
      ]
     },
     "metadata": {},
     "output_type": "display_data"
    },
    {
     "data": {
      "application/vnd.jupyter.widget-view+json": {
       "model_id": "b4fa2243a9e747d39739b9153cb3790e",
       "version_major": 2,
       "version_minor": 0
      },
      "text/plain": [
       "Validate (X / X Steps) (dice=X.X):   0%|                                                               | 0/35 …"
      ]
     },
     "metadata": {},
     "output_type": "display_data"
    },
    {
     "name": "stdout",
     "output_type": "stream",
     "text": [
      "Model Was Not Saved ! Current Best Avg. Dice: 0.4737700819969177 Current Avg. Dice: 0.45955678820610046\n"
     ]
    },
    {
     "name": "stderr",
     "output_type": "stream",
     "text": [
      "IOPub message rate exceeded.\n",
      "The notebook server will temporarily stop sending output\n",
      "to the client in order to avoid crashing it.\n",
      "To change this limit, set the config variable\n",
      "`--NotebookApp.iopub_msg_rate_limit`.\n",
      "\n",
      "Current values:\n",
      "NotebookApp.iopub_msg_rate_limit=1000.0 (msgs/sec)\n",
      "NotebookApp.rate_limit_window=3.0 (secs)\n",
      "\n"
     ]
    },
    {
     "data": {
      "application/vnd.jupyter.widget-view+json": {
       "model_id": "5894c9f7e70a432194c0c0f7fe6126e5",
       "version_major": 2,
       "version_minor": 0
      },
      "text/plain": [
       "Training (X / X Steps) (loss=X.X):   0%|                                                               | 0/60 …"
      ]
     },
     "metadata": {},
     "output_type": "display_data"
    },
    {
     "data": {
      "application/vnd.jupyter.widget-view+json": {
       "model_id": "897c486dfd604802805668beec338882",
       "version_major": 2,
       "version_minor": 0
      },
      "text/plain": [
       "Training (X / X Steps) (loss=X.X):   0%|                                                               | 0/60 …"
      ]
     },
     "metadata": {},
     "output_type": "display_data"
    },
    {
     "data": {
      "application/vnd.jupyter.widget-view+json": {
       "model_id": "2962988c490140eeadffedada3ef9d4d",
       "version_major": 2,
       "version_minor": 0
      },
      "text/plain": [
       "Validate (X / X Steps) (dice=X.X):   0%|                                                               | 0/35 …"
      ]
     },
     "metadata": {},
     "output_type": "display_data"
    },
    {
     "name": "stdout",
     "output_type": "stream",
     "text": [
      "Model Was Not Saved ! Current Best Avg. Dice: 0.4737700819969177 Current Avg. Dice: 0.45700496435165405\n"
     ]
    },
    {
     "data": {
      "application/vnd.jupyter.widget-view+json": {
       "model_id": "dca45722125c4476801e6e5c4084edca",
       "version_major": 2,
       "version_minor": 0
      },
      "text/plain": [
       "Training (X / X Steps) (loss=X.X):   0%|                                                               | 0/60 …"
      ]
     },
     "metadata": {},
     "output_type": "display_data"
    },
    {
     "data": {
      "application/vnd.jupyter.widget-view+json": {
       "model_id": "447ea02455254ecca03335c0b2371170",
       "version_major": 2,
       "version_minor": 0
      },
      "text/plain": [
       "Training (X / X Steps) (loss=X.X):   0%|                                                               | 0/60 …"
      ]
     },
     "metadata": {},
     "output_type": "display_data"
    },
    {
     "name": "stderr",
     "output_type": "stream",
     "text": [
      "IOPub message rate exceeded.\n",
      "The notebook server will temporarily stop sending output\n",
      "to the client in order to avoid crashing it.\n",
      "To change this limit, set the config variable\n",
      "`--NotebookApp.iopub_msg_rate_limit`.\n",
      "\n",
      "Current values:\n",
      "NotebookApp.iopub_msg_rate_limit=1000.0 (msgs/sec)\n",
      "NotebookApp.rate_limit_window=3.0 (secs)\n",
      "\n"
     ]
    },
    {
     "data": {
      "application/vnd.jupyter.widget-view+json": {
       "model_id": "cdd14d1b9a754739843933cb7578c80d",
       "version_major": 2,
       "version_minor": 0
      },
      "text/plain": [
       "Training (X / X Steps) (loss=X.X):   0%|                                                               | 0/60 …"
      ]
     },
     "metadata": {},
     "output_type": "display_data"
    },
    {
     "data": {
      "application/vnd.jupyter.widget-view+json": {
       "model_id": "12c046eb28624ca1a68819572cf5fe81",
       "version_major": 2,
       "version_minor": 0
      },
      "text/plain": [
       "Training (X / X Steps) (loss=X.X):   0%|                                                               | 0/60 …"
      ]
     },
     "metadata": {},
     "output_type": "display_data"
    },
    {
     "data": {
      "application/vnd.jupyter.widget-view+json": {
       "model_id": "154cb1c5d28b4fa7a28143401705cb8d",
       "version_major": 2,
       "version_minor": 0
      },
      "text/plain": [
       "Training (X / X Steps) (loss=X.X):   0%|                                                               | 0/60 …"
      ]
     },
     "metadata": {},
     "output_type": "display_data"
    },
    {
     "data": {
      "application/vnd.jupyter.widget-view+json": {
       "model_id": "eed6b5f5d3684aedab8f3f0ca45fb605",
       "version_major": 2,
       "version_minor": 0
      },
      "text/plain": [
       "Training (X / X Steps) (loss=X.X):   0%|                                                               | 0/60 …"
      ]
     },
     "metadata": {},
     "output_type": "display_data"
    },
    {
     "data": {
      "application/vnd.jupyter.widget-view+json": {
       "model_id": "40028ae9efb44e31be029812a31da2f9",
       "version_major": 2,
       "version_minor": 0
      },
      "text/plain": [
       "Training (X / X Steps) (loss=X.X):   0%|                                                               | 0/60 …"
      ]
     },
     "metadata": {},
     "output_type": "display_data"
    },
    {
     "name": "stderr",
     "output_type": "stream",
     "text": [
      "IOPub message rate exceeded.\n",
      "The notebook server will temporarily stop sending output\n",
      "to the client in order to avoid crashing it.\n",
      "To change this limit, set the config variable\n",
      "`--NotebookApp.iopub_msg_rate_limit`.\n",
      "\n",
      "Current values:\n",
      "NotebookApp.iopub_msg_rate_limit=1000.0 (msgs/sec)\n",
      "NotebookApp.rate_limit_window=3.0 (secs)\n",
      "\n"
     ]
    },
    {
     "data": {
      "application/vnd.jupyter.widget-view+json": {
       "model_id": "d55e22fc898d41d99a2794b43fefe90a",
       "version_major": 2,
       "version_minor": 0
      },
      "text/plain": [
       "Training (X / X Steps) (loss=X.X):   0%|                                                               | 0/60 …"
      ]
     },
     "metadata": {},
     "output_type": "display_data"
    },
    {
     "data": {
      "application/vnd.jupyter.widget-view+json": {
       "model_id": "cb6874f714c64b7c932753b156eec775",
       "version_major": 2,
       "version_minor": 0
      },
      "text/plain": [
       "Training (X / X Steps) (loss=X.X):   0%|                                                               | 0/60 …"
      ]
     },
     "metadata": {},
     "output_type": "display_data"
    },
    {
     "data": {
      "application/vnd.jupyter.widget-view+json": {
       "model_id": "e1d667950b214c28a665affd7b73f576",
       "version_major": 2,
       "version_minor": 0
      },
      "text/plain": [
       "Training (X / X Steps) (loss=X.X):   0%|                                                               | 0/60 …"
      ]
     },
     "metadata": {},
     "output_type": "display_data"
    },
    {
     "data": {
      "application/vnd.jupyter.widget-view+json": {
       "model_id": "3974a154a94a4270a49ce537f07680c3",
       "version_major": 2,
       "version_minor": 0
      },
      "text/plain": [
       "Validate (X / X Steps) (dice=X.X):   0%|                                                               | 0/35 …"
      ]
     },
     "metadata": {},
     "output_type": "display_data"
    },
    {
     "name": "stdout",
     "output_type": "stream",
     "text": [
      "Model Was Not Saved ! Current Best Avg. Dice: 0.4737700819969177 Current Avg. Dice: 0.4601565897464752\n"
     ]
    },
    {
     "data": {
      "application/vnd.jupyter.widget-view+json": {
       "model_id": "2d9f301e36104b179a0b41d5c4c18378",
       "version_major": 2,
       "version_minor": 0
      },
      "text/plain": [
       "Training (X / X Steps) (loss=X.X):   0%|                                                               | 0/60 …"
      ]
     },
     "metadata": {},
     "output_type": "display_data"
    },
    {
     "data": {
      "application/vnd.jupyter.widget-view+json": {
       "model_id": "3d0aaf907bed4037a012220c9821fa22",
       "version_major": 2,
       "version_minor": 0
      },
      "text/plain": [
       "Training (X / X Steps) (loss=X.X):   0%|                                                               | 0/60 …"
      ]
     },
     "metadata": {},
     "output_type": "display_data"
    },
    {
     "data": {
      "application/vnd.jupyter.widget-view+json": {
       "model_id": "c10cba11814743df8fbe0ef4f7a6b155",
       "version_major": 2,
       "version_minor": 0
      },
      "text/plain": [
       "Training (X / X Steps) (loss=X.X):   0%|                                                               | 0/60 …"
      ]
     },
     "metadata": {},
     "output_type": "display_data"
    },
    {
     "data": {
      "application/vnd.jupyter.widget-view+json": {
       "model_id": "848b3c31824b4d70a07704f187b257fe",
       "version_major": 2,
       "version_minor": 0
      },
      "text/plain": [
       "Training (X / X Steps) (loss=X.X):   0%|                                                               | 0/60 …"
      ]
     },
     "metadata": {},
     "output_type": "display_data"
    },
    {
     "data": {
      "application/vnd.jupyter.widget-view+json": {
       "model_id": "bf40469d2c54404ea0cb60c7de50eccf",
       "version_major": 2,
       "version_minor": 0
      },
      "text/plain": [
       "Training (X / X Steps) (loss=X.X):   0%|                                                               | 0/60 …"
      ]
     },
     "metadata": {},
     "output_type": "display_data"
    },
    {
     "data": {
      "application/vnd.jupyter.widget-view+json": {
       "model_id": "d288dfdcd1a44c16bcda350cebc7001d",
       "version_major": 2,
       "version_minor": 0
      },
      "text/plain": [
       "Validate (X / X Steps) (dice=X.X):   0%|                                                               | 0/35 …"
      ]
     },
     "metadata": {},
     "output_type": "display_data"
    },
    {
     "name": "stdout",
     "output_type": "stream",
     "text": [
      "Model Was Not Saved ! Current Best Avg. Dice: 0.4737700819969177 Current Avg. Dice: 0.4661847651004791\n"
     ]
    },
    {
     "data": {
      "application/vnd.jupyter.widget-view+json": {
       "model_id": "bc84f791673e4118991d00d573adb0f7",
       "version_major": 2,
       "version_minor": 0
      },
      "text/plain": [
       "Training (X / X Steps) (loss=X.X):   0%|                                                               | 0/60 …"
      ]
     },
     "metadata": {},
     "output_type": "display_data"
    },
    {
     "name": "stderr",
     "output_type": "stream",
     "text": [
      "IOPub message rate exceeded.\n",
      "The notebook server will temporarily stop sending output\n",
      "to the client in order to avoid crashing it.\n",
      "To change this limit, set the config variable\n",
      "`--NotebookApp.iopub_msg_rate_limit`.\n",
      "\n",
      "Current values:\n",
      "NotebookApp.iopub_msg_rate_limit=1000.0 (msgs/sec)\n",
      "NotebookApp.rate_limit_window=3.0 (secs)\n",
      "\n"
     ]
    },
    {
     "data": {
      "application/vnd.jupyter.widget-view+json": {
       "model_id": "54f573b6b11f47fd9409ab5090461bc9",
       "version_major": 2,
       "version_minor": 0
      },
      "text/plain": [
       "Training (X / X Steps) (loss=X.X):   0%|                                                               | 0/60 …"
      ]
     },
     "metadata": {},
     "output_type": "display_data"
    },
    {
     "data": {
      "application/vnd.jupyter.widget-view+json": {
       "model_id": "72fea00590a546b0a4a8f7e0941fcc52",
       "version_major": 2,
       "version_minor": 0
      },
      "text/plain": [
       "Training (X / X Steps) (loss=X.X):   0%|                                                               | 0/60 …"
      ]
     },
     "metadata": {},
     "output_type": "display_data"
    },
    {
     "data": {
      "application/vnd.jupyter.widget-view+json": {
       "model_id": "2a8598b32de2436aa9ad3135e503b2c7",
       "version_major": 2,
       "version_minor": 0
      },
      "text/plain": [
       "Training (X / X Steps) (loss=X.X):   0%|                                                               | 0/60 …"
      ]
     },
     "metadata": {},
     "output_type": "display_data"
    },
    {
     "data": {
      "application/vnd.jupyter.widget-view+json": {
       "model_id": "a2912a66a2af41a4ae900e61bf6fb0fd",
       "version_major": 2,
       "version_minor": 0
      },
      "text/plain": [
       "Training (X / X Steps) (loss=X.X):   0%|                                                               | 0/60 …"
      ]
     },
     "metadata": {},
     "output_type": "display_data"
    },
    {
     "data": {
      "application/vnd.jupyter.widget-view+json": {
       "model_id": "79930fe733de4ac0b79adacbeedc9150",
       "version_major": 2,
       "version_minor": 0
      },
      "text/plain": [
       "Validate (X / X Steps) (dice=X.X):   0%|                                                               | 0/35 …"
      ]
     },
     "metadata": {},
     "output_type": "display_data"
    },
    {
     "name": "stdout",
     "output_type": "stream",
     "text": [
      "Model Was Not Saved ! Current Best Avg. Dice: 0.4737700819969177 Current Avg. Dice: 0.45280054211616516\n"
     ]
    },
    {
     "data": {
      "application/vnd.jupyter.widget-view+json": {
       "model_id": "7618ea8bf2f445e8a300c8cb78186e9d",
       "version_major": 2,
       "version_minor": 0
      },
      "text/plain": [
       "Training (X / X Steps) (loss=X.X):   0%|                                                               | 0/60 …"
      ]
     },
     "metadata": {},
     "output_type": "display_data"
    },
    {
     "data": {
      "application/vnd.jupyter.widget-view+json": {
       "model_id": "57bc5f24dad14c20a8f8b0fbf331b555",
       "version_major": 2,
       "version_minor": 0
      },
      "text/plain": [
       "Training (X / X Steps) (loss=X.X):   0%|                                                               | 0/60 …"
      ]
     },
     "metadata": {},
     "output_type": "display_data"
    },
    {
     "data": {
      "application/vnd.jupyter.widget-view+json": {
       "model_id": "00a1bb638b97479f99f7e4d65454ea16",
       "version_major": 2,
       "version_minor": 0
      },
      "text/plain": [
       "Training (X / X Steps) (loss=X.X):   0%|                                                               | 0/60 …"
      ]
     },
     "metadata": {},
     "output_type": "display_data"
    },
    {
     "data": {
      "application/vnd.jupyter.widget-view+json": {
       "model_id": "e3daf030412143f08001d26e263d4102",
       "version_major": 2,
       "version_minor": 0
      },
      "text/plain": [
       "Training (X / X Steps) (loss=X.X):   0%|                                                               | 0/60 …"
      ]
     },
     "metadata": {},
     "output_type": "display_data"
    },
    {
     "data": {
      "application/vnd.jupyter.widget-view+json": {
       "model_id": "7e2a2a04f2c6408793e92ad353d73d07",
       "version_major": 2,
       "version_minor": 0
      },
      "text/plain": [
       "Training (X / X Steps) (loss=X.X):   0%|                                                               | 0/60 …"
      ]
     },
     "metadata": {},
     "output_type": "display_data"
    },
    {
     "data": {
      "application/vnd.jupyter.widget-view+json": {
       "model_id": "dec5dba172e64ecbbb830af0e15dcbe4",
       "version_major": 2,
       "version_minor": 0
      },
      "text/plain": [
       "Validate (X / X Steps) (dice=X.X):   0%|                                                               | 0/35 …"
      ]
     },
     "metadata": {},
     "output_type": "display_data"
    },
    {
     "name": "stdout",
     "output_type": "stream",
     "text": [
      "Model Was Not Saved ! Current Best Avg. Dice: 0.4737700819969177 Current Avg. Dice: 0.46722903847694397\n"
     ]
    },
    {
     "name": "stderr",
     "output_type": "stream",
     "text": [
      "IOPub message rate exceeded.\n",
      "The notebook server will temporarily stop sending output\n",
      "to the client in order to avoid crashing it.\n",
      "To change this limit, set the config variable\n",
      "`--NotebookApp.iopub_msg_rate_limit`.\n",
      "\n",
      "Current values:\n",
      "NotebookApp.iopub_msg_rate_limit=1000.0 (msgs/sec)\n",
      "NotebookApp.rate_limit_window=3.0 (secs)\n",
      "\n"
     ]
    },
    {
     "data": {
      "application/vnd.jupyter.widget-view+json": {
       "model_id": "304d61cbf0c1453ca86986272dc861ce",
       "version_major": 2,
       "version_minor": 0
      },
      "text/plain": [
       "Training (X / X Steps) (loss=X.X):   0%|                                                               | 0/60 …"
      ]
     },
     "metadata": {},
     "output_type": "display_data"
    },
    {
     "data": {
      "application/vnd.jupyter.widget-view+json": {
       "model_id": "485f17658d7a469882197df54c598c5f",
       "version_major": 2,
       "version_minor": 0
      },
      "text/plain": [
       "Training (X / X Steps) (loss=X.X):   0%|                                                               | 0/60 …"
      ]
     },
     "metadata": {},
     "output_type": "display_data"
    },
    {
     "data": {
      "application/vnd.jupyter.widget-view+json": {
       "model_id": "a0d531c21afd44629ce452502b64d51d",
       "version_major": 2,
       "version_minor": 0
      },
      "text/plain": [
       "Training (X / X Steps) (loss=X.X):   0%|                                                               | 0/60 …"
      ]
     },
     "metadata": {},
     "output_type": "display_data"
    },
    {
     "data": {
      "application/vnd.jupyter.widget-view+json": {
       "model_id": "725b65e32ca943efb7866c98b862190c",
       "version_major": 2,
       "version_minor": 0
      },
      "text/plain": [
       "Training (X / X Steps) (loss=X.X):   0%|                                                               | 0/60 …"
      ]
     },
     "metadata": {},
     "output_type": "display_data"
    },
    {
     "data": {
      "application/vnd.jupyter.widget-view+json": {
       "model_id": "3bae1b609e51414e8346f117bf9dca77",
       "version_major": 2,
       "version_minor": 0
      },
      "text/plain": [
       "Validate (X / X Steps) (dice=X.X):   0%|                                                               | 0/35 …"
      ]
     },
     "metadata": {},
     "output_type": "display_data"
    },
    {
     "name": "stdout",
     "output_type": "stream",
     "text": [
      "Model Was Not Saved ! Current Best Avg. Dice: 0.4737700819969177 Current Avg. Dice: 0.4592994749546051\n"
     ]
    },
    {
     "data": {
      "application/vnd.jupyter.widget-view+json": {
       "model_id": "fc8d95e6763b44638fb5ef7647f72533",
       "version_major": 2,
       "version_minor": 0
      },
      "text/plain": [
       "Training (X / X Steps) (loss=X.X):   0%|                                                               | 0/60 …"
      ]
     },
     "metadata": {},
     "output_type": "display_data"
    },
    {
     "data": {
      "application/vnd.jupyter.widget-view+json": {
       "model_id": "8dbbb39c98e745d2af16f50042c00c6c",
       "version_major": 2,
       "version_minor": 0
      },
      "text/plain": [
       "Training (X / X Steps) (loss=X.X):   0%|                                                               | 0/60 …"
      ]
     },
     "metadata": {},
     "output_type": "display_data"
    },
    {
     "data": {
      "application/vnd.jupyter.widget-view+json": {
       "model_id": "9ddf70afb2134e63a060b7c36e205cde",
       "version_major": 2,
       "version_minor": 0
      },
      "text/plain": [
       "Training (X / X Steps) (loss=X.X):   0%|                                                               | 0/60 …"
      ]
     },
     "metadata": {},
     "output_type": "display_data"
    },
    {
     "data": {
      "application/vnd.jupyter.widget-view+json": {
       "model_id": "a37d0995cc484017854f4ba381391542",
       "version_major": 2,
       "version_minor": 0
      },
      "text/plain": [
       "Training (X / X Steps) (loss=X.X):   0%|                                                               | 0/60 …"
      ]
     },
     "metadata": {},
     "output_type": "display_data"
    },
    {
     "data": {
      "application/vnd.jupyter.widget-view+json": {
       "model_id": "06f501c294704099aa6987ae4a7d5255",
       "version_major": 2,
       "version_minor": 0
      },
      "text/plain": [
       "Training (X / X Steps) (loss=X.X):   0%|                                                               | 0/60 …"
      ]
     },
     "metadata": {},
     "output_type": "display_data"
    },
    {
     "data": {
      "application/vnd.jupyter.widget-view+json": {
       "model_id": "ee86db38442c4dd292f301fa2e8c8dd1",
       "version_major": 2,
       "version_minor": 0
      },
      "text/plain": [
       "Validate (X / X Steps) (dice=X.X):   0%|                                                               | 0/35 …"
      ]
     },
     "metadata": {},
     "output_type": "display_data"
    },
    {
     "name": "stderr",
     "output_type": "stream",
     "text": [
      "IOPub message rate exceeded.\n",
      "The notebook server will temporarily stop sending output\n",
      "to the client in order to avoid crashing it.\n",
      "To change this limit, set the config variable\n",
      "`--NotebookApp.iopub_msg_rate_limit`.\n",
      "\n",
      "Current values:\n",
      "NotebookApp.iopub_msg_rate_limit=1000.0 (msgs/sec)\n",
      "NotebookApp.rate_limit_window=3.0 (secs)\n",
      "\n"
     ]
    },
    {
     "data": {
      "application/vnd.jupyter.widget-view+json": {
       "model_id": "a1c5e9cd5a6a473daeb577abc1866443",
       "version_major": 2,
       "version_minor": 0
      },
      "text/plain": [
       "Training (X / X Steps) (loss=X.X):   0%|                                                               | 0/60 …"
      ]
     },
     "metadata": {},
     "output_type": "display_data"
    },
    {
     "data": {
      "application/vnd.jupyter.widget-view+json": {
       "model_id": "e6f367252eec49fa8e16226379310996",
       "version_major": 2,
       "version_minor": 0
      },
      "text/plain": [
       "Training (X / X Steps) (loss=X.X):   0%|                                                               | 0/60 …"
      ]
     },
     "metadata": {},
     "output_type": "display_data"
    },
    {
     "data": {
      "application/vnd.jupyter.widget-view+json": {
       "model_id": "c0cacc5c7c4a4a6d894fb0b005cd1093",
       "version_major": 2,
       "version_minor": 0
      },
      "text/plain": [
       "Training (X / X Steps) (loss=X.X):   0%|                                                               | 0/60 …"
      ]
     },
     "metadata": {},
     "output_type": "display_data"
    },
    {
     "data": {
      "application/vnd.jupyter.widget-view+json": {
       "model_id": "4838dc5772ec4f1793bfdcb68f32ee07",
       "version_major": 2,
       "version_minor": 0
      },
      "text/plain": [
       "Training (X / X Steps) (loss=X.X):   0%|                                                               | 0/60 …"
      ]
     },
     "metadata": {},
     "output_type": "display_data"
    },
    {
     "data": {
      "application/vnd.jupyter.widget-view+json": {
       "model_id": "299bb9f3ae454fcb855aea414f0a1388",
       "version_major": 2,
       "version_minor": 0
      },
      "text/plain": [
       "Training (X / X Steps) (loss=X.X):   0%|                                                               | 0/60 …"
      ]
     },
     "metadata": {},
     "output_type": "display_data"
    },
    {
     "data": {
      "application/vnd.jupyter.widget-view+json": {
       "model_id": "15069ef2838e4d859dacef0a670b422c",
       "version_major": 2,
       "version_minor": 0
      },
      "text/plain": [
       "Validate (X / X Steps) (dice=X.X):   0%|                                                               | 0/35 …"
      ]
     },
     "metadata": {},
     "output_type": "display_data"
    },
    {
     "name": "stdout",
     "output_type": "stream",
     "text": [
      "Model Was Not Saved ! Current Best Avg. Dice: 0.4737700819969177 Current Avg. Dice: 0.46722227334976196\n"
     ]
    },
    {
     "data": {
      "application/vnd.jupyter.widget-view+json": {
       "model_id": "b808a6b1f99e4f45a30245977d3a71d8",
       "version_major": 2,
       "version_minor": 0
      },
      "text/plain": [
       "Training (X / X Steps) (loss=X.X):   0%|                                                               | 0/60 …"
      ]
     },
     "metadata": {},
     "output_type": "display_data"
    },
    {
     "data": {
      "application/vnd.jupyter.widget-view+json": {
       "model_id": "02f7f274bd0b41c6904e47f109738400",
       "version_major": 2,
       "version_minor": 0
      },
      "text/plain": [
       "Training (X / X Steps) (loss=X.X):   0%|                                                               | 0/60 …"
      ]
     },
     "metadata": {},
     "output_type": "display_data"
    },
    {
     "data": {
      "application/vnd.jupyter.widget-view+json": {
       "model_id": "8e29034887494ace8ff608a1265c634e",
       "version_major": 2,
       "version_minor": 0
      },
      "text/plain": [
       "Training (X / X Steps) (loss=X.X):   0%|                                                               | 0/60 …"
      ]
     },
     "metadata": {},
     "output_type": "display_data"
    },
    {
     "data": {
      "application/vnd.jupyter.widget-view+json": {
       "model_id": "101c54d9b68b4b5ab915a27e8cea5969",
       "version_major": 2,
       "version_minor": 0
      },
      "text/plain": [
       "Training (X / X Steps) (loss=X.X):   0%|                                                               | 0/60 …"
      ]
     },
     "metadata": {},
     "output_type": "display_data"
    },
    {
     "name": "stderr",
     "output_type": "stream",
     "text": [
      "IOPub message rate exceeded.\n",
      "The notebook server will temporarily stop sending output\n",
      "to the client in order to avoid crashing it.\n",
      "To change this limit, set the config variable\n",
      "`--NotebookApp.iopub_msg_rate_limit`.\n",
      "\n",
      "Current values:\n",
      "NotebookApp.iopub_msg_rate_limit=1000.0 (msgs/sec)\n",
      "NotebookApp.rate_limit_window=3.0 (secs)\n",
      "\n"
     ]
    },
    {
     "data": {
      "application/vnd.jupyter.widget-view+json": {
       "model_id": "8563cf2457904c3daa10c3cbe4a926b1",
       "version_major": 2,
       "version_minor": 0
      },
      "text/plain": [
       "Training (X / X Steps) (loss=X.X):   0%|                                                               | 0/60 …"
      ]
     },
     "metadata": {},
     "output_type": "display_data"
    },
    {
     "data": {
      "application/vnd.jupyter.widget-view+json": {
       "model_id": "8be282fdc853405daf7f72f9a1ae4c41",
       "version_major": 2,
       "version_minor": 0
      },
      "text/plain": [
       "Validate (X / X Steps) (dice=X.X):   0%|                                                               | 0/35 …"
      ]
     },
     "metadata": {},
     "output_type": "display_data"
    },
    {
     "name": "stdout",
     "output_type": "stream",
     "text": [
      "Model Was Not Saved ! Current Best Avg. Dice: 0.4737700819969177 Current Avg. Dice: 0.46102818846702576\n"
     ]
    },
    {
     "data": {
      "application/vnd.jupyter.widget-view+json": {
       "model_id": "07fb90a9d44b42f392a4d3126a858218",
       "version_major": 2,
       "version_minor": 0
      },
      "text/plain": [
       "Training (X / X Steps) (loss=X.X):   0%|                                                               | 0/60 …"
      ]
     },
     "metadata": {},
     "output_type": "display_data"
    },
    {
     "data": {
      "application/vnd.jupyter.widget-view+json": {
       "model_id": "a0025a53c2aa4fd7b23b259d310541fc",
       "version_major": 2,
       "version_minor": 0
      },
      "text/plain": [
       "Training (X / X Steps) (loss=X.X):   0%|                                                               | 0/60 …"
      ]
     },
     "metadata": {},
     "output_type": "display_data"
    },
    {
     "data": {
      "application/vnd.jupyter.widget-view+json": {
       "model_id": "c9c25272442f49a099feb03b2fa498e6",
       "version_major": 2,
       "version_minor": 0
      },
      "text/plain": [
       "Training (X / X Steps) (loss=X.X):   0%|                                                               | 0/60 …"
      ]
     },
     "metadata": {},
     "output_type": "display_data"
    },
    {
     "data": {
      "application/vnd.jupyter.widget-view+json": {
       "model_id": "34265abb5b05490e8cf2e84a14025e6f",
       "version_major": 2,
       "version_minor": 0
      },
      "text/plain": [
       "Training (X / X Steps) (loss=X.X):   0%|                                                               | 0/60 …"
      ]
     },
     "metadata": {},
     "output_type": "display_data"
    },
    {
     "data": {
      "application/vnd.jupyter.widget-view+json": {
       "model_id": "5fe2127bba724425b673b65f03e6fa80",
       "version_major": 2,
       "version_minor": 0
      },
      "text/plain": [
       "Training (X / X Steps) (loss=X.X):   0%|                                                               | 0/60 …"
      ]
     },
     "metadata": {},
     "output_type": "display_data"
    },
    {
     "data": {
      "application/vnd.jupyter.widget-view+json": {
       "model_id": "cfc0c99227674e85b6eba922944860d4",
       "version_major": 2,
       "version_minor": 0
      },
      "text/plain": [
       "Validate (X / X Steps) (dice=X.X):   0%|                                                               | 0/35 …"
      ]
     },
     "metadata": {},
     "output_type": "display_data"
    },
    {
     "name": "stdout",
     "output_type": "stream",
     "text": [
      "Model Was Not Saved ! Current Best Avg. Dice: 0.4737700819969177 Current Avg. Dice: 0.4637935161590576\n"
     ]
    },
    {
     "data": {
      "application/vnd.jupyter.widget-view+json": {
       "model_id": "3bd989f367e540729639f11d14f9fed3",
       "version_major": 2,
       "version_minor": 0
      },
      "text/plain": [
       "Training (X / X Steps) (loss=X.X):   0%|                                                               | 0/60 …"
      ]
     },
     "metadata": {},
     "output_type": "display_data"
    },
    {
     "data": {
      "application/vnd.jupyter.widget-view+json": {
       "model_id": "df8ae06f62cc42ffa486c4d9213532d3",
       "version_major": 2,
       "version_minor": 0
      },
      "text/plain": [
       "Training (X / X Steps) (loss=X.X):   0%|                                                               | 0/60 …"
      ]
     },
     "metadata": {},
     "output_type": "display_data"
    },
    {
     "data": {
      "application/vnd.jupyter.widget-view+json": {
       "model_id": "6ab89c08e28b4fc3aa9a118bc047d051",
       "version_major": 2,
       "version_minor": 0
      },
      "text/plain": [
       "Training (X / X Steps) (loss=X.X):   0%|                                                               | 0/60 …"
      ]
     },
     "metadata": {},
     "output_type": "display_data"
    },
    {
     "name": "stderr",
     "output_type": "stream",
     "text": [
      "IOPub message rate exceeded.\n",
      "The notebook server will temporarily stop sending output\n",
      "to the client in order to avoid crashing it.\n",
      "To change this limit, set the config variable\n",
      "`--NotebookApp.iopub_msg_rate_limit`.\n",
      "\n",
      "Current values:\n",
      "NotebookApp.iopub_msg_rate_limit=1000.0 (msgs/sec)\n",
      "NotebookApp.rate_limit_window=3.0 (secs)\n",
      "\n"
     ]
    },
    {
     "ename": "KeyboardInterrupt",
     "evalue": "",
     "output_type": "error",
     "traceback": [
      "\u001b[0;31m---------------------------------------------------------------------------\u001b[0m",
      "\u001b[0;31mKeyboardInterrupt\u001b[0m                         Traceback (most recent call last)",
      "Input \u001b[0;32mIn [13]\u001b[0m, in \u001b[0;36m<cell line: 1>\u001b[0;34m()\u001b[0m\n\u001b[1;32m      1\u001b[0m \u001b[38;5;28;01mwhile\u001b[39;00m global_step \u001b[38;5;241m<\u001b[39m \u001b[38;5;241m120001\u001b[39m:\n\u001b[0;32m----> 2\u001b[0m     global_step, dice_val_best, global_step_best \u001b[38;5;241m=\u001b[39m \u001b[43mtrain\u001b[49m\u001b[43m(\u001b[49m\n\u001b[1;32m      3\u001b[0m \u001b[43m        \u001b[49m\u001b[43mglobal_step\u001b[49m\u001b[43m,\u001b[49m\u001b[43m \u001b[49m\u001b[43mtrain_loader\u001b[49m\u001b[43m,\u001b[49m\u001b[43m \u001b[49m\u001b[43mdice_val_best\u001b[49m\u001b[43m,\u001b[49m\u001b[43m \u001b[49m\u001b[43mglobal_step_best\u001b[49m\n\u001b[1;32m      4\u001b[0m \u001b[43m    \u001b[49m\u001b[43m)\u001b[49m\n",
      "Input \u001b[0;32mIn [12]\u001b[0m, in \u001b[0;36mtrain\u001b[0;34m(global_step, train_loader, dice_val_best, global_step_best)\u001b[0m\n\u001b[1;32m     32\u001b[0m step \u001b[38;5;241m+\u001b[39m\u001b[38;5;241m=\u001b[39m \u001b[38;5;241m1\u001b[39m\n\u001b[1;32m     33\u001b[0m x, y \u001b[38;5;241m=\u001b[39m (batch[\u001b[38;5;124m\"\u001b[39m\u001b[38;5;124mimage\u001b[39m\u001b[38;5;124m\"\u001b[39m]\u001b[38;5;241m.\u001b[39mcuda(), batch[\u001b[38;5;124m\"\u001b[39m\u001b[38;5;124mlabel\u001b[39m\u001b[38;5;124m\"\u001b[39m]\u001b[38;5;241m.\u001b[39mcuda())\n\u001b[0;32m---> 34\u001b[0m logit_map \u001b[38;5;241m=\u001b[39m \u001b[43mmodel\u001b[49m\u001b[43m(\u001b[49m\u001b[43mx\u001b[49m\u001b[43m)\u001b[49m\n\u001b[1;32m     35\u001b[0m loss \u001b[38;5;241m=\u001b[39m loss_function(logit_map, y)\n\u001b[1;32m     36\u001b[0m loss\u001b[38;5;241m.\u001b[39mbackward()\n",
      "File \u001b[0;32m/usr/local/lib/python3.9/dist-packages/torch/nn/modules/module.py:1051\u001b[0m, in \u001b[0;36mModule._call_impl\u001b[0;34m(self, *input, **kwargs)\u001b[0m\n\u001b[1;32m   1047\u001b[0m \u001b[38;5;66;03m# If we don't have any hooks, we want to skip the rest of the logic in\u001b[39;00m\n\u001b[1;32m   1048\u001b[0m \u001b[38;5;66;03m# this function, and just call forward.\u001b[39;00m\n\u001b[1;32m   1049\u001b[0m \u001b[38;5;28;01mif\u001b[39;00m \u001b[38;5;129;01mnot\u001b[39;00m (\u001b[38;5;28mself\u001b[39m\u001b[38;5;241m.\u001b[39m_backward_hooks \u001b[38;5;129;01mor\u001b[39;00m \u001b[38;5;28mself\u001b[39m\u001b[38;5;241m.\u001b[39m_forward_hooks \u001b[38;5;129;01mor\u001b[39;00m \u001b[38;5;28mself\u001b[39m\u001b[38;5;241m.\u001b[39m_forward_pre_hooks \u001b[38;5;129;01mor\u001b[39;00m _global_backward_hooks\n\u001b[1;32m   1050\u001b[0m         \u001b[38;5;129;01mor\u001b[39;00m _global_forward_hooks \u001b[38;5;129;01mor\u001b[39;00m _global_forward_pre_hooks):\n\u001b[0;32m-> 1051\u001b[0m     \u001b[38;5;28;01mreturn\u001b[39;00m \u001b[43mforward_call\u001b[49m\u001b[43m(\u001b[49m\u001b[38;5;241;43m*\u001b[39;49m\u001b[38;5;28;43minput\u001b[39;49m\u001b[43m,\u001b[49m\u001b[43m \u001b[49m\u001b[38;5;241;43m*\u001b[39;49m\u001b[38;5;241;43m*\u001b[39;49m\u001b[43mkwargs\u001b[49m\u001b[43m)\u001b[49m\n\u001b[1;32m   1052\u001b[0m \u001b[38;5;66;03m# Do not call functions when jit is used\u001b[39;00m\n\u001b[1;32m   1053\u001b[0m full_backward_hooks, non_full_backward_hooks \u001b[38;5;241m=\u001b[39m [], []\n",
      "File \u001b[0;32m/usr/local/lib/python3.9/dist-packages/torch/nn/parallel/data_parallel.py:168\u001b[0m, in \u001b[0;36mDataParallel.forward\u001b[0;34m(self, *inputs, **kwargs)\u001b[0m\n\u001b[1;32m    166\u001b[0m     \u001b[38;5;28;01mreturn\u001b[39;00m \u001b[38;5;28mself\u001b[39m\u001b[38;5;241m.\u001b[39mmodule(\u001b[38;5;241m*\u001b[39minputs[\u001b[38;5;241m0\u001b[39m], \u001b[38;5;241m*\u001b[39m\u001b[38;5;241m*\u001b[39mkwargs[\u001b[38;5;241m0\u001b[39m])\n\u001b[1;32m    167\u001b[0m replicas \u001b[38;5;241m=\u001b[39m \u001b[38;5;28mself\u001b[39m\u001b[38;5;241m.\u001b[39mreplicate(\u001b[38;5;28mself\u001b[39m\u001b[38;5;241m.\u001b[39mmodule, \u001b[38;5;28mself\u001b[39m\u001b[38;5;241m.\u001b[39mdevice_ids[:\u001b[38;5;28mlen\u001b[39m(inputs)])\n\u001b[0;32m--> 168\u001b[0m outputs \u001b[38;5;241m=\u001b[39m \u001b[38;5;28;43mself\u001b[39;49m\u001b[38;5;241;43m.\u001b[39;49m\u001b[43mparallel_apply\u001b[49m\u001b[43m(\u001b[49m\u001b[43mreplicas\u001b[49m\u001b[43m,\u001b[49m\u001b[43m \u001b[49m\u001b[43minputs\u001b[49m\u001b[43m,\u001b[49m\u001b[43m \u001b[49m\u001b[43mkwargs\u001b[49m\u001b[43m)\u001b[49m\n\u001b[1;32m    169\u001b[0m \u001b[38;5;28;01mreturn\u001b[39;00m \u001b[38;5;28mself\u001b[39m\u001b[38;5;241m.\u001b[39mgather(outputs, \u001b[38;5;28mself\u001b[39m\u001b[38;5;241m.\u001b[39moutput_device)\n",
      "File \u001b[0;32m/usr/local/lib/python3.9/dist-packages/torch/nn/parallel/data_parallel.py:178\u001b[0m, in \u001b[0;36mDataParallel.parallel_apply\u001b[0;34m(self, replicas, inputs, kwargs)\u001b[0m\n\u001b[1;32m    177\u001b[0m \u001b[38;5;28;01mdef\u001b[39;00m \u001b[38;5;21mparallel_apply\u001b[39m(\u001b[38;5;28mself\u001b[39m, replicas, inputs, kwargs):\n\u001b[0;32m--> 178\u001b[0m     \u001b[38;5;28;01mreturn\u001b[39;00m \u001b[43mparallel_apply\u001b[49m\u001b[43m(\u001b[49m\u001b[43mreplicas\u001b[49m\u001b[43m,\u001b[49m\u001b[43m \u001b[49m\u001b[43minputs\u001b[49m\u001b[43m,\u001b[49m\u001b[43m \u001b[49m\u001b[43mkwargs\u001b[49m\u001b[43m,\u001b[49m\u001b[43m \u001b[49m\u001b[38;5;28;43mself\u001b[39;49m\u001b[38;5;241;43m.\u001b[39;49m\u001b[43mdevice_ids\u001b[49m\u001b[43m[\u001b[49m\u001b[43m:\u001b[49m\u001b[38;5;28;43mlen\u001b[39;49m\u001b[43m(\u001b[49m\u001b[43mreplicas\u001b[49m\u001b[43m)\u001b[49m\u001b[43m]\u001b[49m\u001b[43m)\u001b[49m\n",
      "File \u001b[0;32m/usr/local/lib/python3.9/dist-packages/torch/nn/parallel/parallel_apply.py:78\u001b[0m, in \u001b[0;36mparallel_apply\u001b[0;34m(modules, inputs, kwargs_tup, devices)\u001b[0m\n\u001b[1;32m     76\u001b[0m         thread\u001b[38;5;241m.\u001b[39mstart()\n\u001b[1;32m     77\u001b[0m     \u001b[38;5;28;01mfor\u001b[39;00m thread \u001b[38;5;129;01min\u001b[39;00m threads:\n\u001b[0;32m---> 78\u001b[0m         \u001b[43mthread\u001b[49m\u001b[38;5;241;43m.\u001b[39;49m\u001b[43mjoin\u001b[49m\u001b[43m(\u001b[49m\u001b[43m)\u001b[49m\n\u001b[1;32m     79\u001b[0m \u001b[38;5;28;01melse\u001b[39;00m:\n\u001b[1;32m     80\u001b[0m     _worker(\u001b[38;5;241m0\u001b[39m, modules[\u001b[38;5;241m0\u001b[39m], inputs[\u001b[38;5;241m0\u001b[39m], kwargs_tup[\u001b[38;5;241m0\u001b[39m], devices[\u001b[38;5;241m0\u001b[39m])\n",
      "File \u001b[0;32m/usr/lib/python3.9/threading.py:1033\u001b[0m, in \u001b[0;36mThread.join\u001b[0;34m(self, timeout)\u001b[0m\n\u001b[1;32m   1030\u001b[0m     \u001b[38;5;28;01mraise\u001b[39;00m \u001b[38;5;167;01mRuntimeError\u001b[39;00m(\u001b[38;5;124m\"\u001b[39m\u001b[38;5;124mcannot join current thread\u001b[39m\u001b[38;5;124m\"\u001b[39m)\n\u001b[1;32m   1032\u001b[0m \u001b[38;5;28;01mif\u001b[39;00m timeout \u001b[38;5;129;01mis\u001b[39;00m \u001b[38;5;28;01mNone\u001b[39;00m:\n\u001b[0;32m-> 1033\u001b[0m     \u001b[38;5;28;43mself\u001b[39;49m\u001b[38;5;241;43m.\u001b[39;49m\u001b[43m_wait_for_tstate_lock\u001b[49m\u001b[43m(\u001b[49m\u001b[43m)\u001b[49m\n\u001b[1;32m   1034\u001b[0m \u001b[38;5;28;01melse\u001b[39;00m:\n\u001b[1;32m   1035\u001b[0m     \u001b[38;5;66;03m# the behavior of a negative timeout isn't documented, but\u001b[39;00m\n\u001b[1;32m   1036\u001b[0m     \u001b[38;5;66;03m# historically .join(timeout=x) for x<0 has acted as if timeout=0\u001b[39;00m\n\u001b[1;32m   1037\u001b[0m     \u001b[38;5;28mself\u001b[39m\u001b[38;5;241m.\u001b[39m_wait_for_tstate_lock(timeout\u001b[38;5;241m=\u001b[39m\u001b[38;5;28mmax\u001b[39m(timeout, \u001b[38;5;241m0\u001b[39m))\n",
      "File \u001b[0;32m/usr/lib/python3.9/threading.py:1049\u001b[0m, in \u001b[0;36mThread._wait_for_tstate_lock\u001b[0;34m(self, block, timeout)\u001b[0m\n\u001b[1;32m   1047\u001b[0m \u001b[38;5;28;01mif\u001b[39;00m lock \u001b[38;5;129;01mis\u001b[39;00m \u001b[38;5;28;01mNone\u001b[39;00m:  \u001b[38;5;66;03m# already determined that the C code is done\u001b[39;00m\n\u001b[1;32m   1048\u001b[0m     \u001b[38;5;28;01massert\u001b[39;00m \u001b[38;5;28mself\u001b[39m\u001b[38;5;241m.\u001b[39m_is_stopped\n\u001b[0;32m-> 1049\u001b[0m \u001b[38;5;28;01melif\u001b[39;00m \u001b[43mlock\u001b[49m\u001b[38;5;241;43m.\u001b[39;49m\u001b[43macquire\u001b[49m\u001b[43m(\u001b[49m\u001b[43mblock\u001b[49m\u001b[43m,\u001b[49m\u001b[43m \u001b[49m\u001b[43mtimeout\u001b[49m\u001b[43m)\u001b[49m:\n\u001b[1;32m   1050\u001b[0m     lock\u001b[38;5;241m.\u001b[39mrelease()\n\u001b[1;32m   1051\u001b[0m     \u001b[38;5;28mself\u001b[39m\u001b[38;5;241m.\u001b[39m_stop()\n",
      "\u001b[0;31mKeyboardInterrupt\u001b[0m: "
     ]
    }
   ],
   "source": [
    "while global_step < 120001:\n",
    "    global_step, dice_val_best, global_step_best = train(\n",
    "        global_step, train_loader, dice_val_best, global_step_best\n",
    "    )"
   ]
  },
  {
   "cell_type": "code",
   "execution_count": 14,
   "id": "49eae721",
   "metadata": {},
   "outputs": [
    {
     "name": "stdout",
     "output_type": "stream",
     "text": [
      "train completed, best_metric: 0.4738 at iteration: 23700\n"
     ]
    }
   ],
   "source": [
    "print(\n",
    "    f\"train completed, best_metric: {dice_val_best:.4f} \"\n",
    "    f\"at iteration: {global_step_best}\"\n",
    ")"
   ]
  },
  {
   "cell_type": "code",
   "execution_count": 15,
   "id": "1b8ca5ec",
   "metadata": {
    "scrolled": false
   },
   "outputs": [
    {
     "data": {
      "image/png": "[encoded data removed]",
      "text/plain": [
       "<Figure size 864x432 with 2 Axes>"
      ]
     },
     "metadata": {
      "needs_background": "light"
     },
     "output_type": "display_data"
    }
   ],
   "source": [
    "plt.figure(\"train\", (12, 6))\n",
    "plt.subplot(1, 2, 1)\n",
    "plt.title(\"Iteration Average Loss\")\n",
    "x = [eval_num * (i + 1) for i in range(len(epoch_loss_values))]\n",
    "y = epoch_loss_values\n",
    "plt.xlabel(\"Iteration\")\n",
    "plt.plot(x, y)\n",
    "plt.subplot(1, 2, 2)\n",
    "plt.title(\"Val Mean Dice\")\n",
    "x = [eval_num * (i + 1) for i in range(len(metric_values))]\n",
    "y = metric_values\n",
    "plt.xlabel(\"Iteration\")\n",
    "plt.plot(x, y)\n",
    "plt.show()"
   ]
  },
  {
   "cell_type": "code",
   "execution_count": null,
   "id": "23c22136",
   "metadata": {},
   "outputs": [],
   "source": []
  },
  {
   "cell_type": "code",
   "execution_count": null,
   "id": "ca9af07e",
   "metadata": {},
   "outputs": [],
   "source": [
    "case_num = 4\n",
    "model.load_state_dict(torch.load(os.path.join(root_dir, \"best_metric_model.pth\")))\n",
    "model.eval()\n",
    "with torch.no_grad():\n",
    "    img_name = 'sample'\n",
    "    img = val_ds[case_num][\"image\"]\n",
    "    label = val_ds[case_num][\"label\"]\n",
    "    if isinstance(img, np.ndarray) or isinstance(label, np.ndarray):\n",
    "        img = torch.from_numpy(img)\n",
    "        label = torch.from_numpy(label)\n",
    "    val_inputs = torch.unsqueeze(img, 1).cuda()\n",
    "    val_labels = torch.unsqueeze(label, 1).cuda()\n",
    "    val_outputs = sliding_window_inference(\n",
    "        val_inputs, (96, 96, 96), 4, model, overlap=0.8\n",
    "    )\n",
    "    plt.figure(\"check\", (18, 6))\n",
    "    plt.subplot(1, 3, 1)\n",
    "    plt.title(\"image\")\n",
    "    plt.imshow(val_inputs.cpu().numpy()[0, 0, :, :, slice_map[img_name]], cmap=\"gray\")\n",
    "    plt.subplot(1, 3, 2)\n",
    "    plt.title(\"label\")\n",
    "    plt.imshow(val_labels.cpu().numpy()[0, 0, :, :, slice_map[img_name]])\n",
    "    plt.subplot(1, 3, 3)\n",
    "    plt.title(\"output\")\n",
    "    plt.imshow(\n",
    "        torch.argmax(val_outputs, dim=1).detach().cpu()[0, :, :, slice_map[img_name]]\n",
    "    )\n",
    "    plt.show()"
   ]
  },
  {
   "cell_type": "code",
   "execution_count": null,
   "id": "4b8cb1a9",
   "metadata": {},
   "outputs": [],
   "source": []
  },
  {
   "cell_type": "code",
   "execution_count": null,
   "id": "be1025d4",
   "metadata": {},
   "outputs": [],
   "source": []
  },
  {
   "cell_type": "code",
   "execution_count": null,
   "id": "a51b6be3",
   "metadata": {},
   "outputs": [],
   "source": [
    "next(iter(train_loader))"
   ]
  },
  {
   "cell_type": "code",
   "execution_count": null,
   "id": "c46e3947",
   "metadata": {},
   "outputs": [],
   "source": [
    "sample = next(iter(train_loader))\n",
    "sample_image = sample[\"image\"] \n",
    "sample_label = sample[\"label\"]\n",
    "\n",
    "sample_pred = model(sample_image)\n"
   ]
  },
  {
   "cell_type": "code",
   "execution_count": null,
   "id": "a6689ff0",
   "metadata": {},
   "outputs": [],
   "source": []
  },
  {
   "cell_type": "code",
   "execution_count": null,
   "id": "86b05961",
   "metadata": {},
   "outputs": [],
   "source": [
    "from monai.losses import DiceCELoss, DiceLoss\n",
    "loss_function1 = DiceCELoss(include_background=False, to_onehot_y=False, softmax=True)\n",
    "loss_function2 = DiceLoss(include_background=False, to_onehot_y=False, softmax=True)"
   ]
  },
  {
   "cell_type": "code",
   "execution_count": null,
   "id": "7f5279a6",
   "metadata": {},
   "outputs": [],
   "source": [
    "sample_image.shape"
   ]
  },
  {
   "cell_type": "code",
   "execution_count": null,
   "id": "006d2525",
   "metadata": {},
   "outputs": [],
   "source": [
    "import matplotlib.pyplot as plt\n",
    "\n",
    "def slice_img(img, offset, end, interval):\n",
    "  if end is None:\n",
    "    end = len(img)\n",
    "  else: \n",
    "    if end > len(img): \n",
    "      end = len(img)\n",
    "    if end <= offset:\n",
    "      end = offset + 1\n",
    "  return img[offset:end:interval]\n",
    "\n",
    "def show_numpy_img(np_img, offset=0, end=None, interval=5, title=''): \n",
    "  sliced_img = slice_img(np_img, offset, end, interval)\n",
    "\n",
    "  figsize_per_img = 3\n",
    "  num_col = 5\n",
    "  num_row = int(np.ceil(sliced_img.shape[0] / num_col))\n",
    "  # fig, axs = plt.subplots(num_row, num_col, figsize = (figsize_per_img*num_col, figsize_per_img*num_row))\n",
    "  plt.figure(figsize=(figsize_per_img*num_col, figsize_per_img*num_row))\n",
    "  for i, img in enumerate(sliced_img):\n",
    "    if i >= num_col*num_row:\n",
    "      continue\n",
    "    # axs[i].imshow(img)\n",
    "    plt.subplot(num_row, num_col, i+1)\n",
    "    plt.imshow(img, 'gray')\n",
    "    # plt.title()\n",
    "  plt.suptitle(title)\n",
    "  plt.tight_layout()\n",
    "  plt.show()\n",
    "\n",
    "#npy image 정보 보여주기 \n",
    "def show_img_info(np_img):\n",
    "  print('Shape:', np_img.shape)\n",
    "  print('DType:', np_img.dtype)\n",
    "  print('Max:', np_img.max())\n",
    "  print('Min:', np_img.min())\n",
    "  print(np_img)\n",
    "\n",
    "\n",
    "#npy image, npy label \n",
    "def plot_img_and_label(np_img, label, interval = 5, offset = 0, end=None, figsize_per_image = 5):\n",
    "  sliced_img = slice_img(np_img, offset, end, interval)\n",
    "  sliced_label = slice_img(label, offset, end, interval)\n",
    "  \n",
    "  num_row = len(sliced_img)\n",
    "  num_col = 2\n",
    "\n",
    "  plt.figure(figsize=(figsize_per_image*num_col, figsize_per_image*num_row))\n",
    "\n",
    "  for i in range(0, num_row):\n",
    "    plt.subplot(num_row, num_col, i*num_col+1)\n",
    "    tissue_image = sliced_img[i]\n",
    "    plt.imshow(tissue_image, 'gray')\n",
    "\n",
    "    plt.subplot(num_row, num_col, i*num_col+2)\n",
    "    mask = sliced_label[i]\n",
    "    label_on_tissue = sitk.LabelMapContourOverlay(sitk.Cast(sitk.GetImageFromArray(mask), sitk.sitkLabelUInt8), sitk.GetImageFromArray(tissue_image), opacity=0.7, contourThickness=[2,2], colormap=(0,255,0))\n",
    "    plt.imshow(sitk.GetArrayFromImage(label_on_tissue), 'gray')\n",
    "\n",
    "  plt.tight_layout()\n",
    "  plt.show()\n",
    "    \n",
    "def adjust_window(image, window):\n",
    "    width = window[0]\n",
    "    level = window[1]\n",
    "    upper = level+width/2\n",
    "    lower = level-width/2\n",
    "    copied_image = image.clip(lower, upper)\n",
    "    copied_image = copied_image-lower\n",
    "    return (copied_image/(upper-lower))"
   ]
  },
  {
   "cell_type": "code",
   "execution_count": null,
   "id": "7179e038",
   "metadata": {},
   "outputs": [],
   "source": [
    "def plot_img_label_pred(image_npy, label_npy, pred_npy, interval = 5, offset = 0, end=None, figsize_per_image = 5, show_only_positive = False):\n",
    "    sliced_img = slice_img(image_npy, offset, end, interval)\n",
    "    sliced_label = slice_img(label_npy, offset, end, interval)\n",
    "    sliced_pred = slice_img(pred_npy, offset, end, interval)\n",
    "\n",
    "    if show_only_positive:\n",
    "        positive_idx = (sliced_label + sliced_pred).sum(axis = (1,2)) > 0.5\n",
    "        sliced_img = sliced_img[positive_idx]\n",
    "        sliced_label = sliced_label[positive_idx]\n",
    "        sliced_pred = sliced_pred[positive_idx]\n",
    "    \n",
    "    num_row = len(sliced_img)\n",
    "    num_col = 3\n",
    "    \n",
    "    plt.figure(figsize=(figsize_per_image*num_col, figsize_per_image*num_row))\n",
    "\n",
    "    for i in range(0, num_row):\n",
    "        plt.subplot(num_row, num_col, i*num_col+1)\n",
    "        tissue_image = sliced_img[i]\n",
    "        plt.imshow(tissue_image, 'gray')\n",
    "\n",
    "        plt.subplot(num_row, num_col, i*num_col+2)\n",
    "        mask = sliced_label[i]\n",
    "        label_on_tissue = sitk.LabelMapContourOverlay(sitk.Cast(sitk.GetImageFromArray(mask), sitk.sitkLabelUInt8), sitk.GetImageFromArray(tissue_image), opacity=0.7, contourThickness=[2,2], colormap=(0,255,0))\n",
    "        plt.imshow(sitk.GetArrayFromImage(label_on_tissue), 'gray')\n",
    "        \n",
    "        plt.subplot(num_row, num_col, i*num_col+3)\n",
    "        mask = sliced_pred[i]\n",
    "        pred_on_tissue = sitk.LabelMapContourOverlay(sitk.Cast(sitk.GetImageFromArray(mask), sitk.sitkLabelUInt8), sitk.GetImageFromArray(tissue_image), opacity=0.7, contourThickness=[2,2], colormap=(255,0,0))\n",
    "        plt.imshow(sitk.GetArrayFromImage(pred_on_tissue), 'gray')\n",
    "\n",
    "    plt.tight_layout()\n",
    "    plt.show()"
   ]
  },
  {
   "cell_type": "code",
   "execution_count": null,
   "id": "36230110",
   "metadata": {},
   "outputs": [],
   "source": [
    "sample_image[0].shape"
   ]
  },
  {
   "cell_type": "code",
   "execution_count": null,
   "id": "431adda5",
   "metadata": {},
   "outputs": [],
   "source": [
    "import SimpleITK as sitk"
   ]
  },
  {
   "cell_type": "code",
   "execution_count": null,
   "id": "e1bf0d8f",
   "metadata": {},
   "outputs": [],
   "source": [
    "sample_label.dtype"
   ]
  },
  {
   "cell_type": "code",
   "execution_count": null,
   "id": "6e8492be",
   "metadata": {},
   "outputs": [],
   "source": [
    "sample_pred.min()"
   ]
  },
  {
   "cell_type": "code",
   "execution_count": null,
   "id": "ca09d7c7",
   "metadata": {},
   "outputs": [],
   "source": [
    "pred_result = (sample_pred > 0).cpu().to(torch.uint8)"
   ]
  },
  {
   "cell_type": "code",
   "execution_count": null,
   "id": "454bb9e9",
   "metadata": {},
   "outputs": [],
   "source": [
    "sample_num = 5\n",
    "plot_img_label_pred(sample_image[sample_num].cpu(), sample_label[sample_num].cpu().to(torch.uint8), pred_result[sample_num], show_only_positive = True, interval =2)"
   ]
  },
  {
   "cell_type": "code",
   "execution_count": null,
   "id": "bc6d1ec0",
   "metadata": {},
   "outputs": [],
   "source": [
    "loss_function1(sample_pred.cpu(), sample_label.cpu())"
   ]
  },
  {
   "cell_type": "code",
   "execution_count": null,
   "id": "d4d9ccea",
   "metadata": {},
   "outputs": [],
   "source": [
    "from monai.losses import DiceCELoss, DiceLoss\n",
    "loss_function1 = DiceCELoss(include_background=False, to_onehot_y=False, softmax=True)\n",
    "loss_function2 = DiceLoss(include_background=False, to_onehot_y=False, softmax=True)\n",
    "loss_function3 = DiceLoss(include_background=False, to_onehot_y=True, softmax=True)"
   ]
  },
  {
   "cell_type": "markdown",
   "id": "d0eea4a6",
   "metadata": {},
   "source": [
    "#### for i in range(len(sample_pred)):\n",
    "    print(loss_function3(sample_pred[i].cpu(), sample_label[i].cpu()))\n",
    "    "
   ]
  },
  {
   "cell_type": "code",
   "execution_count": null,
   "id": "6f45366f",
   "metadata": {},
   "outputs": [],
   "source": [
    "loss_function2(sample_pred[:6].cpu(), sample_label[:6].cpu())"
   ]
  },
  {
   "cell_type": "markdown",
   "id": "34f0145a",
   "metadata": {},
   "source": [
    "#### sample_pred.shape"
   ]
  },
  {
   "cell_type": "code",
   "execution_count": null,
   "id": "1e95444d",
   "metadata": {},
   "outputs": [],
   "source": []
  }
 ],
 "metadata": {
  "kernelspec": {
   "display_name": "Python 3 (ipykernel)",
   "language": "python",
   "name": "python3"
  },
  "language_info": {
   "codemirror_mode": {
    "name": "ipython",
    "version": 3
   },
   "file_extension": ".py",
   "mimetype": "text/x-python",
   "name": "python",
   "nbconvert_exporter": "python",
   "pygments_lexer": "ipython3",
   "version": "3.9.5"
  }
 },
 "nbformat": 4,
 "nbformat_minor": 5
}
