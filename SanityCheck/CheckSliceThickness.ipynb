{
 "cells": [
  {
   "cell_type": "code",
   "execution_count": 1,
   "id": "8bbfaca7",
   "metadata": {},
   "outputs": [],
   "source": [
    "import pandas as pd\n",
    "import os, json"
   ]
  },
  {
   "cell_type": "code",
   "execution_count": 2,
   "id": "ffeffd98",
   "metadata": {},
   "outputs": [],
   "source": [
    "BASE_DIR = '/workspace/BoneMeta_raw'\n",
    "JSON_DIR = os.path.join(BASE_DIR, 'json')\n",
    "\n",
    "SMALL_Z_CRITERIA = 1.5 #mm"
   ]
  },
  {
   "cell_type": "code",
   "execution_count": 3,
   "id": "3bc62c6a",
   "metadata": {},
   "outputs": [],
   "source": [
    "CASE_NAMES = os.listdir(JSON_DIR)"
   ]
  },
  {
   "cell_type": "code",
   "execution_count": 4,
   "id": "0da57c46",
   "metadata": {},
   "outputs": [
    {
     "data": {
      "text/plain": [
       "310"
      ]
     },
     "execution_count": 4,
     "metadata": {},
     "output_type": "execute_result"
    }
   ],
   "source": [
    "len(CASE_NAMES)"
   ]
  },
  {
   "cell_type": "code",
   "execution_count": 5,
   "id": "2c627e52",
   "metadata": {},
   "outputs": [],
   "source": [
    "def get_json_file(case_name):\n",
    "    json_path = os.path.join(JSON_DIR, case_name, 'lesionAnnot3D.json')\n",
    "    return json.load(open(json_path))"
   ]
  },
  {
   "cell_type": "code",
   "execution_count": 6,
   "id": "e5b3d75c",
   "metadata": {},
   "outputs": [
    {
     "data": {
      "text/plain": [
       "'0.560547 x 0.560547 x 1.000000'"
      ]
     },
     "execution_count": 6,
     "metadata": {},
     "output_type": "execute_result"
    }
   ],
   "source": [
    "j = get_json_file(CASE_NAMES[0])\n",
    "j['volumeInfo']['voxelResolution_mm']"
   ]
  },
  {
   "cell_type": "code",
   "execution_count": 12,
   "id": "27b5bba9",
   "metadata": {},
   "outputs": [],
   "source": [
    "def get_voxel_size(json):\n",
    "    size_string = json['volumeInfo']['voxelResolution_mm']\n",
    "    size_list = size_string.split(' x ')\n",
    "    return tuple([float(size) for size in size_list])"
   ]
  },
  {
   "cell_type": "code",
   "execution_count": 13,
   "id": "9518cdf6",
   "metadata": {},
   "outputs": [
    {
     "data": {
      "text/plain": [
       "(0.560547, 0.560547, 1.0)"
      ]
     },
     "execution_count": 13,
     "metadata": {},
     "output_type": "execute_result"
    }
   ],
   "source": [
    "get_voxel_size(j)"
   ]
  },
  {
   "cell_type": "code",
   "execution_count": 23,
   "id": "68029980",
   "metadata": {},
   "outputs": [
    {
     "data": {
      "text/html": [
       "<div>\n",
       "<style scoped>\n",
       "    .dataframe tbody tr th:only-of-type {\n",
       "        vertical-align: middle;\n",
       "    }\n",
       "\n",
       "    .dataframe tbody tr th {\n",
       "        vertical-align: top;\n",
       "    }\n",
       "\n",
       "    .dataframe thead th {\n",
       "        text-align: right;\n",
       "    }\n",
       "</style>\n",
       "<table border=\"1\" class=\"dataframe\">\n",
       "  <thead>\n",
       "    <tr style=\"text-align: right;\">\n",
       "      <th></th>\n",
       "      <th>x</th>\n",
       "      <th>y</th>\n",
       "      <th>z</th>\n",
       "    </tr>\n",
       "  </thead>\n",
       "  <tbody>\n",
       "    <tr>\n",
       "      <th>0</th>\n",
       "      <td>0.560547</td>\n",
       "      <td>0.560547</td>\n",
       "      <td>1.0</td>\n",
       "    </tr>\n",
       "    <tr>\n",
       "      <th>1</th>\n",
       "      <td>0.621094</td>\n",
       "      <td>0.621094</td>\n",
       "      <td>1.0</td>\n",
       "    </tr>\n",
       "    <tr>\n",
       "      <th>2</th>\n",
       "      <td>0.589844</td>\n",
       "      <td>0.589844</td>\n",
       "      <td>1.0</td>\n",
       "    </tr>\n",
       "    <tr>\n",
       "      <th>3</th>\n",
       "      <td>0.613281</td>\n",
       "      <td>0.613281</td>\n",
       "      <td>1.0</td>\n",
       "    </tr>\n",
       "    <tr>\n",
       "      <th>4</th>\n",
       "      <td>0.646484</td>\n",
       "      <td>0.646484</td>\n",
       "      <td>1.0</td>\n",
       "    </tr>\n",
       "  </tbody>\n",
       "</table>\n",
       "</div>"
      ],
      "text/plain": [
       "          x         y    z\n",
       "0  0.560547  0.560547  1.0\n",
       "1  0.621094  0.621094  1.0\n",
       "2  0.589844  0.589844  1.0\n",
       "3  0.613281  0.613281  1.0\n",
       "4  0.646484  0.646484  1.0"
      ]
     },
     "execution_count": 23,
     "metadata": {},
     "output_type": "execute_result"
    }
   ],
   "source": [
    "voxel_size_df = pd.DataFrame([get_voxel_size(get_json_file(case)) for case in CASE_NAMES], columns=['x', 'y', 'z'])\n",
    "voxel_size_df.head()"
   ]
  },
  {
   "cell_type": "code",
   "execution_count": 24,
   "id": "bdb14067",
   "metadata": {},
   "outputs": [
    {
     "data": {
      "text/plain": [
       "True"
      ]
     },
     "execution_count": 24,
     "metadata": {},
     "output_type": "execute_result"
    }
   ],
   "source": [
    "(voxel_size_df.x == voxel_size_df.y).all()"
   ]
  },
  {
   "cell_type": "code",
   "execution_count": 25,
   "id": "1b3ea452",
   "metadata": {},
   "outputs": [
    {
     "name": "stdout",
     "output_type": "stream",
     "text": [
      "\n",
      "Min_x : 0.251953\n",
      "Max_x : 1.367188\n"
     ]
    },
    {
     "data": {
      "text/plain": [
       "<AxesSubplot:>"
      ]
     },
     "execution_count": 25,
     "metadata": {},
     "output_type": "execute_result"
    },
    {
     "data": {
      "image/png": "[encoded data removed]",
      "text/plain": [
       "<Figure size 432x288 with 1 Axes>"
      ]
     },
     "metadata": {
      "needs_background": "light"
     },
     "output_type": "display_data"
    }
   ],
   "source": [
    "print(f\"\"\"\n",
    "Min_x : {voxel_size_df.x.min()}\n",
    "Max_x : {voxel_size_df.x.max()}\"\"\")\n",
    "voxel_size_df.x.hist(bins = 20)"
   ]
  },
  {
   "cell_type": "code",
   "execution_count": 31,
   "id": "445eb67b",
   "metadata": {},
   "outputs": [
    {
     "data": {
      "text/plain": [
       "13"
      ]
     },
     "execution_count": 31,
     "metadata": {},
     "output_type": "execute_result"
    }
   ],
   "source": [
    "pd.Index(voxel_size_df.x).get_loc(0.251953)"
   ]
  },
  {
   "cell_type": "code",
   "execution_count": 32,
   "id": "14f749dc",
   "metadata": {},
   "outputs": [
    {
     "data": {
      "text/plain": [
       "35"
      ]
     },
     "execution_count": 32,
     "metadata": {},
     "output_type": "execute_result"
    }
   ],
   "source": [
    "pd.Index(voxel_size_df.x).get_loc(1.367188)"
   ]
  },
  {
   "cell_type": "code",
   "execution_count": 35,
   "id": "241308b6",
   "metadata": {},
   "outputs": [
    {
     "data": {
      "text/plain": [
       "x    1.367188\n",
       "y    1.367188\n",
       "z    3.000000\n",
       "Name: 35, dtype: float64"
      ]
     },
     "execution_count": 35,
     "metadata": {},
     "output_type": "execute_result"
    }
   ],
   "source": [
    "voxel_size_df.iloc[35]"
   ]
  },
  {
   "cell_type": "code",
   "execution_count": 37,
   "id": "20cf700a",
   "metadata": {
    "scrolled": true
   },
   "outputs": [
    {
     "data": {
      "text/plain": [
       "<AxesSubplot:>"
      ]
     },
     "execution_count": 37,
     "metadata": {},
     "output_type": "execute_result"
    },
    {
     "data": {
      "image/png": "[encoded data removed]",
      "text/plain": [
       "<Figure size 432x288 with 1 Axes>"
      ]
     },
     "metadata": {
      "needs_background": "light"
     },
     "output_type": "display_data"
    }
   ],
   "source": [
    "# Z size hist\n",
    "voxel_size_df.z.hist(bins = 30)"
   ]
  },
  {
   "cell_type": "code",
   "execution_count": 46,
   "id": "a5538edd",
   "metadata": {
    "scrolled": true
   },
   "outputs": [
    {
     "data": {
      "text/plain": [
       "<AxesSubplot:>"
      ]
     },
     "execution_count": 46,
     "metadata": {},
     "output_type": "execute_result"
    },
    {
     "data": {
      "image/png": "[encoded data removed]",
      "text/plain": [
       "<Figure size 432x288 with 1 Axes>"
      ]
     },
     "metadata": {
      "needs_background": "light"
     },
     "output_type": "display_data"
    }
   ],
   "source": [
    "x_z_ratio = (voxel_size_df.z / voxel_size_df.x)\n",
    "x_z_ratio.hist(bins = 30)"
   ]
  },
  {
   "cell_type": "code",
   "execution_count": 44,
   "id": "c668873a",
   "metadata": {},
   "outputs": [
    {
     "data": {
      "text/plain": [
       "array(['BH041_20190201_C-T-L Spine (3D)', 'SN034_20200101_chest',\n",
       "       '000269_20190325_abdomen', 'SN049_20170901_abdomen',\n",
       "       '000269_20181214_abdomen', 'SN042_20170901_abdomen',\n",
       "       '000270_20190601_abdomen', '000012_20181212_abdomen',\n",
       "       'SN015_20190901_abdomen', 'SN050_20170401_chest',\n",
       "       'SN014_20190901_abdomen', 'SN039_20181001_abdomen',\n",
       "       '000269_20181016_abdomen', 'SN059_20170501_chest',\n",
       "       'SN031_20160501_abdomen', 'BH030_20160101_T-L spine (3D)',\n",
       "       'SN011_20180401_chest', 'SN039_20181001_chest',\n",
       "       'SN049_20170901_chest', 'SN055_20170301_abdomen',\n",
       "       'SN007_20190801_abdomen', 'SN045_20170201_abdomen',\n",
       "       'SN011_20180401_abdomen', '000262_20190319_abdomen',\n",
       "       'SN048_20170801_chest', 'SN013_20190401_abdomen',\n",
       "       'SN004_20190801_abdomen', '000286_20190710_chest',\n",
       "       'SN012_20150801_abdomen', 'SN020_20190801_abdomen',\n",
       "       'SN028_20160801_abdomen', 'SN019_20190801_abdomen',\n",
       "       'SN040_20170201_CT Neck (contrast)', '000251_20190429_abdomen',\n",
       "       'SN020_20190801_chest', 'SN040_20170201_abdomen',\n",
       "       'SN034_20200101_abdomen', 'SN018_20190801_abdomen',\n",
       "       'SN030_20191101_abdomen', 'SN046_20170601_abdomen',\n",
       "       '000304_20190124_CT Liver (contrast)', 'SN035_20180101_chest',\n",
       "       '000025_20180808_abdomen', 'SN002_20190801_abdomen',\n",
       "       '000005_20181202_abdomen', 'SN025_20200401_abdomen',\n",
       "       'SN014_20190901_chest', '000280_20190625_CT Liver (contrast)',\n",
       "       'SN001_20190901_abdomen', 'SN016_20190901_abdomen',\n",
       "       'SN018_20190801_chest', 'SN029_20200301_abdomen',\n",
       "       'SN043_20170701_chest', 'SN009_20190801_abdomen',\n",
       "       'SN009_20190801_chest', 'SN051_20170401_abdomen',\n",
       "       'SN044_20160601_CT Liver+Pelvis(contrast)', 'SN045_20170201_chest',\n",
       "       '000010_20181214_abdomen', 'SN032_20190501_abdomen',\n",
       "       'BH038_20160901_CT angio + 3D C-spine(vertebral artery, C1-2)',\n",
       "       'SN017_20190801_abdomen', 'SN005_20191001_abdomen',\n",
       "       '000282_20190410_abdomen',\n",
       "       'SN010_20190801_CT Liver+Pelvis(contrast)',\n",
       "       '000019_20190601_abdomen', '000317_20190720_CT Liver (contrast)'],\n",
       "      dtype=object)"
      ]
     },
     "execution_count": 44,
     "metadata": {},
     "output_type": "execute_result"
    }
   ],
   "source": [
    "pd.Series(CASE_NAMES)[x_z_ratio>2.2].values"
   ]
  },
  {
   "cell_type": "code",
   "execution_count": 45,
   "id": "9421b683",
   "metadata": {},
   "outputs": [
    {
     "data": {
      "text/plain": [
       "array(['SN034_20200101_chest', '000269_20190325_abdomen',\n",
       "       'SN049_20170901_abdomen', '000269_20181214_abdomen',\n",
       "       '000270_20190601_abdomen', '000012_20181212_abdomen',\n",
       "       'SN032_20190401_T spine CT pre contr', 'SN015_20190901_abdomen',\n",
       "       'SN050_20170401_chest', 'SN014_20190901_abdomen',\n",
       "       '000269_20181016_abdomen', 'SN059_20170501_chest',\n",
       "       'SN031_20160501_abdomen', 'SN011_20180401_chest',\n",
       "       'SN039_20181001_chest', 'SN049_20170901_chest',\n",
       "       'SN055_20170301_abdomen', 'SN007_20190801_abdomen',\n",
       "       'SN011_20180401_abdomen', '000262_20190319_abdomen',\n",
       "       'SN048_20170801_chest', 'SN013_20190401_abdomen',\n",
       "       'SN004_20190801_abdomen', '000286_20190710_chest',\n",
       "       'SN020_20190801_abdomen', 'SN040_20170201_CT Neck (contrast)',\n",
       "       '000251_20190429_abdomen', 'SN020_20190801_chest',\n",
       "       'SN040_20170201_abdomen', 'SN030_20191101_abdomen',\n",
       "       '000304_20190124_CT Liver (contrast)', 'SN035_20180101_chest',\n",
       "       '000025_20180808_abdomen', 'SN002_20190801_abdomen',\n",
       "       '000005_20181202_abdomen', 'SN025_20200401_abdomen',\n",
       "       'SN014_20190901_chest', '000280_20190625_CT Liver (contrast)',\n",
       "       'SN001_20190901_abdomen', 'SN018_20190801_chest',\n",
       "       'SN029_20200301_abdomen', 'SN043_20170701_chest',\n",
       "       'SN009_20190801_abdomen', 'SN009_20190801_chest',\n",
       "       'SN045_20170201_chest', '000010_20181214_abdomen',\n",
       "       'SN032_20190501_abdomen', 'SN017_20190801_abdomen',\n",
       "       '000282_20190410_abdomen',\n",
       "       'SN010_20190801_CT Liver+Pelvis(contrast)',\n",
       "       '000019_20190601_abdomen', '000317_20190720_CT Liver (contrast)'],\n",
       "      dtype=object)"
      ]
     },
     "execution_count": 45,
     "metadata": {},
     "output_type": "execute_result"
    }
   ],
   "source": [
    "pd.Series(CASE_NAMES)[voxel_size_df.z>2].values"
   ]
  },
  {
   "cell_type": "code",
   "execution_count": 38,
   "id": "cc5ef4ed",
   "metadata": {},
   "outputs": [],
   "source": [
    "def z_of_case(case):\n",
    "    j = get_json_file(case)\n",
    "    return get_voxel_size(j)[2]\n",
    "\n",
    "def is_small_z_case(case):\n",
    "    z_size = z_of_case(case)\n",
    "    return z_size < SMALL_Z_CRITERIA"
   ]
  },
  {
   "cell_type": "code",
   "execution_count": 52,
   "id": "7933dfa4",
   "metadata": {},
   "outputs": [
    {
     "name": "stdout",
     "output_type": "stream",
     "text": [
      "\n",
      "Total cases: 310\n",
      "Small z cases: 245\n",
      "Max z in small_z cases: 1.25\n",
      "Min z in small_z cases: 0.5\n",
      "\n"
     ]
    }
   ],
   "source": [
    "small_z_idx = pd.Series([is_small_z_case(case) for case in CASE_NAMES])\n",
    "small_z_cases = pd.Series(CASE_NAMES)[small_z_idx].values\n",
    "z_of_small_z_cases = [z_of_case(case) for case in small_z_cases]\n",
    "print(f'''\n",
    "Total cases: {len(CASE_NAMES)}\n",
    "Small z cases: {small_z_idx.sum()}\n",
    "Max z in small_z cases: {max(z_of_small_z_cases)}\n",
    "Min z in small_z cases: {min(z_of_small_z_cases)}\n",
    "'''\n",
    ")"
   ]
  },
  {
   "cell_type": "code",
   "execution_count": 69,
   "id": "9ff973b3",
   "metadata": {},
   "outputs": [
    {
     "data": {
      "text/plain": [
       "\"['000251_20190703_chest', '000356_20191024_chest', '000350_20190927_chest', '000397_20200214_chest', 'BH005_20170701_abdomen', 'BH041_20190201_C-T-L Spine (3D)', 'BH005_20170701_chest', '000355_20190901_abdomen', '000022_20180830_chest', '000244_20190501_abdomen', '000332_20191025_chest', '000019_20181018_chest', 'BH011_20190301_Spine^00_C_Spine_Pre_OP (Adult)', '000019_20190613_chest', 'BH017_20191201_abdomen', '000273_20190531_chest', '000404_20200305_chest', '000286_20190701_abdomen', 'SN015_20190901_chest', '000391_20200216_Thoracic Aorta CT Angio+3D (contrast)', '000262_20190501_abdomen', 'SN013_20190401_chest', '000285_20190807_chest', '000362_20191201_abdomen', '000322_20190913_chest', 'BH057_20191227_chest', '000400_20200210_chest', 'BH064_20200605_abdomen', 'BH034_20190901_chest', '000298_20190726_chest', '000311_20190902_chest', '000396_20200201_abdomen', '000223_20190319_chest', 'BH032_20180701_abdomen', '000291_20190701_abdomen', 'BH045_20181001_abdomen', '000296_20190726_chest', 'BH066_20190525_chest', 'BH010_20161101_chest', '000251_20190701_abdomen', 'SN007_20190701_chest', '000193_20190114_chest', '000262_20190529_chest', '000251_20190429_chest', 'BH060_20200413_chest', '000234_20190419_chest', 'BH040_20200101_CT Angio + 3D Pulmonary artery (Embolism) (2)', 'BH070_20160823_chest', '000316_20190627_chest', '000356_20190901_abdomen', '000383_20200121_chest', 'BH052_20190901_chest', '000450_20200512_chest', '000276_20190604_chest', '000364_20191217_chest', 'BH025_20191101_abdomen', 'BH035_20191101_GU Kidney & bladder CT (3D)', 'BH018_20190801_chest', '000269_20190601_abdomen', 'BH008_20190701_chest', '000332_20191001_abdomen', 'BH043_20191001_abdomen', '000260_20190522_chest', 'BH007_20190801_chest', 'BH067_20191017_chest', '000279_20190614_chest', 'SN004_20190901_chest', 'BH042_20180801_C-T-L Spine (3D)', 'BH099_20200806_abdomen', 'BH055_20200328_chest', 'BH001_20190401_chest', '000162_20180131_chest', 'BH054_20191122_abdomen', '000450_20200501_abdomen', 'BH030_20160101_T-L spine (3D)', '000372_20200107_chest', 'BH069_20200505_chest', 'BH012_20180401_abdomen', 'BH058_20180918_chest', '000404_20200201_abdomen', 'BH048_20190501_chest', '000348_20191201_CT Liver (contrast)', 'BH002_20190701_chest', '000376_20200101_abdomen', '000309_20190801_abdomen', 'SN017_20190701_chest', 'BH029_20200101_chest', 'BH059_20201013_abdomen', '000310_20190801_abdomen', '000272_20190614_chest', 'BH027_20191001_L-spine CT (3D)', 'BH064_20200605_chest', '000350_20191001_abdomen', '000232_20190423_chest', 'BH001_20190501_abdomen', 'BH039_20190601_chest', 'SN008_20190901_chest', '000270_20190608_chest', 'BH091_20200104_chest', '000269_20190604_chest', '000331_20190916_chest', '000325_20190919_chest', '000363_20191222_chest', '000260_20190501_CT Liver (contrast)', '000330_20190926_chest', 'BH072_20200219_abdomen', '000324_20190910_chest', 'BH009_20180301_chest', 'BH028_20190801_chest', 'SN029_20200301_chest', 'BH110_20200616_chest', '000401_20200201_T-Spine+3D CT (noncontrast)', 'SN031_20160501_chest', 'SN005_20191101_chest', '000452_20200513_chest', '000021_20181227_chest', '000236_20190401_abdomen', 'SN002_20190801_chest', '000382_20200129_chest', '000301_20190801_Pulmonary artery CT Angio+3D (contrast)', 'BH015_20190101_chest', 'BH043_20191001_chest', 'BH063_20200519_chest', '000363_20191201_abdomen', '000354_20191001_abdomen', 'BH047_20180901_abdomen', '000079_20180911_Pulmonary artery CT Angio+3D (contrast)', 'BH016_20151001_chest', 'BH061_20190315_abdomen', 'BH014_20181201_chest', '000362_20191214_chest', '000354_20191022_chest', 'SN051_20170401_chest', 'SN036_20190601_chest', 'BH017_20191201_chest', '000282_20190701_abdomen', 'BH023_20191101_chest', '000085_20180829_chest', 'SN019_20190801_chest', '000212_20190324_chest', '000302_20190726_chest', 'BH009_20180301_abdomen', 'BH008_20190701_abdomen', '000301_20190801_abdomen', 'BH015_20190101_abdomen', 'SN028_20160801_chest', '000344_20191125_chest', 'BH014_20181201_abdomen', '000214_20190325_chest', '000386_20200204_chest', '000372_20200101_abdomen', 'BH091_20200104_GU Kidney & bladder CT (3D)', 'SN025_20200401_chest', '000400_20200201_CT Biliary (contrast)', '000255_20190418_chest', 'BH081_20190322_abdomen', '000315_20190820_chest', '000288_20190701_abdomen', '000272_20190601_abdomen', '000322_20190901_abdomen', '000331_20190901_abdomen', 'SN055_20170301_chest', 'BH052_20190901_abdomen', '000310_20190812_chest', '000069_20180319_chest', 'BH024_20190501_abdomen', 'BH021_20181001_abdomen', '000009_20180417_chest', 'BH037_20171101_abdomen', '000002_20180829_chest', '000234_20190401_abdomen', '000262_20190318_chest', 'SN016_20190901_chest', '000232_20190401_abdomen', 'SN056_20170601_Thorax^01_Lung_Cancer_3D (Adult)', '000300_20190801_abdomen', 'BH006_20170801_chest', '000278_20190620_chest', 'BH036_20180301_GU Kidney & bladder CT (3D)', 'BH019_20191101_chest', 'BH004_20191101_chest', '000382_20200101_abdomen', '000242_20190409_chest', 'BH061_20190315_chest', '000080_20180911_chest', '000355_20191023_chest', '000364_20191201_abdomen', 'BH018_20190801_abdomen', '000291_20190718_chest', '000279_20190601_abdomen', '000308_20190826_chest', '000305_20190801_abdomen', 'BH010_20161101_abdomen', 'BH007_20190801_abdomen', 'BH021_20181001_chest', '000396_20200218_chest', '000091_20180504_chest', 'SN042_20170901_chest', '000314_20190827_chest', 'BH031_20160301_CT Angio + 3D Pulmonary artery (Embolism)', 'BH023_20191101_abdomen', '000301_20190827_chest', 'BH062_20201104_chest', 'BH020_20191201_chest', 'BH059_20201019_chest', '000246_20190629_chest', 'BH026_20190601_abdomen', 'BH040_20200101_CT Angio + 3D Pulmonary artery (Embolism)', 'BH034_20190901_abdomen', 'BH099_20200806_chest', 'BH051_20190301_GU Kidney & bladder CT (3D)', '000368_20200101_abdomen', 'BH057_20191227_abdomen', 'BH112_20190201_chest', 'BH024_20190501_chest', 'BH013_20191001_chest', '000309_20190823_chest', '000011_20181207_chest', 'BH020_20191201_abdomen', 'BH027_20191001_chest', '000316_20190715_Spine^L_SPINE (Adult)', '000012_20181214_chest', 'BH032_20180701_chest', 'BH037_20171101_chest', '000285_20190801_abdomen', 'BH038_20160901_CT angio + 3D C-spine(vertebral artery, C1-2)', 'BH072_20200219_chest', 'SN054_20170201_chest', '000048_20190501_abdomen', '000304_20190124_chest', 'BH045_20181001_chest', '000352_20191001_abdomen', 'BH016_20151001_abdomen', 'BH022_20190101_chest', 'BH047_20180901_chest', '000314_20190901_abdomen', 'BH065_20201013_chest', 'BH056_20200721_chest', '000281_20190701_chest', '000025_20180808_chest', '000352_20191017_chest', 'BH012_20180401_chest', '000224_20190228_chest', '000308_20190801_abdomen', '000376_20200114_chest']\""
      ]
     },
     "execution_count": 69,
     "metadata": {},
     "output_type": "execute_result"
    }
   ],
   "source": [
    "f\"{list(small_z_cases)}\""
   ]
  }
 ],
 "metadata": {
  "kernelspec": {
   "display_name": "Python 3",
   "language": "python",
   "name": "python3"
  },
  "language_info": {
   "codemirror_mode": {
    "name": "ipython",
    "version": 3
   },
   "file_extension": ".py",
   "mimetype": "text/x-python",
   "name": "python",
   "nbconvert_exporter": "python",
   "pygments_lexer": "ipython3",
   "version": "3.6.9"
  }
 },
 "nbformat": 4,
 "nbformat_minor": 5
}
