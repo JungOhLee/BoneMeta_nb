{
 "cells": [
  {
   "cell_type": "code",
   "execution_count": 1,
   "id": "50077d07",
   "metadata": {},
   "outputs": [],
   "source": [
    "import pandas as pd\n",
    "import numpy as np\n",
    "import os"
   ]
  },
  {
   "cell_type": "code",
   "execution_count": 2,
   "id": "042d262b",
   "metadata": {},
   "outputs": [],
   "source": [
    "data_info_path = '/workspace/BoneMeta_raw/data_info.csv'"
   ]
  },
  {
   "cell_type": "code",
   "execution_count": 3,
   "id": "188bedae",
   "metadata": {},
   "outputs": [],
   "source": [
    "data_info = pd.read_csv(data_info_path)"
   ]
  },
  {
   "cell_type": "code",
   "execution_count": 4,
   "id": "39809b0e",
   "metadata": {},
   "outputs": [
    {
     "data": {
      "text/html": [
       "<div>\n",
       "<style scoped>\n",
       "    .dataframe tbody tr th:only-of-type {\n",
       "        vertical-align: middle;\n",
       "    }\n",
       "\n",
       "    .dataframe tbody tr th {\n",
       "        vertical-align: top;\n",
       "    }\n",
       "\n",
       "    .dataframe thead th {\n",
       "        text-align: right;\n",
       "    }\n",
       "</style>\n",
       "<table border=\"1\" class=\"dataframe\">\n",
       "  <thead>\n",
       "    <tr style=\"text-align: right;\">\n",
       "      <th></th>\n",
       "      <th>Case</th>\n",
       "      <th>Lesion Type</th>\n",
       "      <th>Lesion Location</th>\n",
       "      <th>I/V</th>\n",
       "      <th>File Name</th>\n",
       "      <th>Lesion Size</th>\n",
       "      <th>Background Size</th>\n",
       "      <th>Original Shape</th>\n",
       "      <th>1mm Resized Shape</th>\n",
       "      <th>1 Resized Shape</th>\n",
       "      <th>Original Center</th>\n",
       "      <th>1mm Resized Center</th>\n",
       "      <th>1 Resized Center</th>\n",
       "    </tr>\n",
       "  </thead>\n",
       "  <tbody>\n",
       "    <tr>\n",
       "      <th>0</th>\n",
       "      <td>000002_20180829_chest</td>\n",
       "      <td>M</td>\n",
       "      <td>T10</td>\n",
       "      <td>I</td>\n",
       "      <td>lesionAnnot3D-004</td>\n",
       "      <td>3449</td>\n",
       "      <td>104854151</td>\n",
       "      <td>[512, 512, 400]</td>\n",
       "      <td>[377, 377, 400]</td>\n",
       "      <td>(512, 512, 543)</td>\n",
       "      <td>[256, 322, 266]</td>\n",
       "      <td>[188, 237, 266]</td>\n",
       "      <td>[256, 322, 361]</td>\n",
       "    </tr>\n",
       "    <tr>\n",
       "      <th>1</th>\n",
       "      <td>000005_20181202_abdomen</td>\n",
       "      <td>L</td>\n",
       "      <td>L5</td>\n",
       "      <td>V</td>\n",
       "      <td>lesionAnnot3D-001</td>\n",
       "      <td>34062</td>\n",
       "      <td>37976818</td>\n",
       "      <td>[512, 512, 145]</td>\n",
       "      <td>[323, 323, 435]</td>\n",
       "      <td>(512, 512, 230)</td>\n",
       "      <td>[298, 298, 92]</td>\n",
       "      <td>[188, 188, 276]</td>\n",
       "      <td>[298, 298, 146]</td>\n",
       "    </tr>\n",
       "    <tr>\n",
       "      <th>2</th>\n",
       "      <td>000009_20180417_chest</td>\n",
       "      <td>S</td>\n",
       "      <td>C7-1</td>\n",
       "      <td>V</td>\n",
       "      <td>lesionAnnot3D-001</td>\n",
       "      <td>2299</td>\n",
       "      <td>89126661</td>\n",
       "      <td>[512, 512, 340]</td>\n",
       "      <td>[378, 378, 340]</td>\n",
       "      <td>(512, 512, 461)</td>\n",
       "      <td>[263, 308, 8]</td>\n",
       "      <td>[194, 227, 8]</td>\n",
       "      <td>[263, 308, 11]</td>\n",
       "    </tr>\n",
       "    <tr>\n",
       "      <th>3</th>\n",
       "      <td>000009_20180417_chest</td>\n",
       "      <td>S</td>\n",
       "      <td>C7-2</td>\n",
       "      <td>I</td>\n",
       "      <td>lesionAnnot3D-002</td>\n",
       "      <td>872</td>\n",
       "      <td>89128088</td>\n",
       "      <td>[512, 512, 340]</td>\n",
       "      <td>[378, 378, 340]</td>\n",
       "      <td>(512, 512, 461)</td>\n",
       "      <td>[278, 290, 19]</td>\n",
       "      <td>[205, 214, 19]</td>\n",
       "      <td>[278, 290, 26]</td>\n",
       "    </tr>\n",
       "    <tr>\n",
       "      <th>4</th>\n",
       "      <td>000009_20180417_chest</td>\n",
       "      <td>S</td>\n",
       "      <td>T1-2</td>\n",
       "      <td>I</td>\n",
       "      <td>lesionAnnot3D-004</td>\n",
       "      <td>1242</td>\n",
       "      <td>89127718</td>\n",
       "      <td>[512, 512, 340]</td>\n",
       "      <td>[378, 378, 340]</td>\n",
       "      <td>(512, 512, 461)</td>\n",
       "      <td>[285, 297, 39]</td>\n",
       "      <td>[210, 219, 39]</td>\n",
       "      <td>[285, 297, 53]</td>\n",
       "    </tr>\n",
       "  </tbody>\n",
       "</table>\n",
       "</div>"
      ],
      "text/plain": [
       "                      Case Lesion Type Lesion Location I/V          File Name  \\\n",
       "0    000002_20180829_chest           M             T10   I  lesionAnnot3D-004   \n",
       "1  000005_20181202_abdomen           L              L5   V  lesionAnnot3D-001   \n",
       "2    000009_20180417_chest           S            C7-1   V  lesionAnnot3D-001   \n",
       "3    000009_20180417_chest           S            C7-2   I  lesionAnnot3D-002   \n",
       "4    000009_20180417_chest           S            T1-2   I  lesionAnnot3D-004   \n",
       "\n",
       "   Lesion Size  Background Size   Original Shape 1mm Resized Shape  \\\n",
       "0         3449        104854151  [512, 512, 400]   [377, 377, 400]   \n",
       "1        34062         37976818  [512, 512, 145]   [323, 323, 435]   \n",
       "2         2299         89126661  [512, 512, 340]   [378, 378, 340]   \n",
       "3          872         89128088  [512, 512, 340]   [378, 378, 340]   \n",
       "4         1242         89127718  [512, 512, 340]   [378, 378, 340]   \n",
       "\n",
       "   1 Resized Shape  Original Center 1mm Resized Center 1 Resized Center  \n",
       "0  (512, 512, 543)  [256, 322, 266]    [188, 237, 266]  [256, 322, 361]  \n",
       "1  (512, 512, 230)   [298, 298, 92]    [188, 188, 276]  [298, 298, 146]  \n",
       "2  (512, 512, 461)    [263, 308, 8]      [194, 227, 8]   [263, 308, 11]  \n",
       "3  (512, 512, 461)   [278, 290, 19]     [205, 214, 19]   [278, 290, 26]  \n",
       "4  (512, 512, 461)   [285, 297, 39]     [210, 219, 39]   [285, 297, 53]  "
      ]
     },
     "execution_count": 4,
     "metadata": {},
     "output_type": "execute_result"
    }
   ],
   "source": [
    "data_info.head()"
   ]
  },
  {
   "cell_type": "code",
   "execution_count": 5,
   "id": "0a5bbce2",
   "metadata": {},
   "outputs": [
    {
     "name": "stdout",
     "output_type": "stream",
     "text": [
      "\n",
      "data shape = (3176, 13), \n",
      "Unique case number = 310\n",
      "Cases per lesion type \n",
      " S : 228\n",
      " L : 170\n",
      " M : 119\n",
      "\n",
      "I/V ratio = 879 / 2297\n",
      "\n",
      "Lesion info \n",
      "count      3176.000000\n",
      "mean      13861.384446\n",
      "std       46146.344933\n",
      "min           8.000000\n",
      "25%         582.750000\n",
      "50%        2325.000000\n",
      "75%        9696.000000\n",
      "max      997965.000000\n",
      "Name: Lesion Size, dtype: float64\n",
      "\n",
      "Different case names: \n",
      "  Folder - CSV = set()\n",
      "  CSV - Folder = set()\n",
      "\n"
     ]
    }
   ],
   "source": [
    "print(\n",
    "f'''\n",
    "data shape = {data_info.shape}, \n",
    "Unique case number = {data_info.Case.unique().size}\n",
    "Cases per lesion type \n",
    " S : {data_info.loc[data_info['Lesion Type']=='S'].Case.unique().size}\n",
    " L : {data_info.loc[data_info['Lesion Type']=='L'].Case.unique().size}\n",
    " M : {data_info.loc[data_info['Lesion Type']=='M'].Case.unique().size}\n",
    "\n",
    "I/V ratio = {data_info.loc[data_info['I/V']=='I'].shape[0]} / {data_info.loc[data_info['I/V']=='V'].shape[0]}\n",
    "\n",
    "Lesion info \n",
    "{data_info['Lesion Size'].describe()}\n",
    "\n",
    "Different case names: \n",
    "  Folder - CSV = {set(os.listdir('/workspace/BoneMeta_raw/data')) - set(data_info.Case.unique())}\n",
    "  CSV - Folder = {set(data_info.Case.unique()) - set(os.listdir('/workspace/BoneMeta_raw/data'))}\n",
    "'''\n",
    ")\n"
   ]
  },
  {
   "cell_type": "code",
   "execution_count": 6,
   "id": "a04fa9f3",
   "metadata": {},
   "outputs": [],
   "source": [
    "def show_hist(data_info, ax, type=\"All\", log=False, n_bin = 30, title=''):\n",
    "    if ax is None:\n",
    "        ax = plt.gca()\n",
    "    if log:\n",
    "        if type == 'All':\n",
    "            ax.hist(data_info['Lesion Size'].apply(np.log), bins = n_bin, density=True)\n",
    "        else:\n",
    "            ax.hist(data_info.loc[data_info['Lesion Type']==type]['Lesion Size'].apply(np.log), bins = n_bin, density=True)\n",
    "    else:\n",
    "        if type == 'All':\n",
    "            ax.hist(data_info['Lesion Size'], bins = n_bin, density=True)\n",
    "        else:\n",
    "            ax.hist(data_info.loc[data_info['Lesion Type']==type]['Lesion Size'], bins = n_bin, density=True)\n",
    "    \n",
    "    ax.set_title(label = title)\n",
    "    return ax"
   ]
  },
  {
   "cell_type": "code",
   "execution_count": 7,
   "id": "21b0557b",
   "metadata": {},
   "outputs": [],
   "source": [
    "import matplotlib.pyplot as plt"
   ]
  },
  {
   "cell_type": "code",
   "execution_count": 8,
   "id": "3031c519",
   "metadata": {},
   "outputs": [
    {
     "data": {
      "text/plain": [
       "<AxesSubplot:title={'center':'log All size'}>"
      ]
     },
     "execution_count": 8,
     "metadata": {},
     "output_type": "execute_result"
    },
    {
     "data": {
      "image/png": "[encoded data removed]",
      "text/plain": [
       "<Figure size 1152x576 with 2 Axes>"
      ]
     },
     "metadata": {
      "needs_background": "light"
     },
     "output_type": "display_data"
    }
   ],
   "source": [
    "fig, axes = plt.subplots(ncols=2, figsize=(16,8), sharey= True)\n",
    "show_hist(data_info, axes[0], title='All size')\n",
    "show_hist(data_info, axes[1], title='log All size', log=True)"
   ]
  },
  {
   "cell_type": "code",
   "execution_count": 11,
   "id": "62ad38c3",
   "metadata": {},
   "outputs": [
    {
     "data": {
      "text/plain": [
       "<AxesSubplot:title={'center':'S size'}>"
      ]
     },
     "execution_count": 11,
     "metadata": {},
     "output_type": "execute_result"
    },
    {
     "data": {
      "image/png": "[encoded data removed]",
      "text/plain": [
       "<Figure size 1152x288 with 4 Axes>"
      ]
     },
     "metadata": {
      "needs_background": "light"
     },
     "output_type": "display_data"
    }
   ],
   "source": [
    "fig, axes = plt.subplots(ncols=4, nrows=1, figsize=(16,4), sharey= True, sharex=True)\n",
    "show_hist(data_info, axes[0], title='All size')\n",
    "show_hist(data_info, axes[1], type='S', title='L size')\n",
    "show_hist(data_info, axes[2], type='L', title='M size')\n",
    "show_hist(data_info, axes[3], type='M', title='S size')"
   ]
  },
  {
   "cell_type": "code",
   "execution_count": 10,
   "id": "e026771d",
   "metadata": {},
   "outputs": [
    {
     "data": {
      "text/plain": [
       "<AxesSubplot:title={'center':'log M size'}>"
      ]
     },
     "execution_count": 10,
     "metadata": {},
     "output_type": "execute_result"
    },
    {
     "data": {
      "image/png": "[encoded data removed]",
      "text/plain": [
       "<Figure size 1152x288 with 4 Axes>"
      ]
     },
     "metadata": {
      "needs_background": "light"
     },
     "output_type": "display_data"
    }
   ],
   "source": [
    "fig, axes = plt.subplots(ncols=4, nrows=1, figsize=(16,4), sharey= True,sharex= True)\n",
    "show_hist(data_info, axes[0], title='log All size', log=True)\n",
    "show_hist(data_info, axes[1], type='S', title='log S size', log=True)\n",
    "show_hist(data_info, axes[2], type='L', title='log L size', log=True)\n",
    "show_hist(data_info, axes[3], type='M', title='log M size', log=True)"
   ]
  },
  {
   "cell_type": "code",
   "execution_count": 80,
   "id": "27052a4f",
   "metadata": {
    "scrolled": true
   },
   "outputs": [
    {
     "data": {
      "text/plain": [
       "<AxesSubplot:title={'center':'log M size'}>"
      ]
     },
     "execution_count": 80,
     "metadata": {},
     "output_type": "execute_result"
    },
    {
     "data": {
      "image/png": "[encoded data removed]",
      "text/plain": [
       "<Figure size 1152x576 with 8 Axes>"
      ]
     },
     "metadata": {
      "needs_background": "light"
     },
     "output_type": "display_data"
    }
   ],
   "source": [
    "fig, axes = plt.subplots(ncols=4, nrows=2, figsize=(16,8), sharey= True)\n",
    "show_hist(data_info, axes[0, 0], title='All size')\n",
    "show_hist(data_info, axes[0, 1], type='S', title='L size')\n",
    "show_hist(data_info, axes[0, 2], type='L', title='M size')\n",
    "show_hist(data_info, axes[0, 3], type='M', title='S size')\n",
    "show_hist(data_info, axes[1, 0], title='log All size', log=True)\n",
    "show_hist(data_info, axes[1, 1], type='S', title='log S size', log=True)\n",
    "show_hist(data_info, axes[1, 2], type='L', title='log L size', log=True)\n",
    "show_hist(data_info, axes[1, 3], type='M', title='log M size', log=True)"
   ]
  },
  {
   "cell_type": "code",
   "execution_count": null,
   "id": "9d7bda62",
   "metadata": {},
   "outputs": [],
   "source": []
  }
 ],
 "metadata": {
  "kernelspec": {
   "display_name": "Python 3",
   "language": "python",
   "name": "python3"
  },
  "language_info": {
   "codemirror_mode": {
    "name": "ipython",
    "version": 3
   },
   "file_extension": ".py",
   "mimetype": "text/x-python",
   "name": "python",
   "nbconvert_exporter": "python",
   "pygments_lexer": "ipython3",
   "version": "3.6.9"
  }
 },
 "nbformat": 4,
 "nbformat_minor": 5
}
