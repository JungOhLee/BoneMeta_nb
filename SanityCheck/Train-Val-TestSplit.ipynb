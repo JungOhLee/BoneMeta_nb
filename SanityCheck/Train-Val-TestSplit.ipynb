{
 "cells": [
  {
   "cell_type": "code",
   "execution_count": 4,
   "id": "93fb5444",
   "metadata": {},
   "outputs": [],
   "source": [
    "import pandas as pd\n",
    "import numpy as np\n",
    "import os"
   ]
  },
  {
   "cell_type": "markdown",
   "id": "024ce1e6",
   "metadata": {},
   "source": [
    "- 이상한 프로토콜 없애고, 얇은 애들만 남기고\n",
    "- 너무 작은 녀석들은 없애고 (max diameter < 2mm  = area < 8mm^3)\n",
    "- 너무 큰 녀석들은 testset 에서는 제외 \n",
    "- 나눠진 분포 상에서 S, L은 크기와 병변 개수가 고루 분포하도록 되었는지 "
   ]
  },
  {
   "cell_type": "code",
   "execution_count": 5,
   "id": "c102b07b",
   "metadata": {},
   "outputs": [],
   "source": [
    "base_dir = '/workspace/BoneMeta'\n",
    "img_dir = os.path.join(base_dir, 'images')\n",
    "label_dir = os.path.join(base_dir, 'labels')\n",
    "\n",
    "data_info_path = '/workspace/BoneMeta_raw/data_info.csv'"
   ]
  },
  {
   "cell_type": "code",
   "execution_count": 6,
   "id": "134c21ec",
   "metadata": {},
   "outputs": [
    {
     "name": "stdout",
     "output_type": "stream",
     "text": [
      "0 0\n"
     ]
    }
   ],
   "source": [
    "img_files = os.listdir(img_dir)\n",
    "label_files = os.listdir(label_dir)\n",
    "print(len(set(img_files)-set(label_files)), \n",
    "len(set(label_files)-set(img_files)))"
   ]
  },
  {
   "cell_type": "code",
   "execution_count": 8,
   "id": "b52d586a",
   "metadata": {},
   "outputs": [
    {
     "name": "stdout",
     "output_type": "stream",
     "text": [
      "\n",
      "data info shape = (3176, 13), \n",
      "Unique case number = 310\n",
      "Cases per lesion type \n",
      " S : 228\n",
      " L : 170\n",
      " M : 119\n",
      " \n",
      "Different case names: \n",
      "  Folder - CSV = set()\n",
      "  CSV - Folder = set()\n",
      "\n"
     ]
    }
   ],
   "source": [
    "data_info = pd.read_csv(data_info_path)\n",
    "print(\n",
    "f'''\n",
    "data info shape = {data_info.shape}, \n",
    "Unique case number = {data_info.Case.unique().size}\n",
    "Cases per lesion type \n",
    " S : {data_info.loc[data_info['Lesion Type']=='S'].Case.unique().size}\n",
    " L : {data_info.loc[data_info['Lesion Type']=='L'].Case.unique().size}\n",
    " M : {data_info.loc[data_info['Lesion Type']=='M'].Case.unique().size}\n",
    " \n",
    "Different case names: \n",
    "  Folder - CSV = {set(os.listdir('/workspace/BoneMeta_raw/data')) - set(data_info.Case.unique())}\n",
    "  CSV - Folder = {set(data_info.Case.unique()) - set(os.listdir('/workspace/BoneMeta_raw/data'))}\n",
    "'''\n",
    ")\n"
   ]
  },
  {
   "cell_type": "markdown",
   "id": "506f14ca",
   "metadata": {},
   "source": [
    "### 제외할 케이스들 "
   ]
  },
  {
   "cell_type": "code",
   "execution_count": 9,
   "id": "75aff6ae",
   "metadata": {},
   "outputs": [
    {
     "data": {
      "text/plain": [
       "array(['SN056_20170601_Thorax^01_Lung_Cancer_3D (Adult).npy',\n",
       "       '000391_20200216_Thoracic Aorta CT Angio+3D (contrast).npy',\n",
       "       'SN032_20190401_T spine CT pre contr.npy',\n",
       "       '000400_20200201_CT Biliary (contrast).npy',\n",
       "       '000079_20180911_Pulmonary artery CT Angio+3D (contrast).npy',\n",
       "       'BH027_20191001_L-spine CT (3D).npy',\n",
       "       '000401_20200201_T-Spine+3D CT (noncontrast).npy',\n",
       "       '000301_20190801_Pulmonary artery CT Angio+3D (contrast).npy',\n",
       "       'SN040_20170201_CT Neck (contrast).npy',\n",
       "       'BH041_20190201_C-T-L Spine (3D).npy',\n",
       "       'BH042_20180801_C-T-L Spine (3D).npy',\n",
       "       'BH040_20200101_CT Angio + 3D Pulmonary artery (Embolism) (2).npy',\n",
       "       '000316_20190715_Spine^L_SPINE (Adult).npy',\n",
       "       'BH030_20160101_T-L spine (3D).npy',\n",
       "       'BH011_20190301_Spine^00_C_Spine_Pre_OP (Adult).npy',\n",
       "       'BH038_20160901_CT angio + 3D C-spine(vertebral artery, C1-2).npy',\n",
       "       'BH031_20160301_CT Angio + 3D Pulmonary artery (Embolism).npy',\n",
       "       'BH040_20200101_CT Angio + 3D Pulmonary artery (Embolism).npy'],\n",
       "      dtype=object)"
      ]
     },
     "execution_count": 9,
     "metadata": {},
     "output_type": "execute_result"
    }
   ],
   "source": [
    "img_file_series = pd.Series(img_files)\n",
    "abd_chest_idx = img_file_series.str.contains('chest|abd|kidney|liver', case=False)\n",
    "img_file_series.loc[~abd_chest_idx].values"
   ]
  },
  {
   "cell_type": "code",
   "execution_count": null,
   "id": "cdf33813",
   "metadata": {},
   "outputs": [],
   "source": []
  },
  {
   "cell_type": "code",
   "execution_count": null,
   "id": "526c5178",
   "metadata": {},
   "outputs": [],
   "source": [
    "img_file_series = pd.Series(img_files)\n",
    "abd_chest_idx = img_file_series.str.contains('chest|abd|kidney|liver', case=False)"
   ]
  },
  {
   "cell_type": "code",
   "execution_count": null,
   "id": "23ec41bd",
   "metadata": {},
   "outputs": [],
   "source": [
    "img_file_series = pd.Series(img_files)\n",
    "dup_idx = img_file_series.str.startswith(tuple(dup_cases))\n",
    "dup_files = img_file_series.loc[dup_idx].values\n",
    "dup_files.sort()"
   ]
  },
  {
   "cell_type": "code",
   "execution_count": null,
   "id": "5085e0bc",
   "metadata": {},
   "outputs": [],
   "source": [
    "img_file_series = pd.Series(img_files)\n",
    "abd_chest_idx = img_file_series.str.contains('chest|abd|kidney|liver', case=False)\n",
    "img_file_series.loc[~abd_chest_idx].values"
   ]
  },
  {
   "cell_type": "code",
   "execution_count": null,
   "id": "d226dcaa",
   "metadata": {},
   "outputs": [],
   "source": []
  }
 ],
 "metadata": {
  "kernelspec": {
   "display_name": "Python 3",
   "language": "python",
   "name": "python3"
  },
  "language_info": {
   "codemirror_mode": {
    "name": "ipython",
    "version": 3
   },
   "file_extension": ".py",
   "mimetype": "text/x-python",
   "name": "python",
   "nbconvert_exporter": "python",
   "pygments_lexer": "ipython3",
   "version": "3.6.9"
  }
 },
 "nbformat": 4,
 "nbformat_minor": 5
}
