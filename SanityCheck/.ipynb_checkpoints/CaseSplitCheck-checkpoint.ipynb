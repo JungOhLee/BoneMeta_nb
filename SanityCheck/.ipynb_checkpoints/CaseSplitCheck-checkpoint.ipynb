{
 "cells": [
  {
   "cell_type": "code",
   "execution_count": 1,
   "id": "b8491f6a",
   "metadata": {},
   "outputs": [],
   "source": [
    "import pandas as pd\n",
    "import numpy as np\n",
    "import os"
   ]
  },
  {
   "cell_type": "code",
   "execution_count": 4,
   "id": "c1b00ee9",
   "metadata": {},
   "outputs": [],
   "source": [
    "base_dir = '/workspace/BoneMeta'\n",
    "img_dir = os.path.join(base_dir, 'images')\n",
    "label_dir = os.path.join(base_dir, 'labels')\n",
    "\n",
    "data_info_path = '/workspace/BoneMeta_raw/data_info.csv'"
   ]
  },
  {
   "cell_type": "markdown",
   "id": "8abcaae3",
   "metadata": {},
   "source": [
    "#### DataInfo.csv와 가지고 있는 파일들의 개수가 일치하는지 확인 "
   ]
  },
  {
   "cell_type": "code",
   "execution_count": 6,
   "id": "5939bc02",
   "metadata": {},
   "outputs": [
    {
     "name": "stdout",
     "output_type": "stream",
     "text": [
      "\n",
      "data info shape = (3175, 13), \n",
      "Unique case number = 309\n",
      "Cases per lesion type \n",
      " S : 228\n",
      " L : 169\n",
      " M : 119\n",
      " \n",
      "Different case names: \n",
      "  Folder - CSV = {'SN040_20170201_CT Neck (contrast)'}\n",
      "  CSV - Folder = set()\n",
      "\n"
     ]
    }
   ],
   "source": [
    "data_info = pd.read_csv(data_info_path)\n",
    "print(\n",
    "f'''\n",
    "data info shape = {data_info.shape}, \n",
    "Unique case number = {data_info.Case.unique().size}\n",
    "Cases per lesion type \n",
    " S : {data_info.loc[data_info['Lesion Type']=='S'].Case.unique().size}\n",
    " L : {data_info.loc[data_info['Lesion Type']=='L'].Case.unique().size}\n",
    " M : {data_info.loc[data_info['Lesion Type']=='M'].Case.unique().size}\n",
    " \n",
    "Different case names: \n",
    "  Folder - CSV = {set(os.listdir('/workspace/BoneMeta_raw/data')) - set(data_info.Case.unique())}\n",
    "  CSV - Folder = {set(data_info.Case.unique()) - set(os.listdir('/workspace/BoneMeta_raw/data'))}\n",
    "'''\n",
    ")\n"
   ]
  },
  {
   "cell_type": "code",
   "execution_count": 7,
   "id": "ecde6c7c",
   "metadata": {},
   "outputs": [
    {
     "name": "stdout",
     "output_type": "stream",
     "text": [
      "0 0\n"
     ]
    }
   ],
   "source": [
    "img_files = os.listdir(img_dir)\n",
    "label_files = os.listdir(label_dir)\n",
    "print(len(set(img_files)-set(label_files)), \n",
    "len(set(label_files)-set(img_files)))"
   ]
  },
  {
   "cell_type": "code",
   "execution_count": 11,
   "id": "34a30150",
   "metadata": {},
   "outputs": [
    {
     "name": "stdout",
     "output_type": "stream",
     "text": [
      "\n",
      "Folder cases\n",
      " S: 228\n",
      " L: 170\n",
      " M: 119\n",
      "\n"
     ]
    }
   ],
   "source": [
    "print(f'''\n",
    "Folder cases\n",
    " S: {len(os.listdir(base_dir+'/S'))}\n",
    " L: {len(os.listdir(base_dir+'/L'))}\n",
    " M: {len(os.listdir(base_dir+'/M'))}\n",
    "''')"
   ]
  },
  {
   "cell_type": "markdown",
   "id": "ca5995bd",
   "metadata": {},
   "source": [
    "=> Lytic 병변가진 케이스가 data_info에서 하나 적음. \n",
    "SN040번 케이스임\n"
   ]
  },
  {
   "cell_type": "markdown",
   "id": "79e3e446",
   "metadata": {},
   "source": [
    "#### 한 케이스가 여러번 쓰인 경우는 몇개인지 확인"
   ]
  },
  {
   "cell_type": "code",
   "execution_count": 18,
   "id": "f950ef7d",
   "metadata": {},
   "outputs": [
    {
     "data": {
      "text/plain": [
       "['000383_20200121_chest.npy',\n",
       " 'SN012_20150801_abdomen.npy',\n",
       " '000021_20181227_chest.npy',\n",
       " '000002_20180829_chest.npy',\n",
       " '000296_20190726_chest.npy']"
      ]
     },
     "execution_count": 18,
     "metadata": {},
     "output_type": "execute_result"
    }
   ],
   "source": [
    "img_files[:5]"
   ]
  },
  {
   "cell_type": "code",
   "execution_count": 26,
   "id": "1d4d9fa5",
   "metadata": {},
   "outputs": [
    {
     "name": "stdout",
     "output_type": "stream",
     "text": [
      "310\n"
     ]
    },
    {
     "data": {
      "text/plain": [
       "['000383', 'SN012', '000021', '000002', '000296']"
      ]
     },
     "execution_count": 26,
     "metadata": {},
     "output_type": "execute_result"
    }
   ],
   "source": [
    "personal_ids = [file_name.split('_')[0] for file_name in img_files]\n",
    "print(personal_ids.__len__())\n",
    "personal_ids[:5]"
   ]
  },
  {
   "cell_type": "code",
   "execution_count": 27,
   "id": "375fec40",
   "metadata": {},
   "outputs": [
    {
     "data": {
      "text/plain": [
       "201"
      ]
     },
     "execution_count": 27,
     "metadata": {},
     "output_type": "execute_result"
    }
   ],
   "source": [
    "set(personal_ids).__len__()"
   ]
  },
  {
   "cell_type": "code",
   "execution_count": 31,
   "id": "6e9fe630",
   "metadata": {},
   "outputs": [],
   "source": [
    "unique_ids = list(set(personal_ids))\n",
    "unique_ids.sort()"
   ]
  },
  {
   "cell_type": "code",
   "execution_count": 32,
   "id": "23834990",
   "metadata": {},
   "outputs": [],
   "source": [
    "duplicated_bool = [personal_ids.count(id)>1 for id in unique_ids]"
   ]
  },
  {
   "cell_type": "code",
   "execution_count": 34,
   "id": "6277557a",
   "metadata": {},
   "outputs": [],
   "source": [
    "from itertools import compress\n",
    "\n",
    "dup_cases = list(compress(unique_ids, duplicated_bool))"
   ]
  },
  {
   "cell_type": "code",
   "execution_count": 36,
   "id": "5e071d97",
   "metadata": {},
   "outputs": [
    {
     "data": {
      "text/plain": [
       "['000012', '000019', '000025', '000232', '000234']"
      ]
     },
     "execution_count": 36,
     "metadata": {},
     "output_type": "execute_result"
    }
   ],
   "source": [
    "dup_cases[:5]"
   ]
  },
  {
   "cell_type": "code",
   "execution_count": 44,
   "id": "c9c09b30",
   "metadata": {},
   "outputs": [],
   "source": [
    "img_file_series = pd.Series(img_files)\n",
    "dup_idx = img_file_series.str.startswith(tuple(dup_cases))\n",
    "dup_files = img_file_series.loc[dup_idx].values\n",
    "dup_files.sort()"
   ]
  },
  {
   "cell_type": "code",
   "execution_count": 45,
   "id": "cdf2a01d",
   "metadata": {
    "scrolled": false
   },
   "outputs": [
    {
     "name": "stdout",
     "output_type": "stream",
     "text": [
      "\n",
      "Duplicated cases number: 209\n",
      "\n",
      "case names = ['000012_20181212_abdomen', '000012_20181214_chest', '000019_20181018_chest', '000019_20190601_abdomen', '000019_20190613_chest', '000025_20180808_abdomen', '000025_20180808_chest', '000232_20190401_abdomen', '000232_20190423_chest', '000234_20190401_abdomen', '000234_20190419_chest', '000251_20190429_abdomen', '000251_20190429_chest', '000251_20190701_abdomen', '000251_20190703_chest', '000260_20190501_CT Liver (contrast)', '000260_20190522_chest', '000262_20190318_chest', '000262_20190319_abdomen', '000262_20190501_abdomen', '000262_20190529_chest', '000269_20181016_abdomen', '000269_20181214_abdomen', '000269_20190325_abdomen', '000269_20190601_abdomen', '000269_20190604_chest', '000270_20190601_abdomen', '000270_20190608_chest', '000272_20190601_abdomen', '000272_20190614_chest', '000279_20190601_abdomen', '000279_20190614_chest', '000282_20190410_abdomen', '000282_20190701_abdomen', '000285_20190801_abdomen', '000285_20190807_chest', '000286_20190701_abdomen', '000286_20190710_chest', '000291_20190701_abdomen', '000291_20190718_chest', '000301_20190801_Pulmonary artery CT Angio+3D (contrast)', '000301_20190801_abdomen', '000301_20190827_chest', '000304_20190124_CT Liver (contrast)', '000304_20190124_chest', '000308_20190801_abdomen', '000308_20190826_chest', '000309_20190801_abdomen', '000309_20190823_chest', '000310_20190801_abdomen', '000310_20190812_chest', '000314_20190827_chest', '000314_20190901_abdomen', '000316_20190627_chest', '000316_20190715_Spine^L_SPINE (Adult)', '000322_20190901_abdomen', '000322_20190913_chest', '000331_20190901_abdomen', '000331_20190916_chest', '000332_20191001_abdomen', '000332_20191025_chest', '000350_20190927_chest', '000350_20191001_abdomen', '000352_20191001_abdomen', '000352_20191017_chest', '000354_20191001_abdomen', '000354_20191022_chest', '000355_20190901_abdomen', '000355_20191023_chest', '000356_20190901_abdomen', '000356_20191024_chest', '000362_20191201_abdomen', '000362_20191214_chest', '000363_20191201_abdomen', '000363_20191222_chest', '000364_20191201_abdomen', '000364_20191217_chest', '000372_20200101_abdomen', '000372_20200107_chest', '000376_20200101_abdomen', '000376_20200114_chest', '000382_20200101_abdomen', '000382_20200129_chest', '000396_20200201_abdomen', '000396_20200218_chest', '000400_20200201_CT Biliary (contrast)', '000400_20200210_chest', '000404_20200201_abdomen', '000404_20200305_chest', '000450_20200501_abdomen', '000450_20200512_chest', 'BH001_20190401_chest', 'BH001_20190501_abdomen', 'BH005_20170701_abdomen', 'BH005_20170701_chest', 'BH007_20190801_abdomen', 'BH007_20190801_chest', 'BH008_20190701_abdomen', 'BH008_20190701_chest', 'BH009_20180301_abdomen', 'BH009_20180301_chest', 'BH010_20161101_abdomen', 'BH010_20161101_chest', 'BH012_20180401_abdomen', 'BH012_20180401_chest', 'BH014_20181201_abdomen', 'BH014_20181201_chest', 'BH015_20190101_abdomen', 'BH015_20190101_chest', 'BH016_20151001_abdomen', 'BH016_20151001_chest', 'BH017_20191201_abdomen', 'BH017_20191201_chest', 'BH018_20190801_abdomen', 'BH018_20190801_chest', 'BH020_20191201_abdomen', 'BH020_20191201_chest', 'BH021_20181001_abdomen', 'BH021_20181001_chest', 'BH023_20191101_abdomen', 'BH023_20191101_chest', 'BH024_20190501_abdomen', 'BH024_20190501_chest', 'BH027_20191001_L-spine CT (3D)', 'BH027_20191001_chest', 'BH032_20180701_abdomen', 'BH032_20180701_chest', 'BH034_20190901_abdomen', 'BH034_20190901_chest', 'BH037_20171101_abdomen', 'BH037_20171101_chest', 'BH040_20200101_CT Angio + 3D Pulmonary artery (Embolism) (2)', 'BH040_20200101_CT Angio + 3D Pulmonary artery (Embolism)', 'BH043_20191001_abdomen', 'BH043_20191001_chest', 'BH045_20181001_abdomen', 'BH045_20181001_chest', 'BH047_20180901_abdomen', 'BH047_20180901_chest', 'BH052_20190901_abdomen', 'BH052_20190901_chest', 'BH057_20191227_abdomen', 'BH057_20191227_chest', 'BH059_20201013_abdomen', 'BH059_20201019_chest', 'BH061_20190315_abdomen', 'BH061_20190315_chest', 'BH064_20200605_abdomen', 'BH064_20200605_chest', 'BH072_20200219_abdomen', 'BH072_20200219_chest', 'BH091_20200104_GU Kidney & bladder CT (3D)', 'BH091_20200104_chest', 'BH099_20200806_abdomen', 'BH099_20200806_chest', 'SN002_20190801_abdomen', 'SN002_20190801_chest', 'SN004_20190801_abdomen', 'SN004_20190901_chest', 'SN005_20191001_abdomen', 'SN005_20191101_chest', 'SN007_20190701_chest', 'SN007_20190801_abdomen', 'SN009_20190801_abdomen', 'SN009_20190801_chest', 'SN011_20180401_abdomen', 'SN011_20180401_chest', 'SN013_20190401_abdomen', 'SN013_20190401_chest', 'SN014_20190901_abdomen', 'SN014_20190901_chest', 'SN015_20190901_abdomen', 'SN015_20190901_chest', 'SN016_20190901_abdomen', 'SN016_20190901_chest', 'SN017_20190701_chest', 'SN017_20190801_abdomen', 'SN018_20190801_abdomen', 'SN018_20190801_chest', 'SN019_20190801_abdomen', 'SN019_20190801_chest', 'SN020_20190801_abdomen', 'SN020_20190801_chest', 'SN025_20200401_abdomen', 'SN025_20200401_chest', 'SN028_20160801_abdomen', 'SN028_20160801_chest', 'SN029_20200301_abdomen', 'SN029_20200301_chest', 'SN031_20160501_abdomen', 'SN031_20160501_chest', 'SN032_20190401_T spine CT pre contr', 'SN032_20190501_abdomen', 'SN034_20200101_abdomen', 'SN034_20200101_chest', 'SN039_20181001_abdomen', 'SN039_20181001_chest', 'SN040_20170201_CT Neck (contrast)', 'SN040_20170201_abdomen', 'SN042_20170901_abdomen', 'SN042_20170901_chest', 'SN045_20170201_abdomen', 'SN045_20170201_chest', 'SN049_20170901_abdomen', 'SN049_20170901_chest', 'SN051_20170401_abdomen', 'SN051_20170401_chest', 'SN055_20170301_abdomen', 'SN055_20170301_chest']\n",
      "\n",
      "\n"
     ]
    }
   ],
   "source": [
    "print(f'''\n",
    "Duplicated cases number: {len(dup_files)}\n",
    "\n",
    "case names = {[file_name.split('.')[0] for file_name in dup_files]}\n",
    "\n",
    "''')"
   ]
  },
  {
   "cell_type": "markdown",
   "id": "2e52e823",
   "metadata": {},
   "source": [
    "==> 2/3 에 해당하는 209케이스가 중복으로 있는 케이스들임.\n",
    "\n",
    "서로 안겹치게 분류해야함 "
   ]
  },
  {
   "cell_type": "markdown",
   "id": "8cf647b7",
   "metadata": {},
   "source": [
    "#### 특이한 protocol들 확인 "
   ]
  },
  {
   "cell_type": "code",
   "execution_count": 51,
   "id": "e24817bc",
   "metadata": {},
   "outputs": [],
   "source": [
    "img_file_series = pd.Series(img_files)\n",
    "abd_chest_idx = img_file_series.str.contains('chest|abd', case=False)"
   ]
  },
  {
   "cell_type": "code",
   "execution_count": 54,
   "id": "9af7b9c5",
   "metadata": {
    "scrolled": false
   },
   "outputs": [
    {
     "data": {
      "text/plain": [
       "array(['SN056_20170601_Thorax^01_Lung_Cancer_3D (Adult).npy',\n",
       "       '000391_20200216_Thoracic Aorta CT Angio+3D (contrast).npy',\n",
       "       'BH051_20190301_GU Kidney & bladder CT (3D).npy',\n",
       "       'SN032_20190401_T spine CT pre contr.npy',\n",
       "       '000400_20200201_CT Biliary (contrast).npy',\n",
       "       'SN044_20160601_CT Liver+Pelvis(contrast).npy',\n",
       "       '000079_20180911_Pulmonary artery CT Angio+3D (contrast).npy',\n",
       "       'BH027_20191001_L-spine CT (3D).npy',\n",
       "       '000401_20200201_T-Spine+3D CT (noncontrast).npy',\n",
       "       '000301_20190801_Pulmonary artery CT Angio+3D (contrast).npy',\n",
       "       'SN040_20170201_CT Neck (contrast).npy',\n",
       "       'BH041_20190201_C-T-L Spine (3D).npy',\n",
       "       'BH035_20191101_GU Kidney & bladder CT (3D).npy',\n",
       "       'BH042_20180801_C-T-L Spine (3D).npy',\n",
       "       '000348_20191201_CT Liver (contrast).npy',\n",
       "       'BH040_20200101_CT Angio + 3D Pulmonary artery (Embolism) (2).npy',\n",
       "       '000304_20190124_CT Liver (contrast).npy',\n",
       "       '000316_20190715_Spine^L_SPINE (Adult).npy',\n",
       "       'BH030_20160101_T-L spine (3D).npy',\n",
       "       'BH011_20190301_Spine^00_C_Spine_Pre_OP (Adult).npy',\n",
       "       'BH091_20200104_GU Kidney & bladder CT (3D).npy',\n",
       "       '000317_20190720_CT Liver (contrast).npy',\n",
       "       'BH038_20160901_CT angio + 3D C-spine(vertebral artery, C1-2).npy',\n",
       "       '000280_20190625_CT Liver (contrast).npy',\n",
       "       '000260_20190501_CT Liver (contrast).npy',\n",
       "       'SN010_20190801_CT Liver+Pelvis(contrast).npy',\n",
       "       'BH031_20160301_CT Angio + 3D Pulmonary artery (Embolism).npy',\n",
       "       'BH040_20200101_CT Angio + 3D Pulmonary artery (Embolism).npy',\n",
       "       'BH036_20180301_GU Kidney & bladder CT (3D).npy'], dtype=object)"
      ]
     },
     "execution_count": 54,
     "metadata": {},
     "output_type": "execute_result"
    }
   ],
   "source": [
    "img_file_series.loc[~abd_chest_idx].values"
   ]
  },
  {
   "cell_type": "markdown",
   "id": "9b0e7e55",
   "metadata": {},
   "source": [
    "\"\"\"\n",
    "'SN032_20190401_T spine CT pre contr.npy',\n",
    "'BH027_20191001_L-spine CT (3D).npy',\n",
    "'000401_20200201_T-Spine+3D CT (noncontrast).npy',\n",
    "'SN040_20170201_CT Neck (contrast).npy',\n",
    "'BH041_20190201_C-T-L Spine (3D).npy',\n",
    "'BH042_20180801_C-T-L Spine (3D).npy',\n",
    "'000316_20190715_Spine^L_SPINE (Adult).npy',\n",
    "'BH030_20160101_T-L spine (3D).npy',\n",
    "'BH011_20190301_Spine^00_C_Spine_Pre_OP (Adult).npy',\n",
    "\"\"\"\n",
    "\n",
    "이 CT 들은 빼던지 special case로 추론해보던지 해야겠음. "
   ]
  },
  {
   "cell_type": "markdown",
   "id": "eb27f93b",
   "metadata": {},
   "source": [
    "#### 현재 나눠진 케이스들이 문제 없는지 보자. "
   ]
  },
  {
   "cell_type": "code",
   "execution_count": 56,
   "id": "5a04c225",
   "metadata": {},
   "outputs": [],
   "source": [
    "train_cases = '''\n",
    "000019_20181018_chest\n",
    "000019_20190601_abdomen\n",
    "000019_20190613_chest\n",
    "000021_20181227_chest\n",
    "000022_20180830_chest\n",
    "000025_20180808_abdomen\n",
    "000025_20180808_chest\n",
    "000080_20180911_chest\n",
    "000085_20180829_chest\n",
    "000091_20180504_chest\n",
    "000162_20180131_chest\n",
    "000193_20190114_chest\n",
    "000214_20190325_chest\n",
    "000223_20190319_chest\n",
    "000224_20190228_chest\n",
    "000234_20190401_abdomen\n",
    "000234_20190419_chest\n",
    "000236_20190401_abdomen\n",
    "000242_20190409_chest\n",
    "000244_20190501_abdomen\n",
    "000246_20190629_chest\n",
    "000251_20190429_abdomen\n",
    "000251_20190429_chest\n",
    "000251_20190701_abdomen\n",
    "000251_20190703_chest\n",
    "000255_20190418_chest\n",
    "000262_20190318_chest\n",
    "000262_20190319_abdomen\n",
    "000262_20190501_abdomen\n",
    "000262_20190529_chest\n",
    "000269_20181016_abdomen\n",
    "000269_20181214_abdomen\n",
    "000269_20190325_abdomen\n",
    "000269_20190601_abdomen\n",
    "000269_20190604_chest\n",
    "000270_20190601_abdomen\n",
    "000270_20190608_chest\n",
    "000276_20190604_chest\n",
    "000279_20190601_abdomen\n",
    "000279_20190614_chest\n",
    "000280_20190625_CT Liver (contrast)\n",
    "000281_20190701_chest\n",
    "000282_20190410_abdomen\n",
    "000282_20190701_abdomen\n",
    "000286_20190701_abdomen\n",
    "000286_20190710_chest\n",
    "000288_20190701_abdomen\n",
    "000291_20190701_abdomen\n",
    "000291_20190718_chest\n",
    "000296_20190726_chest\n",
    "000301_20190801_abdomen\n",
    "000301_20190801_Pulmonary artery CT Angio+3D (contrast)\n",
    "000301_20190827_chest\n",
    "000302_20190726_chest\n",
    "000304_20190124_chest\n",
    "000304_20190124_CT Liver (contrast)\n",
    "000308_20190801_abdomen\n",
    "000308_20190826_chest\n",
    "000309_20190801_abdomen\n",
    "000309_20190823_chest\n",
    "000311_20190902_chest\n",
    "000314_20190827_chest\n",
    "000314_20190901_abdomen\n",
    "000315_20190820_chest\n",
    "000315_20190901_abdomen\n",
    "000322_20190901_abdomen\n",
    "000322_20190913_chest\n",
    "000324_20190910_chest\n",
    "000325_20190919_chest\n",
    "000330_20190926_chest\n",
    "000331_20190901_abdomen\n",
    "000331_20190916_chest\n",
    "000332_20191001_abdomen\n",
    "000332_20191025_chest\n",
    "000344_20191125_chest\n",
    "000352_20191001_abdomen\n",
    "000352_20191017_chest\n",
    "000354_20191001_abdomen\n",
    "000354_20191022_chest\n",
    "000355_20190901_abdomen\n",
    "000355_20191023_chest\n",
    "000356_20190901_abdomen\n",
    "000356_20191024_chest\n",
    "000362_20191201_abdomen\n",
    "000362_20191214_chest\n",
    "000363_20191201_abdomen\n",
    "000363_20191222_chest\n",
    "000364_20191201_abdomen\n",
    "000364_20191217_chest\n",
    "000368_20200101_abdomen\n",
    "000372_20200101_abdomen\n",
    "000372_20200107_chest\n",
    "000376_20200101_abdomen\n",
    "000376_20200114_chest\n",
    "000382_20200101_abdomen\n",
    "000382_20200129_chest\n",
    "000386_20200204_chest\n",
    "000396_20200201_abdomen\n",
    "000396_20200218_chest\n",
    "000404_20200201_abdomen\n",
    "000404_20200305_chest\n",
    "BH004_20191101_chest\n",
    "BH008_20190701_abdomen\n",
    "BH008_20190701_chest\n",
    "BH009_20180301_abdomen\n",
    "BH009_20180301_chest\n",
    "BH010_20161101_abdomen\n",
    "BH010_20161101_chest\n",
    "BH011_20190301_Spine^00_C_Spine_Pre_OP (Adult)\n",
    "BH012_20180401_abdomen\n",
    "BH012_20180401_chest\n",
    "BH013_20191001_chest\n",
    "BH014_20181201_abdomen\n",
    "BH014_20181201_chest\n",
    "BH015_20190101_abdomen\n",
    "BH015_20190101_chest\n",
    "BH016_20151001_abdomen\n",
    "BH016_20151001_chest\n",
    "BH017_20191201_abdomen\n",
    "BH017_20191201_chest\n",
    "BH018_20190801_abdomen\n",
    "BH018_20190801_chest\n",
    "BH019_20191101_chest\n",
    "BH020_20191201_abdomen\n",
    "BH020_20191201_chest\n",
    "BH021_20181001_abdomen\n",
    "BH021_20181001_chest\n",
    "BH022_20190101_chest\n",
    "BH023_20191101_abdomen\n",
    "BH023_20191101_chest\n",
    "BH024_20190501_abdomen\n",
    "BH024_20190501_chest\n",
    "BH025_20191101_abdomen\n",
    "BH026_20190601_abdomen\n",
    "BH028_20190801_chest\n",
    "BH029_20200101_chest\n",
    "BH030_20160101_T-L spine (3D)\n",
    "BH031_20160301_CT Angio + 3D Pulmonary artery (Embolism)\n",
    "BH032_20180701_abdomen\n",
    "BH032_20180701_chest\n",
    "BH034_20190901_abdomen\n",
    "BH034_20190901_chest\n",
    "BH035_20191101_GU Kidney & bladder CT (3D)\n",
    "BH036_20180301_GU Kidney & bladder CT (3D)\n",
    "BH037_20171101_abdomen\n",
    "BH037_20171101_chest\n",
    "BH038_20160901_CT angio + 3D C-spine(vertebral artery, C1-2)\n",
    "BH042_20180801_C-T-L Spine (3D)\n",
    "BH043_20191001_abdomen\n",
    "BH043_20191001_chest\n",
    "BH045_20181001_abdomen\n",
    "BH045_20181001_chest\n",
    "BH047_20180901_abdomen\n",
    "BH048_20190501_chest\n",
    "BH051_20190301_GU Kidney & bladder CT (3D)\n",
    "BH052_20190901_abdomen\n",
    "BH052_20190901_chest\n",
    "BH054_20191122_abdomen\n",
    "BH055_20200328_chest\n",
    "BH056_20200721_chest\n",
    "BH057_20191227_abdomen\n",
    "BH057_20191227_chest\n",
    "BH058_20180918_chest\n",
    "BH059_20201013_abdomen\n",
    "BH059_20201019_chest\n",
    "BH064_20200605_abdomen\n",
    "BH064_20200605_chest\n",
    "BH066_20190525_chest\n",
    "BH067_20191017_chest\n",
    "BH069_20200505_chest\n",
    "BH081_20190322_abdomen\n",
    "BH112_20190201_chest\n",
    "SN001_20190901_abdomen\n",
    "SN002_20190801_abdomen\n",
    "SN002_20190801_chest\n",
    "SN005_20191001_abdomen\n",
    "SN005_20191101_chest\n",
    "SN007_20190701_chest\n",
    "SN007_20190801_abdomen\n",
    "SN008_20190901_chest\n",
    "SN009_20190801_abdomen\n",
    "SN009_20190801_chest\n",
    "SN010_20190801_CT Liver+Pelvis(contrast)\n",
    "SN011_20180401_abdomen\n",
    "SN011_20180401_chest\n",
    "SN012_20150801_abdomen\n",
    "SN013_20190401_abdomen\n",
    "SN013_20190401_chest\n",
    "SN014_20190901_abdomen\n",
    "SN014_20190901_chest\n",
    "SN015_20190901_abdomen\n",
    "SN015_20190901_chest\n",
    "SN016_20190901_abdomen\n",
    "SN016_20190901_chest\n",
    "SN018_20190801_abdomen\n",
    "SN018_20190801_chest\n",
    "SN020_20190801_abdomen\n",
    "SN020_20190801_chest\n",
    "SN025_20200401_abdomen\n",
    "SN025_20200401_chest\n",
    "SN028_20160801_abdomen\n",
    "SN028_20160801_chest\n",
    "SN032_20190401_T spine CT pre contr\n",
    "SN032_20190501_abdomen\n",
    "SN036_20190601_chest\n",
    "SN039_20181001_abdomen\n",
    "SN039_20181001_chest\n",
    "SN040_20170201_abdomen\n",
    "SN040_20170201_CT Neck (contrast)\n",
    "SN042_20170901_abdomen\n",
    "SN042_20170901_chest\n",
    "SN043_20170701_chest\n",
    "SN044_20160601_CT Liver+Pelvis(contrast)\n",
    "SN045_20170201_abdomen\n",
    "SN045_20170201_chest\n",
    "SN051_20170401_abdomen\n",
    "SN051_20170401_chest\n",
    "SN054_20170201_chest\n",
    "SN055_20170301_abdomen\n",
    "SN055_20170301_chest'''.split('\\n')\n",
    "\n",
    "valid_cases = '''\n",
    "000316_20190627_chest\n",
    "000316_20190715_Spine^L_SPINE (Adult)\n",
    "SN034_20200101_abdomen\n",
    "SN034_20200101_chest\n",
    "SN059_20170501_chest\n",
    "BH027_20191001_L-spine CT (3D)\n",
    "000397_20200214_chest\n",
    "BH027_20191001_chest\n",
    "BH039_20190601_chest\n",
    "BH041_20190201_C-T-L Spine (3D)\n",
    "BH060_20200413_chest\n",
    "BH062_20201104_chest\n",
    "SN035_20180101_chest\n",
    "SN048_20170801_chest\n",
    "000232_20190401_abdomen\n",
    "000232_20190423_chest\n",
    "000285_20190801_abdomen\n",
    "000285_20190807_chest\n",
    "000348_20191201_CT Liver (contrast)\n",
    "000401_20200201_T-Spine+3D CT (noncontrast)\n",
    "BH006_20170801_chest\n",
    "BH040_20200101_CT Angio + 3D Pulmonary artery (Embolism)\n",
    "BH040_20200101_CT Angio + 3D Pulmonary artery (Embolism) (2)\n",
    "BH065_20201013_chest\n",
    "BH099_20200806_abdomen\n",
    "BH099_20200806_chest\n",
    "BH110_20200616_chest\n",
    "SN004_20190801_abdomen\n",
    "SN004_20190901_chest\n",
    "SN017_20190701_chest\n",
    "SN017_20190801_abdomen\n",
    "SN029_20200301_abdomen\n",
    "SN029_20200301_chest\n",
    "SN030_20191101_abdomen\n",
    "SN049_20170901_abdomen\n",
    "SN049_20170901_chest\n",
    "SN050_20170401_chest\n",
    "SN056_20170601_Thorax^01_Lung_Cancer_3D (Adult)'''.split('\\n')\n",
    "\n",
    "test_cases = '''\n",
    "000009_20180417_chest\n",
    "000079_20180911_Pulmonary artery CT Angio+3D (contrast)\n",
    "000212_20190324_chest\n",
    "BH001_20190501_abdomen\n",
    "000048_20190501_abdomen\n",
    "000069_20180319_chest\n",
    "000278_20190620_chest\n",
    "SN046_20170601_abdomen\n",
    "BH005_20170701_chest\n",
    "000002_20180829_chest\n",
    "000005_20181202_abdomen\n",
    "000010_20181214_abdomen\n",
    "000011_20181207_abdomen\n",
    "000011_20181207_chest\n",
    "000012_20181212_abdomen\n",
    "000012_20181214_chest\n",
    "000260_20190501_CT Liver (contrast)\n",
    "000260_20190522_chest\n",
    "000272_20190601_abdomen\n",
    "000272_20190614_chest\n",
    "000273_20190531_chest\n",
    "000298_20190726_chest\n",
    "000300_20190801_abdomen\n",
    "000305_20190801_abdomen\n",
    "000310_20190801_abdomen\n",
    "000310_20190812_chest\n",
    "000317_20190720_CT Liver (contrast)\n",
    "000350_20190927_chest\n",
    "000350_20191001_abdomen\n",
    "000391_20200216_Thoracic Aorta CT Angio+3D (contrast)\n",
    "000400_20200201_CT Biliary (contrast)\n",
    "000400_20200210_chest\n",
    "BH001_20190401_chest\n",
    "BH002_20190701_chest\n",
    "BH005_20170701_abdomen\n",
    "BH007_20190801_abdomen\n",
    "BH007_20190801_chest\n",
    "BH061_20190315_abdomen\n",
    "BH061_20190315_chest\n",
    "BH063_20200519_chest\n",
    "BH070_20160823_chest\n",
    "BH072_20200219_abdomen\n",
    "BH072_20200219_chest\n",
    "BH091_20200104_chest\n",
    "BH091_20200104_GU Kidney & bladder CT (3D)\n",
    "SN019_20190801_abdomen\n",
    "SN019_20190801_chest\n",
    "SN031_20160501_abdomen\n",
    "SN031_20160501_chest'''.split('\\n')"
   ]
  },
  {
   "cell_type": "code",
   "execution_count": 58,
   "id": "5400ed76",
   "metadata": {},
   "outputs": [
    {
     "name": "stdout",
     "output_type": "stream",
     "text": [
      "\n",
      "Case numbers:\n",
      " train: 221\n",
      " validation: 39\n",
      " test: 50\n",
      " total: 310\n",
      "\n"
     ]
    }
   ],
   "source": [
    "print(f'''\n",
    "Case numbers:\n",
    " train: {len(train_cases)}\n",
    " validation: {len(valid_cases)}\n",
    " test: {len(test_cases)}\n",
    " total: {len(train_cases + valid_cases + test_cases)}\n",
    "''')"
   ]
  },
  {
   "cell_type": "code",
   "execution_count": 62,
   "id": "c2e6e852",
   "metadata": {},
   "outputs": [],
   "source": [
    "train_personal_ids = [case.split('_')[0] for case in train_cases]\n",
    "valid_personal_ids = [case.split('_')[0] for case in valid_cases]\n",
    "test_personal_ids = [case.split('_')[0] for case in test_cases]"
   ]
  },
  {
   "cell_type": "code",
   "execution_count": 64,
   "id": "f2b1edcc",
   "metadata": {},
   "outputs": [
    {
     "name": "stdout",
     "output_type": "stream",
     "text": [
      "138 28 35\n"
     ]
    }
   ],
   "source": [
    "print(len(set(train_personal_ids)), len(set(valid_personal_ids)), len(set(test_personal_ids)))"
   ]
  },
  {
   "cell_type": "code",
   "execution_count": 65,
   "id": "a30410ae",
   "metadata": {},
   "outputs": [
    {
     "data": {
      "text/plain": [
       "{''}"
      ]
     },
     "execution_count": 65,
     "metadata": {},
     "output_type": "execute_result"
    }
   ],
   "source": [
    "set(train_personal_ids).intersection(set(valid_personal_ids))"
   ]
  },
  {
   "cell_type": "code",
   "execution_count": 66,
   "id": "1117a57f",
   "metadata": {},
   "outputs": [
    {
     "data": {
      "text/plain": [
       "{''}"
      ]
     },
     "execution_count": 66,
     "metadata": {},
     "output_type": "execute_result"
    }
   ],
   "source": [
    "set(test_personal_ids).intersection(set(valid_personal_ids))"
   ]
  },
  {
   "cell_type": "code",
   "execution_count": 67,
   "id": "b8a428c9",
   "metadata": {},
   "outputs": [
    {
     "data": {
      "text/plain": [
       "{''}"
      ]
     },
     "execution_count": 67,
     "metadata": {},
     "output_type": "execute_result"
    }
   ],
   "source": [
    "set(train_personal_ids).intersection(set(test_personal_ids))"
   ]
  },
  {
   "cell_type": "code",
   "execution_count": null,
   "id": "15f99a2c",
   "metadata": {},
   "outputs": [],
   "source": []
  }
 ],
 "metadata": {
  "kernelspec": {
   "display_name": "Python 3",
   "language": "python",
   "name": "python3"
  },
  "language_info": {
   "codemirror_mode": {
    "name": "ipython",
    "version": 3
   },
   "file_extension": ".py",
   "mimetype": "text/x-python",
   "name": "python",
   "nbconvert_exporter": "python",
   "pygments_lexer": "ipython3",
   "version": "3.6.9"
  }
 },
 "nbformat": 4,
 "nbformat_minor": 5
}
