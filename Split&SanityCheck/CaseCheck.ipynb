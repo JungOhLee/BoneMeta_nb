{
 "cells": [
  {
   "cell_type": "code",
   "execution_count": 1,
   "id": "2e960b9f",
   "metadata": {},
   "outputs": [],
   "source": [
    "import pandas as pd \n",
    "import numpy as np"
   ]
  },
  {
   "cell_type": "code",
   "execution_count": 2,
   "id": "cd0069bd",
   "metadata": {},
   "outputs": [
    {
     "name": "stdout",
     "output_type": "stream",
     "text": [
      " 220722_new_list_confirm_case.xlsx\r\n",
      "'Tumor_vs_other 20220427_3.csv'\r\n",
      "'Tumor_vs_other 20220427_3.xlsx'\r\n",
      " data_info_20220304_All.csv\r\n",
      " data_info_20220304_VI.csv\r\n",
      " data_info_20220310_All.csv\r\n",
      " data_info_20220310_VI.csv\r\n",
      " data_info_VI_2022_04_21.csv\r\n",
      " data_info_VI_2022_08_02_all_case_confirm_case.xlsx\r\n",
      " data_info_V_2022_04_21.csv\r\n",
      " data_info_V_2022_04_23.csv\r\n",
      " data_info_V_2022_04_27.csv\r\n",
      " data_info_V_2022_04_27_lytic.csv\r\n",
      " data_info_V_2022_04_27_mixed.csv\r\n",
      " data_info_V_2022_04_27_sclerotic.csv\r\n",
      " small_data_info_VI_2022_04_29.csv\r\n",
      " small_data_info_V_2022_04_29.csv\r\n"
     ]
    }
   ],
   "source": [
    "!ls /workspace/DataInfo/"
   ]
  },
  {
   "cell_type": "code",
   "execution_count": 5,
   "id": "653354b7",
   "metadata": {},
   "outputs": [],
   "source": [
    "all_cases = pd.read_excel('/workspace/DataInfo/data_info_VI_2022_08_02_all_case_confirm_case.xlsx', sheet_name=0)"
   ]
  },
  {
   "cell_type": "code",
   "execution_count": 10,
   "id": "bbf8ecc2",
   "metadata": {},
   "outputs": [],
   "source": [
    "na_idx = all_cases.confirm.isna()"
   ]
  },
  {
   "cell_type": "code",
   "execution_count": 21,
   "id": "91760e68",
   "metadata": {},
   "outputs": [],
   "source": [
    "new_all_cases = all_cases.loc[~na_idx, ~all_cases.columns.isin([\"confirm\", \"Data\"])]"
   ]
  },
  {
   "cell_type": "code",
   "execution_count": 29,
   "id": "31e5297a",
   "metadata": {},
   "outputs": [
    {
     "data": {
      "text/html": [
       "<div>\n",
       "<style scoped>\n",
       "    .dataframe tbody tr th:only-of-type {\n",
       "        vertical-align: middle;\n",
       "    }\n",
       "\n",
       "    .dataframe tbody tr th {\n",
       "        vertical-align: top;\n",
       "    }\n",
       "\n",
       "    .dataframe thead th {\n",
       "        text-align: right;\n",
       "    }\n",
       "</style>\n",
       "<table border=\"1\" class=\"dataframe\">\n",
       "  <thead>\n",
       "    <tr style=\"text-align: right;\">\n",
       "      <th></th>\n",
       "      <th>Case</th>\n",
       "      <th>Lesion Type</th>\n",
       "      <th>Lesion Location</th>\n",
       "      <th>Probability</th>\n",
       "      <th>I/V</th>\n",
       "      <th>File Name</th>\n",
       "      <th>File Path</th>\n",
       "      <th>Lesion Size</th>\n",
       "      <th>Background Size</th>\n",
       "      <th>Original Shape</th>\n",
       "      <th>...</th>\n",
       "      <th>Original Center</th>\n",
       "      <th>1mm Resized Center</th>\n",
       "      <th>Pixel Size</th>\n",
       "      <th>Spine Shape</th>\n",
       "      <th>Spine Resized Shape</th>\n",
       "      <th>Spine Center</th>\n",
       "      <th>Spine Resized Shape.1</th>\n",
       "      <th>X Spacing</th>\n",
       "      <th>Y Spacing</th>\n",
       "      <th>Slice Interval</th>\n",
       "    </tr>\n",
       "  </thead>\n",
       "  <tbody>\n",
       "    <tr>\n",
       "      <th>0</th>\n",
       "      <td>000002_20180829_Chest_CT_(contrast)</td>\n",
       "      <td>O</td>\n",
       "      <td>T3</td>\n",
       "      <td>metastasis</td>\n",
       "      <td>N</td>\n",
       "      <td>lesionAnnot3D-001.nii.gz</td>\n",
       "      <td>/data_vol1/BoneMetaCT/data/CT_metastasis_origi...</td>\n",
       "      <td>0.0</td>\n",
       "      <td>3136.0</td>\n",
       "      <td>[512, 512, 400]</td>\n",
       "      <td>...</td>\n",
       "      <td>[256, 300, 95]</td>\n",
       "      <td>[188, 220, 95]</td>\n",
       "      <td>0</td>\n",
       "      <td>[256, 256, 400]</td>\n",
       "      <td>[41, 126, 95]</td>\n",
       "      <td>[56, 172, 95]</td>\n",
       "      <td>[41, 126, 95]</td>\n",
       "      <td>0.7363</td>\n",
       "      <td>0.7363</td>\n",
       "      <td>-1.0</td>\n",
       "    </tr>\n",
       "    <tr>\n",
       "      <th>1</th>\n",
       "      <td>000002_20180829_Chest_CT_(contrast)</td>\n",
       "      <td>O</td>\n",
       "      <td>T6</td>\n",
       "      <td>metastasis</td>\n",
       "      <td>N</td>\n",
       "      <td>lesionAnnot3D-002.nii.gz</td>\n",
       "      <td>/data_vol1/BoneMetaCT/data/CT_metastasis_origi...</td>\n",
       "      <td>0.0</td>\n",
       "      <td>6384.0</td>\n",
       "      <td>[512, 512, 400]</td>\n",
       "      <td>...</td>\n",
       "      <td>[278, 356, 153]</td>\n",
       "      <td>[204, 262, 153]</td>\n",
       "      <td>0</td>\n",
       "      <td>[256, 256, 400]</td>\n",
       "      <td>[57, 168, 153]</td>\n",
       "      <td>[78, 228, 153]</td>\n",
       "      <td>[57, 168, 153]</td>\n",
       "      <td>0.7363</td>\n",
       "      <td>0.7363</td>\n",
       "      <td>-1.0</td>\n",
       "    </tr>\n",
       "    <tr>\n",
       "      <th>2</th>\n",
       "      <td>000002_20180829_Chest_CT_(contrast)</td>\n",
       "      <td>S</td>\n",
       "      <td>T10</td>\n",
       "      <td>metastasis</td>\n",
       "      <td>N</td>\n",
       "      <td>lesionAnnot3D-003.nii.gz</td>\n",
       "      <td>/data_vol1/BoneMetaCT/data/CT_metastasis_origi...</td>\n",
       "      <td>1870.0</td>\n",
       "      <td>12630.0</td>\n",
       "      <td>[512, 512, 400]</td>\n",
       "      <td>...</td>\n",
       "      <td>[255, 321, 266]</td>\n",
       "      <td>[188, 236, 266]</td>\n",
       "      <td>3449</td>\n",
       "      <td>[256, 256, 400]</td>\n",
       "      <td>[40, 142, 266]</td>\n",
       "      <td>[55, 193, 266]</td>\n",
       "      <td>[40, 142, 266]</td>\n",
       "      <td>0.7363</td>\n",
       "      <td>0.7363</td>\n",
       "      <td>-1.0</td>\n",
       "    </tr>\n",
       "    <tr>\n",
       "      <th>3</th>\n",
       "      <td>000002_20180829_Chest_CT_(contrast)</td>\n",
       "      <td>O</td>\n",
       "      <td>Left 12th rib</td>\n",
       "      <td>metastasis</td>\n",
       "      <td>N</td>\n",
       "      <td>lesionAnnot3D-004.nii.gz</td>\n",
       "      <td>/data_vol1/BoneMetaCT/data/CT_metastasis_origi...</td>\n",
       "      <td>0.0</td>\n",
       "      <td>1820.0</td>\n",
       "      <td>[512, 512, 400]</td>\n",
       "      <td>...</td>\n",
       "      <td>[289, 345, 328]</td>\n",
       "      <td>[213, 254, 328]</td>\n",
       "      <td>0</td>\n",
       "      <td>[256, 256, 400]</td>\n",
       "      <td>[65, 159, 328]</td>\n",
       "      <td>[89, 217, 328]</td>\n",
       "      <td>[65, 159, 328]</td>\n",
       "      <td>0.7363</td>\n",
       "      <td>0.7363</td>\n",
       "      <td>-1.0</td>\n",
       "    </tr>\n",
       "    <tr>\n",
       "      <th>4</th>\n",
       "      <td>000002_20180829_Chest_CT_(contrast)</td>\n",
       "      <td>O</td>\n",
       "      <td>T3</td>\n",
       "      <td>metastasis</td>\n",
       "      <td>N</td>\n",
       "      <td>lesionAnnot3D-001.nii.gz</td>\n",
       "      <td>/data_vol1/BoneMetaCT/data/CT_metastasis_origi...</td>\n",
       "      <td>0.0</td>\n",
       "      <td>3136.0</td>\n",
       "      <td>[512, 512, 400]</td>\n",
       "      <td>...</td>\n",
       "      <td>[256, 300, 95]</td>\n",
       "      <td>[188, 220, 95]</td>\n",
       "      <td>0</td>\n",
       "      <td>[256, 256, 400]</td>\n",
       "      <td>[41, 126, 95]</td>\n",
       "      <td>[56, 172, 95]</td>\n",
       "      <td>[41, 126, 95]</td>\n",
       "      <td>0.7363</td>\n",
       "      <td>0.7363</td>\n",
       "      <td>-1.0</td>\n",
       "    </tr>\n",
       "  </tbody>\n",
       "</table>\n",
       "<p>5 rows × 21 columns</p>\n",
       "</div>"
      ],
      "text/plain": [
       "                                  Case Lesion Type Lesion Location  \\\n",
       "0  000002_20180829_Chest_CT_(contrast)           O              T3   \n",
       "1  000002_20180829_Chest_CT_(contrast)           O              T6   \n",
       "2  000002_20180829_Chest_CT_(contrast)           S             T10   \n",
       "3  000002_20180829_Chest_CT_(contrast)           O   Left 12th rib   \n",
       "4  000002_20180829_Chest_CT_(contrast)           O              T3   \n",
       "\n",
       "  Probability I/V                 File Name  \\\n",
       "0  metastasis   N  lesionAnnot3D-001.nii.gz   \n",
       "1  metastasis   N  lesionAnnot3D-002.nii.gz   \n",
       "2  metastasis   N  lesionAnnot3D-003.nii.gz   \n",
       "3  metastasis   N  lesionAnnot3D-004.nii.gz   \n",
       "4  metastasis   N  lesionAnnot3D-001.nii.gz   \n",
       "\n",
       "                                           File Path  Lesion Size  \\\n",
       "0  /data_vol1/BoneMetaCT/data/CT_metastasis_origi...          0.0   \n",
       "1  /data_vol1/BoneMetaCT/data/CT_metastasis_origi...          0.0   \n",
       "2  /data_vol1/BoneMetaCT/data/CT_metastasis_origi...       1870.0   \n",
       "3  /data_vol1/BoneMetaCT/data/CT_metastasis_origi...          0.0   \n",
       "4  /data_vol1/BoneMetaCT/data/CT_metastasis_origi...          0.0   \n",
       "\n",
       "   Background Size   Original Shape  ...  Original Center 1mm Resized Center  \\\n",
       "0           3136.0  [512, 512, 400]  ...   [256, 300, 95]     [188, 220, 95]   \n",
       "1           6384.0  [512, 512, 400]  ...  [278, 356, 153]    [204, 262, 153]   \n",
       "2          12630.0  [512, 512, 400]  ...  [255, 321, 266]    [188, 236, 266]   \n",
       "3           1820.0  [512, 512, 400]  ...  [289, 345, 328]    [213, 254, 328]   \n",
       "4           3136.0  [512, 512, 400]  ...   [256, 300, 95]     [188, 220, 95]   \n",
       "\n",
       "  Pixel Size      Spine Shape Spine Resized Shape    Spine Center  \\\n",
       "0          0  [256, 256, 400]       [41, 126, 95]   [56, 172, 95]   \n",
       "1          0  [256, 256, 400]      [57, 168, 153]  [78, 228, 153]   \n",
       "2       3449  [256, 256, 400]      [40, 142, 266]  [55, 193, 266]   \n",
       "3          0  [256, 256, 400]      [65, 159, 328]  [89, 217, 328]   \n",
       "4          0  [256, 256, 400]       [41, 126, 95]   [56, 172, 95]   \n",
       "\n",
       "  Spine Resized Shape.1 X Spacing  Y Spacing  Slice Interval  \n",
       "0         [41, 126, 95]    0.7363     0.7363            -1.0  \n",
       "1        [57, 168, 153]    0.7363     0.7363            -1.0  \n",
       "2        [40, 142, 266]    0.7363     0.7363            -1.0  \n",
       "3        [65, 159, 328]    0.7363     0.7363            -1.0  \n",
       "4         [41, 126, 95]    0.7363     0.7363            -1.0  \n",
       "\n",
       "[5 rows x 21 columns]"
      ]
     },
     "execution_count": 29,
     "metadata": {},
     "output_type": "execute_result"
    }
   ],
   "source": [
    "new_all_cases.head()"
   ]
  },
  {
   "cell_type": "code",
   "execution_count": 34,
   "id": "c98ecc33",
   "metadata": {},
   "outputs": [],
   "source": [
    "dup_idx = new_all_cases.loc[:, ['Case', 'File Name']].duplicated()"
   ]
  },
  {
   "cell_type": "code",
   "execution_count": 40,
   "id": "bc307fe6",
   "metadata": {},
   "outputs": [],
   "source": [
    "dup_cases = new_all_cases.loc[dup_idx, :].Case.unique()"
   ]
  },
  {
   "cell_type": "code",
   "execution_count": 41,
   "id": "23ba0d58",
   "metadata": {},
   "outputs": [
    {
     "data": {
      "text/plain": [
       "array(['000002_20180829_Chest_CT_(contrast)',\n",
       "       '000332_20191001_CT_Abdomen+Pelvis_Dynamic_(contrast)',\n",
       "       'BH040_20200101_CT_Angio_+_3D_Pulmonary_artery_(Embolism)',\n",
       "       'BH118_20200617_Liver_CT_(LC_or_CLD,_3D)',\n",
       "       'SN025_20200401_CT_Abdomen+Pelvis_Ar',\n",
       "       'SN030_20191101_CT_Abdomen+Pelvis_Ar',\n",
       "       'SN046_20170601_CT_Abdomen+Pelvis_Arterial+Portal_(contrast)',\n",
       "       '000332_20191025_Chest_CT_(contrast)',\n",
       "       'BH118_20200702_Chest_CT_(contrast)_+_3D'], dtype=object)"
      ]
     },
     "execution_count": 41,
     "metadata": {},
     "output_type": "execute_result"
    }
   ],
   "source": [
    "dup_cases"
   ]
  },
  {
   "cell_type": "code",
   "execution_count": 39,
   "id": "ef79d8a3",
   "metadata": {},
   "outputs": [
    {
     "data": {
      "text/plain": [
       "0       True\n",
       "1       True\n",
       "2       True\n",
       "3       True\n",
       "4       True\n",
       "        ... \n",
       "5696    True\n",
       "5697    True\n",
       "5698    True\n",
       "5699    True\n",
       "5700    True\n",
       "Name: Case, Length: 5701, dtype: bool"
      ]
     },
     "execution_count": 39,
     "metadata": {},
     "output_type": "execute_result"
    }
   ],
   "source": [
    "all_cases.Case.isin(dup_cases)"
   ]
  },
  {
   "cell_type": "code",
   "execution_count": null,
   "id": "fda14fee",
   "metadata": {},
   "outputs": [],
   "source": [
    "new_all_cases.loc"
   ]
  },
  {
   "cell_type": "code",
   "execution_count": 45,
   "id": "aaa120c7",
   "metadata": {},
   "outputs": [],
   "source": [
    "dup_idx_new = new_all_cases.duplicated()"
   ]
  },
  {
   "cell_type": "code",
   "execution_count": 47,
   "id": "0716ca44",
   "metadata": {},
   "outputs": [
    {
     "data": {
      "text/plain": [
       "array(['000002_20180829_Chest_CT_(contrast)',\n",
       "       '000332_20191025_Chest_CT_(contrast)',\n",
       "       '000332_20191001_CT_Abdomen+Pelvis_Dynamic_(contrast)',\n",
       "       'BH040_20200101_CT_Angio_+_3D_Pulmonary_artery_(Embolism)',\n",
       "       'BH118_20200617_Liver_CT_(LC_or_CLD,_3D)',\n",
       "       'BH118_20200702_Chest_CT_(contrast)_+_3D',\n",
       "       'SN025_20200401_CT_Abdomen+Pelvis_Ar',\n",
       "       'SN030_20191101_CT_Abdomen+Pelvis_Ar',\n",
       "       'SN046_20170601_CT_Abdomen+Pelvis_Arterial+Portal_(contrast)'],\n",
       "      dtype=object)"
      ]
     },
     "execution_count": 47,
     "metadata": {},
     "output_type": "execute_result"
    }
   ],
   "source": [
    "new_all_cases.loc[dup_idx_new,:].Case.unique()"
   ]
  },
  {
   "cell_type": "code",
   "execution_count": 51,
   "id": "97ec2cea",
   "metadata": {},
   "outputs": [
    {
     "data": {
      "text/plain": [
       "458"
      ]
     },
     "execution_count": 51,
     "metadata": {},
     "output_type": "execute_result"
    }
   ],
   "source": [
    "new_all_cases.Case.unique().__len__()"
   ]
  },
  {
   "cell_type": "code",
   "execution_count": null,
   "id": "ea7c3cb1",
   "metadata": {},
   "outputs": [],
   "source": []
  }
 ],
 "metadata": {
  "kernelspec": {
   "display_name": "Python 3 (ipykernel)",
   "language": "python",
   "name": "python3"
  },
  "language_info": {
   "codemirror_mode": {
    "name": "ipython",
    "version": 3
   },
   "file_extension": ".py",
   "mimetype": "text/x-python",
   "name": "python",
   "nbconvert_exporter": "python",
   "pygments_lexer": "ipython3",
   "version": "3.9.5"
  }
 },
 "nbformat": 4,
 "nbformat_minor": 5
}
