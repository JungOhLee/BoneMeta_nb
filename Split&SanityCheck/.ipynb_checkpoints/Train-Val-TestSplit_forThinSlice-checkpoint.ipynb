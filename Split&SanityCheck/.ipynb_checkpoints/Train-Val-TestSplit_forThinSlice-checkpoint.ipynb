{
 "cells": [
  {
   "cell_type": "code",
   "execution_count": 46,
   "id": "75f318db",
   "metadata": {},
   "outputs": [],
   "source": [
    "import pandas as pd\n",
    "import numpy as np\n",
    "import os"
   ]
  },
  {
   "cell_type": "code",
   "execution_count": 409,
   "id": "b4b372d3",
   "metadata": {},
   "outputs": [],
   "source": [
    "import matplotlib.pyplot as plt"
   ]
  },
  {
   "cell_type": "markdown",
   "id": "5aae704a",
   "metadata": {},
   "source": [
    "- 이상한 프로토콜 없애고, 얇은 애들만 남기고\n",
    "- 너무 작은 녀석들은 없애고 (max diameter < 2mm  = area < 8mm^3)\n",
    "- 너무 큰 녀석들은 testset 에서는 제외 \n",
    "- 나눠진 분포 상에서 S, L은 크기와 병변 개수가 고루 분포하도록 되었는지 "
   ]
  },
  {
   "cell_type": "markdown",
   "id": "6d94a7a4",
   "metadata": {},
   "source": [
    "### Set DataFrames\n",
    "\n",
    "- data_info : lesion 별 정보를 담은 pd.DataFrame\n",
    "- voxel_size_df : case 별 voxel size를 담은 pd.DataFrame"
   ]
  },
  {
   "cell_type": "code",
   "execution_count": 47,
   "id": "cfbf793e",
   "metadata": {},
   "outputs": [],
   "source": [
    "base_dir = '/workspace/BoneMeta'\n",
    "img_dir = os.path.join(base_dir, 'images')\n",
    "label_dir = os.path.join(base_dir, 'labels')\n",
    "\n",
    "data_info_path = '/workspace/BoneMeta_raw/data_info.csv'"
   ]
  },
  {
   "cell_type": "code",
   "execution_count": 48,
   "id": "1857935e",
   "metadata": {},
   "outputs": [
    {
     "name": "stdout",
     "output_type": "stream",
     "text": [
      "0 0\n"
     ]
    }
   ],
   "source": [
    "img_files = os.listdir(img_dir)\n",
    "label_files = os.listdir(label_dir)\n",
    "print(len(set(img_files)-set(label_files)), \n",
    "len(set(label_files)-set(img_files)))"
   ]
  },
  {
   "cell_type": "code",
   "execution_count": 49,
   "id": "d55744f1",
   "metadata": {},
   "outputs": [],
   "source": [
    "def case_to_file(case):\n",
    "    return case + '.npy'\n",
    "\n",
    "def file_to_case(file):\n",
    "    return file.split('.')[0]"
   ]
  },
  {
   "cell_type": "code",
   "execution_count": 50,
   "id": "e18e33aa",
   "metadata": {},
   "outputs": [
    {
     "name": "stdout",
     "output_type": "stream",
     "text": [
      "\n",
      "data info shape = (3176, 13), \n",
      "Unique case number = 310\n",
      "Cases per lesion type \n",
      " S : 228\n",
      " L : 170\n",
      " M : 119\n",
      " \n",
      "Different case names: \n",
      "  Folder - CSV = set()\n",
      "  CSV - Folder = set()\n",
      "\n",
      "\n",
      "data_info\n"
     ]
    },
    {
     "data": {
      "text/html": [
       "<div>\n",
       "<style scoped>\n",
       "    .dataframe tbody tr th:only-of-type {\n",
       "        vertical-align: middle;\n",
       "    }\n",
       "\n",
       "    .dataframe tbody tr th {\n",
       "        vertical-align: top;\n",
       "    }\n",
       "\n",
       "    .dataframe thead th {\n",
       "        text-align: right;\n",
       "    }\n",
       "</style>\n",
       "<table border=\"1\" class=\"dataframe\">\n",
       "  <thead>\n",
       "    <tr style=\"text-align: right;\">\n",
       "      <th></th>\n",
       "      <th>Case</th>\n",
       "      <th>Lesion Type</th>\n",
       "      <th>Lesion Location</th>\n",
       "      <th>I/V</th>\n",
       "      <th>File Name</th>\n",
       "      <th>Lesion Size</th>\n",
       "      <th>Background Size</th>\n",
       "      <th>Original Shape</th>\n",
       "      <th>1mm Resized Shape</th>\n",
       "      <th>1 Resized Shape</th>\n",
       "      <th>Original Center</th>\n",
       "      <th>1mm Resized Center</th>\n",
       "      <th>1 Resized Center</th>\n",
       "    </tr>\n",
       "  </thead>\n",
       "  <tbody>\n",
       "    <tr>\n",
       "      <th>0</th>\n",
       "      <td>000002_20180829_chest</td>\n",
       "      <td>M</td>\n",
       "      <td>T10</td>\n",
       "      <td>I</td>\n",
       "      <td>lesionAnnot3D-004</td>\n",
       "      <td>3449</td>\n",
       "      <td>104854151</td>\n",
       "      <td>[512, 512, 400]</td>\n",
       "      <td>[377, 377, 400]</td>\n",
       "      <td>(512, 512, 543)</td>\n",
       "      <td>[256, 322, 266]</td>\n",
       "      <td>[188, 237, 266]</td>\n",
       "      <td>[256, 322, 361]</td>\n",
       "    </tr>\n",
       "    <tr>\n",
       "      <th>1</th>\n",
       "      <td>000005_20181202_abdomen</td>\n",
       "      <td>L</td>\n",
       "      <td>L5</td>\n",
       "      <td>V</td>\n",
       "      <td>lesionAnnot3D-001</td>\n",
       "      <td>34062</td>\n",
       "      <td>37976818</td>\n",
       "      <td>[512, 512, 145]</td>\n",
       "      <td>[323, 323, 435]</td>\n",
       "      <td>(512, 512, 230)</td>\n",
       "      <td>[298, 298, 92]</td>\n",
       "      <td>[188, 188, 276]</td>\n",
       "      <td>[298, 298, 146]</td>\n",
       "    </tr>\n",
       "    <tr>\n",
       "      <th>2</th>\n",
       "      <td>000009_20180417_chest</td>\n",
       "      <td>S</td>\n",
       "      <td>C7-1</td>\n",
       "      <td>V</td>\n",
       "      <td>lesionAnnot3D-001</td>\n",
       "      <td>2299</td>\n",
       "      <td>89126661</td>\n",
       "      <td>[512, 512, 340]</td>\n",
       "      <td>[378, 378, 340]</td>\n",
       "      <td>(512, 512, 461)</td>\n",
       "      <td>[263, 308, 8]</td>\n",
       "      <td>[194, 227, 8]</td>\n",
       "      <td>[263, 308, 11]</td>\n",
       "    </tr>\n",
       "    <tr>\n",
       "      <th>3</th>\n",
       "      <td>000009_20180417_chest</td>\n",
       "      <td>S</td>\n",
       "      <td>C7-2</td>\n",
       "      <td>I</td>\n",
       "      <td>lesionAnnot3D-002</td>\n",
       "      <td>872</td>\n",
       "      <td>89128088</td>\n",
       "      <td>[512, 512, 340]</td>\n",
       "      <td>[378, 378, 340]</td>\n",
       "      <td>(512, 512, 461)</td>\n",
       "      <td>[278, 290, 19]</td>\n",
       "      <td>[205, 214, 19]</td>\n",
       "      <td>[278, 290, 26]</td>\n",
       "    </tr>\n",
       "    <tr>\n",
       "      <th>4</th>\n",
       "      <td>000009_20180417_chest</td>\n",
       "      <td>S</td>\n",
       "      <td>T1-2</td>\n",
       "      <td>I</td>\n",
       "      <td>lesionAnnot3D-004</td>\n",
       "      <td>1242</td>\n",
       "      <td>89127718</td>\n",
       "      <td>[512, 512, 340]</td>\n",
       "      <td>[378, 378, 340]</td>\n",
       "      <td>(512, 512, 461)</td>\n",
       "      <td>[285, 297, 39]</td>\n",
       "      <td>[210, 219, 39]</td>\n",
       "      <td>[285, 297, 53]</td>\n",
       "    </tr>\n",
       "  </tbody>\n",
       "</table>\n",
       "</div>"
      ],
      "text/plain": [
       "                      Case Lesion Type Lesion Location I/V          File Name  \\\n",
       "0    000002_20180829_chest           M             T10   I  lesionAnnot3D-004   \n",
       "1  000005_20181202_abdomen           L              L5   V  lesionAnnot3D-001   \n",
       "2    000009_20180417_chest           S            C7-1   V  lesionAnnot3D-001   \n",
       "3    000009_20180417_chest           S            C7-2   I  lesionAnnot3D-002   \n",
       "4    000009_20180417_chest           S            T1-2   I  lesionAnnot3D-004   \n",
       "\n",
       "   Lesion Size  Background Size   Original Shape 1mm Resized Shape  \\\n",
       "0         3449        104854151  [512, 512, 400]   [377, 377, 400]   \n",
       "1        34062         37976818  [512, 512, 145]   [323, 323, 435]   \n",
       "2         2299         89126661  [512, 512, 340]   [378, 378, 340]   \n",
       "3          872         89128088  [512, 512, 340]   [378, 378, 340]   \n",
       "4         1242         89127718  [512, 512, 340]   [378, 378, 340]   \n",
       "\n",
       "   1 Resized Shape  Original Center 1mm Resized Center 1 Resized Center  \n",
       "0  (512, 512, 543)  [256, 322, 266]    [188, 237, 266]  [256, 322, 361]  \n",
       "1  (512, 512, 230)   [298, 298, 92]    [188, 188, 276]  [298, 298, 146]  \n",
       "2  (512, 512, 461)    [263, 308, 8]      [194, 227, 8]   [263, 308, 11]  \n",
       "3  (512, 512, 461)   [278, 290, 19]     [205, 214, 19]   [278, 290, 26]  \n",
       "4  (512, 512, 461)   [285, 297, 39]     [210, 219, 39]   [285, 297, 53]  "
      ]
     },
     "execution_count": 50,
     "metadata": {},
     "output_type": "execute_result"
    }
   ],
   "source": [
    "data_info = pd.read_csv(data_info_path)\n",
    "print(\n",
    "f'''\n",
    "data info shape = {data_info.shape}, \n",
    "Unique case number = {data_info.Case.unique().size}\n",
    "Cases per lesion type \n",
    " S : {data_info.loc[data_info['Lesion Type']=='S'].Case.unique().size}\n",
    " L : {data_info.loc[data_info['Lesion Type']=='L'].Case.unique().size}\n",
    " M : {data_info.loc[data_info['Lesion Type']=='M'].Case.unique().size}\n",
    " \n",
    "Different case names: \n",
    "  Folder - CSV = {set(os.listdir('/workspace/BoneMeta_raw/data')) - set(data_info.Case.unique())}\n",
    "  CSV - Folder = {set(data_info.Case.unique()) - set(os.listdir('/workspace/BoneMeta_raw/data'))}\n",
    "'''\n",
    ")\n",
    "print('\\ndata_info')\n",
    "data_info.head()"
   ]
  },
  {
   "cell_type": "code",
   "execution_count": 51,
   "id": "294758a2",
   "metadata": {},
   "outputs": [
    {
     "name": "stdout",
     "output_type": "stream",
     "text": [
      "voxel_size_df\n"
     ]
    },
    {
     "data": {
      "text/html": [
       "<div>\n",
       "<style scoped>\n",
       "    .dataframe tbody tr th:only-of-type {\n",
       "        vertical-align: middle;\n",
       "    }\n",
       "\n",
       "    .dataframe tbody tr th {\n",
       "        vertical-align: top;\n",
       "    }\n",
       "\n",
       "    .dataframe thead th {\n",
       "        text-align: right;\n",
       "    }\n",
       "</style>\n",
       "<table border=\"1\" class=\"dataframe\">\n",
       "  <thead>\n",
       "    <tr style=\"text-align: right;\">\n",
       "      <th></th>\n",
       "      <th>case</th>\n",
       "      <th>voxel_x</th>\n",
       "      <th>voxel_y</th>\n",
       "      <th>voxel_z</th>\n",
       "    </tr>\n",
       "  </thead>\n",
       "  <tbody>\n",
       "    <tr>\n",
       "      <th>0</th>\n",
       "      <td>000251_20190703_chest</td>\n",
       "      <td>0.560547</td>\n",
       "      <td>0.560547</td>\n",
       "      <td>1.0</td>\n",
       "    </tr>\n",
       "    <tr>\n",
       "      <th>1</th>\n",
       "      <td>000356_20191024_chest</td>\n",
       "      <td>0.621094</td>\n",
       "      <td>0.621094</td>\n",
       "      <td>1.0</td>\n",
       "    </tr>\n",
       "    <tr>\n",
       "      <th>2</th>\n",
       "      <td>000350_20190927_chest</td>\n",
       "      <td>0.589844</td>\n",
       "      <td>0.589844</td>\n",
       "      <td>1.0</td>\n",
       "    </tr>\n",
       "    <tr>\n",
       "      <th>3</th>\n",
       "      <td>000397_20200214_chest</td>\n",
       "      <td>0.613281</td>\n",
       "      <td>0.613281</td>\n",
       "      <td>1.0</td>\n",
       "    </tr>\n",
       "    <tr>\n",
       "      <th>4</th>\n",
       "      <td>BH005_20170701_abdomen</td>\n",
       "      <td>0.646484</td>\n",
       "      <td>0.646484</td>\n",
       "      <td>1.0</td>\n",
       "    </tr>\n",
       "  </tbody>\n",
       "</table>\n",
       "</div>"
      ],
      "text/plain": [
       "                     case   voxel_x   voxel_y  voxel_z\n",
       "0   000251_20190703_chest  0.560547  0.560547      1.0\n",
       "1   000356_20191024_chest  0.621094  0.621094      1.0\n",
       "2   000350_20190927_chest  0.589844  0.589844      1.0\n",
       "3   000397_20200214_chest  0.613281  0.613281      1.0\n",
       "4  BH005_20170701_abdomen  0.646484  0.646484      1.0"
      ]
     },
     "execution_count": 51,
     "metadata": {},
     "output_type": "execute_result"
    }
   ],
   "source": [
    "import pandas as pd\n",
    "import os, json\n",
    "\n",
    "BASE_DIR = '/workspace/BoneMeta_raw'\n",
    "JSON_DIR = os.path.join(BASE_DIR, 'json')\n",
    "\n",
    "SMALL_Z_CRITERIA = 1.5 #mm\n",
    "CASE_NAMES = os.listdir(JSON_DIR)\n",
    "\n",
    "def get_json_file(case_name):\n",
    "    json_path = os.path.join(JSON_DIR, case_name, 'lesionAnnot3D.json')\n",
    "    return json.load(open(json_path))\n",
    "\n",
    "def get_voxel_size(json):\n",
    "    size_string = json['volumeInfo']['voxelResolution_mm']\n",
    "    size_list = size_string.split(' x ')\n",
    "    return tuple([float(size) for size in size_list])\n",
    "\n",
    "voxel_size_df = pd.DataFrame([(case, *get_voxel_size(get_json_file(case))) for case in CASE_NAMES], columns=['case', 'voxel_x', 'voxel_y', 'voxel_z'])\n",
    "print('voxel_size_df')\n",
    "voxel_size_df.head()"
   ]
  },
  {
   "cell_type": "markdown",
   "id": "45ccc309",
   "metadata": {},
   "source": [
    "### 제외할 케이스들 \n",
    "- 이상한 프로토콜 없애고, 얇은 애들만 남기고"
   ]
  },
  {
   "cell_type": "code",
   "execution_count": 52,
   "id": "b3148038",
   "metadata": {},
   "outputs": [
    {
     "data": {
      "text/plain": [
       "array(['000079_20180911_Pulmonary artery CT Angio+3D (contrast).npy',\n",
       "       '000301_20190801_Pulmonary artery CT Angio+3D (contrast).npy',\n",
       "       '000316_20190715_Spine^L_SPINE (Adult).npy',\n",
       "       '000391_20200216_Thoracic Aorta CT Angio+3D (contrast).npy',\n",
       "       '000400_20200201_CT Biliary (contrast).npy',\n",
       "       '000401_20200201_T-Spine+3D CT (noncontrast).npy',\n",
       "       'BH011_20190301_Spine^00_C_Spine_Pre_OP (Adult).npy',\n",
       "       'BH027_20191001_L-spine CT (3D).npy',\n",
       "       'BH030_20160101_T-L spine (3D).npy',\n",
       "       'BH031_20160301_CT Angio + 3D Pulmonary artery (Embolism).npy',\n",
       "       'BH038_20160901_CT angio + 3D C-spine(vertebral artery, C1-2).npy',\n",
       "       'BH040_20200101_CT Angio + 3D Pulmonary artery (Embolism) (2).npy',\n",
       "       'BH040_20200101_CT Angio + 3D Pulmonary artery (Embolism).npy',\n",
       "       'BH041_20190201_C-T-L Spine (3D).npy',\n",
       "       'BH042_20180801_C-T-L Spine (3D).npy',\n",
       "       'SN032_20190401_T spine CT pre contr.npy',\n",
       "       'SN040_20170201_CT Neck (contrast).npy',\n",
       "       'SN056_20170601_Thorax^01_Lung_Cancer_3D (Adult).npy'],\n",
       "      dtype=object)"
      ]
     },
     "execution_count": 52,
     "metadata": {},
     "output_type": "execute_result"
    }
   ],
   "source": [
    "img_file_series = pd.Series(img_files)\n",
    "abd_chest_idx = img_file_series.str.contains('chest|abd|kidney|liver', case=False)\n",
    "special_protocol_cases = img_file_series.loc[~abd_chest_idx].values\n",
    "special_protocol_cases.sort()\n",
    "special_protocol_cases"
   ]
  },
  {
   "cell_type": "markdown",
   "id": "119f9974",
   "metadata": {},
   "source": [
    "```'000079_20180911_Pulmonary artery CT Angio+3D (contrast).npy', - 포함 가능  => O.K.\n",
    "'000301_20190801_Pulmonary artery CT Angio+3D (contrast).npy', - 301 의 8월 26일 chest CT가 있는데.. 꼭 포함해야할까?  => 포함\n",
    "'000316_20190715_Spine^L_SPINE (Adult).npy', - abd precontrast 로 포함 가능할듯? => 포함\n",
    "'000391_20200216_Thoracic Aorta CT Angio+3D (contrast).npy', - 목 부분이 너무 많은 것 같은데 빼야할까?  => 포함하는데 Train으로 하는 것으로 하면 어떨까? 아니면 목부분을 자를 수 있으면 좋고.\n",
    "'000400_20200201_CT Biliary (contrast).npy', - 포함, => O.K.\n",
    "'000401_20200201_T-Spine+3D CT (noncontrast).npy',- 제외 => O.K\n",
    "'BH011_20190301_Spine^00_C_Spine_Pre_OP (Adult).npy',- 제외=> O.K\n",
    "'BH027_20191001_L-spine CT (3D).npy',- 제외 => O.K\n",
    "'BH030_20160101_T-L spine (3D).npy',- 제외 => O.K\n",
    "'BH031_20160301_CT Angio + 3D Pulmonary artery (Embolism).npy',- 포함 => O.K\n",
    "'BH038_20160901_CT angio + 3D C-spine(vertebral artery, C1-2).npy', - 제외 => O.K\n",
    "'BH040_20200101_CT Angio + 3D Pulmonary artery (Embolism) (2).npy', - 다리 들어가기 전에만 자를까 싶기도 => O.K\n",
    "'BH040_20200101_CT Angio + 3D Pulmonary artery (Embolism).npy' - 포함 가능한데 병변이 너무 작긴 함.  => 제외\n",
    "'BH041_20190201_C-T-L Spine (3D).npy', - 제외 => O.K\n",
    "'BH042_20180801_C-T-L Spine (3D).npy', - 제외 => O.K\n",
    "'SN032_20190401_T spine CT pre contr.npy', - 제외하는게 나을듯?  => O.K\n",
    "'SN040_20170201_CT Neck (contrast).npy', - 제외? => O.K\n",
    "'SN056_20170601_Thorax^01_Lung_Cancer_3D (Adult).npy' - 포함 => O.K```"
   ]
  },
  {
   "cell_type": "code",
   "execution_count": 53,
   "id": "0c87ab65",
   "metadata": {},
   "outputs": [],
   "source": [
    "# 301은 무조건 train\n",
    "# 000391 목자르기 or train\n",
    "# 'BH040_20200101_CT Angio + 3D Pulmonary artery (Embolism) (2).npy', 에서 다리 자르기 "
   ]
  },
  {
   "cell_type": "code",
   "execution_count": 54,
   "id": "d5686c60",
   "metadata": {},
   "outputs": [],
   "source": [
    "exclusions = [\n",
    "       '000401_20200201_T-Spine+3D CT (noncontrast).npy',\n",
    "       'BH011_20190301_Spine^00_C_Spine_Pre_OP (Adult).npy',\n",
    "       'BH027_20191001_L-spine CT (3D).npy',\n",
    "       'BH030_20160101_T-L spine (3D).npy',\n",
    "       'BH038_20160901_CT angio + 3D C-spine(vertebral artery, C1-2).npy',\n",
    "       'BH040_20200101_CT Angio + 3D Pulmonary artery (Embolism).npy',\n",
    "       'BH041_20190201_C-T-L Spine (3D).npy',\n",
    "       'BH042_20180801_C-T-L Spine (3D).npy',\n",
    "       'SN032_20190401_T spine CT pre contr.npy',\n",
    "       'SN040_20170201_CT Neck (contrast).npy']"
   ]
  },
  {
   "cell_type": "code",
   "execution_count": 55,
   "id": "138be414",
   "metadata": {},
   "outputs": [
    {
     "data": {
      "text/plain": [
       "300"
      ]
     },
     "execution_count": 55,
     "metadata": {},
     "output_type": "execute_result"
    }
   ],
   "source": [
    "included_files = list(set(img_files) - set(exclusions))\n",
    "included_files.__len__()"
   ]
  },
  {
   "cell_type": "code",
   "execution_count": 56,
   "id": "fccdafca",
   "metadata": {},
   "outputs": [
    {
     "data": {
      "text/plain": [
       "['000234_20190401_abdomen.npy',\n",
       " '000400_20200210_chest.npy',\n",
       " 'BH018_20190801_abdomen.npy',\n",
       " '000364_20191217_chest.npy',\n",
       " 'BH062_20201104_chest.npy']"
      ]
     },
     "execution_count": 56,
     "metadata": {},
     "output_type": "execute_result"
    }
   ],
   "source": [
    "included_files[:5]"
   ]
  },
  {
   "cell_type": "markdown",
   "id": "2cafb822",
   "metadata": {},
   "source": [
    "#### Select thin sections"
   ]
  },
  {
   "cell_type": "code",
   "execution_count": 57,
   "id": "5ed20526",
   "metadata": {},
   "outputs": [
    {
     "data": {
      "text/plain": [
       "(245,)"
      ]
     },
     "execution_count": 57,
     "metadata": {},
     "output_type": "execute_result"
    }
   ],
   "source": [
    "thin_idx = voxel_size_df.voxel_z < SMALL_Z_CRITERIA\n",
    "thin_cases = voxel_size_df.case[thin_idx]\n",
    "thin_cases.shape"
   ]
  },
  {
   "cell_type": "code",
   "execution_count": 58,
   "id": "62451908",
   "metadata": {},
   "outputs": [],
   "source": [
    "thin_files = [case_to_file(case) for case in thin_cases]"
   ]
  },
  {
   "cell_type": "code",
   "execution_count": 59,
   "id": "26e1418e",
   "metadata": {},
   "outputs": [
    {
     "data": {
      "text/plain": [
       "237"
      ]
     },
     "execution_count": 59,
     "metadata": {},
     "output_type": "execute_result"
    }
   ],
   "source": [
    "using_thin_files = list(set(included_files).intersection(set(thin_files)))\n",
    "len(using_thin_files)"
   ]
  },
  {
   "cell_type": "code",
   "execution_count": 60,
   "id": "9d262e12",
   "metadata": {},
   "outputs": [
    {
     "data": {
      "text/plain": [
       "['000364_20191201_abdomen.npy',\n",
       " '000355_20190901_abdomen.npy',\n",
       " '000234_20190401_abdomen.npy',\n",
       " '000376_20200101_abdomen.npy',\n",
       " '000400_20200210_chest.npy']"
      ]
     },
     "execution_count": 60,
     "metadata": {},
     "output_type": "execute_result"
    }
   ],
   "source": [
    "using_thin_files[:5]"
   ]
  },
  {
   "cell_type": "markdown",
   "id": "363d92a1",
   "metadata": {},
   "source": [
    "### 병변들 크기 확인 "
   ]
  },
  {
   "cell_type": "code",
   "execution_count": 61,
   "id": "2bb322f2",
   "metadata": {},
   "outputs": [],
   "source": [
    "voxel_size_df['voxel_volume'] = voxel_size_df.voxel_x * voxel_size_df.voxel_y * voxel_size_df.voxel_z"
   ]
  },
  {
   "cell_type": "code",
   "execution_count": 62,
   "id": "3723bfd7",
   "metadata": {},
   "outputs": [
    {
     "data": {
      "text/plain": [
       "True"
      ]
     },
     "execution_count": 62,
     "metadata": {},
     "output_type": "execute_result"
    }
   ],
   "source": [
    "set(data_info.Case.unique()) == set(voxel_size_df.case)"
   ]
  },
  {
   "cell_type": "code",
   "execution_count": 63,
   "id": "bdcf702d",
   "metadata": {},
   "outputs": [],
   "source": [
    "voxel_size_db = voxel_size_df.set_index('case')"
   ]
  },
  {
   "cell_type": "code",
   "execution_count": 64,
   "id": "964e19f5",
   "metadata": {},
   "outputs": [],
   "source": [
    "def get_case_voxel_volume(df_row):\n",
    "    case = df_row.Case\n",
    "    vox_vol = voxel_size_db.loc[case].voxel_volume\n",
    "    return vox_vol"
   ]
  },
  {
   "cell_type": "code",
   "execution_count": 65,
   "id": "f36f568f",
   "metadata": {},
   "outputs": [],
   "source": [
    "data_info['Voxel Volume'] = data_info.apply(get_case_voxel_volume, axis=1)\n",
    "data_info['Lesion Volume'] = data_info['Lesion Size'] * data_info['Voxel Volume']"
   ]
  },
  {
   "cell_type": "code",
   "execution_count": 66,
   "id": "7a9be580",
   "metadata": {},
   "outputs": [
    {
     "data": {
      "text/plain": [
       "<AxesSubplot:>"
      ]
     },
     "execution_count": 66,
     "metadata": {},
     "output_type": "execute_result"
    },
    {
     "data": {
      "image/png": "[encoded data removed]",
      "text/plain": [
       "<Figure size 432x288 with 1 Axes>"
      ]
     },
     "metadata": {
      "needs_background": "light"
     },
     "output_type": "display_data"
    }
   ],
   "source": [
    "data_info['Voxel Volume'].hist(bins=30)"
   ]
  },
  {
   "cell_type": "code",
   "execution_count": 67,
   "id": "94b1932c",
   "metadata": {},
   "outputs": [
    {
     "data": {
      "text/plain": [
       "<AxesSubplot:>"
      ]
     },
     "execution_count": 67,
     "metadata": {},
     "output_type": "execute_result"
    },
    {
     "data": {
      "image/png": "[encoded data removed]",
      "text/plain": [
       "<Figure size 432x288 with 1 Axes>"
      ]
     },
     "metadata": {
      "needs_background": "light"
     },
     "output_type": "display_data"
    }
   ],
   "source": [
    "data_info['Lesion Volume'].apply(np.log).hist(bins=100)"
   ]
  },
  {
   "cell_type": "code",
   "execution_count": null,
   "id": "65f4301c",
   "metadata": {},
   "outputs": [],
   "source": []
  },
  {
   "cell_type": "code",
   "execution_count": 68,
   "id": "aee67dcd",
   "metadata": {},
   "outputs": [
    {
     "data": {
      "text/plain": [
       "764      9.382044\n",
       "923     11.779220\n",
       "861     13.959279\n",
       "887     16.419519\n",
       "2833    17.324594\n",
       "680     17.948259\n",
       "585     19.149871\n",
       "594     19.149871\n",
       "993     21.074369\n",
       "376     22.508463\n",
       "Name: Lesion Volume, dtype: float64"
      ]
     },
     "execution_count": 68,
     "metadata": {},
     "output_type": "execute_result"
    }
   ],
   "source": [
    "data_info['Lesion Volume'].nsmallest(10)"
   ]
  },
  {
   "cell_type": "code",
   "execution_count": 69,
   "id": "d96037a7",
   "metadata": {},
   "outputs": [
    {
     "data": {
      "text/plain": [
       "Case                  000270_20190608_chest\n",
       "Lesion Type                               S\n",
       "Lesion Location                      T11-12\n",
       "I/V                                       V\n",
       "File Name                 lesionAnnot3D-122\n",
       "Lesion Size                              23\n",
       "Background Size                    82575337\n",
       "Original Shape              [512, 512, 315]\n",
       "1mm Resized Shape           [327, 327, 315]\n",
       "1 Resized Shape             (512, 512, 493)\n",
       "Original Center             [239, 344, 240]\n",
       "1mm Resized Center          [153, 220, 240]\n",
       "1 Resized Center            [239, 344, 376]\n",
       "Voxel Volume                       0.407915\n",
       "Lesion Volume                       9.38204\n",
       "Name: 764, dtype: object"
      ]
     },
     "execution_count": 69,
     "metadata": {},
     "output_type": "execute_result"
    }
   ],
   "source": [
    "data_info.iloc[764]"
   ]
  },
  {
   "cell_type": "code",
   "execution_count": 70,
   "id": "acbffd3f",
   "metadata": {},
   "outputs": [
    {
     "data": {
      "text/plain": [
       "795     434378.833181\n",
       "1378    277525.777738\n",
       "2596    270932.565685\n",
       "2514    198764.875461\n",
       "2996    192249.867866\n",
       "2125    157819.365850\n",
       "3061    153514.569972\n",
       "2294    150858.329647\n",
       "3074    144709.819284\n",
       "2940    140322.164369\n",
       "Name: Lesion Volume, dtype: float64"
      ]
     },
     "execution_count": 70,
     "metadata": {},
     "output_type": "execute_result"
    }
   ],
   "source": [
    "data_info['Lesion Volume'].nlargest(10)"
   ]
  },
  {
   "cell_type": "code",
   "execution_count": 71,
   "id": "d444d315",
   "metadata": {},
   "outputs": [
    {
     "data": {
      "text/plain": [
       "179594.34266666666"
      ]
     },
     "execution_count": 71,
     "metadata": {},
     "output_type": "execute_result"
    }
   ],
   "source": [
    "35*35*35*4/3*3.141592 # 직경 7cm 짜리 구의 부피 -> 이정도 하면 5케이스정도 되겠다. "
   ]
  },
  {
   "cell_type": "code",
   "execution_count": 72,
   "id": "0dc2f4cf",
   "metadata": {},
   "outputs": [
    {
     "data": {
      "text/plain": [
       "array(['000273_20190531_chest', '000325_20190919_chest',\n",
       "       'SN002_20190801_abdomen', 'BH069_20200505_chest',\n",
       "       'SN029_20200301_abdomen'], dtype=object)"
      ]
     },
     "execution_count": 72,
     "metadata": {},
     "output_type": "execute_result"
    }
   ],
   "source": [
    "data_info.iloc[[795, 1378, 2596, 2514, 2996]].Case.values"
   ]
  },
  {
   "cell_type": "markdown",
   "id": "95b6df08",
   "metadata": {},
   "source": [
    "너무 큰 병변 - 기준 = $180000 mm^3$ = 직경 7cm 구의 부피 \n",
    "\n",
    "['000273_20190531_chest', '000325_20190919_chest',\n",
    "       'SN002_20190801_abdomen', 'BH069_20200505_chest',\n",
    "       'SN029_20200301_abdomen']"
   ]
  },
  {
   "cell_type": "markdown",
   "id": "d5ceae8e",
   "metadata": {},
   "source": [
    "너무 작은 기준은 안해도 될지? "
   ]
  },
  {
   "cell_type": "markdown",
   "id": "e78dd64a",
   "metadata": {},
   "source": [
    "### Split train/val/test\n",
    "- 너무 큰 녀석들은 testset 에서는 제외\n",
    "- 나눠진 분포 상에서 S, L은 크기와 병변 개수가 고루 분포하도록 되었는지"
   ]
  },
  {
   "cell_type": "code",
   "execution_count": 474,
   "id": "32d6d289",
   "metadata": {},
   "outputs": [],
   "source": [
    "def get_id(case_or_file):\n",
    "    return case_or_file.split('_')[0]"
   ]
  },
  {
   "cell_type": "code",
   "execution_count": 475,
   "id": "d7c63be6",
   "metadata": {},
   "outputs": [
    {
     "data": {
      "text/plain": [
       "237"
      ]
     },
     "execution_count": 475,
     "metadata": {},
     "output_type": "execute_result"
    }
   ],
   "source": [
    "len(using_thin_files)"
   ]
  },
  {
   "cell_type": "code",
   "execution_count": 476,
   "id": "a6f5374a",
   "metadata": {},
   "outputs": [],
   "source": [
    "cases_having_large_lesions = ['000273_20190531_chest', '000325_20190919_chest', 'SN002_20190801_abdomen', 'BH069_20200505_chest', 'SN029_20200301_abdomen']\n",
    "files_having_large_lesions = [case_to_file(case) for case in cases_having_large_lesions]"
   ]
  },
  {
   "cell_type": "code",
   "execution_count": 477,
   "id": "8a19b205",
   "metadata": {},
   "outputs": [],
   "source": [
    "# 이것들은 train으로 무조건 포함. \n",
    "train_only_files = ['000391_20200216_Thoracic Aorta CT Angio+3D (contrast).npy',\n",
    "'BH040_20200101_CT Angio + 3D Pulmonary artery (Embolism) (2).npy',\n",
    "'000301_20190801_Pulmonary artery CT Angio+3D (contrast).npy', \n",
    "'000301_20190801_abdomen.npy', '000301_20190827_chest.npy'\n",
    "]"
   ]
  },
  {
   "cell_type": "code",
   "execution_count": 478,
   "id": "f06448b1",
   "metadata": {},
   "outputs": [
    {
     "data": {
      "text/plain": [
       "['000301_20190801_Pulmonary artery CT Angio+3D (contrast).npy',\n",
       " '000301_20190801_abdomen.npy',\n",
       " '000325_20190919_chest.npy',\n",
       " '000301_20190827_chest.npy',\n",
       " 'BH040_20200101_CT Angio + 3D Pulmonary artery (Embolism) (2).npy',\n",
       " '000273_20190531_chest.npy',\n",
       " 'SN029_20200301_chest.npy',\n",
       " 'BH069_20200505_chest.npy',\n",
       " 'SN002_20190801_chest.npy',\n",
       " '000391_20200216_Thoracic Aorta CT Angio+3D (contrast).npy']"
      ]
     },
     "execution_count": 478,
     "metadata": {},
     "output_type": "execute_result"
    }
   ],
   "source": [
    "# 위의 파일들과 patient_id가 겹치는 것은 train으로 넣어줘야함. \n",
    "pre_to_train_files = files_having_large_lesions + train_only_files\n",
    "pre_to_train_ids = [get_id(file) for file in to_train_files]\n",
    "to_train_idx = pd.Series(using_thin_files).str.startswith(tuple(pre_to_train_ids))\n",
    "to_train_files = list(pd.Series(using_thin_files)[to_train_idx].values)\n",
    "to_train_files"
   ]
  },
  {
   "cell_type": "code",
   "execution_count": 479,
   "id": "730b7b25",
   "metadata": {},
   "outputs": [
    {
     "data": {
      "text/plain": [
       "227"
      ]
     },
     "execution_count": 479,
     "metadata": {},
     "output_type": "execute_result"
    }
   ],
   "source": [
    "splitting_files = list(set(using_thin_files) - set(to_train_files))\n",
    "len(splitting_files)"
   ]
  },
  {
   "cell_type": "code",
   "execution_count": 480,
   "id": "c58021e2",
   "metadata": {
    "scrolled": true
   },
   "outputs": [
    {
     "data": {
      "text/plain": [
       "161"
      ]
     },
     "execution_count": 480,
     "metadata": {},
     "output_type": "execute_result"
    }
   ],
   "source": [
    "# 쪼갤 파일은 splitting_files,\n",
    "# id base 로 쪼개자. \n",
    "personal_ids = [get_id(file_name) for file_name in splitting_files]\n",
    "unique_ids = list(set(personal_ids))\n",
    "random_order_ids = np.random.permutation(unique_ids) \n",
    "len(random_order_ids)"
   ]
  },
  {
   "cell_type": "code",
   "execution_count": 481,
   "id": "d73f2300",
   "metadata": {},
   "outputs": [],
   "source": [
    "train_ids = random_order_ids[:109]\n",
    "val_ids = random_order_ids[109:135]\n",
    "test_ids = random_order_ids[135:]"
   ]
  },
  {
   "cell_type": "code",
   "execution_count": 482,
   "id": "a101f651",
   "metadata": {},
   "outputs": [],
   "source": [
    "def get_files_by_ids(cases, ids):\n",
    "    case_by_id_idx = pd.Series(cases).str.startswith(tuple(ids))\n",
    "    return list(pd.Series(cases)[case_by_id_idx])"
   ]
  },
  {
   "cell_type": "code",
   "execution_count": 483,
   "id": "cc5208f0",
   "metadata": {},
   "outputs": [],
   "source": [
    "train_files = get_files_by_ids(splitting_files, train_ids)\n",
    "val_files = get_files_by_ids(splitting_files, val_ids)\n",
    "test_files = get_files_by_ids(splitting_files, test_ids)"
   ]
  },
  {
   "cell_type": "code",
   "execution_count": 484,
   "id": "8fa75695",
   "metadata": {},
   "outputs": [
    {
     "name": "stdout",
     "output_type": "stream",
     "text": [
      "\n",
      "train files: 154\n",
      "val files: 35\n",
      "test files: 38\n"
     ]
    }
   ],
   "source": [
    "print(f\"\"\"\n",
    "train files: {len(train_files)}\n",
    "val files: {len(val_files)}\n",
    "test files: {len(test_files)}\"\"\")"
   ]
  },
  {
   "cell_type": "code",
   "execution_count": 485,
   "id": "f83c923f",
   "metadata": {},
   "outputs": [
    {
     "data": {
      "text/plain": [
       "164"
      ]
     },
     "execution_count": 485,
     "metadata": {},
     "output_type": "execute_result"
    }
   ],
   "source": [
    "train_files_final = train_files + to_train_files\n",
    "len(train_files_final)"
   ]
  },
  {
   "cell_type": "markdown",
   "id": "74c93437",
   "metadata": {},
   "source": [
    "### Final dataset"
   ]
  },
  {
   "cell_type": "code",
   "execution_count": 486,
   "id": "23115840",
   "metadata": {},
   "outputs": [
    {
     "name": "stdout",
     "output_type": "stream",
     "text": [
      "\n",
      "TRAIN_FILES = ['000376_20200101_abdomen.npy', '000400_20200210_chest.npy', 'BH018_20190801_abdomen.npy', 'BH062_20201104_chest.npy', '000262_20190501_abdomen.npy', 'BH007_20190801_abdomen.npy', 'BH072_20200219_chest.npy', '000251_20190701_abdomen.npy', '000368_20200101_abdomen.npy', 'BH007_20190801_chest.npy', '000224_20190228_chest.npy', 'BH066_20190525_chest.npy', 'SN054_20170201_chest.npy', '000246_20190629_chest.npy', 'SN031_20160501_chest.npy', 'SN051_20170401_chest.npy', '000272_20190614_chest.npy', '000396_20200218_chest.npy', '000305_20190801_abdomen.npy', '000450_20200501_abdomen.npy', 'BH018_20190801_chest.npy', '000404_20200305_chest.npy', 'BH020_20191201_chest.npy', 'BH008_20190701_chest.npy', 'BH021_20181001_abdomen.npy', '000352_20191017_chest.npy', 'SN036_20190601_chest.npy', 'BH045_20181001_chest.npy', '000348_20191201_CT Liver (contrast).npy', '000262_20190318_chest.npy', '000350_20190927_chest.npy', 'BH025_20191101_abdomen.npy', '000021_20181227_chest.npy', 'BH055_20200328_chest.npy', '000372_20200107_chest.npy', '000270_20190608_chest.npy', 'BH002_20190701_chest.npy', '000386_20200204_chest.npy', 'BH005_20170701_abdomen.npy', 'BH036_20180301_GU Kidney & bladder CT (3D).npy', '000331_20190916_chest.npy', 'BH013_20191001_chest.npy', '000009_20180417_chest.npy', '000291_20190718_chest.npy', '000316_20190715_Spine^L_SPINE (Adult).npy', 'BH027_20191001_chest.npy', '000302_20190726_chest.npy', '000304_20190124_chest.npy', 'BH008_20190701_abdomen.npy', '000272_20190601_abdomen.npy', 'BH043_20191001_chest.npy', 'BH043_20191001_abdomen.npy', 'BH061_20190315_chest.npy', '000396_20200201_abdomen.npy', '000019_20181018_chest.npy', '000316_20190627_chest.npy', '000311_20190902_chest.npy', '000332_20191001_abdomen.npy', 'BH037_20171101_abdomen.npy', 'BH024_20190501_abdomen.npy', '000356_20191024_chest.npy', '000331_20190901_abdomen.npy', '000091_20180504_chest.npy', '000286_20190701_abdomen.npy', 'SN055_20170301_chest.npy', 'SN005_20191101_chest.npy', 'BH070_20160823_chest.npy', '000330_20190926_chest.npy', 'BH061_20190315_abdomen.npy', 'BH024_20190501_chest.npy', 'BH032_20180701_abdomen.npy', 'SN056_20170601_Thorax^01_Lung_Cancer_3D (Adult).npy', '000309_20190801_abdomen.npy', 'BH005_20170701_chest.npy', '000285_20190807_chest.npy', '000363_20191222_chest.npy', '000080_20180911_chest.npy', '000291_20190701_abdomen.npy', 'SN007_20190701_chest.npy', '000332_20191025_chest.npy', 'BH064_20200605_chest.npy', 'BH026_20190601_abdomen.npy', 'SN015_20190901_chest.npy', '000079_20180911_Pulmonary artery CT Angio+3D (contrast).npy', '000285_20190801_abdomen.npy', 'BH023_20191101_chest.npy', '000011_20181207_chest.npy', '000242_20190409_chest.npy', 'BH004_20191101_chest.npy', '000269_20190604_chest.npy', 'SN017_20190701_chest.npy', 'BH063_20200519_chest.npy', 'BH064_20200605_abdomen.npy', 'BH016_20151001_chest.npy', 'BH051_20190301_GU Kidney & bladder CT (3D).npy', '000324_20190910_chest.npy', 'BH060_20200413_chest.npy', '000300_20190801_abdomen.npy', 'BH019_20191101_chest.npy', '000048_20190501_abdomen.npy', '000315_20190820_chest.npy', '000352_20191001_abdomen.npy', '000282_20190701_abdomen.npy', '000310_20190812_chest.npy', '000193_20190114_chest.npy', '000362_20191214_chest.npy', 'BH037_20171101_chest.npy', '000279_20190614_chest.npy', '000162_20180131_chest.npy', '000279_20190601_abdomen.npy', 'BH091_20200104_GU Kidney & bladder CT (3D).npy', '000262_20190529_chest.npy', '000450_20200512_chest.npy', '000251_20190429_chest.npy', 'BH072_20200219_abdomen.npy', '000022_20180830_chest.npy', 'BH006_20170801_chest.npy', 'BH021_20181001_chest.npy', '000296_20190726_chest.npy', '000309_20190823_chest.npy', 'BH039_20190601_chest.npy', 'BH023_20191101_abdomen.npy', 'BH010_20161101_abdomen.npy', '000012_20181214_chest.npy', 'BH065_20201013_chest.npy', 'BH045_20181001_abdomen.npy', 'BH054_20191122_abdomen.npy', '000382_20200129_chest.npy', '000310_20190801_abdomen.npy', '000019_20190613_chest.npy', 'BH056_20200721_chest.npy', '000382_20200101_abdomen.npy', 'BH020_20191201_abdomen.npy', 'BH031_20160301_CT Angio + 3D Pulmonary artery (Embolism).npy', '000269_20190601_abdomen.npy', '000404_20200201_abdomen.npy', 'SN013_20190401_chest.npy', '000344_20191125_chest.npy', 'BH110_20200616_chest.npy', '000356_20190901_abdomen.npy', 'BH016_20151001_abdomen.npy', 'BH091_20200104_chest.npy', '000251_20190703_chest.npy', '000363_20191201_abdomen.npy', '000376_20200114_chest.npy', '000350_20191001_abdomen.npy', '000212_20190324_chest.npy', '000278_20190620_chest.npy', '000362_20191201_abdomen.npy', '000372_20200101_abdomen.npy', 'BH032_20180701_chest.npy', 'BH010_20161101_chest.npy', 'BH035_20191101_GU Kidney & bladder CT (3D).npy', '000400_20200201_CT Biliary (contrast).npy', '000301_20190801_Pulmonary artery CT Angio+3D (contrast).npy', '000301_20190801_abdomen.npy', '000325_20190919_chest.npy', '000301_20190827_chest.npy', 'BH040_20200101_CT Angio + 3D Pulmonary artery (Embolism) (2).npy', '000273_20190531_chest.npy', 'SN029_20200301_chest.npy', 'BH069_20200505_chest.npy', 'SN002_20190801_chest.npy', '000391_20200216_Thoracic Aorta CT Angio+3D (contrast).npy']\n",
      "\n",
      "VAL_FILES = ['000364_20191201_abdomen.npy', '000364_20191217_chest.npy', 'BH012_20180401_abdomen.npy', '000085_20180829_chest.npy', '000397_20200214_chest.npy', '000223_20190319_chest.npy', '000322_20190901_abdomen.npy', 'BH081_20190322_abdomen.npy', 'BH048_20190501_chest.npy', 'BH015_20190101_abdomen.npy', 'BH029_20200101_chest.npy', 'BH099_20200806_chest.npy', 'BH012_20180401_chest.npy', 'SN008_20190901_chest.npy', 'SN019_20190801_chest.npy', 'SN025_20200401_chest.npy', 'SN004_20190901_chest.npy', '000308_20190801_abdomen.npy', 'BH015_20190101_chest.npy', 'BH059_20201019_chest.npy', '000452_20200513_chest.npy', '000232_20190423_chest.npy', 'BH034_20190901_chest.npy', 'BH034_20190901_abdomen.npy', 'BH099_20200806_abdomen.npy', 'BH028_20190801_chest.npy', '000308_20190826_chest.npy', '000002_20180829_chest.npy', '000232_20190401_abdomen.npy', 'SN042_20170901_chest.npy', 'BH059_20201013_abdomen.npy', '000025_20180808_chest.npy', 'BH067_20191017_chest.npy', '000069_20180319_chest.npy', '000322_20190913_chest.npy']\n",
      "\n",
      "TEST_FILES = ['000355_20190901_abdomen.npy', '000234_20190401_abdomen.npy', '000255_20190418_chest.npy', '000281_20190701_chest.npy', 'SN016_20190901_chest.npy', '000236_20190401_abdomen.npy', '000288_20190701_abdomen.npy', 'BH057_20191227_chest.npy', '000234_20190419_chest.npy', 'BH001_20190501_abdomen.npy', 'BH014_20181201_chest.npy', '000314_20190827_chest.npy', '000276_20190604_chest.npy', '000314_20190901_abdomen.npy', '000298_20190726_chest.npy', 'BH047_20180901_abdomen.npy', 'BH017_20191201_abdomen.npy', 'BH001_20190401_chest.npy', 'BH022_20190101_chest.npy', '000383_20200121_chest.npy', 'SN028_20160801_chest.npy', '000260_20190522_chest.npy', 'BH112_20190201_chest.npy', 'BH009_20180301_abdomen.npy', 'BH047_20180901_chest.npy', 'BH057_20191227_abdomen.npy', '000354_20191001_abdomen.npy', 'BH052_20190901_abdomen.npy', '000355_20191023_chest.npy', 'BH058_20180918_chest.npy', 'BH017_20191201_chest.npy', 'BH009_20180301_chest.npy', '000354_20191022_chest.npy', 'BH052_20190901_chest.npy', '000244_20190501_abdomen.npy', '000260_20190501_CT Liver (contrast).npy', 'BH014_20181201_abdomen.npy', '000214_20190325_chest.npy']\n",
      "\n"
     ]
    }
   ],
   "source": [
    "print(f\"\"\"\n",
    "TRAIN_FILES = {train_files_final}\n",
    "\n",
    "VAL_FILES = {val_files}\n",
    "\n",
    "TEST_FILES = {test_files}\n",
    "\"\"\")"
   ]
  },
  {
   "cell_type": "markdown",
   "id": "9a7bec4e",
   "metadata": {},
   "source": [
    "TRAIN_FILES = ['000376_20200101_abdomen.npy', '000400_20200210_chest.npy', 'BH018_20190801_abdomen.npy', 'BH062_20201104_chest.npy', '000262_20190501_abdomen.npy', 'BH007_20190801_abdomen.npy', 'BH072_20200219_chest.npy', '000251_20190701_abdomen.npy', '000368_20200101_abdomen.npy', 'BH007_20190801_chest.npy', '000224_20190228_chest.npy', 'BH066_20190525_chest.npy', 'SN054_20170201_chest.npy', '000246_20190629_chest.npy', 'SN031_20160501_chest.npy', 'SN051_20170401_chest.npy', '000272_20190614_chest.npy', '000396_20200218_chest.npy', '000305_20190801_abdomen.npy', '000450_20200501_abdomen.npy', 'BH018_20190801_chest.npy', '000404_20200305_chest.npy', 'BH020_20191201_chest.npy', 'BH008_20190701_chest.npy', 'BH021_20181001_abdomen.npy', '000352_20191017_chest.npy', 'SN036_20190601_chest.npy', 'BH045_20181001_chest.npy', '000348_20191201_CT Liver (contrast).npy', '000262_20190318_chest.npy', '000350_20190927_chest.npy', 'BH025_20191101_abdomen.npy', '000021_20181227_chest.npy', 'BH055_20200328_chest.npy', '000372_20200107_chest.npy', '000270_20190608_chest.npy', 'BH002_20190701_chest.npy', '000386_20200204_chest.npy', 'BH005_20170701_abdomen.npy', 'BH036_20180301_GU Kidney & bladder CT (3D).npy', '000331_20190916_chest.npy', 'BH013_20191001_chest.npy', '000009_20180417_chest.npy', '000291_20190718_chest.npy', '000316_20190715_Spine^L_SPINE (Adult).npy', 'BH027_20191001_chest.npy', '000302_20190726_chest.npy', '000304_20190124_chest.npy', 'BH008_20190701_abdomen.npy', '000272_20190601_abdomen.npy', 'BH043_20191001_chest.npy', 'BH043_20191001_abdomen.npy', 'BH061_20190315_chest.npy', '000396_20200201_abdomen.npy', '000019_20181018_chest.npy', '000316_20190627_chest.npy', '000311_20190902_chest.npy', '000332_20191001_abdomen.npy', 'BH037_20171101_abdomen.npy', 'BH024_20190501_abdomen.npy', '000356_20191024_chest.npy', '000331_20190901_abdomen.npy', '000091_20180504_chest.npy', '000286_20190701_abdomen.npy', 'SN055_20170301_chest.npy', 'SN005_20191101_chest.npy', 'BH070_20160823_chest.npy', '000330_20190926_chest.npy', 'BH061_20190315_abdomen.npy', 'BH024_20190501_chest.npy', 'BH032_20180701_abdomen.npy', 'SN056_20170601_Thorax^01_Lung_Cancer_3D (Adult).npy', '000309_20190801_abdomen.npy', 'BH005_20170701_chest.npy', '000285_20190807_chest.npy', '000363_20191222_chest.npy', '000080_20180911_chest.npy', '000291_20190701_abdomen.npy', 'SN007_20190701_chest.npy', '000332_20191025_chest.npy', 'BH064_20200605_chest.npy', 'BH026_20190601_abdomen.npy', 'SN015_20190901_chest.npy', '000079_20180911_Pulmonary artery CT Angio+3D (contrast).npy', '000285_20190801_abdomen.npy', 'BH023_20191101_chest.npy', '000011_20181207_chest.npy', '000242_20190409_chest.npy', 'BH004_20191101_chest.npy', '000269_20190604_chest.npy', 'SN017_20190701_chest.npy', 'BH063_20200519_chest.npy', 'BH064_20200605_abdomen.npy', 'BH016_20151001_chest.npy', 'BH051_20190301_GU Kidney & bladder CT (3D).npy', '000324_20190910_chest.npy', 'BH060_20200413_chest.npy', '000300_20190801_abdomen.npy', 'BH019_20191101_chest.npy', '000048_20190501_abdomen.npy', '000315_20190820_chest.npy', '000352_20191001_abdomen.npy', '000282_20190701_abdomen.npy', '000310_20190812_chest.npy', '000193_20190114_chest.npy', '000362_20191214_chest.npy', 'BH037_20171101_chest.npy', '000279_20190614_chest.npy', '000162_20180131_chest.npy', '000279_20190601_abdomen.npy', 'BH091_20200104_GU Kidney & bladder CT (3D).npy', '000262_20190529_chest.npy', '000450_20200512_chest.npy', '000251_20190429_chest.npy', 'BH072_20200219_abdomen.npy', '000022_20180830_chest.npy', 'BH006_20170801_chest.npy', 'BH021_20181001_chest.npy', '000296_20190726_chest.npy', '000309_20190823_chest.npy', 'BH039_20190601_chest.npy', 'BH023_20191101_abdomen.npy', 'BH010_20161101_abdomen.npy', '000012_20181214_chest.npy', 'BH065_20201013_chest.npy', 'BH045_20181001_abdomen.npy', 'BH054_20191122_abdomen.npy', '000382_20200129_chest.npy', '000310_20190801_abdomen.npy', '000019_20190613_chest.npy', 'BH056_20200721_chest.npy', '000382_20200101_abdomen.npy', 'BH020_20191201_abdomen.npy', 'BH031_20160301_CT Angio + 3D Pulmonary artery (Embolism).npy', '000269_20190601_abdomen.npy', '000404_20200201_abdomen.npy', 'SN013_20190401_chest.npy', '000344_20191125_chest.npy', 'BH110_20200616_chest.npy', '000356_20190901_abdomen.npy', 'BH016_20151001_abdomen.npy', 'BH091_20200104_chest.npy', '000251_20190703_chest.npy', '000363_20191201_abdomen.npy', '000376_20200114_chest.npy', '000350_20191001_abdomen.npy', '000212_20190324_chest.npy', '000278_20190620_chest.npy', '000362_20191201_abdomen.npy', '000372_20200101_abdomen.npy', 'BH032_20180701_chest.npy', 'BH010_20161101_chest.npy', 'BH035_20191101_GU Kidney & bladder CT (3D).npy', '000400_20200201_CT Biliary (contrast).npy', '000301_20190801_Pulmonary artery CT Angio+3D (contrast).npy', '000301_20190801_abdomen.npy', '000325_20190919_chest.npy', '000301_20190827_chest.npy', 'BH040_20200101_CT Angio + 3D Pulmonary artery (Embolism) (2).npy', '000273_20190531_chest.npy', 'SN029_20200301_chest.npy', 'BH069_20200505_chest.npy', 'SN002_20190801_chest.npy', '000391_20200216_Thoracic Aorta CT Angio+3D (contrast).npy']\n",
    "\n",
    "VAL_FILES = ['000364_20191201_abdomen.npy', '000364_20191217_chest.npy', 'BH012_20180401_abdomen.npy', '000085_20180829_chest.npy', '000397_20200214_chest.npy', '000223_20190319_chest.npy', '000322_20190901_abdomen.npy', 'BH081_20190322_abdomen.npy', 'BH048_20190501_chest.npy', 'BH015_20190101_abdomen.npy', 'BH029_20200101_chest.npy', 'BH099_20200806_chest.npy', 'BH012_20180401_chest.npy', 'SN008_20190901_chest.npy', 'SN019_20190801_chest.npy', 'SN025_20200401_chest.npy', 'SN004_20190901_chest.npy', '000308_20190801_abdomen.npy', 'BH015_20190101_chest.npy', 'BH059_20201019_chest.npy', '000452_20200513_chest.npy', '000232_20190423_chest.npy', 'BH034_20190901_chest.npy', 'BH034_20190901_abdomen.npy', 'BH099_20200806_abdomen.npy', 'BH028_20190801_chest.npy', '000308_20190826_chest.npy', '000002_20180829_chest.npy', '000232_20190401_abdomen.npy', 'SN042_20170901_chest.npy', 'BH059_20201013_abdomen.npy', '000025_20180808_chest.npy', 'BH067_20191017_chest.npy', '000069_20180319_chest.npy', '000322_20190913_chest.npy']\n",
    "\n",
    "TEST_FILES = ['000355_20190901_abdomen.npy', '000234_20190401_abdomen.npy', '000255_20190418_chest.npy', '000281_20190701_chest.npy', 'SN016_20190901_chest.npy', '000236_20190401_abdomen.npy', '000288_20190701_abdomen.npy', 'BH057_20191227_chest.npy', '000234_20190419_chest.npy', 'BH001_20190501_abdomen.npy', 'BH014_20181201_chest.npy', '000314_20190827_chest.npy', '000276_20190604_chest.npy', '000314_20190901_abdomen.npy', '000298_20190726_chest.npy', 'BH047_20180901_abdomen.npy', 'BH017_20191201_abdomen.npy', 'BH001_20190401_chest.npy', 'BH022_20190101_chest.npy', '000383_20200121_chest.npy', 'SN028_20160801_chest.npy', '000260_20190522_chest.npy', 'BH112_20190201_chest.npy', 'BH009_20180301_abdomen.npy', 'BH047_20180901_chest.npy', 'BH057_20191227_abdomen.npy', '000354_20191001_abdomen.npy', 'BH052_20190901_abdomen.npy', '000355_20191023_chest.npy', 'BH058_20180918_chest.npy', 'BH017_20191201_chest.npy', 'BH009_20180301_chest.npy', '000354_20191022_chest.npy', 'BH052_20190901_chest.npy', '000244_20190501_abdomen.npy', '000260_20190501_CT Liver (contrast).npy', 'BH014_20181201_abdomen.npy', '000214_20190325_chest.npy']"
   ]
  },
  {
   "cell_type": "code",
   "execution_count": null,
   "id": "c3975eda",
   "metadata": {},
   "outputs": [],
   "source": []
  },
  {
   "cell_type": "markdown",
   "id": "915542d1",
   "metadata": {},
   "source": [
    "# Check data distribution "
   ]
  },
  {
   "cell_type": "code",
   "execution_count": 487,
   "id": "a9f64db6",
   "metadata": {},
   "outputs": [],
   "source": [
    "exec(f\"\"\"\n",
    "TRAIN_FILES = {train_files_final}\n",
    "\n",
    "VAL_FILES = {val_files}\n",
    "\n",
    "TEST_FILES = {test_files}\n",
    "\"\"\")"
   ]
  },
  {
   "cell_type": "code",
   "execution_count": 488,
   "id": "c377d976",
   "metadata": {},
   "outputs": [],
   "source": [
    "train_idx = data_info.Case.isin([file_to_case(file) for file in TRAIN_FILES])\n",
    "val_idx = data_info.Case.isin([file_to_case(file) for file in VAL_FILES])\n",
    "test_idx = data_info.Case.isin([file_to_case(file) for file in TEST_FILES])"
   ]
  },
  {
   "cell_type": "code",
   "execution_count": 489,
   "id": "f172d989",
   "metadata": {},
   "outputs": [],
   "source": [
    "data_info_train = data_info.loc[train_idx]\n",
    "data_info_val = data_info.loc[val_idx]\n",
    "data_info_test = data_info.loc[test_idx]"
   ]
  },
  {
   "cell_type": "markdown",
   "id": "6b378fe6",
   "metadata": {},
   "source": [
    "### Lesion types"
   ]
  },
  {
   "cell_type": "code",
   "execution_count": 490,
   "id": "085bb83a",
   "metadata": {},
   "outputs": [],
   "source": [
    "def show_lesion_type_num(data_info, title):\n",
    "    print(\n",
    "    f'''\n",
    "    {title}\n",
    "    data shape = {data_info.shape}, \n",
    "    Unique case number = {data_info.Case.unique().size}\n",
    "    Cases per lesion type \n",
    "     S : {data_info.loc[data_info['Lesion Type']=='S'].Case.unique().size}\n",
    "     L : {data_info.loc[data_info['Lesion Type']=='L'].Case.unique().size}\n",
    "     M : {data_info.loc[data_info['Lesion Type']=='M'].Case.unique().size}\n",
    "\n",
    "    I/V ratio = {data_info.loc[data_info['I/V']=='I'].shape[0]} / {data_info.loc[data_info['I/V']=='V'].shape[0]}\n",
    "    '''\n",
    "    )"
   ]
  },
  {
   "cell_type": "code",
   "execution_count": 491,
   "id": "beea45ab",
   "metadata": {},
   "outputs": [
    {
     "name": "stdout",
     "output_type": "stream",
     "text": [
      "\n",
      "    Train\n",
      "    data shape = (1755, 15), \n",
      "    Unique case number = 164\n",
      "    Cases per lesion type \n",
      "     S : 124\n",
      "     L : 81\n",
      "     M : 66\n",
      "\n",
      "    I/V ratio = 449 / 1306\n",
      "    \n",
      "\n",
      "    Validation\n",
      "    data shape = (365, 15), \n",
      "    Unique case number = 35\n",
      "    Cases per lesion type \n",
      "     S : 27\n",
      "     L : 23\n",
      "     M : 18\n",
      "\n",
      "    I/V ratio = 101 / 264\n",
      "    \n",
      "\n",
      "    Test\n",
      "    data shape = (289, 15), \n",
      "    Unique case number = 38\n",
      "    Cases per lesion type \n",
      "     S : 28\n",
      "     L : 22\n",
      "     M : 11\n",
      "\n",
      "    I/V ratio = 80 / 209\n",
      "    \n"
     ]
    }
   ],
   "source": [
    "show_lesion_type_num(data_info_train, 'Train')\n",
    "show_lesion_type_num(data_info_val, 'Validation')\n",
    "show_lesion_type_num(data_info_test, 'Test')"
   ]
  },
  {
   "cell_type": "markdown",
   "id": "9e0cc9ed",
   "metadata": {},
   "source": [
    "### Lesion size "
   ]
  },
  {
   "cell_type": "code",
   "execution_count": 498,
   "id": "a6eb6f16",
   "metadata": {},
   "outputs": [],
   "source": [
    "def show_hist(data_info, ax, type=\"All\", log=False, n_bin = 20, title=''):\n",
    "    if ax is None:\n",
    "        ax = plt.gca()\n",
    "    if log:\n",
    "        if type == 'All':\n",
    "            ax.hist(data_info['Lesion Volume'].apply(np.log), bins = n_bin, density=True)\n",
    "        else:\n",
    "            ax.hist(data_info.loc[data_info['Lesion Type']==type]['Lesion Volume'].apply(np.log), bins = n_bin, density=True)\n",
    "    else:\n",
    "        if type == 'All':\n",
    "            ax.hist(data_info['Lesion Volume'], bins = n_bin, density=True)\n",
    "        else:\n",
    "            ax.hist(data_info.loc[data_info['Lesion Type']==type]['Lesion Volume'], bins = n_bin, density=True)\n",
    "    \n",
    "    ax.set_title(label = title)\n",
    "    return ax"
   ]
  },
  {
   "cell_type": "code",
   "execution_count": 499,
   "id": "421b8946",
   "metadata": {},
   "outputs": [],
   "source": [
    "def show_lesion_volume_per_type(data_info):\n",
    "    fig, axes = plt.subplots(ncols=4, nrows=1, figsize=(16,4), sharey= True,sharex= True)\n",
    "    show_hist(data_info, axes[0], title='log All size', log=True)\n",
    "    show_hist(data_info, axes[1], type='S', title='log S size', log=True)\n",
    "    show_hist(data_info, axes[2], type='L', title='log L size', log=True)\n",
    "    show_hist(data_info, axes[3], type='M', title='log M size', log=True)\n",
    "    fig.show()"
   ]
  },
  {
   "cell_type": "code",
   "execution_count": 500,
   "id": "e319e453",
   "metadata": {},
   "outputs": [
    {
     "data": {
      "image/png": "[encoded data removed]",
      "text/plain": [
       "<Figure size 1152x288 with 4 Axes>"
      ]
     },
     "metadata": {
      "needs_background": "light"
     },
     "output_type": "display_data"
    }
   ],
   "source": [
    "show_lesion_volume_per_type(data_info)"
   ]
  },
  {
   "cell_type": "code",
   "execution_count": 501,
   "id": "39b0329a",
   "metadata": {},
   "outputs": [
    {
     "data": {
      "image/png": "[encoded data removed]",
      "text/plain": [
       "<Figure size 1152x288 with 4 Axes>"
      ]
     },
     "metadata": {
      "needs_background": "light"
     },
     "output_type": "display_data"
    }
   ],
   "source": [
    "show_lesion_volume_per_type(data_info_train)"
   ]
  },
  {
   "cell_type": "code",
   "execution_count": 502,
   "id": "4b5f88c5",
   "metadata": {},
   "outputs": [
    {
     "data": {
      "image/png": "[encoded data removed]",
      "text/plain": [
       "<Figure size 1152x288 with 4 Axes>"
      ]
     },
     "metadata": {
      "needs_background": "light"
     },
     "output_type": "display_data"
    }
   ],
   "source": [
    "show_lesion_volume_per_type(data_info_val)"
   ]
  },
  {
   "cell_type": "code",
   "execution_count": 503,
   "id": "05a2f9b6",
   "metadata": {},
   "outputs": [
    {
     "data": {
      "image/png": "[encoded data removed]",
      "text/plain": [
       "<Figure size 1152x288 with 4 Axes>"
      ]
     },
     "metadata": {
      "needs_background": "light"
     },
     "output_type": "display_data"
    }
   ],
   "source": [
    "show_lesion_volume_per_type(data_info_test)"
   ]
  },
  {
   "cell_type": "code",
   "execution_count": 506,
   "id": "88015178",
   "metadata": {},
   "outputs": [],
   "source": [
    "def print_lesion_volumes(data_info):\n",
    "    print(\n",
    "f\"\"\"\n",
    "Lesion info \n",
    "{data_info['Lesion Volume'].describe()}\n",
    "\"\"\")"
   ]
  },
  {
   "cell_type": "code",
   "execution_count": 507,
   "id": "db3dd94b",
   "metadata": {},
   "outputs": [
    {
     "name": "stdout",
     "output_type": "stream",
     "text": [
      "\n",
      "Lesion info \n",
      "count      3176.000000\n",
      "mean       5624.488986\n",
      "std       16985.261917\n",
      "min           9.382044\n",
      "25%         315.352937\n",
      "50%        1093.596892\n",
      "75%        4035.549243\n",
      "max      434378.833181\n",
      "Name: Lesion Volume, dtype: float64\n",
      "\n"
     ]
    }
   ],
   "source": [
    "print_lesion_volumes(data_info)"
   ]
  },
  {
   "cell_type": "code",
   "execution_count": 508,
   "id": "bab1b84e",
   "metadata": {},
   "outputs": [
    {
     "name": "stdout",
     "output_type": "stream",
     "text": [
      "\n",
      "Lesion info \n",
      "count      1755.000000\n",
      "mean       5213.484224\n",
      "std       17300.973898\n",
      "min           9.382044\n",
      "25%         287.013148\n",
      "50%        1066.289062\n",
      "75%        4036.742348\n",
      "max      434378.833181\n",
      "Name: Lesion Volume, dtype: float64\n",
      "\n"
     ]
    }
   ],
   "source": [
    "print_lesion_volumes(data_info_train)"
   ]
  },
  {
   "cell_type": "code",
   "execution_count": 509,
   "id": "dc219897",
   "metadata": {},
   "outputs": [
    {
     "name": "stdout",
     "output_type": "stream",
     "text": [
      "\n",
      "Lesion info \n",
      "count       365.000000\n",
      "mean       4834.410067\n",
      "std       11239.811870\n",
      "min          26.117388\n",
      "25%         375.359098\n",
      "50%        1161.527344\n",
      "75%        3451.769350\n",
      "max      109366.179688\n",
      "Name: Lesion Volume, dtype: float64\n",
      "\n"
     ]
    }
   ],
   "source": [
    "print_lesion_volumes(data_info_val)"
   ]
  },
  {
   "cell_type": "code",
   "execution_count": 510,
   "id": "c46c6d67",
   "metadata": {},
   "outputs": [
    {
     "name": "stdout",
     "output_type": "stream",
     "text": [
      "\n",
      "Lesion info \n",
      "count       289.000000\n",
      "mean       7478.703466\n",
      "std       15507.264290\n",
      "min          29.269831\n",
      "25%         592.970703\n",
      "50%        2166.086608\n",
      "75%        6918.574345\n",
      "max      110990.310017\n",
      "Name: Lesion Volume, dtype: float64\n",
      "\n"
     ]
    }
   ],
   "source": [
    "print_lesion_volumes(data_info_test)"
   ]
  },
  {
   "cell_type": "code",
   "execution_count": null,
   "id": "ddfb3272",
   "metadata": {},
   "outputs": [],
   "source": []
  }
 ],
 "metadata": {
  "kernelspec": {
   "display_name": "Python 3",
   "language": "python",
   "name": "python3"
  },
  "language_info": {
   "codemirror_mode": {
    "name": "ipython",
    "version": 3
   },
   "file_extension": ".py",
   "mimetype": "text/x-python",
   "name": "python",
   "nbconvert_exporter": "python",
   "pygments_lexer": "ipython3",
   "version": "3.6.9"
  }
 },
 "nbformat": 4,
 "nbformat_minor": 5
}
