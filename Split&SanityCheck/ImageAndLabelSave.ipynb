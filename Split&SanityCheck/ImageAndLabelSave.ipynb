{
 "cells": [
  {
   "cell_type": "code",
   "execution_count": 1,
   "id": "2c1f8a47",
   "metadata": {},
   "outputs": [],
   "source": [
    "import os\n",
    "import numpy as np\n",
    "import matplotlib.pyplot as plt\n",
    "import SimpleITK as sitk"
   ]
  },
  {
   "cell_type": "code",
   "execution_count": 2,
   "id": "b5b5d7af",
   "metadata": {},
   "outputs": [],
   "source": [
    "BASE_DIR = '/workspace/BoneMeta_nnUNet'\n",
    "IMG_FOLDER_NAME = 'images'\n",
    "LABEL_FOLDER_NAME = 'labels'"
   ]
  },
  {
   "cell_type": "code",
   "execution_count": 3,
   "id": "23f66a40",
   "metadata": {},
   "outputs": [
    {
     "data": {
      "text/plain": [
       "True"
      ]
     },
     "execution_count": 3,
     "metadata": {},
     "output_type": "execute_result"
    }
   ],
   "source": [
    "IMG_DIR = os.path.join(BASE_DIR, IMG_FOLDER_NAME)\n",
    "LABEL_DIR = os.path.join(BASE_DIR, LABEL_FOLDER_NAME)\n",
    "\n",
    "IMG_FILES = os.listdir(IMG_DIR)\n",
    "LABEL_FILES = os.listdir(LABEL_DIR)\n",
    "\n",
    "def get_img_path(file): \n",
    "    return os.path.join(IMG_DIR, file)\n",
    "\n",
    "def get_label_path(file):\n",
    "    return os.path.join(LABEL_DIR, file)\n",
    "\n",
    "def case_to_file(case):\n",
    "    return case+'.npy'\n",
    "\n",
    "def file_to_case(file_name):\n",
    "    return file_name.split('.')[0]\n",
    "\n",
    "set(IMG_FILES).issubset(LABEL_FILES)"
   ]
  },
  {
   "cell_type": "code",
   "execution_count": 4,
   "id": "6297b254",
   "metadata": {},
   "outputs": [],
   "source": [
    "def get_image_file(filename):\n",
    "    return np.load(get_img_path(filename))\n",
    "\n",
    "def get_label_file(filename):\n",
    "    return np.load(get_label_path(filename))"
   ]
  },
  {
   "cell_type": "code",
   "execution_count": 5,
   "id": "e1ac5cc7",
   "metadata": {},
   "outputs": [
    {
     "name": "stdout",
     "output_type": "stream",
     "text": [
      "/workspace/BoneMeta_nnUNet/images 450\n",
      "/workspace/BoneMeta_nnUNet/labels 450\n"
     ]
    }
   ],
   "source": [
    "print(IMG_DIR, len(IMG_FILES))\n",
    "print(LABEL_DIR, len(LABEL_FILES))"
   ]
  },
  {
   "cell_type": "code",
   "execution_count": 6,
   "id": "4e95e530-0d6c-4f70-bec4-8f416a8f2fc9",
   "metadata": {},
   "outputs": [],
   "source": [
    "# 케이스별 DICOM 읽기: case_name, base_dir -> npy\n",
    "def dcm_to_numpy(case_name, base_dir):\n",
    "  dicoms = sorted(glob.glob(f'{base_dir}/{case_name}/*'))\n",
    "  dcm_reader = sitk.ImageSeriesReader()\n",
    "  dcm_reader.SetFileNames(dicoms)\n",
    "  img_arr = sitk.GetArrayFromImage(dcm_reader.Execute())\n",
    "  return img_arr\n",
    "\n",
    "def slice_img(img, offset, end, interval):\n",
    "  if end is None:\n",
    "    end = len(img)\n",
    "  else: \n",
    "    if end > len(img): \n",
    "      end = len(img)\n",
    "    if end <= offset:\n",
    "      end = offset + 1\n",
    "  return img[offset:end:interval]\n",
    "\n",
    "def show_numpy_img(np_img, offset=0, end=None, interval=5, title=''): \n",
    "  sliced_img = slice_img(np_img, offset, end, interval)\n",
    "\n",
    "  figsize_per_img = 3\n",
    "  num_col = 5\n",
    "  num_row = int(np.ceil(sliced_img.shape[0] / num_col))\n",
    "  # fig, axs = plt.subplots(num_row, num_col, figsize = (figsize_per_img*num_col, figsize_per_img*num_row))\n",
    "  plt.figure(figsize=(figsize_per_img*num_col, figsize_per_img*num_row))\n",
    "  for i, img in enumerate(sliced_img):\n",
    "    if i >= num_col*num_row:\n",
    "      continue\n",
    "    # axs[i].imshow(img)\n",
    "    plt.subplot(num_row, num_col, i+1)\n",
    "    plt.imshow(img, 'gray')\n",
    "    # plt.title()\n",
    "  plt.suptitle(title)\n",
    "  plt.tight_layout()\n",
    "  plt.show()\n",
    "\n",
    "# npy image windowing 하기\n",
    "def adjust_window(image, window):\n",
    "    width = window[0]\n",
    "    level = window[1]\n",
    "    upper = level+width/2\n",
    "    lower = level-width/2\n",
    "    copied_image = image.copy()\n",
    "    copied_image[copied_image<lower] = lower\n",
    "    copied_image[copied_image>upper] = upper\n",
    "    copied_image = copied_image-lower\n",
    "    return (copied_image/(upper-lower)*255).round().astype(np.uint8)\n",
    "\n",
    "# # 2nd version\n",
    "# def adjust_window(image, window):\n",
    "#     width = window[0]\n",
    "#     level = window[1]\n",
    "#     upper = level+width/2\n",
    "#     lower = level-width/2\n",
    "#     copied_image = image.clip(lower, upper)\n",
    "#     copied_image = copied_image-lower\n",
    "#     return (copied_image/(upper-lower)*255)\n",
    "\n",
    "#npy image 정보 보여주기 \n",
    "def show_img_info(np_img):\n",
    "  print('Shape:', np_img.shape)\n",
    "  print('DType:', np_img.dtype)\n",
    "  print('Max:', np_img.max())\n",
    "  print('Min:', np_img.min())\n",
    "  print(np_img)"
   ]
  },
  {
   "cell_type": "code",
   "execution_count": 7,
   "id": "acfeaa2c",
   "metadata": {},
   "outputs": [],
   "source": [
    "#image, label 동시에 그리고 저장\n",
    "def save_img_and_label(np_img, label, casename, interval = 2, offset = 0, end=None, figsize_per_image = 5):\n",
    "  sliced_img = slice_img(np_img, offset, end, interval)\n",
    "  sliced_label = slice_img(label, offset, end, interval)\n",
    "  \n",
    "  num_row = len(sliced_img)\n",
    "  num_col = 2\n",
    "\n",
    "  save_dir = f'{BASE_DIR}/image_check/{casename}'\n",
    "  os.makedirs(save_dir, exist_ok=True)\n",
    "\n",
    "  for i in range(0, num_row):\n",
    "    f = plt.figure(figsize=(figsize_per_image*num_col, figsize_per_image))\n",
    "    f.patch.set_facecolor('black')\n",
    "    plt.subplot(1, num_col, 1)\n",
    "    tissue_image = sliced_img[i]\n",
    "    plt.imshow(tissue_image, 'gray')\n",
    "\n",
    "    plt.subplot(1, num_col, 2)\n",
    "    mask = sliced_label[i]\n",
    "    label_on_tissue = sitk.LabelMapContourOverlay(sitk.Cast(sitk.GetImageFromArray(mask), sitk.sitkLabelUInt8), sitk.GetImageFromArray(tissue_image), opacity=0.7, contourThickness=[2,2], colormap=(0,255,0))\n",
    "    plt.imshow(sitk.GetArrayFromImage(label_on_tissue), 'gray')\n",
    "\n",
    "    plt.tight_layout()\n",
    "    plt.savefig(f'{save_dir}/{i}.png')\n",
    "    plt.close()\n",
    "#   plt.show()"
   ]
  },
  {
   "cell_type": "code",
   "execution_count": 8,
   "id": "56f80c6a",
   "metadata": {
    "scrolled": true
   },
   "outputs": [
    {
     "data": {
      "text/plain": [
       "['BH001_20190501_Abdomen_&_pelvis_CT_(3D).npy',\n",
       " '000362_20191214_Chest_CT_(contrast).npy',\n",
       " 'BH010_20161101_Chest_CT_(contrast)_+_3D_(Breast_with_other_CT).npy',\n",
       " 'BH005_20170707_Chest_CT_(contrast)_+_3D_(Breast_with_other_CT).npy',\n",
       " '000269_20190325_CT_Abdomen+Pelvis_Dynamic_(contrast).npy']"
      ]
     },
     "execution_count": 8,
     "metadata": {},
     "output_type": "execute_result"
    }
   ],
   "source": [
    "IMG_FILES[:5]"
   ]
  },
  {
   "cell_type": "code",
   "execution_count": 9,
   "id": "8faabe95",
   "metadata": {},
   "outputs": [
    {
     "data": {
      "text/plain": [
       "['BH001_20190501_Abdomen_&_pelvis_CT_(3D).npy',\n",
       " '000362_20191214_Chest_CT_(contrast).npy',\n",
       " 'BH010_20161101_Chest_CT_(contrast)_+_3D_(Breast_with_other_CT).npy',\n",
       " 'BH005_20170707_Chest_CT_(contrast)_+_3D_(Breast_with_other_CT).npy',\n",
       " '000269_20190325_CT_Abdomen+Pelvis_Dynamic_(contrast).npy']"
      ]
     },
     "execution_count": 9,
     "metadata": {},
     "output_type": "execute_result"
    }
   ],
   "source": [
    "LABEL_FILES[:5]"
   ]
  },
  {
   "cell_type": "code",
   "execution_count": 10,
   "id": "47ab5c2b",
   "metadata": {},
   "outputs": [],
   "source": [
    "def file_test_save(filename):\n",
    "    image = get_image_file(filename)\n",
    "    adj_image = adjust_window(image, (700,200))\n",
    "    label = get_label_file(filename)\n",
    "    save_img_and_label(adj_image, label, file_to_case(filename))"
   ]
  },
  {
   "cell_type": "code",
   "execution_count": 13,
   "id": "fa2d083f",
   "metadata": {},
   "outputs": [],
   "source": [
    "import time\n",
    "time.perf_counter()\n",
    "\n",
    "class Timer():\n",
    "    start = 0\n",
    "    end = 0\n",
    "    def start(self):\n",
    "        self.start = time.perf_counter()\n",
    "        \n",
    "    def end(self):\n",
    "        self.end = time.perf_counter()\n",
    "        print(self.end - self.start)\n",
    "        return(self.end - self.start)"
   ]
  },
  {
   "cell_type": "code",
   "execution_count": 12,
   "id": "f2fa2ed6",
   "metadata": {},
   "outputs": [
    {
     "name": "stderr",
     "output_type": "stream",
     "text": [
      "Process ForkPoolWorker-41:\n",
      "Process ForkPoolWorker-43:\n",
      "Process ForkPoolWorker-42:\n",
      "Process ForkPoolWorker-14:\n",
      "Process ForkPoolWorker-39:\n",
      "Process ForkPoolWorker-13:\n",
      "Process ForkPoolWorker-26:\n",
      "Process ForkPoolWorker-17:\n",
      "Process ForkPoolWorker-11:\n",
      "Process ForkPoolWorker-33:\n",
      "Process ForkPoolWorker-37:\n",
      "Process ForkPoolWorker-35:\n",
      "Process ForkPoolWorker-18:\n",
      "Process ForkPoolWorker-40:\n",
      "Process ForkPoolWorker-6:\n",
      "Process ForkPoolWorker-38:\n",
      "Process ForkPoolWorker-8:\n",
      "Process ForkPoolWorker-30:\n",
      "Process ForkPoolWorker-2:\n",
      "Process ForkPoolWorker-28:\n",
      "Process ForkPoolWorker-12:\n",
      "Process ForkPoolWorker-9:\n",
      "Process ForkPoolWorker-27:\n",
      "Process ForkPoolWorker-23:\n",
      "Process ForkPoolWorker-36:\n",
      "Process ForkPoolWorker-4:\n",
      "Process ForkPoolWorker-1:\n",
      "Process ForkPoolWorker-10:\n",
      "Process ForkPoolWorker-29:\n",
      "Process ForkPoolWorker-22:\n",
      "Process ForkPoolWorker-19:\n",
      "Process ForkPoolWorker-24:\n",
      "Process ForkPoolWorker-32:\n",
      "Process ForkPoolWorker-34:\n",
      "Process ForkPoolWorker-3:\n",
      "Process ForkPoolWorker-16:\n",
      "Process ForkPoolWorker-21:\n",
      "Process ForkPoolWorker-44:\n",
      "Process ForkPoolWorker-25:\n",
      "Process ForkPoolWorker-31:\n",
      "Traceback (most recent call last):\n",
      "Traceback (most recent call last):\n",
      "Traceback (most recent call last):\n",
      "Traceback (most recent call last):\n",
      "Traceback (most recent call last):\n",
      "Traceback (most recent call last):\n",
      "Traceback (most recent call last):\n",
      "Traceback (most recent call last):\n",
      "Traceback (most recent call last):\n"
     ]
    }
   ],
   "source": [
    "from multiprocessing import Pool\n",
    "\n",
    "timer = Timer()\n",
    "\n",
    "timer.start()\n",
    "with Pool(processes=40) as pool:\n",
    "    pool.map(file_test_save, IMG_FILES)\n",
    "    pool.close() \n",
    "    pool.join()\n",
    "timer.end()"
   ]
  },
  {
   "cell_type": "code",
   "execution_count": null,
   "id": "e775d562",
   "metadata": {},
   "outputs": [],
   "source": []
  }
 ],
 "metadata": {
  "kernelspec": {
   "display_name": "Python 3",
   "language": "python",
   "name": "python3"
  },
  "language_info": {
   "codemirror_mode": {
    "name": "ipython",
    "version": 3
   },
   "file_extension": ".py",
   "mimetype": "text/x-python",
   "name": "python",
   "nbconvert_exporter": "python",
   "pygments_lexer": "ipython3",
   "version": "3.6.9"
  }
 },
 "nbformat": 4,
 "nbformat_minor": 5
}
