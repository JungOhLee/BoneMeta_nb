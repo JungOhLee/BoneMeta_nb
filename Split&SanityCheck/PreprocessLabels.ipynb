{
 "cells": [
  {
   "cell_type": "code",
   "execution_count": 1,
   "id": "e02d1d00",
   "metadata": {},
   "outputs": [],
   "source": [
    "import os\n",
    "import numpy as np\n",
    "import matplotlib.pyplot as plt\n",
    "import SimpleITK as sitk"
   ]
  },
  {
   "cell_type": "code",
   "execution_count": 2,
   "id": "206e28d1",
   "metadata": {},
   "outputs": [],
   "source": [
    "BASE_DIR = '/workspace/BoneMeta'\n",
    "IMG_FOLDER_NAME = 'images'\n",
    "LABEL_FOLDER_NAME = 'labels'"
   ]
  },
  {
   "cell_type": "code",
   "execution_count": 3,
   "id": "4c52a8c2",
   "metadata": {},
   "outputs": [
    {
     "data": {
      "text/plain": [
       "True"
      ]
     },
     "execution_count": 3,
     "metadata": {},
     "output_type": "execute_result"
    }
   ],
   "source": [
    "LABEL_DIR = os.path.join(BASE_DIR, LABEL_FOLDER_NAME)\n",
    "LABEL_FILES = os.listdir(LABEL_DIR)\n",
    "\n",
    "def get_label_path(file):\n",
    "    return os.path.join(LABEL_DIR, file)\n",
    "\n",
    "def case_to_file(case):\n",
    "    return case+'.npy'\n",
    "\n",
    "def file_to_case(file_name):\n",
    "    return file_name.split('.')[0]"
   ]
  },
  {
   "cell_type": "code",
   "execution_count": 23,
   "id": "bdeb8083",
   "metadata": {},
   "outputs": [
    {
     "name": "stdout",
     "output_type": "stream",
     "text": [
      "68.13395805901382\n"
     ]
    }
   ],
   "source": [
    "# All zero or one ?\n",
    "\n",
    "import time \n",
    "\n",
    "t = time.perf_counter()\n",
    "\n",
    "test_res = []\n",
    "for file in LABEL_FILES:\n",
    "    label = np.load(get_label_path(file))\n",
    "    zero_bool = label == 0 \n",
    "    one_bool = label == 1 \n",
    "    zero_one_sum = (zero_bool + one_bool).sum()\n",
    "    shape_list = list(label.shape)\n",
    "    shape_num = 1\n",
    "    for shape in shape_list:\n",
    "        shape_num *= shape\n",
    "    \n",
    "    test_res.append(shape_num == zero_one_sum)\n",
    "    \n",
    "elapsed_time = time.perf_counter() - t\n",
    "print(elapsed_time)"
   ]
  },
  {
   "cell_type": "code",
   "execution_count": 24,
   "id": "24525633",
   "metadata": {},
   "outputs": [
    {
     "data": {
      "text/plain": [
       "False"
      ]
     },
     "execution_count": 24,
     "metadata": {},
     "output_type": "execute_result"
    }
   ],
   "source": [
    "all(test_res)"
   ]
  },
  {
   "cell_type": "code",
   "execution_count": 25,
   "id": "29a0f45d",
   "metadata": {},
   "outputs": [
    {
     "name": "stdout",
     "output_type": "stream",
     "text": [
      "64.82593209395418\n"
     ]
    }
   ],
   "source": [
    "import time \n",
    "\n",
    "t = time.perf_counter()\n",
    "\n",
    "for file in LABEL_FILES:\n",
    "    label = np.load(get_label_path(file))\n",
    "    new_label = (label > 0.5).astype(np.uint8)\n",
    "    np.save(get_label_path(file), new_label)\n",
    "    \n",
    "elapsed_time = time.perf_counter() - t\n",
    "print(elapsed_time)"
   ]
  },
  {
   "cell_type": "code",
   "execution_count": null,
   "id": "4b919bdf",
   "metadata": {},
   "outputs": [],
   "source": []
  }
 ],
 "metadata": {
  "kernelspec": {
   "display_name": "Python 3",
   "language": "python",
   "name": "python3"
  },
  "language_info": {
   "codemirror_mode": {
    "name": "ipython",
    "version": 3
   },
   "file_extension": ".py",
   "mimetype": "text/x-python",
   "name": "python",
   "nbconvert_exporter": "python",
   "pygments_lexer": "ipython3",
   "version": "3.6.9"
  }
 },
 "nbformat": 4,
 "nbformat_minor": 5
}
