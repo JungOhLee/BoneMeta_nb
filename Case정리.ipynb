{
 "cells": [
  {
   "cell_type": "code",
   "execution_count": 1,
   "id": "e483a09b",
   "metadata": {},
   "outputs": [
    {
     "name": "stdout",
     "output_type": "stream",
     "text": [
      "/workspace/JO_nb\r\n"
     ]
    }
   ],
   "source": [
    "!pwd"
   ]
  },
  {
   "cell_type": "code",
   "execution_count": 35,
   "id": "abb40e78",
   "metadata": {},
   "outputs": [],
   "source": [
    "import os\n",
    "import pandas as pd\n",
    "import numpy as np"
   ]
  },
  {
   "cell_type": "code",
   "execution_count": 4,
   "id": "206af0f7",
   "metadata": {},
   "outputs": [],
   "source": [
    "files = os.listdir('/workspace/BoneMeta_all_128_VI/images')"
   ]
  },
  {
   "cell_type": "code",
   "execution_count": 6,
   "id": "e321f060",
   "metadata": {},
   "outputs": [],
   "source": [
    "individuals = [file.split('_')[0] for file in files]"
   ]
  },
  {
   "cell_type": "code",
   "execution_count": 9,
   "id": "51fe073d",
   "metadata": {},
   "outputs": [
    {
     "data": {
      "text/plain": [
       "259"
      ]
     },
     "execution_count": 9,
     "metadata": {},
     "output_type": "execute_result"
    }
   ],
   "source": [
    "set(individuals).__len__()"
   ]
  },
  {
   "cell_type": "code",
   "execution_count": 10,
   "id": "e0e4d359",
   "metadata": {},
   "outputs": [
    {
     "data": {
      "text/plain": [
       "['BH001_20190501_Abdomen_&_pelvis_CT_(3D).npy',\n",
       " '000362_20191214_Chest_CT_(contrast).npy',\n",
       " 'BH010_20161101_Chest_CT_(contrast)_+_3D_(Breast_with_other_CT).npy',\n",
       " 'BH005_20170707_Chest_CT_(contrast)_+_3D_(Breast_with_other_CT).npy',\n",
       " '000269_20190325_CT_Abdomen+Pelvis_Dynamic_(contrast).npy',\n",
       " '000536_20210623_Chest_CT_(contrast).npy',\n",
       " '000279_20190601_CT_Abdomen+Pelvis_Dynamic_(contrast).npy',\n",
       " 'BH099_20200806_Abdomen_&_pelvis_CT.npy',\n",
       " 'KH038_20210401_Chest(+).npy',\n",
       " '000214_20190325_Chest_CT_(contrast).npy',\n",
       " 'BH058_20180918_Chest_CT_(contrast)_+_3D.npy',\n",
       " '000450_20200512_Chest_CT_(contrast).npy',\n",
       " '000310_20190812_Chest_CT_(contrast).npy',\n",
       " 'SN029_20200301_CT_Chest_+_3D_(contrast).npy',\n",
       " 'BH012_20180401_Abdomen_&_pelvis_CT_(3D).npy',\n",
       " '000450_20200528_CT_Abdomen+Pelvis_Post_(contrast).npy',\n",
       " '000481_20200722_Chest_CT_(noncontrast).npy',\n",
       " '000269_20190604_Chest_CT_(contrast).npy',\n",
       " 'BH045_20181001_GU_Abdomen_&_pelvis_CT_(3D).npy',\n",
       " 'BH012_20180401_Chest_CT_(contrast)_+_3D_(Chest_with_other_CT).npy',\n",
       " 'BH105_20160820_Chest_CT_(contrast)_+_3D.npy',\n",
       " 'BH024_20190501_Chest_CT_(contrast)_+_3D_(Breast_with_other_CT).npy',\n",
       " 'BH013_20191001_Chest_CT_(contrast)_+_3D_(Chest_with_other_CT).npy',\n",
       " 'KH025_20211001_Chest(+).npy',\n",
       " '000251_20190701_CT_Abdomen+Pelvis_Dynamic_(contrast).npy',\n",
       " 'BH118_20200702_Chest_CT_(contrast)_+_3D.npy',\n",
       " 'KH037_20210401_Chest(+).npy',\n",
       " '000301_20190801_CT_Acute_Abdomen_(contrast).npy',\n",
       " 'BH083_20200629_Abdomen_&_pelvis_CT_(non-contrast_3D).npy',\n",
       " 'KH016_20191101_Chest(+)_+_Abdomen_&_Pelvis(+).npy',\n",
       " '000352_20191017_Chest_CT_(contrast).npy',\n",
       " '000423_20200401_CT_Abdomen+Pelvis_Dynamic_(contrast).npy',\n",
       " 'KH027_20210801_Chest(+).npy',\n",
       " '000270_20190608_Chest_CT_(contrast).npy',\n",
       " '000382_20200129_Chest_CT_(contrast).npy',\n",
       " '000091_20180504_Chest_CT_(contrast).npy',\n",
       " 'BH107_20200510_Chest_CT_(Contrast)_+_3D(TS).npy',\n",
       " '000436_20200401_CT_Abdomen+Pelvis_Dynamic_(contrast).npy',\n",
       " 'BH074_20201113_Abdomen^00_Abd_CT_(Adult).npy',\n",
       " '000236_20190401_CT_Abdomen+Pelvis_Post_(contrast).npy',\n",
       " 'BH123_20201023_Chest_CT_(contrast)_+_3D_(Chest_with_other_CT).npy',\n",
       " 'BH060_20200413_Chest_CT_(contrast)_+_3D.npy',\n",
       " 'BH064_20200605_Abdomen_&_pelvis_CT_(3D).npy',\n",
       " 'BH062_20201104_Chest_CT_(contrast)_+_3D_(Chest_with_other_CT).npy',\n",
       " 'KH007_20200601_Chest(+).npy',\n",
       " '000305_20190801_CT_Acute_Abdomen_(contrast).npy',\n",
       " 'BH090_20200924_Abdomen_&_pelvis_CT.npy',\n",
       " 'BH109_20181210_Chest_CT_(contrast)_+_3D_(Breast_with_other_CT).npy',\n",
       " 'BH089_20200811_Abdomen_&_pelvis_CT.npy',\n",
       " '000533_20210507_CT_Liver_(contrast).npy',\n",
       " '000296_20190726_Chest_CT_(contrast).npy',\n",
       " '000251_20190429_CT_Abdomen+Pelvis_Dynamic_(contrast).npy',\n",
       " 'BH114_20180920_Chest_CT_(contrast)_+_3D_(Chest_with_other_CT).npy',\n",
       " 'BH121_20200301_Abdomen_&_pelvis_CT_(3D).npy',\n",
       " '000246_20190629_Chest_CT_(contrast).npy',\n",
       " '000255_20190418_Chest_CT_(contrast).npy',\n",
       " 'BH014_20181201_Chest_CT_(contrast)_+_3D_(Chest_with_other_CT).npy',\n",
       " '000048_20190501_CT_Abdomen+Pelvis_Uro_(contrast).npy',\n",
       " '000300_20190801_CT_Abdomen+Pelvis_Post_(contrast).npy',\n",
       " '000506_20201113_Chest_CT_(contrast).npy',\n",
       " 'KH024_20211001_Chest(+).npy',\n",
       " 'SN055_20170301_CT_Abdomen+Pelvis_Ar.npy',\n",
       " 'BH023_20191101_Chest_CT_(contrast)_+_3D_(Chest_with_other_CT).npy',\n",
       " 'BH032_20180701_Chest_CT_(contrast)_+_3D_(Breast_with_other_CT).npy',\n",
       " 'BH008_20190701_Chest_CT_(contrast)_+_3D_(Chest_with_other_CT).npy',\n",
       " 'KH039_20210301_Chest_(-)_Routine.npy',\n",
       " '000372_20200101_CT_Abdomen+Pelvis_Dynamic_(contrast).npy',\n",
       " '000370_20200117_Chest_CT_(contrast).npy',\n",
       " '000314_20190901_CT_Acute_Abdomen_(contrast).npy',\n",
       " '000262_20190319_CT_Abdomen+Pelvis_Dynamic_(contrast).npy',\n",
       " 'KH009_20200801_Chest(+).npy',\n",
       " '000486_20210309_Chest_CT_(contrast).npy',\n",
       " 'BH071_20160826_Chest_CT_(contrast)_+_3D.npy',\n",
       " '000376_20200101_CT_Abdomen+Pelvis_Dynamic_(contrast).npy',\n",
       " '000309_20190801_CT_Abdomen+Pelvis_Dynamic_(contrast).npy',\n",
       " 'SN019_20190801_CT_Abdomen+Pelvis_Ar.npy',\n",
       " '000391_20200216_Thoracic_Aorta_CT_Angio+3D_(contrast).npy',\n",
       " 'SN019_20190801_CT_Chest_+_3D_(contr.npy',\n",
       " 'SN028_20160801_CT_Abdomen+Pelvis_3D_(contrast).npy',\n",
       " 'BH021_20181001_Chest_CT_(contrast)_+_3D_(Chest_with_other_CT).npy',\n",
       " 'BH066_20190525_Chest_CT_(contrast)_+_3D_(Chest_with_other_CT).npy',\n",
       " 'BH120_20200304_Chest_CT_(contrast)_+_3D.npy',\n",
       " '000560_20210706_Chest_CT_(contrast).npy',\n",
       " 'SN025_20200401_CT_Abdomen+Pelvis_Ar.npy',\n",
       " 'BH113_20170914_Liver_CT_(LC_or_CLD,_3D).npy',\n",
       " '000566_20210526_CT_Abdomen+Pelvis_Post_(contrast).npy',\n",
       " 'BH027_20191001_Chest_CT_(Contrast)_+_3D(TS).npy',\n",
       " 'SN051_20170401_CT_Chest_+_3D_(contrast_NO_CM).npy',\n",
       " '000193_20190114_Chest_CT_(contrast).npy',\n",
       " 'BH098_20200626_GU_Kidney_&_bladder_CT_(3D).npy',\n",
       " 'BH099_20200806_Chest_CT_(contrast)_+_3D_(Chest_with_other_CT).npy',\n",
       " '000281_20190701_Chest_CT_(contrast).npy',\n",
       " 'SN017_20190701_Thorax^05_Chest_Lung_Cancer_3D_(Adult).npy',\n",
       " 'KH028_20210401_Thorax^00_Fl_Chest_Routine_(Adult).npy',\n",
       " 'BH117_20180506_Abdomen_&_pelvis_CT_(3D).npy',\n",
       " '000324_20190910_Chest_CT_(contrast).npy',\n",
       " '000322_20190913_Chest_CT_(contrast).npy',\n",
       " '000332_20191001_CT_Abdomen+Pelvis_Dynamic_(contrast).npy',\n",
       " 'SN013_20190401_CT_Pelvis_&_Abdomen.npy',\n",
       " 'BH035_20191101_GU_Kidney_&_bladder_CT_(3D).npy',\n",
       " 'KH007_20200601_Chest(+)_+_Abdomen_&_Pelvis_(+).npy',\n",
       " '000355_20191023_Chest_CT_(contrast).npy',\n",
       " 'BH021_20181001_Abdomen_&_pelvis_CT_(3D).npy',\n",
       " 'KH031_20210801_Chest(+).npy',\n",
       " 'SN035_20180101_CT_Stomach+Pelvis_Arterial+Portal(contrast).npy',\n",
       " 'BH081_20190322_Chest_CT_(contrast)_+_3D_(Chest_with_other_CT).npy',\n",
       " 'BH108_20180228_Chest_CT_(contrast)_+_3D.npy',\n",
       " '000021_20181227_Chest_CT_(contrast).npy',\n",
       " '000475_20210210_Chest_CT_(contrast).npy',\n",
       " '000244_20190501_CT_Abdomen+Pelvis_Post_(contrast).npy',\n",
       " '000560_20210706_CT_Abdomen+Pelvis_Dynamic_(contrast).npy',\n",
       " 'BH119_20200227_Chest_CT_(contrast)_+_3D.npy',\n",
       " '000557_20210621_CT_Abdomen+Pelvis_Post_(contrast).npy',\n",
       " 'BH023_20191101_Abdomen_&_pelvis_CT_(3D).npy',\n",
       " '000506_20201110_CT_Urography_(contrast).npy',\n",
       " '000400_20200210_Chest_CT_(contrast).npy',\n",
       " 'BH078_20200522_Abdomen_&_pelvis_CT_(3D).npy',\n",
       " 'BH018_20190801_Abdomen_&_pelvis_CT_(3D).npy',\n",
       " 'BH087_20190314_Abdomen_&_pelvis_CT_(3D).npy',\n",
       " 'BH061_20190315_Abdomen_&_pelvis_CT_(3D).npy',\n",
       " '000409_20200301_CT_Biliary_(contrast).npy',\n",
       " 'BH051_20190301_GU_Kidney_&_bladder_CT_(3D).npy',\n",
       " '000364_20191217_Chest_CT_(contrast).npy',\n",
       " 'BH112_20190201_Chest_CT_(contrast)_+_3D_(Chest_with_other_CT).npy',\n",
       " '000012_20181214_Chest_CT_(contrast).npy',\n",
       " 'BH079_20200921_Low_dose_Chest_CT_+_3D(insured).npy',\n",
       " '000494_20210405_Chest_CT_(contrast).npy',\n",
       " 'BH070_20160823_Abdomen_&_pelvis_CT_(3D).npy',\n",
       " '000005_20181202_CT_Abdomen+Pelvis_Dynamic_(contrast).npy',\n",
       " '000350_20191001_CT_Abdomen+Pelvis_Dynamic_(contrast).npy',\n",
       " '000417_20200331_Chest_CT_(contrast).npy',\n",
       " '000262_20190529_Chest_CT_(contrast).npy',\n",
       " 'KH030_20210901_Chest_Low-Dose_Screeni.npy',\n",
       " '000383_20200121_Chest_CT_(contrast).npy',\n",
       " 'SN004_20190801_CT_Abdomen+Pelvis_Ar.npy',\n",
       " '000270_20190601_CT_Abdomen+Pelvis_Dynamic_(contrast).npy',\n",
       " 'BH104_20161219_Abdomen_&_pelvis_CT_(3D).npy',\n",
       " 'BH112_20190201_Abdomen_&_pelvis_CT_(3D).npy',\n",
       " '000025_20180808_CT_Abdomen+Pelvis_Dynamic_(contrast).npy',\n",
       " 'BH059_20201019_Chest_CT_(contrast)_+_3D.npy',\n",
       " 'KH033_20210701_Chest(+).npy',\n",
       " 'BH110_20200616_Abdomen_&_pelvis_CT_(3D).npy',\n",
       " '000022_20180830_Chest_CT_(contrast).npy',\n",
       " 'BH082_20200416_Chest_CT_(contrast)_+_3D.npy',\n",
       " 'BH051_20190301_Low_dose_Chest_CT_+_3D(insured).npy',\n",
       " '000404_20200201_CT_Abdomen+Pelvis_Dynamic_(contrast).npy',\n",
       " '000530_20210428_Chest_CT_(contrast).npy',\n",
       " 'KH036_20210401_Chest(+).npy',\n",
       " '000069_20180319_Chest_CT_(contrast).npy',\n",
       " '000009_20180417_Chest_CT_(contrast).npy',\n",
       " 'BH072_20200219_Abdomen_&_pelvis_CT_(3D).npy',\n",
       " '000492_20210401_CT_Abdomen+Pelvis_Pre-Post_(contrast).npy',\n",
       " '000279_20190614_Chest_3DCT_(contrast).npy',\n",
       " '000322_20190901_CT_Abdomen+Pelvis_Dynamic_(contrast).npy',\n",
       " 'BH006_20170801_Chest_CT_(Contrast)_+_3D(Breast).npy',\n",
       " 'BH108_20180223_Liver_CT_(LC_or_CLD,_3D).npy',\n",
       " '000565_20210806_Chest_CT_(contrast).npy',\n",
       " 'SN051_20170401_CT_Abdomen+Pelvis_Arterial+Portal_(contrast).npy',\n",
       " '000520_20200917_Chest_CT_(contrast).npy',\n",
       " 'BH052_20190901_Abdomen_&_pelvis_CT_(3D).npy',\n",
       " 'KH026_20210801_Chest(+).npy',\n",
       " 'BH004_20191101_Chest_CT_(contrast)_+_3D.npy',\n",
       " 'BH063_20200519_Chest_CT_(Non_contrast)_+_3D(Breast).npy',\n",
       " '000510_20201120_Chest_CT_(contrast).npy',\n",
       " '000363_20191201_CT_Abdomen+Pelvis_Pre-Post_(contrast).npy',\n",
       " 'BH101_20201109_Chest_CT_(Contrast)_+_3D(TS).npy',\n",
       " '000010_20181214_CT_Abdomen+Pelvis_Dynamic_(contrast).npy',\n",
       " 'BH020_20191201_Abdomen_&_pelvis_CT_(non-contrast_3D).npy',\n",
       " 'BH114_20180920_GU_Kidney_&_bladder_CT_(3D).npy',\n",
       " 'SN005_20191001_Abdomen^03_LIVER_(Adult).npy',\n",
       " '000316_20190715_Spine^L_SPINE_(Adult).npy',\n",
       " 'BH047_20180901_Chest_CT_(contrast)_+_3D_(Chest_with_other_CT).npy',\n",
       " 'SN012_20150801_Abdomen^01_Abdomen_Pelvis_Chest_(Adult).npy',\n",
       " 'SN007_20190801_CT_Abdomen+Pelvis_Ar.npy',\n",
       " 'BH002_20190701_Chest_CT_(Non_contrast)_+_3D.npy',\n",
       " '000510_20201124_CT_Abdomen+Pelvis_Dynamic_(contrast).npy',\n",
       " 'SN042_20170901_CT_Abdomen+Pelvis_3D.npy',\n",
       " '000212_20190324_Chest_CT_(noncontrast).npy',\n",
       " 'BH014_20181201_Abdomen_&_pelvis_CT_(3D).npy',\n",
       " 'BH061_20190315_Chest_CT_(contrast)_+_3D_(Chest_with_other_CT).npy',\n",
       " 'BH081_20190322_Abdomen_&_pelvis_CT_(3D).npy',\n",
       " '000269_20181016_CT_Abdomen+Pelvis_Dynamic_(contrast).npy',\n",
       " '000382_20200101_CT_Abdomen+Pelvis_Post_(contrast).npy',\n",
       " '000330_20190926_Chest_CT_(contrast).npy',\n",
       " '000314_20190827_Chest_CT_(contrast).npy',\n",
       " 'BH057_20191227_Chest_CT_(contrast)_+_3D_(Chest_with_other_CT).npy',\n",
       " 'BH098_20200626_Chest_CT_(contrast)_+_3D_(Chest_with_other_CT).npy',\n",
       " '000278_20190620_Chest_CT_(contrast).npy',\n",
       " 'BH055_20200328_Chest_CT_(contrast)_+_3D_(Chest_with_other_CT).npy',\n",
       " 'KH002_20210301_Abdomen^00_AbdomenRoutine_(Adult).npy',\n",
       " '000396_20200201_CT_Abdomen+Pelvis_Dynamic_(contrast).npy',\n",
       " '000002_20180829_Chest_CT_(contrast).npy',\n",
       " '000260_20190522_Chest_CT_(contrast).npy',\n",
       " 'SN055_20170301_CT_Chest_Low_Dose_+.npy',\n",
       " 'BH024_20190501_Abdomen_&_pelvis_CT_(3D).npy',\n",
       " '000260_20190501_CT_Liver_(contrast).npy',\n",
       " 'BH117_20180506_Chest_CT_(contrast)_+_3D_(Chest_with_other_CT).npy',\n",
       " '000541_20210520_Chest_CT_(contrast).npy',\n",
       " 'BH007_20190801_Chest_CT_(contrast)_+_3D_(Chest_with_other_CT).npy',\n",
       " '000301_20190801_Pulmonary_artery_CT_Angio+3D_(contrast).npy',\n",
       " 'BH095_20200727_Abdomen_&_pelvis_CT_(3D).npy',\n",
       " '000404_20200305_Chest_CT_(contrast).npy',\n",
       " '000234_20190401_CT_Abdomen+Pelvis_Dynamic_(contrast).npy',\n",
       " 'BH005_20170701_Abdomen_&_pelvis_CT_(3D).npy',\n",
       " '000356_20190901_CT_Abdomen+Pelvis_Dynamic_(contrast).npy',\n",
       " 'KH001_20210501_Chest(+).npy',\n",
       " '000386_20200204_Chest_CT_(contrast).npy',\n",
       " '000486_20210322_CT_Abdomen+Pelvis_Dynamic_(contrast).npy',\n",
       " '000242_20190409_Chest_CT_(contrast).npy',\n",
       " 'BH118_20200617_Liver_CT_(LC_or_CLD,_3D).npy',\n",
       " 'BH037_20171125_Abdomen_&_pelvis_CT_(3D).npy',\n",
       " 'KH023_20210901_Chest(+).npy',\n",
       " 'SN036_20190601_CT_Chest_+_3D_(contr.npy',\n",
       " 'BH100_20201007_Thorax^02_Chest_CON_(Adult).npy',\n",
       " 'BH017_20191201_Chest_CT_(contrast)_+_3D_(Chest_with_other_CT).npy',\n",
       " 'BH016_20151001_Chest_CT_(contrast)_+_3D_(Chest_with_other_CT).npy',\n",
       " '000494_20210405_CT_Acute_Abdomen_(contrast).npy',\n",
       " '000354_20191022_Chest_CT_(contrast).npy',\n",
       " '000272_20190601_CT_Abdomen+Pelvis_Dynamic_(contrast).npy',\n",
       " 'BH036_20180301_GU_Kidney_&_bladder_CT_(3D).npy',\n",
       " '000011_20181207_CT_Abdomen+Pelvis_Post_(contrast).npy',\n",
       " '000282_20190410_CT_Abdomen+Pelvis_Dynamic_(contrast).npy',\n",
       " 'SN007_20190701_Thorax^05_Chest_Lung_Cancer_3D_(Adult).npy',\n",
       " 'SN016_20190901_CT_Abdomen+Pelvis_Ar.npy',\n",
       " '000528_20210514_Chest_CT_(contrast).npy',\n",
       " '000025_20180808_Chest_CT_(contrast).npy',\n",
       " '000286_20190710_[외부_CT_19-07-10]Chest_CT_contrast.npy',\n",
       " 'BH091_20200104_Chest_CT_(contrast)_+_3D_(Chest_with_other_CT).npy',\n",
       " '000223_20190319_Chest_CT_(contrast).npy',\n",
       " 'BH020_20191201_Chest_CT_(Non_contrast)_+_3D.npy',\n",
       " 'BH092_20201117_GU_Kidney_&_bladder_CT_(3D).npy',\n",
       " '000304_20190124_Chest_CT_(contrast).npy',\n",
       " 'BH008_20190701_Abdomen_&_pelvis_CT_(3D).npy',\n",
       " '000368_20200101_CT_Abdomen+Pelvis_Dynamic_(contrast).npy',\n",
       " '000251_20190703_Chest_CT_(contrast).npy',\n",
       " 'BH037_20171125_Chest_CT_(contrast)_+_3D_(Chest_with_other_CT).npy',\n",
       " '000269_20181214_CT_Abdomen+Pelvis_Dynamic_(contrast).npy',\n",
       " 'BH009_20180301_Abdomen_&_pelvis_CT_(3D).npy',\n",
       " 'SN031_20160501_CT_Abdomen+Pelvis_Ar.npy',\n",
       " '000304_20190124_CT_Liver_(contrast).npy',\n",
       " 'BH022_20190101_Thorax^03_Chest_NON_(Adult).npy',\n",
       " '000356_20191024_Chest_CT_(contrast).npy',\n",
       " 'SN031_20160501_2-CT_Chest_Lung_cancer.npy',\n",
       " '000396_20200218_Chest_CT_(contrast).npy',\n",
       " 'BH080_20181210_Abdomen_&_pelvis_CT_(3D).npy',\n",
       " '000435_20200401_CT_Abdomen+Pelvis_Dynamic_(contrast).npy',\n",
       " '000315_20190901_CT_Abdomen+Pelvis_Dynamic_(contrast).npy',\n",
       " 'SN029_20200301_CT_Pelvis_&_Abdomen_(URO_&_GY)_(3P)_(contrast).npy',\n",
       " '000533_20210521_Chest_CT_(contrast).npy',\n",
       " 'BH116_20180606_GU_Abdomen_&_pelvis_CT_(3D).npy',\n",
       " 'KH032_20210701_Chest(+).npy',\n",
       " '000348_20191201_CT_Liver_(contrast).npy',\n",
       " 'BH032_20180701_Abdomen_&_pelvis_CT_(3D).npy',\n",
       " 'BH104_20161219_Chest_CT_(contrast)_+_3D_(Chest_with_other_CT).npy',\n",
       " 'BH034_20190901_Chest_CT_(contrast)_+_3D_(Chest_with_other_CT).npy',\n",
       " 'BH089_20200803_Chest_CT_(Contrast)_+_3D(TS).npy',\n",
       " 'SN008_20190901_CT_Chest_+_3D_(contr.npy',\n",
       " 'BH055_20200328_Abdomen_&_pelvis_CT_(3D).npy',\n",
       " 'SN002_20190801_CT_Chest_+_3D_(contr.npy',\n",
       " 'BH007_20190801_Abdomen_&_pelvis_CT_(3D).npy',\n",
       " '000285_20190807_Chest_CT_(contrast).npy',\n",
       " '000276_20190604_Chest_CT_(contrast).npy',\n",
       " 'BH016_20151001_Abdomen_&_pelvis_CT_(3D).npy',\n",
       " '000344_20191125_Chest_CT_(contrast).npy',\n",
       " '000079_20180911_Pulmonary_artery_CT_Angio+3D_(contrast).npy',\n",
       " '000355_20190901_CT_Abdomen+Pelvis_Dynamic_(contrast).npy',\n",
       " 'KH009_20200801_Chest(+)_+_Abdomen_&_Pelvis_(+).npy',\n",
       " 'BH076_20180605_Chest_CT_(contrast)_+_3D_(Chest_with_other_CT).npy',\n",
       " 'BH009_20180301_Chest_CT_(contrast)_+_3D_(TS_with_other_CT).npy',\n",
       " 'BH043_20191001_Abdomen_&_pelvis_CT_(3D).npy',\n",
       " 'SN042_20170901_CT_Chest_+_3D_(contr.npy',\n",
       " '000080_20180911_Chest_CT_(contrast).npy',\n",
       " 'BH018_20190801_Chest_CT_(contrast)_+_3D_(Breast_with_other_CT).npy',\n",
       " '000325_20190919_Chest_CT_(contrast).npy',\n",
       " 'SN028_20160801_CT_Chest_+_3D_(contrast).npy',\n",
       " '000557_20210621_Chest_CT_(contrast).npy',\n",
       " '000376_20200114_Chest_CT_(contrast).npy',\n",
       " '000529_20210416_Chest_CT_(contrast).npy',\n",
       " 'BH059_20201013_Abdomen_&_pelvis_CT.npy',\n",
       " 'SN025_20200401_CT_Chest_+_3D_(contr.npy',\n",
       " 'BH073_20201223_Chest_CT_(contrast)_+_3D_(Chest_with_other_CT).npy',\n",
       " '000332_20191025_Chest_CT_(contrast).npy',\n",
       " 'SN004_20190901_CT_Chest_+_3D_(contrast).npy',\n",
       " 'KH002_20210301_Thorax^00_Fl_Chest_Routine_(Adult).npy',\n",
       " '000492_20210329_Chest_CT_(contrast).npy',\n",
       " 'BH075_20200721_Chest_CT_(Contrast)_+_3D(Breast).npy',\n",
       " 'BH073_20201223_Abdomen_&_pelvis_CT.npy',\n",
       " '000452_20200513_Chest_CT_(contrast).npy',\n",
       " 'BH076_20180605_GU_Abdomen_&_pelvis_CT_(3D).npy',\n",
       " 'BH026_20190601_Abdomen_&_pelvis_CT_(3D).npy',\n",
       " 'BH123_20201023_Abdomen_&_pelvis_CT.npy',\n",
       " 'BH015_20190101_Chest_CT_(contrast)_+_3D_(Breast_with_other_CT).npy',\n",
       " 'BH029_20200101_Chest_HRCT_(lung_cancer).npy',\n",
       " 'BH110_20200616_Chest_CT_(contrast)_+_3D_(Chest_with_other_CT).npy',\n",
       " '000262_20190318_Chest_CT_(contrast).npy',\n",
       " '000423_20200407_Chest_CT_(contrast).npy',\n",
       " '000331_20190901_CT_Abdomen+Pelvis_Post_(contrast).npy',\n",
       " 'SN056_20170601_Thorax^01_Lung_Cancer_3D_(Adult).npy',\n",
       " '000085_20180829_Chest_CT_(contrast).npy',\n",
       " '000234_20190419_Chest_CT_(contrast).npy',\n",
       " 'KH042_20210501_Chest(+).npy',\n",
       " 'SN016_20190901_CT_Chest_+_3D_(contr.npy',\n",
       " 'BH048_20190501_Chest_CT_(contrast)_+_3D_(Breast_with_other_CT).npy',\n",
       " 'BH025_20191101_Abdomen_&_pelvis_CT_(3D).npy',\n",
       " '000370_20200101_CT_Abdomen+Pelvis_Post_(contrast).npy',\n",
       " '000481_20210409_CT_Liver_(contrast).npy',\n",
       " 'SN017_20190801_CT_Abdomen+Pelvis_Ar.npy',\n",
       " '000285_20190801_CT_Abdomen+Pelvis_Pre-Post_(contrast).npy',\n",
       " '000286_20190701_CT_Abdomen+Pelvis_Dynamic_(contrast).npy',\n",
       " 'BH019_20191101_Thorax^02_Chest_CON_(Adult).npy',\n",
       " '000311_20190902_Chest_CT_(contrast).npy',\n",
       " 'BH085_20200801_Abdomen_&_pelvis_CT.npy',\n",
       " 'BH072_20200219_Chest_CT_(contrast)_+_3D_(Chest_with_other_CT).npy',\n",
       " 'BH010_20161101_Abdomen_&_pelvis_CT_(3D).npy',\n",
       " '000019_20181018_Chest_CT_(contrast).npy',\n",
       " 'BH052_20190901_Chest_CT_(contrast)_+_3D_(Chest_with_other_CT).npy',\n",
       " 'BH111_20161020_CT_Angio_+_3D_Coronary,_Chest.npy',\n",
       " '000400_20200201_CT_Biliary_(contrast).npy',\n",
       " '000362_20191201_CT_Abdomen+Pelvis_Dynamic_(contrast).npy',\n",
       " 'BH028_20190801_Chest_CT_(contrast)_+_3D.npy',\n",
       " '000302_20190726_Chest_CT_(contrast).npy',\n",
       " 'BH040_20200101_CT_Angio_+_3D_Pulmonary_artery_(Embolism).npy',\n",
       " '000301_20190827_Chest_CT_(contrast).npy',\n",
       " '000466_20210125_Chest_CT_(contrast).npy',\n",
       " 'BH106_20200613_Abdomen_&_pelvis_CT_(3D).npy',\n",
       " 'BH121_20200301_Chest_CT_(contrast)_+_3D_(Chest_with_other_CT).npy',\n",
       " '000012_20181212_CT_Acute_Abdomen_(contrast).npy',\n",
       " '000019_20190601_CT_Abdomen+Pelvis_Dynamic_(contrast).npy',\n",
       " 'KH010_20201201_Chest(+).npy',\n",
       " 'SN002_20190801_CT_Abdomen+Pelvis_Ar.npy',\n",
       " '000232_20190423_Chest_CT_(contrast).npy',\n",
       " '000288_20190701_CT_Abdomen+Pelvis_Dynamic_(contrast).npy',\n",
       " '000019_20190613_Chest_CT_(contrast).npy',\n",
       " 'KH014_20190701_IM_Chest(+)_+_Abdomen_&_Pelvis_(+).npy',\n",
       " 'SN015_20190901_CT_Chest_+_3D_(contr.npy',\n",
       " '000439_20200624_Chest_CT_(contrast).npy',\n",
       " 'KH040_20210301_Chest(+).npy',\n",
       " 'BH043_20191001_Chest_CT_(contrast)_+_3D_(Chest_with_other_CT).npy',\n",
       " 'BH056_20200721_Chest_CT_(contrast)_+_3D.npy',\n",
       " '000262_20190501_CT_Abdomen+Pelvis_Post_(contrast).npy',\n",
       " '000298_20190726_Chest_CT_(contrast).npy',\n",
       " '000162_20180131_Chest_CT_(contrast).npy',\n",
       " 'BH119_20200303_Abdomen_&_pelvis_CT_(3D).npy',\n",
       " 'BH031_20160301_CT_Angio_+_3D_Pulmonary_artery_(Embolism).npy',\n",
       " '000409_20200310_Chest_CT_(contrast).npy',\n",
       " 'BH086_20190812_Chest_CT_(Contrast)_+_3D(TS).npy',\n",
       " 'BH120_20200406_Chest_CT_(contrast)_+_3D_(Chest_with_other_CT).npy',\n",
       " '000291_20190701_CT_Abdomen+Pelvis_Dynamic_(contrast).npy',\n",
       " 'SN030_20191101_CT_Abdomen+Pelvis_Ar.npy',\n",
       " 'BH034_20190923_GU_OBGY,Abd-pelvis_CT(pre&post)_(3D).npy',\n",
       " '000363_20191222_Chest_3DCT_(contrast).npy',\n",
       " 'KH016_20191101_Chest(+).npy',\n",
       " '000424_20200218_Chest_CT_(contrast).npy',\n",
       " '000269_20190601_CT_Abdomen+Pelvis_Dynamic_(contrast).npy',\n",
       " 'BH067_20191017_Chest_CT_(contrast)_+_3D_(Chest_with_other_CT).npy',\n",
       " '000232_20190401_CT_Abdomen+Pelvis_Dynamic_(contrast).npy',\n",
       " '000282_20190701_CT_Abdomen+Pelvis_Post_(contrast).npy',\n",
       " '000481_20210305_Thorax^Lung_Pre_(Adult).npy',\n",
       " '000435_20200420_Chest_CT_(contrast).npy',\n",
       " '000251_20190429_Chest_CT_(contrast).npy',\n",
       " 'BH027_20191001_L-spine_CT_(3D).npy',\n",
       " '000354_20191001_CT_Abdomen+Pelvis_Post_(contrast).npy',\n",
       " 'BH015_20190101_Abdomen_&_pelvis_CT_(3D).npy',\n",
       " '000352_20191001_CT_Abdomen+Pelvis_Dynamic_(contrast).npy',\n",
       " 'BH091_20200104_GU_Kidney_&_bladder_CT_(3D).npy',\n",
       " 'BH065_20201013_Low_dose_Chest_CT_+_3D(insured).npy',\n",
       " 'SN015_20190901_CT_Abdomen_+_Pelvis.npy',\n",
       " '000316_20190627_Chest_CT_(contrast).npy',\n",
       " 'BH017_20191201_Abdomen_&_pelvis_CT_(3D).npy',\n",
       " '000011_20181207_Chest_CT_(contrast).npy',\n",
       " '000466_20210128_CT_Abdomen+Pelvis_Post_(contrast).npy',\n",
       " 'KH010_20201201_Chest(+)_+_Abdomen_&_P.npy',\n",
       " '000272_20190614_Chest_CT_(contrast).npy',\n",
       " 'SN005_20191101_CT_Chest_+_3D_(contr.npy',\n",
       " '000350_20190927_Chest_CT_(contrast).npy',\n",
       " 'BH045_20181001_Chest_CT_(contrast)_+_3D_(Chest_with_other_CT).npy',\n",
       " '000452_20200513_CT_Abdomen+Pelvis_Dynamic_(contrast).npy',\n",
       " '000308_20190801_CT_Abdomen+Pelvis_Post_(contrast).npy',\n",
       " 'BH069_20200505_Chest_CT_(contrast)_+_3D.npy',\n",
       " 'KH014_20190701_Chest(+).npy',\n",
       " '000291_20190718_Chest_CT_(contrast).npy',\n",
       " 'BH070_20160823_Chest_CT_(contrast)_+_3D_(Chest_with_other_CT).npy',\n",
       " '000530_20210428_CT_Abdomen+Pelvis_Dynamic_(contrast).npy',\n",
       " 'BH106_20200613_Chest_CT_(contrast)_+_3D_(Breast_with_other_CT).npy',\n",
       " 'BH057_20191227_Abdomen_&_pelvis_CT_(3D).npy',\n",
       " '000308_20190826_Chest_CT_(contrast).npy',\n",
       " 'SN008_20190901_CT_Abdomen+Pelvis_Ar.npy',\n",
       " 'SN054_20170201_CT_Chest_Lung_cancer+3D(contrast).npy',\n",
       " 'KH043_20210601_Thorax^00_Fl_Chest_Routine_(Adult).npy',\n",
       " 'BH001_20190401_Chest_CT_(Non_contrast)_+_3D.npy',\n",
       " '000309_20190823_Chest_CT_(contrast).npy',\n",
       " '000331_20190916_Chest_CT_(contrast).npy',\n",
       " 'BH054_20191122_Abdomen^00_Liver_CT_(Adult).npy',\n",
       " 'BH116_20180606_Chest_CT_(contrast)_+_3D_(Breast_with_other_CT).npy',\n",
       " '000424_20200312_Chest_CT_(noncontrast).npy',\n",
       " 'BH047_20180901_Abdomen_&_pelvis_CT_(3D).npy',\n",
       " '000397_20200214_Chest_CT_(contrast).npy',\n",
       " '000224_20190228_Chest_CT_(contrast).npy',\n",
       " 'BH064_20200605_Chest_CT_(contrast)_+_3D_(Chest_with_other_CT).npy',\n",
       " 'BH120_20200406_Abdomen_&_pelvis_CT_(3D).npy']"
      ]
     },
     "execution_count": 10,
     "metadata": {},
     "output_type": "execute_result"
    }
   ],
   "source": [
    "files"
   ]
  },
  {
   "cell_type": "code",
   "execution_count": 11,
   "id": "5f4356ee",
   "metadata": {},
   "outputs": [],
   "source": [
    "TRAIN_FILES = ['KH027_20210801_Chest(+).npy', 'SN005_20191101_CT_Chest_+_3D_(contr.npy', 'BH091_20200104_Chest_CT_(contrast)_+_3D_(Chest_with_other_CT).npy', '000311_20190902_Chest_CT_(contrast).npy', 'BH023_20191101_Abdomen_&_pelvis_CT_(3D).npy', 'BH076_20180605_Chest_CT_(contrast)_+_3D_(Chest_with_other_CT).npy', 'BH121_20200301_Chest_CT_(contrast)_+_3D_(Chest_with_other_CT).npy', '000506_20201113_Chest_CT_(contrast).npy', 'BH069_20200505_Chest_CT_(contrast)_+_3D.npy', 'KH039_20210301_Chest_(-)_Routine.npy', 'KH042_20210501_Chest(+).npy', 'BH016_20151001_Abdomen_&_pelvis_CT_(3D).npy', 'BH104_20161219_Chest_CT_(contrast)_+_3D_(Chest_with_other_CT).npy', '000362_20191201_CT_Abdomen+Pelvis_Dynamic_(contrast).npy', 'BH035_20191101_GU_Kidney_&_bladder_CT_(3D).npy', '000423_20200401_CT_Abdomen+Pelvis_Dynamic_(contrast).npy', 'SN036_20190601_CT_Chest_+_3D_(contr.npy', 'BH101_20201109_Chest_CT_(Contrast)_+_3D(TS).npy', 'SN025_20200401_CT_Chest_+_3D_(contr.npy', '000364_20191217_Chest_CT_(contrast).npy', 'BH085_20200801_Abdomen_&_pelvis_CT.npy', 'KH023_20210901_Chest(+).npy', 'BH063_20200519_Chest_CT_(Non_contrast)_+_3D(Breast).npy', '000224_20190228_Chest_CT_(contrast).npy', 'BH116_20180606_GU_Abdomen_&_pelvis_CT_(3D).npy', 'BH023_20191101_Chest_CT_(contrast)_+_3D_(Chest_with_other_CT).npy', 'BH055_20200328_Chest_CT_(contrast)_+_3D_(Chest_with_other_CT).npy', 'KH002_20210301_Abdomen^00_AbdomenRoutine_(Adult).npy', '000370_20200101_CT_Abdomen+Pelvis_Post_(contrast).npy', '000363_20191222_Chest_3DCT_(contrast).npy', 'BH020_20191201_Chest_CT_(Non_contrast)_+_3D.npy', 'BH015_20190101_Chest_CT_(contrast)_+_3D_(Breast_with_other_CT).npy', 'KH016_20191101_Chest(+).npy', '000262_20190501_CT_Abdomen+Pelvis_Post_(contrast).npy', 'BH081_20190322_Chest_CT_(contrast)_+_3D_(Chest_with_other_CT).npy', '000282_20190701_CT_Abdomen+Pelvis_Post_(contrast).npy', 'SN042_20170901_CT_Chest_+_3D_(contr.npy', 'BH071_20160826_Chest_CT_(contrast)_+_3D.npy', '000356_20191024_Chest_CT_(contrast).npy', '000162_20180131_Chest_CT_(contrast).npy', '000269_20190601_CT_Abdomen+Pelvis_Dynamic_(contrast).npy', 'BH119_20200303_Abdomen_&_pelvis_CT_(3D).npy', 'BH043_20191001_Abdomen_&_pelvis_CT_(3D).npy', 'SN031_20160501_2-CT_Chest_Lung_cancer.npy', '000530_20210428_Chest_CT_(contrast).npy', 'BH005_20170707_Chest_CT_(contrast)_+_3D_(Breast_with_other_CT).npy', '000363_20191201_CT_Abdomen+Pelvis_Pre-Post_(contrast).npy', 'KH001_20210501_Chest(+).npy', 'KH031_20210801_Chest(+).npy', 'KH010_20201201_Chest(+).npy', '000370_20200117_Chest_CT_(contrast).npy', 'BH037_20171125_Abdomen_&_pelvis_CT_(3D).npy', '000080_20180911_Chest_CT_(contrast).npy', '000262_20190318_Chest_CT_(contrast).npy', 'BH117_20180506_Chest_CT_(contrast)_+_3D_(Chest_with_other_CT).npy', 'BH034_20190923_GU_OBGY,Abd-pelvis_CT(pre&post)_(3D).npy', 'BH123_20201023_Abdomen_&_pelvis_CT.npy', 'BH061_20190315_Abdomen_&_pelvis_CT_(3D).npy', 'KH007_20200601_Chest(+)_+_Abdomen_&_Pelvis_(+).npy', 'BH028_20190801_Chest_CT_(contrast)_+_3D.npy', '000085_20180829_Chest_CT_(contrast).npy', '000010_20181214_CT_Abdomen+Pelvis_Dynamic_(contrast).npy', '000435_20200401_CT_Abdomen+Pelvis_Dynamic_(contrast).npy', 'BH019_20191101_Thorax^02_Chest_CON_(Adult).npy', '000386_20200204_Chest_CT_(contrast).npy', '000466_20210128_CT_Abdomen+Pelvis_Post_(contrast).npy', 'BH098_20200626_Chest_CT_(contrast)_+_3D_(Chest_with_other_CT).npy', '000325_20190919_Chest_CT_(contrast).npy', '000481_20210305_Thorax^Lung_Pre_(Adult).npy', 'BH108_20180228_Chest_CT_(contrast)_+_3D.npy', 'KH014_20190701_Chest(+).npy', 'SN051_20170401_CT_Chest_+_3D_(contrast_NO_CM).npy', 'BH056_20200721_Chest_CT_(contrast)_+_3D.npy', 'KH014_20190701_IM_Chest(+)_+_Abdomen_&_Pelvis_(+).npy', 'BH091_20200104_GU_Kidney_&_bladder_CT_(3D).npy', 'BH064_20200605_Chest_CT_(contrast)_+_3D_(Chest_with_other_CT).npy', 'BH070_20160823_Abdomen_&_pelvis_CT_(3D).npy', 'BH089_20200811_Abdomen_&_pelvis_CT.npy', 'KH043_20210601_Thorax^00_Fl_Chest_Routine_(Adult).npy', 'BH002_20190701_Chest_CT_(Non_contrast)_+_3D.npy', '000279_20190614_Chest_3DCT_(contrast).npy', 'BH031_20160301_CT_Angio_+_3D_Pulmonary_artery_(Embolism).npy', 'BH080_20181210_Abdomen_&_pelvis_CT_(3D).npy', 'BH036_20180301_GU_Kidney_&_bladder_CT_(3D).npy', '000272_20190601_CT_Abdomen+Pelvis_Dynamic_(contrast).npy', '000079_20180911_Pulmonary_artery_CT_Angio+3D_(contrast).npy', '000022_20180830_Chest_CT_(contrast).npy', 'KH026_20210801_Chest(+).npy', 'BH120_20200406_Chest_CT_(contrast)_+_3D_(Chest_with_other_CT).npy', 'BH073_20201223_Chest_CT_(contrast)_+_3D_(Chest_with_other_CT).npy', 'BH100_20201007_Thorax^02_Chest_CON_(Adult).npy', 'BH086_20190812_Chest_CT_(Contrast)_+_3D(TS).npy', '000322_20190913_Chest_CT_(contrast).npy', 'BH095_20200727_Abdomen_&_pelvis_CT_(3D).npy', 'BH114_20180920_Chest_CT_(contrast)_+_3D_(Chest_with_other_CT).npy', 'KH016_20191101_Chest(+)_+_Abdomen_&_Pelvis(+).npy', 'SN028_20160801_CT_Abdomen+Pelvis_3D_(contrast).npy', 'SN055_20170301_CT_Chest_Low_Dose_+.npy', 'KH037_20210401_Chest(+).npy', '000309_20190823_Chest_CT_(contrast).npy', 'SN019_20190801_CT_Abdomen+Pelvis_Ar.npy', '000404_20200201_CT_Abdomen+Pelvis_Dynamic_(contrast).npy', '000528_20210514_Chest_CT_(contrast).npy', '000301_20190827_Chest_CT_(contrast).npy', '000424_20200218_Chest_CT_(contrast).npy', 'BH061_20190315_Chest_CT_(contrast)_+_3D_(Chest_with_other_CT).npy', 'BH120_20200304_Chest_CT_(contrast)_+_3D.npy', 'BH105_20160820_Chest_CT_(contrast)_+_3D.npy', 'BH123_20201023_Chest_CT_(contrast)_+_3D_(Chest_with_other_CT).npy', 'BH005_20170701_Abdomen_&_pelvis_CT_(3D).npy', 'BH118_20200617_Liver_CT_(LC_or_CLD,_3D).npy', '000262_20190529_Chest_CT_(contrast).npy', 'BH013_20191001_Chest_CT_(contrast)_+_3D_(Chest_with_other_CT).npy', '000481_20200722_Chest_CT_(noncontrast).npy', 'BH012_20180401_Chest_CT_(contrast)_+_3D_(Chest_with_other_CT).npy', 'BH054_20191122_Abdomen^00_Liver_CT_(Adult).npy', '000011_20181207_CT_Abdomen+Pelvis_Post_(contrast).npy', 'BH059_20201013_Abdomen_&_pelvis_CT.npy', 'BH082_20200416_Chest_CT_(contrast)_+_3D.npy', 'BH010_20161101_Chest_CT_(contrast)_+_3D_(Breast_with_other_CT).npy', 'BH121_20200301_Abdomen_&_pelvis_CT_(3D).npy', 'SN007_20190701_Thorax^05_Chest_Lung_Cancer_3D_(Adult).npy', '000409_20200310_Chest_CT_(contrast).npy', 'BH111_20161020_CT_Angio_+_3D_Coronary,_Chest.npy', 'SN031_20160501_CT_Abdomen+Pelvis_Ar.npy', 'BH118_20200702_Chest_CT_(contrast)_+_3D.npy', '000560_20210706_Chest_CT_(contrast).npy', '000322_20190901_CT_Abdomen+Pelvis_Dynamic_(contrast).npy', '000048_20190501_CT_Abdomen+Pelvis_Uro_(contrast).npy', 'SN019_20190801_CT_Chest_+_3D_(contr.npy', '000506_20201110_CT_Urography_(contrast).npy', '000423_20200407_Chest_CT_(contrast).npy', 'BH032_20180701_Chest_CT_(contrast)_+_3D_(Breast_with_other_CT).npy', 'KH033_20210701_Chest(+).npy', 'BH106_20200613_Abdomen_&_pelvis_CT_(3D).npy', 'BH114_20180920_GU_Kidney_&_bladder_CT_(3D).npy', 'BH008_20190701_Abdomen_&_pelvis_CT_(3D).npy', 'BH067_20191017_Chest_CT_(contrast)_+_3D_(Chest_with_other_CT).npy', '000475_20210210_Chest_CT_(contrast).npy', '000417_20200331_Chest_CT_(contrast).npy', 'BH026_20190601_Abdomen_&_pelvis_CT_(3D).npy', '000262_20190319_CT_Abdomen+Pelvis_Dynamic_(contrast).npy', 'BH008_20190701_Chest_CT_(contrast)_+_3D_(Chest_with_other_CT).npy', 'BH015_20190101_Abdomen_&_pelvis_CT_(3D).npy', 'BH090_20200924_Abdomen_&_pelvis_CT.npy', 'BH089_20200803_Chest_CT_(Contrast)_+_3D(TS).npy', '000305_20190801_CT_Acute_Abdomen_(contrast).npy', 'BH106_20200613_Chest_CT_(contrast)_+_3D_(Breast_with_other_CT).npy', 'BH120_20200406_Abdomen_&_pelvis_CT_(3D).npy', '000278_20190620_Chest_CT_(contrast).npy', 'BH012_20180401_Abdomen_&_pelvis_CT_(3D).npy', 'SN002_20190801_CT_Chest_+_3D_(contr.npy', 'BH016_20151001_Chest_CT_(contrast)_+_3D_(Chest_with_other_CT).npy', '000560_20210706_CT_Abdomen+Pelvis_Dynamic_(contrast).npy', 'KH032_20210701_Chest(+).npy', 'BH064_20200605_Abdomen_&_pelvis_CT_(3D).npy', '000352_20191001_CT_Abdomen+Pelvis_Dynamic_(contrast).npy', '000424_20200312_Chest_CT_(noncontrast).npy', '000269_20190325_CT_Abdomen+Pelvis_Dynamic_(contrast).npy', 'BH107_20200510_Chest_CT_(Contrast)_+_3D(TS).npy', 'SN005_20191001_Abdomen^03_LIVER_(Adult).npy', '000242_20190409_Chest_CT_(contrast).npy', 'BH010_20161101_Abdomen_&_pelvis_CT_(3D).npy', '000291_20190718_Chest_CT_(contrast).npy', '000296_20190726_Chest_CT_(contrast).npy', 'BH081_20190322_Abdomen_&_pelvis_CT_(3D).npy', 'KH030_20210901_Chest_Low-Dose_Screeni.npy', 'KH036_20210401_Chest(+).npy', '000330_20190926_Chest_CT_(contrast).npy', 'KH010_20201201_Chest(+)_+_Abdomen_&_P.npy', '000362_20191214_Chest_CT_(contrast).npy', 'KH028_20210401_Thorax^00_Fl_Chest_Routine_(Adult).npy', 'KH040_20210301_Chest(+).npy', 'SN051_20170401_CT_Abdomen+Pelvis_Arterial+Portal_(contrast).npy', '000400_20200201_CT_Biliary_(contrast).npy', '000368_20200101_CT_Abdomen+Pelvis_Dynamic_(contrast).npy', '000302_20190726_Chest_CT_(contrast).npy', 'BH048_20190501_Chest_CT_(contrast)_+_3D_(Breast_with_other_CT).npy', 'BH078_20200522_Abdomen_&_pelvis_CT_(3D).npy', '000269_20181016_CT_Abdomen+Pelvis_Dynamic_(contrast).npy', '000352_20191017_Chest_CT_(contrast).npy', '000356_20190901_CT_Abdomen+Pelvis_Dynamic_(contrast).npy', 'BH104_20161219_Abdomen_&_pelvis_CT_(3D).npy', 'BH075_20200721_Chest_CT_(Contrast)_+_3D(Breast).npy', 'BH029_20200101_Chest_HRCT_(lung_cancer).npy', '000069_20180319_Chest_CT_(contrast).npy', '000025_20180808_Chest_CT_(contrast).npy', '000270_20190608_Chest_CT_(contrast).npy', '000409_20200301_CT_Biliary_(contrast).npy', 'BH073_20201223_Abdomen_&_pelvis_CT.npy', 'BH113_20170914_Liver_CT_(LC_or_CLD,_3D).npy', '000212_20190324_Chest_CT_(noncontrast).npy', '000494_20210405_Chest_CT_(contrast).npy', 'BH108_20180223_Liver_CT_(LC_or_CLD,_3D).npy', 'SN042_20170901_CT_Abdomen+Pelvis_3D.npy', '000492_20210401_CT_Abdomen+Pelvis_Pre-Post_(contrast).npy', 'KH025_20211001_Chest(+).npy', '000021_20181227_Chest_CT_(contrast).npy', '000332_20191001_CT_Abdomen+Pelvis_Dynamic_(contrast).npy', '000391_20200216_Thoracic_Aorta_CT_Angio+3D_(contrast).npy', '000372_20200101_CT_Abdomen+Pelvis_Dynamic_(contrast).npy', 'SN012_20150801_Abdomen^01_Abdomen_Pelvis_Chest_(Adult).npy', 'SN054_20170201_CT_Chest_Lung_cancer+3D(contrast).npy', '000011_20181207_Chest_CT_(contrast).npy', 'BH070_20160823_Chest_CT_(contrast)_+_3D_(Chest_with_other_CT).npy', 'KH024_20211001_Chest(+).npy', 'BH074_20201113_Abdomen^00_Abd_CT_(Adult).npy', '000291_20190701_CT_Abdomen+Pelvis_Dynamic_(contrast).npy', 'BH109_20181210_Chest_CT_(contrast)_+_3D_(Breast_with_other_CT).npy', '000376_20200101_CT_Abdomen+Pelvis_Dynamic_(contrast).npy', 'BH117_20180506_Abdomen_&_pelvis_CT_(3D).npy', 'BH043_20191001_Chest_CT_(contrast)_+_3D_(Chest_with_other_CT).npy', 'KH009_20200801_Chest(+).npy', '000376_20200114_Chest_CT_(contrast).npy', '000400_20200210_Chest_CT_(contrast).npy', '000269_20181214_CT_Abdomen+Pelvis_Dynamic_(contrast).npy', 'BH037_20171125_Chest_CT_(contrast)_+_3D_(Chest_with_other_CT).npy', 'KH007_20200601_Chest(+).npy', '000025_20180808_CT_Abdomen+Pelvis_Dynamic_(contrast).npy', '000301_20190801_CT_Acute_Abdomen_(contrast).npy', '000309_20190801_CT_Abdomen+Pelvis_Dynamic_(contrast).npy', 'BH076_20180605_GU_Abdomen_&_pelvis_CT_(3D).npy', 'BH007_20190801_Chest_CT_(contrast)_+_3D_(Chest_with_other_CT).npy', '000557_20210621_CT_Abdomen+Pelvis_Post_(contrast).npy', 'BH079_20200921_Low_dose_Chest_CT_+_3D(insured).npy', 'BH119_20200227_Chest_CT_(contrast)_+_3D.npy', 'BH066_20190525_Chest_CT_(contrast)_+_3D_(Chest_with_other_CT).npy', 'BH045_20181001_Chest_CT_(contrast)_+_3D_(Chest_with_other_CT).npy', '000282_20190410_CT_Abdomen+Pelvis_Dynamic_(contrast).npy', 'BH051_20190301_GU_Kidney_&_bladder_CT_(3D).npy', '000557_20210621_Chest_CT_(contrast).npy', 'BH098_20200626_GU_Kidney_&_bladder_CT_(3D).npy', '000304_20190124_CT_Liver_(contrast).npy', '000466_20210125_Chest_CT_(contrast).npy', '000272_20190614_Chest_CT_(contrast).npy', 'KH009_20200801_Chest(+)_+_Abdomen_&_Pelvis_(+).npy', '000541_20210520_Chest_CT_(contrast).npy', '000435_20200420_Chest_CT_(contrast).npy', '000481_20210409_CT_Liver_(contrast).npy', 'BH087_20190314_Abdomen_&_pelvis_CT_(3D).npy', '000533_20210507_CT_Liver_(contrast).npy', '000404_20200305_Chest_CT_(contrast).npy', 'BH007_20190801_Abdomen_&_pelvis_CT_(3D).npy', '000308_20190826_Chest_CT_(contrast).npy', 'KH038_20210401_Chest(+).npy', 'BH034_20190901_Chest_CT_(contrast)_+_3D_(Chest_with_other_CT).npy', '000344_20191125_Chest_CT_(contrast).npy', 'BH116_20180606_Chest_CT_(contrast)_+_3D_(Breast_with_other_CT).npy', 'KH002_20210301_Thorax^00_Fl_Chest_Routine_(Adult).npy']\n",
    "VAL_FILES = ['BH099_20200806_Abdomen_&_pelvis_CT.npy', '000019_20181018_Chest_CT_(contrast).npy', 'SN017_20190701_Thorax^05_Chest_Lung_Cancer_3D_(Adult).npy', '000251_20190429_Chest_CT_(contrast).npy', 'SN035_20180101_CT_Stomach+Pelvis_Arterial+Portal(contrast).npy', '000232_20190423_Chest_CT_(contrast).npy', 'BH027_20191001_Chest_CT_(Contrast)_+_3D(TS).npy', 'BH040_20200101_CT_Angio_+_3D_Pulmonary_artery_(Embolism).npy', 'BH024_20190501_Chest_CT_(contrast)_+_3D_(Breast_with_other_CT).npy', 'BH027_20191001_L-spine_CT_(3D).npy', '000286_20190710_[외부_CT_19-07-10]Chest_CT_contrast.npy', '000232_20190401_CT_Abdomen+Pelvis_Dynamic_(contrast).npy', '000251_20190701_CT_Abdomen+Pelvis_Dynamic_(contrast).npy', 'BH099_20200806_Chest_CT_(contrast)_+_3D_(Chest_with_other_CT).npy', '000285_20190807_Chest_CT_(contrast).npy', 'BH024_20190501_Abdomen_&_pelvis_CT_(3D).npy', 'BH021_20181001_Abdomen_&_pelvis_CT_(3D).npy', '000316_20190715_Spine^L_SPINE_(Adult).npy', '000193_20190114_Chest_CT_(contrast).npy', 'SN056_20170601_Thorax^01_Lung_Cancer_3D_(Adult).npy', '000316_20190627_Chest_CT_(contrast).npy', '000251_20190703_Chest_CT_(contrast).npy', 'BH110_20200616_Chest_CT_(contrast)_+_3D_(Chest_with_other_CT).npy', 'BH006_20170801_Chest_CT_(Contrast)_+_3D(Breast).npy', '000450_20200528_CT_Abdomen+Pelvis_Post_(contrast).npy', 'BH021_20181001_Chest_CT_(contrast)_+_3D_(Chest_with_other_CT).npy', 'BH065_20201013_Low_dose_Chest_CT_+_3D(insured).npy', '000019_20190601_CT_Abdomen+Pelvis_Dynamic_(contrast).npy', 'BH060_20200413_Chest_CT_(contrast)_+_3D.npy', 'SN016_20190901_CT_Abdomen+Pelvis_Ar.npy', '000450_20200512_Chest_CT_(contrast).npy', '000285_20190801_CT_Abdomen+Pelvis_Pre-Post_(contrast).npy', 'BH062_20201104_Chest_CT_(contrast)_+_3D_(Chest_with_other_CT).npy', '000251_20190429_CT_Abdomen+Pelvis_Dynamic_(contrast).npy', '000019_20190613_Chest_CT_(contrast).npy', 'SN004_20190901_CT_Chest_+_3D_(contrast).npy', '000286_20190701_CT_Abdomen+Pelvis_Dynamic_(contrast).npy']\n",
    "TEST_FILES = ['000214_20190325_Chest_CT_(contrast).npy', '000234_20190401_CT_Abdomen+Pelvis_Dynamic_(contrast).npy', '000234_20190419_Chest_CT_(contrast).npy', '000236_20190401_CT_Abdomen+Pelvis_Post_(contrast).npy', '000244_20190501_CT_Abdomen+Pelvis_Post_(contrast).npy', '000255_20190418_Chest_CT_(contrast).npy', '000260_20190501_CT_Liver_(contrast).npy', '000260_20190522_Chest_CT_(contrast).npy', '000276_20190604_Chest_CT_(contrast).npy', '000281_20190701_Chest_CT_(contrast).npy', '000288_20190701_CT_Abdomen+Pelvis_Dynamic_(contrast).npy', '000298_20190726_Chest_CT_(contrast).npy', '000314_20190827_Chest_CT_(contrast).npy', '000314_20190901_CT_Acute_Abdomen_(contrast).npy', '000354_20191001_CT_Abdomen+Pelvis_Post_(contrast).npy', '000354_20191022_Chest_CT_(contrast).npy', '000355_20190901_CT_Abdomen+Pelvis_Dynamic_(contrast).npy', '000355_20191023_Chest_CT_(contrast).npy', '000383_20200121_Chest_CT_(contrast).npy', 'BH001_20190401_Chest_CT_(Non_contrast)_+_3D.npy', 'BH001_20190501_Abdomen_&_pelvis_CT_(3D).npy', 'BH009_20180301_Abdomen_&_pelvis_CT_(3D).npy', 'BH009_20180301_Chest_CT_(contrast)_+_3D_(TS_with_other_CT).npy', 'BH014_20181201_Abdomen_&_pelvis_CT_(3D).npy', 'BH014_20181201_Chest_CT_(contrast)_+_3D_(Chest_with_other_CT).npy', 'BH017_20191201_Abdomen_&_pelvis_CT_(3D).npy', 'BH017_20191201_Chest_CT_(contrast)_+_3D_(Chest_with_other_CT).npy', 'BH022_20190101_Thorax^03_Chest_NON_(Adult).npy', 'BH047_20180901_Abdomen_&_pelvis_CT_(3D).npy', 'BH047_20180901_Chest_CT_(contrast)_+_3D_(Chest_with_other_CT).npy', 'BH052_20190901_Abdomen_&_pelvis_CT_(3D).npy', 'BH052_20190901_Chest_CT_(contrast)_+_3D_(Chest_with_other_CT).npy', 'BH057_20191227_Abdomen_&_pelvis_CT_(3D).npy', 'BH057_20191227_Chest_CT_(contrast)_+_3D_(Chest_with_other_CT).npy', 'BH058_20180918_Chest_CT_(contrast)_+_3D.npy', 'BH112_20190201_Abdomen_&_pelvis_CT_(3D).npy', 'BH112_20190201_Chest_CT_(contrast)_+_3D_(Chest_with_other_CT).npy', 'SN016_20190901_CT_Chest_+_3D_(contr.npy', 'SN028_20160801_CT_Chest_+_3D_(contrast).npy']\n",
    "\n",
    "# EXCEPTIONS = ['BH040_20200101_CT Angio + 3D Pulmonary artery (Embolism).npy', 'BH040_20200101_CT Angio + 3D Pulmonary artery (Embolism) (2).npy'] # 모델에서 data info 만들때 가끔 오류남.\n",
    "EXCEPTIONS = '''000273_20190531_Chest_CT_(contrast).npy\n",
    "000439_20200624_Chest_CT_(contrast).npy\n",
    "000557_20210621_Chest_CT_(contrast).npy\n",
    "BH002_20190701_Chest_CT_(Non_contrast)_+_3D.npy\n",
    "BH091_20200104_Chest_CT_(contrast)_+_3D_(Chest_with_other_CT).npy\n",
    "BH091_20200104_Chest_CT_(contrast)_+_3D_(Chest_with_other_CT).npy\n",
    "000350_20191001_CT_Abdomen+Pelvis_Dynamic_(contrast).npy\n",
    "000352_20191017_Chest_CT_(contrast).npy\n",
    "000354_20191022_Chest_CT_(contrast).npy\n",
    "000391_20200216_Thoracic_Aorta_CT_Angio+3D_(contrast).npy\n",
    "BH027_20191001_L-spine_CT_(3D).npy\n",
    "000270_20190601_CT_Abdomen+Pelvis_Dynamic_(contrast).npy\n",
    "000270_20190608_Chest_CT_(contrast).npy\n",
    "BH040_20200101_CT_Angio_+_3D_Pulmonary_artery_(Embolism).npy\n",
    "BH118_20200617_Liver_CT_(LC_or_CLD,_3D).npy\n",
    "000424_20200312_Chest_CT_(noncontrast).npy\n",
    "000424_20200218_Chest_CT_(contrast).npy\n",
    "000325_20190919_Chest_CT_(contrast).npy\n",
    "BH069_20200505_Chest_CT_(contrast)_+_3D.npy'''.split('\\n')\n",
    "\n",
    "TRAIN_FILES = list(set(TRAIN_FILES).intersection(set(files)) - set(EXCEPTIONS))\n",
    "VAL_FILES = list(set(VAL_FILES).intersection(set(files)) - set(EXCEPTIONS))\n",
    "TEST_FILES = list(set(TEST_FILES).intersection(set(files)) - set(EXCEPTIONS))\n",
    "\n",
    "# TRAIN_FILES = TRAIN_FILES[:50]\n",
    "# VAL_FILES = VAL_FILES[:15]"
   ]
  },
  {
   "cell_type": "code",
   "execution_count": 16,
   "id": "8bf7f730",
   "metadata": {},
   "outputs": [
    {
     "data": {
      "text/plain": [
       "238"
      ]
     },
     "execution_count": 16,
     "metadata": {},
     "output_type": "execute_result"
    }
   ],
   "source": [
    "len(TRAIN_FILES)"
   ]
  },
  {
   "cell_type": "code",
   "execution_count": 17,
   "id": "272de36e",
   "metadata": {},
   "outputs": [
    {
     "data": {
      "text/plain": [
       "311"
      ]
     },
     "execution_count": 17,
     "metadata": {},
     "output_type": "execute_result"
    }
   ],
   "source": [
    "238 + 35 + 38"
   ]
  },
  {
   "cell_type": "code",
   "execution_count": null,
   "id": "25086a04",
   "metadata": {},
   "outputs": [],
   "source": []
  },
  {
   "cell_type": "code",
   "execution_count": 19,
   "id": "50ccc6b4",
   "metadata": {},
   "outputs": [],
   "source": [
    "train_only = ['000391_20200216_Thoracic Aorta CT Angio+3D (contrast).npy',\n",
    "'BH040_20200101_CT Angio + 3D Pulmonary artery (Embolism) (2).npy',\n",
    "'000301_20190801_Pulmonary artery CT Angio+3D (contrast).npy', \n",
    "'000301_20190801_abdomen.npy', \n",
    "'000301_20190827_chest.npy',\n",
    "'000273_20190531_chest', '000325_20190919_chest', 'SN002_20190801_abdomen', 'BH069_20200505_chest', 'SN029_20200301_abdomen']\n",
    "train_only_subjects = [name.split('_')[0] for name in train_only]"
   ]
  },
  {
   "cell_type": "code",
   "execution_count": 20,
   "id": "0540a638",
   "metadata": {},
   "outputs": [
    {
     "data": {
      "text/plain": [
       "['000391',\n",
       " 'BH040',\n",
       " '000301',\n",
       " '000301',\n",
       " '000301',\n",
       " '000273',\n",
       " '000325',\n",
       " 'SN002',\n",
       " 'BH069',\n",
       " 'SN029']"
      ]
     },
     "execution_count": 20,
     "metadata": {},
     "output_type": "execute_result"
    }
   ],
   "source": [
    "train_only_subjects"
   ]
  },
  {
   "cell_type": "code",
   "execution_count": 24,
   "id": "58b290e8",
   "metadata": {},
   "outputs": [
    {
     "data": {
      "text/plain": [
       "['SN029_20200301_CT_Chest_+_3D_(contrast).npy',\n",
       " '000301_20190801_CT_Acute_Abdomen_(contrast).npy',\n",
       " '000391_20200216_Thoracic_Aorta_CT_Angio+3D_(contrast).npy',\n",
       " '000301_20190801_Pulmonary_artery_CT_Angio+3D_(contrast).npy',\n",
       " 'SN029_20200301_CT_Pelvis_&_Abdomen_(URO_&_GY)_(3P)_(contrast).npy',\n",
       " 'SN002_20190801_CT_Chest_+_3D_(contr.npy',\n",
       " '000325_20190919_Chest_CT_(contrast).npy',\n",
       " 'BH040_20200101_CT_Angio_+_3D_Pulmonary_artery_(Embolism).npy',\n",
       " '000301_20190827_Chest_CT_(contrast).npy',\n",
       " 'SN002_20190801_CT_Abdomen+Pelvis_Ar.npy',\n",
       " 'BH069_20200505_Chest_CT_(contrast)_+_3D.npy']"
      ]
     },
     "execution_count": 24,
     "metadata": {},
     "output_type": "execute_result"
    }
   ],
   "source": [
    "to_train_idx = pd.Series(files).str.startswith(tuple(train_only_subjects))\n",
    "to_train_files = list(pd.Series(files)[to_train_idx].values)\n",
    "to_train_files"
   ]
  },
  {
   "cell_type": "code",
   "execution_count": 30,
   "id": "d2d60580",
   "metadata": {},
   "outputs": [],
   "source": [
    "residual_file_set = set(files) - set(TRAIN_FILES) - set(VAL_FILES) - set(TEST_FILES) - set(to_train_files)\n",
    "residual_files = list(residual_file_set)"
   ]
  },
  {
   "cell_type": "code",
   "execution_count": null,
   "id": "16447ab9",
   "metadata": {},
   "outputs": [],
   "source": []
  },
  {
   "cell_type": "code",
   "execution_count": null,
   "id": "4e26de93",
   "metadata": {},
   "outputs": [],
   "source": []
  },
  {
   "cell_type": "code",
   "execution_count": 33,
   "id": "f33b503d",
   "metadata": {},
   "outputs": [],
   "source": [
    "def get_id(case_or_file):\n",
    "    return case_or_file.split('_')[0]"
   ]
  },
  {
   "cell_type": "code",
   "execution_count": 81,
   "id": "2440ea23",
   "metadata": {},
   "outputs": [
    {
     "data": {
      "text/plain": [
       "67"
      ]
     },
     "execution_count": 81,
     "metadata": {},
     "output_type": "execute_result"
    }
   ],
   "source": [
    "# 쪼갤 파일은 splitting_files,\n",
    "# id base 로 쪼개자. \n",
    "splitting_files = residual_files\n",
    "personal_ids = [get_id(file_name) for file_name in splitting_files]\n",
    "unique_ids = list(set(personal_ids))\n",
    "random_order_ids = np.random.permutation(unique_ids) \n",
    "len(random_order_ids)"
   ]
  },
  {
   "cell_type": "code",
   "execution_count": 88,
   "id": "76931a39",
   "metadata": {},
   "outputs": [],
   "source": [
    "train_ids = random_order_ids[:63]\n",
    "val_ids = random_order_ids[63:]\n",
    "# test_ids = random_order_ids[135:]"
   ]
  },
  {
   "cell_type": "code",
   "execution_count": 89,
   "id": "d929cddc",
   "metadata": {},
   "outputs": [],
   "source": [
    "def get_files_by_ids(cases, ids):\n",
    "    case_by_id_idx = pd.Series(cases).str.startswith(tuple(ids))\n",
    "    return list(pd.Series(cases)[case_by_id_idx])"
   ]
  },
  {
   "cell_type": "code",
   "execution_count": 90,
   "id": "03980513",
   "metadata": {},
   "outputs": [],
   "source": [
    "train_files = get_files_by_ids(splitting_files, train_ids)\n",
    "val_files = get_files_by_ids(splitting_files, val_ids)\n",
    "# test_files = get_files_by_ids(splitting_files, test_ids)"
   ]
  },
  {
   "cell_type": "code",
   "execution_count": 91,
   "id": "716b24c6",
   "metadata": {},
   "outputs": [
    {
     "data": {
      "text/plain": [
       "38"
      ]
     },
     "execution_count": 91,
     "metadata": {},
     "output_type": "execute_result"
    }
   ],
   "source": [
    "len(TEST_FILES)"
   ]
  },
  {
   "cell_type": "code",
   "execution_count": 92,
   "id": "7452aed8",
   "metadata": {},
   "outputs": [
    {
     "data": {
      "text/plain": [
       "76"
      ]
     },
     "execution_count": 92,
     "metadata": {},
     "output_type": "execute_result"
    }
   ],
   "source": [
    "len(train_files)"
   ]
  },
  {
   "cell_type": "code",
   "execution_count": 93,
   "id": "4f2f2a17",
   "metadata": {},
   "outputs": [
    {
     "data": {
      "text/plain": [
       "5"
      ]
     },
     "execution_count": 93,
     "metadata": {},
     "output_type": "execute_result"
    }
   ],
   "source": [
    "len(val_files)"
   ]
  },
  {
   "cell_type": "code",
   "execution_count": 94,
   "id": "d824ee51",
   "metadata": {},
   "outputs": [
    {
     "data": {
      "text/plain": [
       "322"
      ]
     },
     "execution_count": 94,
     "metadata": {},
     "output_type": "execute_result"
    }
   ],
   "source": [
    "400-38-40"
   ]
  },
  {
   "cell_type": "code",
   "execution_count": 95,
   "id": "763ed882",
   "metadata": {},
   "outputs": [
    {
     "data": {
      "text/plain": [
       "['SN028_20160801_CT_Chest_+_3D_(contrast).npy',\n",
       " 'BH017_20191201_Abdomen_&_pelvis_CT_(3D).npy',\n",
       " 'BH022_20190101_Thorax^03_Chest_NON_(Adult).npy',\n",
       " 'BH047_20180901_Chest_CT_(contrast)_+_3D_(Chest_with_other_CT).npy',\n",
       " 'BH001_20190501_Abdomen_&_pelvis_CT_(3D).npy',\n",
       " '000355_20191023_Chest_CT_(contrast).npy',\n",
       " 'BH057_20191227_Chest_CT_(contrast)_+_3D_(Chest_with_other_CT).npy',\n",
       " 'BH009_20180301_Chest_CT_(contrast)_+_3D_(TS_with_other_CT).npy',\n",
       " 'SN016_20190901_CT_Chest_+_3D_(contr.npy',\n",
       " 'BH009_20180301_Abdomen_&_pelvis_CT_(3D).npy',\n",
       " 'BH001_20190401_Chest_CT_(Non_contrast)_+_3D.npy',\n",
       " '000383_20200121_Chest_CT_(contrast).npy',\n",
       " '000255_20190418_Chest_CT_(contrast).npy',\n",
       " '000244_20190501_CT_Abdomen+Pelvis_Post_(contrast).npy',\n",
       " '000276_20190604_Chest_CT_(contrast).npy',\n",
       " '000234_20190419_Chest_CT_(contrast).npy',\n",
       " 'BH052_20190901_Chest_CT_(contrast)_+_3D_(Chest_with_other_CT).npy',\n",
       " '000355_20190901_CT_Abdomen+Pelvis_Dynamic_(contrast).npy',\n",
       " 'BH014_20181201_Chest_CT_(contrast)_+_3D_(Chest_with_other_CT).npy',\n",
       " '000281_20190701_Chest_CT_(contrast).npy',\n",
       " 'BH057_20191227_Abdomen_&_pelvis_CT_(3D).npy',\n",
       " '000260_20190522_Chest_CT_(contrast).npy',\n",
       " '000214_20190325_Chest_CT_(contrast).npy',\n",
       " 'BH052_20190901_Abdomen_&_pelvis_CT_(3D).npy',\n",
       " 'BH112_20190201_Abdomen_&_pelvis_CT_(3D).npy',\n",
       " '000288_20190701_CT_Abdomen+Pelvis_Dynamic_(contrast).npy',\n",
       " '000260_20190501_CT_Liver_(contrast).npy',\n",
       " 'BH014_20181201_Abdomen_&_pelvis_CT_(3D).npy',\n",
       " '000234_20190401_CT_Abdomen+Pelvis_Dynamic_(contrast).npy',\n",
       " '000236_20190401_CT_Abdomen+Pelvis_Post_(contrast).npy',\n",
       " 'BH112_20190201_Chest_CT_(contrast)_+_3D_(Chest_with_other_CT).npy',\n",
       " 'BH047_20180901_Abdomen_&_pelvis_CT_(3D).npy',\n",
       " 'BH058_20180918_Chest_CT_(contrast)_+_3D.npy',\n",
       " '000314_20190901_CT_Acute_Abdomen_(contrast).npy',\n",
       " 'BH017_20191201_Chest_CT_(contrast)_+_3D_(Chest_with_other_CT).npy',\n",
       " '000298_20190726_Chest_CT_(contrast).npy',\n",
       " '000354_20191001_CT_Abdomen+Pelvis_Post_(contrast).npy',\n",
       " '000314_20190827_Chest_CT_(contrast).npy']"
      ]
     },
     "execution_count": 95,
     "metadata": {},
     "output_type": "execute_result"
    }
   ],
   "source": [
    "TEST_FILES"
   ]
  },
  {
   "cell_type": "code",
   "execution_count": 101,
   "id": "2053db35",
   "metadata": {},
   "outputs": [],
   "source": [
    "TRAIN_FILES = (TRAIN_FILES + train_files + to_train_files)"
   ]
  },
  {
   "cell_type": "code",
   "execution_count": 102,
   "id": "4592cc54",
   "metadata": {},
   "outputs": [],
   "source": [
    "VAL_FILES = (VAL_FILES + val_files)"
   ]
  },
  {
   "cell_type": "code",
   "execution_count": 104,
   "id": "859891c1",
   "metadata": {},
   "outputs": [
    {
     "name": "stdout",
     "output_type": "stream",
     "text": [
      "305 40 38\n"
     ]
    }
   ],
   "source": [
    "print(len(TRAIN_FILES), len(VAL_FILES), len(TEST_FILES))"
   ]
  },
  {
   "cell_type": "code",
   "execution_count": 103,
   "id": "69fd9088",
   "metadata": {},
   "outputs": [],
   "source": [
    "EXCEPTIONS = '''000273_20190531_Chest_CT_(contrast).npy\n",
    "000439_20200624_Chest_CT_(contrast).npy\n",
    "000557_20210621_Chest_CT_(contrast).npy\n",
    "BH002_20190701_Chest_CT_(Non_contrast)_+_3D.npy\n",
    "BH091_20200104_Chest_CT_(contrast)_+_3D_(Chest_with_other_CT).npy\n",
    "BH091_20200104_Chest_CT_(contrast)_+_3D_(Chest_with_other_CT).npy\n",
    "000350_20191001_CT_Abdomen+Pelvis_Dynamic_(contrast).npy\n",
    "000352_20191017_Chest_CT_(contrast).npy\n",
    "000354_20191022_Chest_CT_(contrast).npy\n",
    "000391_20200216_Thoracic_Aorta_CT_Angio+3D_(contrast).npy\n",
    "BH027_20191001_L-spine_CT_(3D).npy\n",
    "000270_20190601_CT_Abdomen+Pelvis_Dynamic_(contrast).npy\n",
    "000270_20190608_Chest_CT_(contrast).npy\n",
    "BH040_20200101_CT_Angio_+_3D_Pulmonary_artery_(Embolism).npy\n",
    "BH118_20200617_Liver_CT_(LC_or_CLD,_3D).npy\n",
    "000424_20200312_Chest_CT_(noncontrast).npy\n",
    "000424_20200218_Chest_CT_(contrast).npy\n",
    "000325_20190919_Chest_CT_(contrast).npy\n",
    "BH069_20200505_Chest_CT_(contrast)_+_3D.npy'''.split('\\n')\n",
    "\n",
    "TRAIN_FILES = list(set(TRAIN_FILES).intersection(set(files)) - set(EXCEPTIONS))\n",
    "VAL_FILES = list(set(VAL_FILES).intersection(set(files)) - set(EXCEPTIONS))\n",
    "TEST_FILES = list(set(TEST_FILES).intersection(set(files)) - set(EXCEPTIONS))"
   ]
  },
  {
   "cell_type": "code",
   "execution_count": 106,
   "id": "11de1bd0",
   "metadata": {},
   "outputs": [
    {
     "name": "stdout",
     "output_type": "stream",
     "text": [
      "\n",
      "TRAIN_FILES = ['000331_20190901_CT_Abdomen+Pelvis_Post_(contrast).npy', '000278_20190620_Chest_CT_(contrast).npy', '000386_20200204_Chest_CT_(contrast).npy', 'KH027_20210801_Chest(+).npy', 'BH089_20200803_Chest_CT_(Contrast)_+_3D(TS).npy', 'SN051_20170401_CT_Chest_+_3D_(contrast_NO_CM).npy', 'KH016_20191101_Chest(+).npy', 'BH070_20160823_Abdomen_&_pelvis_CT_(3D).npy', 'BH109_20181210_Chest_CT_(contrast)_+_3D_(Breast_with_other_CT).npy', 'BH061_20190315_Chest_CT_(contrast)_+_3D_(Chest_with_other_CT).npy', '000466_20210128_CT_Abdomen+Pelvis_Post_(contrast).npy', '000560_20210706_CT_Abdomen+Pelvis_Dynamic_(contrast).npy', 'SN013_20190401_CT_Pelvis_&_Abdomen.npy', 'KH033_20210701_Chest(+).npy', 'BH081_20190322_Abdomen_&_pelvis_CT_(3D).npy', 'BH051_20190301_Low_dose_Chest_CT_+_3D(insured).npy', 'BH095_20200727_Abdomen_&_pelvis_CT_(3D).npy', 'BH092_20201117_GU_Kidney_&_bladder_CT_(3D).npy', '000356_20190901_CT_Abdomen+Pelvis_Dynamic_(contrast).npy', '000382_20200129_Chest_CT_(contrast).npy', 'KH001_20210501_Chest(+).npy', '000309_20190823_Chest_CT_(contrast).npy', '000025_20180808_Chest_CT_(contrast).npy', 'SN042_20170901_CT_Abdomen+Pelvis_3D.npy', 'KH007_20200601_Chest(+)_+_Abdomen_&_Pelvis_(+).npy', 'BH015_20190101_Chest_CT_(contrast)_+_3D_(Breast_with_other_CT).npy', 'BH045_20181001_GU_Abdomen_&_pelvis_CT_(3D).npy', 'BH036_20180301_GU_Kidney_&_bladder_CT_(3D).npy', 'BH076_20180605_GU_Abdomen_&_pelvis_CT_(3D).npy', '000382_20200101_CT_Abdomen+Pelvis_Post_(contrast).npy', 'SN007_20190701_Thorax^05_Chest_Lung_Cancer_3D_(Adult).npy', '000396_20200201_CT_Abdomen+Pelvis_Dynamic_(contrast).npy', 'BH111_20161020_CT_Angio_+_3D_Coronary,_Chest.npy', 'BH016_20151001_Abdomen_&_pelvis_CT_(3D).npy', '000520_20200917_Chest_CT_(contrast).npy', '000352_20191001_CT_Abdomen+Pelvis_Dynamic_(contrast).npy', '000492_20210401_CT_Abdomen+Pelvis_Pre-Post_(contrast).npy', 'BH081_20190322_Chest_CT_(contrast)_+_3D_(Chest_with_other_CT).npy', 'KH010_20201201_Chest(+)_+_Abdomen_&_P.npy', 'BH013_20191001_Chest_CT_(contrast)_+_3D_(Chest_with_other_CT).npy', '000404_20200201_CT_Abdomen+Pelvis_Dynamic_(contrast).npy', '000423_20200401_CT_Abdomen+Pelvis_Dynamic_(contrast).npy', '000012_20181214_Chest_CT_(contrast).npy', 'KH039_20210301_Chest_(-)_Routine.npy', 'BH107_20200510_Chest_CT_(Contrast)_+_3D(TS).npy', '000466_20210125_Chest_CT_(contrast).npy', '000324_20190910_Chest_CT_(contrast).npy', 'BH076_20180605_Chest_CT_(contrast)_+_3D_(Chest_with_other_CT).npy', '000282_20190410_CT_Abdomen+Pelvis_Dynamic_(contrast).npy', 'BH061_20190315_Abdomen_&_pelvis_CT_(3D).npy', 'BH012_20180401_Abdomen_&_pelvis_CT_(3D).npy', 'BH056_20200721_Chest_CT_(contrast)_+_3D.npy', 'BH121_20200301_Abdomen_&_pelvis_CT_(3D).npy', 'BH025_20191101_Abdomen_&_pelvis_CT_(3D).npy', 'BH089_20200811_Abdomen_&_pelvis_CT.npy', '000344_20191125_Chest_CT_(contrast).npy', 'BH018_20190801_Chest_CT_(contrast)_+_3D_(Breast_with_other_CT).npy', 'SN004_20190801_CT_Abdomen+Pelvis_Ar.npy', 'BH119_20200303_Abdomen_&_pelvis_CT_(3D).npy', 'KH016_20191101_Chest(+)_+_Abdomen_&_Pelvis(+).npy', 'BH051_20190301_GU_Kidney_&_bladder_CT_(3D).npy', 'SN029_20200301_CT_Pelvis_&_Abdomen_(URO_&_GY)_(3P)_(contrast).npy', '000370_20200101_CT_Abdomen+Pelvis_Post_(contrast).npy', 'KH037_20210401_Chest(+).npy', 'KH010_20201201_Chest(+).npy', 'SN054_20170201_CT_Chest_Lung_cancer+3D(contrast).npy', '000212_20190324_Chest_CT_(noncontrast).npy', '000279_20190601_CT_Abdomen+Pelvis_Dynamic_(contrast).npy', 'BH010_20161101_Abdomen_&_pelvis_CT_(3D).npy', '000315_20190901_CT_Abdomen+Pelvis_Dynamic_(contrast).npy', 'BH114_20180920_Chest_CT_(contrast)_+_3D_(Chest_with_other_CT).npy', '000308_20190801_CT_Abdomen+Pelvis_Post_(contrast).npy', 'BH019_20191101_Thorax^02_Chest_CON_(Adult).npy', 'SN029_20200301_CT_Chest_+_3D_(contrast).npy', 'BH054_20191122_Abdomen^00_Liver_CT_(Adult).npy', 'BH028_20190801_Chest_CT_(contrast)_+_3D.npy', '000010_20181214_CT_Abdomen+Pelvis_Dynamic_(contrast).npy', 'BH078_20200522_Abdomen_&_pelvis_CT_(3D).npy', 'BH074_20201113_Abdomen^00_Abd_CT_(Adult).npy', '000272_20190601_CT_Abdomen+Pelvis_Dynamic_(contrast).npy', '000269_20190601_CT_Abdomen+Pelvis_Dynamic_(contrast).npy', '000396_20200218_Chest_CT_(contrast).npy', '000322_20190901_CT_Abdomen+Pelvis_Dynamic_(contrast).npy', 'BH108_20180228_Chest_CT_(contrast)_+_3D.npy', '000363_20191201_CT_Abdomen+Pelvis_Pre-Post_(contrast).npy', 'SN030_20191101_CT_Abdomen+Pelvis_Ar.npy', 'BH048_20190501_Chest_CT_(contrast)_+_3D_(Breast_with_other_CT).npy', '000510_20201120_Chest_CT_(contrast).npy', 'BH106_20200613_Chest_CT_(contrast)_+_3D_(Breast_with_other_CT).npy', 'BH071_20160826_Chest_CT_(contrast)_+_3D.npy', 'BH101_20201109_Chest_CT_(Contrast)_+_3D(TS).npy', '000269_20190325_CT_Abdomen+Pelvis_Dynamic_(contrast).npy', 'SN002_20190801_CT_Abdomen+Pelvis_Ar.npy', 'BH108_20180223_Liver_CT_(LC_or_CLD,_3D).npy', '000305_20190801_CT_Acute_Abdomen_(contrast).npy', 'BH034_20190923_GU_OBGY,Abd-pelvis_CT(pre&post)_(3D).npy', '000012_20181212_CT_Acute_Abdomen_(contrast).npy', '000566_20210526_CT_Abdomen+Pelvis_Post_(contrast).npy', 'BH116_20180606_GU_Abdomen_&_pelvis_CT_(3D).npy', '000362_20191214_Chest_CT_(contrast).npy', '000529_20210416_Chest_CT_(contrast).npy', 'BH043_20191001_Chest_CT_(contrast)_+_3D_(Chest_with_other_CT).npy', '000080_20180911_Chest_CT_(contrast).npy', 'BH034_20190901_Chest_CT_(contrast)_+_3D_(Chest_with_other_CT).npy', '000021_20181227_Chest_CT_(contrast).npy', 'BH063_20200519_Chest_CT_(Non_contrast)_+_3D(Breast).npy', '000510_20201124_CT_Abdomen+Pelvis_Dynamic_(contrast).npy', '000452_20200513_Chest_CT_(contrast).npy', 'BH083_20200629_Abdomen_&_pelvis_CT_(non-contrast_3D).npy', '000362_20191201_CT_Abdomen+Pelvis_Dynamic_(contrast).npy', '000262_20190501_CT_Abdomen+Pelvis_Post_(contrast).npy', '000400_20200210_Chest_CT_(contrast).npy', 'SN036_20190601_CT_Chest_+_3D_(contr.npy', 'BH105_20160820_Chest_CT_(contrast)_+_3D.npy', 'BH005_20170701_Abdomen_&_pelvis_CT_(3D).npy', '000011_20181207_Chest_CT_(contrast).npy', '000304_20190124_CT_Liver_(contrast).npy', '000481_20200722_Chest_CT_(noncontrast).npy', 'BH119_20200227_Chest_CT_(contrast)_+_3D.npy', '000282_20190701_CT_Abdomen+Pelvis_Post_(contrast).npy', '000269_20181214_CT_Abdomen+Pelvis_Dynamic_(contrast).npy', 'BH018_20190801_Abdomen_&_pelvis_CT_(3D).npy', 'BH012_20180401_Chest_CT_(contrast)_+_3D_(Chest_with_other_CT).npy', 'BH073_20201223_Chest_CT_(contrast)_+_3D_(Chest_with_other_CT).npy', 'BH123_20201023_Chest_CT_(contrast)_+_3D_(Chest_with_other_CT).npy', '000022_20180830_Chest_CT_(contrast).npy', '000085_20180829_Chest_CT_(contrast).npy', 'BH007_20190801_Abdomen_&_pelvis_CT_(3D).npy', '000436_20200401_CT_Abdomen+Pelvis_Dynamic_(contrast).npy', 'SN055_20170301_CT_Chest_Low_Dose_+.npy', '000372_20200101_CT_Abdomen+Pelvis_Dynamic_(contrast).npy', 'BH113_20170914_Liver_CT_(LC_or_CLD,_3D).npy', '000291_20190701_CT_Abdomen+Pelvis_Dynamic_(contrast).npy', '000481_20210305_Thorax^Lung_Pre_(Adult).npy', '000541_20210520_Chest_CT_(contrast).npy', '000417_20200331_Chest_CT_(contrast).npy', '000246_20190629_Chest_CT_(contrast).npy', 'BH023_20191101_Abdomen_&_pelvis_CT_(3D).npy', 'BH091_20200104_GU_Kidney_&_bladder_CT_(3D).npy', 'BH059_20201013_Abdomen_&_pelvis_CT.npy', '000350_20190927_Chest_CT_(contrast).npy', 'BH016_20151001_Chest_CT_(contrast)_+_3D_(Chest_with_other_CT).npy', 'KH030_20210901_Chest_Low-Dose_Screeni.npy', 'SN015_20190901_CT_Chest_+_3D_(contr.npy', '000048_20190501_CT_Abdomen+Pelvis_Uro_(contrast).npy', 'SN042_20170901_CT_Chest_+_3D_(contr.npy', '000009_20180417_Chest_CT_(contrast).npy', '000557_20210621_CT_Abdomen+Pelvis_Post_(contrast).npy', 'KH026_20210801_Chest(+).npy', 'KH042_20210501_Chest(+).npy', '000162_20180131_Chest_CT_(contrast).npy', 'BH020_20191201_Abdomen_&_pelvis_CT_(non-contrast_3D).npy', '000528_20210514_Chest_CT_(contrast).npy', 'BH004_20191101_Chest_CT_(contrast)_+_3D.npy', 'BH020_20191201_Chest_CT_(Non_contrast)_+_3D.npy', '000269_20181016_CT_Abdomen+Pelvis_Dynamic_(contrast).npy', '000223_20190319_Chest_CT_(contrast).npy', '000079_20180911_Pulmonary_artery_CT_Angio+3D_(contrast).npy', 'BH066_20190525_Chest_CT_(contrast)_+_3D_(Chest_with_other_CT).npy', 'BH104_20161219_Abdomen_&_pelvis_CT_(3D).npy', '000309_20190801_CT_Abdomen+Pelvis_Dynamic_(contrast).npy', '000301_20190801_Pulmonary_artery_CT_Angio+3D_(contrast).npy', '000322_20190913_Chest_CT_(contrast).npy', '000262_20190529_Chest_CT_(contrast).npy', '000530_20210428_CT_Abdomen+Pelvis_Dynamic_(contrast).npy', 'SN055_20170301_CT_Abdomen+Pelvis_Ar.npy', '000409_20200310_Chest_CT_(contrast).npy', 'BH032_20180701_Chest_CT_(contrast)_+_3D_(Breast_with_other_CT).npy', '000348_20191201_CT_Liver_(contrast).npy', 'KH007_20200601_Chest(+).npy', '000262_20190319_CT_Abdomen+Pelvis_Dynamic_(contrast).npy', 'BH106_20200613_Abdomen_&_pelvis_CT_(3D).npy', 'BH008_20190701_Abdomen_&_pelvis_CT_(3D).npy', '000370_20200117_Chest_CT_(contrast).npy', '000494_20210405_Chest_CT_(contrast).npy', 'BH037_20171125_Abdomen_&_pelvis_CT_(3D).npy', 'BH090_20200924_Abdomen_&_pelvis_CT.npy', 'KH009_20200801_Chest(+)_+_Abdomen_&_Pelvis_(+).npy', '000310_20190812_Chest_CT_(contrast).npy', '000475_20210210_Chest_CT_(contrast).npy', 'KH009_20200801_Chest(+).npy', 'KH038_20210401_Chest(+).npy', 'BH064_20200605_Chest_CT_(contrast)_+_3D_(Chest_with_other_CT).npy', '000530_20210428_Chest_CT_(contrast).npy', '000300_20190801_CT_Abdomen+Pelvis_Post_(contrast).npy', '000331_20190916_Chest_CT_(contrast).npy', 'BH085_20200801_Abdomen_&_pelvis_CT.npy', 'BH082_20200416_Chest_CT_(contrast)_+_3D.npy', '000025_20180808_CT_Abdomen+Pelvis_Dynamic_(contrast).npy', 'BH104_20161219_Chest_CT_(contrast)_+_3D_(Chest_with_other_CT).npy', '000506_20201113_Chest_CT_(contrast).npy', '000011_20181207_CT_Abdomen+Pelvis_Post_(contrast).npy', 'KH014_20190701_IM_Chest(+)_+_Abdomen_&_Pelvis_(+).npy', 'SN031_20160501_2-CT_Chest_Lung_cancer.npy', 'BH075_20200721_Chest_CT_(Contrast)_+_3D(Breast).npy', 'BH118_20200702_Chest_CT_(contrast)_+_3D.npy', 'KH028_20210401_Thorax^00_Fl_Chest_Routine_(Adult).npy', 'BH086_20190812_Chest_CT_(Contrast)_+_3D(TS).npy', 'BH070_20160823_Chest_CT_(contrast)_+_3D_(Chest_with_other_CT).npy', '000296_20190726_Chest_CT_(contrast).npy', 'BH087_20190314_Abdomen_&_pelvis_CT_(3D).npy', 'BH005_20170707_Chest_CT_(contrast)_+_3D_(Breast_with_other_CT).npy', '000311_20190902_Chest_CT_(contrast).npy', 'SN002_20190801_CT_Chest_+_3D_(contr.npy', '000330_20190926_Chest_CT_(contrast).npy', '000423_20200407_Chest_CT_(contrast).npy', 'BH043_20191001_Abdomen_&_pelvis_CT_(3D).npy', '000302_20190726_Chest_CT_(contrast).npy', 'KH002_20210301_Abdomen^00_AbdomenRoutine_(Adult).npy', 'BH015_20190101_Abdomen_&_pelvis_CT_(3D).npy', 'SN028_20160801_CT_Abdomen+Pelvis_3D_(contrast).npy', 'SN031_20160501_CT_Abdomen+Pelvis_Ar.npy', '000404_20200305_Chest_CT_(contrast).npy', 'SN005_20191101_CT_Chest_+_3D_(contr.npy', 'SN019_20190801_CT_Chest_+_3D_(contr.npy', 'BH008_20190701_Chest_CT_(contrast)_+_3D_(Chest_with_other_CT).npy', 'BH010_20161101_Chest_CT_(contrast)_+_3D_(Breast_with_other_CT).npy', '000005_20181202_CT_Abdomen+Pelvis_Dynamic_(contrast).npy', '000356_20191024_Chest_CT_(contrast).npy', 'KH040_20210301_Chest(+).npy', 'SN017_20190801_CT_Abdomen+Pelvis_Ar.npy', '000364_20191217_Chest_CT_(contrast).npy', 'BH035_20191101_GU_Kidney_&_bladder_CT_(3D).npy', '000560_20210706_Chest_CT_(contrast).npy', 'BH064_20200605_Abdomen_&_pelvis_CT_(3D).npy', '000279_20190614_Chest_3DCT_(contrast).npy', 'BH026_20190601_Abdomen_&_pelvis_CT_(3D).npy', '000376_20200101_CT_Abdomen+Pelvis_Dynamic_(contrast).npy', 'SN019_20190801_CT_Abdomen+Pelvis_Ar.npy', 'BH031_20160301_CT_Angio_+_3D_Pulmonary_artery_(Embolism).npy', 'KH024_20211001_Chest(+).npy', '000536_20210623_Chest_CT_(contrast).npy', 'BH067_20191017_Chest_CT_(contrast)_+_3D_(Chest_with_other_CT).npy', '000069_20180319_Chest_CT_(contrast).npy', '000272_20190614_Chest_CT_(contrast).npy', '000481_20210409_CT_Liver_(contrast).npy', '000376_20200114_Chest_CT_(contrast).npy', '000368_20200101_CT_Abdomen+Pelvis_Dynamic_(contrast).npy', 'BH121_20200301_Chest_CT_(contrast)_+_3D_(Chest_with_other_CT).npy', 'BH045_20181001_Chest_CT_(contrast)_+_3D_(Chest_with_other_CT).npy', 'BH080_20181210_Abdomen_&_pelvis_CT_(3D).npy', 'BH079_20200921_Low_dose_Chest_CT_+_3D(insured).npy', '000308_20190826_Chest_CT_(contrast).npy', '000332_20191025_Chest_CT_(contrast).npy', 'SN008_20190901_CT_Abdomen+Pelvis_Ar.npy', 'SN051_20170401_CT_Abdomen+Pelvis_Arterial+Portal_(contrast).npy', '000269_20190604_Chest_CT_(contrast).npy', '000262_20190318_Chest_CT_(contrast).npy', 'BH116_20180606_Chest_CT_(contrast)_+_3D_(Breast_with_other_CT).npy', 'BH117_20180506_Chest_CT_(contrast)_+_3D_(Chest_with_other_CT).npy', 'BH098_20200626_GU_Kidney_&_bladder_CT_(3D).npy', 'SN008_20190901_CT_Chest_+_3D_(contr.npy', '000452_20200513_CT_Abdomen+Pelvis_Dynamic_(contrast).npy', '000409_20200301_CT_Biliary_(contrast).npy', '000492_20210329_Chest_CT_(contrast).npy', 'BH073_20201223_Abdomen_&_pelvis_CT.npy', '000435_20200420_Chest_CT_(contrast).npy', 'BH072_20200219_Chest_CT_(contrast)_+_3D_(Chest_with_other_CT).npy', '000002_20180829_Chest_CT_(contrast).npy', '000506_20201110_CT_Urography_(contrast).npy', 'KH032_20210701_Chest(+).npy', '000224_20190228_Chest_CT_(contrast).npy', 'BH123_20201023_Abdomen_&_pelvis_CT.npy', '000301_20190827_Chest_CT_(contrast).npy', 'BH007_20190801_Chest_CT_(contrast)_+_3D_(Chest_with_other_CT).npy', '000091_20180504_Chest_CT_(contrast).npy', '000565_20210806_Chest_CT_(contrast).npy', 'KH002_20210301_Thorax^00_Fl_Chest_Routine_(Adult).npy', 'BH055_20200328_Abdomen_&_pelvis_CT_(3D).npy', 'SN012_20150801_Abdomen^01_Abdomen_Pelvis_Chest_(Adult).npy', 'SN025_20200401_CT_Abdomen+Pelvis_Ar.npy', 'BH120_20200406_Chest_CT_(contrast)_+_3D_(Chest_with_other_CT).npy', '000332_20191001_CT_Abdomen+Pelvis_Dynamic_(contrast).npy', 'SN015_20190901_CT_Abdomen_+_Pelvis.npy', 'BH072_20200219_Abdomen_&_pelvis_CT_(3D).npy', '000301_20190801_CT_Acute_Abdomen_(contrast).npy', '000242_20190409_Chest_CT_(contrast).npy', 'BH023_20191101_Chest_CT_(contrast)_+_3D_(Chest_with_other_CT).npy', 'KH025_20211001_Chest(+).npy', 'KH014_20190701_Chest(+).npy', '000397_20200214_Chest_CT_(contrast).npy', 'BH055_20200328_Chest_CT_(contrast)_+_3D_(Chest_with_other_CT).npy', '000435_20200401_CT_Abdomen+Pelvis_Dynamic_(contrast).npy', 'SN007_20190801_CT_Abdomen+Pelvis_Ar.npy', 'BH037_20171125_Chest_CT_(contrast)_+_3D_(Chest_with_other_CT).npy', 'KH023_20210901_Chest(+).npy', '000363_20191222_Chest_3DCT_(contrast).npy', 'BH120_20200406_Abdomen_&_pelvis_CT_(3D).npy', 'BH100_20201007_Thorax^02_Chest_CON_(Adult).npy', 'BH117_20180506_Abdomen_&_pelvis_CT_(3D).npy', 'KH031_20210801_Chest(+).npy', '000533_20210507_CT_Liver_(contrast).npy', 'BH032_20180701_Abdomen_&_pelvis_CT_(3D).npy', 'BH098_20200626_Chest_CT_(contrast)_+_3D_(Chest_with_other_CT).npy', 'BH029_20200101_Chest_HRCT_(lung_cancer).npy', '000533_20210521_Chest_CT_(contrast).npy', 'BH114_20180920_GU_Kidney_&_bladder_CT_(3D).npy', 'KH043_20210601_Thorax^00_Fl_Chest_Routine_(Adult).npy', 'SN005_20191001_Abdomen^03_LIVER_(Adult).npy', '000291_20190718_Chest_CT_(contrast).npy', 'SN025_20200401_CT_Chest_+_3D_(contr.npy', 'BH120_20200304_Chest_CT_(contrast)_+_3D.npy', '000304_20190124_Chest_CT_(contrast).npy', 'KH036_20210401_Chest(+).npy', '000400_20200201_CT_Biliary_(contrast).npy']\n",
      "VAL_FILES = ['BH024_20190501_Chest_CT_(contrast)_+_3D_(Breast_with_other_CT).npy', 'SN056_20170601_Thorax^01_Lung_Cancer_3D_(Adult).npy', '000486_20210309_Chest_CT_(contrast).npy', '000286_20190701_CT_Abdomen+Pelvis_Dynamic_(contrast).npy', 'SN016_20190901_CT_Abdomen+Pelvis_Ar.npy', '000494_20210405_CT_Acute_Abdomen_(contrast).npy', '000316_20190715_Spine^L_SPINE_(Adult).npy', '000450_20200512_Chest_CT_(contrast).npy', 'BH062_20201104_Chest_CT_(contrast)_+_3D_(Chest_with_other_CT).npy', '000285_20190807_Chest_CT_(contrast).npy', 'BH110_20200616_Abdomen_&_pelvis_CT_(3D).npy', 'SN017_20190701_Thorax^05_Chest_Lung_Cancer_3D_(Adult).npy', 'BH021_20181001_Chest_CT_(contrast)_+_3D_(Chest_with_other_CT).npy', 'BH059_20201019_Chest_CT_(contrast)_+_3D.npy', '000019_20190613_Chest_CT_(contrast).npy', '000486_20210322_CT_Abdomen+Pelvis_Dynamic_(contrast).npy', 'BH110_20200616_Chest_CT_(contrast)_+_3D_(Chest_with_other_CT).npy', 'BH060_20200413_Chest_CT_(contrast)_+_3D.npy', 'BH021_20181001_Abdomen_&_pelvis_CT_(3D).npy', '000450_20200528_CT_Abdomen+Pelvis_Post_(contrast).npy', '000193_20190114_Chest_CT_(contrast).npy', 'SN004_20190901_CT_Chest_+_3D_(contrast).npy', '000019_20190601_CT_Abdomen+Pelvis_Dynamic_(contrast).npy', 'BH006_20170801_Chest_CT_(Contrast)_+_3D(Breast).npy', 'BH099_20200806_Chest_CT_(contrast)_+_3D_(Chest_with_other_CT).npy', '000316_20190627_Chest_CT_(contrast).npy', 'BH024_20190501_Abdomen_&_pelvis_CT_(3D).npy', '000019_20181018_Chest_CT_(contrast).npy', 'BH099_20200806_Abdomen_&_pelvis_CT.npy', '000251_20190429_Chest_CT_(contrast).npy', '000232_20190401_CT_Abdomen+Pelvis_Dynamic_(contrast).npy', '000251_20190703_Chest_CT_(contrast).npy', 'BH065_20201013_Low_dose_Chest_CT_+_3D(insured).npy', 'SN035_20180101_CT_Stomach+Pelvis_Arterial+Portal(contrast).npy', '000251_20190701_CT_Abdomen+Pelvis_Dynamic_(contrast).npy', '000232_20190423_Chest_CT_(contrast).npy', 'BH027_20191001_Chest_CT_(Contrast)_+_3D(TS).npy', '000251_20190429_CT_Abdomen+Pelvis_Dynamic_(contrast).npy', '000286_20190710_[외부_CT_19-07-10]Chest_CT_contrast.npy', '000285_20190801_CT_Abdomen+Pelvis_Pre-Post_(contrast).npy']\n",
      "TEST_FILES = ['SN028_20160801_CT_Chest_+_3D_(contrast).npy', 'BH017_20191201_Abdomen_&_pelvis_CT_(3D).npy', 'BH022_20190101_Thorax^03_Chest_NON_(Adult).npy', 'BH047_20180901_Chest_CT_(contrast)_+_3D_(Chest_with_other_CT).npy', 'BH001_20190501_Abdomen_&_pelvis_CT_(3D).npy', '000355_20191023_Chest_CT_(contrast).npy', 'BH057_20191227_Chest_CT_(contrast)_+_3D_(Chest_with_other_CT).npy', 'BH009_20180301_Chest_CT_(contrast)_+_3D_(TS_with_other_CT).npy', 'SN016_20190901_CT_Chest_+_3D_(contr.npy', 'BH009_20180301_Abdomen_&_pelvis_CT_(3D).npy', 'BH001_20190401_Chest_CT_(Non_contrast)_+_3D.npy', '000383_20200121_Chest_CT_(contrast).npy', '000255_20190418_Chest_CT_(contrast).npy', '000244_20190501_CT_Abdomen+Pelvis_Post_(contrast).npy', '000276_20190604_Chest_CT_(contrast).npy', '000234_20190419_Chest_CT_(contrast).npy', 'BH052_20190901_Chest_CT_(contrast)_+_3D_(Chest_with_other_CT).npy', '000355_20190901_CT_Abdomen+Pelvis_Dynamic_(contrast).npy', 'BH014_20181201_Chest_CT_(contrast)_+_3D_(Chest_with_other_CT).npy', '000281_20190701_Chest_CT_(contrast).npy', 'BH057_20191227_Abdomen_&_pelvis_CT_(3D).npy', '000260_20190522_Chest_CT_(contrast).npy', '000214_20190325_Chest_CT_(contrast).npy', 'BH052_20190901_Abdomen_&_pelvis_CT_(3D).npy', 'BH112_20190201_Abdomen_&_pelvis_CT_(3D).npy', '000288_20190701_CT_Abdomen+Pelvis_Dynamic_(contrast).npy', '000260_20190501_CT_Liver_(contrast).npy', 'BH014_20181201_Abdomen_&_pelvis_CT_(3D).npy', '000234_20190401_CT_Abdomen+Pelvis_Dynamic_(contrast).npy', '000236_20190401_CT_Abdomen+Pelvis_Post_(contrast).npy', 'BH112_20190201_Chest_CT_(contrast)_+_3D_(Chest_with_other_CT).npy', 'BH047_20180901_Abdomen_&_pelvis_CT_(3D).npy', 'BH058_20180918_Chest_CT_(contrast)_+_3D.npy', '000314_20190901_CT_Acute_Abdomen_(contrast).npy', 'BH017_20191201_Chest_CT_(contrast)_+_3D_(Chest_with_other_CT).npy', '000298_20190726_Chest_CT_(contrast).npy', '000354_20191001_CT_Abdomen+Pelvis_Post_(contrast).npy', '000314_20190827_Chest_CT_(contrast).npy']\n"
     ]
    }
   ],
   "source": [
    "print(f\"\"\"\n",
    "TRAIN_FILES = {TRAIN_FILES}\n",
    "VAL_FILES = {VAL_FILES}\n",
    "TEST_FILES = {TEST_FILES}\"\"\")"
   ]
  },
  {
   "cell_type": "code",
   "execution_count": null,
   "id": "f06c71fa",
   "metadata": {},
   "outputs": [],
   "source": [
    "## All results\n",
    "TRAIN_FILES = ['000331_20190901_CT_Abdomen+Pelvis_Post_(contrast).npy', '000278_20190620_Chest_CT_(contrast).npy', '000386_20200204_Chest_CT_(contrast).npy', 'KH027_20210801_Chest(+).npy', 'BH089_20200803_Chest_CT_(Contrast)_+_3D(TS).npy', 'SN051_20170401_CT_Chest_+_3D_(contrast_NO_CM).npy', 'KH016_20191101_Chest(+).npy', 'BH070_20160823_Abdomen_&_pelvis_CT_(3D).npy', 'BH109_20181210_Chest_CT_(contrast)_+_3D_(Breast_with_other_CT).npy', 'BH061_20190315_Chest_CT_(contrast)_+_3D_(Chest_with_other_CT).npy', '000466_20210128_CT_Abdomen+Pelvis_Post_(contrast).npy', '000560_20210706_CT_Abdomen+Pelvis_Dynamic_(contrast).npy', 'SN013_20190401_CT_Pelvis_&_Abdomen.npy', 'KH033_20210701_Chest(+).npy', 'BH081_20190322_Abdomen_&_pelvis_CT_(3D).npy', 'BH051_20190301_Low_dose_Chest_CT_+_3D(insured).npy', 'BH095_20200727_Abdomen_&_pelvis_CT_(3D).npy', 'BH092_20201117_GU_Kidney_&_bladder_CT_(3D).npy', '000356_20190901_CT_Abdomen+Pelvis_Dynamic_(contrast).npy', '000382_20200129_Chest_CT_(contrast).npy', 'KH001_20210501_Chest(+).npy', '000309_20190823_Chest_CT_(contrast).npy', '000025_20180808_Chest_CT_(contrast).npy', 'SN042_20170901_CT_Abdomen+Pelvis_3D.npy', 'KH007_20200601_Chest(+)_+_Abdomen_&_Pelvis_(+).npy', 'BH015_20190101_Chest_CT_(contrast)_+_3D_(Breast_with_other_CT).npy', 'BH045_20181001_GU_Abdomen_&_pelvis_CT_(3D).npy', 'BH036_20180301_GU_Kidney_&_bladder_CT_(3D).npy', 'BH076_20180605_GU_Abdomen_&_pelvis_CT_(3D).npy', '000382_20200101_CT_Abdomen+Pelvis_Post_(contrast).npy', 'SN007_20190701_Thorax^05_Chest_Lung_Cancer_3D_(Adult).npy', '000396_20200201_CT_Abdomen+Pelvis_Dynamic_(contrast).npy', 'BH111_20161020_CT_Angio_+_3D_Coronary,_Chest.npy', 'BH016_20151001_Abdomen_&_pelvis_CT_(3D).npy', '000520_20200917_Chest_CT_(contrast).npy', '000352_20191001_CT_Abdomen+Pelvis_Dynamic_(contrast).npy', '000492_20210401_CT_Abdomen+Pelvis_Pre-Post_(contrast).npy', 'BH081_20190322_Chest_CT_(contrast)_+_3D_(Chest_with_other_CT).npy', 'KH010_20201201_Chest(+)_+_Abdomen_&_P.npy', 'BH013_20191001_Chest_CT_(contrast)_+_3D_(Chest_with_other_CT).npy', '000404_20200201_CT_Abdomen+Pelvis_Dynamic_(contrast).npy', '000423_20200401_CT_Abdomen+Pelvis_Dynamic_(contrast).npy', '000012_20181214_Chest_CT_(contrast).npy', 'KH039_20210301_Chest_(-)_Routine.npy', 'BH107_20200510_Chest_CT_(Contrast)_+_3D(TS).npy', '000466_20210125_Chest_CT_(contrast).npy', '000324_20190910_Chest_CT_(contrast).npy', 'BH076_20180605_Chest_CT_(contrast)_+_3D_(Chest_with_other_CT).npy', '000282_20190410_CT_Abdomen+Pelvis_Dynamic_(contrast).npy', 'BH061_20190315_Abdomen_&_pelvis_CT_(3D).npy', 'BH012_20180401_Abdomen_&_pelvis_CT_(3D).npy', 'BH056_20200721_Chest_CT_(contrast)_+_3D.npy', 'BH121_20200301_Abdomen_&_pelvis_CT_(3D).npy', 'BH025_20191101_Abdomen_&_pelvis_CT_(3D).npy', 'BH089_20200811_Abdomen_&_pelvis_CT.npy', '000344_20191125_Chest_CT_(contrast).npy', 'BH018_20190801_Chest_CT_(contrast)_+_3D_(Breast_with_other_CT).npy', 'SN004_20190801_CT_Abdomen+Pelvis_Ar.npy', 'BH119_20200303_Abdomen_&_pelvis_CT_(3D).npy', 'KH016_20191101_Chest(+)_+_Abdomen_&_Pelvis(+).npy', 'BH051_20190301_GU_Kidney_&_bladder_CT_(3D).npy', 'SN029_20200301_CT_Pelvis_&_Abdomen_(URO_&_GY)_(3P)_(contrast).npy', '000370_20200101_CT_Abdomen+Pelvis_Post_(contrast).npy', 'KH037_20210401_Chest(+).npy', 'KH010_20201201_Chest(+).npy', 'SN054_20170201_CT_Chest_Lung_cancer+3D(contrast).npy', '000212_20190324_Chest_CT_(noncontrast).npy', '000279_20190601_CT_Abdomen+Pelvis_Dynamic_(contrast).npy', 'BH010_20161101_Abdomen_&_pelvis_CT_(3D).npy', '000315_20190901_CT_Abdomen+Pelvis_Dynamic_(contrast).npy', 'BH114_20180920_Chest_CT_(contrast)_+_3D_(Chest_with_other_CT).npy', '000308_20190801_CT_Abdomen+Pelvis_Post_(contrast).npy', 'BH019_20191101_Thorax^02_Chest_CON_(Adult).npy', 'SN029_20200301_CT_Chest_+_3D_(contrast).npy', 'BH054_20191122_Abdomen^00_Liver_CT_(Adult).npy', 'BH028_20190801_Chest_CT_(contrast)_+_3D.npy', '000010_20181214_CT_Abdomen+Pelvis_Dynamic_(contrast).npy', 'BH078_20200522_Abdomen_&_pelvis_CT_(3D).npy', 'BH074_20201113_Abdomen^00_Abd_CT_(Adult).npy', '000272_20190601_CT_Abdomen+Pelvis_Dynamic_(contrast).npy', '000269_20190601_CT_Abdomen+Pelvis_Dynamic_(contrast).npy', '000396_20200218_Chest_CT_(contrast).npy', '000322_20190901_CT_Abdomen+Pelvis_Dynamic_(contrast).npy', 'BH108_20180228_Chest_CT_(contrast)_+_3D.npy', '000363_20191201_CT_Abdomen+Pelvis_Pre-Post_(contrast).npy', 'SN030_20191101_CT_Abdomen+Pelvis_Ar.npy', 'BH048_20190501_Chest_CT_(contrast)_+_3D_(Breast_with_other_CT).npy', '000510_20201120_Chest_CT_(contrast).npy', 'BH106_20200613_Chest_CT_(contrast)_+_3D_(Breast_with_other_CT).npy', 'BH071_20160826_Chest_CT_(contrast)_+_3D.npy', 'BH101_20201109_Chest_CT_(Contrast)_+_3D(TS).npy', '000269_20190325_CT_Abdomen+Pelvis_Dynamic_(contrast).npy', 'SN002_20190801_CT_Abdomen+Pelvis_Ar.npy', 'BH108_20180223_Liver_CT_(LC_or_CLD,_3D).npy', '000305_20190801_CT_Acute_Abdomen_(contrast).npy', 'BH034_20190923_GU_OBGY,Abd-pelvis_CT(pre&post)_(3D).npy', '000012_20181212_CT_Acute_Abdomen_(contrast).npy', '000566_20210526_CT_Abdomen+Pelvis_Post_(contrast).npy', 'BH116_20180606_GU_Abdomen_&_pelvis_CT_(3D).npy', '000362_20191214_Chest_CT_(contrast).npy', '000529_20210416_Chest_CT_(contrast).npy', 'BH043_20191001_Chest_CT_(contrast)_+_3D_(Chest_with_other_CT).npy', '000080_20180911_Chest_CT_(contrast).npy', 'BH034_20190901_Chest_CT_(contrast)_+_3D_(Chest_with_other_CT).npy', '000021_20181227_Chest_CT_(contrast).npy', 'BH063_20200519_Chest_CT_(Non_contrast)_+_3D(Breast).npy', '000510_20201124_CT_Abdomen+Pelvis_Dynamic_(contrast).npy', '000452_20200513_Chest_CT_(contrast).npy', 'BH083_20200629_Abdomen_&_pelvis_CT_(non-contrast_3D).npy', '000362_20191201_CT_Abdomen+Pelvis_Dynamic_(contrast).npy', '000262_20190501_CT_Abdomen+Pelvis_Post_(contrast).npy', '000400_20200210_Chest_CT_(contrast).npy', 'SN036_20190601_CT_Chest_+_3D_(contr.npy', 'BH105_20160820_Chest_CT_(contrast)_+_3D.npy', 'BH005_20170701_Abdomen_&_pelvis_CT_(3D).npy', '000011_20181207_Chest_CT_(contrast).npy', '000304_20190124_CT_Liver_(contrast).npy', '000481_20200722_Chest_CT_(noncontrast).npy', 'BH119_20200227_Chest_CT_(contrast)_+_3D.npy', '000282_20190701_CT_Abdomen+Pelvis_Post_(contrast).npy', '000269_20181214_CT_Abdomen+Pelvis_Dynamic_(contrast).npy', 'BH018_20190801_Abdomen_&_pelvis_CT_(3D).npy', 'BH012_20180401_Chest_CT_(contrast)_+_3D_(Chest_with_other_CT).npy', 'BH073_20201223_Chest_CT_(contrast)_+_3D_(Chest_with_other_CT).npy', 'BH123_20201023_Chest_CT_(contrast)_+_3D_(Chest_with_other_CT).npy', '000022_20180830_Chest_CT_(contrast).npy', '000085_20180829_Chest_CT_(contrast).npy', 'BH007_20190801_Abdomen_&_pelvis_CT_(3D).npy', '000436_20200401_CT_Abdomen+Pelvis_Dynamic_(contrast).npy', 'SN055_20170301_CT_Chest_Low_Dose_+.npy', '000372_20200101_CT_Abdomen+Pelvis_Dynamic_(contrast).npy', 'BH113_20170914_Liver_CT_(LC_or_CLD,_3D).npy', '000291_20190701_CT_Abdomen+Pelvis_Dynamic_(contrast).npy', '000481_20210305_Thorax^Lung_Pre_(Adult).npy', '000541_20210520_Chest_CT_(contrast).npy', '000417_20200331_Chest_CT_(contrast).npy', '000246_20190629_Chest_CT_(contrast).npy', 'BH023_20191101_Abdomen_&_pelvis_CT_(3D).npy', 'BH091_20200104_GU_Kidney_&_bladder_CT_(3D).npy', 'BH059_20201013_Abdomen_&_pelvis_CT.npy', '000350_20190927_Chest_CT_(contrast).npy', 'BH016_20151001_Chest_CT_(contrast)_+_3D_(Chest_with_other_CT).npy', 'KH030_20210901_Chest_Low-Dose_Screeni.npy', 'SN015_20190901_CT_Chest_+_3D_(contr.npy', '000048_20190501_CT_Abdomen+Pelvis_Uro_(contrast).npy', 'SN042_20170901_CT_Chest_+_3D_(contr.npy', '000009_20180417_Chest_CT_(contrast).npy', '000557_20210621_CT_Abdomen+Pelvis_Post_(contrast).npy', 'KH026_20210801_Chest(+).npy', 'KH042_20210501_Chest(+).npy', '000162_20180131_Chest_CT_(contrast).npy', 'BH020_20191201_Abdomen_&_pelvis_CT_(non-contrast_3D).npy', '000528_20210514_Chest_CT_(contrast).npy', 'BH004_20191101_Chest_CT_(contrast)_+_3D.npy', 'BH020_20191201_Chest_CT_(Non_contrast)_+_3D.npy', '000269_20181016_CT_Abdomen+Pelvis_Dynamic_(contrast).npy', '000223_20190319_Chest_CT_(contrast).npy', '000079_20180911_Pulmonary_artery_CT_Angio+3D_(contrast).npy', 'BH066_20190525_Chest_CT_(contrast)_+_3D_(Chest_with_other_CT).npy', 'BH104_20161219_Abdomen_&_pelvis_CT_(3D).npy', '000309_20190801_CT_Abdomen+Pelvis_Dynamic_(contrast).npy', '000301_20190801_Pulmonary_artery_CT_Angio+3D_(contrast).npy', '000322_20190913_Chest_CT_(contrast).npy', '000262_20190529_Chest_CT_(contrast).npy', '000530_20210428_CT_Abdomen+Pelvis_Dynamic_(contrast).npy', 'SN055_20170301_CT_Abdomen+Pelvis_Ar.npy', '000409_20200310_Chest_CT_(contrast).npy', 'BH032_20180701_Chest_CT_(contrast)_+_3D_(Breast_with_other_CT).npy', '000348_20191201_CT_Liver_(contrast).npy', 'KH007_20200601_Chest(+).npy', '000262_20190319_CT_Abdomen+Pelvis_Dynamic_(contrast).npy', 'BH106_20200613_Abdomen_&_pelvis_CT_(3D).npy', 'BH008_20190701_Abdomen_&_pelvis_CT_(3D).npy', '000370_20200117_Chest_CT_(contrast).npy', '000494_20210405_Chest_CT_(contrast).npy', 'BH037_20171125_Abdomen_&_pelvis_CT_(3D).npy', 'BH090_20200924_Abdomen_&_pelvis_CT.npy', 'KH009_20200801_Chest(+)_+_Abdomen_&_Pelvis_(+).npy', '000310_20190812_Chest_CT_(contrast).npy', '000475_20210210_Chest_CT_(contrast).npy', 'KH009_20200801_Chest(+).npy', 'KH038_20210401_Chest(+).npy', 'BH064_20200605_Chest_CT_(contrast)_+_3D_(Chest_with_other_CT).npy', '000530_20210428_Chest_CT_(contrast).npy', '000300_20190801_CT_Abdomen+Pelvis_Post_(contrast).npy', '000331_20190916_Chest_CT_(contrast).npy', 'BH085_20200801_Abdomen_&_pelvis_CT.npy', 'BH082_20200416_Chest_CT_(contrast)_+_3D.npy', '000025_20180808_CT_Abdomen+Pelvis_Dynamic_(contrast).npy', 'BH104_20161219_Chest_CT_(contrast)_+_3D_(Chest_with_other_CT).npy', '000506_20201113_Chest_CT_(contrast).npy', '000011_20181207_CT_Abdomen+Pelvis_Post_(contrast).npy', 'KH014_20190701_IM_Chest(+)_+_Abdomen_&_Pelvis_(+).npy', 'SN031_20160501_2-CT_Chest_Lung_cancer.npy', 'BH075_20200721_Chest_CT_(Contrast)_+_3D(Breast).npy', 'BH118_20200702_Chest_CT_(contrast)_+_3D.npy', 'KH028_20210401_Thorax^00_Fl_Chest_Routine_(Adult).npy', 'BH086_20190812_Chest_CT_(Contrast)_+_3D(TS).npy', 'BH070_20160823_Chest_CT_(contrast)_+_3D_(Chest_with_other_CT).npy', '000296_20190726_Chest_CT_(contrast).npy', 'BH087_20190314_Abdomen_&_pelvis_CT_(3D).npy', 'BH005_20170707_Chest_CT_(contrast)_+_3D_(Breast_with_other_CT).npy', '000311_20190902_Chest_CT_(contrast).npy', 'SN002_20190801_CT_Chest_+_3D_(contr.npy', '000330_20190926_Chest_CT_(contrast).npy', '000423_20200407_Chest_CT_(contrast).npy', 'BH043_20191001_Abdomen_&_pelvis_CT_(3D).npy', '000302_20190726_Chest_CT_(contrast).npy', 'KH002_20210301_Abdomen^00_AbdomenRoutine_(Adult).npy', 'BH015_20190101_Abdomen_&_pelvis_CT_(3D).npy', 'SN028_20160801_CT_Abdomen+Pelvis_3D_(contrast).npy', 'SN031_20160501_CT_Abdomen+Pelvis_Ar.npy', '000404_20200305_Chest_CT_(contrast).npy', 'SN005_20191101_CT_Chest_+_3D_(contr.npy', 'SN019_20190801_CT_Chest_+_3D_(contr.npy', 'BH008_20190701_Chest_CT_(contrast)_+_3D_(Chest_with_other_CT).npy', 'BH010_20161101_Chest_CT_(contrast)_+_3D_(Breast_with_other_CT).npy', '000005_20181202_CT_Abdomen+Pelvis_Dynamic_(contrast).npy', '000356_20191024_Chest_CT_(contrast).npy', 'KH040_20210301_Chest(+).npy', 'SN017_20190801_CT_Abdomen+Pelvis_Ar.npy', '000364_20191217_Chest_CT_(contrast).npy', 'BH035_20191101_GU_Kidney_&_bladder_CT_(3D).npy', '000560_20210706_Chest_CT_(contrast).npy', 'BH064_20200605_Abdomen_&_pelvis_CT_(3D).npy', '000279_20190614_Chest_3DCT_(contrast).npy', 'BH026_20190601_Abdomen_&_pelvis_CT_(3D).npy', '000376_20200101_CT_Abdomen+Pelvis_Dynamic_(contrast).npy', 'SN019_20190801_CT_Abdomen+Pelvis_Ar.npy', 'BH031_20160301_CT_Angio_+_3D_Pulmonary_artery_(Embolism).npy', 'KH024_20211001_Chest(+).npy', '000536_20210623_Chest_CT_(contrast).npy', 'BH067_20191017_Chest_CT_(contrast)_+_3D_(Chest_with_other_CT).npy', '000069_20180319_Chest_CT_(contrast).npy', '000272_20190614_Chest_CT_(contrast).npy', '000481_20210409_CT_Liver_(contrast).npy', '000376_20200114_Chest_CT_(contrast).npy', '000368_20200101_CT_Abdomen+Pelvis_Dynamic_(contrast).npy', 'BH121_20200301_Chest_CT_(contrast)_+_3D_(Chest_with_other_CT).npy', 'BH045_20181001_Chest_CT_(contrast)_+_3D_(Chest_with_other_CT).npy', 'BH080_20181210_Abdomen_&_pelvis_CT_(3D).npy', 'BH079_20200921_Low_dose_Chest_CT_+_3D(insured).npy', '000308_20190826_Chest_CT_(contrast).npy', '000332_20191025_Chest_CT_(contrast).npy', 'SN008_20190901_CT_Abdomen+Pelvis_Ar.npy', 'SN051_20170401_CT_Abdomen+Pelvis_Arterial+Portal_(contrast).npy', '000269_20190604_Chest_CT_(contrast).npy', '000262_20190318_Chest_CT_(contrast).npy', 'BH116_20180606_Chest_CT_(contrast)_+_3D_(Breast_with_other_CT).npy', 'BH117_20180506_Chest_CT_(contrast)_+_3D_(Chest_with_other_CT).npy', 'BH098_20200626_GU_Kidney_&_bladder_CT_(3D).npy', 'SN008_20190901_CT_Chest_+_3D_(contr.npy', '000452_20200513_CT_Abdomen+Pelvis_Dynamic_(contrast).npy', '000409_20200301_CT_Biliary_(contrast).npy', '000492_20210329_Chest_CT_(contrast).npy', 'BH073_20201223_Abdomen_&_pelvis_CT.npy', '000435_20200420_Chest_CT_(contrast).npy', 'BH072_20200219_Chest_CT_(contrast)_+_3D_(Chest_with_other_CT).npy', '000002_20180829_Chest_CT_(contrast).npy', '000506_20201110_CT_Urography_(contrast).npy', 'KH032_20210701_Chest(+).npy', '000224_20190228_Chest_CT_(contrast).npy', 'BH123_20201023_Abdomen_&_pelvis_CT.npy', '000301_20190827_Chest_CT_(contrast).npy', 'BH007_20190801_Chest_CT_(contrast)_+_3D_(Chest_with_other_CT).npy', '000091_20180504_Chest_CT_(contrast).npy', '000565_20210806_Chest_CT_(contrast).npy', 'KH002_20210301_Thorax^00_Fl_Chest_Routine_(Adult).npy', 'BH055_20200328_Abdomen_&_pelvis_CT_(3D).npy', 'SN012_20150801_Abdomen^01_Abdomen_Pelvis_Chest_(Adult).npy', 'SN025_20200401_CT_Abdomen+Pelvis_Ar.npy', 'BH120_20200406_Chest_CT_(contrast)_+_3D_(Chest_with_other_CT).npy', '000332_20191001_CT_Abdomen+Pelvis_Dynamic_(contrast).npy', 'SN015_20190901_CT_Abdomen_+_Pelvis.npy', 'BH072_20200219_Abdomen_&_pelvis_CT_(3D).npy', '000301_20190801_CT_Acute_Abdomen_(contrast).npy', '000242_20190409_Chest_CT_(contrast).npy', 'BH023_20191101_Chest_CT_(contrast)_+_3D_(Chest_with_other_CT).npy', 'KH025_20211001_Chest(+).npy', 'KH014_20190701_Chest(+).npy', '000397_20200214_Chest_CT_(contrast).npy', 'BH055_20200328_Chest_CT_(contrast)_+_3D_(Chest_with_other_CT).npy', '000435_20200401_CT_Abdomen+Pelvis_Dynamic_(contrast).npy', 'SN007_20190801_CT_Abdomen+Pelvis_Ar.npy', 'BH037_20171125_Chest_CT_(contrast)_+_3D_(Chest_with_other_CT).npy', 'KH023_20210901_Chest(+).npy', '000363_20191222_Chest_3DCT_(contrast).npy', 'BH120_20200406_Abdomen_&_pelvis_CT_(3D).npy', 'BH100_20201007_Thorax^02_Chest_CON_(Adult).npy', 'BH117_20180506_Abdomen_&_pelvis_CT_(3D).npy', 'KH031_20210801_Chest(+).npy', '000533_20210507_CT_Liver_(contrast).npy', 'BH032_20180701_Abdomen_&_pelvis_CT_(3D).npy', 'BH098_20200626_Chest_CT_(contrast)_+_3D_(Chest_with_other_CT).npy', 'BH029_20200101_Chest_HRCT_(lung_cancer).npy', '000533_20210521_Chest_CT_(contrast).npy', 'BH114_20180920_GU_Kidney_&_bladder_CT_(3D).npy', 'KH043_20210601_Thorax^00_Fl_Chest_Routine_(Adult).npy', 'SN005_20191001_Abdomen^03_LIVER_(Adult).npy', '000291_20190718_Chest_CT_(contrast).npy', 'SN025_20200401_CT_Chest_+_3D_(contr.npy', 'BH120_20200304_Chest_CT_(contrast)_+_3D.npy', '000304_20190124_Chest_CT_(contrast).npy', 'KH036_20210401_Chest(+).npy', '000400_20200201_CT_Biliary_(contrast).npy']\n",
    "VAL_FILES = ['BH024_20190501_Chest_CT_(contrast)_+_3D_(Breast_with_other_CT).npy', 'SN056_20170601_Thorax^01_Lung_Cancer_3D_(Adult).npy', '000486_20210309_Chest_CT_(contrast).npy', '000286_20190701_CT_Abdomen+Pelvis_Dynamic_(contrast).npy', 'SN016_20190901_CT_Abdomen+Pelvis_Ar.npy', '000494_20210405_CT_Acute_Abdomen_(contrast).npy', '000316_20190715_Spine^L_SPINE_(Adult).npy', '000450_20200512_Chest_CT_(contrast).npy', 'BH062_20201104_Chest_CT_(contrast)_+_3D_(Chest_with_other_CT).npy', '000285_20190807_Chest_CT_(contrast).npy', 'BH110_20200616_Abdomen_&_pelvis_CT_(3D).npy', 'SN017_20190701_Thorax^05_Chest_Lung_Cancer_3D_(Adult).npy', 'BH021_20181001_Chest_CT_(contrast)_+_3D_(Chest_with_other_CT).npy', 'BH059_20201019_Chest_CT_(contrast)_+_3D.npy', '000019_20190613_Chest_CT_(contrast).npy', '000486_20210322_CT_Abdomen+Pelvis_Dynamic_(contrast).npy', 'BH110_20200616_Chest_CT_(contrast)_+_3D_(Chest_with_other_CT).npy', 'BH060_20200413_Chest_CT_(contrast)_+_3D.npy', 'BH021_20181001_Abdomen_&_pelvis_CT_(3D).npy', '000450_20200528_CT_Abdomen+Pelvis_Post_(contrast).npy', '000193_20190114_Chest_CT_(contrast).npy', 'SN004_20190901_CT_Chest_+_3D_(contrast).npy', '000019_20190601_CT_Abdomen+Pelvis_Dynamic_(contrast).npy', 'BH006_20170801_Chest_CT_(Contrast)_+_3D(Breast).npy', 'BH099_20200806_Chest_CT_(contrast)_+_3D_(Chest_with_other_CT).npy', '000316_20190627_Chest_CT_(contrast).npy', 'BH024_20190501_Abdomen_&_pelvis_CT_(3D).npy', '000019_20181018_Chest_CT_(contrast).npy', 'BH099_20200806_Abdomen_&_pelvis_CT.npy', '000251_20190429_Chest_CT_(contrast).npy', '000232_20190401_CT_Abdomen+Pelvis_Dynamic_(contrast).npy', '000251_20190703_Chest_CT_(contrast).npy', 'BH065_20201013_Low_dose_Chest_CT_+_3D(insured).npy', 'SN035_20180101_CT_Stomach+Pelvis_Arterial+Portal(contrast).npy', '000251_20190701_CT_Abdomen+Pelvis_Dynamic_(contrast).npy', '000232_20190423_Chest_CT_(contrast).npy', 'BH027_20191001_Chest_CT_(Contrast)_+_3D(TS).npy', '000251_20190429_CT_Abdomen+Pelvis_Dynamic_(contrast).npy', '000286_20190710_[외부_CT_19-07-10]Chest_CT_contrast.npy', '000285_20190801_CT_Abdomen+Pelvis_Pre-Post_(contrast).npy']\n",
    "TEST_FILES = ['SN028_20160801_CT_Chest_+_3D_(contrast).npy', 'BH017_20191201_Abdomen_&_pelvis_CT_(3D).npy', 'BH022_20190101_Thorax^03_Chest_NON_(Adult).npy', 'BH047_20180901_Chest_CT_(contrast)_+_3D_(Chest_with_other_CT).npy', 'BH001_20190501_Abdomen_&_pelvis_CT_(3D).npy', '000355_20191023_Chest_CT_(contrast).npy', 'BH057_20191227_Chest_CT_(contrast)_+_3D_(Chest_with_other_CT).npy', 'BH009_20180301_Chest_CT_(contrast)_+_3D_(TS_with_other_CT).npy', 'SN016_20190901_CT_Chest_+_3D_(contr.npy', 'BH009_20180301_Abdomen_&_pelvis_CT_(3D).npy', 'BH001_20190401_Chest_CT_(Non_contrast)_+_3D.npy', '000383_20200121_Chest_CT_(contrast).npy', '000255_20190418_Chest_CT_(contrast).npy', '000244_20190501_CT_Abdomen+Pelvis_Post_(contrast).npy', '000276_20190604_Chest_CT_(contrast).npy', '000234_20190419_Chest_CT_(contrast).npy', 'BH052_20190901_Chest_CT_(contrast)_+_3D_(Chest_with_other_CT).npy', '000355_20190901_CT_Abdomen+Pelvis_Dynamic_(contrast).npy', 'BH014_20181201_Chest_CT_(contrast)_+_3D_(Chest_with_other_CT).npy', '000281_20190701_Chest_CT_(contrast).npy', 'BH057_20191227_Abdomen_&_pelvis_CT_(3D).npy', '000260_20190522_Chest_CT_(contrast).npy', '000214_20190325_Chest_CT_(contrast).npy', 'BH052_20190901_Abdomen_&_pelvis_CT_(3D).npy', 'BH112_20190201_Abdomen_&_pelvis_CT_(3D).npy', '000288_20190701_CT_Abdomen+Pelvis_Dynamic_(contrast).npy', '000260_20190501_CT_Liver_(contrast).npy', 'BH014_20181201_Abdomen_&_pelvis_CT_(3D).npy', '000234_20190401_CT_Abdomen+Pelvis_Dynamic_(contrast).npy', '000236_20190401_CT_Abdomen+Pelvis_Post_(contrast).npy', 'BH112_20190201_Chest_CT_(contrast)_+_3D_(Chest_with_other_CT).npy', 'BH047_20180901_Abdomen_&_pelvis_CT_(3D).npy', 'BH058_20180918_Chest_CT_(contrast)_+_3D.npy', '000314_20190901_CT_Acute_Abdomen_(contrast).npy', 'BH017_20191201_Chest_CT_(contrast)_+_3D_(Chest_with_other_CT).npy', '000298_20190726_Chest_CT_(contrast).npy', '000354_20191001_CT_Abdomen+Pelvis_Post_(contrast).npy', '000314_20190827_Chest_CT_(contrast).npy']"
   ]
  },
  {
   "cell_type": "code",
   "execution_count": null,
   "id": "6f483c14",
   "metadata": {},
   "outputs": [],
   "source": []
  },
  {
   "cell_type": "code",
   "execution_count": 107,
   "id": "ee065bd4",
   "metadata": {},
   "outputs": [],
   "source": [
    "df = pd.read_csv('/workspace/DataInfo/data_info_VI_2022_04_21.csv')"
   ]
  },
  {
   "cell_type": "code",
   "execution_count": 113,
   "id": "54b0c030",
   "metadata": {},
   "outputs": [],
   "source": [
    "df2 = df.drop(['Data'], axis=1).drop_duplicates()"
   ]
  },
  {
   "cell_type": "code",
   "execution_count": 118,
   "id": "25188098",
   "metadata": {},
   "outputs": [
    {
     "data": {
      "text/plain": [
       "(240, 20)"
      ]
     },
     "execution_count": 118,
     "metadata": {},
     "output_type": "execute_result"
    }
   ],
   "source": [
    "idx = df2.Case.str.startswith(tuple([exception[:10] for exception in EXCEPTIONS]))\n",
    "df2.loc[idx,:].shape"
   ]
  },
  {
   "cell_type": "code",
   "execution_count": null,
   "id": "7da484ef",
   "metadata": {},
   "outputs": [],
   "source": []
  }
 ],
 "metadata": {
  "kernelspec": {
   "display_name": "Python 3",
   "language": "python",
   "name": "python3"
  },
  "language_info": {
   "codemirror_mode": {
    "name": "ipython",
    "version": 3
   },
   "file_extension": ".py",
   "mimetype": "text/x-python",
   "name": "python",
   "nbconvert_exporter": "python",
   "pygments_lexer": "ipython3",
   "version": "3.6.9"
  }
 },
 "nbformat": 4,
 "nbformat_minor": 5
}
