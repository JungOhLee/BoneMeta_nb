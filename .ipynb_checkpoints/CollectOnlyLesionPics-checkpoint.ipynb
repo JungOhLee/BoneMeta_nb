{
 "cells": [
  {
   "cell_type": "code",
   "execution_count": 6,
   "id": "ccbd7739",
   "metadata": {},
   "outputs": [
    {
     "name": "stdout",
     "output_type": "stream",
     "text": [
      "000002_20180829_chest\t 000009_20180417_chest\r\n",
      "000005_20181202_abdomen  000010_20181214_abdomen\r\n"
     ]
    }
   ],
   "source": [
    "!ls /workspace/_IV_images"
   ]
  },
  {
   "cell_type": "code",
   "execution_count": 7,
   "id": "991268ab",
   "metadata": {},
   "outputs": [],
   "source": [
    "def check_name(filename):\n",
    "    name_wo_ext = filename.split('.')[0]\n",
    "    in_parenthesis = name_wo_ext.split('_')[1]\n",
    "    no_parenthesis = in_parenthesis[1:-1]\n",
    "    print(no_parenthesis)\n",
    "    "
   ]
  },
  {
   "cell_type": "code",
   "execution_count": null,
   "id": "ce54555f",
   "metadata": {},
   "outputs": [],
   "source": [
    "import os.li"
   ]
  }
 ],
 "metadata": {
  "kernelspec": {
   "display_name": "Python 3",
   "language": "python",
   "name": "python3"
  },
  "language_info": {
   "codemirror_mode": {
    "name": "ipython",
    "version": 3
   },
   "file_extension": ".py",
   "mimetype": "text/x-python",
   "name": "python",
   "nbconvert_exporter": "python",
   "pygments_lexer": "ipython3",
   "version": "3.6.9"
  }
 },
 "nbformat": 4,
 "nbformat_minor": 5
}
